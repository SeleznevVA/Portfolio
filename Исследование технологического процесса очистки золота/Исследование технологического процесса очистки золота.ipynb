{
 "cells": [
  {
   "cell_type": "markdown",
   "metadata": {
    "toc": true
   },
   "source": [
    "<h1>Содержание<span class=\"tocSkip\"></span></h1>\n",
    "<div class=\"toc\"><ul class=\"toc-item\"><li><span><a href=\"#Подготовка-данных\" data-toc-modified-id=\"Подготовка-данных-1\"><span class=\"toc-item-num\">1&nbsp;&nbsp;</span>Подготовка данных</a></span><ul class=\"toc-item\"><li><span><a href=\"#Загрузка-данных\" data-toc-modified-id=\"Загрузка-данных-1.1\"><span class=\"toc-item-num\">1.1&nbsp;&nbsp;</span>Загрузка данных</a></span></li><li><span><a href=\"#Предобработка\" data-toc-modified-id=\"Предобработка-1.2\"><span class=\"toc-item-num\">1.2&nbsp;&nbsp;</span>Предобработка</a></span></li><li><span><a href=\"#Расчет-эффективности-обогащения-и-MAE.\" data-toc-modified-id=\"Расчет-эффективности-обогащения-и-MAE.-1.3\"><span class=\"toc-item-num\">1.3&nbsp;&nbsp;</span>Расчет эффективности обогащения и MAE.</a></span></li><li><span><a href=\"#Признаки,-исключеные-из-тестовой-выборки.\" data-toc-modified-id=\"Признаки,-исключеные-из-тестовой-выборки.-1.4\"><span class=\"toc-item-num\">1.4&nbsp;&nbsp;</span>Признаки, исключеные из тестовой выборки.</a></span></li></ul></li><li><span><a href=\"#Анализ-данных\" data-toc-modified-id=\"Анализ-данных-2\"><span class=\"toc-item-num\">2&nbsp;&nbsp;</span>Анализ данных</a></span><ul class=\"toc-item\"><li><span><a href=\"#Исследование-концентрации-металлов-на-каждом-технологическом-этапе.\" data-toc-modified-id=\"Исследование-концентрации-металлов-на-каждом-технологическом-этапе.-2.1\"><span class=\"toc-item-num\">2.1&nbsp;&nbsp;</span>Исследование концентрации металлов на каждом технологическом этапе.</a></span></li><li><span><a href=\"#Вывод:\" data-toc-modified-id=\"Вывод:-2.2\"><span class=\"toc-item-num\">2.2&nbsp;&nbsp;</span>Вывод:</a></span></li><li><span><a href=\"#Исследования-размера-гранул-в-обучабщей-и-тестовых-выборках.\" data-toc-modified-id=\"Исследования-размера-гранул-в-обучабщей-и-тестовых-выборках.-2.3\"><span class=\"toc-item-num\">2.3&nbsp;&nbsp;</span>Исследования размера гранул в обучабщей и тестовых выборках.</a></span></li><li><span><a href=\"#Вывод:\" data-toc-modified-id=\"Вывод:-2.4\"><span class=\"toc-item-num\">2.4&nbsp;&nbsp;</span>Вывод:</a></span></li><li><span><a href=\"#Исследование-общей-концентрации-на-разных-этапах.\" data-toc-modified-id=\"Исследование-общей-концентрации-на-разных-этапах.-2.5\"><span class=\"toc-item-num\">2.5&nbsp;&nbsp;</span>Исследование общей концентрации на разных этапах.</a></span></li><li><span><a href=\"#Вывод:\" data-toc-modified-id=\"Вывод:-2.6\"><span class=\"toc-item-num\">2.6&nbsp;&nbsp;</span>Вывод:</a></span></li></ul></li><li><span><a href=\"#Модель\" data-toc-modified-id=\"Модель-3\"><span class=\"toc-item-num\">3&nbsp;&nbsp;</span>Модель</a></span><ul class=\"toc-item\"><li><span><a href=\"#Подготовка-выборок.\" data-toc-modified-id=\"Подготовка-выборок.-3.1\"><span class=\"toc-item-num\">3.1&nbsp;&nbsp;</span>Подготовка выборок.</a></span></li><li><span><a href=\"#Функция-SMAPE.\" data-toc-modified-id=\"Функция-SMAPE.-3.2\"><span class=\"toc-item-num\">3.2&nbsp;&nbsp;</span>Функция SMAPE.</a></span></li><li><span><a href=\"#Проверка-различных-моделей-кросс-валидацией.\" data-toc-modified-id=\"Проверка-различных-моделей-кросс-валидацией.-3.3\"><span class=\"toc-item-num\">3.3&nbsp;&nbsp;</span>Проверка различных моделей кросс-валидацией.</a></span><ul class=\"toc-item\"><li><span><a href=\"#LinearRegression\" data-toc-modified-id=\"LinearRegression-3.3.1\"><span class=\"toc-item-num\">3.3.1&nbsp;&nbsp;</span>LinearRegression</a></span></li><li><span><a href=\"#Lasso\" data-toc-modified-id=\"Lasso-3.3.2\"><span class=\"toc-item-num\">3.3.2&nbsp;&nbsp;</span>Lasso</a></span></li><li><span><a href=\"#DecisionTreeRegressor\" data-toc-modified-id=\"DecisionTreeRegressor-3.3.3\"><span class=\"toc-item-num\">3.3.3&nbsp;&nbsp;</span>DecisionTreeRegressor</a></span></li><li><span><a href=\"#RandomForestRegressor\" data-toc-modified-id=\"RandomForestRegressor-3.3.4\"><span class=\"toc-item-num\">3.3.4&nbsp;&nbsp;</span>RandomForestRegressor</a></span></li></ul></li><li><span><a href=\"#Вывод-по-выбору-модели.\" data-toc-modified-id=\"Вывод-по-выбору-модели.-3.4\"><span class=\"toc-item-num\">3.4&nbsp;&nbsp;</span>Вывод по выбору модели.</a></span></li><li><span><a href=\"#Проверка-на-тестовой-выборке.\" data-toc-modified-id=\"Проверка-на-тестовой-выборке.-3.5\"><span class=\"toc-item-num\">3.5&nbsp;&nbsp;</span>Проверка на тестовой выборке.</a></span></li><li><span><a href=\"#Вывод:\" data-toc-modified-id=\"Вывод:-3.6\"><span class=\"toc-item-num\">3.6&nbsp;&nbsp;</span>Вывод:</a></span></li></ul></li></ul></div>"
   ]
  },
  {
   "cell_type": "markdown",
   "metadata": {},
   "source": [
    "# Восстановление золота из руды"
   ]
  },
  {
   "cell_type": "code",
   "execution_count": 1,
   "metadata": {},
   "outputs": [],
   "source": [
    "import pandas as pd \n",
    "import matplotlib as plt \n",
    "import numpy as np\n",
    "import seaborn as sns\n",
    "import matplotlib.pyplot as plt\n",
    "\n",
    "from sklearn.linear_model import LinearRegression\n",
    "from sklearn.linear_model import Lasso\n",
    "from sklearn.tree import DecisionTreeRegressor\n",
    "from sklearn.ensemble import RandomForestRegressor\n",
    "from sklearn.dummy import DummyRegressor\n",
    "from sklearn.model_selection import train_test_split\n",
    "from sklearn.model_selection import cross_validate\n",
    "from sklearn.model_selection import cross_val_score\n",
    "from sklearn.preprocessing import StandardScaler\n",
    "from sklearn.model_selection import RandomizedSearchCV\n",
    "from sklearn.metrics import make_scorer\n",
    "\n",
    "\n",
    "\n",
    "pd.set_option('display.max_columns', None)\n",
    "pd.set_option('display.max_rows', None)"
   ]
  },
  {
   "cell_type": "markdown",
   "metadata": {},
   "source": [
    "## Подготовка данных"
   ]
  },
  {
   "cell_type": "markdown",
   "metadata": {},
   "source": [
    "### Загрузка данных "
   ]
  },
  {
   "cell_type": "code",
   "execution_count": 2,
   "metadata": {},
   "outputs": [],
   "source": [
    "data_full = pd.read_csv('/datasets/gold_industry_full.csv')\n",
    "data_train = pd.read_csv('/datasets/gold_industry_train.csv')\n",
    "data_test = pd.read_csv('/datasets/gold_industry_test.csv')"
   ]
  },
  {
   "cell_type": "code",
   "execution_count": 3,
   "metadata": {},
   "outputs": [
    {
     "data": {
      "text/html": [
       "<div>\n",
       "<style scoped>\n",
       "    .dataframe tbody tr th:only-of-type {\n",
       "        vertical-align: middle;\n",
       "    }\n",
       "\n",
       "    .dataframe tbody tr th {\n",
       "        vertical-align: top;\n",
       "    }\n",
       "\n",
       "    .dataframe thead th {\n",
       "        text-align: right;\n",
       "    }\n",
       "</style>\n",
       "<table border=\"1\" class=\"dataframe\">\n",
       "  <thead>\n",
       "    <tr style=\"text-align: right;\">\n",
       "      <th></th>\n",
       "      <th>date</th>\n",
       "      <th>rougher.input.feed_au</th>\n",
       "      <th>rougher.input.feed_ag</th>\n",
       "      <th>rougher.input.feed_pb</th>\n",
       "      <th>rougher.input.feed_sol</th>\n",
       "      <th>rougher.input.feed_rate</th>\n",
       "      <th>rougher.input.feed_size</th>\n",
       "      <th>rougher.input.floatbank10_sulfate</th>\n",
       "      <th>rougher.input.floatbank10_xanthate</th>\n",
       "      <th>rougher.state.floatbank10_a_air</th>\n",
       "      <th>rougher.state.floatbank10_a_level</th>\n",
       "      <th>rougher.state.floatbank10_b_air</th>\n",
       "      <th>rougher.state.floatbank10_b_level</th>\n",
       "      <th>rougher.state.floatbank10_c_air</th>\n",
       "      <th>rougher.state.floatbank10_c_level</th>\n",
       "      <th>rougher.state.floatbank10_d_air</th>\n",
       "      <th>rougher.state.floatbank10_d_level</th>\n",
       "      <th>rougher.state.floatbank10_e_air</th>\n",
       "      <th>rougher.state.floatbank10_e_level</th>\n",
       "      <th>rougher.state.floatbank10_f_air</th>\n",
       "      <th>rougher.state.floatbank10_f_level</th>\n",
       "      <th>rougher.input.floatbank11_sulfate</th>\n",
       "      <th>rougher.input.floatbank11_xanthate</th>\n",
       "      <th>rougher.calculation.sulfate_to_au_concentrate</th>\n",
       "      <th>rougher.calculation.floatbank10_sulfate_to_au_feed</th>\n",
       "      <th>rougher.calculation.floatbank11_sulfate_to_au_feed</th>\n",
       "      <th>rougher.calculation.au_pb_ratio</th>\n",
       "      <th>rougher.output.concentrate_au</th>\n",
       "      <th>rougher.output.concentrate_ag</th>\n",
       "      <th>rougher.output.concentrate_pb</th>\n",
       "      <th>rougher.output.concentrate_sol</th>\n",
       "      <th>rougher.output.recovery</th>\n",
       "      <th>rougher.output.tail_au</th>\n",
       "      <th>rougher.output.tail_ag</th>\n",
       "      <th>rougher.output.tail_pb</th>\n",
       "      <th>rougher.output.tail_sol</th>\n",
       "      <th>primary_cleaner.input.sulfate</th>\n",
       "      <th>primary_cleaner.input.depressant</th>\n",
       "      <th>primary_cleaner.input.feed_size</th>\n",
       "      <th>primary_cleaner.input.xanthate</th>\n",
       "      <th>primary_cleaner.state.floatbank8_a_air</th>\n",
       "      <th>primary_cleaner.state.floatbank8_a_level</th>\n",
       "      <th>primary_cleaner.state.floatbank8_b_air</th>\n",
       "      <th>primary_cleaner.state.floatbank8_b_level</th>\n",
       "      <th>primary_cleaner.state.floatbank8_c_air</th>\n",
       "      <th>primary_cleaner.state.floatbank8_c_level</th>\n",
       "      <th>primary_cleaner.state.floatbank8_d_air</th>\n",
       "      <th>primary_cleaner.state.floatbank8_d_level</th>\n",
       "      <th>primary_cleaner.output.concentrate_au</th>\n",
       "      <th>primary_cleaner.output.concentrate_ag</th>\n",
       "      <th>primary_cleaner.output.concentrate_pb</th>\n",
       "      <th>primary_cleaner.output.concentrate_sol</th>\n",
       "      <th>primary_cleaner.output.tail_au</th>\n",
       "      <th>primary_cleaner.output.tail_ag</th>\n",
       "      <th>primary_cleaner.output.tail_pb</th>\n",
       "      <th>primary_cleaner.output.tail_sol</th>\n",
       "      <th>secondary_cleaner.state.floatbank2_a_air</th>\n",
       "      <th>secondary_cleaner.state.floatbank2_a_level</th>\n",
       "      <th>secondary_cleaner.state.floatbank2_b_air</th>\n",
       "      <th>secondary_cleaner.state.floatbank2_b_level</th>\n",
       "      <th>secondary_cleaner.state.floatbank3_a_air</th>\n",
       "      <th>secondary_cleaner.state.floatbank3_a_level</th>\n",
       "      <th>secondary_cleaner.state.floatbank3_b_air</th>\n",
       "      <th>secondary_cleaner.state.floatbank3_b_level</th>\n",
       "      <th>secondary_cleaner.state.floatbank4_a_air</th>\n",
       "      <th>secondary_cleaner.state.floatbank4_a_level</th>\n",
       "      <th>secondary_cleaner.state.floatbank4_b_air</th>\n",
       "      <th>secondary_cleaner.state.floatbank4_b_level</th>\n",
       "      <th>secondary_cleaner.state.floatbank5_a_air</th>\n",
       "      <th>secondary_cleaner.state.floatbank5_a_level</th>\n",
       "      <th>secondary_cleaner.state.floatbank5_b_air</th>\n",
       "      <th>secondary_cleaner.state.floatbank5_b_level</th>\n",
       "      <th>secondary_cleaner.state.floatbank6_a_air</th>\n",
       "      <th>secondary_cleaner.state.floatbank6_a_level</th>\n",
       "      <th>secondary_cleaner.output.tail_au</th>\n",
       "      <th>secondary_cleaner.output.tail_ag</th>\n",
       "      <th>secondary_cleaner.output.tail_pb</th>\n",
       "      <th>secondary_cleaner.output.tail_sol</th>\n",
       "      <th>final.output.concentrate_au</th>\n",
       "      <th>final.output.concentrate_ag</th>\n",
       "      <th>final.output.concentrate_pb</th>\n",
       "      <th>final.output.concentrate_sol</th>\n",
       "      <th>final.output.recovery</th>\n",
       "      <th>final.output.tail_au</th>\n",
       "      <th>final.output.tail_ag</th>\n",
       "      <th>final.output.tail_pb</th>\n",
       "      <th>final.output.tail_sol</th>\n",
       "    </tr>\n",
       "  </thead>\n",
       "  <tbody>\n",
       "    <tr>\n",
       "      <th>0</th>\n",
       "      <td>2016-01-15 00:00:00</td>\n",
       "      <td>6.486150</td>\n",
       "      <td>6.100378</td>\n",
       "      <td>2.284912</td>\n",
       "      <td>36.808594</td>\n",
       "      <td>523.546326</td>\n",
       "      <td>55.486599</td>\n",
       "      <td>11.986616</td>\n",
       "      <td>6.007990</td>\n",
       "      <td>999.706909</td>\n",
       "      <td>-404.066986</td>\n",
       "      <td>1603.011353</td>\n",
       "      <td>-434.715027</td>\n",
       "      <td>1602.375000</td>\n",
       "      <td>-442.204468</td>\n",
       "      <td>1598.937256</td>\n",
       "      <td>-451.294128</td>\n",
       "      <td>1404.472046</td>\n",
       "      <td>-455.462982</td>\n",
       "      <td>1416.354980</td>\n",
       "      <td>-451.939636</td>\n",
       "      <td>11.836743</td>\n",
       "      <td>6.005818</td>\n",
       "      <td>41885.707031</td>\n",
       "      <td>3481.779053</td>\n",
       "      <td>3520.337158</td>\n",
       "      <td>2.838687</td>\n",
       "      <td>19.793808</td>\n",
       "      <td>11.500771</td>\n",
       "      <td>7.101074</td>\n",
       "      <td>28.029297</td>\n",
       "      <td>87.107763</td>\n",
       "      <td>1.170244</td>\n",
       "      <td>5.008018</td>\n",
       "      <td>0.508728</td>\n",
       "      <td>19.154297</td>\n",
       "      <td>127.092003</td>\n",
       "      <td>10.128295</td>\n",
       "      <td>7.25</td>\n",
       "      <td>0.988759</td>\n",
       "      <td>1549.775757</td>\n",
       "      <td>-498.912140</td>\n",
       "      <td>1551.434204</td>\n",
       "      <td>-516.403442</td>\n",
       "      <td>1549.873901</td>\n",
       "      <td>-498.666595</td>\n",
       "      <td>1554.367432</td>\n",
       "      <td>-493.428131</td>\n",
       "      <td>34.174427</td>\n",
       "      <td>8.547551</td>\n",
       "      <td>10.389648</td>\n",
       "      <td>19.529297</td>\n",
       "      <td>2.106679</td>\n",
       "      <td>14.936526</td>\n",
       "      <td>2.534912</td>\n",
       "      <td>7.476074</td>\n",
       "      <td>25.853109</td>\n",
       "      <td>-498.526489</td>\n",
       "      <td>23.893660</td>\n",
       "      <td>-501.406281</td>\n",
       "      <td>23.961798</td>\n",
       "      <td>-495.262817</td>\n",
       "      <td>21.940409</td>\n",
       "      <td>-499.340973</td>\n",
       "      <td>14.016835</td>\n",
       "      <td>-502.488007</td>\n",
       "      <td>12.099931</td>\n",
       "      <td>-504.715942</td>\n",
       "      <td>9.925633</td>\n",
       "      <td>-498.310211</td>\n",
       "      <td>8.079666</td>\n",
       "      <td>-500.470978</td>\n",
       "      <td>14.151341</td>\n",
       "      <td>-605.841980</td>\n",
       "      <td>2.606185</td>\n",
       "      <td>14.500184</td>\n",
       "      <td>4.694824</td>\n",
       "      <td>8.764648</td>\n",
       "      <td>42.192020</td>\n",
       "      <td>6.055403</td>\n",
       "      <td>9.889648</td>\n",
       "      <td>5.507324</td>\n",
       "      <td>70.541216</td>\n",
       "      <td>2.143149</td>\n",
       "      <td>10.411962</td>\n",
       "      <td>0.895447</td>\n",
       "      <td>16.904297</td>\n",
       "    </tr>\n",
       "    <tr>\n",
       "      <th>1</th>\n",
       "      <td>2016-01-15 01:00:00</td>\n",
       "      <td>6.478583</td>\n",
       "      <td>6.161113</td>\n",
       "      <td>2.266033</td>\n",
       "      <td>35.753385</td>\n",
       "      <td>525.290581</td>\n",
       "      <td>57.278666</td>\n",
       "      <td>11.971193</td>\n",
       "      <td>6.005766</td>\n",
       "      <td>1000.286398</td>\n",
       "      <td>-400.065196</td>\n",
       "      <td>1600.754587</td>\n",
       "      <td>-449.953435</td>\n",
       "      <td>1600.479580</td>\n",
       "      <td>-449.830646</td>\n",
       "      <td>1600.527589</td>\n",
       "      <td>-449.953649</td>\n",
       "      <td>1399.227084</td>\n",
       "      <td>-450.869848</td>\n",
       "      <td>1399.719514</td>\n",
       "      <td>-450.119001</td>\n",
       "      <td>11.996163</td>\n",
       "      <td>6.012594</td>\n",
       "      <td>42050.861809</td>\n",
       "      <td>3498.370979</td>\n",
       "      <td>3489.981857</td>\n",
       "      <td>2.858998</td>\n",
       "      <td>20.050975</td>\n",
       "      <td>11.615865</td>\n",
       "      <td>7.278807</td>\n",
       "      <td>28.067063</td>\n",
       "      <td>86.843261</td>\n",
       "      <td>1.184827</td>\n",
       "      <td>4.955378</td>\n",
       "      <td>0.536689</td>\n",
       "      <td>18.965234</td>\n",
       "      <td>125.629232</td>\n",
       "      <td>10.296251</td>\n",
       "      <td>7.25</td>\n",
       "      <td>1.002663</td>\n",
       "      <td>1576.166671</td>\n",
       "      <td>-500.904965</td>\n",
       "      <td>1575.950626</td>\n",
       "      <td>-499.865889</td>\n",
       "      <td>1575.994189</td>\n",
       "      <td>-499.315107</td>\n",
       "      <td>1574.479259</td>\n",
       "      <td>-498.931665</td>\n",
       "      <td>34.118526</td>\n",
       "      <td>8.558743</td>\n",
       "      <td>10.497069</td>\n",
       "      <td>19.369147</td>\n",
       "      <td>2.353017</td>\n",
       "      <td>16.250511</td>\n",
       "      <td>3.049646</td>\n",
       "      <td>6.733907</td>\n",
       "      <td>25.880539</td>\n",
       "      <td>-499.989656</td>\n",
       "      <td>23.889530</td>\n",
       "      <td>-500.372428</td>\n",
       "      <td>23.970550</td>\n",
       "      <td>-500.085473</td>\n",
       "      <td>22.085714</td>\n",
       "      <td>-499.446897</td>\n",
       "      <td>13.992281</td>\n",
       "      <td>-505.503262</td>\n",
       "      <td>11.950531</td>\n",
       "      <td>-501.331529</td>\n",
       "      <td>10.039245</td>\n",
       "      <td>-500.169983</td>\n",
       "      <td>7.984757</td>\n",
       "      <td>-500.582168</td>\n",
       "      <td>13.998353</td>\n",
       "      <td>-599.787184</td>\n",
       "      <td>2.488248</td>\n",
       "      <td>14.265474</td>\n",
       "      <td>4.592547</td>\n",
       "      <td>9.001494</td>\n",
       "      <td>42.701629</td>\n",
       "      <td>6.029369</td>\n",
       "      <td>9.968944</td>\n",
       "      <td>5.257781</td>\n",
       "      <td>69.266198</td>\n",
       "      <td>2.224930</td>\n",
       "      <td>10.462676</td>\n",
       "      <td>0.927452</td>\n",
       "      <td>16.634514</td>\n",
       "    </tr>\n",
       "    <tr>\n",
       "      <th>2</th>\n",
       "      <td>2016-01-15 02:00:00</td>\n",
       "      <td>6.362222</td>\n",
       "      <td>6.116455</td>\n",
       "      <td>2.159622</td>\n",
       "      <td>35.971630</td>\n",
       "      <td>530.026610</td>\n",
       "      <td>57.510649</td>\n",
       "      <td>11.920603</td>\n",
       "      <td>6.197377</td>\n",
       "      <td>999.719565</td>\n",
       "      <td>-400.074028</td>\n",
       "      <td>1599.337330</td>\n",
       "      <td>-450.008530</td>\n",
       "      <td>1599.672797</td>\n",
       "      <td>-449.954491</td>\n",
       "      <td>1599.849325</td>\n",
       "      <td>-449.954185</td>\n",
       "      <td>1399.180945</td>\n",
       "      <td>-449.937588</td>\n",
       "      <td>1400.316682</td>\n",
       "      <td>-450.527147</td>\n",
       "      <td>11.920305</td>\n",
       "      <td>6.204633</td>\n",
       "      <td>42018.101184</td>\n",
       "      <td>3495.348910</td>\n",
       "      <td>3502.359819</td>\n",
       "      <td>2.945989</td>\n",
       "      <td>19.737170</td>\n",
       "      <td>11.695753</td>\n",
       "      <td>7.216833</td>\n",
       "      <td>27.454037</td>\n",
       "      <td>86.842308</td>\n",
       "      <td>1.162562</td>\n",
       "      <td>4.843460</td>\n",
       "      <td>0.546416</td>\n",
       "      <td>18.808533</td>\n",
       "      <td>123.819808</td>\n",
       "      <td>11.316280</td>\n",
       "      <td>7.25</td>\n",
       "      <td>0.991265</td>\n",
       "      <td>1601.556163</td>\n",
       "      <td>-499.997791</td>\n",
       "      <td>1600.386685</td>\n",
       "      <td>-500.607762</td>\n",
       "      <td>1602.003542</td>\n",
       "      <td>-500.870069</td>\n",
       "      <td>1599.541515</td>\n",
       "      <td>-499.827444</td>\n",
       "      <td>33.969464</td>\n",
       "      <td>8.603505</td>\n",
       "      <td>10.354494</td>\n",
       "      <td>19.167579</td>\n",
       "      <td>2.416800</td>\n",
       "      <td>16.491823</td>\n",
       "      <td>3.124664</td>\n",
       "      <td>6.471768</td>\n",
       "      <td>26.005245</td>\n",
       "      <td>-499.929616</td>\n",
       "      <td>23.886657</td>\n",
       "      <td>-499.951928</td>\n",
       "      <td>23.913535</td>\n",
       "      <td>-499.442343</td>\n",
       "      <td>23.957717</td>\n",
       "      <td>-499.901982</td>\n",
       "      <td>14.015015</td>\n",
       "      <td>-502.520901</td>\n",
       "      <td>11.912783</td>\n",
       "      <td>-501.133383</td>\n",
       "      <td>10.070913</td>\n",
       "      <td>-500.129135</td>\n",
       "      <td>8.013877</td>\n",
       "      <td>-500.517572</td>\n",
       "      <td>14.028663</td>\n",
       "      <td>-601.427363</td>\n",
       "      <td>2.458187</td>\n",
       "      <td>14.115662</td>\n",
       "      <td>4.624775</td>\n",
       "      <td>8.842896</td>\n",
       "      <td>42.657501</td>\n",
       "      <td>6.055926</td>\n",
       "      <td>10.213995</td>\n",
       "      <td>5.383759</td>\n",
       "      <td>68.116445</td>\n",
       "      <td>2.257889</td>\n",
       "      <td>10.507046</td>\n",
       "      <td>0.953716</td>\n",
       "      <td>16.208849</td>\n",
       "    </tr>\n",
       "    <tr>\n",
       "      <th>3</th>\n",
       "      <td>2016-01-15 03:00:00</td>\n",
       "      <td>6.118189</td>\n",
       "      <td>6.043309</td>\n",
       "      <td>2.037807</td>\n",
       "      <td>36.862241</td>\n",
       "      <td>542.590390</td>\n",
       "      <td>57.792734</td>\n",
       "      <td>11.630094</td>\n",
       "      <td>6.203177</td>\n",
       "      <td>999.814770</td>\n",
       "      <td>-400.200179</td>\n",
       "      <td>1600.059442</td>\n",
       "      <td>-450.619948</td>\n",
       "      <td>1600.012842</td>\n",
       "      <td>-449.910497</td>\n",
       "      <td>1597.725177</td>\n",
       "      <td>-450.130127</td>\n",
       "      <td>1400.943157</td>\n",
       "      <td>-450.030142</td>\n",
       "      <td>1400.234743</td>\n",
       "      <td>-449.790835</td>\n",
       "      <td>11.692450</td>\n",
       "      <td>6.196578</td>\n",
       "      <td>42029.447991</td>\n",
       "      <td>3498.578313</td>\n",
       "      <td>3499.162912</td>\n",
       "      <td>3.002340</td>\n",
       "      <td>19.320810</td>\n",
       "      <td>11.915047</td>\n",
       "      <td>7.175616</td>\n",
       "      <td>27.341277</td>\n",
       "      <td>87.226430</td>\n",
       "      <td>1.079755</td>\n",
       "      <td>4.655288</td>\n",
       "      <td>0.542525</td>\n",
       "      <td>19.330200</td>\n",
       "      <td>122.270188</td>\n",
       "      <td>11.322140</td>\n",
       "      <td>7.25</td>\n",
       "      <td>0.996739</td>\n",
       "      <td>1599.968720</td>\n",
       "      <td>-500.951778</td>\n",
       "      <td>1600.659236</td>\n",
       "      <td>-499.677094</td>\n",
       "      <td>1600.304144</td>\n",
       "      <td>-500.727997</td>\n",
       "      <td>1600.449520</td>\n",
       "      <td>-500.052575</td>\n",
       "      <td>28.260743</td>\n",
       "      <td>7.221879</td>\n",
       "      <td>8.496563</td>\n",
       "      <td>15.978538</td>\n",
       "      <td>2.262051</td>\n",
       "      <td>16.024359</td>\n",
       "      <td>2.960362</td>\n",
       "      <td>6.843791</td>\n",
       "      <td>25.942508</td>\n",
       "      <td>-499.176749</td>\n",
       "      <td>23.955516</td>\n",
       "      <td>-499.848796</td>\n",
       "      <td>23.966838</td>\n",
       "      <td>-500.008812</td>\n",
       "      <td>23.954443</td>\n",
       "      <td>-499.944710</td>\n",
       "      <td>14.036510</td>\n",
       "      <td>-500.857308</td>\n",
       "      <td>11.999550</td>\n",
       "      <td>-501.193686</td>\n",
       "      <td>9.970366</td>\n",
       "      <td>-499.201640</td>\n",
       "      <td>7.977324</td>\n",
       "      <td>-500.255908</td>\n",
       "      <td>14.005551</td>\n",
       "      <td>-599.996129</td>\n",
       "      <td>2.322062</td>\n",
       "      <td>13.732071</td>\n",
       "      <td>4.482453</td>\n",
       "      <td>9.122857</td>\n",
       "      <td>42.689819</td>\n",
       "      <td>6.047977</td>\n",
       "      <td>9.977019</td>\n",
       "      <td>4.858634</td>\n",
       "      <td>68.347543</td>\n",
       "      <td>2.146849</td>\n",
       "      <td>10.422762</td>\n",
       "      <td>0.883763</td>\n",
       "      <td>16.532835</td>\n",
       "    </tr>\n",
       "    <tr>\n",
       "      <th>4</th>\n",
       "      <td>2016-01-15 04:00:00</td>\n",
       "      <td>5.663707</td>\n",
       "      <td>6.060915</td>\n",
       "      <td>1.786875</td>\n",
       "      <td>34.347666</td>\n",
       "      <td>540.531893</td>\n",
       "      <td>56.047189</td>\n",
       "      <td>10.957755</td>\n",
       "      <td>6.198826</td>\n",
       "      <td>999.678690</td>\n",
       "      <td>-399.752729</td>\n",
       "      <td>1600.208824</td>\n",
       "      <td>-449.599614</td>\n",
       "      <td>1600.357732</td>\n",
       "      <td>-450.034364</td>\n",
       "      <td>1599.759049</td>\n",
       "      <td>-449.909799</td>\n",
       "      <td>1401.560902</td>\n",
       "      <td>-448.877187</td>\n",
       "      <td>1401.160227</td>\n",
       "      <td>-450.407128</td>\n",
       "      <td>10.960521</td>\n",
       "      <td>6.194897</td>\n",
       "      <td>42125.354245</td>\n",
       "      <td>3494.800771</td>\n",
       "      <td>3506.679315</td>\n",
       "      <td>3.169615</td>\n",
       "      <td>19.216101</td>\n",
       "      <td>12.411054</td>\n",
       "      <td>7.240205</td>\n",
       "      <td>27.041023</td>\n",
       "      <td>86.688794</td>\n",
       "      <td>1.012642</td>\n",
       "      <td>4.552800</td>\n",
       "      <td>0.515438</td>\n",
       "      <td>19.267422</td>\n",
       "      <td>117.988169</td>\n",
       "      <td>11.913613</td>\n",
       "      <td>7.25</td>\n",
       "      <td>1.009869</td>\n",
       "      <td>1601.339707</td>\n",
       "      <td>-498.975456</td>\n",
       "      <td>1601.437854</td>\n",
       "      <td>-500.323246</td>\n",
       "      <td>1599.581894</td>\n",
       "      <td>-500.888152</td>\n",
       "      <td>1602.649541</td>\n",
       "      <td>-500.593010</td>\n",
       "      <td>33.044932</td>\n",
       "      <td>9.089428</td>\n",
       "      <td>9.986786</td>\n",
       "      <td>19.199864</td>\n",
       "      <td>2.277073</td>\n",
       "      <td>16.480185</td>\n",
       "      <td>3.112100</td>\n",
       "      <td>6.550154</td>\n",
       "      <td>26.024787</td>\n",
       "      <td>-500.279091</td>\n",
       "      <td>23.955345</td>\n",
       "      <td>-500.593614</td>\n",
       "      <td>23.985703</td>\n",
       "      <td>-500.083811</td>\n",
       "      <td>23.958945</td>\n",
       "      <td>-499.990309</td>\n",
       "      <td>14.027298</td>\n",
       "      <td>-499.838632</td>\n",
       "      <td>11.953070</td>\n",
       "      <td>-501.053894</td>\n",
       "      <td>9.925709</td>\n",
       "      <td>-501.686727</td>\n",
       "      <td>7.894242</td>\n",
       "      <td>-500.356035</td>\n",
       "      <td>13.996647</td>\n",
       "      <td>-601.496691</td>\n",
       "      <td>2.330448</td>\n",
       "      <td>14.079996</td>\n",
       "      <td>4.470737</td>\n",
       "      <td>8.871028</td>\n",
       "      <td>42.774141</td>\n",
       "      <td>6.148599</td>\n",
       "      <td>10.142511</td>\n",
       "      <td>4.939416</td>\n",
       "      <td>66.927016</td>\n",
       "      <td>2.055292</td>\n",
       "      <td>10.360302</td>\n",
       "      <td>0.792826</td>\n",
       "      <td>16.525686</td>\n",
       "    </tr>\n",
       "  </tbody>\n",
       "</table>\n",
       "</div>"
      ],
      "text/plain": [
       "                  date  rougher.input.feed_au  rougher.input.feed_ag  \\\n",
       "0  2016-01-15 00:00:00               6.486150               6.100378   \n",
       "1  2016-01-15 01:00:00               6.478583               6.161113   \n",
       "2  2016-01-15 02:00:00               6.362222               6.116455   \n",
       "3  2016-01-15 03:00:00               6.118189               6.043309   \n",
       "4  2016-01-15 04:00:00               5.663707               6.060915   \n",
       "\n",
       "   rougher.input.feed_pb  rougher.input.feed_sol  rougher.input.feed_rate  \\\n",
       "0               2.284912               36.808594               523.546326   \n",
       "1               2.266033               35.753385               525.290581   \n",
       "2               2.159622               35.971630               530.026610   \n",
       "3               2.037807               36.862241               542.590390   \n",
       "4               1.786875               34.347666               540.531893   \n",
       "\n",
       "   rougher.input.feed_size  rougher.input.floatbank10_sulfate  \\\n",
       "0                55.486599                          11.986616   \n",
       "1                57.278666                          11.971193   \n",
       "2                57.510649                          11.920603   \n",
       "3                57.792734                          11.630094   \n",
       "4                56.047189                          10.957755   \n",
       "\n",
       "   rougher.input.floatbank10_xanthate  rougher.state.floatbank10_a_air  \\\n",
       "0                            6.007990                       999.706909   \n",
       "1                            6.005766                      1000.286398   \n",
       "2                            6.197377                       999.719565   \n",
       "3                            6.203177                       999.814770   \n",
       "4                            6.198826                       999.678690   \n",
       "\n",
       "   rougher.state.floatbank10_a_level  rougher.state.floatbank10_b_air  \\\n",
       "0                        -404.066986                      1603.011353   \n",
       "1                        -400.065196                      1600.754587   \n",
       "2                        -400.074028                      1599.337330   \n",
       "3                        -400.200179                      1600.059442   \n",
       "4                        -399.752729                      1600.208824   \n",
       "\n",
       "   rougher.state.floatbank10_b_level  rougher.state.floatbank10_c_air  \\\n",
       "0                        -434.715027                      1602.375000   \n",
       "1                        -449.953435                      1600.479580   \n",
       "2                        -450.008530                      1599.672797   \n",
       "3                        -450.619948                      1600.012842   \n",
       "4                        -449.599614                      1600.357732   \n",
       "\n",
       "   rougher.state.floatbank10_c_level  rougher.state.floatbank10_d_air  \\\n",
       "0                        -442.204468                      1598.937256   \n",
       "1                        -449.830646                      1600.527589   \n",
       "2                        -449.954491                      1599.849325   \n",
       "3                        -449.910497                      1597.725177   \n",
       "4                        -450.034364                      1599.759049   \n",
       "\n",
       "   rougher.state.floatbank10_d_level  rougher.state.floatbank10_e_air  \\\n",
       "0                        -451.294128                      1404.472046   \n",
       "1                        -449.953649                      1399.227084   \n",
       "2                        -449.954185                      1399.180945   \n",
       "3                        -450.130127                      1400.943157   \n",
       "4                        -449.909799                      1401.560902   \n",
       "\n",
       "   rougher.state.floatbank10_e_level  rougher.state.floatbank10_f_air  \\\n",
       "0                        -455.462982                      1416.354980   \n",
       "1                        -450.869848                      1399.719514   \n",
       "2                        -449.937588                      1400.316682   \n",
       "3                        -450.030142                      1400.234743   \n",
       "4                        -448.877187                      1401.160227   \n",
       "\n",
       "   rougher.state.floatbank10_f_level  rougher.input.floatbank11_sulfate  \\\n",
       "0                        -451.939636                          11.836743   \n",
       "1                        -450.119001                          11.996163   \n",
       "2                        -450.527147                          11.920305   \n",
       "3                        -449.790835                          11.692450   \n",
       "4                        -450.407128                          10.960521   \n",
       "\n",
       "   rougher.input.floatbank11_xanthate  \\\n",
       "0                            6.005818   \n",
       "1                            6.012594   \n",
       "2                            6.204633   \n",
       "3                            6.196578   \n",
       "4                            6.194897   \n",
       "\n",
       "   rougher.calculation.sulfate_to_au_concentrate  \\\n",
       "0                                   41885.707031   \n",
       "1                                   42050.861809   \n",
       "2                                   42018.101184   \n",
       "3                                   42029.447991   \n",
       "4                                   42125.354245   \n",
       "\n",
       "   rougher.calculation.floatbank10_sulfate_to_au_feed  \\\n",
       "0                                        3481.779053    \n",
       "1                                        3498.370979    \n",
       "2                                        3495.348910    \n",
       "3                                        3498.578313    \n",
       "4                                        3494.800771    \n",
       "\n",
       "   rougher.calculation.floatbank11_sulfate_to_au_feed  \\\n",
       "0                                        3520.337158    \n",
       "1                                        3489.981857    \n",
       "2                                        3502.359819    \n",
       "3                                        3499.162912    \n",
       "4                                        3506.679315    \n",
       "\n",
       "   rougher.calculation.au_pb_ratio  rougher.output.concentrate_au  \\\n",
       "0                         2.838687                      19.793808   \n",
       "1                         2.858998                      20.050975   \n",
       "2                         2.945989                      19.737170   \n",
       "3                         3.002340                      19.320810   \n",
       "4                         3.169615                      19.216101   \n",
       "\n",
       "   rougher.output.concentrate_ag  rougher.output.concentrate_pb  \\\n",
       "0                      11.500771                       7.101074   \n",
       "1                      11.615865                       7.278807   \n",
       "2                      11.695753                       7.216833   \n",
       "3                      11.915047                       7.175616   \n",
       "4                      12.411054                       7.240205   \n",
       "\n",
       "   rougher.output.concentrate_sol  rougher.output.recovery  \\\n",
       "0                       28.029297                87.107763   \n",
       "1                       28.067063                86.843261   \n",
       "2                       27.454037                86.842308   \n",
       "3                       27.341277                87.226430   \n",
       "4                       27.041023                86.688794   \n",
       "\n",
       "   rougher.output.tail_au  rougher.output.tail_ag  rougher.output.tail_pb  \\\n",
       "0                1.170244                5.008018                0.508728   \n",
       "1                1.184827                4.955378                0.536689   \n",
       "2                1.162562                4.843460                0.546416   \n",
       "3                1.079755                4.655288                0.542525   \n",
       "4                1.012642                4.552800                0.515438   \n",
       "\n",
       "   rougher.output.tail_sol  primary_cleaner.input.sulfate  \\\n",
       "0                19.154297                     127.092003   \n",
       "1                18.965234                     125.629232   \n",
       "2                18.808533                     123.819808   \n",
       "3                19.330200                     122.270188   \n",
       "4                19.267422                     117.988169   \n",
       "\n",
       "   primary_cleaner.input.depressant  primary_cleaner.input.feed_size  \\\n",
       "0                         10.128295                             7.25   \n",
       "1                         10.296251                             7.25   \n",
       "2                         11.316280                             7.25   \n",
       "3                         11.322140                             7.25   \n",
       "4                         11.913613                             7.25   \n",
       "\n",
       "   primary_cleaner.input.xanthate  primary_cleaner.state.floatbank8_a_air  \\\n",
       "0                        0.988759                             1549.775757   \n",
       "1                        1.002663                             1576.166671   \n",
       "2                        0.991265                             1601.556163   \n",
       "3                        0.996739                             1599.968720   \n",
       "4                        1.009869                             1601.339707   \n",
       "\n",
       "   primary_cleaner.state.floatbank8_a_level  \\\n",
       "0                               -498.912140   \n",
       "1                               -500.904965   \n",
       "2                               -499.997791   \n",
       "3                               -500.951778   \n",
       "4                               -498.975456   \n",
       "\n",
       "   primary_cleaner.state.floatbank8_b_air  \\\n",
       "0                             1551.434204   \n",
       "1                             1575.950626   \n",
       "2                             1600.386685   \n",
       "3                             1600.659236   \n",
       "4                             1601.437854   \n",
       "\n",
       "   primary_cleaner.state.floatbank8_b_level  \\\n",
       "0                               -516.403442   \n",
       "1                               -499.865889   \n",
       "2                               -500.607762   \n",
       "3                               -499.677094   \n",
       "4                               -500.323246   \n",
       "\n",
       "   primary_cleaner.state.floatbank8_c_air  \\\n",
       "0                             1549.873901   \n",
       "1                             1575.994189   \n",
       "2                             1602.003542   \n",
       "3                             1600.304144   \n",
       "4                             1599.581894   \n",
       "\n",
       "   primary_cleaner.state.floatbank8_c_level  \\\n",
       "0                               -498.666595   \n",
       "1                               -499.315107   \n",
       "2                               -500.870069   \n",
       "3                               -500.727997   \n",
       "4                               -500.888152   \n",
       "\n",
       "   primary_cleaner.state.floatbank8_d_air  \\\n",
       "0                             1554.367432   \n",
       "1                             1574.479259   \n",
       "2                             1599.541515   \n",
       "3                             1600.449520   \n",
       "4                             1602.649541   \n",
       "\n",
       "   primary_cleaner.state.floatbank8_d_level  \\\n",
       "0                               -493.428131   \n",
       "1                               -498.931665   \n",
       "2                               -499.827444   \n",
       "3                               -500.052575   \n",
       "4                               -500.593010   \n",
       "\n",
       "   primary_cleaner.output.concentrate_au  \\\n",
       "0                              34.174427   \n",
       "1                              34.118526   \n",
       "2                              33.969464   \n",
       "3                              28.260743   \n",
       "4                              33.044932   \n",
       "\n",
       "   primary_cleaner.output.concentrate_ag  \\\n",
       "0                               8.547551   \n",
       "1                               8.558743   \n",
       "2                               8.603505   \n",
       "3                               7.221879   \n",
       "4                               9.089428   \n",
       "\n",
       "   primary_cleaner.output.concentrate_pb  \\\n",
       "0                              10.389648   \n",
       "1                              10.497069   \n",
       "2                              10.354494   \n",
       "3                               8.496563   \n",
       "4                               9.986786   \n",
       "\n",
       "   primary_cleaner.output.concentrate_sol  primary_cleaner.output.tail_au  \\\n",
       "0                               19.529297                        2.106679   \n",
       "1                               19.369147                        2.353017   \n",
       "2                               19.167579                        2.416800   \n",
       "3                               15.978538                        2.262051   \n",
       "4                               19.199864                        2.277073   \n",
       "\n",
       "   primary_cleaner.output.tail_ag  primary_cleaner.output.tail_pb  \\\n",
       "0                       14.936526                        2.534912   \n",
       "1                       16.250511                        3.049646   \n",
       "2                       16.491823                        3.124664   \n",
       "3                       16.024359                        2.960362   \n",
       "4                       16.480185                        3.112100   \n",
       "\n",
       "   primary_cleaner.output.tail_sol  secondary_cleaner.state.floatbank2_a_air  \\\n",
       "0                         7.476074                                 25.853109   \n",
       "1                         6.733907                                 25.880539   \n",
       "2                         6.471768                                 26.005245   \n",
       "3                         6.843791                                 25.942508   \n",
       "4                         6.550154                                 26.024787   \n",
       "\n",
       "   secondary_cleaner.state.floatbank2_a_level  \\\n",
       "0                                 -498.526489   \n",
       "1                                 -499.989656   \n",
       "2                                 -499.929616   \n",
       "3                                 -499.176749   \n",
       "4                                 -500.279091   \n",
       "\n",
       "   secondary_cleaner.state.floatbank2_b_air  \\\n",
       "0                                 23.893660   \n",
       "1                                 23.889530   \n",
       "2                                 23.886657   \n",
       "3                                 23.955516   \n",
       "4                                 23.955345   \n",
       "\n",
       "   secondary_cleaner.state.floatbank2_b_level  \\\n",
       "0                                 -501.406281   \n",
       "1                                 -500.372428   \n",
       "2                                 -499.951928   \n",
       "3                                 -499.848796   \n",
       "4                                 -500.593614   \n",
       "\n",
       "   secondary_cleaner.state.floatbank3_a_air  \\\n",
       "0                                 23.961798   \n",
       "1                                 23.970550   \n",
       "2                                 23.913535   \n",
       "3                                 23.966838   \n",
       "4                                 23.985703   \n",
       "\n",
       "   secondary_cleaner.state.floatbank3_a_level  \\\n",
       "0                                 -495.262817   \n",
       "1                                 -500.085473   \n",
       "2                                 -499.442343   \n",
       "3                                 -500.008812   \n",
       "4                                 -500.083811   \n",
       "\n",
       "   secondary_cleaner.state.floatbank3_b_air  \\\n",
       "0                                 21.940409   \n",
       "1                                 22.085714   \n",
       "2                                 23.957717   \n",
       "3                                 23.954443   \n",
       "4                                 23.958945   \n",
       "\n",
       "   secondary_cleaner.state.floatbank3_b_level  \\\n",
       "0                                 -499.340973   \n",
       "1                                 -499.446897   \n",
       "2                                 -499.901982   \n",
       "3                                 -499.944710   \n",
       "4                                 -499.990309   \n",
       "\n",
       "   secondary_cleaner.state.floatbank4_a_air  \\\n",
       "0                                 14.016835   \n",
       "1                                 13.992281   \n",
       "2                                 14.015015   \n",
       "3                                 14.036510   \n",
       "4                                 14.027298   \n",
       "\n",
       "   secondary_cleaner.state.floatbank4_a_level  \\\n",
       "0                                 -502.488007   \n",
       "1                                 -505.503262   \n",
       "2                                 -502.520901   \n",
       "3                                 -500.857308   \n",
       "4                                 -499.838632   \n",
       "\n",
       "   secondary_cleaner.state.floatbank4_b_air  \\\n",
       "0                                 12.099931   \n",
       "1                                 11.950531   \n",
       "2                                 11.912783   \n",
       "3                                 11.999550   \n",
       "4                                 11.953070   \n",
       "\n",
       "   secondary_cleaner.state.floatbank4_b_level  \\\n",
       "0                                 -504.715942   \n",
       "1                                 -501.331529   \n",
       "2                                 -501.133383   \n",
       "3                                 -501.193686   \n",
       "4                                 -501.053894   \n",
       "\n",
       "   secondary_cleaner.state.floatbank5_a_air  \\\n",
       "0                                  9.925633   \n",
       "1                                 10.039245   \n",
       "2                                 10.070913   \n",
       "3                                  9.970366   \n",
       "4                                  9.925709   \n",
       "\n",
       "   secondary_cleaner.state.floatbank5_a_level  \\\n",
       "0                                 -498.310211   \n",
       "1                                 -500.169983   \n",
       "2                                 -500.129135   \n",
       "3                                 -499.201640   \n",
       "4                                 -501.686727   \n",
       "\n",
       "   secondary_cleaner.state.floatbank5_b_air  \\\n",
       "0                                  8.079666   \n",
       "1                                  7.984757   \n",
       "2                                  8.013877   \n",
       "3                                  7.977324   \n",
       "4                                  7.894242   \n",
       "\n",
       "   secondary_cleaner.state.floatbank5_b_level  \\\n",
       "0                                 -500.470978   \n",
       "1                                 -500.582168   \n",
       "2                                 -500.517572   \n",
       "3                                 -500.255908   \n",
       "4                                 -500.356035   \n",
       "\n",
       "   secondary_cleaner.state.floatbank6_a_air  \\\n",
       "0                                 14.151341   \n",
       "1                                 13.998353   \n",
       "2                                 14.028663   \n",
       "3                                 14.005551   \n",
       "4                                 13.996647   \n",
       "\n",
       "   secondary_cleaner.state.floatbank6_a_level  \\\n",
       "0                                 -605.841980   \n",
       "1                                 -599.787184   \n",
       "2                                 -601.427363   \n",
       "3                                 -599.996129   \n",
       "4                                 -601.496691   \n",
       "\n",
       "   secondary_cleaner.output.tail_au  secondary_cleaner.output.tail_ag  \\\n",
       "0                          2.606185                         14.500184   \n",
       "1                          2.488248                         14.265474   \n",
       "2                          2.458187                         14.115662   \n",
       "3                          2.322062                         13.732071   \n",
       "4                          2.330448                         14.079996   \n",
       "\n",
       "   secondary_cleaner.output.tail_pb  secondary_cleaner.output.tail_sol  \\\n",
       "0                          4.694824                           8.764648   \n",
       "1                          4.592547                           9.001494   \n",
       "2                          4.624775                           8.842896   \n",
       "3                          4.482453                           9.122857   \n",
       "4                          4.470737                           8.871028   \n",
       "\n",
       "   final.output.concentrate_au  final.output.concentrate_ag  \\\n",
       "0                    42.192020                     6.055403   \n",
       "1                    42.701629                     6.029369   \n",
       "2                    42.657501                     6.055926   \n",
       "3                    42.689819                     6.047977   \n",
       "4                    42.774141                     6.148599   \n",
       "\n",
       "   final.output.concentrate_pb  final.output.concentrate_sol  \\\n",
       "0                     9.889648                      5.507324   \n",
       "1                     9.968944                      5.257781   \n",
       "2                    10.213995                      5.383759   \n",
       "3                     9.977019                      4.858634   \n",
       "4                    10.142511                      4.939416   \n",
       "\n",
       "   final.output.recovery  final.output.tail_au  final.output.tail_ag  \\\n",
       "0              70.541216              2.143149             10.411962   \n",
       "1              69.266198              2.224930             10.462676   \n",
       "2              68.116445              2.257889             10.507046   \n",
       "3              68.347543              2.146849             10.422762   \n",
       "4              66.927016              2.055292             10.360302   \n",
       "\n",
       "   final.output.tail_pb  final.output.tail_sol  \n",
       "0              0.895447              16.904297  \n",
       "1              0.927452              16.634514  \n",
       "2              0.953716              16.208849  \n",
       "3              0.883763              16.532835  \n",
       "4              0.792826              16.525686  "
      ]
     },
     "metadata": {},
     "output_type": "display_data"
    },
    {
     "data": {
      "text/html": [
       "<div>\n",
       "<style scoped>\n",
       "    .dataframe tbody tr th:only-of-type {\n",
       "        vertical-align: middle;\n",
       "    }\n",
       "\n",
       "    .dataframe tbody tr th {\n",
       "        vertical-align: top;\n",
       "    }\n",
       "\n",
       "    .dataframe thead th {\n",
       "        text-align: right;\n",
       "    }\n",
       "</style>\n",
       "<table border=\"1\" class=\"dataframe\">\n",
       "  <thead>\n",
       "    <tr style=\"text-align: right;\">\n",
       "      <th></th>\n",
       "      <th>date</th>\n",
       "      <th>rougher.input.feed_au</th>\n",
       "      <th>rougher.input.feed_ag</th>\n",
       "      <th>rougher.input.feed_pb</th>\n",
       "      <th>rougher.input.feed_sol</th>\n",
       "      <th>rougher.input.feed_rate</th>\n",
       "      <th>rougher.input.feed_size</th>\n",
       "      <th>rougher.input.floatbank10_sulfate</th>\n",
       "      <th>rougher.input.floatbank10_xanthate</th>\n",
       "      <th>rougher.state.floatbank10_a_air</th>\n",
       "      <th>rougher.state.floatbank10_a_level</th>\n",
       "      <th>rougher.state.floatbank10_b_air</th>\n",
       "      <th>rougher.state.floatbank10_b_level</th>\n",
       "      <th>rougher.state.floatbank10_c_air</th>\n",
       "      <th>rougher.state.floatbank10_c_level</th>\n",
       "      <th>rougher.state.floatbank10_d_air</th>\n",
       "      <th>rougher.state.floatbank10_d_level</th>\n",
       "      <th>rougher.state.floatbank10_e_air</th>\n",
       "      <th>rougher.state.floatbank10_e_level</th>\n",
       "      <th>rougher.state.floatbank10_f_air</th>\n",
       "      <th>rougher.state.floatbank10_f_level</th>\n",
       "      <th>rougher.input.floatbank11_sulfate</th>\n",
       "      <th>rougher.input.floatbank11_xanthate</th>\n",
       "      <th>primary_cleaner.input.sulfate</th>\n",
       "      <th>primary_cleaner.input.depressant</th>\n",
       "      <th>primary_cleaner.input.feed_size</th>\n",
       "      <th>primary_cleaner.input.xanthate</th>\n",
       "      <th>primary_cleaner.state.floatbank8_a_air</th>\n",
       "      <th>primary_cleaner.state.floatbank8_a_level</th>\n",
       "      <th>primary_cleaner.state.floatbank8_b_air</th>\n",
       "      <th>primary_cleaner.state.floatbank8_b_level</th>\n",
       "      <th>primary_cleaner.state.floatbank8_c_air</th>\n",
       "      <th>primary_cleaner.state.floatbank8_c_level</th>\n",
       "      <th>primary_cleaner.state.floatbank8_d_air</th>\n",
       "      <th>primary_cleaner.state.floatbank8_d_level</th>\n",
       "      <th>secondary_cleaner.state.floatbank2_a_air</th>\n",
       "      <th>secondary_cleaner.state.floatbank2_a_level</th>\n",
       "      <th>secondary_cleaner.state.floatbank2_b_air</th>\n",
       "      <th>secondary_cleaner.state.floatbank2_b_level</th>\n",
       "      <th>secondary_cleaner.state.floatbank3_a_air</th>\n",
       "      <th>secondary_cleaner.state.floatbank3_a_level</th>\n",
       "      <th>secondary_cleaner.state.floatbank3_b_air</th>\n",
       "      <th>secondary_cleaner.state.floatbank3_b_level</th>\n",
       "      <th>secondary_cleaner.state.floatbank4_a_air</th>\n",
       "      <th>secondary_cleaner.state.floatbank4_a_level</th>\n",
       "      <th>secondary_cleaner.state.floatbank4_b_air</th>\n",
       "      <th>secondary_cleaner.state.floatbank4_b_level</th>\n",
       "      <th>secondary_cleaner.state.floatbank5_a_air</th>\n",
       "      <th>secondary_cleaner.state.floatbank5_a_level</th>\n",
       "      <th>secondary_cleaner.state.floatbank5_b_air</th>\n",
       "      <th>secondary_cleaner.state.floatbank5_b_level</th>\n",
       "      <th>secondary_cleaner.state.floatbank6_a_air</th>\n",
       "      <th>secondary_cleaner.state.floatbank6_a_level</th>\n",
       "    </tr>\n",
       "  </thead>\n",
       "  <tbody>\n",
       "    <tr>\n",
       "      <th>0</th>\n",
       "      <td>2017-12-09 14:59:59</td>\n",
       "      <td>4.365491</td>\n",
       "      <td>6.158718</td>\n",
       "      <td>3.875727</td>\n",
       "      <td>39.135119</td>\n",
       "      <td>555.820208</td>\n",
       "      <td>94.544358</td>\n",
       "      <td>6.146982</td>\n",
       "      <td>9.308612</td>\n",
       "      <td>1196.238112</td>\n",
       "      <td>-299.862743</td>\n",
       "      <td>1147.248241</td>\n",
       "      <td>-500.363165</td>\n",
       "      <td>1047.279065</td>\n",
       "      <td>-500.354091</td>\n",
       "      <td>948.756608</td>\n",
       "      <td>-498.439416</td>\n",
       "      <td>849.441918</td>\n",
       "      <td>-499.255503</td>\n",
       "      <td>850.112246</td>\n",
       "      <td>-499.407112</td>\n",
       "      <td>6.168939</td>\n",
       "      <td>9.309852</td>\n",
       "      <td>95.248427</td>\n",
       "      <td>8.078957</td>\n",
       "      <td>6.500000</td>\n",
       "      <td>1.283045</td>\n",
       "      <td>1648.759906</td>\n",
       "      <td>-399.862053</td>\n",
       "      <td>1650.135395</td>\n",
       "      <td>-399.957321</td>\n",
       "      <td>1648.831890</td>\n",
       "      <td>-400.586116</td>\n",
       "      <td>1649.464582</td>\n",
       "      <td>-400.673303</td>\n",
       "      <td>34.940919</td>\n",
       "      <td>-500.150510</td>\n",
       "      <td>30.031867</td>\n",
       "      <td>-500.328335</td>\n",
       "      <td>26.033990</td>\n",
       "      <td>-500.147792</td>\n",
       "      <td>22.952306</td>\n",
       "      <td>-500.037678</td>\n",
       "      <td>23.018622</td>\n",
       "      <td>-500.492702</td>\n",
       "      <td>20.020205</td>\n",
       "      <td>-500.220296</td>\n",
       "      <td>17.963512</td>\n",
       "      <td>-499.939490</td>\n",
       "      <td>12.990306</td>\n",
       "      <td>-500.080993</td>\n",
       "      <td>19.990336</td>\n",
       "      <td>-499.191575</td>\n",
       "    </tr>\n",
       "    <tr>\n",
       "      <th>1</th>\n",
       "      <td>2017-12-09 15:59:59</td>\n",
       "      <td>4.362781</td>\n",
       "      <td>6.048130</td>\n",
       "      <td>3.902537</td>\n",
       "      <td>39.713906</td>\n",
       "      <td>544.731687</td>\n",
       "      <td>123.742430</td>\n",
       "      <td>6.210119</td>\n",
       "      <td>9.297709</td>\n",
       "      <td>1201.904177</td>\n",
       "      <td>-299.907308</td>\n",
       "      <td>1154.087804</td>\n",
       "      <td>-500.036580</td>\n",
       "      <td>1054.009756</td>\n",
       "      <td>-500.237335</td>\n",
       "      <td>944.138793</td>\n",
       "      <td>-496.866953</td>\n",
       "      <td>851.589767</td>\n",
       "      <td>-499.040466</td>\n",
       "      <td>851.345606</td>\n",
       "      <td>-499.122561</td>\n",
       "      <td>6.209517</td>\n",
       "      <td>9.297194</td>\n",
       "      <td>98.880538</td>\n",
       "      <td>7.984164</td>\n",
       "      <td>6.500000</td>\n",
       "      <td>1.241969</td>\n",
       "      <td>1646.547763</td>\n",
       "      <td>-398.977083</td>\n",
       "      <td>1648.212240</td>\n",
       "      <td>-400.383265</td>\n",
       "      <td>1648.917387</td>\n",
       "      <td>-399.521344</td>\n",
       "      <td>1651.498591</td>\n",
       "      <td>-399.745329</td>\n",
       "      <td>34.980742</td>\n",
       "      <td>-498.131002</td>\n",
       "      <td>29.968453</td>\n",
       "      <td>-586.013330</td>\n",
       "      <td>25.971737</td>\n",
       "      <td>-499.608392</td>\n",
       "      <td>22.958448</td>\n",
       "      <td>-499.821308</td>\n",
       "      <td>23.024963</td>\n",
       "      <td>-501.153409</td>\n",
       "      <td>20.054122</td>\n",
       "      <td>-500.314711</td>\n",
       "      <td>17.979515</td>\n",
       "      <td>-499.272871</td>\n",
       "      <td>12.992404</td>\n",
       "      <td>-499.976268</td>\n",
       "      <td>20.013986</td>\n",
       "      <td>-500.625471</td>\n",
       "    </tr>\n",
       "    <tr>\n",
       "      <th>2</th>\n",
       "      <td>2017-12-09 16:59:59</td>\n",
       "      <td>5.081681</td>\n",
       "      <td>6.082745</td>\n",
       "      <td>4.564078</td>\n",
       "      <td>37.208683</td>\n",
       "      <td>558.155110</td>\n",
       "      <td>82.610855</td>\n",
       "      <td>7.363824</td>\n",
       "      <td>9.003562</td>\n",
       "      <td>1200.826926</td>\n",
       "      <td>-300.124116</td>\n",
       "      <td>1150.754676</td>\n",
       "      <td>-499.986009</td>\n",
       "      <td>1049.182824</td>\n",
       "      <td>-500.014696</td>\n",
       "      <td>948.085464</td>\n",
       "      <td>-499.997003</td>\n",
       "      <td>850.170086</td>\n",
       "      <td>-500.270334</td>\n",
       "      <td>849.557905</td>\n",
       "      <td>-500.198702</td>\n",
       "      <td>7.358308</td>\n",
       "      <td>9.000624</td>\n",
       "      <td>119.497545</td>\n",
       "      <td>8.003752</td>\n",
       "      <td>6.500000</td>\n",
       "      <td>1.259741</td>\n",
       "      <td>1647.368779</td>\n",
       "      <td>-399.788506</td>\n",
       "      <td>1648.395206</td>\n",
       "      <td>-400.166490</td>\n",
       "      <td>1648.953828</td>\n",
       "      <td>-400.468641</td>\n",
       "      <td>1649.821569</td>\n",
       "      <td>-400.071884</td>\n",
       "      <td>34.952967</td>\n",
       "      <td>-501.204647</td>\n",
       "      <td>29.927025</td>\n",
       "      <td>-500.106628</td>\n",
       "      <td>25.978253</td>\n",
       "      <td>-499.890060</td>\n",
       "      <td>23.004376</td>\n",
       "      <td>-500.014529</td>\n",
       "      <td>22.993827</td>\n",
       "      <td>-501.559663</td>\n",
       "      <td>20.029144</td>\n",
       "      <td>-500.000662</td>\n",
       "      <td>18.012723</td>\n",
       "      <td>-500.024764</td>\n",
       "      <td>13.016445</td>\n",
       "      <td>-500.058432</td>\n",
       "      <td>19.973767</td>\n",
       "      <td>-501.394155</td>\n",
       "    </tr>\n",
       "    <tr>\n",
       "      <th>3</th>\n",
       "      <td>2017-12-09 17:59:59</td>\n",
       "      <td>5.145949</td>\n",
       "      <td>6.084374</td>\n",
       "      <td>4.768124</td>\n",
       "      <td>36.808874</td>\n",
       "      <td>539.713765</td>\n",
       "      <td>77.984784</td>\n",
       "      <td>6.927072</td>\n",
       "      <td>8.955597</td>\n",
       "      <td>1199.292489</td>\n",
       "      <td>-299.778385</td>\n",
       "      <td>1152.512559</td>\n",
       "      <td>-500.338106</td>\n",
       "      <td>1052.601592</td>\n",
       "      <td>-499.695075</td>\n",
       "      <td>955.171539</td>\n",
       "      <td>-500.294989</td>\n",
       "      <td>851.957342</td>\n",
       "      <td>-499.779541</td>\n",
       "      <td>850.765662</td>\n",
       "      <td>-501.030559</td>\n",
       "      <td>6.929364</td>\n",
       "      <td>8.920717</td>\n",
       "      <td>108.080163</td>\n",
       "      <td>7.970121</td>\n",
       "      <td>6.660000</td>\n",
       "      <td>0.774909</td>\n",
       "      <td>1652.660845</td>\n",
       "      <td>-399.702218</td>\n",
       "      <td>1651.203128</td>\n",
       "      <td>-400.291472</td>\n",
       "      <td>1651.924848</td>\n",
       "      <td>-398.058033</td>\n",
       "      <td>1650.782696</td>\n",
       "      <td>-399.597977</td>\n",
       "      <td>35.038256</td>\n",
       "      <td>-500.102649</td>\n",
       "      <td>30.066959</td>\n",
       "      <td>-500.211499</td>\n",
       "      <td>26.013515</td>\n",
       "      <td>-500.054597</td>\n",
       "      <td>22.988928</td>\n",
       "      <td>-499.981410</td>\n",
       "      <td>23.032807</td>\n",
       "      <td>-501.287889</td>\n",
       "      <td>19.977466</td>\n",
       "      <td>-500.159903</td>\n",
       "      <td>17.980463</td>\n",
       "      <td>-500.504602</td>\n",
       "      <td>12.949071</td>\n",
       "      <td>-500.009937</td>\n",
       "      <td>20.010332</td>\n",
       "      <td>-508.337973</td>\n",
       "    </tr>\n",
       "    <tr>\n",
       "      <th>4</th>\n",
       "      <td>2017-12-09 18:59:59</td>\n",
       "      <td>5.735249</td>\n",
       "      <td>6.165220</td>\n",
       "      <td>4.512346</td>\n",
       "      <td>37.810642</td>\n",
       "      <td>558.713584</td>\n",
       "      <td>86.434874</td>\n",
       "      <td>7.823471</td>\n",
       "      <td>7.490356</td>\n",
       "      <td>1198.005449</td>\n",
       "      <td>-300.283401</td>\n",
       "      <td>1099.481500</td>\n",
       "      <td>-499.702465</td>\n",
       "      <td>999.539264</td>\n",
       "      <td>-499.306051</td>\n",
       "      <td>889.445596</td>\n",
       "      <td>-498.118617</td>\n",
       "      <td>800.533525</td>\n",
       "      <td>-499.765068</td>\n",
       "      <td>800.510356</td>\n",
       "      <td>-497.289533</td>\n",
       "      <td>7.824875</td>\n",
       "      <td>7.500678</td>\n",
       "      <td>117.750648</td>\n",
       "      <td>6.954311</td>\n",
       "      <td>6.426667</td>\n",
       "      <td>0.731271</td>\n",
       "      <td>1649.411497</td>\n",
       "      <td>-399.853156</td>\n",
       "      <td>1648.917211</td>\n",
       "      <td>-400.321866</td>\n",
       "      <td>1649.117753</td>\n",
       "      <td>-399.645348</td>\n",
       "      <td>1650.398209</td>\n",
       "      <td>-400.654533</td>\n",
       "      <td>34.894598</td>\n",
       "      <td>-498.444587</td>\n",
       "      <td>30.020745</td>\n",
       "      <td>-533.831343</td>\n",
       "      <td>26.022094</td>\n",
       "      <td>-499.725484</td>\n",
       "      <td>22.992992</td>\n",
       "      <td>-499.891405</td>\n",
       "      <td>23.001911</td>\n",
       "      <td>-499.947838</td>\n",
       "      <td>20.023735</td>\n",
       "      <td>-499.713680</td>\n",
       "      <td>17.990955</td>\n",
       "      <td>-500.334769</td>\n",
       "      <td>13.007523</td>\n",
       "      <td>-499.968459</td>\n",
       "      <td>19.995999</td>\n",
       "      <td>-499.788805</td>\n",
       "    </tr>\n",
       "  </tbody>\n",
       "</table>\n",
       "</div>"
      ],
      "text/plain": [
       "                  date  rougher.input.feed_au  rougher.input.feed_ag  \\\n",
       "0  2017-12-09 14:59:59               4.365491               6.158718   \n",
       "1  2017-12-09 15:59:59               4.362781               6.048130   \n",
       "2  2017-12-09 16:59:59               5.081681               6.082745   \n",
       "3  2017-12-09 17:59:59               5.145949               6.084374   \n",
       "4  2017-12-09 18:59:59               5.735249               6.165220   \n",
       "\n",
       "   rougher.input.feed_pb  rougher.input.feed_sol  rougher.input.feed_rate  \\\n",
       "0               3.875727               39.135119               555.820208   \n",
       "1               3.902537               39.713906               544.731687   \n",
       "2               4.564078               37.208683               558.155110   \n",
       "3               4.768124               36.808874               539.713765   \n",
       "4               4.512346               37.810642               558.713584   \n",
       "\n",
       "   rougher.input.feed_size  rougher.input.floatbank10_sulfate  \\\n",
       "0                94.544358                           6.146982   \n",
       "1               123.742430                           6.210119   \n",
       "2                82.610855                           7.363824   \n",
       "3                77.984784                           6.927072   \n",
       "4                86.434874                           7.823471   \n",
       "\n",
       "   rougher.input.floatbank10_xanthate  rougher.state.floatbank10_a_air  \\\n",
       "0                            9.308612                      1196.238112   \n",
       "1                            9.297709                      1201.904177   \n",
       "2                            9.003562                      1200.826926   \n",
       "3                            8.955597                      1199.292489   \n",
       "4                            7.490356                      1198.005449   \n",
       "\n",
       "   rougher.state.floatbank10_a_level  rougher.state.floatbank10_b_air  \\\n",
       "0                        -299.862743                      1147.248241   \n",
       "1                        -299.907308                      1154.087804   \n",
       "2                        -300.124116                      1150.754676   \n",
       "3                        -299.778385                      1152.512559   \n",
       "4                        -300.283401                      1099.481500   \n",
       "\n",
       "   rougher.state.floatbank10_b_level  rougher.state.floatbank10_c_air  \\\n",
       "0                        -500.363165                      1047.279065   \n",
       "1                        -500.036580                      1054.009756   \n",
       "2                        -499.986009                      1049.182824   \n",
       "3                        -500.338106                      1052.601592   \n",
       "4                        -499.702465                       999.539264   \n",
       "\n",
       "   rougher.state.floatbank10_c_level  rougher.state.floatbank10_d_air  \\\n",
       "0                        -500.354091                       948.756608   \n",
       "1                        -500.237335                       944.138793   \n",
       "2                        -500.014696                       948.085464   \n",
       "3                        -499.695075                       955.171539   \n",
       "4                        -499.306051                       889.445596   \n",
       "\n",
       "   rougher.state.floatbank10_d_level  rougher.state.floatbank10_e_air  \\\n",
       "0                        -498.439416                       849.441918   \n",
       "1                        -496.866953                       851.589767   \n",
       "2                        -499.997003                       850.170086   \n",
       "3                        -500.294989                       851.957342   \n",
       "4                        -498.118617                       800.533525   \n",
       "\n",
       "   rougher.state.floatbank10_e_level  rougher.state.floatbank10_f_air  \\\n",
       "0                        -499.255503                       850.112246   \n",
       "1                        -499.040466                       851.345606   \n",
       "2                        -500.270334                       849.557905   \n",
       "3                        -499.779541                       850.765662   \n",
       "4                        -499.765068                       800.510356   \n",
       "\n",
       "   rougher.state.floatbank10_f_level  rougher.input.floatbank11_sulfate  \\\n",
       "0                        -499.407112                           6.168939   \n",
       "1                        -499.122561                           6.209517   \n",
       "2                        -500.198702                           7.358308   \n",
       "3                        -501.030559                           6.929364   \n",
       "4                        -497.289533                           7.824875   \n",
       "\n",
       "   rougher.input.floatbank11_xanthate  primary_cleaner.input.sulfate  \\\n",
       "0                            9.309852                      95.248427   \n",
       "1                            9.297194                      98.880538   \n",
       "2                            9.000624                     119.497545   \n",
       "3                            8.920717                     108.080163   \n",
       "4                            7.500678                     117.750648   \n",
       "\n",
       "   primary_cleaner.input.depressant  primary_cleaner.input.feed_size  \\\n",
       "0                          8.078957                         6.500000   \n",
       "1                          7.984164                         6.500000   \n",
       "2                          8.003752                         6.500000   \n",
       "3                          7.970121                         6.660000   \n",
       "4                          6.954311                         6.426667   \n",
       "\n",
       "   primary_cleaner.input.xanthate  primary_cleaner.state.floatbank8_a_air  \\\n",
       "0                        1.283045                             1648.759906   \n",
       "1                        1.241969                             1646.547763   \n",
       "2                        1.259741                             1647.368779   \n",
       "3                        0.774909                             1652.660845   \n",
       "4                        0.731271                             1649.411497   \n",
       "\n",
       "   primary_cleaner.state.floatbank8_a_level  \\\n",
       "0                               -399.862053   \n",
       "1                               -398.977083   \n",
       "2                               -399.788506   \n",
       "3                               -399.702218   \n",
       "4                               -399.853156   \n",
       "\n",
       "   primary_cleaner.state.floatbank8_b_air  \\\n",
       "0                             1650.135395   \n",
       "1                             1648.212240   \n",
       "2                             1648.395206   \n",
       "3                             1651.203128   \n",
       "4                             1648.917211   \n",
       "\n",
       "   primary_cleaner.state.floatbank8_b_level  \\\n",
       "0                               -399.957321   \n",
       "1                               -400.383265   \n",
       "2                               -400.166490   \n",
       "3                               -400.291472   \n",
       "4                               -400.321866   \n",
       "\n",
       "   primary_cleaner.state.floatbank8_c_air  \\\n",
       "0                             1648.831890   \n",
       "1                             1648.917387   \n",
       "2                             1648.953828   \n",
       "3                             1651.924848   \n",
       "4                             1649.117753   \n",
       "\n",
       "   primary_cleaner.state.floatbank8_c_level  \\\n",
       "0                               -400.586116   \n",
       "1                               -399.521344   \n",
       "2                               -400.468641   \n",
       "3                               -398.058033   \n",
       "4                               -399.645348   \n",
       "\n",
       "   primary_cleaner.state.floatbank8_d_air  \\\n",
       "0                             1649.464582   \n",
       "1                             1651.498591   \n",
       "2                             1649.821569   \n",
       "3                             1650.782696   \n",
       "4                             1650.398209   \n",
       "\n",
       "   primary_cleaner.state.floatbank8_d_level  \\\n",
       "0                               -400.673303   \n",
       "1                               -399.745329   \n",
       "2                               -400.071884   \n",
       "3                               -399.597977   \n",
       "4                               -400.654533   \n",
       "\n",
       "   secondary_cleaner.state.floatbank2_a_air  \\\n",
       "0                                 34.940919   \n",
       "1                                 34.980742   \n",
       "2                                 34.952967   \n",
       "3                                 35.038256   \n",
       "4                                 34.894598   \n",
       "\n",
       "   secondary_cleaner.state.floatbank2_a_level  \\\n",
       "0                                 -500.150510   \n",
       "1                                 -498.131002   \n",
       "2                                 -501.204647   \n",
       "3                                 -500.102649   \n",
       "4                                 -498.444587   \n",
       "\n",
       "   secondary_cleaner.state.floatbank2_b_air  \\\n",
       "0                                 30.031867   \n",
       "1                                 29.968453   \n",
       "2                                 29.927025   \n",
       "3                                 30.066959   \n",
       "4                                 30.020745   \n",
       "\n",
       "   secondary_cleaner.state.floatbank2_b_level  \\\n",
       "0                                 -500.328335   \n",
       "1                                 -586.013330   \n",
       "2                                 -500.106628   \n",
       "3                                 -500.211499   \n",
       "4                                 -533.831343   \n",
       "\n",
       "   secondary_cleaner.state.floatbank3_a_air  \\\n",
       "0                                 26.033990   \n",
       "1                                 25.971737   \n",
       "2                                 25.978253   \n",
       "3                                 26.013515   \n",
       "4                                 26.022094   \n",
       "\n",
       "   secondary_cleaner.state.floatbank3_a_level  \\\n",
       "0                                 -500.147792   \n",
       "1                                 -499.608392   \n",
       "2                                 -499.890060   \n",
       "3                                 -500.054597   \n",
       "4                                 -499.725484   \n",
       "\n",
       "   secondary_cleaner.state.floatbank3_b_air  \\\n",
       "0                                 22.952306   \n",
       "1                                 22.958448   \n",
       "2                                 23.004376   \n",
       "3                                 22.988928   \n",
       "4                                 22.992992   \n",
       "\n",
       "   secondary_cleaner.state.floatbank3_b_level  \\\n",
       "0                                 -500.037678   \n",
       "1                                 -499.821308   \n",
       "2                                 -500.014529   \n",
       "3                                 -499.981410   \n",
       "4                                 -499.891405   \n",
       "\n",
       "   secondary_cleaner.state.floatbank4_a_air  \\\n",
       "0                                 23.018622   \n",
       "1                                 23.024963   \n",
       "2                                 22.993827   \n",
       "3                                 23.032807   \n",
       "4                                 23.001911   \n",
       "\n",
       "   secondary_cleaner.state.floatbank4_a_level  \\\n",
       "0                                 -500.492702   \n",
       "1                                 -501.153409   \n",
       "2                                 -501.559663   \n",
       "3                                 -501.287889   \n",
       "4                                 -499.947838   \n",
       "\n",
       "   secondary_cleaner.state.floatbank4_b_air  \\\n",
       "0                                 20.020205   \n",
       "1                                 20.054122   \n",
       "2                                 20.029144   \n",
       "3                                 19.977466   \n",
       "4                                 20.023735   \n",
       "\n",
       "   secondary_cleaner.state.floatbank4_b_level  \\\n",
       "0                                 -500.220296   \n",
       "1                                 -500.314711   \n",
       "2                                 -500.000662   \n",
       "3                                 -500.159903   \n",
       "4                                 -499.713680   \n",
       "\n",
       "   secondary_cleaner.state.floatbank5_a_air  \\\n",
       "0                                 17.963512   \n",
       "1                                 17.979515   \n",
       "2                                 18.012723   \n",
       "3                                 17.980463   \n",
       "4                                 17.990955   \n",
       "\n",
       "   secondary_cleaner.state.floatbank5_a_level  \\\n",
       "0                                 -499.939490   \n",
       "1                                 -499.272871   \n",
       "2                                 -500.024764   \n",
       "3                                 -500.504602   \n",
       "4                                 -500.334769   \n",
       "\n",
       "   secondary_cleaner.state.floatbank5_b_air  \\\n",
       "0                                 12.990306   \n",
       "1                                 12.992404   \n",
       "2                                 13.016445   \n",
       "3                                 12.949071   \n",
       "4                                 13.007523   \n",
       "\n",
       "   secondary_cleaner.state.floatbank5_b_level  \\\n",
       "0                                 -500.080993   \n",
       "1                                 -499.976268   \n",
       "2                                 -500.058432   \n",
       "3                                 -500.009937   \n",
       "4                                 -499.968459   \n",
       "\n",
       "   secondary_cleaner.state.floatbank6_a_air  \\\n",
       "0                                 19.990336   \n",
       "1                                 20.013986   \n",
       "2                                 19.973767   \n",
       "3                                 20.010332   \n",
       "4                                 19.995999   \n",
       "\n",
       "   secondary_cleaner.state.floatbank6_a_level  \n",
       "0                                 -499.191575  \n",
       "1                                 -500.625471  \n",
       "2                                 -501.394155  \n",
       "3                                 -508.337973  \n",
       "4                                 -499.788805  "
      ]
     },
     "metadata": {},
     "output_type": "display_data"
    },
    {
     "data": {
      "text/html": [
       "<div>\n",
       "<style scoped>\n",
       "    .dataframe tbody tr th:only-of-type {\n",
       "        vertical-align: middle;\n",
       "    }\n",
       "\n",
       "    .dataframe tbody tr th {\n",
       "        vertical-align: top;\n",
       "    }\n",
       "\n",
       "    .dataframe thead th {\n",
       "        text-align: right;\n",
       "    }\n",
       "</style>\n",
       "<table border=\"1\" class=\"dataframe\">\n",
       "  <thead>\n",
       "    <tr style=\"text-align: right;\">\n",
       "      <th></th>\n",
       "      <th>date</th>\n",
       "      <th>rougher.input.feed_au</th>\n",
       "      <th>rougher.input.feed_ag</th>\n",
       "      <th>rougher.input.feed_pb</th>\n",
       "      <th>rougher.input.feed_sol</th>\n",
       "      <th>rougher.input.feed_rate</th>\n",
       "      <th>rougher.input.feed_size</th>\n",
       "      <th>rougher.input.floatbank10_sulfate</th>\n",
       "      <th>rougher.input.floatbank10_xanthate</th>\n",
       "      <th>rougher.state.floatbank10_a_air</th>\n",
       "      <th>rougher.state.floatbank10_a_level</th>\n",
       "      <th>rougher.state.floatbank10_b_air</th>\n",
       "      <th>rougher.state.floatbank10_b_level</th>\n",
       "      <th>rougher.state.floatbank10_c_air</th>\n",
       "      <th>rougher.state.floatbank10_c_level</th>\n",
       "      <th>rougher.state.floatbank10_d_air</th>\n",
       "      <th>rougher.state.floatbank10_d_level</th>\n",
       "      <th>rougher.state.floatbank10_e_air</th>\n",
       "      <th>rougher.state.floatbank10_e_level</th>\n",
       "      <th>rougher.state.floatbank10_f_air</th>\n",
       "      <th>rougher.state.floatbank10_f_level</th>\n",
       "      <th>rougher.input.floatbank11_sulfate</th>\n",
       "      <th>rougher.input.floatbank11_xanthate</th>\n",
       "      <th>rougher.calculation.sulfate_to_au_concentrate</th>\n",
       "      <th>rougher.calculation.floatbank10_sulfate_to_au_feed</th>\n",
       "      <th>rougher.calculation.floatbank11_sulfate_to_au_feed</th>\n",
       "      <th>rougher.calculation.au_pb_ratio</th>\n",
       "      <th>rougher.output.concentrate_au</th>\n",
       "      <th>rougher.output.concentrate_ag</th>\n",
       "      <th>rougher.output.concentrate_pb</th>\n",
       "      <th>rougher.output.concentrate_sol</th>\n",
       "      <th>rougher.output.recovery</th>\n",
       "      <th>rougher.output.tail_au</th>\n",
       "      <th>rougher.output.tail_ag</th>\n",
       "      <th>rougher.output.tail_pb</th>\n",
       "      <th>rougher.output.tail_sol</th>\n",
       "      <th>primary_cleaner.input.sulfate</th>\n",
       "      <th>primary_cleaner.input.depressant</th>\n",
       "      <th>primary_cleaner.input.feed_size</th>\n",
       "      <th>primary_cleaner.input.xanthate</th>\n",
       "      <th>primary_cleaner.state.floatbank8_a_air</th>\n",
       "      <th>primary_cleaner.state.floatbank8_a_level</th>\n",
       "      <th>primary_cleaner.state.floatbank8_b_air</th>\n",
       "      <th>primary_cleaner.state.floatbank8_b_level</th>\n",
       "      <th>primary_cleaner.state.floatbank8_c_air</th>\n",
       "      <th>primary_cleaner.state.floatbank8_c_level</th>\n",
       "      <th>primary_cleaner.state.floatbank8_d_air</th>\n",
       "      <th>primary_cleaner.state.floatbank8_d_level</th>\n",
       "      <th>primary_cleaner.output.concentrate_au</th>\n",
       "      <th>primary_cleaner.output.concentrate_ag</th>\n",
       "      <th>primary_cleaner.output.concentrate_pb</th>\n",
       "      <th>primary_cleaner.output.concentrate_sol</th>\n",
       "      <th>primary_cleaner.output.tail_au</th>\n",
       "      <th>primary_cleaner.output.tail_ag</th>\n",
       "      <th>primary_cleaner.output.tail_pb</th>\n",
       "      <th>primary_cleaner.output.tail_sol</th>\n",
       "      <th>secondary_cleaner.state.floatbank2_a_air</th>\n",
       "      <th>secondary_cleaner.state.floatbank2_a_level</th>\n",
       "      <th>secondary_cleaner.state.floatbank2_b_air</th>\n",
       "      <th>secondary_cleaner.state.floatbank2_b_level</th>\n",
       "      <th>secondary_cleaner.state.floatbank3_a_air</th>\n",
       "      <th>secondary_cleaner.state.floatbank3_a_level</th>\n",
       "      <th>secondary_cleaner.state.floatbank3_b_air</th>\n",
       "      <th>secondary_cleaner.state.floatbank3_b_level</th>\n",
       "      <th>secondary_cleaner.state.floatbank4_a_air</th>\n",
       "      <th>secondary_cleaner.state.floatbank4_a_level</th>\n",
       "      <th>secondary_cleaner.state.floatbank4_b_air</th>\n",
       "      <th>secondary_cleaner.state.floatbank4_b_level</th>\n",
       "      <th>secondary_cleaner.state.floatbank5_a_air</th>\n",
       "      <th>secondary_cleaner.state.floatbank5_a_level</th>\n",
       "      <th>secondary_cleaner.state.floatbank5_b_air</th>\n",
       "      <th>secondary_cleaner.state.floatbank5_b_level</th>\n",
       "      <th>secondary_cleaner.state.floatbank6_a_air</th>\n",
       "      <th>secondary_cleaner.state.floatbank6_a_level</th>\n",
       "      <th>secondary_cleaner.output.tail_au</th>\n",
       "      <th>secondary_cleaner.output.tail_ag</th>\n",
       "      <th>secondary_cleaner.output.tail_pb</th>\n",
       "      <th>secondary_cleaner.output.tail_sol</th>\n",
       "      <th>final.output.concentrate_au</th>\n",
       "      <th>final.output.concentrate_ag</th>\n",
       "      <th>final.output.concentrate_pb</th>\n",
       "      <th>final.output.concentrate_sol</th>\n",
       "      <th>final.output.recovery</th>\n",
       "      <th>final.output.tail_au</th>\n",
       "      <th>final.output.tail_ag</th>\n",
       "      <th>final.output.tail_pb</th>\n",
       "      <th>final.output.tail_sol</th>\n",
       "    </tr>\n",
       "  </thead>\n",
       "  <tbody>\n",
       "    <tr>\n",
       "      <th>0</th>\n",
       "      <td>2016-01-15 00:00:00</td>\n",
       "      <td>6.486150</td>\n",
       "      <td>6.100378</td>\n",
       "      <td>2.284912</td>\n",
       "      <td>36.808594</td>\n",
       "      <td>523.546326</td>\n",
       "      <td>55.486599</td>\n",
       "      <td>11.986616</td>\n",
       "      <td>6.007990</td>\n",
       "      <td>999.706909</td>\n",
       "      <td>-404.066986</td>\n",
       "      <td>1603.011353</td>\n",
       "      <td>-434.715027</td>\n",
       "      <td>1602.375000</td>\n",
       "      <td>-442.204468</td>\n",
       "      <td>1598.937256</td>\n",
       "      <td>-451.294128</td>\n",
       "      <td>1404.472046</td>\n",
       "      <td>-455.462982</td>\n",
       "      <td>1416.354980</td>\n",
       "      <td>-451.939636</td>\n",
       "      <td>11.836743</td>\n",
       "      <td>6.005818</td>\n",
       "      <td>41885.707031</td>\n",
       "      <td>3481.779053</td>\n",
       "      <td>3520.337158</td>\n",
       "      <td>2.838687</td>\n",
       "      <td>19.793808</td>\n",
       "      <td>11.500771</td>\n",
       "      <td>7.101074</td>\n",
       "      <td>28.029297</td>\n",
       "      <td>87.107763</td>\n",
       "      <td>1.170244</td>\n",
       "      <td>5.008018</td>\n",
       "      <td>0.508728</td>\n",
       "      <td>19.154297</td>\n",
       "      <td>127.092003</td>\n",
       "      <td>10.128295</td>\n",
       "      <td>7.25</td>\n",
       "      <td>0.988759</td>\n",
       "      <td>1549.775757</td>\n",
       "      <td>-498.912140</td>\n",
       "      <td>1551.434204</td>\n",
       "      <td>-516.403442</td>\n",
       "      <td>1549.873901</td>\n",
       "      <td>-498.666595</td>\n",
       "      <td>1554.367432</td>\n",
       "      <td>-493.428131</td>\n",
       "      <td>34.174427</td>\n",
       "      <td>8.547551</td>\n",
       "      <td>10.389648</td>\n",
       "      <td>19.529297</td>\n",
       "      <td>2.106679</td>\n",
       "      <td>14.936526</td>\n",
       "      <td>2.534912</td>\n",
       "      <td>7.476074</td>\n",
       "      <td>25.853109</td>\n",
       "      <td>-498.526489</td>\n",
       "      <td>23.893660</td>\n",
       "      <td>-501.406281</td>\n",
       "      <td>23.961798</td>\n",
       "      <td>-495.262817</td>\n",
       "      <td>21.940409</td>\n",
       "      <td>-499.340973</td>\n",
       "      <td>14.016835</td>\n",
       "      <td>-502.488007</td>\n",
       "      <td>12.099931</td>\n",
       "      <td>-504.715942</td>\n",
       "      <td>9.925633</td>\n",
       "      <td>-498.310211</td>\n",
       "      <td>8.079666</td>\n",
       "      <td>-500.470978</td>\n",
       "      <td>14.151341</td>\n",
       "      <td>-605.841980</td>\n",
       "      <td>2.606185</td>\n",
       "      <td>14.500184</td>\n",
       "      <td>4.694824</td>\n",
       "      <td>8.764648</td>\n",
       "      <td>42.192020</td>\n",
       "      <td>6.055403</td>\n",
       "      <td>9.889648</td>\n",
       "      <td>5.507324</td>\n",
       "      <td>70.541216</td>\n",
       "      <td>2.143149</td>\n",
       "      <td>10.411962</td>\n",
       "      <td>0.895447</td>\n",
       "      <td>16.904297</td>\n",
       "    </tr>\n",
       "    <tr>\n",
       "      <th>1</th>\n",
       "      <td>2016-01-15 01:00:00</td>\n",
       "      <td>6.478583</td>\n",
       "      <td>6.161113</td>\n",
       "      <td>2.266033</td>\n",
       "      <td>35.753385</td>\n",
       "      <td>525.290581</td>\n",
       "      <td>57.278666</td>\n",
       "      <td>11.971193</td>\n",
       "      <td>6.005766</td>\n",
       "      <td>1000.286398</td>\n",
       "      <td>-400.065196</td>\n",
       "      <td>1600.754587</td>\n",
       "      <td>-449.953435</td>\n",
       "      <td>1600.479580</td>\n",
       "      <td>-449.830646</td>\n",
       "      <td>1600.527589</td>\n",
       "      <td>-449.953649</td>\n",
       "      <td>1399.227084</td>\n",
       "      <td>-450.869848</td>\n",
       "      <td>1399.719514</td>\n",
       "      <td>-450.119001</td>\n",
       "      <td>11.996163</td>\n",
       "      <td>6.012594</td>\n",
       "      <td>42050.861809</td>\n",
       "      <td>3498.370979</td>\n",
       "      <td>3489.981857</td>\n",
       "      <td>2.858998</td>\n",
       "      <td>20.050975</td>\n",
       "      <td>11.615865</td>\n",
       "      <td>7.278807</td>\n",
       "      <td>28.067063</td>\n",
       "      <td>86.843261</td>\n",
       "      <td>1.184827</td>\n",
       "      <td>4.955378</td>\n",
       "      <td>0.536689</td>\n",
       "      <td>18.965234</td>\n",
       "      <td>125.629232</td>\n",
       "      <td>10.296251</td>\n",
       "      <td>7.25</td>\n",
       "      <td>1.002663</td>\n",
       "      <td>1576.166671</td>\n",
       "      <td>-500.904965</td>\n",
       "      <td>1575.950626</td>\n",
       "      <td>-499.865889</td>\n",
       "      <td>1575.994189</td>\n",
       "      <td>-499.315107</td>\n",
       "      <td>1574.479259</td>\n",
       "      <td>-498.931665</td>\n",
       "      <td>34.118526</td>\n",
       "      <td>8.558743</td>\n",
       "      <td>10.497069</td>\n",
       "      <td>19.369147</td>\n",
       "      <td>2.353017</td>\n",
       "      <td>16.250511</td>\n",
       "      <td>3.049646</td>\n",
       "      <td>6.733907</td>\n",
       "      <td>25.880539</td>\n",
       "      <td>-499.989656</td>\n",
       "      <td>23.889530</td>\n",
       "      <td>-500.372428</td>\n",
       "      <td>23.970550</td>\n",
       "      <td>-500.085473</td>\n",
       "      <td>22.085714</td>\n",
       "      <td>-499.446897</td>\n",
       "      <td>13.992281</td>\n",
       "      <td>-505.503262</td>\n",
       "      <td>11.950531</td>\n",
       "      <td>-501.331529</td>\n",
       "      <td>10.039245</td>\n",
       "      <td>-500.169983</td>\n",
       "      <td>7.984757</td>\n",
       "      <td>-500.582168</td>\n",
       "      <td>13.998353</td>\n",
       "      <td>-599.787184</td>\n",
       "      <td>2.488248</td>\n",
       "      <td>14.265474</td>\n",
       "      <td>4.592547</td>\n",
       "      <td>9.001494</td>\n",
       "      <td>42.701629</td>\n",
       "      <td>6.029369</td>\n",
       "      <td>9.968944</td>\n",
       "      <td>5.257781</td>\n",
       "      <td>69.266198</td>\n",
       "      <td>2.224930</td>\n",
       "      <td>10.462676</td>\n",
       "      <td>0.927452</td>\n",
       "      <td>16.634514</td>\n",
       "    </tr>\n",
       "    <tr>\n",
       "      <th>2</th>\n",
       "      <td>2016-01-15 02:00:00</td>\n",
       "      <td>6.362222</td>\n",
       "      <td>6.116455</td>\n",
       "      <td>2.159622</td>\n",
       "      <td>35.971630</td>\n",
       "      <td>530.026610</td>\n",
       "      <td>57.510649</td>\n",
       "      <td>11.920603</td>\n",
       "      <td>6.197377</td>\n",
       "      <td>999.719565</td>\n",
       "      <td>-400.074028</td>\n",
       "      <td>1599.337330</td>\n",
       "      <td>-450.008530</td>\n",
       "      <td>1599.672797</td>\n",
       "      <td>-449.954491</td>\n",
       "      <td>1599.849325</td>\n",
       "      <td>-449.954185</td>\n",
       "      <td>1399.180945</td>\n",
       "      <td>-449.937588</td>\n",
       "      <td>1400.316682</td>\n",
       "      <td>-450.527147</td>\n",
       "      <td>11.920305</td>\n",
       "      <td>6.204633</td>\n",
       "      <td>42018.101184</td>\n",
       "      <td>3495.348910</td>\n",
       "      <td>3502.359819</td>\n",
       "      <td>2.945989</td>\n",
       "      <td>19.737170</td>\n",
       "      <td>11.695753</td>\n",
       "      <td>7.216833</td>\n",
       "      <td>27.454037</td>\n",
       "      <td>86.842308</td>\n",
       "      <td>1.162562</td>\n",
       "      <td>4.843460</td>\n",
       "      <td>0.546416</td>\n",
       "      <td>18.808533</td>\n",
       "      <td>123.819808</td>\n",
       "      <td>11.316280</td>\n",
       "      <td>7.25</td>\n",
       "      <td>0.991265</td>\n",
       "      <td>1601.556163</td>\n",
       "      <td>-499.997791</td>\n",
       "      <td>1600.386685</td>\n",
       "      <td>-500.607762</td>\n",
       "      <td>1602.003542</td>\n",
       "      <td>-500.870069</td>\n",
       "      <td>1599.541515</td>\n",
       "      <td>-499.827444</td>\n",
       "      <td>33.969464</td>\n",
       "      <td>8.603505</td>\n",
       "      <td>10.354494</td>\n",
       "      <td>19.167579</td>\n",
       "      <td>2.416800</td>\n",
       "      <td>16.491823</td>\n",
       "      <td>3.124664</td>\n",
       "      <td>6.471768</td>\n",
       "      <td>26.005245</td>\n",
       "      <td>-499.929616</td>\n",
       "      <td>23.886657</td>\n",
       "      <td>-499.951928</td>\n",
       "      <td>23.913535</td>\n",
       "      <td>-499.442343</td>\n",
       "      <td>23.957717</td>\n",
       "      <td>-499.901982</td>\n",
       "      <td>14.015015</td>\n",
       "      <td>-502.520901</td>\n",
       "      <td>11.912783</td>\n",
       "      <td>-501.133383</td>\n",
       "      <td>10.070913</td>\n",
       "      <td>-500.129135</td>\n",
       "      <td>8.013877</td>\n",
       "      <td>-500.517572</td>\n",
       "      <td>14.028663</td>\n",
       "      <td>-601.427363</td>\n",
       "      <td>2.458187</td>\n",
       "      <td>14.115662</td>\n",
       "      <td>4.624775</td>\n",
       "      <td>8.842896</td>\n",
       "      <td>42.657501</td>\n",
       "      <td>6.055926</td>\n",
       "      <td>10.213995</td>\n",
       "      <td>5.383759</td>\n",
       "      <td>68.116445</td>\n",
       "      <td>2.257889</td>\n",
       "      <td>10.507046</td>\n",
       "      <td>0.953716</td>\n",
       "      <td>16.208849</td>\n",
       "    </tr>\n",
       "    <tr>\n",
       "      <th>3</th>\n",
       "      <td>2016-01-15 03:00:00</td>\n",
       "      <td>6.118189</td>\n",
       "      <td>6.043309</td>\n",
       "      <td>2.037807</td>\n",
       "      <td>36.862241</td>\n",
       "      <td>542.590390</td>\n",
       "      <td>57.792734</td>\n",
       "      <td>11.630094</td>\n",
       "      <td>6.203177</td>\n",
       "      <td>999.814770</td>\n",
       "      <td>-400.200179</td>\n",
       "      <td>1600.059442</td>\n",
       "      <td>-450.619948</td>\n",
       "      <td>1600.012842</td>\n",
       "      <td>-449.910497</td>\n",
       "      <td>1597.725177</td>\n",
       "      <td>-450.130127</td>\n",
       "      <td>1400.943157</td>\n",
       "      <td>-450.030142</td>\n",
       "      <td>1400.234743</td>\n",
       "      <td>-449.790835</td>\n",
       "      <td>11.692450</td>\n",
       "      <td>6.196578</td>\n",
       "      <td>42029.447991</td>\n",
       "      <td>3498.578313</td>\n",
       "      <td>3499.162912</td>\n",
       "      <td>3.002340</td>\n",
       "      <td>19.320810</td>\n",
       "      <td>11.915047</td>\n",
       "      <td>7.175616</td>\n",
       "      <td>27.341277</td>\n",
       "      <td>87.226430</td>\n",
       "      <td>1.079755</td>\n",
       "      <td>4.655288</td>\n",
       "      <td>0.542525</td>\n",
       "      <td>19.330200</td>\n",
       "      <td>122.270188</td>\n",
       "      <td>11.322140</td>\n",
       "      <td>7.25</td>\n",
       "      <td>0.996739</td>\n",
       "      <td>1599.968720</td>\n",
       "      <td>-500.951778</td>\n",
       "      <td>1600.659236</td>\n",
       "      <td>-499.677094</td>\n",
       "      <td>1600.304144</td>\n",
       "      <td>-500.727997</td>\n",
       "      <td>1600.449520</td>\n",
       "      <td>-500.052575</td>\n",
       "      <td>28.260743</td>\n",
       "      <td>7.221879</td>\n",
       "      <td>8.496563</td>\n",
       "      <td>15.978538</td>\n",
       "      <td>2.262051</td>\n",
       "      <td>16.024359</td>\n",
       "      <td>2.960362</td>\n",
       "      <td>6.843791</td>\n",
       "      <td>25.942508</td>\n",
       "      <td>-499.176749</td>\n",
       "      <td>23.955516</td>\n",
       "      <td>-499.848796</td>\n",
       "      <td>23.966838</td>\n",
       "      <td>-500.008812</td>\n",
       "      <td>23.954443</td>\n",
       "      <td>-499.944710</td>\n",
       "      <td>14.036510</td>\n",
       "      <td>-500.857308</td>\n",
       "      <td>11.999550</td>\n",
       "      <td>-501.193686</td>\n",
       "      <td>9.970366</td>\n",
       "      <td>-499.201640</td>\n",
       "      <td>7.977324</td>\n",
       "      <td>-500.255908</td>\n",
       "      <td>14.005551</td>\n",
       "      <td>-599.996129</td>\n",
       "      <td>2.322062</td>\n",
       "      <td>13.732071</td>\n",
       "      <td>4.482453</td>\n",
       "      <td>9.122857</td>\n",
       "      <td>42.689819</td>\n",
       "      <td>6.047977</td>\n",
       "      <td>9.977019</td>\n",
       "      <td>4.858634</td>\n",
       "      <td>68.347543</td>\n",
       "      <td>2.146849</td>\n",
       "      <td>10.422762</td>\n",
       "      <td>0.883763</td>\n",
       "      <td>16.532835</td>\n",
       "    </tr>\n",
       "    <tr>\n",
       "      <th>4</th>\n",
       "      <td>2016-01-15 04:00:00</td>\n",
       "      <td>5.663707</td>\n",
       "      <td>6.060915</td>\n",
       "      <td>1.786875</td>\n",
       "      <td>34.347666</td>\n",
       "      <td>540.531893</td>\n",
       "      <td>56.047189</td>\n",
       "      <td>10.957755</td>\n",
       "      <td>6.198826</td>\n",
       "      <td>999.678690</td>\n",
       "      <td>-399.752729</td>\n",
       "      <td>1600.208824</td>\n",
       "      <td>-449.599614</td>\n",
       "      <td>1600.357732</td>\n",
       "      <td>-450.034364</td>\n",
       "      <td>1599.759049</td>\n",
       "      <td>-449.909799</td>\n",
       "      <td>1401.560902</td>\n",
       "      <td>-448.877187</td>\n",
       "      <td>1401.160227</td>\n",
       "      <td>-450.407128</td>\n",
       "      <td>10.960521</td>\n",
       "      <td>6.194897</td>\n",
       "      <td>42125.354245</td>\n",
       "      <td>3494.800771</td>\n",
       "      <td>3506.679315</td>\n",
       "      <td>3.169615</td>\n",
       "      <td>19.216101</td>\n",
       "      <td>12.411054</td>\n",
       "      <td>7.240205</td>\n",
       "      <td>27.041023</td>\n",
       "      <td>86.688794</td>\n",
       "      <td>1.012642</td>\n",
       "      <td>4.552800</td>\n",
       "      <td>0.515438</td>\n",
       "      <td>19.267422</td>\n",
       "      <td>117.988169</td>\n",
       "      <td>11.913613</td>\n",
       "      <td>7.25</td>\n",
       "      <td>1.009869</td>\n",
       "      <td>1601.339707</td>\n",
       "      <td>-498.975456</td>\n",
       "      <td>1601.437854</td>\n",
       "      <td>-500.323246</td>\n",
       "      <td>1599.581894</td>\n",
       "      <td>-500.888152</td>\n",
       "      <td>1602.649541</td>\n",
       "      <td>-500.593010</td>\n",
       "      <td>33.044932</td>\n",
       "      <td>9.089428</td>\n",
       "      <td>9.986786</td>\n",
       "      <td>19.199864</td>\n",
       "      <td>2.277073</td>\n",
       "      <td>16.480185</td>\n",
       "      <td>3.112100</td>\n",
       "      <td>6.550154</td>\n",
       "      <td>26.024787</td>\n",
       "      <td>-500.279091</td>\n",
       "      <td>23.955345</td>\n",
       "      <td>-500.593614</td>\n",
       "      <td>23.985703</td>\n",
       "      <td>-500.083811</td>\n",
       "      <td>23.958945</td>\n",
       "      <td>-499.990309</td>\n",
       "      <td>14.027298</td>\n",
       "      <td>-499.838632</td>\n",
       "      <td>11.953070</td>\n",
       "      <td>-501.053894</td>\n",
       "      <td>9.925709</td>\n",
       "      <td>-501.686727</td>\n",
       "      <td>7.894242</td>\n",
       "      <td>-500.356035</td>\n",
       "      <td>13.996647</td>\n",
       "      <td>-601.496691</td>\n",
       "      <td>2.330448</td>\n",
       "      <td>14.079996</td>\n",
       "      <td>4.470737</td>\n",
       "      <td>8.871028</td>\n",
       "      <td>42.774141</td>\n",
       "      <td>6.148599</td>\n",
       "      <td>10.142511</td>\n",
       "      <td>4.939416</td>\n",
       "      <td>66.927016</td>\n",
       "      <td>2.055292</td>\n",
       "      <td>10.360302</td>\n",
       "      <td>0.792826</td>\n",
       "      <td>16.525686</td>\n",
       "    </tr>\n",
       "  </tbody>\n",
       "</table>\n",
       "</div>"
      ],
      "text/plain": [
       "                  date  rougher.input.feed_au  rougher.input.feed_ag  \\\n",
       "0  2016-01-15 00:00:00               6.486150               6.100378   \n",
       "1  2016-01-15 01:00:00               6.478583               6.161113   \n",
       "2  2016-01-15 02:00:00               6.362222               6.116455   \n",
       "3  2016-01-15 03:00:00               6.118189               6.043309   \n",
       "4  2016-01-15 04:00:00               5.663707               6.060915   \n",
       "\n",
       "   rougher.input.feed_pb  rougher.input.feed_sol  rougher.input.feed_rate  \\\n",
       "0               2.284912               36.808594               523.546326   \n",
       "1               2.266033               35.753385               525.290581   \n",
       "2               2.159622               35.971630               530.026610   \n",
       "3               2.037807               36.862241               542.590390   \n",
       "4               1.786875               34.347666               540.531893   \n",
       "\n",
       "   rougher.input.feed_size  rougher.input.floatbank10_sulfate  \\\n",
       "0                55.486599                          11.986616   \n",
       "1                57.278666                          11.971193   \n",
       "2                57.510649                          11.920603   \n",
       "3                57.792734                          11.630094   \n",
       "4                56.047189                          10.957755   \n",
       "\n",
       "   rougher.input.floatbank10_xanthate  rougher.state.floatbank10_a_air  \\\n",
       "0                            6.007990                       999.706909   \n",
       "1                            6.005766                      1000.286398   \n",
       "2                            6.197377                       999.719565   \n",
       "3                            6.203177                       999.814770   \n",
       "4                            6.198826                       999.678690   \n",
       "\n",
       "   rougher.state.floatbank10_a_level  rougher.state.floatbank10_b_air  \\\n",
       "0                        -404.066986                      1603.011353   \n",
       "1                        -400.065196                      1600.754587   \n",
       "2                        -400.074028                      1599.337330   \n",
       "3                        -400.200179                      1600.059442   \n",
       "4                        -399.752729                      1600.208824   \n",
       "\n",
       "   rougher.state.floatbank10_b_level  rougher.state.floatbank10_c_air  \\\n",
       "0                        -434.715027                      1602.375000   \n",
       "1                        -449.953435                      1600.479580   \n",
       "2                        -450.008530                      1599.672797   \n",
       "3                        -450.619948                      1600.012842   \n",
       "4                        -449.599614                      1600.357732   \n",
       "\n",
       "   rougher.state.floatbank10_c_level  rougher.state.floatbank10_d_air  \\\n",
       "0                        -442.204468                      1598.937256   \n",
       "1                        -449.830646                      1600.527589   \n",
       "2                        -449.954491                      1599.849325   \n",
       "3                        -449.910497                      1597.725177   \n",
       "4                        -450.034364                      1599.759049   \n",
       "\n",
       "   rougher.state.floatbank10_d_level  rougher.state.floatbank10_e_air  \\\n",
       "0                        -451.294128                      1404.472046   \n",
       "1                        -449.953649                      1399.227084   \n",
       "2                        -449.954185                      1399.180945   \n",
       "3                        -450.130127                      1400.943157   \n",
       "4                        -449.909799                      1401.560902   \n",
       "\n",
       "   rougher.state.floatbank10_e_level  rougher.state.floatbank10_f_air  \\\n",
       "0                        -455.462982                      1416.354980   \n",
       "1                        -450.869848                      1399.719514   \n",
       "2                        -449.937588                      1400.316682   \n",
       "3                        -450.030142                      1400.234743   \n",
       "4                        -448.877187                      1401.160227   \n",
       "\n",
       "   rougher.state.floatbank10_f_level  rougher.input.floatbank11_sulfate  \\\n",
       "0                        -451.939636                          11.836743   \n",
       "1                        -450.119001                          11.996163   \n",
       "2                        -450.527147                          11.920305   \n",
       "3                        -449.790835                          11.692450   \n",
       "4                        -450.407128                          10.960521   \n",
       "\n",
       "   rougher.input.floatbank11_xanthate  \\\n",
       "0                            6.005818   \n",
       "1                            6.012594   \n",
       "2                            6.204633   \n",
       "3                            6.196578   \n",
       "4                            6.194897   \n",
       "\n",
       "   rougher.calculation.sulfate_to_au_concentrate  \\\n",
       "0                                   41885.707031   \n",
       "1                                   42050.861809   \n",
       "2                                   42018.101184   \n",
       "3                                   42029.447991   \n",
       "4                                   42125.354245   \n",
       "\n",
       "   rougher.calculation.floatbank10_sulfate_to_au_feed  \\\n",
       "0                                        3481.779053    \n",
       "1                                        3498.370979    \n",
       "2                                        3495.348910    \n",
       "3                                        3498.578313    \n",
       "4                                        3494.800771    \n",
       "\n",
       "   rougher.calculation.floatbank11_sulfate_to_au_feed  \\\n",
       "0                                        3520.337158    \n",
       "1                                        3489.981857    \n",
       "2                                        3502.359819    \n",
       "3                                        3499.162912    \n",
       "4                                        3506.679315    \n",
       "\n",
       "   rougher.calculation.au_pb_ratio  rougher.output.concentrate_au  \\\n",
       "0                         2.838687                      19.793808   \n",
       "1                         2.858998                      20.050975   \n",
       "2                         2.945989                      19.737170   \n",
       "3                         3.002340                      19.320810   \n",
       "4                         3.169615                      19.216101   \n",
       "\n",
       "   rougher.output.concentrate_ag  rougher.output.concentrate_pb  \\\n",
       "0                      11.500771                       7.101074   \n",
       "1                      11.615865                       7.278807   \n",
       "2                      11.695753                       7.216833   \n",
       "3                      11.915047                       7.175616   \n",
       "4                      12.411054                       7.240205   \n",
       "\n",
       "   rougher.output.concentrate_sol  rougher.output.recovery  \\\n",
       "0                       28.029297                87.107763   \n",
       "1                       28.067063                86.843261   \n",
       "2                       27.454037                86.842308   \n",
       "3                       27.341277                87.226430   \n",
       "4                       27.041023                86.688794   \n",
       "\n",
       "   rougher.output.tail_au  rougher.output.tail_ag  rougher.output.tail_pb  \\\n",
       "0                1.170244                5.008018                0.508728   \n",
       "1                1.184827                4.955378                0.536689   \n",
       "2                1.162562                4.843460                0.546416   \n",
       "3                1.079755                4.655288                0.542525   \n",
       "4                1.012642                4.552800                0.515438   \n",
       "\n",
       "   rougher.output.tail_sol  primary_cleaner.input.sulfate  \\\n",
       "0                19.154297                     127.092003   \n",
       "1                18.965234                     125.629232   \n",
       "2                18.808533                     123.819808   \n",
       "3                19.330200                     122.270188   \n",
       "4                19.267422                     117.988169   \n",
       "\n",
       "   primary_cleaner.input.depressant  primary_cleaner.input.feed_size  \\\n",
       "0                         10.128295                             7.25   \n",
       "1                         10.296251                             7.25   \n",
       "2                         11.316280                             7.25   \n",
       "3                         11.322140                             7.25   \n",
       "4                         11.913613                             7.25   \n",
       "\n",
       "   primary_cleaner.input.xanthate  primary_cleaner.state.floatbank8_a_air  \\\n",
       "0                        0.988759                             1549.775757   \n",
       "1                        1.002663                             1576.166671   \n",
       "2                        0.991265                             1601.556163   \n",
       "3                        0.996739                             1599.968720   \n",
       "4                        1.009869                             1601.339707   \n",
       "\n",
       "   primary_cleaner.state.floatbank8_a_level  \\\n",
       "0                               -498.912140   \n",
       "1                               -500.904965   \n",
       "2                               -499.997791   \n",
       "3                               -500.951778   \n",
       "4                               -498.975456   \n",
       "\n",
       "   primary_cleaner.state.floatbank8_b_air  \\\n",
       "0                             1551.434204   \n",
       "1                             1575.950626   \n",
       "2                             1600.386685   \n",
       "3                             1600.659236   \n",
       "4                             1601.437854   \n",
       "\n",
       "   primary_cleaner.state.floatbank8_b_level  \\\n",
       "0                               -516.403442   \n",
       "1                               -499.865889   \n",
       "2                               -500.607762   \n",
       "3                               -499.677094   \n",
       "4                               -500.323246   \n",
       "\n",
       "   primary_cleaner.state.floatbank8_c_air  \\\n",
       "0                             1549.873901   \n",
       "1                             1575.994189   \n",
       "2                             1602.003542   \n",
       "3                             1600.304144   \n",
       "4                             1599.581894   \n",
       "\n",
       "   primary_cleaner.state.floatbank8_c_level  \\\n",
       "0                               -498.666595   \n",
       "1                               -499.315107   \n",
       "2                               -500.870069   \n",
       "3                               -500.727997   \n",
       "4                               -500.888152   \n",
       "\n",
       "   primary_cleaner.state.floatbank8_d_air  \\\n",
       "0                             1554.367432   \n",
       "1                             1574.479259   \n",
       "2                             1599.541515   \n",
       "3                             1600.449520   \n",
       "4                             1602.649541   \n",
       "\n",
       "   primary_cleaner.state.floatbank8_d_level  \\\n",
       "0                               -493.428131   \n",
       "1                               -498.931665   \n",
       "2                               -499.827444   \n",
       "3                               -500.052575   \n",
       "4                               -500.593010   \n",
       "\n",
       "   primary_cleaner.output.concentrate_au  \\\n",
       "0                              34.174427   \n",
       "1                              34.118526   \n",
       "2                              33.969464   \n",
       "3                              28.260743   \n",
       "4                              33.044932   \n",
       "\n",
       "   primary_cleaner.output.concentrate_ag  \\\n",
       "0                               8.547551   \n",
       "1                               8.558743   \n",
       "2                               8.603505   \n",
       "3                               7.221879   \n",
       "4                               9.089428   \n",
       "\n",
       "   primary_cleaner.output.concentrate_pb  \\\n",
       "0                              10.389648   \n",
       "1                              10.497069   \n",
       "2                              10.354494   \n",
       "3                               8.496563   \n",
       "4                               9.986786   \n",
       "\n",
       "   primary_cleaner.output.concentrate_sol  primary_cleaner.output.tail_au  \\\n",
       "0                               19.529297                        2.106679   \n",
       "1                               19.369147                        2.353017   \n",
       "2                               19.167579                        2.416800   \n",
       "3                               15.978538                        2.262051   \n",
       "4                               19.199864                        2.277073   \n",
       "\n",
       "   primary_cleaner.output.tail_ag  primary_cleaner.output.tail_pb  \\\n",
       "0                       14.936526                        2.534912   \n",
       "1                       16.250511                        3.049646   \n",
       "2                       16.491823                        3.124664   \n",
       "3                       16.024359                        2.960362   \n",
       "4                       16.480185                        3.112100   \n",
       "\n",
       "   primary_cleaner.output.tail_sol  secondary_cleaner.state.floatbank2_a_air  \\\n",
       "0                         7.476074                                 25.853109   \n",
       "1                         6.733907                                 25.880539   \n",
       "2                         6.471768                                 26.005245   \n",
       "3                         6.843791                                 25.942508   \n",
       "4                         6.550154                                 26.024787   \n",
       "\n",
       "   secondary_cleaner.state.floatbank2_a_level  \\\n",
       "0                                 -498.526489   \n",
       "1                                 -499.989656   \n",
       "2                                 -499.929616   \n",
       "3                                 -499.176749   \n",
       "4                                 -500.279091   \n",
       "\n",
       "   secondary_cleaner.state.floatbank2_b_air  \\\n",
       "0                                 23.893660   \n",
       "1                                 23.889530   \n",
       "2                                 23.886657   \n",
       "3                                 23.955516   \n",
       "4                                 23.955345   \n",
       "\n",
       "   secondary_cleaner.state.floatbank2_b_level  \\\n",
       "0                                 -501.406281   \n",
       "1                                 -500.372428   \n",
       "2                                 -499.951928   \n",
       "3                                 -499.848796   \n",
       "4                                 -500.593614   \n",
       "\n",
       "   secondary_cleaner.state.floatbank3_a_air  \\\n",
       "0                                 23.961798   \n",
       "1                                 23.970550   \n",
       "2                                 23.913535   \n",
       "3                                 23.966838   \n",
       "4                                 23.985703   \n",
       "\n",
       "   secondary_cleaner.state.floatbank3_a_level  \\\n",
       "0                                 -495.262817   \n",
       "1                                 -500.085473   \n",
       "2                                 -499.442343   \n",
       "3                                 -500.008812   \n",
       "4                                 -500.083811   \n",
       "\n",
       "   secondary_cleaner.state.floatbank3_b_air  \\\n",
       "0                                 21.940409   \n",
       "1                                 22.085714   \n",
       "2                                 23.957717   \n",
       "3                                 23.954443   \n",
       "4                                 23.958945   \n",
       "\n",
       "   secondary_cleaner.state.floatbank3_b_level  \\\n",
       "0                                 -499.340973   \n",
       "1                                 -499.446897   \n",
       "2                                 -499.901982   \n",
       "3                                 -499.944710   \n",
       "4                                 -499.990309   \n",
       "\n",
       "   secondary_cleaner.state.floatbank4_a_air  \\\n",
       "0                                 14.016835   \n",
       "1                                 13.992281   \n",
       "2                                 14.015015   \n",
       "3                                 14.036510   \n",
       "4                                 14.027298   \n",
       "\n",
       "   secondary_cleaner.state.floatbank4_a_level  \\\n",
       "0                                 -502.488007   \n",
       "1                                 -505.503262   \n",
       "2                                 -502.520901   \n",
       "3                                 -500.857308   \n",
       "4                                 -499.838632   \n",
       "\n",
       "   secondary_cleaner.state.floatbank4_b_air  \\\n",
       "0                                 12.099931   \n",
       "1                                 11.950531   \n",
       "2                                 11.912783   \n",
       "3                                 11.999550   \n",
       "4                                 11.953070   \n",
       "\n",
       "   secondary_cleaner.state.floatbank4_b_level  \\\n",
       "0                                 -504.715942   \n",
       "1                                 -501.331529   \n",
       "2                                 -501.133383   \n",
       "3                                 -501.193686   \n",
       "4                                 -501.053894   \n",
       "\n",
       "   secondary_cleaner.state.floatbank5_a_air  \\\n",
       "0                                  9.925633   \n",
       "1                                 10.039245   \n",
       "2                                 10.070913   \n",
       "3                                  9.970366   \n",
       "4                                  9.925709   \n",
       "\n",
       "   secondary_cleaner.state.floatbank5_a_level  \\\n",
       "0                                 -498.310211   \n",
       "1                                 -500.169983   \n",
       "2                                 -500.129135   \n",
       "3                                 -499.201640   \n",
       "4                                 -501.686727   \n",
       "\n",
       "   secondary_cleaner.state.floatbank5_b_air  \\\n",
       "0                                  8.079666   \n",
       "1                                  7.984757   \n",
       "2                                  8.013877   \n",
       "3                                  7.977324   \n",
       "4                                  7.894242   \n",
       "\n",
       "   secondary_cleaner.state.floatbank5_b_level  \\\n",
       "0                                 -500.470978   \n",
       "1                                 -500.582168   \n",
       "2                                 -500.517572   \n",
       "3                                 -500.255908   \n",
       "4                                 -500.356035   \n",
       "\n",
       "   secondary_cleaner.state.floatbank6_a_air  \\\n",
       "0                                 14.151341   \n",
       "1                                 13.998353   \n",
       "2                                 14.028663   \n",
       "3                                 14.005551   \n",
       "4                                 13.996647   \n",
       "\n",
       "   secondary_cleaner.state.floatbank6_a_level  \\\n",
       "0                                 -605.841980   \n",
       "1                                 -599.787184   \n",
       "2                                 -601.427363   \n",
       "3                                 -599.996129   \n",
       "4                                 -601.496691   \n",
       "\n",
       "   secondary_cleaner.output.tail_au  secondary_cleaner.output.tail_ag  \\\n",
       "0                          2.606185                         14.500184   \n",
       "1                          2.488248                         14.265474   \n",
       "2                          2.458187                         14.115662   \n",
       "3                          2.322062                         13.732071   \n",
       "4                          2.330448                         14.079996   \n",
       "\n",
       "   secondary_cleaner.output.tail_pb  secondary_cleaner.output.tail_sol  \\\n",
       "0                          4.694824                           8.764648   \n",
       "1                          4.592547                           9.001494   \n",
       "2                          4.624775                           8.842896   \n",
       "3                          4.482453                           9.122857   \n",
       "4                          4.470737                           8.871028   \n",
       "\n",
       "   final.output.concentrate_au  final.output.concentrate_ag  \\\n",
       "0                    42.192020                     6.055403   \n",
       "1                    42.701629                     6.029369   \n",
       "2                    42.657501                     6.055926   \n",
       "3                    42.689819                     6.047977   \n",
       "4                    42.774141                     6.148599   \n",
       "\n",
       "   final.output.concentrate_pb  final.output.concentrate_sol  \\\n",
       "0                     9.889648                      5.507324   \n",
       "1                     9.968944                      5.257781   \n",
       "2                    10.213995                      5.383759   \n",
       "3                     9.977019                      4.858634   \n",
       "4                    10.142511                      4.939416   \n",
       "\n",
       "   final.output.recovery  final.output.tail_au  final.output.tail_ag  \\\n",
       "0              70.541216              2.143149             10.411962   \n",
       "1              69.266198              2.224930             10.462676   \n",
       "2              68.116445              2.257889             10.507046   \n",
       "3              68.347543              2.146849             10.422762   \n",
       "4              66.927016              2.055292             10.360302   \n",
       "\n",
       "   final.output.tail_pb  final.output.tail_sol  \n",
       "0              0.895447              16.904297  \n",
       "1              0.927452              16.634514  \n",
       "2              0.953716              16.208849  \n",
       "3              0.883763              16.532835  \n",
       "4              0.792826              16.525686  "
      ]
     },
     "metadata": {},
     "output_type": "display_data"
    }
   ],
   "source": [
    "display(data_train.head())\n",
    "display(data_test.head())\n",
    "display(data_full.head())"
   ]
  },
  {
   "cell_type": "code",
   "execution_count": 4,
   "metadata": {},
   "outputs": [
    {
     "data": {
      "text/html": [
       "<div>\n",
       "<style scoped>\n",
       "    .dataframe tbody tr th:only-of-type {\n",
       "        vertical-align: middle;\n",
       "    }\n",
       "\n",
       "    .dataframe tbody tr th {\n",
       "        vertical-align: top;\n",
       "    }\n",
       "\n",
       "    .dataframe thead th {\n",
       "        text-align: right;\n",
       "    }\n",
       "</style>\n",
       "<table border=\"1\" class=\"dataframe\">\n",
       "  <thead>\n",
       "    <tr style=\"text-align: right;\">\n",
       "      <th></th>\n",
       "      <th>count</th>\n",
       "      <th>mean</th>\n",
       "      <th>std</th>\n",
       "      <th>min</th>\n",
       "      <th>25%</th>\n",
       "      <th>50%</th>\n",
       "      <th>75%</th>\n",
       "      <th>max</th>\n",
       "    </tr>\n",
       "  </thead>\n",
       "  <tbody>\n",
       "    <tr>\n",
       "      <th>rougher.input.feed_au</th>\n",
       "      <td>19439.0</td>\n",
       "      <td>8.266097</td>\n",
       "      <td>1.955092</td>\n",
       "      <td>1.000000e-02</td>\n",
       "      <td>6.854384</td>\n",
       "      <td>8.125839</td>\n",
       "      <td>9.769917</td>\n",
       "      <td>1.373133e+01</td>\n",
       "    </tr>\n",
       "    <tr>\n",
       "      <th>rougher.input.feed_ag</th>\n",
       "      <td>19439.0</td>\n",
       "      <td>8.794927</td>\n",
       "      <td>1.936847</td>\n",
       "      <td>1.000000e-02</td>\n",
       "      <td>7.237967</td>\n",
       "      <td>8.593574</td>\n",
       "      <td>10.213771</td>\n",
       "      <td>1.459603e+01</td>\n",
       "    </tr>\n",
       "    <tr>\n",
       "      <th>rougher.input.feed_pb</th>\n",
       "      <td>19339.0</td>\n",
       "      <td>3.598085</td>\n",
       "      <td>1.049486</td>\n",
       "      <td>1.000000e-02</td>\n",
       "      <td>2.887280</td>\n",
       "      <td>3.534895</td>\n",
       "      <td>4.244161</td>\n",
       "      <td>7.142594e+00</td>\n",
       "    </tr>\n",
       "    <tr>\n",
       "      <th>rougher.input.feed_sol</th>\n",
       "      <td>19340.0</td>\n",
       "      <td>36.695114</td>\n",
       "      <td>5.145445</td>\n",
       "      <td>1.000000e-02</td>\n",
       "      <td>34.207799</td>\n",
       "      <td>37.202650</td>\n",
       "      <td>40.039133</td>\n",
       "      <td>5.347774e+01</td>\n",
       "    </tr>\n",
       "    <tr>\n",
       "      <th>rougher.input.feed_rate</th>\n",
       "      <td>19428.0</td>\n",
       "      <td>478.320042</td>\n",
       "      <td>105.373758</td>\n",
       "      <td>2.985849e-03</td>\n",
       "      <td>416.525453</td>\n",
       "      <td>499.416120</td>\n",
       "      <td>550.172183</td>\n",
       "      <td>7.175088e+02</td>\n",
       "    </tr>\n",
       "    <tr>\n",
       "      <th>rougher.input.feed_size</th>\n",
       "      <td>19294.0</td>\n",
       "      <td>58.970310</td>\n",
       "      <td>21.634478</td>\n",
       "      <td>4.636880e-02</td>\n",
       "      <td>47.435103</td>\n",
       "      <td>54.610197</td>\n",
       "      <td>65.023044</td>\n",
       "      <td>4.849675e+02</td>\n",
       "    </tr>\n",
       "    <tr>\n",
       "      <th>rougher.input.floatbank10_sulfate</th>\n",
       "      <td>19405.0</td>\n",
       "      <td>12.334373</td>\n",
       "      <td>3.427317</td>\n",
       "      <td>1.083112e-03</td>\n",
       "      <td>10.000362</td>\n",
       "      <td>12.001174</td>\n",
       "      <td>14.716595</td>\n",
       "      <td>3.611827e+01</td>\n",
       "    </tr>\n",
       "    <tr>\n",
       "      <th>rougher.input.floatbank10_xanthate</th>\n",
       "      <td>19431.0</td>\n",
       "      <td>6.021474</td>\n",
       "      <td>1.127263</td>\n",
       "      <td>5.682328e-04</td>\n",
       "      <td>5.398678</td>\n",
       "      <td>6.008273</td>\n",
       "      <td>6.798051</td>\n",
       "      <td>9.703448e+00</td>\n",
       "    </tr>\n",
       "    <tr>\n",
       "      <th>rougher.state.floatbank10_a_air</th>\n",
       "      <td>19438.0</td>\n",
       "      <td>1105.315068</td>\n",
       "      <td>160.826798</td>\n",
       "      <td>-4.206929e-02</td>\n",
       "      <td>999.661867</td>\n",
       "      <td>1001.072890</td>\n",
       "      <td>1205.620588</td>\n",
       "      <td>1.521980e+03</td>\n",
       "    </tr>\n",
       "    <tr>\n",
       "      <th>rougher.state.floatbank10_a_level</th>\n",
       "      <td>19438.0</td>\n",
       "      <td>-376.610690</td>\n",
       "      <td>93.909667</td>\n",
       "      <td>-6.579498e+02</td>\n",
       "      <td>-499.835165</td>\n",
       "      <td>-300.263994</td>\n",
       "      <td>-299.981998</td>\n",
       "      <td>-2.737761e+02</td>\n",
       "    </tr>\n",
       "    <tr>\n",
       "      <th>rougher.state.floatbank10_b_air</th>\n",
       "      <td>19438.0</td>\n",
       "      <td>1320.221139</td>\n",
       "      <td>176.287095</td>\n",
       "      <td>-7.218064e-01</td>\n",
       "      <td>1199.626115</td>\n",
       "      <td>1301.579988</td>\n",
       "      <td>1448.630789</td>\n",
       "      <td>1.809194e+03</td>\n",
       "    </tr>\n",
       "    <tr>\n",
       "      <th>rougher.state.floatbank10_b_level</th>\n",
       "      <td>19438.0</td>\n",
       "      <td>-467.247826</td>\n",
       "      <td>54.673142</td>\n",
       "      <td>-6.502600e+02</td>\n",
       "      <td>-500.201130</td>\n",
       "      <td>-499.784045</td>\n",
       "      <td>-400.615589</td>\n",
       "      <td>-2.963831e+02</td>\n",
       "    </tr>\n",
       "    <tr>\n",
       "      <th>rougher.state.floatbank10_c_air</th>\n",
       "      <td>19438.0</td>\n",
       "      <td>1299.968799</td>\n",
       "      <td>202.804325</td>\n",
       "      <td>-5.663551e-02</td>\n",
       "      <td>1151.076301</td>\n",
       "      <td>1300.211537</td>\n",
       "      <td>1449.464001</td>\n",
       "      <td>2.499129e+03</td>\n",
       "    </tr>\n",
       "    <tr>\n",
       "      <th>rougher.state.floatbank10_c_level</th>\n",
       "      <td>19438.0</td>\n",
       "      <td>-467.716946</td>\n",
       "      <td>53.534825</td>\n",
       "      <td>-6.475444e+02</td>\n",
       "      <td>-500.217218</td>\n",
       "      <td>-499.713364</td>\n",
       "      <td>-400.985743</td>\n",
       "      <td>-2.921555e+02</td>\n",
       "    </tr>\n",
       "    <tr>\n",
       "      <th>rougher.state.floatbank10_d_air</th>\n",
       "      <td>19439.0</td>\n",
       "      <td>1211.563299</td>\n",
       "      <td>204.019326</td>\n",
       "      <td>-9.922190e-01</td>\n",
       "      <td>1061.051788</td>\n",
       "      <td>1201.569141</td>\n",
       "      <td>1352.880320</td>\n",
       "      <td>1.817199e+03</td>\n",
       "    </tr>\n",
       "    <tr>\n",
       "      <th>rougher.state.floatbank10_d_level</th>\n",
       "      <td>19439.0</td>\n",
       "      <td>-468.239912</td>\n",
       "      <td>53.921458</td>\n",
       "      <td>-6.483907e+02</td>\n",
       "      <td>-500.386386</td>\n",
       "      <td>-499.532412</td>\n",
       "      <td>-401.638550</td>\n",
       "      <td>-7.639733e+01</td>\n",
       "    </tr>\n",
       "    <tr>\n",
       "      <th>rougher.state.floatbank10_e_air</th>\n",
       "      <td>19003.0</td>\n",
       "      <td>1080.869685</td>\n",
       "      <td>172.149992</td>\n",
       "      <td>-1.982295e+00</td>\n",
       "      <td>998.675263</td>\n",
       "      <td>1050.029461</td>\n",
       "      <td>1199.425140</td>\n",
       "      <td>1.922637e+03</td>\n",
       "    </tr>\n",
       "    <tr>\n",
       "      <th>rougher.state.floatbank10_e_level</th>\n",
       "      <td>19439.0</td>\n",
       "      <td>-466.037742</td>\n",
       "      <td>57.384424</td>\n",
       "      <td>-6.494439e+02</td>\n",
       "      <td>-500.232191</td>\n",
       "      <td>-499.663089</td>\n",
       "      <td>-401.161191</td>\n",
       "      <td>-1.397530e+02</td>\n",
       "    </tr>\n",
       "    <tr>\n",
       "      <th>rougher.state.floatbank10_f_air</th>\n",
       "      <td>19439.0</td>\n",
       "      <td>1025.274256</td>\n",
       "      <td>164.487837</td>\n",
       "      <td>-2.593390e+00</td>\n",
       "      <td>900.995511</td>\n",
       "      <td>999.924821</td>\n",
       "      <td>1099.719692</td>\n",
       "      <td>1.706308e+03</td>\n",
       "    </tr>\n",
       "    <tr>\n",
       "      <th>rougher.state.floatbank10_f_level</th>\n",
       "      <td>19439.0</td>\n",
       "      <td>-466.265327</td>\n",
       "      <td>57.850263</td>\n",
       "      <td>-6.499493e+02</td>\n",
       "      <td>-500.522553</td>\n",
       "      <td>-499.471777</td>\n",
       "      <td>-401.511042</td>\n",
       "      <td>-1.917185e+02</td>\n",
       "    </tr>\n",
       "    <tr>\n",
       "      <th>rougher.input.floatbank11_sulfate</th>\n",
       "      <td>19395.0</td>\n",
       "      <td>12.064140</td>\n",
       "      <td>3.784221</td>\n",
       "      <td>7.673764e-05</td>\n",
       "      <td>9.998460</td>\n",
       "      <td>12.000204</td>\n",
       "      <td>14.636766</td>\n",
       "      <td>3.798065e+01</td>\n",
       "    </tr>\n",
       "    <tr>\n",
       "      <th>rougher.input.floatbank11_xanthate</th>\n",
       "      <td>18986.0</td>\n",
       "      <td>6.065533</td>\n",
       "      <td>1.099118</td>\n",
       "      <td>2.904126e-04</td>\n",
       "      <td>5.402368</td>\n",
       "      <td>6.098580</td>\n",
       "      <td>6.801233</td>\n",
       "      <td>9.698407e+00</td>\n",
       "    </tr>\n",
       "    <tr>\n",
       "      <th>rougher.calculation.sulfate_to_au_concentrate</th>\n",
       "      <td>19437.0</td>\n",
       "      <td>42171.189025</td>\n",
       "      <td>324362.111569</td>\n",
       "      <td>-4.223520e+07</td>\n",
       "      <td>40700.946040</td>\n",
       "      <td>44696.480712</td>\n",
       "      <td>48168.210371</td>\n",
       "      <td>3.428099e+06</td>\n",
       "    </tr>\n",
       "    <tr>\n",
       "      <th>rougher.calculation.floatbank10_sulfate_to_au_feed</th>\n",
       "      <td>19437.0</td>\n",
       "      <td>3393.052498</td>\n",
       "      <td>4943.845943</td>\n",
       "      <td>-4.865987e+02</td>\n",
       "      <td>2611.425833</td>\n",
       "      <td>3018.353876</td>\n",
       "      <td>3676.769750</td>\n",
       "      <td>6.296390e+05</td>\n",
       "    </tr>\n",
       "    <tr>\n",
       "      <th>rougher.calculation.floatbank11_sulfate_to_au_feed</th>\n",
       "      <td>19437.0</td>\n",
       "      <td>3256.854171</td>\n",
       "      <td>5781.423659</td>\n",
       "      <td>-2.649828e+02</td>\n",
       "      <td>2551.437587</td>\n",
       "      <td>2997.218088</td>\n",
       "      <td>3601.998911</td>\n",
       "      <td>7.186850e+05</td>\n",
       "    </tr>\n",
       "    <tr>\n",
       "      <th>rougher.calculation.au_pb_ratio</th>\n",
       "      <td>19439.0</td>\n",
       "      <td>2.420119</td>\n",
       "      <td>0.814935</td>\n",
       "      <td>-1.054761e-02</td>\n",
       "      <td>2.035434</td>\n",
       "      <td>2.309665</td>\n",
       "      <td>2.731794</td>\n",
       "      <td>3.937927e+01</td>\n",
       "    </tr>\n",
       "    <tr>\n",
       "      <th>rougher.output.concentrate_au</th>\n",
       "      <td>19439.0</td>\n",
       "      <td>19.772000</td>\n",
       "      <td>3.753600</td>\n",
       "      <td>0.000000e+00</td>\n",
       "      <td>18.802523</td>\n",
       "      <td>20.280214</td>\n",
       "      <td>21.717843</td>\n",
       "      <td>2.882451e+01</td>\n",
       "    </tr>\n",
       "    <tr>\n",
       "      <th>rougher.output.concentrate_ag</th>\n",
       "      <td>19439.0</td>\n",
       "      <td>11.994759</td>\n",
       "      <td>2.733862</td>\n",
       "      <td>0.000000e+00</td>\n",
       "      <td>10.628337</td>\n",
       "      <td>12.098115</td>\n",
       "      <td>13.736996</td>\n",
       "      <td>2.448027e+01</td>\n",
       "    </tr>\n",
       "    <tr>\n",
       "      <th>rougher.output.concentrate_pb</th>\n",
       "      <td>19439.0</td>\n",
       "      <td>7.606272</td>\n",
       "      <td>1.796757</td>\n",
       "      <td>0.000000e+00</td>\n",
       "      <td>6.725987</td>\n",
       "      <td>7.742580</td>\n",
       "      <td>8.565199</td>\n",
       "      <td>1.361707e+01</td>\n",
       "    </tr>\n",
       "    <tr>\n",
       "      <th>rougher.output.concentrate_sol</th>\n",
       "      <td>19416.0</td>\n",
       "      <td>28.805571</td>\n",
       "      <td>5.944207</td>\n",
       "      <td>0.000000e+00</td>\n",
       "      <td>27.224120</td>\n",
       "      <td>29.835345</td>\n",
       "      <td>32.189933</td>\n",
       "      <td>3.835119e+01</td>\n",
       "    </tr>\n",
       "    <tr>\n",
       "      <th>rougher.output.recovery</th>\n",
       "      <td>19439.0</td>\n",
       "      <td>83.328587</td>\n",
       "      <td>14.148086</td>\n",
       "      <td>0.000000e+00</td>\n",
       "      <td>81.037957</td>\n",
       "      <td>86.188892</td>\n",
       "      <td>90.010670</td>\n",
       "      <td>1.000000e+02</td>\n",
       "    </tr>\n",
       "    <tr>\n",
       "      <th>rougher.output.tail_au</th>\n",
       "      <td>19439.0</td>\n",
       "      <td>1.816391</td>\n",
       "      <td>0.680046</td>\n",
       "      <td>2.067578e-02</td>\n",
       "      <td>1.404207</td>\n",
       "      <td>1.808170</td>\n",
       "      <td>2.211861</td>\n",
       "      <td>9.688980e+00</td>\n",
       "    </tr>\n",
       "    <tr>\n",
       "      <th>rougher.output.tail_ag</th>\n",
       "      <td>19438.0</td>\n",
       "      <td>5.588982</td>\n",
       "      <td>1.111288</td>\n",
       "      <td>5.945623e-01</td>\n",
       "      <td>4.889892</td>\n",
       "      <td>5.765802</td>\n",
       "      <td>6.389234</td>\n",
       "      <td>1.271918e+01</td>\n",
       "    </tr>\n",
       "    <tr>\n",
       "      <th>rougher.output.tail_pb</th>\n",
       "      <td>19439.0</td>\n",
       "      <td>0.645782</td>\n",
       "      <td>0.251526</td>\n",
       "      <td>7.566066e-03</td>\n",
       "      <td>0.477728</td>\n",
       "      <td>0.617465</td>\n",
       "      <td>0.778271</td>\n",
       "      <td>3.778064e+00</td>\n",
       "    </tr>\n",
       "    <tr>\n",
       "      <th>rougher.output.tail_sol</th>\n",
       "      <td>19439.0</td>\n",
       "      <td>18.057106</td>\n",
       "      <td>3.449218</td>\n",
       "      <td>1.001465e+01</td>\n",
       "      <td>15.822525</td>\n",
       "      <td>18.106867</td>\n",
       "      <td>20.088151</td>\n",
       "      <td>6.611719e+01</td>\n",
       "    </tr>\n",
       "    <tr>\n",
       "      <th>primary_cleaner.input.sulfate</th>\n",
       "      <td>19415.0</td>\n",
       "      <td>144.624774</td>\n",
       "      <td>44.464071</td>\n",
       "      <td>3.111820e-03</td>\n",
       "      <td>114.107029</td>\n",
       "      <td>143.232103</td>\n",
       "      <td>175.075656</td>\n",
       "      <td>2.659831e+02</td>\n",
       "    </tr>\n",
       "    <tr>\n",
       "      <th>primary_cleaner.input.depressant</th>\n",
       "      <td>19402.0</td>\n",
       "      <td>8.817039</td>\n",
       "      <td>3.286186</td>\n",
       "      <td>0.000000e+00</td>\n",
       "      <td>6.076909</td>\n",
       "      <td>8.038311</td>\n",
       "      <td>11.013521</td>\n",
       "      <td>4.000000e+01</td>\n",
       "    </tr>\n",
       "    <tr>\n",
       "      <th>primary_cleaner.input.feed_size</th>\n",
       "      <td>19439.0</td>\n",
       "      <td>7.307078</td>\n",
       "      <td>0.613509</td>\n",
       "      <td>1.080000e+00</td>\n",
       "      <td>6.940000</td>\n",
       "      <td>7.280000</td>\n",
       "      <td>7.670000</td>\n",
       "      <td>1.550000e+01</td>\n",
       "    </tr>\n",
       "    <tr>\n",
       "      <th>primary_cleaner.input.xanthate</th>\n",
       "      <td>19335.0</td>\n",
       "      <td>1.021795</td>\n",
       "      <td>0.513254</td>\n",
       "      <td>4.632753e-06</td>\n",
       "      <td>0.697224</td>\n",
       "      <td>0.940863</td>\n",
       "      <td>1.210990</td>\n",
       "      <td>4.102454e+00</td>\n",
       "    </tr>\n",
       "    <tr>\n",
       "      <th>primary_cleaner.state.floatbank8_a_air</th>\n",
       "      <td>19435.0</td>\n",
       "      <td>1589.353532</td>\n",
       "      <td>128.996838</td>\n",
       "      <td>5.445860e-32</td>\n",
       "      <td>1505.063192</td>\n",
       "      <td>1600.596566</td>\n",
       "      <td>1697.657718</td>\n",
       "      <td>2.103104e+03</td>\n",
       "    </tr>\n",
       "    <tr>\n",
       "      <th>primary_cleaner.state.floatbank8_a_level</th>\n",
       "      <td>19438.0</td>\n",
       "      <td>-491.195012</td>\n",
       "      <td>32.431842</td>\n",
       "      <td>-7.986417e+02</td>\n",
       "      <td>-500.308544</td>\n",
       "      <td>-499.926134</td>\n",
       "      <td>-499.433950</td>\n",
       "      <td>-5.719540e+01</td>\n",
       "    </tr>\n",
       "    <tr>\n",
       "      <th>primary_cleaner.state.floatbank8_b_air</th>\n",
       "      <td>19435.0</td>\n",
       "      <td>1591.344175</td>\n",
       "      <td>131.810879</td>\n",
       "      <td>6.647490e-32</td>\n",
       "      <td>1503.629878</td>\n",
       "      <td>1600.520975</td>\n",
       "      <td>1699.217656</td>\n",
       "      <td>2.114907e+03</td>\n",
       "    </tr>\n",
       "    <tr>\n",
       "      <th>primary_cleaner.state.floatbank8_b_level</th>\n",
       "      <td>19438.0</td>\n",
       "      <td>-492.192978</td>\n",
       "      <td>33.794822</td>\n",
       "      <td>-7.999970e+02</td>\n",
       "      <td>-500.437171</td>\n",
       "      <td>-499.956767</td>\n",
       "      <td>-499.373336</td>\n",
       "      <td>-1.425272e+02</td>\n",
       "    </tr>\n",
       "    <tr>\n",
       "      <th>primary_cleaner.state.floatbank8_c_air</th>\n",
       "      <td>19437.0</td>\n",
       "      <td>1586.669124</td>\n",
       "      <td>136.111402</td>\n",
       "      <td>4.033736e-32</td>\n",
       "      <td>1500.926924</td>\n",
       "      <td>1600.253890</td>\n",
       "      <td>1699.482929</td>\n",
       "      <td>2.013156e+03</td>\n",
       "    </tr>\n",
       "    <tr>\n",
       "      <th>primary_cleaner.state.floatbank8_c_level</th>\n",
       "      <td>19438.0</td>\n",
       "      <td>-491.980070</td>\n",
       "      <td>32.711455</td>\n",
       "      <td>-7.999606e+02</td>\n",
       "      <td>-500.703932</td>\n",
       "      <td>-499.909524</td>\n",
       "      <td>-498.857643</td>\n",
       "      <td>-1.509370e+02</td>\n",
       "    </tr>\n",
       "    <tr>\n",
       "      <th>primary_cleaner.state.floatbank8_d_air</th>\n",
       "      <td>19436.0</td>\n",
       "      <td>1542.912418</td>\n",
       "      <td>246.199602</td>\n",
       "      <td>4.039220e-32</td>\n",
       "      <td>1494.219469</td>\n",
       "      <td>1599.447470</td>\n",
       "      <td>1698.524904</td>\n",
       "      <td>2.398904e+03</td>\n",
       "    </tr>\n",
       "    <tr>\n",
       "      <th>primary_cleaner.state.floatbank8_d_level</th>\n",
       "      <td>19438.0</td>\n",
       "      <td>-488.017382</td>\n",
       "      <td>43.959780</td>\n",
       "      <td>-7.997943e+02</td>\n",
       "      <td>-500.458365</td>\n",
       "      <td>-499.905974</td>\n",
       "      <td>-499.064695</td>\n",
       "      <td>-3.060183e+01</td>\n",
       "    </tr>\n",
       "    <tr>\n",
       "      <th>primary_cleaner.output.concentrate_au</th>\n",
       "      <td>19439.0</td>\n",
       "      <td>32.119400</td>\n",
       "      <td>5.627611</td>\n",
       "      <td>0.000000e+00</td>\n",
       "      <td>30.463140</td>\n",
       "      <td>32.841295</td>\n",
       "      <td>35.048006</td>\n",
       "      <td>4.593393e+01</td>\n",
       "    </tr>\n",
       "    <tr>\n",
       "      <th>primary_cleaner.output.concentrate_ag</th>\n",
       "      <td>19439.0</td>\n",
       "      <td>8.442408</td>\n",
       "      <td>2.054465</td>\n",
       "      <td>0.000000e+00</td>\n",
       "      <td>7.263288</td>\n",
       "      <td>8.507298</td>\n",
       "      <td>9.809001</td>\n",
       "      <td>1.608163e+01</td>\n",
       "    </tr>\n",
       "    <tr>\n",
       "      <th>primary_cleaner.output.concentrate_pb</th>\n",
       "      <td>19323.0</td>\n",
       "      <td>9.829530</td>\n",
       "      <td>2.556843</td>\n",
       "      <td>0.000000e+00</td>\n",
       "      <td>8.702328</td>\n",
       "      <td>10.152433</td>\n",
       "      <td>11.424971</td>\n",
       "      <td>1.708128e+01</td>\n",
       "    </tr>\n",
       "    <tr>\n",
       "      <th>primary_cleaner.output.concentrate_sol</th>\n",
       "      <td>19069.0</td>\n",
       "      <td>10.489499</td>\n",
       "      <td>3.909639</td>\n",
       "      <td>0.000000e+00</td>\n",
       "      <td>7.893893</td>\n",
       "      <td>10.314632</td>\n",
       "      <td>13.446702</td>\n",
       "      <td>2.245811e+01</td>\n",
       "    </tr>\n",
       "    <tr>\n",
       "      <th>primary_cleaner.output.tail_au</th>\n",
       "      <td>19439.0</td>\n",
       "      <td>3.914179</td>\n",
       "      <td>1.593034</td>\n",
       "      <td>0.000000e+00</td>\n",
       "      <td>2.924844</td>\n",
       "      <td>3.623234</td>\n",
       "      <td>4.585705</td>\n",
       "      <td>1.778892e+01</td>\n",
       "    </tr>\n",
       "    <tr>\n",
       "      <th>primary_cleaner.output.tail_ag</th>\n",
       "      <td>19435.0</td>\n",
       "      <td>16.145826</td>\n",
       "      <td>3.548598</td>\n",
       "      <td>0.000000e+00</td>\n",
       "      <td>14.017742</td>\n",
       "      <td>15.842836</td>\n",
       "      <td>18.013975</td>\n",
       "      <td>2.945957e+01</td>\n",
       "    </tr>\n",
       "    <tr>\n",
       "      <th>primary_cleaner.output.tail_pb</th>\n",
       "      <td>19418.0</td>\n",
       "      <td>3.435656</td>\n",
       "      <td>1.392536</td>\n",
       "      <td>0.000000e+00</td>\n",
       "      <td>2.504365</td>\n",
       "      <td>3.271153</td>\n",
       "      <td>4.181748</td>\n",
       "      <td>9.634565e+00</td>\n",
       "    </tr>\n",
       "    <tr>\n",
       "      <th>primary_cleaner.output.tail_sol</th>\n",
       "      <td>19377.0</td>\n",
       "      <td>7.973209</td>\n",
       "      <td>2.212677</td>\n",
       "      <td>0.000000e+00</td>\n",
       "      <td>6.747483</td>\n",
       "      <td>8.183673</td>\n",
       "      <td>9.548586</td>\n",
       "      <td>2.227636e+01</td>\n",
       "    </tr>\n",
       "    <tr>\n",
       "      <th>secondary_cleaner.state.floatbank2_a_air</th>\n",
       "      <td>19219.0</td>\n",
       "      <td>28.705564</td>\n",
       "      <td>5.458789</td>\n",
       "      <td>7.750256e-02</td>\n",
       "      <td>25.048462</td>\n",
       "      <td>29.099943</td>\n",
       "      <td>33.012536</td>\n",
       "      <td>5.265140e+01</td>\n",
       "    </tr>\n",
       "    <tr>\n",
       "      <th>secondary_cleaner.state.floatbank2_a_level</th>\n",
       "      <td>19438.0</td>\n",
       "      <td>-502.367331</td>\n",
       "      <td>53.571950</td>\n",
       "      <td>-7.996064e+02</td>\n",
       "      <td>-500.233700</td>\n",
       "      <td>-499.973250</td>\n",
       "      <td>-499.671261</td>\n",
       "      <td>-1.278756e+02</td>\n",
       "    </tr>\n",
       "    <tr>\n",
       "      <th>secondary_cleaner.state.floatbank2_b_air</th>\n",
       "      <td>19416.0</td>\n",
       "      <td>24.106800</td>\n",
       "      <td>5.749616</td>\n",
       "      <td>0.000000e+00</td>\n",
       "      <td>20.919853</td>\n",
       "      <td>25.043289</td>\n",
       "      <td>28.008197</td>\n",
       "      <td>3.515212e+01</td>\n",
       "    </tr>\n",
       "    <tr>\n",
       "      <th>secondary_cleaner.state.floatbank2_b_level</th>\n",
       "      <td>19438.0</td>\n",
       "      <td>-503.230712</td>\n",
       "      <td>56.567724</td>\n",
       "      <td>-7.998739e+02</td>\n",
       "      <td>-500.253794</td>\n",
       "      <td>-500.015439</td>\n",
       "      <td>-499.785698</td>\n",
       "      <td>-2.119993e+02</td>\n",
       "    </tr>\n",
       "    <tr>\n",
       "      <th>secondary_cleaner.state.floatbank3_a_air</th>\n",
       "      <td>19426.0</td>\n",
       "      <td>28.199338</td>\n",
       "      <td>6.134908</td>\n",
       "      <td>0.000000e+00</td>\n",
       "      <td>24.949227</td>\n",
       "      <td>27.982129</td>\n",
       "      <td>33.002798</td>\n",
       "      <td>4.426046e+01</td>\n",
       "    </tr>\n",
       "    <tr>\n",
       "      <th>secondary_cleaner.state.floatbank3_a_level</th>\n",
       "      <td>19438.0</td>\n",
       "      <td>-486.203350</td>\n",
       "      <td>54.412349</td>\n",
       "      <td>-7.997558e+02</td>\n",
       "      <td>-500.213546</td>\n",
       "      <td>-499.930680</td>\n",
       "      <td>-499.325739</td>\n",
       "      <td>-1.916788e+02</td>\n",
       "    </tr>\n",
       "    <tr>\n",
       "      <th>secondary_cleaner.state.floatbank3_b_air</th>\n",
       "      <td>19438.0</td>\n",
       "      <td>22.200645</td>\n",
       "      <td>5.574001</td>\n",
       "      <td>0.000000e+00</td>\n",
       "      <td>18.995924</td>\n",
       "      <td>22.011231</td>\n",
       "      <td>25.998206</td>\n",
       "      <td>3.507284e+01</td>\n",
       "    </tr>\n",
       "    <tr>\n",
       "      <th>secondary_cleaner.state.floatbank3_b_level</th>\n",
       "      <td>19438.0</td>\n",
       "      <td>-493.742107</td>\n",
       "      <td>43.372158</td>\n",
       "      <td>-8.093330e+02</td>\n",
       "      <td>-500.123034</td>\n",
       "      <td>-499.981902</td>\n",
       "      <td>-499.812834</td>\n",
       "      <td>-1.597423e+02</td>\n",
       "    </tr>\n",
       "    <tr>\n",
       "      <th>secondary_cleaner.state.floatbank4_a_air</th>\n",
       "      <td>19433.0</td>\n",
       "      <td>18.987674</td>\n",
       "      <td>5.411058</td>\n",
       "      <td>0.000000e+00</td>\n",
       "      <td>14.975734</td>\n",
       "      <td>18.017481</td>\n",
       "      <td>23.012470</td>\n",
       "      <td>3.011574e+01</td>\n",
       "    </tr>\n",
       "    <tr>\n",
       "      <th>secondary_cleaner.state.floatbank4_a_level</th>\n",
       "      <td>19438.0</td>\n",
       "      <td>-485.894516</td>\n",
       "      <td>47.758570</td>\n",
       "      <td>-7.997985e+02</td>\n",
       "      <td>-500.704892</td>\n",
       "      <td>-499.837793</td>\n",
       "      <td>-498.249730</td>\n",
       "      <td>-2.452392e+02</td>\n",
       "    </tr>\n",
       "    <tr>\n",
       "      <th>secondary_cleaner.state.floatbank4_b_air</th>\n",
       "      <td>19438.0</td>\n",
       "      <td>15.010366</td>\n",
       "      <td>4.890228</td>\n",
       "      <td>0.000000e+00</td>\n",
       "      <td>11.940294</td>\n",
       "      <td>14.971014</td>\n",
       "      <td>19.034162</td>\n",
       "      <td>3.126971e+01</td>\n",
       "    </tr>\n",
       "    <tr>\n",
       "      <th>secondary_cleaner.state.floatbank4_b_level</th>\n",
       "      <td>19438.0</td>\n",
       "      <td>-461.078636</td>\n",
       "      <td>67.405524</td>\n",
       "      <td>-8.008369e+02</td>\n",
       "      <td>-500.187742</td>\n",
       "      <td>-499.459786</td>\n",
       "      <td>-400.118106</td>\n",
       "      <td>-6.506986e+00</td>\n",
       "    </tr>\n",
       "    <tr>\n",
       "      <th>secondary_cleaner.state.floatbank5_a_air</th>\n",
       "      <td>19438.0</td>\n",
       "      <td>15.694452</td>\n",
       "      <td>5.510974</td>\n",
       "      <td>-3.720540e-01</td>\n",
       "      <td>10.988606</td>\n",
       "      <td>15.000036</td>\n",
       "      <td>18.026190</td>\n",
       "      <td>4.370993e+01</td>\n",
       "    </tr>\n",
       "    <tr>\n",
       "      <th>secondary_cleaner.state.floatbank5_a_level</th>\n",
       "      <td>19438.0</td>\n",
       "      <td>-488.684065</td>\n",
       "      <td>34.533396</td>\n",
       "      <td>-7.973240e+02</td>\n",
       "      <td>-500.458467</td>\n",
       "      <td>-499.802605</td>\n",
       "      <td>-498.384187</td>\n",
       "      <td>-2.444836e+02</td>\n",
       "    </tr>\n",
       "    <tr>\n",
       "      <th>secondary_cleaner.state.floatbank5_b_air</th>\n",
       "      <td>19438.0</td>\n",
       "      <td>12.198224</td>\n",
       "      <td>5.333024</td>\n",
       "      <td>5.280828e-01</td>\n",
       "      <td>8.971105</td>\n",
       "      <td>11.019433</td>\n",
       "      <td>14.019088</td>\n",
       "      <td>2.792600e+01</td>\n",
       "    </tr>\n",
       "    <tr>\n",
       "      <th>secondary_cleaner.state.floatbank5_b_level</th>\n",
       "      <td>19438.0</td>\n",
       "      <td>-487.149827</td>\n",
       "      <td>38.347312</td>\n",
       "      <td>-8.002203e+02</td>\n",
       "      <td>-500.129462</td>\n",
       "      <td>-499.935317</td>\n",
       "      <td>-499.436708</td>\n",
       "      <td>-1.377400e+02</td>\n",
       "    </tr>\n",
       "    <tr>\n",
       "      <th>secondary_cleaner.state.floatbank6_a_air</th>\n",
       "      <td>19437.0</td>\n",
       "      <td>18.959024</td>\n",
       "      <td>5.550498</td>\n",
       "      <td>-7.942623e-02</td>\n",
       "      <td>14.983037</td>\n",
       "      <td>19.960541</td>\n",
       "      <td>24.003170</td>\n",
       "      <td>3.218891e+01</td>\n",
       "    </tr>\n",
       "    <tr>\n",
       "      <th>secondary_cleaner.state.floatbank6_a_level</th>\n",
       "      <td>19438.0</td>\n",
       "      <td>-505.436305</td>\n",
       "      <td>37.689057</td>\n",
       "      <td>-8.097415e+02</td>\n",
       "      <td>-500.728067</td>\n",
       "      <td>-500.048400</td>\n",
       "      <td>-499.495378</td>\n",
       "      <td>-1.044275e+02</td>\n",
       "    </tr>\n",
       "    <tr>\n",
       "      <th>secondary_cleaner.output.tail_au</th>\n",
       "      <td>19439.0</td>\n",
       "      <td>4.339625</td>\n",
       "      <td>2.326751</td>\n",
       "      <td>0.000000e+00</td>\n",
       "      <td>3.182770</td>\n",
       "      <td>4.072412</td>\n",
       "      <td>5.063081</td>\n",
       "      <td>2.681164e+01</td>\n",
       "    </tr>\n",
       "    <tr>\n",
       "      <th>secondary_cleaner.output.tail_ag</th>\n",
       "      <td>19437.0</td>\n",
       "      <td>14.586833</td>\n",
       "      <td>4.265202</td>\n",
       "      <td>0.000000e+00</td>\n",
       "      <td>12.640239</td>\n",
       "      <td>15.641902</td>\n",
       "      <td>17.358217</td>\n",
       "      <td>2.326474e+01</td>\n",
       "    </tr>\n",
       "    <tr>\n",
       "      <th>secondary_cleaner.output.tail_pb</th>\n",
       "      <td>19427.0</td>\n",
       "      <td>5.777703</td>\n",
       "      <td>2.774598</td>\n",
       "      <td>0.000000e+00</td>\n",
       "      <td>3.864733</td>\n",
       "      <td>5.344073</td>\n",
       "      <td>7.788467</td>\n",
       "      <td>1.704250e+01</td>\n",
       "    </tr>\n",
       "    <tr>\n",
       "      <th>secondary_cleaner.output.tail_sol</th>\n",
       "      <td>17691.0</td>\n",
       "      <td>7.167247</td>\n",
       "      <td>3.916079</td>\n",
       "      <td>0.000000e+00</td>\n",
       "      <td>3.845475</td>\n",
       "      <td>7.685827</td>\n",
       "      <td>10.411296</td>\n",
       "      <td>2.600077e+01</td>\n",
       "    </tr>\n",
       "    <tr>\n",
       "      <th>final.output.concentrate_au</th>\n",
       "      <td>19439.0</td>\n",
       "      <td>44.076513</td>\n",
       "      <td>5.129784</td>\n",
       "      <td>0.000000e+00</td>\n",
       "      <td>43.402215</td>\n",
       "      <td>45.011244</td>\n",
       "      <td>46.275313</td>\n",
       "      <td>5.275664e+01</td>\n",
       "    </tr>\n",
       "    <tr>\n",
       "      <th>final.output.concentrate_ag</th>\n",
       "      <td>19438.0</td>\n",
       "      <td>5.168470</td>\n",
       "      <td>1.372348</td>\n",
       "      <td>0.000000e+00</td>\n",
       "      <td>4.251240</td>\n",
       "      <td>5.066094</td>\n",
       "      <td>5.895527</td>\n",
       "      <td>1.600195e+01</td>\n",
       "    </tr>\n",
       "    <tr>\n",
       "      <th>final.output.concentrate_pb</th>\n",
       "      <td>19438.0</td>\n",
       "      <td>9.978895</td>\n",
       "      <td>1.669240</td>\n",
       "      <td>0.000000e+00</td>\n",
       "      <td>9.137262</td>\n",
       "      <td>10.102433</td>\n",
       "      <td>11.035769</td>\n",
       "      <td>1.703190e+01</td>\n",
       "    </tr>\n",
       "    <tr>\n",
       "      <th>final.output.concentrate_sol</th>\n",
       "      <td>19228.0</td>\n",
       "      <td>9.501224</td>\n",
       "      <td>2.787537</td>\n",
       "      <td>0.000000e+00</td>\n",
       "      <td>7.722820</td>\n",
       "      <td>9.218961</td>\n",
       "      <td>10.947813</td>\n",
       "      <td>1.961572e+01</td>\n",
       "    </tr>\n",
       "    <tr>\n",
       "      <th>final.output.recovery</th>\n",
       "      <td>19439.0</td>\n",
       "      <td>67.050208</td>\n",
       "      <td>10.125840</td>\n",
       "      <td>0.000000e+00</td>\n",
       "      <td>63.299712</td>\n",
       "      <td>68.172738</td>\n",
       "      <td>72.686642</td>\n",
       "      <td>1.000000e+02</td>\n",
       "    </tr>\n",
       "    <tr>\n",
       "      <th>final.output.tail_au</th>\n",
       "      <td>19439.0</td>\n",
       "      <td>3.042467</td>\n",
       "      <td>0.922808</td>\n",
       "      <td>0.000000e+00</td>\n",
       "      <td>2.461138</td>\n",
       "      <td>2.984909</td>\n",
       "      <td>3.571351</td>\n",
       "      <td>8.245022e+00</td>\n",
       "    </tr>\n",
       "    <tr>\n",
       "      <th>final.output.tail_ag</th>\n",
       "      <td>19438.0</td>\n",
       "      <td>9.688589</td>\n",
       "      <td>2.328642</td>\n",
       "      <td>0.000000e+00</td>\n",
       "      <td>8.062878</td>\n",
       "      <td>9.743623</td>\n",
       "      <td>11.134294</td>\n",
       "      <td>1.955215e+01</td>\n",
       "    </tr>\n",
       "    <tr>\n",
       "      <th>final.output.tail_pb</th>\n",
       "      <td>19338.0</td>\n",
       "      <td>2.705795</td>\n",
       "      <td>0.949077</td>\n",
       "      <td>0.000000e+00</td>\n",
       "      <td>2.040119</td>\n",
       "      <td>2.748730</td>\n",
       "      <td>3.333216</td>\n",
       "      <td>5.804178e+00</td>\n",
       "    </tr>\n",
       "    <tr>\n",
       "      <th>final.output.tail_sol</th>\n",
       "      <td>19433.0</td>\n",
       "      <td>10.583728</td>\n",
       "      <td>2.868782</td>\n",
       "      <td>0.000000e+00</td>\n",
       "      <td>8.938947</td>\n",
       "      <td>10.622456</td>\n",
       "      <td>12.104271</td>\n",
       "      <td>2.231773e+01</td>\n",
       "    </tr>\n",
       "  </tbody>\n",
       "</table>\n",
       "</div>"
      ],
      "text/plain": [
       "                                                      count          mean  \\\n",
       "rougher.input.feed_au                               19439.0      8.266097   \n",
       "rougher.input.feed_ag                               19439.0      8.794927   \n",
       "rougher.input.feed_pb                               19339.0      3.598085   \n",
       "rougher.input.feed_sol                              19340.0     36.695114   \n",
       "rougher.input.feed_rate                             19428.0    478.320042   \n",
       "rougher.input.feed_size                             19294.0     58.970310   \n",
       "rougher.input.floatbank10_sulfate                   19405.0     12.334373   \n",
       "rougher.input.floatbank10_xanthate                  19431.0      6.021474   \n",
       "rougher.state.floatbank10_a_air                     19438.0   1105.315068   \n",
       "rougher.state.floatbank10_a_level                   19438.0   -376.610690   \n",
       "rougher.state.floatbank10_b_air                     19438.0   1320.221139   \n",
       "rougher.state.floatbank10_b_level                   19438.0   -467.247826   \n",
       "rougher.state.floatbank10_c_air                     19438.0   1299.968799   \n",
       "rougher.state.floatbank10_c_level                   19438.0   -467.716946   \n",
       "rougher.state.floatbank10_d_air                     19439.0   1211.563299   \n",
       "rougher.state.floatbank10_d_level                   19439.0   -468.239912   \n",
       "rougher.state.floatbank10_e_air                     19003.0   1080.869685   \n",
       "rougher.state.floatbank10_e_level                   19439.0   -466.037742   \n",
       "rougher.state.floatbank10_f_air                     19439.0   1025.274256   \n",
       "rougher.state.floatbank10_f_level                   19439.0   -466.265327   \n",
       "rougher.input.floatbank11_sulfate                   19395.0     12.064140   \n",
       "rougher.input.floatbank11_xanthate                  18986.0      6.065533   \n",
       "rougher.calculation.sulfate_to_au_concentrate       19437.0  42171.189025   \n",
       "rougher.calculation.floatbank10_sulfate_to_au_feed  19437.0   3393.052498   \n",
       "rougher.calculation.floatbank11_sulfate_to_au_feed  19437.0   3256.854171   \n",
       "rougher.calculation.au_pb_ratio                     19439.0      2.420119   \n",
       "rougher.output.concentrate_au                       19439.0     19.772000   \n",
       "rougher.output.concentrate_ag                       19439.0     11.994759   \n",
       "rougher.output.concentrate_pb                       19439.0      7.606272   \n",
       "rougher.output.concentrate_sol                      19416.0     28.805571   \n",
       "rougher.output.recovery                             19439.0     83.328587   \n",
       "rougher.output.tail_au                              19439.0      1.816391   \n",
       "rougher.output.tail_ag                              19438.0      5.588982   \n",
       "rougher.output.tail_pb                              19439.0      0.645782   \n",
       "rougher.output.tail_sol                             19439.0     18.057106   \n",
       "primary_cleaner.input.sulfate                       19415.0    144.624774   \n",
       "primary_cleaner.input.depressant                    19402.0      8.817039   \n",
       "primary_cleaner.input.feed_size                     19439.0      7.307078   \n",
       "primary_cleaner.input.xanthate                      19335.0      1.021795   \n",
       "primary_cleaner.state.floatbank8_a_air              19435.0   1589.353532   \n",
       "primary_cleaner.state.floatbank8_a_level            19438.0   -491.195012   \n",
       "primary_cleaner.state.floatbank8_b_air              19435.0   1591.344175   \n",
       "primary_cleaner.state.floatbank8_b_level            19438.0   -492.192978   \n",
       "primary_cleaner.state.floatbank8_c_air              19437.0   1586.669124   \n",
       "primary_cleaner.state.floatbank8_c_level            19438.0   -491.980070   \n",
       "primary_cleaner.state.floatbank8_d_air              19436.0   1542.912418   \n",
       "primary_cleaner.state.floatbank8_d_level            19438.0   -488.017382   \n",
       "primary_cleaner.output.concentrate_au               19439.0     32.119400   \n",
       "primary_cleaner.output.concentrate_ag               19439.0      8.442408   \n",
       "primary_cleaner.output.concentrate_pb               19323.0      9.829530   \n",
       "primary_cleaner.output.concentrate_sol              19069.0     10.489499   \n",
       "primary_cleaner.output.tail_au                      19439.0      3.914179   \n",
       "primary_cleaner.output.tail_ag                      19435.0     16.145826   \n",
       "primary_cleaner.output.tail_pb                      19418.0      3.435656   \n",
       "primary_cleaner.output.tail_sol                     19377.0      7.973209   \n",
       "secondary_cleaner.state.floatbank2_a_air            19219.0     28.705564   \n",
       "secondary_cleaner.state.floatbank2_a_level          19438.0   -502.367331   \n",
       "secondary_cleaner.state.floatbank2_b_air            19416.0     24.106800   \n",
       "secondary_cleaner.state.floatbank2_b_level          19438.0   -503.230712   \n",
       "secondary_cleaner.state.floatbank3_a_air            19426.0     28.199338   \n",
       "secondary_cleaner.state.floatbank3_a_level          19438.0   -486.203350   \n",
       "secondary_cleaner.state.floatbank3_b_air            19438.0     22.200645   \n",
       "secondary_cleaner.state.floatbank3_b_level          19438.0   -493.742107   \n",
       "secondary_cleaner.state.floatbank4_a_air            19433.0     18.987674   \n",
       "secondary_cleaner.state.floatbank4_a_level          19438.0   -485.894516   \n",
       "secondary_cleaner.state.floatbank4_b_air            19438.0     15.010366   \n",
       "secondary_cleaner.state.floatbank4_b_level          19438.0   -461.078636   \n",
       "secondary_cleaner.state.floatbank5_a_air            19438.0     15.694452   \n",
       "secondary_cleaner.state.floatbank5_a_level          19438.0   -488.684065   \n",
       "secondary_cleaner.state.floatbank5_b_air            19438.0     12.198224   \n",
       "secondary_cleaner.state.floatbank5_b_level          19438.0   -487.149827   \n",
       "secondary_cleaner.state.floatbank6_a_air            19437.0     18.959024   \n",
       "secondary_cleaner.state.floatbank6_a_level          19438.0   -505.436305   \n",
       "secondary_cleaner.output.tail_au                    19439.0      4.339625   \n",
       "secondary_cleaner.output.tail_ag                    19437.0     14.586833   \n",
       "secondary_cleaner.output.tail_pb                    19427.0      5.777703   \n",
       "secondary_cleaner.output.tail_sol                   17691.0      7.167247   \n",
       "final.output.concentrate_au                         19439.0     44.076513   \n",
       "final.output.concentrate_ag                         19438.0      5.168470   \n",
       "final.output.concentrate_pb                         19438.0      9.978895   \n",
       "final.output.concentrate_sol                        19228.0      9.501224   \n",
       "final.output.recovery                               19439.0     67.050208   \n",
       "final.output.tail_au                                19439.0      3.042467   \n",
       "final.output.tail_ag                                19438.0      9.688589   \n",
       "final.output.tail_pb                                19338.0      2.705795   \n",
       "final.output.tail_sol                               19433.0     10.583728   \n",
       "\n",
       "                                                              std  \\\n",
       "rougher.input.feed_au                                    1.955092   \n",
       "rougher.input.feed_ag                                    1.936847   \n",
       "rougher.input.feed_pb                                    1.049486   \n",
       "rougher.input.feed_sol                                   5.145445   \n",
       "rougher.input.feed_rate                                105.373758   \n",
       "rougher.input.feed_size                                 21.634478   \n",
       "rougher.input.floatbank10_sulfate                        3.427317   \n",
       "rougher.input.floatbank10_xanthate                       1.127263   \n",
       "rougher.state.floatbank10_a_air                        160.826798   \n",
       "rougher.state.floatbank10_a_level                       93.909667   \n",
       "rougher.state.floatbank10_b_air                        176.287095   \n",
       "rougher.state.floatbank10_b_level                       54.673142   \n",
       "rougher.state.floatbank10_c_air                        202.804325   \n",
       "rougher.state.floatbank10_c_level                       53.534825   \n",
       "rougher.state.floatbank10_d_air                        204.019326   \n",
       "rougher.state.floatbank10_d_level                       53.921458   \n",
       "rougher.state.floatbank10_e_air                        172.149992   \n",
       "rougher.state.floatbank10_e_level                       57.384424   \n",
       "rougher.state.floatbank10_f_air                        164.487837   \n",
       "rougher.state.floatbank10_f_level                       57.850263   \n",
       "rougher.input.floatbank11_sulfate                        3.784221   \n",
       "rougher.input.floatbank11_xanthate                       1.099118   \n",
       "rougher.calculation.sulfate_to_au_concentrate       324362.111569   \n",
       "rougher.calculation.floatbank10_sulfate_to_au_feed    4943.845943   \n",
       "rougher.calculation.floatbank11_sulfate_to_au_feed    5781.423659   \n",
       "rougher.calculation.au_pb_ratio                          0.814935   \n",
       "rougher.output.concentrate_au                            3.753600   \n",
       "rougher.output.concentrate_ag                            2.733862   \n",
       "rougher.output.concentrate_pb                            1.796757   \n",
       "rougher.output.concentrate_sol                           5.944207   \n",
       "rougher.output.recovery                                 14.148086   \n",
       "rougher.output.tail_au                                   0.680046   \n",
       "rougher.output.tail_ag                                   1.111288   \n",
       "rougher.output.tail_pb                                   0.251526   \n",
       "rougher.output.tail_sol                                  3.449218   \n",
       "primary_cleaner.input.sulfate                           44.464071   \n",
       "primary_cleaner.input.depressant                         3.286186   \n",
       "primary_cleaner.input.feed_size                          0.613509   \n",
       "primary_cleaner.input.xanthate                           0.513254   \n",
       "primary_cleaner.state.floatbank8_a_air                 128.996838   \n",
       "primary_cleaner.state.floatbank8_a_level                32.431842   \n",
       "primary_cleaner.state.floatbank8_b_air                 131.810879   \n",
       "primary_cleaner.state.floatbank8_b_level                33.794822   \n",
       "primary_cleaner.state.floatbank8_c_air                 136.111402   \n",
       "primary_cleaner.state.floatbank8_c_level                32.711455   \n",
       "primary_cleaner.state.floatbank8_d_air                 246.199602   \n",
       "primary_cleaner.state.floatbank8_d_level                43.959780   \n",
       "primary_cleaner.output.concentrate_au                    5.627611   \n",
       "primary_cleaner.output.concentrate_ag                    2.054465   \n",
       "primary_cleaner.output.concentrate_pb                    2.556843   \n",
       "primary_cleaner.output.concentrate_sol                   3.909639   \n",
       "primary_cleaner.output.tail_au                           1.593034   \n",
       "primary_cleaner.output.tail_ag                           3.548598   \n",
       "primary_cleaner.output.tail_pb                           1.392536   \n",
       "primary_cleaner.output.tail_sol                          2.212677   \n",
       "secondary_cleaner.state.floatbank2_a_air                 5.458789   \n",
       "secondary_cleaner.state.floatbank2_a_level              53.571950   \n",
       "secondary_cleaner.state.floatbank2_b_air                 5.749616   \n",
       "secondary_cleaner.state.floatbank2_b_level              56.567724   \n",
       "secondary_cleaner.state.floatbank3_a_air                 6.134908   \n",
       "secondary_cleaner.state.floatbank3_a_level              54.412349   \n",
       "secondary_cleaner.state.floatbank3_b_air                 5.574001   \n",
       "secondary_cleaner.state.floatbank3_b_level              43.372158   \n",
       "secondary_cleaner.state.floatbank4_a_air                 5.411058   \n",
       "secondary_cleaner.state.floatbank4_a_level              47.758570   \n",
       "secondary_cleaner.state.floatbank4_b_air                 4.890228   \n",
       "secondary_cleaner.state.floatbank4_b_level              67.405524   \n",
       "secondary_cleaner.state.floatbank5_a_air                 5.510974   \n",
       "secondary_cleaner.state.floatbank5_a_level              34.533396   \n",
       "secondary_cleaner.state.floatbank5_b_air                 5.333024   \n",
       "secondary_cleaner.state.floatbank5_b_level              38.347312   \n",
       "secondary_cleaner.state.floatbank6_a_air                 5.550498   \n",
       "secondary_cleaner.state.floatbank6_a_level              37.689057   \n",
       "secondary_cleaner.output.tail_au                         2.326751   \n",
       "secondary_cleaner.output.tail_ag                         4.265202   \n",
       "secondary_cleaner.output.tail_pb                         2.774598   \n",
       "secondary_cleaner.output.tail_sol                        3.916079   \n",
       "final.output.concentrate_au                              5.129784   \n",
       "final.output.concentrate_ag                              1.372348   \n",
       "final.output.concentrate_pb                              1.669240   \n",
       "final.output.concentrate_sol                             2.787537   \n",
       "final.output.recovery                                   10.125840   \n",
       "final.output.tail_au                                     0.922808   \n",
       "final.output.tail_ag                                     2.328642   \n",
       "final.output.tail_pb                                     0.949077   \n",
       "final.output.tail_sol                                    2.868782   \n",
       "\n",
       "                                                             min  \\\n",
       "rougher.input.feed_au                               1.000000e-02   \n",
       "rougher.input.feed_ag                               1.000000e-02   \n",
       "rougher.input.feed_pb                               1.000000e-02   \n",
       "rougher.input.feed_sol                              1.000000e-02   \n",
       "rougher.input.feed_rate                             2.985849e-03   \n",
       "rougher.input.feed_size                             4.636880e-02   \n",
       "rougher.input.floatbank10_sulfate                   1.083112e-03   \n",
       "rougher.input.floatbank10_xanthate                  5.682328e-04   \n",
       "rougher.state.floatbank10_a_air                    -4.206929e-02   \n",
       "rougher.state.floatbank10_a_level                  -6.579498e+02   \n",
       "rougher.state.floatbank10_b_air                    -7.218064e-01   \n",
       "rougher.state.floatbank10_b_level                  -6.502600e+02   \n",
       "rougher.state.floatbank10_c_air                    -5.663551e-02   \n",
       "rougher.state.floatbank10_c_level                  -6.475444e+02   \n",
       "rougher.state.floatbank10_d_air                    -9.922190e-01   \n",
       "rougher.state.floatbank10_d_level                  -6.483907e+02   \n",
       "rougher.state.floatbank10_e_air                    -1.982295e+00   \n",
       "rougher.state.floatbank10_e_level                  -6.494439e+02   \n",
       "rougher.state.floatbank10_f_air                    -2.593390e+00   \n",
       "rougher.state.floatbank10_f_level                  -6.499493e+02   \n",
       "rougher.input.floatbank11_sulfate                   7.673764e-05   \n",
       "rougher.input.floatbank11_xanthate                  2.904126e-04   \n",
       "rougher.calculation.sulfate_to_au_concentrate      -4.223520e+07   \n",
       "rougher.calculation.floatbank10_sulfate_to_au_feed -4.865987e+02   \n",
       "rougher.calculation.floatbank11_sulfate_to_au_feed -2.649828e+02   \n",
       "rougher.calculation.au_pb_ratio                    -1.054761e-02   \n",
       "rougher.output.concentrate_au                       0.000000e+00   \n",
       "rougher.output.concentrate_ag                       0.000000e+00   \n",
       "rougher.output.concentrate_pb                       0.000000e+00   \n",
       "rougher.output.concentrate_sol                      0.000000e+00   \n",
       "rougher.output.recovery                             0.000000e+00   \n",
       "rougher.output.tail_au                              2.067578e-02   \n",
       "rougher.output.tail_ag                              5.945623e-01   \n",
       "rougher.output.tail_pb                              7.566066e-03   \n",
       "rougher.output.tail_sol                             1.001465e+01   \n",
       "primary_cleaner.input.sulfate                       3.111820e-03   \n",
       "primary_cleaner.input.depressant                    0.000000e+00   \n",
       "primary_cleaner.input.feed_size                     1.080000e+00   \n",
       "primary_cleaner.input.xanthate                      4.632753e-06   \n",
       "primary_cleaner.state.floatbank8_a_air              5.445860e-32   \n",
       "primary_cleaner.state.floatbank8_a_level           -7.986417e+02   \n",
       "primary_cleaner.state.floatbank8_b_air              6.647490e-32   \n",
       "primary_cleaner.state.floatbank8_b_level           -7.999970e+02   \n",
       "primary_cleaner.state.floatbank8_c_air              4.033736e-32   \n",
       "primary_cleaner.state.floatbank8_c_level           -7.999606e+02   \n",
       "primary_cleaner.state.floatbank8_d_air              4.039220e-32   \n",
       "primary_cleaner.state.floatbank8_d_level           -7.997943e+02   \n",
       "primary_cleaner.output.concentrate_au               0.000000e+00   \n",
       "primary_cleaner.output.concentrate_ag               0.000000e+00   \n",
       "primary_cleaner.output.concentrate_pb               0.000000e+00   \n",
       "primary_cleaner.output.concentrate_sol              0.000000e+00   \n",
       "primary_cleaner.output.tail_au                      0.000000e+00   \n",
       "primary_cleaner.output.tail_ag                      0.000000e+00   \n",
       "primary_cleaner.output.tail_pb                      0.000000e+00   \n",
       "primary_cleaner.output.tail_sol                     0.000000e+00   \n",
       "secondary_cleaner.state.floatbank2_a_air            7.750256e-02   \n",
       "secondary_cleaner.state.floatbank2_a_level         -7.996064e+02   \n",
       "secondary_cleaner.state.floatbank2_b_air            0.000000e+00   \n",
       "secondary_cleaner.state.floatbank2_b_level         -7.998739e+02   \n",
       "secondary_cleaner.state.floatbank3_a_air            0.000000e+00   \n",
       "secondary_cleaner.state.floatbank3_a_level         -7.997558e+02   \n",
       "secondary_cleaner.state.floatbank3_b_air            0.000000e+00   \n",
       "secondary_cleaner.state.floatbank3_b_level         -8.093330e+02   \n",
       "secondary_cleaner.state.floatbank4_a_air            0.000000e+00   \n",
       "secondary_cleaner.state.floatbank4_a_level         -7.997985e+02   \n",
       "secondary_cleaner.state.floatbank4_b_air            0.000000e+00   \n",
       "secondary_cleaner.state.floatbank4_b_level         -8.008369e+02   \n",
       "secondary_cleaner.state.floatbank5_a_air           -3.720540e-01   \n",
       "secondary_cleaner.state.floatbank5_a_level         -7.973240e+02   \n",
       "secondary_cleaner.state.floatbank5_b_air            5.280828e-01   \n",
       "secondary_cleaner.state.floatbank5_b_level         -8.002203e+02   \n",
       "secondary_cleaner.state.floatbank6_a_air           -7.942623e-02   \n",
       "secondary_cleaner.state.floatbank6_a_level         -8.097415e+02   \n",
       "secondary_cleaner.output.tail_au                    0.000000e+00   \n",
       "secondary_cleaner.output.tail_ag                    0.000000e+00   \n",
       "secondary_cleaner.output.tail_pb                    0.000000e+00   \n",
       "secondary_cleaner.output.tail_sol                   0.000000e+00   \n",
       "final.output.concentrate_au                         0.000000e+00   \n",
       "final.output.concentrate_ag                         0.000000e+00   \n",
       "final.output.concentrate_pb                         0.000000e+00   \n",
       "final.output.concentrate_sol                        0.000000e+00   \n",
       "final.output.recovery                               0.000000e+00   \n",
       "final.output.tail_au                                0.000000e+00   \n",
       "final.output.tail_ag                                0.000000e+00   \n",
       "final.output.tail_pb                                0.000000e+00   \n",
       "final.output.tail_sol                               0.000000e+00   \n",
       "\n",
       "                                                             25%  \\\n",
       "rougher.input.feed_au                                   6.854384   \n",
       "rougher.input.feed_ag                                   7.237967   \n",
       "rougher.input.feed_pb                                   2.887280   \n",
       "rougher.input.feed_sol                                 34.207799   \n",
       "rougher.input.feed_rate                               416.525453   \n",
       "rougher.input.feed_size                                47.435103   \n",
       "rougher.input.floatbank10_sulfate                      10.000362   \n",
       "rougher.input.floatbank10_xanthate                      5.398678   \n",
       "rougher.state.floatbank10_a_air                       999.661867   \n",
       "rougher.state.floatbank10_a_level                    -499.835165   \n",
       "rougher.state.floatbank10_b_air                      1199.626115   \n",
       "rougher.state.floatbank10_b_level                    -500.201130   \n",
       "rougher.state.floatbank10_c_air                      1151.076301   \n",
       "rougher.state.floatbank10_c_level                    -500.217218   \n",
       "rougher.state.floatbank10_d_air                      1061.051788   \n",
       "rougher.state.floatbank10_d_level                    -500.386386   \n",
       "rougher.state.floatbank10_e_air                       998.675263   \n",
       "rougher.state.floatbank10_e_level                    -500.232191   \n",
       "rougher.state.floatbank10_f_air                       900.995511   \n",
       "rougher.state.floatbank10_f_level                    -500.522553   \n",
       "rougher.input.floatbank11_sulfate                       9.998460   \n",
       "rougher.input.floatbank11_xanthate                      5.402368   \n",
       "rougher.calculation.sulfate_to_au_concentrate       40700.946040   \n",
       "rougher.calculation.floatbank10_sulfate_to_au_feed   2611.425833   \n",
       "rougher.calculation.floatbank11_sulfate_to_au_feed   2551.437587   \n",
       "rougher.calculation.au_pb_ratio                         2.035434   \n",
       "rougher.output.concentrate_au                          18.802523   \n",
       "rougher.output.concentrate_ag                          10.628337   \n",
       "rougher.output.concentrate_pb                           6.725987   \n",
       "rougher.output.concentrate_sol                         27.224120   \n",
       "rougher.output.recovery                                81.037957   \n",
       "rougher.output.tail_au                                  1.404207   \n",
       "rougher.output.tail_ag                                  4.889892   \n",
       "rougher.output.tail_pb                                  0.477728   \n",
       "rougher.output.tail_sol                                15.822525   \n",
       "primary_cleaner.input.sulfate                         114.107029   \n",
       "primary_cleaner.input.depressant                        6.076909   \n",
       "primary_cleaner.input.feed_size                         6.940000   \n",
       "primary_cleaner.input.xanthate                          0.697224   \n",
       "primary_cleaner.state.floatbank8_a_air               1505.063192   \n",
       "primary_cleaner.state.floatbank8_a_level             -500.308544   \n",
       "primary_cleaner.state.floatbank8_b_air               1503.629878   \n",
       "primary_cleaner.state.floatbank8_b_level             -500.437171   \n",
       "primary_cleaner.state.floatbank8_c_air               1500.926924   \n",
       "primary_cleaner.state.floatbank8_c_level             -500.703932   \n",
       "primary_cleaner.state.floatbank8_d_air               1494.219469   \n",
       "primary_cleaner.state.floatbank8_d_level             -500.458365   \n",
       "primary_cleaner.output.concentrate_au                  30.463140   \n",
       "primary_cleaner.output.concentrate_ag                   7.263288   \n",
       "primary_cleaner.output.concentrate_pb                   8.702328   \n",
       "primary_cleaner.output.concentrate_sol                  7.893893   \n",
       "primary_cleaner.output.tail_au                          2.924844   \n",
       "primary_cleaner.output.tail_ag                         14.017742   \n",
       "primary_cleaner.output.tail_pb                          2.504365   \n",
       "primary_cleaner.output.tail_sol                         6.747483   \n",
       "secondary_cleaner.state.floatbank2_a_air               25.048462   \n",
       "secondary_cleaner.state.floatbank2_a_level           -500.233700   \n",
       "secondary_cleaner.state.floatbank2_b_air               20.919853   \n",
       "secondary_cleaner.state.floatbank2_b_level           -500.253794   \n",
       "secondary_cleaner.state.floatbank3_a_air               24.949227   \n",
       "secondary_cleaner.state.floatbank3_a_level           -500.213546   \n",
       "secondary_cleaner.state.floatbank3_b_air               18.995924   \n",
       "secondary_cleaner.state.floatbank3_b_level           -500.123034   \n",
       "secondary_cleaner.state.floatbank4_a_air               14.975734   \n",
       "secondary_cleaner.state.floatbank4_a_level           -500.704892   \n",
       "secondary_cleaner.state.floatbank4_b_air               11.940294   \n",
       "secondary_cleaner.state.floatbank4_b_level           -500.187742   \n",
       "secondary_cleaner.state.floatbank5_a_air               10.988606   \n",
       "secondary_cleaner.state.floatbank5_a_level           -500.458467   \n",
       "secondary_cleaner.state.floatbank5_b_air                8.971105   \n",
       "secondary_cleaner.state.floatbank5_b_level           -500.129462   \n",
       "secondary_cleaner.state.floatbank6_a_air               14.983037   \n",
       "secondary_cleaner.state.floatbank6_a_level           -500.728067   \n",
       "secondary_cleaner.output.tail_au                        3.182770   \n",
       "secondary_cleaner.output.tail_ag                       12.640239   \n",
       "secondary_cleaner.output.tail_pb                        3.864733   \n",
       "secondary_cleaner.output.tail_sol                       3.845475   \n",
       "final.output.concentrate_au                            43.402215   \n",
       "final.output.concentrate_ag                             4.251240   \n",
       "final.output.concentrate_pb                             9.137262   \n",
       "final.output.concentrate_sol                            7.722820   \n",
       "final.output.recovery                                  63.299712   \n",
       "final.output.tail_au                                    2.461138   \n",
       "final.output.tail_ag                                    8.062878   \n",
       "final.output.tail_pb                                    2.040119   \n",
       "final.output.tail_sol                                   8.938947   \n",
       "\n",
       "                                                             50%  \\\n",
       "rougher.input.feed_au                                   8.125839   \n",
       "rougher.input.feed_ag                                   8.593574   \n",
       "rougher.input.feed_pb                                   3.534895   \n",
       "rougher.input.feed_sol                                 37.202650   \n",
       "rougher.input.feed_rate                               499.416120   \n",
       "rougher.input.feed_size                                54.610197   \n",
       "rougher.input.floatbank10_sulfate                      12.001174   \n",
       "rougher.input.floatbank10_xanthate                      6.008273   \n",
       "rougher.state.floatbank10_a_air                      1001.072890   \n",
       "rougher.state.floatbank10_a_level                    -300.263994   \n",
       "rougher.state.floatbank10_b_air                      1301.579988   \n",
       "rougher.state.floatbank10_b_level                    -499.784045   \n",
       "rougher.state.floatbank10_c_air                      1300.211537   \n",
       "rougher.state.floatbank10_c_level                    -499.713364   \n",
       "rougher.state.floatbank10_d_air                      1201.569141   \n",
       "rougher.state.floatbank10_d_level                    -499.532412   \n",
       "rougher.state.floatbank10_e_air                      1050.029461   \n",
       "rougher.state.floatbank10_e_level                    -499.663089   \n",
       "rougher.state.floatbank10_f_air                       999.924821   \n",
       "rougher.state.floatbank10_f_level                    -499.471777   \n",
       "rougher.input.floatbank11_sulfate                      12.000204   \n",
       "rougher.input.floatbank11_xanthate                      6.098580   \n",
       "rougher.calculation.sulfate_to_au_concentrate       44696.480712   \n",
       "rougher.calculation.floatbank10_sulfate_to_au_feed   3018.353876   \n",
       "rougher.calculation.floatbank11_sulfate_to_au_feed   2997.218088   \n",
       "rougher.calculation.au_pb_ratio                         2.309665   \n",
       "rougher.output.concentrate_au                          20.280214   \n",
       "rougher.output.concentrate_ag                          12.098115   \n",
       "rougher.output.concentrate_pb                           7.742580   \n",
       "rougher.output.concentrate_sol                         29.835345   \n",
       "rougher.output.recovery                                86.188892   \n",
       "rougher.output.tail_au                                  1.808170   \n",
       "rougher.output.tail_ag                                  5.765802   \n",
       "rougher.output.tail_pb                                  0.617465   \n",
       "rougher.output.tail_sol                                18.106867   \n",
       "primary_cleaner.input.sulfate                         143.232103   \n",
       "primary_cleaner.input.depressant                        8.038311   \n",
       "primary_cleaner.input.feed_size                         7.280000   \n",
       "primary_cleaner.input.xanthate                          0.940863   \n",
       "primary_cleaner.state.floatbank8_a_air               1600.596566   \n",
       "primary_cleaner.state.floatbank8_a_level             -499.926134   \n",
       "primary_cleaner.state.floatbank8_b_air               1600.520975   \n",
       "primary_cleaner.state.floatbank8_b_level             -499.956767   \n",
       "primary_cleaner.state.floatbank8_c_air               1600.253890   \n",
       "primary_cleaner.state.floatbank8_c_level             -499.909524   \n",
       "primary_cleaner.state.floatbank8_d_air               1599.447470   \n",
       "primary_cleaner.state.floatbank8_d_level             -499.905974   \n",
       "primary_cleaner.output.concentrate_au                  32.841295   \n",
       "primary_cleaner.output.concentrate_ag                   8.507298   \n",
       "primary_cleaner.output.concentrate_pb                  10.152433   \n",
       "primary_cleaner.output.concentrate_sol                 10.314632   \n",
       "primary_cleaner.output.tail_au                          3.623234   \n",
       "primary_cleaner.output.tail_ag                         15.842836   \n",
       "primary_cleaner.output.tail_pb                          3.271153   \n",
       "primary_cleaner.output.tail_sol                         8.183673   \n",
       "secondary_cleaner.state.floatbank2_a_air               29.099943   \n",
       "secondary_cleaner.state.floatbank2_a_level           -499.973250   \n",
       "secondary_cleaner.state.floatbank2_b_air               25.043289   \n",
       "secondary_cleaner.state.floatbank2_b_level           -500.015439   \n",
       "secondary_cleaner.state.floatbank3_a_air               27.982129   \n",
       "secondary_cleaner.state.floatbank3_a_level           -499.930680   \n",
       "secondary_cleaner.state.floatbank3_b_air               22.011231   \n",
       "secondary_cleaner.state.floatbank3_b_level           -499.981902   \n",
       "secondary_cleaner.state.floatbank4_a_air               18.017481   \n",
       "secondary_cleaner.state.floatbank4_a_level           -499.837793   \n",
       "secondary_cleaner.state.floatbank4_b_air               14.971014   \n",
       "secondary_cleaner.state.floatbank4_b_level           -499.459786   \n",
       "secondary_cleaner.state.floatbank5_a_air               15.000036   \n",
       "secondary_cleaner.state.floatbank5_a_level           -499.802605   \n",
       "secondary_cleaner.state.floatbank5_b_air               11.019433   \n",
       "secondary_cleaner.state.floatbank5_b_level           -499.935317   \n",
       "secondary_cleaner.state.floatbank6_a_air               19.960541   \n",
       "secondary_cleaner.state.floatbank6_a_level           -500.048400   \n",
       "secondary_cleaner.output.tail_au                        4.072412   \n",
       "secondary_cleaner.output.tail_ag                       15.641902   \n",
       "secondary_cleaner.output.tail_pb                        5.344073   \n",
       "secondary_cleaner.output.tail_sol                       7.685827   \n",
       "final.output.concentrate_au                            45.011244   \n",
       "final.output.concentrate_ag                             5.066094   \n",
       "final.output.concentrate_pb                            10.102433   \n",
       "final.output.concentrate_sol                            9.218961   \n",
       "final.output.recovery                                  68.172738   \n",
       "final.output.tail_au                                    2.984909   \n",
       "final.output.tail_ag                                    9.743623   \n",
       "final.output.tail_pb                                    2.748730   \n",
       "final.output.tail_sol                                  10.622456   \n",
       "\n",
       "                                                             75%           max  \n",
       "rougher.input.feed_au                                   9.769917  1.373133e+01  \n",
       "rougher.input.feed_ag                                  10.213771  1.459603e+01  \n",
       "rougher.input.feed_pb                                   4.244161  7.142594e+00  \n",
       "rougher.input.feed_sol                                 40.039133  5.347774e+01  \n",
       "rougher.input.feed_rate                               550.172183  7.175088e+02  \n",
       "rougher.input.feed_size                                65.023044  4.849675e+02  \n",
       "rougher.input.floatbank10_sulfate                      14.716595  3.611827e+01  \n",
       "rougher.input.floatbank10_xanthate                      6.798051  9.703448e+00  \n",
       "rougher.state.floatbank10_a_air                      1205.620588  1.521980e+03  \n",
       "rougher.state.floatbank10_a_level                    -299.981998 -2.737761e+02  \n",
       "rougher.state.floatbank10_b_air                      1448.630789  1.809194e+03  \n",
       "rougher.state.floatbank10_b_level                    -400.615589 -2.963831e+02  \n",
       "rougher.state.floatbank10_c_air                      1449.464001  2.499129e+03  \n",
       "rougher.state.floatbank10_c_level                    -400.985743 -2.921555e+02  \n",
       "rougher.state.floatbank10_d_air                      1352.880320  1.817199e+03  \n",
       "rougher.state.floatbank10_d_level                    -401.638550 -7.639733e+01  \n",
       "rougher.state.floatbank10_e_air                      1199.425140  1.922637e+03  \n",
       "rougher.state.floatbank10_e_level                    -401.161191 -1.397530e+02  \n",
       "rougher.state.floatbank10_f_air                      1099.719692  1.706308e+03  \n",
       "rougher.state.floatbank10_f_level                    -401.511042 -1.917185e+02  \n",
       "rougher.input.floatbank11_sulfate                      14.636766  3.798065e+01  \n",
       "rougher.input.floatbank11_xanthate                      6.801233  9.698407e+00  \n",
       "rougher.calculation.sulfate_to_au_concentrate       48168.210371  3.428099e+06  \n",
       "rougher.calculation.floatbank10_sulfate_to_au_feed   3676.769750  6.296390e+05  \n",
       "rougher.calculation.floatbank11_sulfate_to_au_feed   3601.998911  7.186850e+05  \n",
       "rougher.calculation.au_pb_ratio                         2.731794  3.937927e+01  \n",
       "rougher.output.concentrate_au                          21.717843  2.882451e+01  \n",
       "rougher.output.concentrate_ag                          13.736996  2.448027e+01  \n",
       "rougher.output.concentrate_pb                           8.565199  1.361707e+01  \n",
       "rougher.output.concentrate_sol                         32.189933  3.835119e+01  \n",
       "rougher.output.recovery                                90.010670  1.000000e+02  \n",
       "rougher.output.tail_au                                  2.211861  9.688980e+00  \n",
       "rougher.output.tail_ag                                  6.389234  1.271918e+01  \n",
       "rougher.output.tail_pb                                  0.778271  3.778064e+00  \n",
       "rougher.output.tail_sol                                20.088151  6.611719e+01  \n",
       "primary_cleaner.input.sulfate                         175.075656  2.659831e+02  \n",
       "primary_cleaner.input.depressant                       11.013521  4.000000e+01  \n",
       "primary_cleaner.input.feed_size                         7.670000  1.550000e+01  \n",
       "primary_cleaner.input.xanthate                          1.210990  4.102454e+00  \n",
       "primary_cleaner.state.floatbank8_a_air               1697.657718  2.103104e+03  \n",
       "primary_cleaner.state.floatbank8_a_level             -499.433950 -5.719540e+01  \n",
       "primary_cleaner.state.floatbank8_b_air               1699.217656  2.114907e+03  \n",
       "primary_cleaner.state.floatbank8_b_level             -499.373336 -1.425272e+02  \n",
       "primary_cleaner.state.floatbank8_c_air               1699.482929  2.013156e+03  \n",
       "primary_cleaner.state.floatbank8_c_level             -498.857643 -1.509370e+02  \n",
       "primary_cleaner.state.floatbank8_d_air               1698.524904  2.398904e+03  \n",
       "primary_cleaner.state.floatbank8_d_level             -499.064695 -3.060183e+01  \n",
       "primary_cleaner.output.concentrate_au                  35.048006  4.593393e+01  \n",
       "primary_cleaner.output.concentrate_ag                   9.809001  1.608163e+01  \n",
       "primary_cleaner.output.concentrate_pb                  11.424971  1.708128e+01  \n",
       "primary_cleaner.output.concentrate_sol                 13.446702  2.245811e+01  \n",
       "primary_cleaner.output.tail_au                          4.585705  1.778892e+01  \n",
       "primary_cleaner.output.tail_ag                         18.013975  2.945957e+01  \n",
       "primary_cleaner.output.tail_pb                          4.181748  9.634565e+00  \n",
       "primary_cleaner.output.tail_sol                         9.548586  2.227636e+01  \n",
       "secondary_cleaner.state.floatbank2_a_air               33.012536  5.265140e+01  \n",
       "secondary_cleaner.state.floatbank2_a_level           -499.671261 -1.278756e+02  \n",
       "secondary_cleaner.state.floatbank2_b_air               28.008197  3.515212e+01  \n",
       "secondary_cleaner.state.floatbank2_b_level           -499.785698 -2.119993e+02  \n",
       "secondary_cleaner.state.floatbank3_a_air               33.002798  4.426046e+01  \n",
       "secondary_cleaner.state.floatbank3_a_level           -499.325739 -1.916788e+02  \n",
       "secondary_cleaner.state.floatbank3_b_air               25.998206  3.507284e+01  \n",
       "secondary_cleaner.state.floatbank3_b_level           -499.812834 -1.597423e+02  \n",
       "secondary_cleaner.state.floatbank4_a_air               23.012470  3.011574e+01  \n",
       "secondary_cleaner.state.floatbank4_a_level           -498.249730 -2.452392e+02  \n",
       "secondary_cleaner.state.floatbank4_b_air               19.034162  3.126971e+01  \n",
       "secondary_cleaner.state.floatbank4_b_level           -400.118106 -6.506986e+00  \n",
       "secondary_cleaner.state.floatbank5_a_air               18.026190  4.370993e+01  \n",
       "secondary_cleaner.state.floatbank5_a_level           -498.384187 -2.444836e+02  \n",
       "secondary_cleaner.state.floatbank5_b_air               14.019088  2.792600e+01  \n",
       "secondary_cleaner.state.floatbank5_b_level           -499.436708 -1.377400e+02  \n",
       "secondary_cleaner.state.floatbank6_a_air               24.003170  3.218891e+01  \n",
       "secondary_cleaner.state.floatbank6_a_level           -499.495378 -1.044275e+02  \n",
       "secondary_cleaner.output.tail_au                        5.063081  2.681164e+01  \n",
       "secondary_cleaner.output.tail_ag                       17.358217  2.326474e+01  \n",
       "secondary_cleaner.output.tail_pb                        7.788467  1.704250e+01  \n",
       "secondary_cleaner.output.tail_sol                      10.411296  2.600077e+01  \n",
       "final.output.concentrate_au                            46.275313  5.275664e+01  \n",
       "final.output.concentrate_ag                             5.895527  1.600195e+01  \n",
       "final.output.concentrate_pb                            11.035769  1.703190e+01  \n",
       "final.output.concentrate_sol                           10.947813  1.961572e+01  \n",
       "final.output.recovery                                  72.686642  1.000000e+02  \n",
       "final.output.tail_au                                    3.571351  8.245022e+00  \n",
       "final.output.tail_ag                                   11.134294  1.955215e+01  \n",
       "final.output.tail_pb                                    3.333216  5.804178e+00  \n",
       "final.output.tail_sol                                  12.104271  2.231773e+01  "
      ]
     },
     "execution_count": 4,
     "metadata": {},
     "output_type": "execute_result"
    }
   ],
   "source": [
    "data_full.describe().T"
   ]
  },
  {
   "cell_type": "code",
   "execution_count": 5,
   "metadata": {},
   "outputs": [
    {
     "data": {
      "text/html": [
       "<div>\n",
       "<style scoped>\n",
       "    .dataframe tbody tr th:only-of-type {\n",
       "        vertical-align: middle;\n",
       "    }\n",
       "\n",
       "    .dataframe tbody tr th {\n",
       "        vertical-align: top;\n",
       "    }\n",
       "\n",
       "    .dataframe thead th {\n",
       "        text-align: right;\n",
       "    }\n",
       "</style>\n",
       "<table border=\"1\" class=\"dataframe\">\n",
       "  <thead>\n",
       "    <tr style=\"text-align: right;\">\n",
       "      <th></th>\n",
       "      <th>count</th>\n",
       "      <th>mean</th>\n",
       "      <th>std</th>\n",
       "      <th>min</th>\n",
       "      <th>25%</th>\n",
       "      <th>50%</th>\n",
       "      <th>75%</th>\n",
       "      <th>max</th>\n",
       "    </tr>\n",
       "  </thead>\n",
       "  <tbody>\n",
       "    <tr>\n",
       "      <th>rougher.input.feed_au</th>\n",
       "      <td>14579.0</td>\n",
       "      <td>8.352941</td>\n",
       "      <td>1.934376</td>\n",
       "      <td>1.000000e-02</td>\n",
       "      <td>6.932996</td>\n",
       "      <td>8.225284</td>\n",
       "      <td>9.832210</td>\n",
       "      <td>1.373133e+01</td>\n",
       "    </tr>\n",
       "    <tr>\n",
       "      <th>rougher.input.feed_ag</th>\n",
       "      <td>14579.0</td>\n",
       "      <td>8.877460</td>\n",
       "      <td>1.922536</td>\n",
       "      <td>1.000000e-02</td>\n",
       "      <td>7.341922</td>\n",
       "      <td>8.715859</td>\n",
       "      <td>10.255843</td>\n",
       "      <td>1.459603e+01</td>\n",
       "    </tr>\n",
       "    <tr>\n",
       "      <th>rougher.input.feed_pb</th>\n",
       "      <td>14507.0</td>\n",
       "      <td>3.604221</td>\n",
       "      <td>1.056063</td>\n",
       "      <td>1.000000e-02</td>\n",
       "      <td>2.880490</td>\n",
       "      <td>3.532399</td>\n",
       "      <td>4.257282</td>\n",
       "      <td>7.052325e+00</td>\n",
       "    </tr>\n",
       "    <tr>\n",
       "      <th>rougher.input.feed_sol</th>\n",
       "      <td>14502.0</td>\n",
       "      <td>36.561420</td>\n",
       "      <td>5.209823</td>\n",
       "      <td>1.000000e-02</td>\n",
       "      <td>34.093951</td>\n",
       "      <td>37.097511</td>\n",
       "      <td>39.899799</td>\n",
       "      <td>5.347532e+01</td>\n",
       "    </tr>\n",
       "    <tr>\n",
       "      <th>rougher.input.feed_rate</th>\n",
       "      <td>14572.0</td>\n",
       "      <td>474.332784</td>\n",
       "      <td>108.503552</td>\n",
       "      <td>2.985849e-03</td>\n",
       "      <td>411.048483</td>\n",
       "      <td>498.187968</td>\n",
       "      <td>549.586552</td>\n",
       "      <td>7.175088e+02</td>\n",
       "    </tr>\n",
       "    <tr>\n",
       "      <th>rougher.input.feed_size</th>\n",
       "      <td>14478.0</td>\n",
       "      <td>58.922712</td>\n",
       "      <td>22.407410</td>\n",
       "      <td>4.919367e-02</td>\n",
       "      <td>47.278490</td>\n",
       "      <td>54.361187</td>\n",
       "      <td>64.464926</td>\n",
       "      <td>4.849675e+02</td>\n",
       "    </tr>\n",
       "    <tr>\n",
       "      <th>rougher.input.floatbank10_sulfate</th>\n",
       "      <td>14548.0</td>\n",
       "      <td>12.427399</td>\n",
       "      <td>3.428939</td>\n",
       "      <td>1.083112e-03</td>\n",
       "      <td>10.002832</td>\n",
       "      <td>12.003320</td>\n",
       "      <td>14.929903</td>\n",
       "      <td>3.611827e+01</td>\n",
       "    </tr>\n",
       "    <tr>\n",
       "      <th>rougher.input.floatbank10_xanthate</th>\n",
       "      <td>14572.0</td>\n",
       "      <td>5.994854</td>\n",
       "      <td>1.152873</td>\n",
       "      <td>5.682328e-04</td>\n",
       "      <td>5.304167</td>\n",
       "      <td>6.003053</td>\n",
       "      <td>6.796632</td>\n",
       "      <td>9.703448e+00</td>\n",
       "    </tr>\n",
       "    <tr>\n",
       "      <th>rougher.state.floatbank10_a_air</th>\n",
       "      <td>14579.0</td>\n",
       "      <td>1104.208278</td>\n",
       "      <td>162.235606</td>\n",
       "      <td>-4.206929e-02</td>\n",
       "      <td>999.644856</td>\n",
       "      <td>1000.982624</td>\n",
       "      <td>1292.663971</td>\n",
       "      <td>1.512300e+03</td>\n",
       "    </tr>\n",
       "    <tr>\n",
       "      <th>rougher.state.floatbank10_a_level</th>\n",
       "      <td>14579.0</td>\n",
       "      <td>-379.367166</td>\n",
       "      <td>94.652311</td>\n",
       "      <td>-6.579498e+02</td>\n",
       "      <td>-499.861797</td>\n",
       "      <td>-300.314199</td>\n",
       "      <td>-299.989315</td>\n",
       "      <td>-2.737761e+02</td>\n",
       "    </tr>\n",
       "    <tr>\n",
       "      <th>rougher.state.floatbank10_b_air</th>\n",
       "      <td>14579.0</td>\n",
       "      <td>1322.845805</td>\n",
       "      <td>181.612353</td>\n",
       "      <td>-7.218064e-01</td>\n",
       "      <td>1199.563063</td>\n",
       "      <td>1302.379807</td>\n",
       "      <td>1449.971526</td>\n",
       "      <td>1.809194e+03</td>\n",
       "    </tr>\n",
       "    <tr>\n",
       "      <th>rougher.state.floatbank10_b_level</th>\n",
       "      <td>14579.0</td>\n",
       "      <td>-465.495165</td>\n",
       "      <td>56.220206</td>\n",
       "      <td>-6.502600e+02</td>\n",
       "      <td>-500.195180</td>\n",
       "      <td>-499.767998</td>\n",
       "      <td>-400.490924</td>\n",
       "      <td>-2.963831e+02</td>\n",
       "    </tr>\n",
       "    <tr>\n",
       "      <th>rougher.state.floatbank10_c_air</th>\n",
       "      <td>14579.0</td>\n",
       "      <td>1302.745258</td>\n",
       "      <td>209.728859</td>\n",
       "      <td>-5.663551e-02</td>\n",
       "      <td>1150.739645</td>\n",
       "      <td>1300.639429</td>\n",
       "      <td>1450.429812</td>\n",
       "      <td>2.499129e+03</td>\n",
       "    </tr>\n",
       "    <tr>\n",
       "      <th>rougher.state.floatbank10_c_level</th>\n",
       "      <td>14579.0</td>\n",
       "      <td>-465.988660</td>\n",
       "      <td>55.261827</td>\n",
       "      <td>-6.475444e+02</td>\n",
       "      <td>-500.214580</td>\n",
       "      <td>-499.693772</td>\n",
       "      <td>-400.793268</td>\n",
       "      <td>-2.921555e+02</td>\n",
       "    </tr>\n",
       "    <tr>\n",
       "      <th>rougher.state.floatbank10_d_air</th>\n",
       "      <td>14579.0</td>\n",
       "      <td>1214.062375</td>\n",
       "      <td>210.056163</td>\n",
       "      <td>-9.922190e-01</td>\n",
       "      <td>1060.476511</td>\n",
       "      <td>1202.656040</td>\n",
       "      <td>1387.579519</td>\n",
       "      <td>1.817199e+03</td>\n",
       "    </tr>\n",
       "    <tr>\n",
       "      <th>rougher.state.floatbank10_d_level</th>\n",
       "      <td>14579.0</td>\n",
       "      <td>-466.526202</td>\n",
       "      <td>55.701015</td>\n",
       "      <td>-6.483907e+02</td>\n",
       "      <td>-500.369461</td>\n",
       "      <td>-499.511621</td>\n",
       "      <td>-401.231087</td>\n",
       "      <td>-7.639733e+01</td>\n",
       "    </tr>\n",
       "    <tr>\n",
       "      <th>rougher.state.floatbank10_e_air</th>\n",
       "      <td>14150.0</td>\n",
       "      <td>1082.778201</td>\n",
       "      <td>176.092308</td>\n",
       "      <td>-1.982295e+00</td>\n",
       "      <td>998.562148</td>\n",
       "      <td>1050.081856</td>\n",
       "      <td>1199.518951</td>\n",
       "      <td>1.922637e+03</td>\n",
       "    </tr>\n",
       "    <tr>\n",
       "      <th>rougher.state.floatbank10_e_level</th>\n",
       "      <td>14579.0</td>\n",
       "      <td>-464.228268</td>\n",
       "      <td>59.132193</td>\n",
       "      <td>-6.494439e+02</td>\n",
       "      <td>-500.220652</td>\n",
       "      <td>-499.640275</td>\n",
       "      <td>-400.842206</td>\n",
       "      <td>-1.397530e+02</td>\n",
       "    </tr>\n",
       "    <tr>\n",
       "      <th>rougher.state.floatbank10_f_air</th>\n",
       "      <td>14579.0</td>\n",
       "      <td>1025.775819</td>\n",
       "      <td>169.680255</td>\n",
       "      <td>-2.593390e+00</td>\n",
       "      <td>900.713144</td>\n",
       "      <td>999.870453</td>\n",
       "      <td>1099.789243</td>\n",
       "      <td>1.706308e+03</td>\n",
       "    </tr>\n",
       "    <tr>\n",
       "      <th>rougher.state.floatbank10_f_level</th>\n",
       "      <td>14579.0</td>\n",
       "      <td>-464.549373</td>\n",
       "      <td>59.622879</td>\n",
       "      <td>-6.499493e+02</td>\n",
       "      <td>-500.518102</td>\n",
       "      <td>-499.451154</td>\n",
       "      <td>-401.190552</td>\n",
       "      <td>-1.917185e+02</td>\n",
       "    </tr>\n",
       "    <tr>\n",
       "      <th>rougher.input.floatbank11_sulfate</th>\n",
       "      <td>14543.0</td>\n",
       "      <td>12.095857</td>\n",
       "      <td>3.887128</td>\n",
       "      <td>7.673764e-05</td>\n",
       "      <td>9.999625</td>\n",
       "      <td>12.000777</td>\n",
       "      <td>14.821675</td>\n",
       "      <td>3.798065e+01</td>\n",
       "    </tr>\n",
       "    <tr>\n",
       "      <th>rougher.input.floatbank11_xanthate</th>\n",
       "      <td>14172.0</td>\n",
       "      <td>6.047261</td>\n",
       "      <td>1.115055</td>\n",
       "      <td>2.904126e-04</td>\n",
       "      <td>5.399770</td>\n",
       "      <td>6.096038</td>\n",
       "      <td>6.800713</td>\n",
       "      <td>9.698407e+00</td>\n",
       "    </tr>\n",
       "    <tr>\n",
       "      <th>rougher.calculation.sulfate_to_au_concentrate</th>\n",
       "      <td>14578.0</td>\n",
       "      <td>44352.188117</td>\n",
       "      <td>132510.888408</td>\n",
       "      <td>-1.548858e+07</td>\n",
       "      <td>40770.835250</td>\n",
       "      <td>44878.923185</td>\n",
       "      <td>48388.944411</td>\n",
       "      <td>3.428099e+06</td>\n",
       "    </tr>\n",
       "    <tr>\n",
       "      <th>rougher.calculation.floatbank10_sulfate_to_au_feed</th>\n",
       "      <td>14578.0</td>\n",
       "      <td>3440.548437</td>\n",
       "      <td>5676.976735</td>\n",
       "      <td>-4.865987e+02</td>\n",
       "      <td>2597.574879</td>\n",
       "      <td>3055.912455</td>\n",
       "      <td>3711.123079</td>\n",
       "      <td>6.296390e+05</td>\n",
       "    </tr>\n",
       "    <tr>\n",
       "      <th>rougher.calculation.floatbank11_sulfate_to_au_feed</th>\n",
       "      <td>14578.0</td>\n",
       "      <td>3276.812427</td>\n",
       "      <td>6654.751076</td>\n",
       "      <td>-2.649828e+02</td>\n",
       "      <td>2528.351956</td>\n",
       "      <td>3006.139692</td>\n",
       "      <td>3621.306274</td>\n",
       "      <td>7.186850e+05</td>\n",
       "    </tr>\n",
       "    <tr>\n",
       "      <th>rougher.calculation.au_pb_ratio</th>\n",
       "      <td>14579.0</td>\n",
       "      <td>2.436506</td>\n",
       "      <td>0.747964</td>\n",
       "      <td>-1.054761e-02</td>\n",
       "      <td>2.050078</td>\n",
       "      <td>2.326922</td>\n",
       "      <td>2.746607</td>\n",
       "      <td>2.723137e+01</td>\n",
       "    </tr>\n",
       "    <tr>\n",
       "      <th>rougher.output.concentrate_au</th>\n",
       "      <td>14579.0</td>\n",
       "      <td>19.717470</td>\n",
       "      <td>4.086618</td>\n",
       "      <td>0.000000e+00</td>\n",
       "      <td>18.908919</td>\n",
       "      <td>20.329736</td>\n",
       "      <td>21.767391</td>\n",
       "      <td>2.882451e+01</td>\n",
       "    </tr>\n",
       "    <tr>\n",
       "      <th>rougher.output.concentrate_ag</th>\n",
       "      <td>14579.0</td>\n",
       "      <td>11.944253</td>\n",
       "      <td>2.916323</td>\n",
       "      <td>0.000000e+00</td>\n",
       "      <td>10.611551</td>\n",
       "      <td>12.136445</td>\n",
       "      <td>13.771614</td>\n",
       "      <td>2.448027e+01</td>\n",
       "    </tr>\n",
       "    <tr>\n",
       "      <th>rougher.output.concentrate_pb</th>\n",
       "      <td>14579.0</td>\n",
       "      <td>7.498953</td>\n",
       "      <td>1.851631</td>\n",
       "      <td>0.000000e+00</td>\n",
       "      <td>6.682731</td>\n",
       "      <td>7.705023</td>\n",
       "      <td>8.507136</td>\n",
       "      <td>1.309168e+01</td>\n",
       "    </tr>\n",
       "    <tr>\n",
       "      <th>rougher.output.concentrate_sol</th>\n",
       "      <td>14561.0</td>\n",
       "      <td>28.653422</td>\n",
       "      <td>6.427589</td>\n",
       "      <td>0.000000e+00</td>\n",
       "      <td>27.149641</td>\n",
       "      <td>29.917369</td>\n",
       "      <td>32.300398</td>\n",
       "      <td>3.835119e+01</td>\n",
       "    </tr>\n",
       "    <tr>\n",
       "      <th>rougher.output.recovery</th>\n",
       "      <td>14579.0</td>\n",
       "      <td>82.521200</td>\n",
       "      <td>15.797521</td>\n",
       "      <td>0.000000e+00</td>\n",
       "      <td>80.558542</td>\n",
       "      <td>85.946497</td>\n",
       "      <td>89.960375</td>\n",
       "      <td>1.000000e+02</td>\n",
       "    </tr>\n",
       "    <tr>\n",
       "      <th>rougher.output.tail_au</th>\n",
       "      <td>14579.0</td>\n",
       "      <td>1.852849</td>\n",
       "      <td>0.671844</td>\n",
       "      <td>2.067578e-02</td>\n",
       "      <td>1.455205</td>\n",
       "      <td>1.840333</td>\n",
       "      <td>2.227136</td>\n",
       "      <td>9.688980e+00</td>\n",
       "    </tr>\n",
       "    <tr>\n",
       "      <th>rougher.output.tail_ag</th>\n",
       "      <td>14578.0</td>\n",
       "      <td>5.649646</td>\n",
       "      <td>1.079950</td>\n",
       "      <td>2.316530e+00</td>\n",
       "      <td>5.023787</td>\n",
       "      <td>5.819341</td>\n",
       "      <td>6.407298</td>\n",
       "      <td>1.271918e+01</td>\n",
       "    </tr>\n",
       "    <tr>\n",
       "      <th>rougher.output.tail_pb</th>\n",
       "      <td>14579.0</td>\n",
       "      <td>0.654742</td>\n",
       "      <td>0.251685</td>\n",
       "      <td>7.566066e-03</td>\n",
       "      <td>0.490217</td>\n",
       "      <td>0.623074</td>\n",
       "      <td>0.780414</td>\n",
       "      <td>3.778064e+00</td>\n",
       "    </tr>\n",
       "    <tr>\n",
       "      <th>rougher.output.tail_sol</th>\n",
       "      <td>14579.0</td>\n",
       "      <td>18.019755</td>\n",
       "      <td>3.492621</td>\n",
       "      <td>1.001465e+01</td>\n",
       "      <td>15.753976</td>\n",
       "      <td>18.060998</td>\n",
       "      <td>20.064557</td>\n",
       "      <td>6.611719e+01</td>\n",
       "    </tr>\n",
       "    <tr>\n",
       "      <th>primary_cleaner.input.sulfate</th>\n",
       "      <td>14556.0</td>\n",
       "      <td>145.099826</td>\n",
       "      <td>45.136018</td>\n",
       "      <td>3.111820e-03</td>\n",
       "      <td>114.273934</td>\n",
       "      <td>144.627539</td>\n",
       "      <td>176.161883</td>\n",
       "      <td>2.659831e+02</td>\n",
       "    </tr>\n",
       "    <tr>\n",
       "      <th>primary_cleaner.input.depressant</th>\n",
       "      <td>14551.0</td>\n",
       "      <td>8.858575</td>\n",
       "      <td>3.323216</td>\n",
       "      <td>0.000000e+00</td>\n",
       "      <td>6.194337</td>\n",
       "      <td>8.055245</td>\n",
       "      <td>11.061619</td>\n",
       "      <td>4.000000e+01</td>\n",
       "    </tr>\n",
       "    <tr>\n",
       "      <th>primary_cleaner.input.feed_size</th>\n",
       "      <td>14579.0</td>\n",
       "      <td>7.307600</td>\n",
       "      <td>0.621609</td>\n",
       "      <td>1.080000e+00</td>\n",
       "      <td>6.940000</td>\n",
       "      <td>7.280000</td>\n",
       "      <td>7.689666</td>\n",
       "      <td>1.550000e+01</td>\n",
       "    </tr>\n",
       "    <tr>\n",
       "      <th>primary_cleaner.input.xanthate</th>\n",
       "      <td>14518.0</td>\n",
       "      <td>1.026512</td>\n",
       "      <td>0.519205</td>\n",
       "      <td>4.632753e-06</td>\n",
       "      <td>0.696098</td>\n",
       "      <td>0.957958</td>\n",
       "      <td>1.224756</td>\n",
       "      <td>4.102454e+00</td>\n",
       "    </tr>\n",
       "    <tr>\n",
       "      <th>primary_cleaner.state.floatbank8_a_air</th>\n",
       "      <td>14576.0</td>\n",
       "      <td>1589.675718</td>\n",
       "      <td>130.322807</td>\n",
       "      <td>5.445860e-32</td>\n",
       "      <td>1504.949291</td>\n",
       "      <td>1600.683088</td>\n",
       "      <td>1697.830396</td>\n",
       "      <td>2.103104e+03</td>\n",
       "    </tr>\n",
       "    <tr>\n",
       "      <th>primary_cleaner.state.floatbank8_a_level</th>\n",
       "      <td>14579.0</td>\n",
       "      <td>-492.185489</td>\n",
       "      <td>30.827141</td>\n",
       "      <td>-7.986417e+02</td>\n",
       "      <td>-500.320169</td>\n",
       "      <td>-499.935617</td>\n",
       "      <td>-499.457104</td>\n",
       "      <td>-5.719540e+01</td>\n",
       "    </tr>\n",
       "    <tr>\n",
       "      <th>primary_cleaner.state.floatbank8_b_air</th>\n",
       "      <td>14576.0</td>\n",
       "      <td>1592.026569</td>\n",
       "      <td>131.710890</td>\n",
       "      <td>6.647490e-32</td>\n",
       "      <td>1505.229841</td>\n",
       "      <td>1600.560978</td>\n",
       "      <td>1699.149142</td>\n",
       "      <td>2.114907e+03</td>\n",
       "    </tr>\n",
       "    <tr>\n",
       "      <th>primary_cleaner.state.floatbank8_b_level</th>\n",
       "      <td>14579.0</td>\n",
       "      <td>-492.838585</td>\n",
       "      <td>33.288228</td>\n",
       "      <td>-7.999970e+02</td>\n",
       "      <td>-500.440327</td>\n",
       "      <td>-499.962584</td>\n",
       "      <td>-499.383154</td>\n",
       "      <td>-1.425272e+02</td>\n",
       "    </tr>\n",
       "    <tr>\n",
       "      <th>primary_cleaner.state.floatbank8_c_air</th>\n",
       "      <td>14579.0</td>\n",
       "      <td>1585.923933</td>\n",
       "      <td>137.229160</td>\n",
       "      <td>4.033736e-32</td>\n",
       "      <td>1500.845053</td>\n",
       "      <td>1600.225842</td>\n",
       "      <td>1699.482362</td>\n",
       "      <td>2.013156e+03</td>\n",
       "    </tr>\n",
       "    <tr>\n",
       "      <th>primary_cleaner.state.floatbank8_c_level</th>\n",
       "      <td>14579.0</td>\n",
       "      <td>-492.726140</td>\n",
       "      <td>32.359161</td>\n",
       "      <td>-7.999606e+02</td>\n",
       "      <td>-500.709838</td>\n",
       "      <td>-499.914492</td>\n",
       "      <td>-498.899663</td>\n",
       "      <td>-1.509370e+02</td>\n",
       "    </tr>\n",
       "    <tr>\n",
       "      <th>primary_cleaner.state.floatbank8_d_air</th>\n",
       "      <td>14578.0</td>\n",
       "      <td>1547.119469</td>\n",
       "      <td>242.614470</td>\n",
       "      <td>4.039220e-32</td>\n",
       "      <td>1497.960038</td>\n",
       "      <td>1599.493192</td>\n",
       "      <td>1698.395306</td>\n",
       "      <td>2.398904e+03</td>\n",
       "    </tr>\n",
       "    <tr>\n",
       "      <th>primary_cleaner.state.floatbank8_d_level</th>\n",
       "      <td>14579.0</td>\n",
       "      <td>-488.724249</td>\n",
       "      <td>44.157594</td>\n",
       "      <td>-7.997943e+02</td>\n",
       "      <td>-500.464464</td>\n",
       "      <td>-499.916753</td>\n",
       "      <td>-499.137048</td>\n",
       "      <td>-3.060183e+01</td>\n",
       "    </tr>\n",
       "    <tr>\n",
       "      <th>primary_cleaner.output.concentrate_au</th>\n",
       "      <td>14579.0</td>\n",
       "      <td>32.007535</td>\n",
       "      <td>5.891272</td>\n",
       "      <td>0.000000e+00</td>\n",
       "      <td>30.409669</td>\n",
       "      <td>32.837748</td>\n",
       "      <td>35.027165</td>\n",
       "      <td>4.593393e+01</td>\n",
       "    </tr>\n",
       "    <tr>\n",
       "      <th>primary_cleaner.output.concentrate_ag</th>\n",
       "      <td>14579.0</td>\n",
       "      <td>8.468626</td>\n",
       "      <td>2.082271</td>\n",
       "      <td>0.000000e+00</td>\n",
       "      <td>7.360525</td>\n",
       "      <td>8.555670</td>\n",
       "      <td>9.815695</td>\n",
       "      <td>1.608163e+01</td>\n",
       "    </tr>\n",
       "    <tr>\n",
       "      <th>primary_cleaner.output.concentrate_pb</th>\n",
       "      <td>14491.0</td>\n",
       "      <td>9.750567</td>\n",
       "      <td>2.556602</td>\n",
       "      <td>0.000000e+00</td>\n",
       "      <td>8.668289</td>\n",
       "      <td>10.121250</td>\n",
       "      <td>11.362268</td>\n",
       "      <td>1.708128e+01</td>\n",
       "    </tr>\n",
       "    <tr>\n",
       "      <th>primary_cleaner.output.concentrate_sol</th>\n",
       "      <td>14314.0</td>\n",
       "      <td>10.576880</td>\n",
       "      <td>3.964761</td>\n",
       "      <td>0.000000e+00</td>\n",
       "      <td>7.964614</td>\n",
       "      <td>10.479225</td>\n",
       "      <td>13.588618</td>\n",
       "      <td>2.245811e+01</td>\n",
       "    </tr>\n",
       "    <tr>\n",
       "      <th>primary_cleaner.output.tail_au</th>\n",
       "      <td>14579.0</td>\n",
       "      <td>3.974004</td>\n",
       "      <td>1.604410</td>\n",
       "      <td>0.000000e+00</td>\n",
       "      <td>2.960094</td>\n",
       "      <td>3.693812</td>\n",
       "      <td>4.648610</td>\n",
       "      <td>1.778892e+01</td>\n",
       "    </tr>\n",
       "    <tr>\n",
       "      <th>primary_cleaner.output.tail_ag</th>\n",
       "      <td>14575.0</td>\n",
       "      <td>16.069960</td>\n",
       "      <td>3.557775</td>\n",
       "      <td>0.000000e+00</td>\n",
       "      <td>13.978468</td>\n",
       "      <td>15.773016</td>\n",
       "      <td>17.908623</td>\n",
       "      <td>2.945957e+01</td>\n",
       "    </tr>\n",
       "    <tr>\n",
       "      <th>primary_cleaner.output.tail_pb</th>\n",
       "      <td>14573.0</td>\n",
       "      <td>3.403764</td>\n",
       "      <td>1.394091</td>\n",
       "      <td>0.000000e+00</td>\n",
       "      <td>2.494448</td>\n",
       "      <td>3.229651</td>\n",
       "      <td>4.115288</td>\n",
       "      <td>9.634565e+00</td>\n",
       "    </tr>\n",
       "    <tr>\n",
       "      <th>primary_cleaner.output.tail_sol</th>\n",
       "      <td>14534.0</td>\n",
       "      <td>8.025747</td>\n",
       "      <td>2.176478</td>\n",
       "      <td>0.000000e+00</td>\n",
       "      <td>6.826706</td>\n",
       "      <td>8.235004</td>\n",
       "      <td>9.562956</td>\n",
       "      <td>2.227636e+01</td>\n",
       "    </tr>\n",
       "    <tr>\n",
       "      <th>secondary_cleaner.state.floatbank2_a_air</th>\n",
       "      <td>14485.0</td>\n",
       "      <td>28.449700</td>\n",
       "      <td>5.467326</td>\n",
       "      <td>7.750256e-02</td>\n",
       "      <td>25.034882</td>\n",
       "      <td>28.968533</td>\n",
       "      <td>32.250615</td>\n",
       "      <td>5.265140e+01</td>\n",
       "    </tr>\n",
       "    <tr>\n",
       "      <th>secondary_cleaner.state.floatbank2_a_level</th>\n",
       "      <td>14579.0</td>\n",
       "      <td>-503.321444</td>\n",
       "      <td>56.555780</td>\n",
       "      <td>-7.996058e+02</td>\n",
       "      <td>-500.240915</td>\n",
       "      <td>-499.975415</td>\n",
       "      <td>-499.668396</td>\n",
       "      <td>-1.278756e+02</td>\n",
       "    </tr>\n",
       "    <tr>\n",
       "      <th>secondary_cleaner.state.floatbank2_b_air</th>\n",
       "      <td>14557.0</td>\n",
       "      <td>23.898016</td>\n",
       "      <td>5.820755</td>\n",
       "      <td>0.000000e+00</td>\n",
       "      <td>20.083738</td>\n",
       "      <td>24.988575</td>\n",
       "      <td>27.996854</td>\n",
       "      <td>3.515212e+01</td>\n",
       "    </tr>\n",
       "    <tr>\n",
       "      <th>secondary_cleaner.state.floatbank2_b_level</th>\n",
       "      <td>14579.0</td>\n",
       "      <td>-504.455206</td>\n",
       "      <td>60.219739</td>\n",
       "      <td>-7.998703e+02</td>\n",
       "      <td>-500.264871</td>\n",
       "      <td>-500.017709</td>\n",
       "      <td>-499.786233</td>\n",
       "      <td>-2.119993e+02</td>\n",
       "    </tr>\n",
       "    <tr>\n",
       "      <th>secondary_cleaner.state.floatbank3_a_air</th>\n",
       "      <td>14567.0</td>\n",
       "      <td>27.966801</td>\n",
       "      <td>6.109365</td>\n",
       "      <td>0.000000e+00</td>\n",
       "      <td>24.879889</td>\n",
       "      <td>27.966517</td>\n",
       "      <td>32.981447</td>\n",
       "      <td>4.426046e+01</td>\n",
       "    </tr>\n",
       "    <tr>\n",
       "      <th>secondary_cleaner.state.floatbank3_a_level</th>\n",
       "      <td>14579.0</td>\n",
       "      <td>-485.112844</td>\n",
       "      <td>55.205693</td>\n",
       "      <td>-7.997558e+02</td>\n",
       "      <td>-500.214111</td>\n",
       "      <td>-499.922655</td>\n",
       "      <td>-499.233769</td>\n",
       "      <td>-1.916788e+02</td>\n",
       "    </tr>\n",
       "    <tr>\n",
       "      <th>secondary_cleaner.state.floatbank3_b_air</th>\n",
       "      <td>14579.0</td>\n",
       "      <td>22.056638</td>\n",
       "      <td>5.605309</td>\n",
       "      <td>0.000000e+00</td>\n",
       "      <td>18.990660</td>\n",
       "      <td>21.995308</td>\n",
       "      <td>25.979469</td>\n",
       "      <td>3.507284e+01</td>\n",
       "    </tr>\n",
       "    <tr>\n",
       "      <th>secondary_cleaner.state.floatbank3_b_level</th>\n",
       "      <td>14579.0</td>\n",
       "      <td>-493.400930</td>\n",
       "      <td>44.228650</td>\n",
       "      <td>-8.093330e+02</td>\n",
       "      <td>-500.123568</td>\n",
       "      <td>-499.980765</td>\n",
       "      <td>-499.808121</td>\n",
       "      <td>-1.597423e+02</td>\n",
       "    </tr>\n",
       "    <tr>\n",
       "      <th>secondary_cleaner.state.floatbank4_a_air</th>\n",
       "      <td>14574.0</td>\n",
       "      <td>18.697604</td>\n",
       "      <td>5.200943</td>\n",
       "      <td>0.000000e+00</td>\n",
       "      <td>14.963312</td>\n",
       "      <td>18.005468</td>\n",
       "      <td>22.977019</td>\n",
       "      <td>3.011574e+01</td>\n",
       "    </tr>\n",
       "    <tr>\n",
       "      <th>secondary_cleaner.state.floatbank4_a_level</th>\n",
       "      <td>14579.0</td>\n",
       "      <td>-484.971102</td>\n",
       "      <td>48.795359</td>\n",
       "      <td>-7.997985e+02</td>\n",
       "      <td>-500.704937</td>\n",
       "      <td>-499.820809</td>\n",
       "      <td>-498.048862</td>\n",
       "      <td>-2.452392e+02</td>\n",
       "    </tr>\n",
       "    <tr>\n",
       "      <th>secondary_cleaner.state.floatbank4_b_air</th>\n",
       "      <td>14579.0</td>\n",
       "      <td>14.823764</td>\n",
       "      <td>4.863659</td>\n",
       "      <td>0.000000e+00</td>\n",
       "      <td>11.889685</td>\n",
       "      <td>14.957945</td>\n",
       "      <td>17.125406</td>\n",
       "      <td>3.126971e+01</td>\n",
       "    </tr>\n",
       "    <tr>\n",
       "      <th>secondary_cleaner.state.floatbank4_b_level</th>\n",
       "      <td>14579.0</td>\n",
       "      <td>-460.046154</td>\n",
       "      <td>67.933026</td>\n",
       "      <td>-8.008369e+02</td>\n",
       "      <td>-500.184081</td>\n",
       "      <td>-499.424528</td>\n",
       "      <td>-400.083087</td>\n",
       "      <td>-6.506986e+00</td>\n",
       "    </tr>\n",
       "    <tr>\n",
       "      <th>secondary_cleaner.state.floatbank5_a_air</th>\n",
       "      <td>14579.0</td>\n",
       "      <td>15.394610</td>\n",
       "      <td>5.405045</td>\n",
       "      <td>-3.720540e-01</td>\n",
       "      <td>10.977413</td>\n",
       "      <td>14.963654</td>\n",
       "      <td>18.012762</td>\n",
       "      <td>4.370993e+01</td>\n",
       "    </tr>\n",
       "    <tr>\n",
       "      <th>secondary_cleaner.state.floatbank5_a_level</th>\n",
       "      <td>14579.0</td>\n",
       "      <td>-487.973768</td>\n",
       "      <td>35.231439</td>\n",
       "      <td>-7.973240e+02</td>\n",
       "      <td>-500.451167</td>\n",
       "      <td>-499.772653</td>\n",
       "      <td>-498.182011</td>\n",
       "      <td>-2.444836e+02</td>\n",
       "    </tr>\n",
       "    <tr>\n",
       "      <th>secondary_cleaner.state.floatbank5_b_air</th>\n",
       "      <td>14579.0</td>\n",
       "      <td>11.949009</td>\n",
       "      <td>5.241169</td>\n",
       "      <td>5.280828e-01</td>\n",
       "      <td>8.947381</td>\n",
       "      <td>11.000057</td>\n",
       "      <td>14.002573</td>\n",
       "      <td>2.792600e+01</td>\n",
       "    </tr>\n",
       "    <tr>\n",
       "      <th>secondary_cleaner.state.floatbank5_b_level</th>\n",
       "      <td>14579.0</td>\n",
       "      <td>-486.338692</td>\n",
       "      <td>38.726292</td>\n",
       "      <td>-8.002203e+02</td>\n",
       "      <td>-500.129137</td>\n",
       "      <td>-499.926255</td>\n",
       "      <td>-499.285414</td>\n",
       "      <td>-1.377400e+02</td>\n",
       "    </tr>\n",
       "    <tr>\n",
       "      <th>secondary_cleaner.state.floatbank6_a_air</th>\n",
       "      <td>14578.0</td>\n",
       "      <td>18.927405</td>\n",
       "      <td>5.550829</td>\n",
       "      <td>-7.942623e-02</td>\n",
       "      <td>14.985721</td>\n",
       "      <td>19.960798</td>\n",
       "      <td>23.038231</td>\n",
       "      <td>3.218891e+01</td>\n",
       "    </tr>\n",
       "    <tr>\n",
       "      <th>secondary_cleaner.state.floatbank6_a_level</th>\n",
       "      <td>14579.0</td>\n",
       "      <td>-505.688730</td>\n",
       "      <td>37.347370</td>\n",
       "      <td>-8.097415e+02</td>\n",
       "      <td>-500.755346</td>\n",
       "      <td>-500.054273</td>\n",
       "      <td>-499.506135</td>\n",
       "      <td>-1.233075e+02</td>\n",
       "    </tr>\n",
       "    <tr>\n",
       "      <th>secondary_cleaner.output.tail_au</th>\n",
       "      <td>14579.0</td>\n",
       "      <td>4.373067</td>\n",
       "      <td>2.394328</td>\n",
       "      <td>0.000000e+00</td>\n",
       "      <td>3.216855</td>\n",
       "      <td>4.097589</td>\n",
       "      <td>5.108658</td>\n",
       "      <td>2.681164e+01</td>\n",
       "    </tr>\n",
       "    <tr>\n",
       "      <th>secondary_cleaner.output.tail_ag</th>\n",
       "      <td>14578.0</td>\n",
       "      <td>14.441265</td>\n",
       "      <td>4.416497</td>\n",
       "      <td>0.000000e+00</td>\n",
       "      <td>12.479139</td>\n",
       "      <td>15.448510</td>\n",
       "      <td>17.349683</td>\n",
       "      <td>2.326474e+01</td>\n",
       "    </tr>\n",
       "    <tr>\n",
       "      <th>secondary_cleaner.output.tail_pb</th>\n",
       "      <td>14575.0</td>\n",
       "      <td>5.617182</td>\n",
       "      <td>2.704951</td>\n",
       "      <td>0.000000e+00</td>\n",
       "      <td>3.801206</td>\n",
       "      <td>5.227419</td>\n",
       "      <td>7.609340</td>\n",
       "      <td>1.704250e+01</td>\n",
       "    </tr>\n",
       "    <tr>\n",
       "      <th>secondary_cleaner.output.tail_sol</th>\n",
       "      <td>13659.0</td>\n",
       "      <td>7.111347</td>\n",
       "      <td>3.909951</td>\n",
       "      <td>0.000000e+00</td>\n",
       "      <td>3.784897</td>\n",
       "      <td>7.629968</td>\n",
       "      <td>10.367050</td>\n",
       "      <td>2.600077e+01</td>\n",
       "    </tr>\n",
       "    <tr>\n",
       "      <th>final.output.concentrate_au</th>\n",
       "      <td>14579.0</td>\n",
       "      <td>43.979499</td>\n",
       "      <td>5.471437</td>\n",
       "      <td>0.000000e+00</td>\n",
       "      <td>43.345906</td>\n",
       "      <td>44.975014</td>\n",
       "      <td>46.275153</td>\n",
       "      <td>5.275664e+01</td>\n",
       "    </tr>\n",
       "    <tr>\n",
       "      <th>final.output.concentrate_ag</th>\n",
       "      <td>14578.0</td>\n",
       "      <td>5.192145</td>\n",
       "      <td>1.388014</td>\n",
       "      <td>0.000000e+00</td>\n",
       "      <td>4.283347</td>\n",
       "      <td>5.118647</td>\n",
       "      <td>5.925380</td>\n",
       "      <td>1.600195e+01</td>\n",
       "    </tr>\n",
       "    <tr>\n",
       "      <th>final.output.concentrate_pb</th>\n",
       "      <td>14578.0</td>\n",
       "      <td>9.923809</td>\n",
       "      <td>1.706976</td>\n",
       "      <td>0.000000e+00</td>\n",
       "      <td>9.103183</td>\n",
       "      <td>10.046455</td>\n",
       "      <td>10.981203</td>\n",
       "      <td>1.670530e+01</td>\n",
       "    </tr>\n",
       "    <tr>\n",
       "      <th>final.output.concentrate_sol</th>\n",
       "      <td>14387.0</td>\n",
       "      <td>9.566676</td>\n",
       "      <td>2.805654</td>\n",
       "      <td>0.000000e+00</td>\n",
       "      <td>7.860030</td>\n",
       "      <td>9.301970</td>\n",
       "      <td>11.001573</td>\n",
       "      <td>1.942391e+01</td>\n",
       "    </tr>\n",
       "    <tr>\n",
       "      <th>final.output.recovery</th>\n",
       "      <td>14579.0</td>\n",
       "      <td>66.759066</td>\n",
       "      <td>10.619709</td>\n",
       "      <td>0.000000e+00</td>\n",
       "      <td>63.114596</td>\n",
       "      <td>67.962788</td>\n",
       "      <td>72.598187</td>\n",
       "      <td>1.000000e+02</td>\n",
       "    </tr>\n",
       "    <tr>\n",
       "      <th>final.output.tail_au</th>\n",
       "      <td>14579.0</td>\n",
       "      <td>3.087939</td>\n",
       "      <td>0.915187</td>\n",
       "      <td>0.000000e+00</td>\n",
       "      <td>2.505287</td>\n",
       "      <td>3.029238</td>\n",
       "      <td>3.614098</td>\n",
       "      <td>8.245022e+00</td>\n",
       "    </tr>\n",
       "    <tr>\n",
       "      <th>final.output.tail_ag</th>\n",
       "      <td>14578.0</td>\n",
       "      <td>9.731972</td>\n",
       "      <td>2.358143</td>\n",
       "      <td>0.000000e+00</td>\n",
       "      <td>8.088928</td>\n",
       "      <td>9.818512</td>\n",
       "      <td>11.169187</td>\n",
       "      <td>1.955215e+01</td>\n",
       "    </tr>\n",
       "    <tr>\n",
       "      <th>final.output.tail_pb</th>\n",
       "      <td>14504.0</td>\n",
       "      <td>2.719985</td>\n",
       "      <td>0.958929</td>\n",
       "      <td>0.000000e+00</td>\n",
       "      <td>2.036512</td>\n",
       "      <td>2.774847</td>\n",
       "      <td>3.353845</td>\n",
       "      <td>5.804178e+00</td>\n",
       "    </tr>\n",
       "    <tr>\n",
       "      <th>final.output.tail_sol</th>\n",
       "      <td>14574.0</td>\n",
       "      <td>10.612745</td>\n",
       "      <td>2.871075</td>\n",
       "      <td>0.000000e+00</td>\n",
       "      <td>9.013412</td>\n",
       "      <td>10.670515</td>\n",
       "      <td>12.130827</td>\n",
       "      <td>2.231773e+01</td>\n",
       "    </tr>\n",
       "  </tbody>\n",
       "</table>\n",
       "</div>"
      ],
      "text/plain": [
       "                                                      count          mean  \\\n",
       "rougher.input.feed_au                               14579.0      8.352941   \n",
       "rougher.input.feed_ag                               14579.0      8.877460   \n",
       "rougher.input.feed_pb                               14507.0      3.604221   \n",
       "rougher.input.feed_sol                              14502.0     36.561420   \n",
       "rougher.input.feed_rate                             14572.0    474.332784   \n",
       "rougher.input.feed_size                             14478.0     58.922712   \n",
       "rougher.input.floatbank10_sulfate                   14548.0     12.427399   \n",
       "rougher.input.floatbank10_xanthate                  14572.0      5.994854   \n",
       "rougher.state.floatbank10_a_air                     14579.0   1104.208278   \n",
       "rougher.state.floatbank10_a_level                   14579.0   -379.367166   \n",
       "rougher.state.floatbank10_b_air                     14579.0   1322.845805   \n",
       "rougher.state.floatbank10_b_level                   14579.0   -465.495165   \n",
       "rougher.state.floatbank10_c_air                     14579.0   1302.745258   \n",
       "rougher.state.floatbank10_c_level                   14579.0   -465.988660   \n",
       "rougher.state.floatbank10_d_air                     14579.0   1214.062375   \n",
       "rougher.state.floatbank10_d_level                   14579.0   -466.526202   \n",
       "rougher.state.floatbank10_e_air                     14150.0   1082.778201   \n",
       "rougher.state.floatbank10_e_level                   14579.0   -464.228268   \n",
       "rougher.state.floatbank10_f_air                     14579.0   1025.775819   \n",
       "rougher.state.floatbank10_f_level                   14579.0   -464.549373   \n",
       "rougher.input.floatbank11_sulfate                   14543.0     12.095857   \n",
       "rougher.input.floatbank11_xanthate                  14172.0      6.047261   \n",
       "rougher.calculation.sulfate_to_au_concentrate       14578.0  44352.188117   \n",
       "rougher.calculation.floatbank10_sulfate_to_au_feed  14578.0   3440.548437   \n",
       "rougher.calculation.floatbank11_sulfate_to_au_feed  14578.0   3276.812427   \n",
       "rougher.calculation.au_pb_ratio                     14579.0      2.436506   \n",
       "rougher.output.concentrate_au                       14579.0     19.717470   \n",
       "rougher.output.concentrate_ag                       14579.0     11.944253   \n",
       "rougher.output.concentrate_pb                       14579.0      7.498953   \n",
       "rougher.output.concentrate_sol                      14561.0     28.653422   \n",
       "rougher.output.recovery                             14579.0     82.521200   \n",
       "rougher.output.tail_au                              14579.0      1.852849   \n",
       "rougher.output.tail_ag                              14578.0      5.649646   \n",
       "rougher.output.tail_pb                              14579.0      0.654742   \n",
       "rougher.output.tail_sol                             14579.0     18.019755   \n",
       "primary_cleaner.input.sulfate                       14556.0    145.099826   \n",
       "primary_cleaner.input.depressant                    14551.0      8.858575   \n",
       "primary_cleaner.input.feed_size                     14579.0      7.307600   \n",
       "primary_cleaner.input.xanthate                      14518.0      1.026512   \n",
       "primary_cleaner.state.floatbank8_a_air              14576.0   1589.675718   \n",
       "primary_cleaner.state.floatbank8_a_level            14579.0   -492.185489   \n",
       "primary_cleaner.state.floatbank8_b_air              14576.0   1592.026569   \n",
       "primary_cleaner.state.floatbank8_b_level            14579.0   -492.838585   \n",
       "primary_cleaner.state.floatbank8_c_air              14579.0   1585.923933   \n",
       "primary_cleaner.state.floatbank8_c_level            14579.0   -492.726140   \n",
       "primary_cleaner.state.floatbank8_d_air              14578.0   1547.119469   \n",
       "primary_cleaner.state.floatbank8_d_level            14579.0   -488.724249   \n",
       "primary_cleaner.output.concentrate_au               14579.0     32.007535   \n",
       "primary_cleaner.output.concentrate_ag               14579.0      8.468626   \n",
       "primary_cleaner.output.concentrate_pb               14491.0      9.750567   \n",
       "primary_cleaner.output.concentrate_sol              14314.0     10.576880   \n",
       "primary_cleaner.output.tail_au                      14579.0      3.974004   \n",
       "primary_cleaner.output.tail_ag                      14575.0     16.069960   \n",
       "primary_cleaner.output.tail_pb                      14573.0      3.403764   \n",
       "primary_cleaner.output.tail_sol                     14534.0      8.025747   \n",
       "secondary_cleaner.state.floatbank2_a_air            14485.0     28.449700   \n",
       "secondary_cleaner.state.floatbank2_a_level          14579.0   -503.321444   \n",
       "secondary_cleaner.state.floatbank2_b_air            14557.0     23.898016   \n",
       "secondary_cleaner.state.floatbank2_b_level          14579.0   -504.455206   \n",
       "secondary_cleaner.state.floatbank3_a_air            14567.0     27.966801   \n",
       "secondary_cleaner.state.floatbank3_a_level          14579.0   -485.112844   \n",
       "secondary_cleaner.state.floatbank3_b_air            14579.0     22.056638   \n",
       "secondary_cleaner.state.floatbank3_b_level          14579.0   -493.400930   \n",
       "secondary_cleaner.state.floatbank4_a_air            14574.0     18.697604   \n",
       "secondary_cleaner.state.floatbank4_a_level          14579.0   -484.971102   \n",
       "secondary_cleaner.state.floatbank4_b_air            14579.0     14.823764   \n",
       "secondary_cleaner.state.floatbank4_b_level          14579.0   -460.046154   \n",
       "secondary_cleaner.state.floatbank5_a_air            14579.0     15.394610   \n",
       "secondary_cleaner.state.floatbank5_a_level          14579.0   -487.973768   \n",
       "secondary_cleaner.state.floatbank5_b_air            14579.0     11.949009   \n",
       "secondary_cleaner.state.floatbank5_b_level          14579.0   -486.338692   \n",
       "secondary_cleaner.state.floatbank6_a_air            14578.0     18.927405   \n",
       "secondary_cleaner.state.floatbank6_a_level          14579.0   -505.688730   \n",
       "secondary_cleaner.output.tail_au                    14579.0      4.373067   \n",
       "secondary_cleaner.output.tail_ag                    14578.0     14.441265   \n",
       "secondary_cleaner.output.tail_pb                    14575.0      5.617182   \n",
       "secondary_cleaner.output.tail_sol                   13659.0      7.111347   \n",
       "final.output.concentrate_au                         14579.0     43.979499   \n",
       "final.output.concentrate_ag                         14578.0      5.192145   \n",
       "final.output.concentrate_pb                         14578.0      9.923809   \n",
       "final.output.concentrate_sol                        14387.0      9.566676   \n",
       "final.output.recovery                               14579.0     66.759066   \n",
       "final.output.tail_au                                14579.0      3.087939   \n",
       "final.output.tail_ag                                14578.0      9.731972   \n",
       "final.output.tail_pb                                14504.0      2.719985   \n",
       "final.output.tail_sol                               14574.0     10.612745   \n",
       "\n",
       "                                                              std  \\\n",
       "rougher.input.feed_au                                    1.934376   \n",
       "rougher.input.feed_ag                                    1.922536   \n",
       "rougher.input.feed_pb                                    1.056063   \n",
       "rougher.input.feed_sol                                   5.209823   \n",
       "rougher.input.feed_rate                                108.503552   \n",
       "rougher.input.feed_size                                 22.407410   \n",
       "rougher.input.floatbank10_sulfate                        3.428939   \n",
       "rougher.input.floatbank10_xanthate                       1.152873   \n",
       "rougher.state.floatbank10_a_air                        162.235606   \n",
       "rougher.state.floatbank10_a_level                       94.652311   \n",
       "rougher.state.floatbank10_b_air                        181.612353   \n",
       "rougher.state.floatbank10_b_level                       56.220206   \n",
       "rougher.state.floatbank10_c_air                        209.728859   \n",
       "rougher.state.floatbank10_c_level                       55.261827   \n",
       "rougher.state.floatbank10_d_air                        210.056163   \n",
       "rougher.state.floatbank10_d_level                       55.701015   \n",
       "rougher.state.floatbank10_e_air                        176.092308   \n",
       "rougher.state.floatbank10_e_level                       59.132193   \n",
       "rougher.state.floatbank10_f_air                        169.680255   \n",
       "rougher.state.floatbank10_f_level                       59.622879   \n",
       "rougher.input.floatbank11_sulfate                        3.887128   \n",
       "rougher.input.floatbank11_xanthate                       1.115055   \n",
       "rougher.calculation.sulfate_to_au_concentrate       132510.888408   \n",
       "rougher.calculation.floatbank10_sulfate_to_au_feed    5676.976735   \n",
       "rougher.calculation.floatbank11_sulfate_to_au_feed    6654.751076   \n",
       "rougher.calculation.au_pb_ratio                          0.747964   \n",
       "rougher.output.concentrate_au                            4.086618   \n",
       "rougher.output.concentrate_ag                            2.916323   \n",
       "rougher.output.concentrate_pb                            1.851631   \n",
       "rougher.output.concentrate_sol                           6.427589   \n",
       "rougher.output.recovery                                 15.797521   \n",
       "rougher.output.tail_au                                   0.671844   \n",
       "rougher.output.tail_ag                                   1.079950   \n",
       "rougher.output.tail_pb                                   0.251685   \n",
       "rougher.output.tail_sol                                  3.492621   \n",
       "primary_cleaner.input.sulfate                           45.136018   \n",
       "primary_cleaner.input.depressant                         3.323216   \n",
       "primary_cleaner.input.feed_size                          0.621609   \n",
       "primary_cleaner.input.xanthate                           0.519205   \n",
       "primary_cleaner.state.floatbank8_a_air                 130.322807   \n",
       "primary_cleaner.state.floatbank8_a_level                30.827141   \n",
       "primary_cleaner.state.floatbank8_b_air                 131.710890   \n",
       "primary_cleaner.state.floatbank8_b_level                33.288228   \n",
       "primary_cleaner.state.floatbank8_c_air                 137.229160   \n",
       "primary_cleaner.state.floatbank8_c_level                32.359161   \n",
       "primary_cleaner.state.floatbank8_d_air                 242.614470   \n",
       "primary_cleaner.state.floatbank8_d_level                44.157594   \n",
       "primary_cleaner.output.concentrate_au                    5.891272   \n",
       "primary_cleaner.output.concentrate_ag                    2.082271   \n",
       "primary_cleaner.output.concentrate_pb                    2.556602   \n",
       "primary_cleaner.output.concentrate_sol                   3.964761   \n",
       "primary_cleaner.output.tail_au                           1.604410   \n",
       "primary_cleaner.output.tail_ag                           3.557775   \n",
       "primary_cleaner.output.tail_pb                           1.394091   \n",
       "primary_cleaner.output.tail_sol                          2.176478   \n",
       "secondary_cleaner.state.floatbank2_a_air                 5.467326   \n",
       "secondary_cleaner.state.floatbank2_a_level              56.555780   \n",
       "secondary_cleaner.state.floatbank2_b_air                 5.820755   \n",
       "secondary_cleaner.state.floatbank2_b_level              60.219739   \n",
       "secondary_cleaner.state.floatbank3_a_air                 6.109365   \n",
       "secondary_cleaner.state.floatbank3_a_level              55.205693   \n",
       "secondary_cleaner.state.floatbank3_b_air                 5.605309   \n",
       "secondary_cleaner.state.floatbank3_b_level              44.228650   \n",
       "secondary_cleaner.state.floatbank4_a_air                 5.200943   \n",
       "secondary_cleaner.state.floatbank4_a_level              48.795359   \n",
       "secondary_cleaner.state.floatbank4_b_air                 4.863659   \n",
       "secondary_cleaner.state.floatbank4_b_level              67.933026   \n",
       "secondary_cleaner.state.floatbank5_a_air                 5.405045   \n",
       "secondary_cleaner.state.floatbank5_a_level              35.231439   \n",
       "secondary_cleaner.state.floatbank5_b_air                 5.241169   \n",
       "secondary_cleaner.state.floatbank5_b_level              38.726292   \n",
       "secondary_cleaner.state.floatbank6_a_air                 5.550829   \n",
       "secondary_cleaner.state.floatbank6_a_level              37.347370   \n",
       "secondary_cleaner.output.tail_au                         2.394328   \n",
       "secondary_cleaner.output.tail_ag                         4.416497   \n",
       "secondary_cleaner.output.tail_pb                         2.704951   \n",
       "secondary_cleaner.output.tail_sol                        3.909951   \n",
       "final.output.concentrate_au                              5.471437   \n",
       "final.output.concentrate_ag                              1.388014   \n",
       "final.output.concentrate_pb                              1.706976   \n",
       "final.output.concentrate_sol                             2.805654   \n",
       "final.output.recovery                                   10.619709   \n",
       "final.output.tail_au                                     0.915187   \n",
       "final.output.tail_ag                                     2.358143   \n",
       "final.output.tail_pb                                     0.958929   \n",
       "final.output.tail_sol                                    2.871075   \n",
       "\n",
       "                                                             min  \\\n",
       "rougher.input.feed_au                               1.000000e-02   \n",
       "rougher.input.feed_ag                               1.000000e-02   \n",
       "rougher.input.feed_pb                               1.000000e-02   \n",
       "rougher.input.feed_sol                              1.000000e-02   \n",
       "rougher.input.feed_rate                             2.985849e-03   \n",
       "rougher.input.feed_size                             4.919367e-02   \n",
       "rougher.input.floatbank10_sulfate                   1.083112e-03   \n",
       "rougher.input.floatbank10_xanthate                  5.682328e-04   \n",
       "rougher.state.floatbank10_a_air                    -4.206929e-02   \n",
       "rougher.state.floatbank10_a_level                  -6.579498e+02   \n",
       "rougher.state.floatbank10_b_air                    -7.218064e-01   \n",
       "rougher.state.floatbank10_b_level                  -6.502600e+02   \n",
       "rougher.state.floatbank10_c_air                    -5.663551e-02   \n",
       "rougher.state.floatbank10_c_level                  -6.475444e+02   \n",
       "rougher.state.floatbank10_d_air                    -9.922190e-01   \n",
       "rougher.state.floatbank10_d_level                  -6.483907e+02   \n",
       "rougher.state.floatbank10_e_air                    -1.982295e+00   \n",
       "rougher.state.floatbank10_e_level                  -6.494439e+02   \n",
       "rougher.state.floatbank10_f_air                    -2.593390e+00   \n",
       "rougher.state.floatbank10_f_level                  -6.499493e+02   \n",
       "rougher.input.floatbank11_sulfate                   7.673764e-05   \n",
       "rougher.input.floatbank11_xanthate                  2.904126e-04   \n",
       "rougher.calculation.sulfate_to_au_concentrate      -1.548858e+07   \n",
       "rougher.calculation.floatbank10_sulfate_to_au_feed -4.865987e+02   \n",
       "rougher.calculation.floatbank11_sulfate_to_au_feed -2.649828e+02   \n",
       "rougher.calculation.au_pb_ratio                    -1.054761e-02   \n",
       "rougher.output.concentrate_au                       0.000000e+00   \n",
       "rougher.output.concentrate_ag                       0.000000e+00   \n",
       "rougher.output.concentrate_pb                       0.000000e+00   \n",
       "rougher.output.concentrate_sol                      0.000000e+00   \n",
       "rougher.output.recovery                             0.000000e+00   \n",
       "rougher.output.tail_au                              2.067578e-02   \n",
       "rougher.output.tail_ag                              2.316530e+00   \n",
       "rougher.output.tail_pb                              7.566066e-03   \n",
       "rougher.output.tail_sol                             1.001465e+01   \n",
       "primary_cleaner.input.sulfate                       3.111820e-03   \n",
       "primary_cleaner.input.depressant                    0.000000e+00   \n",
       "primary_cleaner.input.feed_size                     1.080000e+00   \n",
       "primary_cleaner.input.xanthate                      4.632753e-06   \n",
       "primary_cleaner.state.floatbank8_a_air              5.445860e-32   \n",
       "primary_cleaner.state.floatbank8_a_level           -7.986417e+02   \n",
       "primary_cleaner.state.floatbank8_b_air              6.647490e-32   \n",
       "primary_cleaner.state.floatbank8_b_level           -7.999970e+02   \n",
       "primary_cleaner.state.floatbank8_c_air              4.033736e-32   \n",
       "primary_cleaner.state.floatbank8_c_level           -7.999606e+02   \n",
       "primary_cleaner.state.floatbank8_d_air              4.039220e-32   \n",
       "primary_cleaner.state.floatbank8_d_level           -7.997943e+02   \n",
       "primary_cleaner.output.concentrate_au               0.000000e+00   \n",
       "primary_cleaner.output.concentrate_ag               0.000000e+00   \n",
       "primary_cleaner.output.concentrate_pb               0.000000e+00   \n",
       "primary_cleaner.output.concentrate_sol              0.000000e+00   \n",
       "primary_cleaner.output.tail_au                      0.000000e+00   \n",
       "primary_cleaner.output.tail_ag                      0.000000e+00   \n",
       "primary_cleaner.output.tail_pb                      0.000000e+00   \n",
       "primary_cleaner.output.tail_sol                     0.000000e+00   \n",
       "secondary_cleaner.state.floatbank2_a_air            7.750256e-02   \n",
       "secondary_cleaner.state.floatbank2_a_level         -7.996058e+02   \n",
       "secondary_cleaner.state.floatbank2_b_air            0.000000e+00   \n",
       "secondary_cleaner.state.floatbank2_b_level         -7.998703e+02   \n",
       "secondary_cleaner.state.floatbank3_a_air            0.000000e+00   \n",
       "secondary_cleaner.state.floatbank3_a_level         -7.997558e+02   \n",
       "secondary_cleaner.state.floatbank3_b_air            0.000000e+00   \n",
       "secondary_cleaner.state.floatbank3_b_level         -8.093330e+02   \n",
       "secondary_cleaner.state.floatbank4_a_air            0.000000e+00   \n",
       "secondary_cleaner.state.floatbank4_a_level         -7.997985e+02   \n",
       "secondary_cleaner.state.floatbank4_b_air            0.000000e+00   \n",
       "secondary_cleaner.state.floatbank4_b_level         -8.008369e+02   \n",
       "secondary_cleaner.state.floatbank5_a_air           -3.720540e-01   \n",
       "secondary_cleaner.state.floatbank5_a_level         -7.973240e+02   \n",
       "secondary_cleaner.state.floatbank5_b_air            5.280828e-01   \n",
       "secondary_cleaner.state.floatbank5_b_level         -8.002203e+02   \n",
       "secondary_cleaner.state.floatbank6_a_air           -7.942623e-02   \n",
       "secondary_cleaner.state.floatbank6_a_level         -8.097415e+02   \n",
       "secondary_cleaner.output.tail_au                    0.000000e+00   \n",
       "secondary_cleaner.output.tail_ag                    0.000000e+00   \n",
       "secondary_cleaner.output.tail_pb                    0.000000e+00   \n",
       "secondary_cleaner.output.tail_sol                   0.000000e+00   \n",
       "final.output.concentrate_au                         0.000000e+00   \n",
       "final.output.concentrate_ag                         0.000000e+00   \n",
       "final.output.concentrate_pb                         0.000000e+00   \n",
       "final.output.concentrate_sol                        0.000000e+00   \n",
       "final.output.recovery                               0.000000e+00   \n",
       "final.output.tail_au                                0.000000e+00   \n",
       "final.output.tail_ag                                0.000000e+00   \n",
       "final.output.tail_pb                                0.000000e+00   \n",
       "final.output.tail_sol                               0.000000e+00   \n",
       "\n",
       "                                                             25%  \\\n",
       "rougher.input.feed_au                                   6.932996   \n",
       "rougher.input.feed_ag                                   7.341922   \n",
       "rougher.input.feed_pb                                   2.880490   \n",
       "rougher.input.feed_sol                                 34.093951   \n",
       "rougher.input.feed_rate                               411.048483   \n",
       "rougher.input.feed_size                                47.278490   \n",
       "rougher.input.floatbank10_sulfate                      10.002832   \n",
       "rougher.input.floatbank10_xanthate                      5.304167   \n",
       "rougher.state.floatbank10_a_air                       999.644856   \n",
       "rougher.state.floatbank10_a_level                    -499.861797   \n",
       "rougher.state.floatbank10_b_air                      1199.563063   \n",
       "rougher.state.floatbank10_b_level                    -500.195180   \n",
       "rougher.state.floatbank10_c_air                      1150.739645   \n",
       "rougher.state.floatbank10_c_level                    -500.214580   \n",
       "rougher.state.floatbank10_d_air                      1060.476511   \n",
       "rougher.state.floatbank10_d_level                    -500.369461   \n",
       "rougher.state.floatbank10_e_air                       998.562148   \n",
       "rougher.state.floatbank10_e_level                    -500.220652   \n",
       "rougher.state.floatbank10_f_air                       900.713144   \n",
       "rougher.state.floatbank10_f_level                    -500.518102   \n",
       "rougher.input.floatbank11_sulfate                       9.999625   \n",
       "rougher.input.floatbank11_xanthate                      5.399770   \n",
       "rougher.calculation.sulfate_to_au_concentrate       40770.835250   \n",
       "rougher.calculation.floatbank10_sulfate_to_au_feed   2597.574879   \n",
       "rougher.calculation.floatbank11_sulfate_to_au_feed   2528.351956   \n",
       "rougher.calculation.au_pb_ratio                         2.050078   \n",
       "rougher.output.concentrate_au                          18.908919   \n",
       "rougher.output.concentrate_ag                          10.611551   \n",
       "rougher.output.concentrate_pb                           6.682731   \n",
       "rougher.output.concentrate_sol                         27.149641   \n",
       "rougher.output.recovery                                80.558542   \n",
       "rougher.output.tail_au                                  1.455205   \n",
       "rougher.output.tail_ag                                  5.023787   \n",
       "rougher.output.tail_pb                                  0.490217   \n",
       "rougher.output.tail_sol                                15.753976   \n",
       "primary_cleaner.input.sulfate                         114.273934   \n",
       "primary_cleaner.input.depressant                        6.194337   \n",
       "primary_cleaner.input.feed_size                         6.940000   \n",
       "primary_cleaner.input.xanthate                          0.696098   \n",
       "primary_cleaner.state.floatbank8_a_air               1504.949291   \n",
       "primary_cleaner.state.floatbank8_a_level             -500.320169   \n",
       "primary_cleaner.state.floatbank8_b_air               1505.229841   \n",
       "primary_cleaner.state.floatbank8_b_level             -500.440327   \n",
       "primary_cleaner.state.floatbank8_c_air               1500.845053   \n",
       "primary_cleaner.state.floatbank8_c_level             -500.709838   \n",
       "primary_cleaner.state.floatbank8_d_air               1497.960038   \n",
       "primary_cleaner.state.floatbank8_d_level             -500.464464   \n",
       "primary_cleaner.output.concentrate_au                  30.409669   \n",
       "primary_cleaner.output.concentrate_ag                   7.360525   \n",
       "primary_cleaner.output.concentrate_pb                   8.668289   \n",
       "primary_cleaner.output.concentrate_sol                  7.964614   \n",
       "primary_cleaner.output.tail_au                          2.960094   \n",
       "primary_cleaner.output.tail_ag                         13.978468   \n",
       "primary_cleaner.output.tail_pb                          2.494448   \n",
       "primary_cleaner.output.tail_sol                         6.826706   \n",
       "secondary_cleaner.state.floatbank2_a_air               25.034882   \n",
       "secondary_cleaner.state.floatbank2_a_level           -500.240915   \n",
       "secondary_cleaner.state.floatbank2_b_air               20.083738   \n",
       "secondary_cleaner.state.floatbank2_b_level           -500.264871   \n",
       "secondary_cleaner.state.floatbank3_a_air               24.879889   \n",
       "secondary_cleaner.state.floatbank3_a_level           -500.214111   \n",
       "secondary_cleaner.state.floatbank3_b_air               18.990660   \n",
       "secondary_cleaner.state.floatbank3_b_level           -500.123568   \n",
       "secondary_cleaner.state.floatbank4_a_air               14.963312   \n",
       "secondary_cleaner.state.floatbank4_a_level           -500.704937   \n",
       "secondary_cleaner.state.floatbank4_b_air               11.889685   \n",
       "secondary_cleaner.state.floatbank4_b_level           -500.184081   \n",
       "secondary_cleaner.state.floatbank5_a_air               10.977413   \n",
       "secondary_cleaner.state.floatbank5_a_level           -500.451167   \n",
       "secondary_cleaner.state.floatbank5_b_air                8.947381   \n",
       "secondary_cleaner.state.floatbank5_b_level           -500.129137   \n",
       "secondary_cleaner.state.floatbank6_a_air               14.985721   \n",
       "secondary_cleaner.state.floatbank6_a_level           -500.755346   \n",
       "secondary_cleaner.output.tail_au                        3.216855   \n",
       "secondary_cleaner.output.tail_ag                       12.479139   \n",
       "secondary_cleaner.output.tail_pb                        3.801206   \n",
       "secondary_cleaner.output.tail_sol                       3.784897   \n",
       "final.output.concentrate_au                            43.345906   \n",
       "final.output.concentrate_ag                             4.283347   \n",
       "final.output.concentrate_pb                             9.103183   \n",
       "final.output.concentrate_sol                            7.860030   \n",
       "final.output.recovery                                  63.114596   \n",
       "final.output.tail_au                                    2.505287   \n",
       "final.output.tail_ag                                    8.088928   \n",
       "final.output.tail_pb                                    2.036512   \n",
       "final.output.tail_sol                                   9.013412   \n",
       "\n",
       "                                                             50%  \\\n",
       "rougher.input.feed_au                                   8.225284   \n",
       "rougher.input.feed_ag                                   8.715859   \n",
       "rougher.input.feed_pb                                   3.532399   \n",
       "rougher.input.feed_sol                                 37.097511   \n",
       "rougher.input.feed_rate                               498.187968   \n",
       "rougher.input.feed_size                                54.361187   \n",
       "rougher.input.floatbank10_sulfate                      12.003320   \n",
       "rougher.input.floatbank10_xanthate                      6.003053   \n",
       "rougher.state.floatbank10_a_air                      1000.982624   \n",
       "rougher.state.floatbank10_a_level                    -300.314199   \n",
       "rougher.state.floatbank10_b_air                      1302.379807   \n",
       "rougher.state.floatbank10_b_level                    -499.767998   \n",
       "rougher.state.floatbank10_c_air                      1300.639429   \n",
       "rougher.state.floatbank10_c_level                    -499.693772   \n",
       "rougher.state.floatbank10_d_air                      1202.656040   \n",
       "rougher.state.floatbank10_d_level                    -499.511621   \n",
       "rougher.state.floatbank10_e_air                      1050.081856   \n",
       "rougher.state.floatbank10_e_level                    -499.640275   \n",
       "rougher.state.floatbank10_f_air                       999.870453   \n",
       "rougher.state.floatbank10_f_level                    -499.451154   \n",
       "rougher.input.floatbank11_sulfate                      12.000777   \n",
       "rougher.input.floatbank11_xanthate                      6.096038   \n",
       "rougher.calculation.sulfate_to_au_concentrate       44878.923185   \n",
       "rougher.calculation.floatbank10_sulfate_to_au_feed   3055.912455   \n",
       "rougher.calculation.floatbank11_sulfate_to_au_feed   3006.139692   \n",
       "rougher.calculation.au_pb_ratio                         2.326922   \n",
       "rougher.output.concentrate_au                          20.329736   \n",
       "rougher.output.concentrate_ag                          12.136445   \n",
       "rougher.output.concentrate_pb                           7.705023   \n",
       "rougher.output.concentrate_sol                         29.917369   \n",
       "rougher.output.recovery                                85.946497   \n",
       "rougher.output.tail_au                                  1.840333   \n",
       "rougher.output.tail_ag                                  5.819341   \n",
       "rougher.output.tail_pb                                  0.623074   \n",
       "rougher.output.tail_sol                                18.060998   \n",
       "primary_cleaner.input.sulfate                         144.627539   \n",
       "primary_cleaner.input.depressant                        8.055245   \n",
       "primary_cleaner.input.feed_size                         7.280000   \n",
       "primary_cleaner.input.xanthate                          0.957958   \n",
       "primary_cleaner.state.floatbank8_a_air               1600.683088   \n",
       "primary_cleaner.state.floatbank8_a_level             -499.935617   \n",
       "primary_cleaner.state.floatbank8_b_air               1600.560978   \n",
       "primary_cleaner.state.floatbank8_b_level             -499.962584   \n",
       "primary_cleaner.state.floatbank8_c_air               1600.225842   \n",
       "primary_cleaner.state.floatbank8_c_level             -499.914492   \n",
       "primary_cleaner.state.floatbank8_d_air               1599.493192   \n",
       "primary_cleaner.state.floatbank8_d_level             -499.916753   \n",
       "primary_cleaner.output.concentrate_au                  32.837748   \n",
       "primary_cleaner.output.concentrate_ag                   8.555670   \n",
       "primary_cleaner.output.concentrate_pb                  10.121250   \n",
       "primary_cleaner.output.concentrate_sol                 10.479225   \n",
       "primary_cleaner.output.tail_au                          3.693812   \n",
       "primary_cleaner.output.tail_ag                         15.773016   \n",
       "primary_cleaner.output.tail_pb                          3.229651   \n",
       "primary_cleaner.output.tail_sol                         8.235004   \n",
       "secondary_cleaner.state.floatbank2_a_air               28.968533   \n",
       "secondary_cleaner.state.floatbank2_a_level           -499.975415   \n",
       "secondary_cleaner.state.floatbank2_b_air               24.988575   \n",
       "secondary_cleaner.state.floatbank2_b_level           -500.017709   \n",
       "secondary_cleaner.state.floatbank3_a_air               27.966517   \n",
       "secondary_cleaner.state.floatbank3_a_level           -499.922655   \n",
       "secondary_cleaner.state.floatbank3_b_air               21.995308   \n",
       "secondary_cleaner.state.floatbank3_b_level           -499.980765   \n",
       "secondary_cleaner.state.floatbank4_a_air               18.005468   \n",
       "secondary_cleaner.state.floatbank4_a_level           -499.820809   \n",
       "secondary_cleaner.state.floatbank4_b_air               14.957945   \n",
       "secondary_cleaner.state.floatbank4_b_level           -499.424528   \n",
       "secondary_cleaner.state.floatbank5_a_air               14.963654   \n",
       "secondary_cleaner.state.floatbank5_a_level           -499.772653   \n",
       "secondary_cleaner.state.floatbank5_b_air               11.000057   \n",
       "secondary_cleaner.state.floatbank5_b_level           -499.926255   \n",
       "secondary_cleaner.state.floatbank6_a_air               19.960798   \n",
       "secondary_cleaner.state.floatbank6_a_level           -500.054273   \n",
       "secondary_cleaner.output.tail_au                        4.097589   \n",
       "secondary_cleaner.output.tail_ag                       15.448510   \n",
       "secondary_cleaner.output.tail_pb                        5.227419   \n",
       "secondary_cleaner.output.tail_sol                       7.629968   \n",
       "final.output.concentrate_au                            44.975014   \n",
       "final.output.concentrate_ag                             5.118647   \n",
       "final.output.concentrate_pb                            10.046455   \n",
       "final.output.concentrate_sol                            9.301970   \n",
       "final.output.recovery                                  67.962788   \n",
       "final.output.tail_au                                    3.029238   \n",
       "final.output.tail_ag                                    9.818512   \n",
       "final.output.tail_pb                                    2.774847   \n",
       "final.output.tail_sol                                  10.670515   \n",
       "\n",
       "                                                             75%           max  \n",
       "rougher.input.feed_au                                   9.832210  1.373133e+01  \n",
       "rougher.input.feed_ag                                  10.255843  1.459603e+01  \n",
       "rougher.input.feed_pb                                   4.257282  7.052325e+00  \n",
       "rougher.input.feed_sol                                 39.899799  5.347532e+01  \n",
       "rougher.input.feed_rate                               549.586552  7.175088e+02  \n",
       "rougher.input.feed_size                                64.464926  4.849675e+02  \n",
       "rougher.input.floatbank10_sulfate                      14.929903  3.611827e+01  \n",
       "rougher.input.floatbank10_xanthate                      6.796632  9.703448e+00  \n",
       "rougher.state.floatbank10_a_air                      1292.663971  1.512300e+03  \n",
       "rougher.state.floatbank10_a_level                    -299.989315 -2.737761e+02  \n",
       "rougher.state.floatbank10_b_air                      1449.971526  1.809194e+03  \n",
       "rougher.state.floatbank10_b_level                    -400.490924 -2.963831e+02  \n",
       "rougher.state.floatbank10_c_air                      1450.429812  2.499129e+03  \n",
       "rougher.state.floatbank10_c_level                    -400.793268 -2.921555e+02  \n",
       "rougher.state.floatbank10_d_air                      1387.579519  1.817199e+03  \n",
       "rougher.state.floatbank10_d_level                    -401.231087 -7.639733e+01  \n",
       "rougher.state.floatbank10_e_air                      1199.518951  1.922637e+03  \n",
       "rougher.state.floatbank10_e_level                    -400.842206 -1.397530e+02  \n",
       "rougher.state.floatbank10_f_air                      1099.789243  1.706308e+03  \n",
       "rougher.state.floatbank10_f_level                    -401.190552 -1.917185e+02  \n",
       "rougher.input.floatbank11_sulfate                      14.821675  3.798065e+01  \n",
       "rougher.input.floatbank11_xanthate                      6.800713  9.698407e+00  \n",
       "rougher.calculation.sulfate_to_au_concentrate       48388.944411  3.428099e+06  \n",
       "rougher.calculation.floatbank10_sulfate_to_au_feed   3711.123079  6.296390e+05  \n",
       "rougher.calculation.floatbank11_sulfate_to_au_feed   3621.306274  7.186850e+05  \n",
       "rougher.calculation.au_pb_ratio                         2.746607  2.723137e+01  \n",
       "rougher.output.concentrate_au                          21.767391  2.882451e+01  \n",
       "rougher.output.concentrate_ag                          13.771614  2.448027e+01  \n",
       "rougher.output.concentrate_pb                           8.507136  1.309168e+01  \n",
       "rougher.output.concentrate_sol                         32.300398  3.835119e+01  \n",
       "rougher.output.recovery                                89.960375  1.000000e+02  \n",
       "rougher.output.tail_au                                  2.227136  9.688980e+00  \n",
       "rougher.output.tail_ag                                  6.407298  1.271918e+01  \n",
       "rougher.output.tail_pb                                  0.780414  3.778064e+00  \n",
       "rougher.output.tail_sol                                20.064557  6.611719e+01  \n",
       "primary_cleaner.input.sulfate                         176.161883  2.659831e+02  \n",
       "primary_cleaner.input.depressant                       11.061619  4.000000e+01  \n",
       "primary_cleaner.input.feed_size                         7.689666  1.550000e+01  \n",
       "primary_cleaner.input.xanthate                          1.224756  4.102454e+00  \n",
       "primary_cleaner.state.floatbank8_a_air               1697.830396  2.103104e+03  \n",
       "primary_cleaner.state.floatbank8_a_level             -499.457104 -5.719540e+01  \n",
       "primary_cleaner.state.floatbank8_b_air               1699.149142  2.114907e+03  \n",
       "primary_cleaner.state.floatbank8_b_level             -499.383154 -1.425272e+02  \n",
       "primary_cleaner.state.floatbank8_c_air               1699.482362  2.013156e+03  \n",
       "primary_cleaner.state.floatbank8_c_level             -498.899663 -1.509370e+02  \n",
       "primary_cleaner.state.floatbank8_d_air               1698.395306  2.398904e+03  \n",
       "primary_cleaner.state.floatbank8_d_level             -499.137048 -3.060183e+01  \n",
       "primary_cleaner.output.concentrate_au                  35.027165  4.593393e+01  \n",
       "primary_cleaner.output.concentrate_ag                   9.815695  1.608163e+01  \n",
       "primary_cleaner.output.concentrate_pb                  11.362268  1.708128e+01  \n",
       "primary_cleaner.output.concentrate_sol                 13.588618  2.245811e+01  \n",
       "primary_cleaner.output.tail_au                          4.648610  1.778892e+01  \n",
       "primary_cleaner.output.tail_ag                         17.908623  2.945957e+01  \n",
       "primary_cleaner.output.tail_pb                          4.115288  9.634565e+00  \n",
       "primary_cleaner.output.tail_sol                         9.562956  2.227636e+01  \n",
       "secondary_cleaner.state.floatbank2_a_air               32.250615  5.265140e+01  \n",
       "secondary_cleaner.state.floatbank2_a_level           -499.668396 -1.278756e+02  \n",
       "secondary_cleaner.state.floatbank2_b_air               27.996854  3.515212e+01  \n",
       "secondary_cleaner.state.floatbank2_b_level           -499.786233 -2.119993e+02  \n",
       "secondary_cleaner.state.floatbank3_a_air               32.981447  4.426046e+01  \n",
       "secondary_cleaner.state.floatbank3_a_level           -499.233769 -1.916788e+02  \n",
       "secondary_cleaner.state.floatbank3_b_air               25.979469  3.507284e+01  \n",
       "secondary_cleaner.state.floatbank3_b_level           -499.808121 -1.597423e+02  \n",
       "secondary_cleaner.state.floatbank4_a_air               22.977019  3.011574e+01  \n",
       "secondary_cleaner.state.floatbank4_a_level           -498.048862 -2.452392e+02  \n",
       "secondary_cleaner.state.floatbank4_b_air               17.125406  3.126971e+01  \n",
       "secondary_cleaner.state.floatbank4_b_level           -400.083087 -6.506986e+00  \n",
       "secondary_cleaner.state.floatbank5_a_air               18.012762  4.370993e+01  \n",
       "secondary_cleaner.state.floatbank5_a_level           -498.182011 -2.444836e+02  \n",
       "secondary_cleaner.state.floatbank5_b_air               14.002573  2.792600e+01  \n",
       "secondary_cleaner.state.floatbank5_b_level           -499.285414 -1.377400e+02  \n",
       "secondary_cleaner.state.floatbank6_a_air               23.038231  3.218891e+01  \n",
       "secondary_cleaner.state.floatbank6_a_level           -499.506135 -1.233075e+02  \n",
       "secondary_cleaner.output.tail_au                        5.108658  2.681164e+01  \n",
       "secondary_cleaner.output.tail_ag                       17.349683  2.326474e+01  \n",
       "secondary_cleaner.output.tail_pb                        7.609340  1.704250e+01  \n",
       "secondary_cleaner.output.tail_sol                      10.367050  2.600077e+01  \n",
       "final.output.concentrate_au                            46.275153  5.275664e+01  \n",
       "final.output.concentrate_ag                             5.925380  1.600195e+01  \n",
       "final.output.concentrate_pb                            10.981203  1.670530e+01  \n",
       "final.output.concentrate_sol                           11.001573  1.942391e+01  \n",
       "final.output.recovery                                  72.598187  1.000000e+02  \n",
       "final.output.tail_au                                    3.614098  8.245022e+00  \n",
       "final.output.tail_ag                                   11.169187  1.955215e+01  \n",
       "final.output.tail_pb                                    3.353845  5.804178e+00  \n",
       "final.output.tail_sol                                  12.130827  2.231773e+01  "
      ]
     },
     "execution_count": 5,
     "metadata": {},
     "output_type": "execute_result"
    }
   ],
   "source": [
    "data_train.describe().T"
   ]
  },
  {
   "cell_type": "code",
   "execution_count": 6,
   "metadata": {},
   "outputs": [
    {
     "data": {
      "text/html": [
       "<div>\n",
       "<style scoped>\n",
       "    .dataframe tbody tr th:only-of-type {\n",
       "        vertical-align: middle;\n",
       "    }\n",
       "\n",
       "    .dataframe tbody tr th {\n",
       "        vertical-align: top;\n",
       "    }\n",
       "\n",
       "    .dataframe thead th {\n",
       "        text-align: right;\n",
       "    }\n",
       "</style>\n",
       "<table border=\"1\" class=\"dataframe\">\n",
       "  <thead>\n",
       "    <tr style=\"text-align: right;\">\n",
       "      <th></th>\n",
       "      <th>count</th>\n",
       "      <th>mean</th>\n",
       "      <th>std</th>\n",
       "      <th>min</th>\n",
       "      <th>25%</th>\n",
       "      <th>50%</th>\n",
       "      <th>75%</th>\n",
       "      <th>max</th>\n",
       "    </tr>\n",
       "  </thead>\n",
       "  <tbody>\n",
       "    <tr>\n",
       "      <th>rougher.input.feed_au</th>\n",
       "      <td>4860.0</td>\n",
       "      <td>8.005584</td>\n",
       "      <td>1.993590</td>\n",
       "      <td>1.000000e-02</td>\n",
       "      <td>6.574363</td>\n",
       "      <td>7.812923</td>\n",
       "      <td>9.556589</td>\n",
       "      <td>13.417156</td>\n",
       "    </tr>\n",
       "    <tr>\n",
       "      <th>rougher.input.feed_ag</th>\n",
       "      <td>4860.0</td>\n",
       "      <td>8.547348</td>\n",
       "      <td>1.958601</td>\n",
       "      <td>1.000000e-02</td>\n",
       "      <td>6.975898</td>\n",
       "      <td>8.179714</td>\n",
       "      <td>10.084339</td>\n",
       "      <td>14.533698</td>\n",
       "    </tr>\n",
       "    <tr>\n",
       "      <th>rougher.input.feed_pb</th>\n",
       "      <td>4832.0</td>\n",
       "      <td>3.579662</td>\n",
       "      <td>1.029377</td>\n",
       "      <td>1.000000e-02</td>\n",
       "      <td>2.903612</td>\n",
       "      <td>3.540772</td>\n",
       "      <td>4.199847</td>\n",
       "      <td>7.142594</td>\n",
       "    </tr>\n",
       "    <tr>\n",
       "      <th>rougher.input.feed_sol</th>\n",
       "      <td>4838.0</td>\n",
       "      <td>37.095864</td>\n",
       "      <td>4.926284</td>\n",
       "      <td>1.000000e-02</td>\n",
       "      <td>34.510841</td>\n",
       "      <td>37.499761</td>\n",
       "      <td>40.461315</td>\n",
       "      <td>53.477742</td>\n",
       "    </tr>\n",
       "    <tr>\n",
       "      <th>rougher.input.feed_rate</th>\n",
       "      <td>4856.0</td>\n",
       "      <td>490.285103</td>\n",
       "      <td>94.371623</td>\n",
       "      <td>1.278570e-02</td>\n",
       "      <td>434.099695</td>\n",
       "      <td>502.118742</td>\n",
       "      <td>555.596563</td>\n",
       "      <td>702.523396</td>\n",
       "    </tr>\n",
       "    <tr>\n",
       "      <th>rougher.input.feed_size</th>\n",
       "      <td>4816.0</td>\n",
       "      <td>59.113400</td>\n",
       "      <td>19.125122</td>\n",
       "      <td>4.636880e-02</td>\n",
       "      <td>47.596984</td>\n",
       "      <td>55.509481</td>\n",
       "      <td>66.661547</td>\n",
       "      <td>363.989699</td>\n",
       "    </tr>\n",
       "    <tr>\n",
       "      <th>rougher.input.floatbank10_sulfate</th>\n",
       "      <td>4857.0</td>\n",
       "      <td>12.055735</td>\n",
       "      <td>3.407642</td>\n",
       "      <td>1.890695e-02</td>\n",
       "      <td>9.890429</td>\n",
       "      <td>11.997859</td>\n",
       "      <td>14.496072</td>\n",
       "      <td>30.010759</td>\n",
       "    </tr>\n",
       "    <tr>\n",
       "      <th>rougher.input.floatbank10_xanthate</th>\n",
       "      <td>4859.0</td>\n",
       "      <td>6.101308</td>\n",
       "      <td>1.042754</td>\n",
       "      <td>1.578303e-02</td>\n",
       "      <td>5.499808</td>\n",
       "      <td>6.099805</td>\n",
       "      <td>6.802101</td>\n",
       "      <td>9.396928</td>\n",
       "    </tr>\n",
       "    <tr>\n",
       "      <th>rougher.state.floatbank10_a_air</th>\n",
       "      <td>4859.0</td>\n",
       "      <td>1108.635895</td>\n",
       "      <td>156.493143</td>\n",
       "      <td>3.007925e+02</td>\n",
       "      <td>999.715729</td>\n",
       "      <td>1001.414798</td>\n",
       "      <td>1202.837565</td>\n",
       "      <td>1521.980372</td>\n",
       "    </tr>\n",
       "    <tr>\n",
       "      <th>rougher.state.floatbank10_a_level</th>\n",
       "      <td>4859.0</td>\n",
       "      <td>-368.340127</td>\n",
       "      <td>91.155929</td>\n",
       "      <td>-6.005681e+02</td>\n",
       "      <td>-499.731972</td>\n",
       "      <td>-300.181367</td>\n",
       "      <td>-299.961547</td>\n",
       "      <td>-281.039299</td>\n",
       "    </tr>\n",
       "    <tr>\n",
       "      <th>rougher.state.floatbank10_b_air</th>\n",
       "      <td>4859.0</td>\n",
       "      <td>1312.346061</td>\n",
       "      <td>159.001709</td>\n",
       "      <td>7.676566e+02</td>\n",
       "      <td>1199.741605</td>\n",
       "      <td>1300.278835</td>\n",
       "      <td>1401.691789</td>\n",
       "      <td>1802.528564</td>\n",
       "    </tr>\n",
       "    <tr>\n",
       "      <th>rougher.state.floatbank10_b_level</th>\n",
       "      <td>4859.0</td>\n",
       "      <td>-472.506533</td>\n",
       "      <td>49.376824</td>\n",
       "      <td>-6.499975e+02</td>\n",
       "      <td>-500.218827</td>\n",
       "      <td>-499.827934</td>\n",
       "      <td>-449.925513</td>\n",
       "      <td>-298.836629</td>\n",
       "    </tr>\n",
       "    <tr>\n",
       "      <th>rougher.state.floatbank10_c_air</th>\n",
       "      <td>4859.0</td>\n",
       "      <td>1291.638282</td>\n",
       "      <td>180.203670</td>\n",
       "      <td>8.315379e+02</td>\n",
       "      <td>1152.401989</td>\n",
       "      <td>1299.411789</td>\n",
       "      <td>1401.933884</td>\n",
       "      <td>2498.873242</td>\n",
       "    </tr>\n",
       "    <tr>\n",
       "      <th>rougher.state.floatbank10_c_level</th>\n",
       "      <td>4859.0</td>\n",
       "      <td>-472.902514</td>\n",
       "      <td>47.611728</td>\n",
       "      <td>-5.526570e+02</td>\n",
       "      <td>-500.226269</td>\n",
       "      <td>-499.761855</td>\n",
       "      <td>-449.662583</td>\n",
       "      <td>-298.588757</td>\n",
       "    </tr>\n",
       "    <tr>\n",
       "      <th>rougher.state.floatbank10_d_air</th>\n",
       "      <td>4860.0</td>\n",
       "      <td>1204.066585</td>\n",
       "      <td>184.547737</td>\n",
       "      <td>7.062819e+02</td>\n",
       "      <td>1061.682494</td>\n",
       "      <td>1200.337639</td>\n",
       "      <td>1307.300990</td>\n",
       "      <td>1801.712957</td>\n",
       "    </tr>\n",
       "    <tr>\n",
       "      <th>rougher.state.floatbank10_d_level</th>\n",
       "      <td>4860.0</td>\n",
       "      <td>-473.380689</td>\n",
       "      <td>47.828848</td>\n",
       "      <td>-6.481184e+02</td>\n",
       "      <td>-500.441025</td>\n",
       "      <td>-499.597033</td>\n",
       "      <td>-449.938278</td>\n",
       "      <td>-296.591110</td>\n",
       "    </tr>\n",
       "    <tr>\n",
       "      <th>rougher.state.floatbank10_e_air</th>\n",
       "      <td>4853.0</td>\n",
       "      <td>1075.304980</td>\n",
       "      <td>159.989533</td>\n",
       "      <td>6.952118e+02</td>\n",
       "      <td>998.898177</td>\n",
       "      <td>1049.897439</td>\n",
       "      <td>1199.145824</td>\n",
       "      <td>1701.253009</td>\n",
       "    </tr>\n",
       "    <tr>\n",
       "      <th>rougher.state.floatbank10_e_level</th>\n",
       "      <td>4860.0</td>\n",
       "      <td>-471.465792</td>\n",
       "      <td>51.413832</td>\n",
       "      <td>-5.989261e+02</td>\n",
       "      <td>-500.266939</td>\n",
       "      <td>-499.715147</td>\n",
       "      <td>-449.384744</td>\n",
       "      <td>-296.129173</td>\n",
       "    </tr>\n",
       "    <tr>\n",
       "      <th>rougher.state.floatbank10_f_air</th>\n",
       "      <td>4860.0</td>\n",
       "      <td>1023.769668</td>\n",
       "      <td>147.827669</td>\n",
       "      <td>5.396339e+02</td>\n",
       "      <td>949.042067</td>\n",
       "      <td>1000.060464</td>\n",
       "      <td>1099.460790</td>\n",
       "      <td>1702.383848</td>\n",
       "    </tr>\n",
       "    <tr>\n",
       "      <th>rougher.state.floatbank10_f_level</th>\n",
       "      <td>4860.0</td>\n",
       "      <td>-471.412834</td>\n",
       "      <td>51.838763</td>\n",
       "      <td>-6.493762e+02</td>\n",
       "      <td>-500.534825</td>\n",
       "      <td>-499.537041</td>\n",
       "      <td>-448.211283</td>\n",
       "      <td>-286.375117</td>\n",
       "    </tr>\n",
       "    <tr>\n",
       "      <th>rougher.input.floatbank11_sulfate</th>\n",
       "      <td>4852.0</td>\n",
       "      <td>11.969074</td>\n",
       "      <td>3.456113</td>\n",
       "      <td>1.627663e-04</td>\n",
       "      <td>9.822314</td>\n",
       "      <td>11.995907</td>\n",
       "      <td>14.216091</td>\n",
       "      <td>30.006511</td>\n",
       "    </tr>\n",
       "    <tr>\n",
       "      <th>rougher.input.floatbank11_xanthate</th>\n",
       "      <td>4814.0</td>\n",
       "      <td>6.119323</td>\n",
       "      <td>1.049065</td>\n",
       "      <td>2.615756e-03</td>\n",
       "      <td>5.500412</td>\n",
       "      <td>6.101665</td>\n",
       "      <td>6.833554</td>\n",
       "      <td>9.401928</td>\n",
       "    </tr>\n",
       "    <tr>\n",
       "      <th>primary_cleaner.input.sulfate</th>\n",
       "      <td>4859.0</td>\n",
       "      <td>143.201672</td>\n",
       "      <td>42.360060</td>\n",
       "      <td>7.329299e+00</td>\n",
       "      <td>113.293698</td>\n",
       "      <td>139.573692</td>\n",
       "      <td>170.743180</td>\n",
       "      <td>262.531502</td>\n",
       "    </tr>\n",
       "    <tr>\n",
       "      <th>primary_cleaner.input.depressant</th>\n",
       "      <td>4851.0</td>\n",
       "      <td>8.692446</td>\n",
       "      <td>3.169592</td>\n",
       "      <td>0.000000e+00</td>\n",
       "      <td>6.042793</td>\n",
       "      <td>8.007390</td>\n",
       "      <td>10.613209</td>\n",
       "      <td>20.052255</td>\n",
       "    </tr>\n",
       "    <tr>\n",
       "      <th>primary_cleaner.input.feed_size</th>\n",
       "      <td>4860.0</td>\n",
       "      <td>7.305514</td>\n",
       "      <td>0.588602</td>\n",
       "      <td>4.970000e+00</td>\n",
       "      <td>6.940000</td>\n",
       "      <td>7.290000</td>\n",
       "      <td>7.630000</td>\n",
       "      <td>9.630000</td>\n",
       "    </tr>\n",
       "    <tr>\n",
       "      <th>primary_cleaner.input.xanthate</th>\n",
       "      <td>4817.0</td>\n",
       "      <td>1.007577</td>\n",
       "      <td>0.494669</td>\n",
       "      <td>1.543956e-04</td>\n",
       "      <td>0.700367</td>\n",
       "      <td>0.908749</td>\n",
       "      <td>1.198047</td>\n",
       "      <td>3.999060</td>\n",
       "    </tr>\n",
       "    <tr>\n",
       "      <th>primary_cleaner.state.floatbank8_a_air</th>\n",
       "      <td>4859.0</td>\n",
       "      <td>1588.387039</td>\n",
       "      <td>124.942960</td>\n",
       "      <td>3.142412e+02</td>\n",
       "      <td>1505.500055</td>\n",
       "      <td>1600.364401</td>\n",
       "      <td>1696.676142</td>\n",
       "      <td>2079.531340</td>\n",
       "    </tr>\n",
       "    <tr>\n",
       "      <th>primary_cleaner.state.floatbank8_a_level</th>\n",
       "      <td>4859.0</td>\n",
       "      <td>-488.223175</td>\n",
       "      <td>36.672631</td>\n",
       "      <td>-6.534776e+02</td>\n",
       "      <td>-500.272366</td>\n",
       "      <td>-499.893821</td>\n",
       "      <td>-499.369738</td>\n",
       "      <td>-330.134203</td>\n",
       "    </tr>\n",
       "    <tr>\n",
       "      <th>primary_cleaner.state.floatbank8_b_air</th>\n",
       "      <td>4859.0</td>\n",
       "      <td>1589.297134</td>\n",
       "      <td>132.102797</td>\n",
       "      <td>3.199595e+02</td>\n",
       "      <td>1502.105380</td>\n",
       "      <td>1600.363829</td>\n",
       "      <td>1699.429311</td>\n",
       "      <td>1825.491263</td>\n",
       "    </tr>\n",
       "    <tr>\n",
       "      <th>primary_cleaner.state.floatbank8_b_level</th>\n",
       "      <td>4859.0</td>\n",
       "      <td>-490.255893</td>\n",
       "      <td>35.203702</td>\n",
       "      <td>-7.992608e+02</td>\n",
       "      <td>-500.422211</td>\n",
       "      <td>-499.938871</td>\n",
       "      <td>-499.331088</td>\n",
       "      <td>-339.751525</td>\n",
       "    </tr>\n",
       "    <tr>\n",
       "      <th>primary_cleaner.state.floatbank8_c_air</th>\n",
       "      <td>4858.0</td>\n",
       "      <td>1588.905465</td>\n",
       "      <td>132.689236</td>\n",
       "      <td>2.735368e+02</td>\n",
       "      <td>1501.205202</td>\n",
       "      <td>1600.315592</td>\n",
       "      <td>1699.483983</td>\n",
       "      <td>1847.621932</td>\n",
       "    </tr>\n",
       "    <tr>\n",
       "      <th>primary_cleaner.state.floatbank8_c_level</th>\n",
       "      <td>4859.0</td>\n",
       "      <td>-489.741555</td>\n",
       "      <td>33.650676</td>\n",
       "      <td>-7.092138e+02</td>\n",
       "      <td>-500.676713</td>\n",
       "      <td>-499.894721</td>\n",
       "      <td>-498.699191</td>\n",
       "      <td>-290.845404</td>\n",
       "    </tr>\n",
       "    <tr>\n",
       "      <th>primary_cleaner.state.floatbank8_d_air</th>\n",
       "      <td>4858.0</td>\n",
       "      <td>1530.287801</td>\n",
       "      <td>256.268884</td>\n",
       "      <td>1.313217e+02</td>\n",
       "      <td>1450.605949</td>\n",
       "      <td>1599.224868</td>\n",
       "      <td>1698.766720</td>\n",
       "      <td>2398.888373</td>\n",
       "    </tr>\n",
       "    <tr>\n",
       "      <th>primary_cleaner.state.floatbank8_d_level</th>\n",
       "      <td>4859.0</td>\n",
       "      <td>-485.896489</td>\n",
       "      <td>43.296128</td>\n",
       "      <td>-7.997916e+02</td>\n",
       "      <td>-500.438064</td>\n",
       "      <td>-499.857201</td>\n",
       "      <td>-498.747352</td>\n",
       "      <td>-107.595099</td>\n",
       "    </tr>\n",
       "    <tr>\n",
       "      <th>secondary_cleaner.state.floatbank2_a_air</th>\n",
       "      <td>4734.0</td>\n",
       "      <td>29.488451</td>\n",
       "      <td>5.357783</td>\n",
       "      <td>1.220129e-01</td>\n",
       "      <td>25.116334</td>\n",
       "      <td>29.954667</td>\n",
       "      <td>34.064460</td>\n",
       "      <td>48.822781</td>\n",
       "    </tr>\n",
       "    <tr>\n",
       "      <th>secondary_cleaner.state.floatbank2_a_level</th>\n",
       "      <td>4859.0</td>\n",
       "      <td>-499.504602</td>\n",
       "      <td>43.284386</td>\n",
       "      <td>-7.996064e+02</td>\n",
       "      <td>-500.215499</td>\n",
       "      <td>-499.966865</td>\n",
       "      <td>-499.678638</td>\n",
       "      <td>-207.038839</td>\n",
       "    </tr>\n",
       "    <tr>\n",
       "      <th>secondary_cleaner.state.floatbank2_b_air</th>\n",
       "      <td>4859.0</td>\n",
       "      <td>24.732293</td>\n",
       "      <td>5.484220</td>\n",
       "      <td>0.000000e+00</td>\n",
       "      <td>22.038700</td>\n",
       "      <td>26.880506</td>\n",
       "      <td>28.045077</td>\n",
       "      <td>35.019409</td>\n",
       "    </tr>\n",
       "    <tr>\n",
       "      <th>secondary_cleaner.state.floatbank2_b_level</th>\n",
       "      <td>4859.0</td>\n",
       "      <td>-499.556727</td>\n",
       "      <td>43.619785</td>\n",
       "      <td>-7.998739e+02</td>\n",
       "      <td>-500.223223</td>\n",
       "      <td>-500.010504</td>\n",
       "      <td>-499.783594</td>\n",
       "      <td>-216.660814</td>\n",
       "    </tr>\n",
       "    <tr>\n",
       "      <th>secondary_cleaner.state.floatbank3_a_air</th>\n",
       "      <td>4859.0</td>\n",
       "      <td>28.896472</td>\n",
       "      <td>6.159087</td>\n",
       "      <td>1.957942e-17</td>\n",
       "      <td>24.979890</td>\n",
       "      <td>28.021079</td>\n",
       "      <td>33.985458</td>\n",
       "      <td>44.011389</td>\n",
       "    </tr>\n",
       "    <tr>\n",
       "      <th>secondary_cleaner.state.floatbank3_a_level</th>\n",
       "      <td>4859.0</td>\n",
       "      <td>-489.475315</td>\n",
       "      <td>51.827314</td>\n",
       "      <td>-7.995753e+02</td>\n",
       "      <td>-500.211535</td>\n",
       "      <td>-499.952220</td>\n",
       "      <td>-499.525249</td>\n",
       "      <td>-246.396324</td>\n",
       "    </tr>\n",
       "    <tr>\n",
       "      <th>secondary_cleaner.state.floatbank3_b_air</th>\n",
       "      <td>4859.0</td>\n",
       "      <td>22.632725</td>\n",
       "      <td>5.456797</td>\n",
       "      <td>1.521587e-17</td>\n",
       "      <td>19.011791</td>\n",
       "      <td>22.969896</td>\n",
       "      <td>26.984159</td>\n",
       "      <td>35.051488</td>\n",
       "    </tr>\n",
       "    <tr>\n",
       "      <th>secondary_cleaner.state.floatbank3_b_level</th>\n",
       "      <td>4859.0</td>\n",
       "      <td>-494.765779</td>\n",
       "      <td>40.681493</td>\n",
       "      <td>-7.587644e+02</td>\n",
       "      <td>-500.120286</td>\n",
       "      <td>-499.983839</td>\n",
       "      <td>-499.824376</td>\n",
       "      <td>-195.458545</td>\n",
       "    </tr>\n",
       "    <tr>\n",
       "      <th>secondary_cleaner.state.floatbank4_a_air</th>\n",
       "      <td>4859.0</td>\n",
       "      <td>19.857704</td>\n",
       "      <td>5.913105</td>\n",
       "      <td>1.079872e-16</td>\n",
       "      <td>15.011226</td>\n",
       "      <td>19.968066</td>\n",
       "      <td>24.988999</td>\n",
       "      <td>30.084500</td>\n",
       "    </tr>\n",
       "    <tr>\n",
       "      <th>secondary_cleaner.state.floatbank4_a_level</th>\n",
       "      <td>4859.0</td>\n",
       "      <td>-488.665140</td>\n",
       "      <td>44.392714</td>\n",
       "      <td>-7.997050e+02</td>\n",
       "      <td>-500.704004</td>\n",
       "      <td>-499.892919</td>\n",
       "      <td>-498.652030</td>\n",
       "      <td>-383.373053</td>\n",
       "    </tr>\n",
       "    <tr>\n",
       "      <th>secondary_cleaner.state.floatbank4_b_air</th>\n",
       "      <td>4859.0</td>\n",
       "      <td>15.570248</td>\n",
       "      <td>4.927361</td>\n",
       "      <td>2.489718e-17</td>\n",
       "      <td>12.021716</td>\n",
       "      <td>15.012395</td>\n",
       "      <td>19.999489</td>\n",
       "      <td>23.988976</td>\n",
       "    </tr>\n",
       "    <tr>\n",
       "      <th>secondary_cleaner.state.floatbank4_b_level</th>\n",
       "      <td>4859.0</td>\n",
       "      <td>-464.176507</td>\n",
       "      <td>65.706994</td>\n",
       "      <td>-7.998608e+02</td>\n",
       "      <td>-500.196517</td>\n",
       "      <td>-499.540776</td>\n",
       "      <td>-400.302329</td>\n",
       "      <td>-114.250832</td>\n",
       "    </tr>\n",
       "    <tr>\n",
       "      <th>secondary_cleaner.state.floatbank5_a_air</th>\n",
       "      <td>4859.0</td>\n",
       "      <td>16.594103</td>\n",
       "      <td>5.724305</td>\n",
       "      <td>-3.714983e-01</td>\n",
       "      <td>11.073822</td>\n",
       "      <td>16.631195</td>\n",
       "      <td>19.983191</td>\n",
       "      <td>33.215996</td>\n",
       "    </tr>\n",
       "    <tr>\n",
       "      <th>secondary_cleaner.state.floatbank5_a_level</th>\n",
       "      <td>4859.0</td>\n",
       "      <td>-490.815250</td>\n",
       "      <td>32.258443</td>\n",
       "      <td>-7.971425e+02</td>\n",
       "      <td>-500.483564</td>\n",
       "      <td>-499.873136</td>\n",
       "      <td>-498.852815</td>\n",
       "      <td>-288.963521</td>\n",
       "    </tr>\n",
       "    <tr>\n",
       "      <th>secondary_cleaner.state.floatbank5_b_air</th>\n",
       "      <td>4859.0</td>\n",
       "      <td>12.945971</td>\n",
       "      <td>5.533176</td>\n",
       "      <td>1.358469e+00</td>\n",
       "      <td>9.011890</td>\n",
       "      <td>11.999417</td>\n",
       "      <td>15.004198</td>\n",
       "      <td>24.177106</td>\n",
       "    </tr>\n",
       "    <tr>\n",
       "      <th>secondary_cleaner.state.floatbank5_b_level</th>\n",
       "      <td>4859.0</td>\n",
       "      <td>-489.583564</td>\n",
       "      <td>37.084609</td>\n",
       "      <td>-8.000062e+02</td>\n",
       "      <td>-500.129913</td>\n",
       "      <td>-499.955304</td>\n",
       "      <td>-499.643776</td>\n",
       "      <td>-141.934397</td>\n",
       "    </tr>\n",
       "    <tr>\n",
       "      <th>secondary_cleaner.state.floatbank6_a_air</th>\n",
       "      <td>4859.0</td>\n",
       "      <td>19.053888</td>\n",
       "      <td>5.548996</td>\n",
       "      <td>1.603862e-01</td>\n",
       "      <td>14.963953</td>\n",
       "      <td>19.960006</td>\n",
       "      <td>24.974583</td>\n",
       "      <td>32.028529</td>\n",
       "    </tr>\n",
       "    <tr>\n",
       "      <th>secondary_cleaner.state.floatbank6_a_level</th>\n",
       "      <td>4859.0</td>\n",
       "      <td>-504.678924</td>\n",
       "      <td>38.690186</td>\n",
       "      <td>-8.097348e+02</td>\n",
       "      <td>-500.668501</td>\n",
       "      <td>-500.033769</td>\n",
       "      <td>-499.460134</td>\n",
       "      <td>-104.427459</td>\n",
       "    </tr>\n",
       "  </tbody>\n",
       "</table>\n",
       "</div>"
      ],
      "text/plain": [
       "                                             count         mean         std  \\\n",
       "rougher.input.feed_au                       4860.0     8.005584    1.993590   \n",
       "rougher.input.feed_ag                       4860.0     8.547348    1.958601   \n",
       "rougher.input.feed_pb                       4832.0     3.579662    1.029377   \n",
       "rougher.input.feed_sol                      4838.0    37.095864    4.926284   \n",
       "rougher.input.feed_rate                     4856.0   490.285103   94.371623   \n",
       "rougher.input.feed_size                     4816.0    59.113400   19.125122   \n",
       "rougher.input.floatbank10_sulfate           4857.0    12.055735    3.407642   \n",
       "rougher.input.floatbank10_xanthate          4859.0     6.101308    1.042754   \n",
       "rougher.state.floatbank10_a_air             4859.0  1108.635895  156.493143   \n",
       "rougher.state.floatbank10_a_level           4859.0  -368.340127   91.155929   \n",
       "rougher.state.floatbank10_b_air             4859.0  1312.346061  159.001709   \n",
       "rougher.state.floatbank10_b_level           4859.0  -472.506533   49.376824   \n",
       "rougher.state.floatbank10_c_air             4859.0  1291.638282  180.203670   \n",
       "rougher.state.floatbank10_c_level           4859.0  -472.902514   47.611728   \n",
       "rougher.state.floatbank10_d_air             4860.0  1204.066585  184.547737   \n",
       "rougher.state.floatbank10_d_level           4860.0  -473.380689   47.828848   \n",
       "rougher.state.floatbank10_e_air             4853.0  1075.304980  159.989533   \n",
       "rougher.state.floatbank10_e_level           4860.0  -471.465792   51.413832   \n",
       "rougher.state.floatbank10_f_air             4860.0  1023.769668  147.827669   \n",
       "rougher.state.floatbank10_f_level           4860.0  -471.412834   51.838763   \n",
       "rougher.input.floatbank11_sulfate           4852.0    11.969074    3.456113   \n",
       "rougher.input.floatbank11_xanthate          4814.0     6.119323    1.049065   \n",
       "primary_cleaner.input.sulfate               4859.0   143.201672   42.360060   \n",
       "primary_cleaner.input.depressant            4851.0     8.692446    3.169592   \n",
       "primary_cleaner.input.feed_size             4860.0     7.305514    0.588602   \n",
       "primary_cleaner.input.xanthate              4817.0     1.007577    0.494669   \n",
       "primary_cleaner.state.floatbank8_a_air      4859.0  1588.387039  124.942960   \n",
       "primary_cleaner.state.floatbank8_a_level    4859.0  -488.223175   36.672631   \n",
       "primary_cleaner.state.floatbank8_b_air      4859.0  1589.297134  132.102797   \n",
       "primary_cleaner.state.floatbank8_b_level    4859.0  -490.255893   35.203702   \n",
       "primary_cleaner.state.floatbank8_c_air      4858.0  1588.905465  132.689236   \n",
       "primary_cleaner.state.floatbank8_c_level    4859.0  -489.741555   33.650676   \n",
       "primary_cleaner.state.floatbank8_d_air      4858.0  1530.287801  256.268884   \n",
       "primary_cleaner.state.floatbank8_d_level    4859.0  -485.896489   43.296128   \n",
       "secondary_cleaner.state.floatbank2_a_air    4734.0    29.488451    5.357783   \n",
       "secondary_cleaner.state.floatbank2_a_level  4859.0  -499.504602   43.284386   \n",
       "secondary_cleaner.state.floatbank2_b_air    4859.0    24.732293    5.484220   \n",
       "secondary_cleaner.state.floatbank2_b_level  4859.0  -499.556727   43.619785   \n",
       "secondary_cleaner.state.floatbank3_a_air    4859.0    28.896472    6.159087   \n",
       "secondary_cleaner.state.floatbank3_a_level  4859.0  -489.475315   51.827314   \n",
       "secondary_cleaner.state.floatbank3_b_air    4859.0    22.632725    5.456797   \n",
       "secondary_cleaner.state.floatbank3_b_level  4859.0  -494.765779   40.681493   \n",
       "secondary_cleaner.state.floatbank4_a_air    4859.0    19.857704    5.913105   \n",
       "secondary_cleaner.state.floatbank4_a_level  4859.0  -488.665140   44.392714   \n",
       "secondary_cleaner.state.floatbank4_b_air    4859.0    15.570248    4.927361   \n",
       "secondary_cleaner.state.floatbank4_b_level  4859.0  -464.176507   65.706994   \n",
       "secondary_cleaner.state.floatbank5_a_air    4859.0    16.594103    5.724305   \n",
       "secondary_cleaner.state.floatbank5_a_level  4859.0  -490.815250   32.258443   \n",
       "secondary_cleaner.state.floatbank5_b_air    4859.0    12.945971    5.533176   \n",
       "secondary_cleaner.state.floatbank5_b_level  4859.0  -489.583564   37.084609   \n",
       "secondary_cleaner.state.floatbank6_a_air    4859.0    19.053888    5.548996   \n",
       "secondary_cleaner.state.floatbank6_a_level  4859.0  -504.678924   38.690186   \n",
       "\n",
       "                                                     min          25%  \\\n",
       "rougher.input.feed_au                       1.000000e-02     6.574363   \n",
       "rougher.input.feed_ag                       1.000000e-02     6.975898   \n",
       "rougher.input.feed_pb                       1.000000e-02     2.903612   \n",
       "rougher.input.feed_sol                      1.000000e-02    34.510841   \n",
       "rougher.input.feed_rate                     1.278570e-02   434.099695   \n",
       "rougher.input.feed_size                     4.636880e-02    47.596984   \n",
       "rougher.input.floatbank10_sulfate           1.890695e-02     9.890429   \n",
       "rougher.input.floatbank10_xanthate          1.578303e-02     5.499808   \n",
       "rougher.state.floatbank10_a_air             3.007925e+02   999.715729   \n",
       "rougher.state.floatbank10_a_level          -6.005681e+02  -499.731972   \n",
       "rougher.state.floatbank10_b_air             7.676566e+02  1199.741605   \n",
       "rougher.state.floatbank10_b_level          -6.499975e+02  -500.218827   \n",
       "rougher.state.floatbank10_c_air             8.315379e+02  1152.401989   \n",
       "rougher.state.floatbank10_c_level          -5.526570e+02  -500.226269   \n",
       "rougher.state.floatbank10_d_air             7.062819e+02  1061.682494   \n",
       "rougher.state.floatbank10_d_level          -6.481184e+02  -500.441025   \n",
       "rougher.state.floatbank10_e_air             6.952118e+02   998.898177   \n",
       "rougher.state.floatbank10_e_level          -5.989261e+02  -500.266939   \n",
       "rougher.state.floatbank10_f_air             5.396339e+02   949.042067   \n",
       "rougher.state.floatbank10_f_level          -6.493762e+02  -500.534825   \n",
       "rougher.input.floatbank11_sulfate           1.627663e-04     9.822314   \n",
       "rougher.input.floatbank11_xanthate          2.615756e-03     5.500412   \n",
       "primary_cleaner.input.sulfate               7.329299e+00   113.293698   \n",
       "primary_cleaner.input.depressant            0.000000e+00     6.042793   \n",
       "primary_cleaner.input.feed_size             4.970000e+00     6.940000   \n",
       "primary_cleaner.input.xanthate              1.543956e-04     0.700367   \n",
       "primary_cleaner.state.floatbank8_a_air      3.142412e+02  1505.500055   \n",
       "primary_cleaner.state.floatbank8_a_level   -6.534776e+02  -500.272366   \n",
       "primary_cleaner.state.floatbank8_b_air      3.199595e+02  1502.105380   \n",
       "primary_cleaner.state.floatbank8_b_level   -7.992608e+02  -500.422211   \n",
       "primary_cleaner.state.floatbank8_c_air      2.735368e+02  1501.205202   \n",
       "primary_cleaner.state.floatbank8_c_level   -7.092138e+02  -500.676713   \n",
       "primary_cleaner.state.floatbank8_d_air      1.313217e+02  1450.605949   \n",
       "primary_cleaner.state.floatbank8_d_level   -7.997916e+02  -500.438064   \n",
       "secondary_cleaner.state.floatbank2_a_air    1.220129e-01    25.116334   \n",
       "secondary_cleaner.state.floatbank2_a_level -7.996064e+02  -500.215499   \n",
       "secondary_cleaner.state.floatbank2_b_air    0.000000e+00    22.038700   \n",
       "secondary_cleaner.state.floatbank2_b_level -7.998739e+02  -500.223223   \n",
       "secondary_cleaner.state.floatbank3_a_air    1.957942e-17    24.979890   \n",
       "secondary_cleaner.state.floatbank3_a_level -7.995753e+02  -500.211535   \n",
       "secondary_cleaner.state.floatbank3_b_air    1.521587e-17    19.011791   \n",
       "secondary_cleaner.state.floatbank3_b_level -7.587644e+02  -500.120286   \n",
       "secondary_cleaner.state.floatbank4_a_air    1.079872e-16    15.011226   \n",
       "secondary_cleaner.state.floatbank4_a_level -7.997050e+02  -500.704004   \n",
       "secondary_cleaner.state.floatbank4_b_air    2.489718e-17    12.021716   \n",
       "secondary_cleaner.state.floatbank4_b_level -7.998608e+02  -500.196517   \n",
       "secondary_cleaner.state.floatbank5_a_air   -3.714983e-01    11.073822   \n",
       "secondary_cleaner.state.floatbank5_a_level -7.971425e+02  -500.483564   \n",
       "secondary_cleaner.state.floatbank5_b_air    1.358469e+00     9.011890   \n",
       "secondary_cleaner.state.floatbank5_b_level -8.000062e+02  -500.129913   \n",
       "secondary_cleaner.state.floatbank6_a_air    1.603862e-01    14.963953   \n",
       "secondary_cleaner.state.floatbank6_a_level -8.097348e+02  -500.668501   \n",
       "\n",
       "                                                    50%          75%  \\\n",
       "rougher.input.feed_au                          7.812923     9.556589   \n",
       "rougher.input.feed_ag                          8.179714    10.084339   \n",
       "rougher.input.feed_pb                          3.540772     4.199847   \n",
       "rougher.input.feed_sol                        37.499761    40.461315   \n",
       "rougher.input.feed_rate                      502.118742   555.596563   \n",
       "rougher.input.feed_size                       55.509481    66.661547   \n",
       "rougher.input.floatbank10_sulfate             11.997859    14.496072   \n",
       "rougher.input.floatbank10_xanthate             6.099805     6.802101   \n",
       "rougher.state.floatbank10_a_air             1001.414798  1202.837565   \n",
       "rougher.state.floatbank10_a_level           -300.181367  -299.961547   \n",
       "rougher.state.floatbank10_b_air             1300.278835  1401.691789   \n",
       "rougher.state.floatbank10_b_level           -499.827934  -449.925513   \n",
       "rougher.state.floatbank10_c_air             1299.411789  1401.933884   \n",
       "rougher.state.floatbank10_c_level           -499.761855  -449.662583   \n",
       "rougher.state.floatbank10_d_air             1200.337639  1307.300990   \n",
       "rougher.state.floatbank10_d_level           -499.597033  -449.938278   \n",
       "rougher.state.floatbank10_e_air             1049.897439  1199.145824   \n",
       "rougher.state.floatbank10_e_level           -499.715147  -449.384744   \n",
       "rougher.state.floatbank10_f_air             1000.060464  1099.460790   \n",
       "rougher.state.floatbank10_f_level           -499.537041  -448.211283   \n",
       "rougher.input.floatbank11_sulfate             11.995907    14.216091   \n",
       "rougher.input.floatbank11_xanthate             6.101665     6.833554   \n",
       "primary_cleaner.input.sulfate                139.573692   170.743180   \n",
       "primary_cleaner.input.depressant               8.007390    10.613209   \n",
       "primary_cleaner.input.feed_size                7.290000     7.630000   \n",
       "primary_cleaner.input.xanthate                 0.908749     1.198047   \n",
       "primary_cleaner.state.floatbank8_a_air      1600.364401  1696.676142   \n",
       "primary_cleaner.state.floatbank8_a_level    -499.893821  -499.369738   \n",
       "primary_cleaner.state.floatbank8_b_air      1600.363829  1699.429311   \n",
       "primary_cleaner.state.floatbank8_b_level    -499.938871  -499.331088   \n",
       "primary_cleaner.state.floatbank8_c_air      1600.315592  1699.483983   \n",
       "primary_cleaner.state.floatbank8_c_level    -499.894721  -498.699191   \n",
       "primary_cleaner.state.floatbank8_d_air      1599.224868  1698.766720   \n",
       "primary_cleaner.state.floatbank8_d_level    -499.857201  -498.747352   \n",
       "secondary_cleaner.state.floatbank2_a_air      29.954667    34.064460   \n",
       "secondary_cleaner.state.floatbank2_a_level  -499.966865  -499.678638   \n",
       "secondary_cleaner.state.floatbank2_b_air      26.880506    28.045077   \n",
       "secondary_cleaner.state.floatbank2_b_level  -500.010504  -499.783594   \n",
       "secondary_cleaner.state.floatbank3_a_air      28.021079    33.985458   \n",
       "secondary_cleaner.state.floatbank3_a_level  -499.952220  -499.525249   \n",
       "secondary_cleaner.state.floatbank3_b_air      22.969896    26.984159   \n",
       "secondary_cleaner.state.floatbank3_b_level  -499.983839  -499.824376   \n",
       "secondary_cleaner.state.floatbank4_a_air      19.968066    24.988999   \n",
       "secondary_cleaner.state.floatbank4_a_level  -499.892919  -498.652030   \n",
       "secondary_cleaner.state.floatbank4_b_air      15.012395    19.999489   \n",
       "secondary_cleaner.state.floatbank4_b_level  -499.540776  -400.302329   \n",
       "secondary_cleaner.state.floatbank5_a_air      16.631195    19.983191   \n",
       "secondary_cleaner.state.floatbank5_a_level  -499.873136  -498.852815   \n",
       "secondary_cleaner.state.floatbank5_b_air      11.999417    15.004198   \n",
       "secondary_cleaner.state.floatbank5_b_level  -499.955304  -499.643776   \n",
       "secondary_cleaner.state.floatbank6_a_air      19.960006    24.974583   \n",
       "secondary_cleaner.state.floatbank6_a_level  -500.033769  -499.460134   \n",
       "\n",
       "                                                    max  \n",
       "rougher.input.feed_au                         13.417156  \n",
       "rougher.input.feed_ag                         14.533698  \n",
       "rougher.input.feed_pb                          7.142594  \n",
       "rougher.input.feed_sol                        53.477742  \n",
       "rougher.input.feed_rate                      702.523396  \n",
       "rougher.input.feed_size                      363.989699  \n",
       "rougher.input.floatbank10_sulfate             30.010759  \n",
       "rougher.input.floatbank10_xanthate             9.396928  \n",
       "rougher.state.floatbank10_a_air             1521.980372  \n",
       "rougher.state.floatbank10_a_level           -281.039299  \n",
       "rougher.state.floatbank10_b_air             1802.528564  \n",
       "rougher.state.floatbank10_b_level           -298.836629  \n",
       "rougher.state.floatbank10_c_air             2498.873242  \n",
       "rougher.state.floatbank10_c_level           -298.588757  \n",
       "rougher.state.floatbank10_d_air             1801.712957  \n",
       "rougher.state.floatbank10_d_level           -296.591110  \n",
       "rougher.state.floatbank10_e_air             1701.253009  \n",
       "rougher.state.floatbank10_e_level           -296.129173  \n",
       "rougher.state.floatbank10_f_air             1702.383848  \n",
       "rougher.state.floatbank10_f_level           -286.375117  \n",
       "rougher.input.floatbank11_sulfate             30.006511  \n",
       "rougher.input.floatbank11_xanthate             9.401928  \n",
       "primary_cleaner.input.sulfate                262.531502  \n",
       "primary_cleaner.input.depressant              20.052255  \n",
       "primary_cleaner.input.feed_size                9.630000  \n",
       "primary_cleaner.input.xanthate                 3.999060  \n",
       "primary_cleaner.state.floatbank8_a_air      2079.531340  \n",
       "primary_cleaner.state.floatbank8_a_level    -330.134203  \n",
       "primary_cleaner.state.floatbank8_b_air      1825.491263  \n",
       "primary_cleaner.state.floatbank8_b_level    -339.751525  \n",
       "primary_cleaner.state.floatbank8_c_air      1847.621932  \n",
       "primary_cleaner.state.floatbank8_c_level    -290.845404  \n",
       "primary_cleaner.state.floatbank8_d_air      2398.888373  \n",
       "primary_cleaner.state.floatbank8_d_level    -107.595099  \n",
       "secondary_cleaner.state.floatbank2_a_air      48.822781  \n",
       "secondary_cleaner.state.floatbank2_a_level  -207.038839  \n",
       "secondary_cleaner.state.floatbank2_b_air      35.019409  \n",
       "secondary_cleaner.state.floatbank2_b_level  -216.660814  \n",
       "secondary_cleaner.state.floatbank3_a_air      44.011389  \n",
       "secondary_cleaner.state.floatbank3_a_level  -246.396324  \n",
       "secondary_cleaner.state.floatbank3_b_air      35.051488  \n",
       "secondary_cleaner.state.floatbank3_b_level  -195.458545  \n",
       "secondary_cleaner.state.floatbank4_a_air      30.084500  \n",
       "secondary_cleaner.state.floatbank4_a_level  -383.373053  \n",
       "secondary_cleaner.state.floatbank4_b_air      23.988976  \n",
       "secondary_cleaner.state.floatbank4_b_level  -114.250832  \n",
       "secondary_cleaner.state.floatbank5_a_air      33.215996  \n",
       "secondary_cleaner.state.floatbank5_a_level  -288.963521  \n",
       "secondary_cleaner.state.floatbank5_b_air      24.177106  \n",
       "secondary_cleaner.state.floatbank5_b_level  -141.934397  \n",
       "secondary_cleaner.state.floatbank6_a_air      32.028529  \n",
       "secondary_cleaner.state.floatbank6_a_level  -104.427459  "
      ]
     },
     "execution_count": 6,
     "metadata": {},
     "output_type": "execute_result"
    }
   ],
   "source": [
    "data_test.describe().T"
   ]
  },
  {
   "cell_type": "code",
   "execution_count": 7,
   "metadata": {},
   "outputs": [
    {
     "name": "stdout",
     "output_type": "stream",
     "text": [
      "<class 'pandas.core.frame.DataFrame'>\n",
      "RangeIndex: 19439 entries, 0 to 19438\n",
      "Data columns (total 87 columns):\n",
      " #   Column                                              Non-Null Count  Dtype  \n",
      "---  ------                                              --------------  -----  \n",
      " 0   date                                                19439 non-null  object \n",
      " 1   rougher.input.feed_au                               19439 non-null  float64\n",
      " 2   rougher.input.feed_ag                               19439 non-null  float64\n",
      " 3   rougher.input.feed_pb                               19339 non-null  float64\n",
      " 4   rougher.input.feed_sol                              19340 non-null  float64\n",
      " 5   rougher.input.feed_rate                             19428 non-null  float64\n",
      " 6   rougher.input.feed_size                             19294 non-null  float64\n",
      " 7   rougher.input.floatbank10_sulfate                   19405 non-null  float64\n",
      " 8   rougher.input.floatbank10_xanthate                  19431 non-null  float64\n",
      " 9   rougher.state.floatbank10_a_air                     19438 non-null  float64\n",
      " 10  rougher.state.floatbank10_a_level                   19438 non-null  float64\n",
      " 11  rougher.state.floatbank10_b_air                     19438 non-null  float64\n",
      " 12  rougher.state.floatbank10_b_level                   19438 non-null  float64\n",
      " 13  rougher.state.floatbank10_c_air                     19438 non-null  float64\n",
      " 14  rougher.state.floatbank10_c_level                   19438 non-null  float64\n",
      " 15  rougher.state.floatbank10_d_air                     19439 non-null  float64\n",
      " 16  rougher.state.floatbank10_d_level                   19439 non-null  float64\n",
      " 17  rougher.state.floatbank10_e_air                     19003 non-null  float64\n",
      " 18  rougher.state.floatbank10_e_level                   19439 non-null  float64\n",
      " 19  rougher.state.floatbank10_f_air                     19439 non-null  float64\n",
      " 20  rougher.state.floatbank10_f_level                   19439 non-null  float64\n",
      " 21  rougher.input.floatbank11_sulfate                   19395 non-null  float64\n",
      " 22  rougher.input.floatbank11_xanthate                  18986 non-null  float64\n",
      " 23  rougher.calculation.sulfate_to_au_concentrate       19437 non-null  float64\n",
      " 24  rougher.calculation.floatbank10_sulfate_to_au_feed  19437 non-null  float64\n",
      " 25  rougher.calculation.floatbank11_sulfate_to_au_feed  19437 non-null  float64\n",
      " 26  rougher.calculation.au_pb_ratio                     19439 non-null  float64\n",
      " 27  rougher.output.concentrate_au                       19439 non-null  float64\n",
      " 28  rougher.output.concentrate_ag                       19439 non-null  float64\n",
      " 29  rougher.output.concentrate_pb                       19439 non-null  float64\n",
      " 30  rougher.output.concentrate_sol                      19416 non-null  float64\n",
      " 31  rougher.output.recovery                             19439 non-null  float64\n",
      " 32  rougher.output.tail_au                              19439 non-null  float64\n",
      " 33  rougher.output.tail_ag                              19438 non-null  float64\n",
      " 34  rougher.output.tail_pb                              19439 non-null  float64\n",
      " 35  rougher.output.tail_sol                             19439 non-null  float64\n",
      " 36  primary_cleaner.input.sulfate                       19415 non-null  float64\n",
      " 37  primary_cleaner.input.depressant                    19402 non-null  float64\n",
      " 38  primary_cleaner.input.feed_size                     19439 non-null  float64\n",
      " 39  primary_cleaner.input.xanthate                      19335 non-null  float64\n",
      " 40  primary_cleaner.state.floatbank8_a_air              19435 non-null  float64\n",
      " 41  primary_cleaner.state.floatbank8_a_level            19438 non-null  float64\n",
      " 42  primary_cleaner.state.floatbank8_b_air              19435 non-null  float64\n",
      " 43  primary_cleaner.state.floatbank8_b_level            19438 non-null  float64\n",
      " 44  primary_cleaner.state.floatbank8_c_air              19437 non-null  float64\n",
      " 45  primary_cleaner.state.floatbank8_c_level            19438 non-null  float64\n",
      " 46  primary_cleaner.state.floatbank8_d_air              19436 non-null  float64\n",
      " 47  primary_cleaner.state.floatbank8_d_level            19438 non-null  float64\n",
      " 48  primary_cleaner.output.concentrate_au               19439 non-null  float64\n",
      " 49  primary_cleaner.output.concentrate_ag               19439 non-null  float64\n",
      " 50  primary_cleaner.output.concentrate_pb               19323 non-null  float64\n",
      " 51  primary_cleaner.output.concentrate_sol              19069 non-null  float64\n",
      " 52  primary_cleaner.output.tail_au                      19439 non-null  float64\n",
      " 53  primary_cleaner.output.tail_ag                      19435 non-null  float64\n",
      " 54  primary_cleaner.output.tail_pb                      19418 non-null  float64\n",
      " 55  primary_cleaner.output.tail_sol                     19377 non-null  float64\n",
      " 56  secondary_cleaner.state.floatbank2_a_air            19219 non-null  float64\n",
      " 57  secondary_cleaner.state.floatbank2_a_level          19438 non-null  float64\n",
      " 58  secondary_cleaner.state.floatbank2_b_air            19416 non-null  float64\n",
      " 59  secondary_cleaner.state.floatbank2_b_level          19438 non-null  float64\n",
      " 60  secondary_cleaner.state.floatbank3_a_air            19426 non-null  float64\n",
      " 61  secondary_cleaner.state.floatbank3_a_level          19438 non-null  float64\n",
      " 62  secondary_cleaner.state.floatbank3_b_air            19438 non-null  float64\n",
      " 63  secondary_cleaner.state.floatbank3_b_level          19438 non-null  float64\n",
      " 64  secondary_cleaner.state.floatbank4_a_air            19433 non-null  float64\n",
      " 65  secondary_cleaner.state.floatbank4_a_level          19438 non-null  float64\n",
      " 66  secondary_cleaner.state.floatbank4_b_air            19438 non-null  float64\n",
      " 67  secondary_cleaner.state.floatbank4_b_level          19438 non-null  float64\n",
      " 68  secondary_cleaner.state.floatbank5_a_air            19438 non-null  float64\n",
      " 69  secondary_cleaner.state.floatbank5_a_level          19438 non-null  float64\n",
      " 70  secondary_cleaner.state.floatbank5_b_air            19438 non-null  float64\n",
      " 71  secondary_cleaner.state.floatbank5_b_level          19438 non-null  float64\n",
      " 72  secondary_cleaner.state.floatbank6_a_air            19437 non-null  float64\n",
      " 73  secondary_cleaner.state.floatbank6_a_level          19438 non-null  float64\n",
      " 74  secondary_cleaner.output.tail_au                    19439 non-null  float64\n",
      " 75  secondary_cleaner.output.tail_ag                    19437 non-null  float64\n",
      " 76  secondary_cleaner.output.tail_pb                    19427 non-null  float64\n",
      " 77  secondary_cleaner.output.tail_sol                   17691 non-null  float64\n",
      " 78  final.output.concentrate_au                         19439 non-null  float64\n",
      " 79  final.output.concentrate_ag                         19438 non-null  float64\n",
      " 80  final.output.concentrate_pb                         19438 non-null  float64\n",
      " 81  final.output.concentrate_sol                        19228 non-null  float64\n",
      " 82  final.output.recovery                               19439 non-null  float64\n",
      " 83  final.output.tail_au                                19439 non-null  float64\n",
      " 84  final.output.tail_ag                                19438 non-null  float64\n",
      " 85  final.output.tail_pb                                19338 non-null  float64\n",
      " 86  final.output.tail_sol                               19433 non-null  float64\n",
      "dtypes: float64(86), object(1)\n",
      "memory usage: 12.9+ MB\n"
     ]
    }
   ],
   "source": [
    "data_full.info()"
   ]
  },
  {
   "cell_type": "code",
   "execution_count": 8,
   "metadata": {},
   "outputs": [
    {
     "name": "stdout",
     "output_type": "stream",
     "text": [
      "<class 'pandas.core.frame.DataFrame'>\n",
      "RangeIndex: 14579 entries, 0 to 14578\n",
      "Data columns (total 87 columns):\n",
      " #   Column                                              Non-Null Count  Dtype  \n",
      "---  ------                                              --------------  -----  \n",
      " 0   date                                                14579 non-null  object \n",
      " 1   rougher.input.feed_au                               14579 non-null  float64\n",
      " 2   rougher.input.feed_ag                               14579 non-null  float64\n",
      " 3   rougher.input.feed_pb                               14507 non-null  float64\n",
      " 4   rougher.input.feed_sol                              14502 non-null  float64\n",
      " 5   rougher.input.feed_rate                             14572 non-null  float64\n",
      " 6   rougher.input.feed_size                             14478 non-null  float64\n",
      " 7   rougher.input.floatbank10_sulfate                   14548 non-null  float64\n",
      " 8   rougher.input.floatbank10_xanthate                  14572 non-null  float64\n",
      " 9   rougher.state.floatbank10_a_air                     14579 non-null  float64\n",
      " 10  rougher.state.floatbank10_a_level                   14579 non-null  float64\n",
      " 11  rougher.state.floatbank10_b_air                     14579 non-null  float64\n",
      " 12  rougher.state.floatbank10_b_level                   14579 non-null  float64\n",
      " 13  rougher.state.floatbank10_c_air                     14579 non-null  float64\n",
      " 14  rougher.state.floatbank10_c_level                   14579 non-null  float64\n",
      " 15  rougher.state.floatbank10_d_air                     14579 non-null  float64\n",
      " 16  rougher.state.floatbank10_d_level                   14579 non-null  float64\n",
      " 17  rougher.state.floatbank10_e_air                     14150 non-null  float64\n",
      " 18  rougher.state.floatbank10_e_level                   14579 non-null  float64\n",
      " 19  rougher.state.floatbank10_f_air                     14579 non-null  float64\n",
      " 20  rougher.state.floatbank10_f_level                   14579 non-null  float64\n",
      " 21  rougher.input.floatbank11_sulfate                   14543 non-null  float64\n",
      " 22  rougher.input.floatbank11_xanthate                  14172 non-null  float64\n",
      " 23  rougher.calculation.sulfate_to_au_concentrate       14578 non-null  float64\n",
      " 24  rougher.calculation.floatbank10_sulfate_to_au_feed  14578 non-null  float64\n",
      " 25  rougher.calculation.floatbank11_sulfate_to_au_feed  14578 non-null  float64\n",
      " 26  rougher.calculation.au_pb_ratio                     14579 non-null  float64\n",
      " 27  rougher.output.concentrate_au                       14579 non-null  float64\n",
      " 28  rougher.output.concentrate_ag                       14579 non-null  float64\n",
      " 29  rougher.output.concentrate_pb                       14579 non-null  float64\n",
      " 30  rougher.output.concentrate_sol                      14561 non-null  float64\n",
      " 31  rougher.output.recovery                             14579 non-null  float64\n",
      " 32  rougher.output.tail_au                              14579 non-null  float64\n",
      " 33  rougher.output.tail_ag                              14578 non-null  float64\n",
      " 34  rougher.output.tail_pb                              14579 non-null  float64\n",
      " 35  rougher.output.tail_sol                             14579 non-null  float64\n",
      " 36  primary_cleaner.input.sulfate                       14556 non-null  float64\n",
      " 37  primary_cleaner.input.depressant                    14551 non-null  float64\n",
      " 38  primary_cleaner.input.feed_size                     14579 non-null  float64\n",
      " 39  primary_cleaner.input.xanthate                      14518 non-null  float64\n",
      " 40  primary_cleaner.state.floatbank8_a_air              14576 non-null  float64\n",
      " 41  primary_cleaner.state.floatbank8_a_level            14579 non-null  float64\n",
      " 42  primary_cleaner.state.floatbank8_b_air              14576 non-null  float64\n",
      " 43  primary_cleaner.state.floatbank8_b_level            14579 non-null  float64\n",
      " 44  primary_cleaner.state.floatbank8_c_air              14579 non-null  float64\n",
      " 45  primary_cleaner.state.floatbank8_c_level            14579 non-null  float64\n",
      " 46  primary_cleaner.state.floatbank8_d_air              14578 non-null  float64\n",
      " 47  primary_cleaner.state.floatbank8_d_level            14579 non-null  float64\n",
      " 48  primary_cleaner.output.concentrate_au               14579 non-null  float64\n",
      " 49  primary_cleaner.output.concentrate_ag               14579 non-null  float64\n",
      " 50  primary_cleaner.output.concentrate_pb               14491 non-null  float64\n",
      " 51  primary_cleaner.output.concentrate_sol              14314 non-null  float64\n",
      " 52  primary_cleaner.output.tail_au                      14579 non-null  float64\n",
      " 53  primary_cleaner.output.tail_ag                      14575 non-null  float64\n",
      " 54  primary_cleaner.output.tail_pb                      14573 non-null  float64\n",
      " 55  primary_cleaner.output.tail_sol                     14534 non-null  float64\n",
      " 56  secondary_cleaner.state.floatbank2_a_air            14485 non-null  float64\n",
      " 57  secondary_cleaner.state.floatbank2_a_level          14579 non-null  float64\n",
      " 58  secondary_cleaner.state.floatbank2_b_air            14557 non-null  float64\n",
      " 59  secondary_cleaner.state.floatbank2_b_level          14579 non-null  float64\n",
      " 60  secondary_cleaner.state.floatbank3_a_air            14567 non-null  float64\n",
      " 61  secondary_cleaner.state.floatbank3_a_level          14579 non-null  float64\n",
      " 62  secondary_cleaner.state.floatbank3_b_air            14579 non-null  float64\n",
      " 63  secondary_cleaner.state.floatbank3_b_level          14579 non-null  float64\n",
      " 64  secondary_cleaner.state.floatbank4_a_air            14574 non-null  float64\n",
      " 65  secondary_cleaner.state.floatbank4_a_level          14579 non-null  float64\n",
      " 66  secondary_cleaner.state.floatbank4_b_air            14579 non-null  float64\n",
      " 67  secondary_cleaner.state.floatbank4_b_level          14579 non-null  float64\n",
      " 68  secondary_cleaner.state.floatbank5_a_air            14579 non-null  float64\n",
      " 69  secondary_cleaner.state.floatbank5_a_level          14579 non-null  float64\n",
      " 70  secondary_cleaner.state.floatbank5_b_air            14579 non-null  float64\n",
      " 71  secondary_cleaner.state.floatbank5_b_level          14579 non-null  float64\n",
      " 72  secondary_cleaner.state.floatbank6_a_air            14578 non-null  float64\n",
      " 73  secondary_cleaner.state.floatbank6_a_level          14579 non-null  float64\n",
      " 74  secondary_cleaner.output.tail_au                    14579 non-null  float64\n",
      " 75  secondary_cleaner.output.tail_ag                    14578 non-null  float64\n",
      " 76  secondary_cleaner.output.tail_pb                    14575 non-null  float64\n",
      " 77  secondary_cleaner.output.tail_sol                   13659 non-null  float64\n",
      " 78  final.output.concentrate_au                         14579 non-null  float64\n",
      " 79  final.output.concentrate_ag                         14578 non-null  float64\n",
      " 80  final.output.concentrate_pb                         14578 non-null  float64\n",
      " 81  final.output.concentrate_sol                        14387 non-null  float64\n",
      " 82  final.output.recovery                               14579 non-null  float64\n",
      " 83  final.output.tail_au                                14579 non-null  float64\n",
      " 84  final.output.tail_ag                                14578 non-null  float64\n",
      " 85  final.output.tail_pb                                14504 non-null  float64\n",
      " 86  final.output.tail_sol                               14574 non-null  float64\n",
      "dtypes: float64(86), object(1)\n",
      "memory usage: 9.7+ MB\n"
     ]
    }
   ],
   "source": [
    "data_train.info()"
   ]
  },
  {
   "cell_type": "code",
   "execution_count": 9,
   "metadata": {},
   "outputs": [
    {
     "name": "stdout",
     "output_type": "stream",
     "text": [
      "<class 'pandas.core.frame.DataFrame'>\n",
      "RangeIndex: 4860 entries, 0 to 4859\n",
      "Data columns (total 53 columns):\n",
      " #   Column                                      Non-Null Count  Dtype  \n",
      "---  ------                                      --------------  -----  \n",
      " 0   date                                        4860 non-null   object \n",
      " 1   rougher.input.feed_au                       4860 non-null   float64\n",
      " 2   rougher.input.feed_ag                       4860 non-null   float64\n",
      " 3   rougher.input.feed_pb                       4832 non-null   float64\n",
      " 4   rougher.input.feed_sol                      4838 non-null   float64\n",
      " 5   rougher.input.feed_rate                     4856 non-null   float64\n",
      " 6   rougher.input.feed_size                     4816 non-null   float64\n",
      " 7   rougher.input.floatbank10_sulfate           4857 non-null   float64\n",
      " 8   rougher.input.floatbank10_xanthate          4859 non-null   float64\n",
      " 9   rougher.state.floatbank10_a_air             4859 non-null   float64\n",
      " 10  rougher.state.floatbank10_a_level           4859 non-null   float64\n",
      " 11  rougher.state.floatbank10_b_air             4859 non-null   float64\n",
      " 12  rougher.state.floatbank10_b_level           4859 non-null   float64\n",
      " 13  rougher.state.floatbank10_c_air             4859 non-null   float64\n",
      " 14  rougher.state.floatbank10_c_level           4859 non-null   float64\n",
      " 15  rougher.state.floatbank10_d_air             4860 non-null   float64\n",
      " 16  rougher.state.floatbank10_d_level           4860 non-null   float64\n",
      " 17  rougher.state.floatbank10_e_air             4853 non-null   float64\n",
      " 18  rougher.state.floatbank10_e_level           4860 non-null   float64\n",
      " 19  rougher.state.floatbank10_f_air             4860 non-null   float64\n",
      " 20  rougher.state.floatbank10_f_level           4860 non-null   float64\n",
      " 21  rougher.input.floatbank11_sulfate           4852 non-null   float64\n",
      " 22  rougher.input.floatbank11_xanthate          4814 non-null   float64\n",
      " 23  primary_cleaner.input.sulfate               4859 non-null   float64\n",
      " 24  primary_cleaner.input.depressant            4851 non-null   float64\n",
      " 25  primary_cleaner.input.feed_size             4860 non-null   float64\n",
      " 26  primary_cleaner.input.xanthate              4817 non-null   float64\n",
      " 27  primary_cleaner.state.floatbank8_a_air      4859 non-null   float64\n",
      " 28  primary_cleaner.state.floatbank8_a_level    4859 non-null   float64\n",
      " 29  primary_cleaner.state.floatbank8_b_air      4859 non-null   float64\n",
      " 30  primary_cleaner.state.floatbank8_b_level    4859 non-null   float64\n",
      " 31  primary_cleaner.state.floatbank8_c_air      4858 non-null   float64\n",
      " 32  primary_cleaner.state.floatbank8_c_level    4859 non-null   float64\n",
      " 33  primary_cleaner.state.floatbank8_d_air      4858 non-null   float64\n",
      " 34  primary_cleaner.state.floatbank8_d_level    4859 non-null   float64\n",
      " 35  secondary_cleaner.state.floatbank2_a_air    4734 non-null   float64\n",
      " 36  secondary_cleaner.state.floatbank2_a_level  4859 non-null   float64\n",
      " 37  secondary_cleaner.state.floatbank2_b_air    4859 non-null   float64\n",
      " 38  secondary_cleaner.state.floatbank2_b_level  4859 non-null   float64\n",
      " 39  secondary_cleaner.state.floatbank3_a_air    4859 non-null   float64\n",
      " 40  secondary_cleaner.state.floatbank3_a_level  4859 non-null   float64\n",
      " 41  secondary_cleaner.state.floatbank3_b_air    4859 non-null   float64\n",
      " 42  secondary_cleaner.state.floatbank3_b_level  4859 non-null   float64\n",
      " 43  secondary_cleaner.state.floatbank4_a_air    4859 non-null   float64\n",
      " 44  secondary_cleaner.state.floatbank4_a_level  4859 non-null   float64\n",
      " 45  secondary_cleaner.state.floatbank4_b_air    4859 non-null   float64\n",
      " 46  secondary_cleaner.state.floatbank4_b_level  4859 non-null   float64\n",
      " 47  secondary_cleaner.state.floatbank5_a_air    4859 non-null   float64\n",
      " 48  secondary_cleaner.state.floatbank5_a_level  4859 non-null   float64\n",
      " 49  secondary_cleaner.state.floatbank5_b_air    4859 non-null   float64\n",
      " 50  secondary_cleaner.state.floatbank5_b_level  4859 non-null   float64\n",
      " 51  secondary_cleaner.state.floatbank6_a_air    4859 non-null   float64\n",
      " 52  secondary_cleaner.state.floatbank6_a_level  4859 non-null   float64\n",
      "dtypes: float64(52), object(1)\n",
      "memory usage: 2.0+ MB\n"
     ]
    }
   ],
   "source": [
    "data_test.info()"
   ]
  },
  {
   "cell_type": "code",
   "execution_count": 10,
   "metadata": {},
   "outputs": [
    {
     "data": {
      "text/plain": [
       "date                                                     0\n",
       "rougher.input.feed_au                                    0\n",
       "rougher.input.feed_ag                                    0\n",
       "rougher.input.feed_pb                                  100\n",
       "rougher.input.feed_sol                                  99\n",
       "rougher.input.feed_rate                                 11\n",
       "rougher.input.feed_size                                145\n",
       "rougher.input.floatbank10_sulfate                       34\n",
       "rougher.input.floatbank10_xanthate                       8\n",
       "rougher.state.floatbank10_a_air                          1\n",
       "rougher.state.floatbank10_a_level                        1\n",
       "rougher.state.floatbank10_b_air                          1\n",
       "rougher.state.floatbank10_b_level                        1\n",
       "rougher.state.floatbank10_c_air                          1\n",
       "rougher.state.floatbank10_c_level                        1\n",
       "rougher.state.floatbank10_d_air                          0\n",
       "rougher.state.floatbank10_d_level                        0\n",
       "rougher.state.floatbank10_e_air                        436\n",
       "rougher.state.floatbank10_e_level                        0\n",
       "rougher.state.floatbank10_f_air                          0\n",
       "rougher.state.floatbank10_f_level                        0\n",
       "rougher.input.floatbank11_sulfate                       44\n",
       "rougher.input.floatbank11_xanthate                     453\n",
       "rougher.calculation.sulfate_to_au_concentrate            2\n",
       "rougher.calculation.floatbank10_sulfate_to_au_feed       2\n",
       "rougher.calculation.floatbank11_sulfate_to_au_feed       2\n",
       "rougher.calculation.au_pb_ratio                          0\n",
       "rougher.output.concentrate_au                            0\n",
       "rougher.output.concentrate_ag                            0\n",
       "rougher.output.concentrate_pb                            0\n",
       "rougher.output.concentrate_sol                          23\n",
       "rougher.output.recovery                                  0\n",
       "rougher.output.tail_au                                   0\n",
       "rougher.output.tail_ag                                   1\n",
       "rougher.output.tail_pb                                   0\n",
       "rougher.output.tail_sol                                  0\n",
       "primary_cleaner.input.sulfate                           24\n",
       "primary_cleaner.input.depressant                        37\n",
       "primary_cleaner.input.feed_size                          0\n",
       "primary_cleaner.input.xanthate                         104\n",
       "primary_cleaner.state.floatbank8_a_air                   4\n",
       "primary_cleaner.state.floatbank8_a_level                 1\n",
       "primary_cleaner.state.floatbank8_b_air                   4\n",
       "primary_cleaner.state.floatbank8_b_level                 1\n",
       "primary_cleaner.state.floatbank8_c_air                   2\n",
       "primary_cleaner.state.floatbank8_c_level                 1\n",
       "primary_cleaner.state.floatbank8_d_air                   3\n",
       "primary_cleaner.state.floatbank8_d_level                 1\n",
       "primary_cleaner.output.concentrate_au                    0\n",
       "primary_cleaner.output.concentrate_ag                    0\n",
       "primary_cleaner.output.concentrate_pb                  116\n",
       "primary_cleaner.output.concentrate_sol                 370\n",
       "primary_cleaner.output.tail_au                           0\n",
       "primary_cleaner.output.tail_ag                           4\n",
       "primary_cleaner.output.tail_pb                          21\n",
       "primary_cleaner.output.tail_sol                         62\n",
       "secondary_cleaner.state.floatbank2_a_air               220\n",
       "secondary_cleaner.state.floatbank2_a_level               1\n",
       "secondary_cleaner.state.floatbank2_b_air                23\n",
       "secondary_cleaner.state.floatbank2_b_level               1\n",
       "secondary_cleaner.state.floatbank3_a_air                13\n",
       "secondary_cleaner.state.floatbank3_a_level               1\n",
       "secondary_cleaner.state.floatbank3_b_air                 1\n",
       "secondary_cleaner.state.floatbank3_b_level               1\n",
       "secondary_cleaner.state.floatbank4_a_air                 6\n",
       "secondary_cleaner.state.floatbank4_a_level               1\n",
       "secondary_cleaner.state.floatbank4_b_air                 1\n",
       "secondary_cleaner.state.floatbank4_b_level               1\n",
       "secondary_cleaner.state.floatbank5_a_air                 1\n",
       "secondary_cleaner.state.floatbank5_a_level               1\n",
       "secondary_cleaner.state.floatbank5_b_air                 1\n",
       "secondary_cleaner.state.floatbank5_b_level               1\n",
       "secondary_cleaner.state.floatbank6_a_air                 2\n",
       "secondary_cleaner.state.floatbank6_a_level               1\n",
       "secondary_cleaner.output.tail_au                         0\n",
       "secondary_cleaner.output.tail_ag                         2\n",
       "secondary_cleaner.output.tail_pb                        12\n",
       "secondary_cleaner.output.tail_sol                     1748\n",
       "final.output.concentrate_au                              0\n",
       "final.output.concentrate_ag                              1\n",
       "final.output.concentrate_pb                              1\n",
       "final.output.concentrate_sol                           211\n",
       "final.output.recovery                                    0\n",
       "final.output.tail_au                                     0\n",
       "final.output.tail_ag                                     1\n",
       "final.output.tail_pb                                   101\n",
       "final.output.tail_sol                                    6\n",
       "dtype: int64"
      ]
     },
     "execution_count": 10,
     "metadata": {},
     "output_type": "execute_result"
    }
   ],
   "source": [
    "data_full.isna().sum()"
   ]
  },
  {
   "cell_type": "code",
   "execution_count": 11,
   "metadata": {},
   "outputs": [
    {
     "data": {
      "text/plain": [
       "date                                                    0\n",
       "rougher.input.feed_au                                   0\n",
       "rougher.input.feed_ag                                   0\n",
       "rougher.input.feed_pb                                  72\n",
       "rougher.input.feed_sol                                 77\n",
       "rougher.input.feed_rate                                 7\n",
       "rougher.input.feed_size                               101\n",
       "rougher.input.floatbank10_sulfate                      31\n",
       "rougher.input.floatbank10_xanthate                      7\n",
       "rougher.state.floatbank10_a_air                         0\n",
       "rougher.state.floatbank10_a_level                       0\n",
       "rougher.state.floatbank10_b_air                         0\n",
       "rougher.state.floatbank10_b_level                       0\n",
       "rougher.state.floatbank10_c_air                         0\n",
       "rougher.state.floatbank10_c_level                       0\n",
       "rougher.state.floatbank10_d_air                         0\n",
       "rougher.state.floatbank10_d_level                       0\n",
       "rougher.state.floatbank10_e_air                       429\n",
       "rougher.state.floatbank10_e_level                       0\n",
       "rougher.state.floatbank10_f_air                         0\n",
       "rougher.state.floatbank10_f_level                       0\n",
       "rougher.input.floatbank11_sulfate                      36\n",
       "rougher.input.floatbank11_xanthate                    407\n",
       "rougher.calculation.sulfate_to_au_concentrate           1\n",
       "rougher.calculation.floatbank10_sulfate_to_au_feed      1\n",
       "rougher.calculation.floatbank11_sulfate_to_au_feed      1\n",
       "rougher.calculation.au_pb_ratio                         0\n",
       "rougher.output.concentrate_au                           0\n",
       "rougher.output.concentrate_ag                           0\n",
       "rougher.output.concentrate_pb                           0\n",
       "rougher.output.concentrate_sol                         18\n",
       "rougher.output.recovery                                 0\n",
       "rougher.output.tail_au                                  0\n",
       "rougher.output.tail_ag                                  1\n",
       "rougher.output.tail_pb                                  0\n",
       "rougher.output.tail_sol                                 0\n",
       "primary_cleaner.input.sulfate                          23\n",
       "primary_cleaner.input.depressant                       28\n",
       "primary_cleaner.input.feed_size                         0\n",
       "primary_cleaner.input.xanthate                         61\n",
       "primary_cleaner.state.floatbank8_a_air                  3\n",
       "primary_cleaner.state.floatbank8_a_level                0\n",
       "primary_cleaner.state.floatbank8_b_air                  3\n",
       "primary_cleaner.state.floatbank8_b_level                0\n",
       "primary_cleaner.state.floatbank8_c_air                  0\n",
       "primary_cleaner.state.floatbank8_c_level                0\n",
       "primary_cleaner.state.floatbank8_d_air                  1\n",
       "primary_cleaner.state.floatbank8_d_level                0\n",
       "primary_cleaner.output.concentrate_au                   0\n",
       "primary_cleaner.output.concentrate_ag                   0\n",
       "primary_cleaner.output.concentrate_pb                  88\n",
       "primary_cleaner.output.concentrate_sol                265\n",
       "primary_cleaner.output.tail_au                          0\n",
       "primary_cleaner.output.tail_ag                          4\n",
       "primary_cleaner.output.tail_pb                          6\n",
       "primary_cleaner.output.tail_sol                        45\n",
       "secondary_cleaner.state.floatbank2_a_air               94\n",
       "secondary_cleaner.state.floatbank2_a_level              0\n",
       "secondary_cleaner.state.floatbank2_b_air               22\n",
       "secondary_cleaner.state.floatbank2_b_level              0\n",
       "secondary_cleaner.state.floatbank3_a_air               12\n",
       "secondary_cleaner.state.floatbank3_a_level              0\n",
       "secondary_cleaner.state.floatbank3_b_air                0\n",
       "secondary_cleaner.state.floatbank3_b_level              0\n",
       "secondary_cleaner.state.floatbank4_a_air                5\n",
       "secondary_cleaner.state.floatbank4_a_level              0\n",
       "secondary_cleaner.state.floatbank4_b_air                0\n",
       "secondary_cleaner.state.floatbank4_b_level              0\n",
       "secondary_cleaner.state.floatbank5_a_air                0\n",
       "secondary_cleaner.state.floatbank5_a_level              0\n",
       "secondary_cleaner.state.floatbank5_b_air                0\n",
       "secondary_cleaner.state.floatbank5_b_level              0\n",
       "secondary_cleaner.state.floatbank6_a_air                1\n",
       "secondary_cleaner.state.floatbank6_a_level              0\n",
       "secondary_cleaner.output.tail_au                        0\n",
       "secondary_cleaner.output.tail_ag                        1\n",
       "secondary_cleaner.output.tail_pb                        4\n",
       "secondary_cleaner.output.tail_sol                     920\n",
       "final.output.concentrate_au                             0\n",
       "final.output.concentrate_ag                             1\n",
       "final.output.concentrate_pb                             1\n",
       "final.output.concentrate_sol                          192\n",
       "final.output.recovery                                   0\n",
       "final.output.tail_au                                    0\n",
       "final.output.tail_ag                                    1\n",
       "final.output.tail_pb                                   75\n",
       "final.output.tail_sol                                   5\n",
       "dtype: int64"
      ]
     },
     "execution_count": 11,
     "metadata": {},
     "output_type": "execute_result"
    }
   ],
   "source": [
    "data_train.isna().sum()"
   ]
  },
  {
   "cell_type": "code",
   "execution_count": 12,
   "metadata": {},
   "outputs": [
    {
     "data": {
      "text/plain": [
       "date                                            0\n",
       "rougher.input.feed_au                           0\n",
       "rougher.input.feed_ag                           0\n",
       "rougher.input.feed_pb                          28\n",
       "rougher.input.feed_sol                         22\n",
       "rougher.input.feed_rate                         4\n",
       "rougher.input.feed_size                        44\n",
       "rougher.input.floatbank10_sulfate               3\n",
       "rougher.input.floatbank10_xanthate              1\n",
       "rougher.state.floatbank10_a_air                 1\n",
       "rougher.state.floatbank10_a_level               1\n",
       "rougher.state.floatbank10_b_air                 1\n",
       "rougher.state.floatbank10_b_level               1\n",
       "rougher.state.floatbank10_c_air                 1\n",
       "rougher.state.floatbank10_c_level               1\n",
       "rougher.state.floatbank10_d_air                 0\n",
       "rougher.state.floatbank10_d_level               0\n",
       "rougher.state.floatbank10_e_air                 7\n",
       "rougher.state.floatbank10_e_level               0\n",
       "rougher.state.floatbank10_f_air                 0\n",
       "rougher.state.floatbank10_f_level               0\n",
       "rougher.input.floatbank11_sulfate               8\n",
       "rougher.input.floatbank11_xanthate             46\n",
       "primary_cleaner.input.sulfate                   1\n",
       "primary_cleaner.input.depressant                9\n",
       "primary_cleaner.input.feed_size                 0\n",
       "primary_cleaner.input.xanthate                 43\n",
       "primary_cleaner.state.floatbank8_a_air          1\n",
       "primary_cleaner.state.floatbank8_a_level        1\n",
       "primary_cleaner.state.floatbank8_b_air          1\n",
       "primary_cleaner.state.floatbank8_b_level        1\n",
       "primary_cleaner.state.floatbank8_c_air          2\n",
       "primary_cleaner.state.floatbank8_c_level        1\n",
       "primary_cleaner.state.floatbank8_d_air          2\n",
       "primary_cleaner.state.floatbank8_d_level        1\n",
       "secondary_cleaner.state.floatbank2_a_air      126\n",
       "secondary_cleaner.state.floatbank2_a_level      1\n",
       "secondary_cleaner.state.floatbank2_b_air        1\n",
       "secondary_cleaner.state.floatbank2_b_level      1\n",
       "secondary_cleaner.state.floatbank3_a_air        1\n",
       "secondary_cleaner.state.floatbank3_a_level      1\n",
       "secondary_cleaner.state.floatbank3_b_air        1\n",
       "secondary_cleaner.state.floatbank3_b_level      1\n",
       "secondary_cleaner.state.floatbank4_a_air        1\n",
       "secondary_cleaner.state.floatbank4_a_level      1\n",
       "secondary_cleaner.state.floatbank4_b_air        1\n",
       "secondary_cleaner.state.floatbank4_b_level      1\n",
       "secondary_cleaner.state.floatbank5_a_air        1\n",
       "secondary_cleaner.state.floatbank5_a_level      1\n",
       "secondary_cleaner.state.floatbank5_b_air        1\n",
       "secondary_cleaner.state.floatbank5_b_level      1\n",
       "secondary_cleaner.state.floatbank6_a_air        1\n",
       "secondary_cleaner.state.floatbank6_a_level      1\n",
       "dtype: int64"
      ]
     },
     "execution_count": 12,
     "metadata": {},
     "output_type": "execute_result"
    }
   ],
   "source": [
    "data_test.isna().sum()"
   ]
  },
  {
   "cell_type": "code",
   "execution_count": 13,
   "metadata": {},
   "outputs": [
    {
     "name": "stdout",
     "output_type": "stream",
     "text": [
      "0\n",
      "0\n",
      "0\n"
     ]
    }
   ],
   "source": [
    "print(data_full.duplicated().sum())\n",
    "print(data_train.duplicated().sum())\n",
    "print(data_test.duplicated().sum())"
   ]
  },
  {
   "cell_type": "code",
   "execution_count": 14,
   "metadata": {},
   "outputs": [
    {
     "name": "stdout",
     "output_type": "stream",
     "text": [
      "(394, 87)\n"
     ]
    },
    {
     "data": {
      "text/html": [
       "<div>\n",
       "<style scoped>\n",
       "    .dataframe tbody tr th:only-of-type {\n",
       "        vertical-align: middle;\n",
       "    }\n",
       "\n",
       "    .dataframe tbody tr th {\n",
       "        vertical-align: top;\n",
       "    }\n",
       "\n",
       "    .dataframe thead th {\n",
       "        text-align: right;\n",
       "    }\n",
       "</style>\n",
       "<table border=\"1\" class=\"dataframe\">\n",
       "  <thead>\n",
       "    <tr style=\"text-align: right;\">\n",
       "      <th></th>\n",
       "      <th>date</th>\n",
       "      <th>rougher.input.feed_au</th>\n",
       "      <th>rougher.input.feed_ag</th>\n",
       "      <th>rougher.input.feed_pb</th>\n",
       "      <th>rougher.input.feed_sol</th>\n",
       "      <th>rougher.input.feed_rate</th>\n",
       "      <th>rougher.input.feed_size</th>\n",
       "      <th>rougher.input.floatbank10_sulfate</th>\n",
       "      <th>rougher.input.floatbank10_xanthate</th>\n",
       "      <th>rougher.state.floatbank10_a_air</th>\n",
       "      <th>rougher.state.floatbank10_a_level</th>\n",
       "      <th>rougher.state.floatbank10_b_air</th>\n",
       "      <th>rougher.state.floatbank10_b_level</th>\n",
       "      <th>rougher.state.floatbank10_c_air</th>\n",
       "      <th>rougher.state.floatbank10_c_level</th>\n",
       "      <th>rougher.state.floatbank10_d_air</th>\n",
       "      <th>rougher.state.floatbank10_d_level</th>\n",
       "      <th>rougher.state.floatbank10_e_air</th>\n",
       "      <th>rougher.state.floatbank10_e_level</th>\n",
       "      <th>rougher.state.floatbank10_f_air</th>\n",
       "      <th>rougher.state.floatbank10_f_level</th>\n",
       "      <th>rougher.input.floatbank11_sulfate</th>\n",
       "      <th>rougher.input.floatbank11_xanthate</th>\n",
       "      <th>rougher.calculation.sulfate_to_au_concentrate</th>\n",
       "      <th>rougher.calculation.floatbank10_sulfate_to_au_feed</th>\n",
       "      <th>rougher.calculation.floatbank11_sulfate_to_au_feed</th>\n",
       "      <th>rougher.calculation.au_pb_ratio</th>\n",
       "      <th>rougher.output.concentrate_au</th>\n",
       "      <th>rougher.output.concentrate_ag</th>\n",
       "      <th>rougher.output.concentrate_pb</th>\n",
       "      <th>rougher.output.concentrate_sol</th>\n",
       "      <th>rougher.output.recovery</th>\n",
       "      <th>rougher.output.tail_au</th>\n",
       "      <th>rougher.output.tail_ag</th>\n",
       "      <th>rougher.output.tail_pb</th>\n",
       "      <th>rougher.output.tail_sol</th>\n",
       "      <th>primary_cleaner.input.sulfate</th>\n",
       "      <th>primary_cleaner.input.depressant</th>\n",
       "      <th>primary_cleaner.input.feed_size</th>\n",
       "      <th>primary_cleaner.input.xanthate</th>\n",
       "      <th>primary_cleaner.state.floatbank8_a_air</th>\n",
       "      <th>primary_cleaner.state.floatbank8_a_level</th>\n",
       "      <th>primary_cleaner.state.floatbank8_b_air</th>\n",
       "      <th>primary_cleaner.state.floatbank8_b_level</th>\n",
       "      <th>primary_cleaner.state.floatbank8_c_air</th>\n",
       "      <th>primary_cleaner.state.floatbank8_c_level</th>\n",
       "      <th>primary_cleaner.state.floatbank8_d_air</th>\n",
       "      <th>primary_cleaner.state.floatbank8_d_level</th>\n",
       "      <th>primary_cleaner.output.concentrate_au</th>\n",
       "      <th>primary_cleaner.output.concentrate_ag</th>\n",
       "      <th>primary_cleaner.output.concentrate_pb</th>\n",
       "      <th>primary_cleaner.output.concentrate_sol</th>\n",
       "      <th>primary_cleaner.output.tail_au</th>\n",
       "      <th>primary_cleaner.output.tail_ag</th>\n",
       "      <th>primary_cleaner.output.tail_pb</th>\n",
       "      <th>primary_cleaner.output.tail_sol</th>\n",
       "      <th>secondary_cleaner.state.floatbank2_a_air</th>\n",
       "      <th>secondary_cleaner.state.floatbank2_a_level</th>\n",
       "      <th>secondary_cleaner.state.floatbank2_b_air</th>\n",
       "      <th>secondary_cleaner.state.floatbank2_b_level</th>\n",
       "      <th>secondary_cleaner.state.floatbank3_a_air</th>\n",
       "      <th>secondary_cleaner.state.floatbank3_a_level</th>\n",
       "      <th>secondary_cleaner.state.floatbank3_b_air</th>\n",
       "      <th>secondary_cleaner.state.floatbank3_b_level</th>\n",
       "      <th>secondary_cleaner.state.floatbank4_a_air</th>\n",
       "      <th>secondary_cleaner.state.floatbank4_a_level</th>\n",
       "      <th>secondary_cleaner.state.floatbank4_b_air</th>\n",
       "      <th>secondary_cleaner.state.floatbank4_b_level</th>\n",
       "      <th>secondary_cleaner.state.floatbank5_a_air</th>\n",
       "      <th>secondary_cleaner.state.floatbank5_a_level</th>\n",
       "      <th>secondary_cleaner.state.floatbank5_b_air</th>\n",
       "      <th>secondary_cleaner.state.floatbank5_b_level</th>\n",
       "      <th>secondary_cleaner.state.floatbank6_a_air</th>\n",
       "      <th>secondary_cleaner.state.floatbank6_a_level</th>\n",
       "      <th>secondary_cleaner.output.tail_au</th>\n",
       "      <th>secondary_cleaner.output.tail_ag</th>\n",
       "      <th>secondary_cleaner.output.tail_pb</th>\n",
       "      <th>secondary_cleaner.output.tail_sol</th>\n",
       "      <th>final.output.concentrate_au</th>\n",
       "      <th>final.output.concentrate_ag</th>\n",
       "      <th>final.output.concentrate_pb</th>\n",
       "      <th>final.output.concentrate_sol</th>\n",
       "      <th>final.output.recovery</th>\n",
       "      <th>final.output.tail_au</th>\n",
       "      <th>final.output.tail_ag</th>\n",
       "      <th>final.output.tail_pb</th>\n",
       "      <th>final.output.tail_sol</th>\n",
       "    </tr>\n",
       "  </thead>\n",
       "  <tbody>\n",
       "    <tr>\n",
       "      <th>36</th>\n",
       "      <td>2016-01-16 12:00:00</td>\n",
       "      <td>7.114065</td>\n",
       "      <td>7.521974</td>\n",
       "      <td>2.811569</td>\n",
       "      <td>41.154430</td>\n",
       "      <td>581.605260</td>\n",
       "      <td>65.620714</td>\n",
       "      <td>13.322740</td>\n",
       "      <td>7.504592</td>\n",
       "      <td>999.026619</td>\n",
       "      <td>-499.850895</td>\n",
       "      <td>1600.614880</td>\n",
       "      <td>-500.331775</td>\n",
       "      <td>1598.654561</td>\n",
       "      <td>-500.364377</td>\n",
       "      <td>1398.394100</td>\n",
       "      <td>-501.540155</td>\n",
       "      <td>1197.182011</td>\n",
       "      <td>-500.205806</td>\n",
       "      <td>1198.542180</td>\n",
       "      <td>-499.648335</td>\n",
       "      <td>13.311361</td>\n",
       "      <td>7.493738</td>\n",
       "      <td>41359.061159</td>\n",
       "      <td>3196.130244</td>\n",
       "      <td>3205.717062</td>\n",
       "      <td>2.530283</td>\n",
       "      <td>0.0</td>\n",
       "      <td>0.0</td>\n",
       "      <td>0.0</td>\n",
       "      <td>0.0</td>\n",
       "      <td>0.0</td>\n",
       "      <td>1.939811</td>\n",
       "      <td>4.784398</td>\n",
       "      <td>0.818965</td>\n",
       "      <td>20.046797</td>\n",
       "      <td>131.251366</td>\n",
       "      <td>13.969457</td>\n",
       "      <td>7.25</td>\n",
       "      <td>1.203034</td>\n",
       "      <td>1601.674776</td>\n",
       "      <td>-500.285160</td>\n",
       "      <td>1600.151967</td>\n",
       "      <td>-499.633542</td>\n",
       "      <td>1599.542959</td>\n",
       "      <td>-499.495721</td>\n",
       "      <td>1599.342687</td>\n",
       "      <td>-500.360306</td>\n",
       "      <td>37.633572</td>\n",
       "      <td>8.513177</td>\n",
       "      <td>9.724797</td>\n",
       "      <td>19.120964</td>\n",
       "      <td>3.434734</td>\n",
       "      <td>16.455383</td>\n",
       "      <td>3.366501</td>\n",
       "      <td>6.864404</td>\n",
       "      <td>25.963860</td>\n",
       "      <td>-498.097243</td>\n",
       "      <td>23.896954</td>\n",
       "      <td>-500.047419</td>\n",
       "      <td>24.963926</td>\n",
       "      <td>-500.207267</td>\n",
       "      <td>23.984937</td>\n",
       "      <td>-500.613261</td>\n",
       "      <td>14.025588</td>\n",
       "      <td>-550.404242</td>\n",
       "      <td>12.028925</td>\n",
       "      <td>-550.570104</td>\n",
       "      <td>10.052072</td>\n",
       "      <td>-500.797905</td>\n",
       "      <td>7.984500</td>\n",
       "      <td>-499.581046</td>\n",
       "      <td>11.982025</td>\n",
       "      <td>-599.161228</td>\n",
       "      <td>3.102137</td>\n",
       "      <td>13.605154</td>\n",
       "      <td>4.983564</td>\n",
       "      <td>9.545239</td>\n",
       "      <td>46.614456</td>\n",
       "      <td>4.566664</td>\n",
       "      <td>10.406178</td>\n",
       "      <td>4.588698</td>\n",
       "      <td>68.403877</td>\n",
       "      <td>2.509776</td>\n",
       "      <td>10.705777</td>\n",
       "      <td>1.509070</td>\n",
       "      <td>17.875134</td>\n",
       "    </tr>\n",
       "    <tr>\n",
       "      <th>37</th>\n",
       "      <td>2016-01-16 13:00:00</td>\n",
       "      <td>7.651522</td>\n",
       "      <td>7.313187</td>\n",
       "      <td>2.973841</td>\n",
       "      <td>41.983063</td>\n",
       "      <td>562.972841</td>\n",
       "      <td>66.014780</td>\n",
       "      <td>14.433889</td>\n",
       "      <td>7.583598</td>\n",
       "      <td>999.846655</td>\n",
       "      <td>-500.082738</td>\n",
       "      <td>1599.408126</td>\n",
       "      <td>-500.189249</td>\n",
       "      <td>1598.918123</td>\n",
       "      <td>-498.775979</td>\n",
       "      <td>1398.970429</td>\n",
       "      <td>-500.939255</td>\n",
       "      <td>1198.632079</td>\n",
       "      <td>-501.344435</td>\n",
       "      <td>1198.715369</td>\n",
       "      <td>-500.311765</td>\n",
       "      <td>14.482716</td>\n",
       "      <td>7.578460</td>\n",
       "      <td>41274.202372</td>\n",
       "      <td>3196.955345</td>\n",
       "      <td>3205.146739</td>\n",
       "      <td>2.572943</td>\n",
       "      <td>0.0</td>\n",
       "      <td>0.0</td>\n",
       "      <td>0.0</td>\n",
       "      <td>0.0</td>\n",
       "      <td>0.0</td>\n",
       "      <td>2.087628</td>\n",
       "      <td>4.955785</td>\n",
       "      <td>0.891051</td>\n",
       "      <td>19.633741</td>\n",
       "      <td>141.184039</td>\n",
       "      <td>13.978607</td>\n",
       "      <td>7.25</td>\n",
       "      <td>1.248254</td>\n",
       "      <td>1604.852903</td>\n",
       "      <td>-500.922517</td>\n",
       "      <td>1603.005456</td>\n",
       "      <td>-499.631837</td>\n",
       "      <td>1599.307763</td>\n",
       "      <td>-501.200791</td>\n",
       "      <td>1599.437018</td>\n",
       "      <td>-499.307245</td>\n",
       "      <td>37.718947</td>\n",
       "      <td>8.466262</td>\n",
       "      <td>9.780929</td>\n",
       "      <td>19.220963</td>\n",
       "      <td>3.102171</td>\n",
       "      <td>15.517931</td>\n",
       "      <td>3.076929</td>\n",
       "      <td>7.321526</td>\n",
       "      <td>25.946448</td>\n",
       "      <td>-502.052990</td>\n",
       "      <td>23.903017</td>\n",
       "      <td>-500.245612</td>\n",
       "      <td>25.029826</td>\n",
       "      <td>-499.896144</td>\n",
       "      <td>23.963950</td>\n",
       "      <td>-499.786821</td>\n",
       "      <td>14.094808</td>\n",
       "      <td>-550.676337</td>\n",
       "      <td>12.004728</td>\n",
       "      <td>-550.496522</td>\n",
       "      <td>9.953139</td>\n",
       "      <td>-500.330920</td>\n",
       "      <td>8.012074</td>\n",
       "      <td>-500.133530</td>\n",
       "      <td>11.975316</td>\n",
       "      <td>-598.839683</td>\n",
       "      <td>2.920315</td>\n",
       "      <td>13.130989</td>\n",
       "      <td>5.043644</td>\n",
       "      <td>9.734058</td>\n",
       "      <td>46.250638</td>\n",
       "      <td>4.577832</td>\n",
       "      <td>10.691605</td>\n",
       "      <td>5.274175</td>\n",
       "      <td>70.675633</td>\n",
       "      <td>2.540843</td>\n",
       "      <td>10.728531</td>\n",
       "      <td>1.641216</td>\n",
       "      <td>18.349339</td>\n",
       "    </tr>\n",
       "    <tr>\n",
       "      <th>38</th>\n",
       "      <td>2016-01-16 14:00:00</td>\n",
       "      <td>5.587750</td>\n",
       "      <td>7.934791</td>\n",
       "      <td>1.763437</td>\n",
       "      <td>NaN</td>\n",
       "      <td>229.379445</td>\n",
       "      <td>40.601032</td>\n",
       "      <td>10.865871</td>\n",
       "      <td>5.648950</td>\n",
       "      <td>1003.354806</td>\n",
       "      <td>-501.078303</td>\n",
       "      <td>1603.648910</td>\n",
       "      <td>-498.000810</td>\n",
       "      <td>1603.488420</td>\n",
       "      <td>-495.577057</td>\n",
       "      <td>1402.004381</td>\n",
       "      <td>-497.117094</td>\n",
       "      <td>1203.394353</td>\n",
       "      <td>-494.391170</td>\n",
       "      <td>1202.592202</td>\n",
       "      <td>-500.167701</td>\n",
       "      <td>10.786929</td>\n",
       "      <td>5.638302</td>\n",
       "      <td>35990.036451</td>\n",
       "      <td>3220.710538</td>\n",
       "      <td>3206.895723</td>\n",
       "      <td>3.168669</td>\n",
       "      <td>0.0</td>\n",
       "      <td>0.0</td>\n",
       "      <td>0.0</td>\n",
       "      <td>0.0</td>\n",
       "      <td>0.0</td>\n",
       "      <td>2.126460</td>\n",
       "      <td>4.990718</td>\n",
       "      <td>0.901107</td>\n",
       "      <td>19.096033</td>\n",
       "      <td>126.397495</td>\n",
       "      <td>12.709727</td>\n",
       "      <td>7.25</td>\n",
       "      <td>1.229626</td>\n",
       "      <td>1601.301169</td>\n",
       "      <td>-498.725777</td>\n",
       "      <td>1605.370031</td>\n",
       "      <td>-500.644437</td>\n",
       "      <td>1598.360694</td>\n",
       "      <td>-500.461991</td>\n",
       "      <td>1604.014273</td>\n",
       "      <td>-501.824136</td>\n",
       "      <td>38.624404</td>\n",
       "      <td>8.092185</td>\n",
       "      <td>9.719728</td>\n",
       "      <td>19.077471</td>\n",
       "      <td>3.513846</td>\n",
       "      <td>15.911266</td>\n",
       "      <td>3.269298</td>\n",
       "      <td>7.095597</td>\n",
       "      <td>26.069763</td>\n",
       "      <td>-502.180953</td>\n",
       "      <td>24.044256</td>\n",
       "      <td>-502.252420</td>\n",
       "      <td>25.024571</td>\n",
       "      <td>-499.417407</td>\n",
       "      <td>23.983086</td>\n",
       "      <td>-499.931140</td>\n",
       "      <td>13.997488</td>\n",
       "      <td>-551.224653</td>\n",
       "      <td>11.971272</td>\n",
       "      <td>-550.095619</td>\n",
       "      <td>9.981163</td>\n",
       "      <td>-502.869109</td>\n",
       "      <td>7.941184</td>\n",
       "      <td>-500.623610</td>\n",
       "      <td>12.018837</td>\n",
       "      <td>-600.916665</td>\n",
       "      <td>3.108674</td>\n",
       "      <td>13.648648</td>\n",
       "      <td>5.146849</td>\n",
       "      <td>9.601115</td>\n",
       "      <td>46.663335</td>\n",
       "      <td>4.591462</td>\n",
       "      <td>10.628846</td>\n",
       "      <td>5.688961</td>\n",
       "      <td>55.088448</td>\n",
       "      <td>2.686782</td>\n",
       "      <td>10.694584</td>\n",
       "      <td>1.671644</td>\n",
       "      <td>17.910312</td>\n",
       "    </tr>\n",
       "    <tr>\n",
       "      <th>39</th>\n",
       "      <td>2016-01-16 15:00:00</td>\n",
       "      <td>4.752992</td>\n",
       "      <td>7.756881</td>\n",
       "      <td>1.025762</td>\n",
       "      <td>11.816724</td>\n",
       "      <td>228.510521</td>\n",
       "      <td>41.248945</td>\n",
       "      <td>5.908582</td>\n",
       "      <td>5.048482</td>\n",
       "      <td>998.548594</td>\n",
       "      <td>-500.170221</td>\n",
       "      <td>1599.757462</td>\n",
       "      <td>-501.887330</td>\n",
       "      <td>1598.622980</td>\n",
       "      <td>-503.590034</td>\n",
       "      <td>1399.021302</td>\n",
       "      <td>-503.358288</td>\n",
       "      <td>1198.549085</td>\n",
       "      <td>-503.242679</td>\n",
       "      <td>1197.734445</td>\n",
       "      <td>-503.004673</td>\n",
       "      <td>5.893169</td>\n",
       "      <td>5.052284</td>\n",
       "      <td>33615.706291</td>\n",
       "      <td>5345.102846</td>\n",
       "      <td>5341.853970</td>\n",
       "      <td>4.633621</td>\n",
       "      <td>0.0</td>\n",
       "      <td>0.0</td>\n",
       "      <td>0.0</td>\n",
       "      <td>0.0</td>\n",
       "      <td>0.0</td>\n",
       "      <td>1.938869</td>\n",
       "      <td>4.711415</td>\n",
       "      <td>0.636352</td>\n",
       "      <td>12.720009</td>\n",
       "      <td>69.411904</td>\n",
       "      <td>7.443190</td>\n",
       "      <td>7.25</td>\n",
       "      <td>0.926251</td>\n",
       "      <td>1600.850721</td>\n",
       "      <td>-502.596676</td>\n",
       "      <td>1600.924370</td>\n",
       "      <td>-497.882595</td>\n",
       "      <td>1598.657904</td>\n",
       "      <td>-502.329247</td>\n",
       "      <td>1597.779240</td>\n",
       "      <td>-499.051485</td>\n",
       "      <td>40.086360</td>\n",
       "      <td>7.680496</td>\n",
       "      <td>9.038210</td>\n",
       "      <td>18.686350</td>\n",
       "      <td>3.227488</td>\n",
       "      <td>16.401403</td>\n",
       "      <td>3.182322</td>\n",
       "      <td>5.897255</td>\n",
       "      <td>25.948590</td>\n",
       "      <td>-489.109234</td>\n",
       "      <td>23.944917</td>\n",
       "      <td>-498.525240</td>\n",
       "      <td>24.968655</td>\n",
       "      <td>-500.538395</td>\n",
       "      <td>24.019844</td>\n",
       "      <td>-499.968028</td>\n",
       "      <td>14.006476</td>\n",
       "      <td>-549.388727</td>\n",
       "      <td>11.975967</td>\n",
       "      <td>-550.778624</td>\n",
       "      <td>9.989726</td>\n",
       "      <td>-499.607365</td>\n",
       "      <td>7.958252</td>\n",
       "      <td>-498.882560</td>\n",
       "      <td>11.967977</td>\n",
       "      <td>-599.440603</td>\n",
       "      <td>3.393284</td>\n",
       "      <td>13.665264</td>\n",
       "      <td>5.248582</td>\n",
       "      <td>6.810654</td>\n",
       "      <td>44.015642</td>\n",
       "      <td>5.296830</td>\n",
       "      <td>10.597469</td>\n",
       "      <td>NaN</td>\n",
       "      <td>41.962008</td>\n",
       "      <td>2.889469</td>\n",
       "      <td>11.975654</td>\n",
       "      <td>1.846558</td>\n",
       "      <td>8.138408</td>\n",
       "    </tr>\n",
       "    <tr>\n",
       "      <th>40</th>\n",
       "      <td>2016-01-16 16:00:00</td>\n",
       "      <td>5.122801</td>\n",
       "      <td>5.393466</td>\n",
       "      <td>1.824835</td>\n",
       "      <td>28.380274</td>\n",
       "      <td>550.606559</td>\n",
       "      <td>45.329106</td>\n",
       "      <td>10.060214</td>\n",
       "      <td>7.758600</td>\n",
       "      <td>1000.013401</td>\n",
       "      <td>-499.520359</td>\n",
       "      <td>1599.881338</td>\n",
       "      <td>-499.565613</td>\n",
       "      <td>1601.238039</td>\n",
       "      <td>-500.387352</td>\n",
       "      <td>1400.701749</td>\n",
       "      <td>-500.224956</td>\n",
       "      <td>1199.654661</td>\n",
       "      <td>-500.456998</td>\n",
       "      <td>1199.748385</td>\n",
       "      <td>-501.208505</td>\n",
       "      <td>10.061415</td>\n",
       "      <td>7.754471</td>\n",
       "      <td>92479.188718</td>\n",
       "      <td>3176.672431</td>\n",
       "      <td>3179.885147</td>\n",
       "      <td>2.807268</td>\n",
       "      <td>0.0</td>\n",
       "      <td>0.0</td>\n",
       "      <td>0.0</td>\n",
       "      <td>0.0</td>\n",
       "      <td>0.0</td>\n",
       "      <td>2.050901</td>\n",
       "      <td>4.933318</td>\n",
       "      <td>0.781390</td>\n",
       "      <td>16.769068</td>\n",
       "      <td>116.517762</td>\n",
       "      <td>13.259887</td>\n",
       "      <td>7.25</td>\n",
       "      <td>1.157176</td>\n",
       "      <td>1598.329965</td>\n",
       "      <td>-500.077594</td>\n",
       "      <td>1600.016229</td>\n",
       "      <td>-500.980439</td>\n",
       "      <td>1599.556730</td>\n",
       "      <td>-498.486575</td>\n",
       "      <td>1599.413751</td>\n",
       "      <td>-500.341227</td>\n",
       "      <td>33.895014</td>\n",
       "      <td>10.545583</td>\n",
       "      <td>8.209346</td>\n",
       "      <td>19.187922</td>\n",
       "      <td>4.263535</td>\n",
       "      <td>16.905263</td>\n",
       "      <td>2.744457</td>\n",
       "      <td>1.904036</td>\n",
       "      <td>25.997706</td>\n",
       "      <td>-484.741116</td>\n",
       "      <td>23.941035</td>\n",
       "      <td>-499.301985</td>\n",
       "      <td>24.927953</td>\n",
       "      <td>-499.526189</td>\n",
       "      <td>24.050480</td>\n",
       "      <td>-500.126609</td>\n",
       "      <td>13.984906</td>\n",
       "      <td>-550.563329</td>\n",
       "      <td>11.999730</td>\n",
       "      <td>-550.549773</td>\n",
       "      <td>9.941869</td>\n",
       "      <td>-503.282068</td>\n",
       "      <td>8.018850</td>\n",
       "      <td>-500.970716</td>\n",
       "      <td>11.991078</td>\n",
       "      <td>-598.475929</td>\n",
       "      <td>4.560710</td>\n",
       "      <td>12.523240</td>\n",
       "      <td>4.643928</td>\n",
       "      <td>5.176456</td>\n",
       "      <td>40.715973</td>\n",
       "      <td>8.162896</td>\n",
       "      <td>8.877528</td>\n",
       "      <td>NaN</td>\n",
       "      <td>49.884856</td>\n",
       "      <td>2.739224</td>\n",
       "      <td>10.381465</td>\n",
       "      <td>1.024030</td>\n",
       "      <td>12.974257</td>\n",
       "    </tr>\n",
       "  </tbody>\n",
       "</table>\n",
       "</div>"
      ],
      "text/plain": [
       "                   date  rougher.input.feed_au  rougher.input.feed_ag  \\\n",
       "36  2016-01-16 12:00:00               7.114065               7.521974   \n",
       "37  2016-01-16 13:00:00               7.651522               7.313187   \n",
       "38  2016-01-16 14:00:00               5.587750               7.934791   \n",
       "39  2016-01-16 15:00:00               4.752992               7.756881   \n",
       "40  2016-01-16 16:00:00               5.122801               5.393466   \n",
       "\n",
       "    rougher.input.feed_pb  rougher.input.feed_sol  rougher.input.feed_rate  \\\n",
       "36               2.811569               41.154430               581.605260   \n",
       "37               2.973841               41.983063               562.972841   \n",
       "38               1.763437                     NaN               229.379445   \n",
       "39               1.025762               11.816724               228.510521   \n",
       "40               1.824835               28.380274               550.606559   \n",
       "\n",
       "    rougher.input.feed_size  rougher.input.floatbank10_sulfate  \\\n",
       "36                65.620714                          13.322740   \n",
       "37                66.014780                          14.433889   \n",
       "38                40.601032                          10.865871   \n",
       "39                41.248945                           5.908582   \n",
       "40                45.329106                          10.060214   \n",
       "\n",
       "    rougher.input.floatbank10_xanthate  rougher.state.floatbank10_a_air  \\\n",
       "36                            7.504592                       999.026619   \n",
       "37                            7.583598                       999.846655   \n",
       "38                            5.648950                      1003.354806   \n",
       "39                            5.048482                       998.548594   \n",
       "40                            7.758600                      1000.013401   \n",
       "\n",
       "    rougher.state.floatbank10_a_level  rougher.state.floatbank10_b_air  \\\n",
       "36                        -499.850895                      1600.614880   \n",
       "37                        -500.082738                      1599.408126   \n",
       "38                        -501.078303                      1603.648910   \n",
       "39                        -500.170221                      1599.757462   \n",
       "40                        -499.520359                      1599.881338   \n",
       "\n",
       "    rougher.state.floatbank10_b_level  rougher.state.floatbank10_c_air  \\\n",
       "36                        -500.331775                      1598.654561   \n",
       "37                        -500.189249                      1598.918123   \n",
       "38                        -498.000810                      1603.488420   \n",
       "39                        -501.887330                      1598.622980   \n",
       "40                        -499.565613                      1601.238039   \n",
       "\n",
       "    rougher.state.floatbank10_c_level  rougher.state.floatbank10_d_air  \\\n",
       "36                        -500.364377                      1398.394100   \n",
       "37                        -498.775979                      1398.970429   \n",
       "38                        -495.577057                      1402.004381   \n",
       "39                        -503.590034                      1399.021302   \n",
       "40                        -500.387352                      1400.701749   \n",
       "\n",
       "    rougher.state.floatbank10_d_level  rougher.state.floatbank10_e_air  \\\n",
       "36                        -501.540155                      1197.182011   \n",
       "37                        -500.939255                      1198.632079   \n",
       "38                        -497.117094                      1203.394353   \n",
       "39                        -503.358288                      1198.549085   \n",
       "40                        -500.224956                      1199.654661   \n",
       "\n",
       "    rougher.state.floatbank10_e_level  rougher.state.floatbank10_f_air  \\\n",
       "36                        -500.205806                      1198.542180   \n",
       "37                        -501.344435                      1198.715369   \n",
       "38                        -494.391170                      1202.592202   \n",
       "39                        -503.242679                      1197.734445   \n",
       "40                        -500.456998                      1199.748385   \n",
       "\n",
       "    rougher.state.floatbank10_f_level  rougher.input.floatbank11_sulfate  \\\n",
       "36                        -499.648335                          13.311361   \n",
       "37                        -500.311765                          14.482716   \n",
       "38                        -500.167701                          10.786929   \n",
       "39                        -503.004673                           5.893169   \n",
       "40                        -501.208505                          10.061415   \n",
       "\n",
       "    rougher.input.floatbank11_xanthate  \\\n",
       "36                            7.493738   \n",
       "37                            7.578460   \n",
       "38                            5.638302   \n",
       "39                            5.052284   \n",
       "40                            7.754471   \n",
       "\n",
       "    rougher.calculation.sulfate_to_au_concentrate  \\\n",
       "36                                   41359.061159   \n",
       "37                                   41274.202372   \n",
       "38                                   35990.036451   \n",
       "39                                   33615.706291   \n",
       "40                                   92479.188718   \n",
       "\n",
       "    rougher.calculation.floatbank10_sulfate_to_au_feed  \\\n",
       "36                                        3196.130244    \n",
       "37                                        3196.955345    \n",
       "38                                        3220.710538    \n",
       "39                                        5345.102846    \n",
       "40                                        3176.672431    \n",
       "\n",
       "    rougher.calculation.floatbank11_sulfate_to_au_feed  \\\n",
       "36                                        3205.717062    \n",
       "37                                        3205.146739    \n",
       "38                                        3206.895723    \n",
       "39                                        5341.853970    \n",
       "40                                        3179.885147    \n",
       "\n",
       "    rougher.calculation.au_pb_ratio  rougher.output.concentrate_au  \\\n",
       "36                         2.530283                            0.0   \n",
       "37                         2.572943                            0.0   \n",
       "38                         3.168669                            0.0   \n",
       "39                         4.633621                            0.0   \n",
       "40                         2.807268                            0.0   \n",
       "\n",
       "    rougher.output.concentrate_ag  rougher.output.concentrate_pb  \\\n",
       "36                            0.0                            0.0   \n",
       "37                            0.0                            0.0   \n",
       "38                            0.0                            0.0   \n",
       "39                            0.0                            0.0   \n",
       "40                            0.0                            0.0   \n",
       "\n",
       "    rougher.output.concentrate_sol  rougher.output.recovery  \\\n",
       "36                             0.0                      0.0   \n",
       "37                             0.0                      0.0   \n",
       "38                             0.0                      0.0   \n",
       "39                             0.0                      0.0   \n",
       "40                             0.0                      0.0   \n",
       "\n",
       "    rougher.output.tail_au  rougher.output.tail_ag  rougher.output.tail_pb  \\\n",
       "36                1.939811                4.784398                0.818965   \n",
       "37                2.087628                4.955785                0.891051   \n",
       "38                2.126460                4.990718                0.901107   \n",
       "39                1.938869                4.711415                0.636352   \n",
       "40                2.050901                4.933318                0.781390   \n",
       "\n",
       "    rougher.output.tail_sol  primary_cleaner.input.sulfate  \\\n",
       "36                20.046797                     131.251366   \n",
       "37                19.633741                     141.184039   \n",
       "38                19.096033                     126.397495   \n",
       "39                12.720009                      69.411904   \n",
       "40                16.769068                     116.517762   \n",
       "\n",
       "    primary_cleaner.input.depressant  primary_cleaner.input.feed_size  \\\n",
       "36                         13.969457                             7.25   \n",
       "37                         13.978607                             7.25   \n",
       "38                         12.709727                             7.25   \n",
       "39                          7.443190                             7.25   \n",
       "40                         13.259887                             7.25   \n",
       "\n",
       "    primary_cleaner.input.xanthate  primary_cleaner.state.floatbank8_a_air  \\\n",
       "36                        1.203034                             1601.674776   \n",
       "37                        1.248254                             1604.852903   \n",
       "38                        1.229626                             1601.301169   \n",
       "39                        0.926251                             1600.850721   \n",
       "40                        1.157176                             1598.329965   \n",
       "\n",
       "    primary_cleaner.state.floatbank8_a_level  \\\n",
       "36                               -500.285160   \n",
       "37                               -500.922517   \n",
       "38                               -498.725777   \n",
       "39                               -502.596676   \n",
       "40                               -500.077594   \n",
       "\n",
       "    primary_cleaner.state.floatbank8_b_air  \\\n",
       "36                             1600.151967   \n",
       "37                             1603.005456   \n",
       "38                             1605.370031   \n",
       "39                             1600.924370   \n",
       "40                             1600.016229   \n",
       "\n",
       "    primary_cleaner.state.floatbank8_b_level  \\\n",
       "36                               -499.633542   \n",
       "37                               -499.631837   \n",
       "38                               -500.644437   \n",
       "39                               -497.882595   \n",
       "40                               -500.980439   \n",
       "\n",
       "    primary_cleaner.state.floatbank8_c_air  \\\n",
       "36                             1599.542959   \n",
       "37                             1599.307763   \n",
       "38                             1598.360694   \n",
       "39                             1598.657904   \n",
       "40                             1599.556730   \n",
       "\n",
       "    primary_cleaner.state.floatbank8_c_level  \\\n",
       "36                               -499.495721   \n",
       "37                               -501.200791   \n",
       "38                               -500.461991   \n",
       "39                               -502.329247   \n",
       "40                               -498.486575   \n",
       "\n",
       "    primary_cleaner.state.floatbank8_d_air  \\\n",
       "36                             1599.342687   \n",
       "37                             1599.437018   \n",
       "38                             1604.014273   \n",
       "39                             1597.779240   \n",
       "40                             1599.413751   \n",
       "\n",
       "    primary_cleaner.state.floatbank8_d_level  \\\n",
       "36                               -500.360306   \n",
       "37                               -499.307245   \n",
       "38                               -501.824136   \n",
       "39                               -499.051485   \n",
       "40                               -500.341227   \n",
       "\n",
       "    primary_cleaner.output.concentrate_au  \\\n",
       "36                              37.633572   \n",
       "37                              37.718947   \n",
       "38                              38.624404   \n",
       "39                              40.086360   \n",
       "40                              33.895014   \n",
       "\n",
       "    primary_cleaner.output.concentrate_ag  \\\n",
       "36                               8.513177   \n",
       "37                               8.466262   \n",
       "38                               8.092185   \n",
       "39                               7.680496   \n",
       "40                              10.545583   \n",
       "\n",
       "    primary_cleaner.output.concentrate_pb  \\\n",
       "36                               9.724797   \n",
       "37                               9.780929   \n",
       "38                               9.719728   \n",
       "39                               9.038210   \n",
       "40                               8.209346   \n",
       "\n",
       "    primary_cleaner.output.concentrate_sol  primary_cleaner.output.tail_au  \\\n",
       "36                               19.120964                        3.434734   \n",
       "37                               19.220963                        3.102171   \n",
       "38                               19.077471                        3.513846   \n",
       "39                               18.686350                        3.227488   \n",
       "40                               19.187922                        4.263535   \n",
       "\n",
       "    primary_cleaner.output.tail_ag  primary_cleaner.output.tail_pb  \\\n",
       "36                       16.455383                        3.366501   \n",
       "37                       15.517931                        3.076929   \n",
       "38                       15.911266                        3.269298   \n",
       "39                       16.401403                        3.182322   \n",
       "40                       16.905263                        2.744457   \n",
       "\n",
       "    primary_cleaner.output.tail_sol  secondary_cleaner.state.floatbank2_a_air  \\\n",
       "36                         6.864404                                 25.963860   \n",
       "37                         7.321526                                 25.946448   \n",
       "38                         7.095597                                 26.069763   \n",
       "39                         5.897255                                 25.948590   \n",
       "40                         1.904036                                 25.997706   \n",
       "\n",
       "    secondary_cleaner.state.floatbank2_a_level  \\\n",
       "36                                 -498.097243   \n",
       "37                                 -502.052990   \n",
       "38                                 -502.180953   \n",
       "39                                 -489.109234   \n",
       "40                                 -484.741116   \n",
       "\n",
       "    secondary_cleaner.state.floatbank2_b_air  \\\n",
       "36                                 23.896954   \n",
       "37                                 23.903017   \n",
       "38                                 24.044256   \n",
       "39                                 23.944917   \n",
       "40                                 23.941035   \n",
       "\n",
       "    secondary_cleaner.state.floatbank2_b_level  \\\n",
       "36                                 -500.047419   \n",
       "37                                 -500.245612   \n",
       "38                                 -502.252420   \n",
       "39                                 -498.525240   \n",
       "40                                 -499.301985   \n",
       "\n",
       "    secondary_cleaner.state.floatbank3_a_air  \\\n",
       "36                                 24.963926   \n",
       "37                                 25.029826   \n",
       "38                                 25.024571   \n",
       "39                                 24.968655   \n",
       "40                                 24.927953   \n",
       "\n",
       "    secondary_cleaner.state.floatbank3_a_level  \\\n",
       "36                                 -500.207267   \n",
       "37                                 -499.896144   \n",
       "38                                 -499.417407   \n",
       "39                                 -500.538395   \n",
       "40                                 -499.526189   \n",
       "\n",
       "    secondary_cleaner.state.floatbank3_b_air  \\\n",
       "36                                 23.984937   \n",
       "37                                 23.963950   \n",
       "38                                 23.983086   \n",
       "39                                 24.019844   \n",
       "40                                 24.050480   \n",
       "\n",
       "    secondary_cleaner.state.floatbank3_b_level  \\\n",
       "36                                 -500.613261   \n",
       "37                                 -499.786821   \n",
       "38                                 -499.931140   \n",
       "39                                 -499.968028   \n",
       "40                                 -500.126609   \n",
       "\n",
       "    secondary_cleaner.state.floatbank4_a_air  \\\n",
       "36                                 14.025588   \n",
       "37                                 14.094808   \n",
       "38                                 13.997488   \n",
       "39                                 14.006476   \n",
       "40                                 13.984906   \n",
       "\n",
       "    secondary_cleaner.state.floatbank4_a_level  \\\n",
       "36                                 -550.404242   \n",
       "37                                 -550.676337   \n",
       "38                                 -551.224653   \n",
       "39                                 -549.388727   \n",
       "40                                 -550.563329   \n",
       "\n",
       "    secondary_cleaner.state.floatbank4_b_air  \\\n",
       "36                                 12.028925   \n",
       "37                                 12.004728   \n",
       "38                                 11.971272   \n",
       "39                                 11.975967   \n",
       "40                                 11.999730   \n",
       "\n",
       "    secondary_cleaner.state.floatbank4_b_level  \\\n",
       "36                                 -550.570104   \n",
       "37                                 -550.496522   \n",
       "38                                 -550.095619   \n",
       "39                                 -550.778624   \n",
       "40                                 -550.549773   \n",
       "\n",
       "    secondary_cleaner.state.floatbank5_a_air  \\\n",
       "36                                 10.052072   \n",
       "37                                  9.953139   \n",
       "38                                  9.981163   \n",
       "39                                  9.989726   \n",
       "40                                  9.941869   \n",
       "\n",
       "    secondary_cleaner.state.floatbank5_a_level  \\\n",
       "36                                 -500.797905   \n",
       "37                                 -500.330920   \n",
       "38                                 -502.869109   \n",
       "39                                 -499.607365   \n",
       "40                                 -503.282068   \n",
       "\n",
       "    secondary_cleaner.state.floatbank5_b_air  \\\n",
       "36                                  7.984500   \n",
       "37                                  8.012074   \n",
       "38                                  7.941184   \n",
       "39                                  7.958252   \n",
       "40                                  8.018850   \n",
       "\n",
       "    secondary_cleaner.state.floatbank5_b_level  \\\n",
       "36                                 -499.581046   \n",
       "37                                 -500.133530   \n",
       "38                                 -500.623610   \n",
       "39                                 -498.882560   \n",
       "40                                 -500.970716   \n",
       "\n",
       "    secondary_cleaner.state.floatbank6_a_air  \\\n",
       "36                                 11.982025   \n",
       "37                                 11.975316   \n",
       "38                                 12.018837   \n",
       "39                                 11.967977   \n",
       "40                                 11.991078   \n",
       "\n",
       "    secondary_cleaner.state.floatbank6_a_level  \\\n",
       "36                                 -599.161228   \n",
       "37                                 -598.839683   \n",
       "38                                 -600.916665   \n",
       "39                                 -599.440603   \n",
       "40                                 -598.475929   \n",
       "\n",
       "    secondary_cleaner.output.tail_au  secondary_cleaner.output.tail_ag  \\\n",
       "36                          3.102137                         13.605154   \n",
       "37                          2.920315                         13.130989   \n",
       "38                          3.108674                         13.648648   \n",
       "39                          3.393284                         13.665264   \n",
       "40                          4.560710                         12.523240   \n",
       "\n",
       "    secondary_cleaner.output.tail_pb  secondary_cleaner.output.tail_sol  \\\n",
       "36                          4.983564                           9.545239   \n",
       "37                          5.043644                           9.734058   \n",
       "38                          5.146849                           9.601115   \n",
       "39                          5.248582                           6.810654   \n",
       "40                          4.643928                           5.176456   \n",
       "\n",
       "    final.output.concentrate_au  final.output.concentrate_ag  \\\n",
       "36                    46.614456                     4.566664   \n",
       "37                    46.250638                     4.577832   \n",
       "38                    46.663335                     4.591462   \n",
       "39                    44.015642                     5.296830   \n",
       "40                    40.715973                     8.162896   \n",
       "\n",
       "    final.output.concentrate_pb  final.output.concentrate_sol  \\\n",
       "36                    10.406178                      4.588698   \n",
       "37                    10.691605                      5.274175   \n",
       "38                    10.628846                      5.688961   \n",
       "39                    10.597469                           NaN   \n",
       "40                     8.877528                           NaN   \n",
       "\n",
       "    final.output.recovery  final.output.tail_au  final.output.tail_ag  \\\n",
       "36              68.403877              2.509776             10.705777   \n",
       "37              70.675633              2.540843             10.728531   \n",
       "38              55.088448              2.686782             10.694584   \n",
       "39              41.962008              2.889469             11.975654   \n",
       "40              49.884856              2.739224             10.381465   \n",
       "\n",
       "    final.output.tail_pb  final.output.tail_sol  \n",
       "36              1.509070              17.875134  \n",
       "37              1.641216              18.349339  \n",
       "38              1.671644              17.910312  \n",
       "39              1.846558               8.138408  \n",
       "40              1.024030              12.974257  "
      ]
     },
     "metadata": {},
     "output_type": "display_data"
    }
   ],
   "source": [
    "print(data_full[data_full['rougher.output.recovery'] == 0].shape)\n",
    "display(data_full[data_full['rougher.output.recovery'] == 0].head())"
   ]
  },
  {
   "cell_type": "code",
   "execution_count": 15,
   "metadata": {},
   "outputs": [
    {
     "name": "stdout",
     "output_type": "stream",
     "text": [
      "(98, 87)\n"
     ]
    },
    {
     "data": {
      "text/html": [
       "<div>\n",
       "<style scoped>\n",
       "    .dataframe tbody tr th:only-of-type {\n",
       "        vertical-align: middle;\n",
       "    }\n",
       "\n",
       "    .dataframe tbody tr th {\n",
       "        vertical-align: top;\n",
       "    }\n",
       "\n",
       "    .dataframe thead th {\n",
       "        text-align: right;\n",
       "    }\n",
       "</style>\n",
       "<table border=\"1\" class=\"dataframe\">\n",
       "  <thead>\n",
       "    <tr style=\"text-align: right;\">\n",
       "      <th></th>\n",
       "      <th>date</th>\n",
       "      <th>rougher.input.feed_au</th>\n",
       "      <th>rougher.input.feed_ag</th>\n",
       "      <th>rougher.input.feed_pb</th>\n",
       "      <th>rougher.input.feed_sol</th>\n",
       "      <th>rougher.input.feed_rate</th>\n",
       "      <th>rougher.input.feed_size</th>\n",
       "      <th>rougher.input.floatbank10_sulfate</th>\n",
       "      <th>rougher.input.floatbank10_xanthate</th>\n",
       "      <th>rougher.state.floatbank10_a_air</th>\n",
       "      <th>rougher.state.floatbank10_a_level</th>\n",
       "      <th>rougher.state.floatbank10_b_air</th>\n",
       "      <th>rougher.state.floatbank10_b_level</th>\n",
       "      <th>rougher.state.floatbank10_c_air</th>\n",
       "      <th>rougher.state.floatbank10_c_level</th>\n",
       "      <th>rougher.state.floatbank10_d_air</th>\n",
       "      <th>rougher.state.floatbank10_d_level</th>\n",
       "      <th>rougher.state.floatbank10_e_air</th>\n",
       "      <th>rougher.state.floatbank10_e_level</th>\n",
       "      <th>rougher.state.floatbank10_f_air</th>\n",
       "      <th>rougher.state.floatbank10_f_level</th>\n",
       "      <th>rougher.input.floatbank11_sulfate</th>\n",
       "      <th>rougher.input.floatbank11_xanthate</th>\n",
       "      <th>rougher.calculation.sulfate_to_au_concentrate</th>\n",
       "      <th>rougher.calculation.floatbank10_sulfate_to_au_feed</th>\n",
       "      <th>rougher.calculation.floatbank11_sulfate_to_au_feed</th>\n",
       "      <th>rougher.calculation.au_pb_ratio</th>\n",
       "      <th>rougher.output.concentrate_au</th>\n",
       "      <th>rougher.output.concentrate_ag</th>\n",
       "      <th>rougher.output.concentrate_pb</th>\n",
       "      <th>rougher.output.concentrate_sol</th>\n",
       "      <th>rougher.output.recovery</th>\n",
       "      <th>rougher.output.tail_au</th>\n",
       "      <th>rougher.output.tail_ag</th>\n",
       "      <th>rougher.output.tail_pb</th>\n",
       "      <th>rougher.output.tail_sol</th>\n",
       "      <th>primary_cleaner.input.sulfate</th>\n",
       "      <th>primary_cleaner.input.depressant</th>\n",
       "      <th>primary_cleaner.input.feed_size</th>\n",
       "      <th>primary_cleaner.input.xanthate</th>\n",
       "      <th>primary_cleaner.state.floatbank8_a_air</th>\n",
       "      <th>primary_cleaner.state.floatbank8_a_level</th>\n",
       "      <th>primary_cleaner.state.floatbank8_b_air</th>\n",
       "      <th>primary_cleaner.state.floatbank8_b_level</th>\n",
       "      <th>primary_cleaner.state.floatbank8_c_air</th>\n",
       "      <th>primary_cleaner.state.floatbank8_c_level</th>\n",
       "      <th>primary_cleaner.state.floatbank8_d_air</th>\n",
       "      <th>primary_cleaner.state.floatbank8_d_level</th>\n",
       "      <th>primary_cleaner.output.concentrate_au</th>\n",
       "      <th>primary_cleaner.output.concentrate_ag</th>\n",
       "      <th>primary_cleaner.output.concentrate_pb</th>\n",
       "      <th>primary_cleaner.output.concentrate_sol</th>\n",
       "      <th>primary_cleaner.output.tail_au</th>\n",
       "      <th>primary_cleaner.output.tail_ag</th>\n",
       "      <th>primary_cleaner.output.tail_pb</th>\n",
       "      <th>primary_cleaner.output.tail_sol</th>\n",
       "      <th>secondary_cleaner.state.floatbank2_a_air</th>\n",
       "      <th>secondary_cleaner.state.floatbank2_a_level</th>\n",
       "      <th>secondary_cleaner.state.floatbank2_b_air</th>\n",
       "      <th>secondary_cleaner.state.floatbank2_b_level</th>\n",
       "      <th>secondary_cleaner.state.floatbank3_a_air</th>\n",
       "      <th>secondary_cleaner.state.floatbank3_a_level</th>\n",
       "      <th>secondary_cleaner.state.floatbank3_b_air</th>\n",
       "      <th>secondary_cleaner.state.floatbank3_b_level</th>\n",
       "      <th>secondary_cleaner.state.floatbank4_a_air</th>\n",
       "      <th>secondary_cleaner.state.floatbank4_a_level</th>\n",
       "      <th>secondary_cleaner.state.floatbank4_b_air</th>\n",
       "      <th>secondary_cleaner.state.floatbank4_b_level</th>\n",
       "      <th>secondary_cleaner.state.floatbank5_a_air</th>\n",
       "      <th>secondary_cleaner.state.floatbank5_a_level</th>\n",
       "      <th>secondary_cleaner.state.floatbank5_b_air</th>\n",
       "      <th>secondary_cleaner.state.floatbank5_b_level</th>\n",
       "      <th>secondary_cleaner.state.floatbank6_a_air</th>\n",
       "      <th>secondary_cleaner.state.floatbank6_a_level</th>\n",
       "      <th>secondary_cleaner.output.tail_au</th>\n",
       "      <th>secondary_cleaner.output.tail_ag</th>\n",
       "      <th>secondary_cleaner.output.tail_pb</th>\n",
       "      <th>secondary_cleaner.output.tail_sol</th>\n",
       "      <th>final.output.concentrate_au</th>\n",
       "      <th>final.output.concentrate_ag</th>\n",
       "      <th>final.output.concentrate_pb</th>\n",
       "      <th>final.output.concentrate_sol</th>\n",
       "      <th>final.output.recovery</th>\n",
       "      <th>final.output.tail_au</th>\n",
       "      <th>final.output.tail_ag</th>\n",
       "      <th>final.output.tail_pb</th>\n",
       "      <th>final.output.tail_sol</th>\n",
       "    </tr>\n",
       "  </thead>\n",
       "  <tbody>\n",
       "    <tr>\n",
       "      <th>516</th>\n",
       "      <td>2016-02-08 00:00:00</td>\n",
       "      <td>5.598971</td>\n",
       "      <td>7.407737</td>\n",
       "      <td>1.934178</td>\n",
       "      <td>31.762853</td>\n",
       "      <td>500.087438</td>\n",
       "      <td>51.965198</td>\n",
       "      <td>10.251319</td>\n",
       "      <td>6.620908</td>\n",
       "      <td>999.884600</td>\n",
       "      <td>-499.972731</td>\n",
       "      <td>1499.290173</td>\n",
       "      <td>-399.546180</td>\n",
       "      <td>1499.161769</td>\n",
       "      <td>-398.630471</td>\n",
       "      <td>1499.040323</td>\n",
       "      <td>-399.389036</td>\n",
       "      <td>1501.877151</td>\n",
       "      <td>-397.227473</td>\n",
       "      <td>1501.061312</td>\n",
       "      <td>-400.602849</td>\n",
       "      <td>10.259054</td>\n",
       "      <td>6.620118</td>\n",
       "      <td>45778.313924</td>\n",
       "      <td>2952.203313</td>\n",
       "      <td>2943.136954</td>\n",
       "      <td>2.894754</td>\n",
       "      <td>15.935190</td>\n",
       "      <td>11.803589</td>\n",
       "      <td>7.143475</td>\n",
       "      <td>21.692525</td>\n",
       "      <td>68.960993</td>\n",
       "      <td>2.293607</td>\n",
       "      <td>5.114923</td>\n",
       "      <td>0.925673</td>\n",
       "      <td>20.699912</td>\n",
       "      <td>133.610147</td>\n",
       "      <td>14.032789</td>\n",
       "      <td>7.32</td>\n",
       "      <td>1.550190</td>\n",
       "      <td>1800.648807</td>\n",
       "      <td>-349.517991</td>\n",
       "      <td>1799.347332</td>\n",
       "      <td>-350.925554</td>\n",
       "      <td>1798.833149</td>\n",
       "      <td>-349.609813</td>\n",
       "      <td>1456.714168</td>\n",
       "      <td>-350.518404</td>\n",
       "      <td>26.238846</td>\n",
       "      <td>8.986696</td>\n",
       "      <td>6.530607</td>\n",
       "      <td>11.969464</td>\n",
       "      <td>1.965728</td>\n",
       "      <td>13.854131</td>\n",
       "      <td>2.156414</td>\n",
       "      <td>8.174442</td>\n",
       "      <td>32.054894</td>\n",
       "      <td>-400.832639</td>\n",
       "      <td>30.998499</td>\n",
       "      <td>-401.051170</td>\n",
       "      <td>30.900779</td>\n",
       "      <td>-400.953348</td>\n",
       "      <td>29.003189</td>\n",
       "      <td>-401.031397</td>\n",
       "      <td>21.991762</td>\n",
       "      <td>-399.587122</td>\n",
       "      <td>21.988937</td>\n",
       "      <td>-401.366408</td>\n",
       "      <td>22.995012</td>\n",
       "      <td>-399.370680</td>\n",
       "      <td>20.966863</td>\n",
       "      <td>-399.308354</td>\n",
       "      <td>24.987274</td>\n",
       "      <td>-399.619808</td>\n",
       "      <td>2.283842</td>\n",
       "      <td>11.838086</td>\n",
       "      <td>3.905472</td>\n",
       "      <td>10.651508</td>\n",
       "      <td>0.0</td>\n",
       "      <td>0.0</td>\n",
       "      <td>0.0</td>\n",
       "      <td>0.0</td>\n",
       "      <td>0.0</td>\n",
       "      <td>1.779052</td>\n",
       "      <td>8.894029</td>\n",
       "      <td>0.843584</td>\n",
       "      <td>15.417342</td>\n",
       "    </tr>\n",
       "    <tr>\n",
       "      <th>943</th>\n",
       "      <td>2016-02-26 17:00:00</td>\n",
       "      <td>7.786147</td>\n",
       "      <td>8.098125</td>\n",
       "      <td>2.588661</td>\n",
       "      <td>34.896012</td>\n",
       "      <td>502.314489</td>\n",
       "      <td>49.985298</td>\n",
       "      <td>8.842907</td>\n",
       "      <td>7.265263</td>\n",
       "      <td>1000.621368</td>\n",
       "      <td>-499.594073</td>\n",
       "      <td>1500.980640</td>\n",
       "      <td>-499.669103</td>\n",
       "      <td>1501.032313</td>\n",
       "      <td>-500.950129</td>\n",
       "      <td>1498.673085</td>\n",
       "      <td>-501.877154</td>\n",
       "      <td>1297.623855</td>\n",
       "      <td>-501.776602</td>\n",
       "      <td>1197.469227</td>\n",
       "      <td>-500.648180</td>\n",
       "      <td>8.842783</td>\n",
       "      <td>7.269218</td>\n",
       "      <td>32559.326343</td>\n",
       "      <td>2098.775030</td>\n",
       "      <td>2097.794484</td>\n",
       "      <td>3.007789</td>\n",
       "      <td>18.682162</td>\n",
       "      <td>10.640168</td>\n",
       "      <td>7.565854</td>\n",
       "      <td>24.793448</td>\n",
       "      <td>82.787322</td>\n",
       "      <td>2.046213</td>\n",
       "      <td>6.102604</td>\n",
       "      <td>0.788412</td>\n",
       "      <td>21.096415</td>\n",
       "      <td>111.502432</td>\n",
       "      <td>11.927825</td>\n",
       "      <td>7.79</td>\n",
       "      <td>0.992436</td>\n",
       "      <td>1600.246853</td>\n",
       "      <td>-402.167837</td>\n",
       "      <td>1601.734558</td>\n",
       "      <td>-398.906828</td>\n",
       "      <td>1595.110867</td>\n",
       "      <td>-401.693888</td>\n",
       "      <td>627.591922</td>\n",
       "      <td>-398.868839</td>\n",
       "      <td>34.564456</td>\n",
       "      <td>8.701237</td>\n",
       "      <td>7.234158</td>\n",
       "      <td>10.754321</td>\n",
       "      <td>4.009465</td>\n",
       "      <td>13.665507</td>\n",
       "      <td>2.569557</td>\n",
       "      <td>9.186415</td>\n",
       "      <td>30.029055</td>\n",
       "      <td>-449.465681</td>\n",
       "      <td>28.042141</td>\n",
       "      <td>-450.180346</td>\n",
       "      <td>27.039535</td>\n",
       "      <td>-449.388889</td>\n",
       "      <td>24.884122</td>\n",
       "      <td>-449.365144</td>\n",
       "      <td>11.979352</td>\n",
       "      <td>-453.431061</td>\n",
       "      <td>12.003445</td>\n",
       "      <td>-450.179844</td>\n",
       "      <td>11.982937</td>\n",
       "      <td>-449.856468</td>\n",
       "      <td>9.927727</td>\n",
       "      <td>-450.521700</td>\n",
       "      <td>19.971682</td>\n",
       "      <td>-500.685521</td>\n",
       "      <td>3.627020</td>\n",
       "      <td>11.644152</td>\n",
       "      <td>4.028016</td>\n",
       "      <td>11.880836</td>\n",
       "      <td>0.0</td>\n",
       "      <td>0.0</td>\n",
       "      <td>0.0</td>\n",
       "      <td>0.0</td>\n",
       "      <td>0.0</td>\n",
       "      <td>2.984504</td>\n",
       "      <td>10.817313</td>\n",
       "      <td>1.462800</td>\n",
       "      <td>16.407607</td>\n",
       "    </tr>\n",
       "    <tr>\n",
       "      <th>944</th>\n",
       "      <td>2016-02-26 18:00:00</td>\n",
       "      <td>7.499248</td>\n",
       "      <td>7.832467</td>\n",
       "      <td>2.435125</td>\n",
       "      <td>34.196525</td>\n",
       "      <td>501.677628</td>\n",
       "      <td>48.845911</td>\n",
       "      <td>8.501246</td>\n",
       "      <td>6.989404</td>\n",
       "      <td>999.826851</td>\n",
       "      <td>-500.323676</td>\n",
       "      <td>1500.315649</td>\n",
       "      <td>-499.482887</td>\n",
       "      <td>1498.075323</td>\n",
       "      <td>-499.213575</td>\n",
       "      <td>1501.362418</td>\n",
       "      <td>-500.711943</td>\n",
       "      <td>1300.513265</td>\n",
       "      <td>-499.835501</td>\n",
       "      <td>1200.145997</td>\n",
       "      <td>-498.002888</td>\n",
       "      <td>8.511888</td>\n",
       "      <td>6.982774</td>\n",
       "      <td>32534.407535</td>\n",
       "      <td>2102.119757</td>\n",
       "      <td>2101.265127</td>\n",
       "      <td>3.079615</td>\n",
       "      <td>18.231121</td>\n",
       "      <td>10.415491</td>\n",
       "      <td>7.367937</td>\n",
       "      <td>24.200400</td>\n",
       "      <td>83.515262</td>\n",
       "      <td>1.883162</td>\n",
       "      <td>6.016604</td>\n",
       "      <td>0.695116</td>\n",
       "      <td>20.893637</td>\n",
       "      <td>110.586754</td>\n",
       "      <td>12.018310</td>\n",
       "      <td>7.79</td>\n",
       "      <td>1.000046</td>\n",
       "      <td>1599.492169</td>\n",
       "      <td>-399.712307</td>\n",
       "      <td>1600.069554</td>\n",
       "      <td>-400.566751</td>\n",
       "      <td>1597.600427</td>\n",
       "      <td>-400.355176</td>\n",
       "      <td>620.987030</td>\n",
       "      <td>-400.064647</td>\n",
       "      <td>34.399450</td>\n",
       "      <td>8.697952</td>\n",
       "      <td>7.119325</td>\n",
       "      <td>10.194141</td>\n",
       "      <td>3.611843</td>\n",
       "      <td>13.008128</td>\n",
       "      <td>2.295769</td>\n",
       "      <td>9.822700</td>\n",
       "      <td>29.995514</td>\n",
       "      <td>-446.314649</td>\n",
       "      <td>27.944098</td>\n",
       "      <td>-449.314545</td>\n",
       "      <td>27.022681</td>\n",
       "      <td>-412.624177</td>\n",
       "      <td>25.010402</td>\n",
       "      <td>-421.023904</td>\n",
       "      <td>12.034636</td>\n",
       "      <td>-446.590944</td>\n",
       "      <td>12.130405</td>\n",
       "      <td>-449.684812</td>\n",
       "      <td>11.844983</td>\n",
       "      <td>-450.881424</td>\n",
       "      <td>9.916784</td>\n",
       "      <td>-449.542871</td>\n",
       "      <td>20.004767</td>\n",
       "      <td>-500.137068</td>\n",
       "      <td>3.462723</td>\n",
       "      <td>11.344059</td>\n",
       "      <td>3.795803</td>\n",
       "      <td>11.783571</td>\n",
       "      <td>0.0</td>\n",
       "      <td>0.0</td>\n",
       "      <td>0.0</td>\n",
       "      <td>0.0</td>\n",
       "      <td>0.0</td>\n",
       "      <td>2.747294</td>\n",
       "      <td>10.436792</td>\n",
       "      <td>1.207636</td>\n",
       "      <td>17.800392</td>\n",
       "    </tr>\n",
       "    <tr>\n",
       "      <th>945</th>\n",
       "      <td>2016-02-26 19:00:00</td>\n",
       "      <td>7.032278</td>\n",
       "      <td>7.600277</td>\n",
       "      <td>2.265148</td>\n",
       "      <td>31.994985</td>\n",
       "      <td>502.999469</td>\n",
       "      <td>47.430198</td>\n",
       "      <td>7.984067</td>\n",
       "      <td>6.548808</td>\n",
       "      <td>1000.694329</td>\n",
       "      <td>-499.966581</td>\n",
       "      <td>1500.338769</td>\n",
       "      <td>-500.170904</td>\n",
       "      <td>1501.268792</td>\n",
       "      <td>-499.772062</td>\n",
       "      <td>1500.508380</td>\n",
       "      <td>-498.921405</td>\n",
       "      <td>1298.806976</td>\n",
       "      <td>-501.174090</td>\n",
       "      <td>1199.749541</td>\n",
       "      <td>-499.076953</td>\n",
       "      <td>7.985276</td>\n",
       "      <td>6.547925</td>\n",
       "      <td>32614.935512</td>\n",
       "      <td>2100.138259</td>\n",
       "      <td>2099.194438</td>\n",
       "      <td>3.104556</td>\n",
       "      <td>18.190655</td>\n",
       "      <td>10.197899</td>\n",
       "      <td>7.364725</td>\n",
       "      <td>22.839147</td>\n",
       "      <td>83.702224</td>\n",
       "      <td>1.694374</td>\n",
       "      <td>5.716353</td>\n",
       "      <td>0.652338</td>\n",
       "      <td>20.221484</td>\n",
       "      <td>104.202288</td>\n",
       "      <td>12.009356</td>\n",
       "      <td>7.79</td>\n",
       "      <td>1.032094</td>\n",
       "      <td>1598.737484</td>\n",
       "      <td>-400.513059</td>\n",
       "      <td>1598.779541</td>\n",
       "      <td>-399.862718</td>\n",
       "      <td>1601.842631</td>\n",
       "      <td>-400.839380</td>\n",
       "      <td>615.876751</td>\n",
       "      <td>-399.840555</td>\n",
       "      <td>34.303756</td>\n",
       "      <td>8.921656</td>\n",
       "      <td>6.637383</td>\n",
       "      <td>10.291689</td>\n",
       "      <td>3.741261</td>\n",
       "      <td>13.088421</td>\n",
       "      <td>2.320117</td>\n",
       "      <td>9.669966</td>\n",
       "      <td>30.035842</td>\n",
       "      <td>-498.964978</td>\n",
       "      <td>27.997281</td>\n",
       "      <td>-497.340734</td>\n",
       "      <td>26.996184</td>\n",
       "      <td>-400.344496</td>\n",
       "      <td>25.036609</td>\n",
       "      <td>-441.604494</td>\n",
       "      <td>12.016716</td>\n",
       "      <td>-496.613149</td>\n",
       "      <td>12.055535</td>\n",
       "      <td>-496.908551</td>\n",
       "      <td>12.091144</td>\n",
       "      <td>-496.404140</td>\n",
       "      <td>9.976074</td>\n",
       "      <td>-496.783155</td>\n",
       "      <td>19.921634</td>\n",
       "      <td>-500.769011</td>\n",
       "      <td>3.488992</td>\n",
       "      <td>9.964582</td>\n",
       "      <td>3.606678</td>\n",
       "      <td>10.664451</td>\n",
       "      <td>0.0</td>\n",
       "      <td>0.0</td>\n",
       "      <td>0.0</td>\n",
       "      <td>0.0</td>\n",
       "      <td>0.0</td>\n",
       "      <td>2.791440</td>\n",
       "      <td>10.637073</td>\n",
       "      <td>1.405778</td>\n",
       "      <td>17.195897</td>\n",
       "    </tr>\n",
       "    <tr>\n",
       "      <th>946</th>\n",
       "      <td>2016-02-26 20:00:00</td>\n",
       "      <td>7.021635</td>\n",
       "      <td>7.436860</td>\n",
       "      <td>2.265435</td>\n",
       "      <td>32.541806</td>\n",
       "      <td>501.128474</td>\n",
       "      <td>47.440433</td>\n",
       "      <td>8.021768</td>\n",
       "      <td>6.531857</td>\n",
       "      <td>999.571743</td>\n",
       "      <td>-499.769543</td>\n",
       "      <td>1498.904184</td>\n",
       "      <td>-499.759503</td>\n",
       "      <td>1497.744582</td>\n",
       "      <td>-500.817450</td>\n",
       "      <td>1497.460411</td>\n",
       "      <td>-499.781484</td>\n",
       "      <td>1299.624610</td>\n",
       "      <td>-501.187097</td>\n",
       "      <td>1198.830483</td>\n",
       "      <td>-500.974606</td>\n",
       "      <td>8.022532</td>\n",
       "      <td>6.533838</td>\n",
       "      <td>32480.770879</td>\n",
       "      <td>2096.866328</td>\n",
       "      <td>2100.975298</td>\n",
       "      <td>3.099465</td>\n",
       "      <td>18.194323</td>\n",
       "      <td>9.968103</td>\n",
       "      <td>7.282737</td>\n",
       "      <td>22.918014</td>\n",
       "      <td>84.836821</td>\n",
       "      <td>1.582981</td>\n",
       "      <td>5.405111</td>\n",
       "      <td>0.636144</td>\n",
       "      <td>19.054158</td>\n",
       "      <td>102.438023</td>\n",
       "      <td>12.031551</td>\n",
       "      <td>7.79</td>\n",
       "      <td>0.955098</td>\n",
       "      <td>1597.982799</td>\n",
       "      <td>-399.485106</td>\n",
       "      <td>1597.494612</td>\n",
       "      <td>-399.626848</td>\n",
       "      <td>1602.547360</td>\n",
       "      <td>-400.172289</td>\n",
       "      <td>613.328125</td>\n",
       "      <td>-399.403101</td>\n",
       "      <td>33.956378</td>\n",
       "      <td>9.239378</td>\n",
       "      <td>6.249012</td>\n",
       "      <td>10.464946</td>\n",
       "      <td>3.869915</td>\n",
       "      <td>12.172650</td>\n",
       "      <td>2.040281</td>\n",
       "      <td>9.742966</td>\n",
       "      <td>30.038790</td>\n",
       "      <td>-494.944110</td>\n",
       "      <td>27.992440</td>\n",
       "      <td>-500.194801</td>\n",
       "      <td>26.952931</td>\n",
       "      <td>-499.602693</td>\n",
       "      <td>24.969402</td>\n",
       "      <td>-479.404793</td>\n",
       "      <td>11.993898</td>\n",
       "      <td>-500.427824</td>\n",
       "      <td>12.083824</td>\n",
       "      <td>-500.162537</td>\n",
       "      <td>12.078809</td>\n",
       "      <td>-499.903743</td>\n",
       "      <td>10.075259</td>\n",
       "      <td>-499.540325</td>\n",
       "      <td>20.039788</td>\n",
       "      <td>-499.932405</td>\n",
       "      <td>3.401284</td>\n",
       "      <td>8.665906</td>\n",
       "      <td>3.729378</td>\n",
       "      <td>9.578744</td>\n",
       "      <td>0.0</td>\n",
       "      <td>0.0</td>\n",
       "      <td>0.0</td>\n",
       "      <td>0.0</td>\n",
       "      <td>0.0</td>\n",
       "      <td>2.682127</td>\n",
       "      <td>10.530320</td>\n",
       "      <td>1.461550</td>\n",
       "      <td>17.556860</td>\n",
       "    </tr>\n",
       "  </tbody>\n",
       "</table>\n",
       "</div>"
      ],
      "text/plain": [
       "                    date  rougher.input.feed_au  rougher.input.feed_ag  \\\n",
       "516  2016-02-08 00:00:00               5.598971               7.407737   \n",
       "943  2016-02-26 17:00:00               7.786147               8.098125   \n",
       "944  2016-02-26 18:00:00               7.499248               7.832467   \n",
       "945  2016-02-26 19:00:00               7.032278               7.600277   \n",
       "946  2016-02-26 20:00:00               7.021635               7.436860   \n",
       "\n",
       "     rougher.input.feed_pb  rougher.input.feed_sol  rougher.input.feed_rate  \\\n",
       "516               1.934178               31.762853               500.087438   \n",
       "943               2.588661               34.896012               502.314489   \n",
       "944               2.435125               34.196525               501.677628   \n",
       "945               2.265148               31.994985               502.999469   \n",
       "946               2.265435               32.541806               501.128474   \n",
       "\n",
       "     rougher.input.feed_size  rougher.input.floatbank10_sulfate  \\\n",
       "516                51.965198                          10.251319   \n",
       "943                49.985298                           8.842907   \n",
       "944                48.845911                           8.501246   \n",
       "945                47.430198                           7.984067   \n",
       "946                47.440433                           8.021768   \n",
       "\n",
       "     rougher.input.floatbank10_xanthate  rougher.state.floatbank10_a_air  \\\n",
       "516                            6.620908                       999.884600   \n",
       "943                            7.265263                      1000.621368   \n",
       "944                            6.989404                       999.826851   \n",
       "945                            6.548808                      1000.694329   \n",
       "946                            6.531857                       999.571743   \n",
       "\n",
       "     rougher.state.floatbank10_a_level  rougher.state.floatbank10_b_air  \\\n",
       "516                        -499.972731                      1499.290173   \n",
       "943                        -499.594073                      1500.980640   \n",
       "944                        -500.323676                      1500.315649   \n",
       "945                        -499.966581                      1500.338769   \n",
       "946                        -499.769543                      1498.904184   \n",
       "\n",
       "     rougher.state.floatbank10_b_level  rougher.state.floatbank10_c_air  \\\n",
       "516                        -399.546180                      1499.161769   \n",
       "943                        -499.669103                      1501.032313   \n",
       "944                        -499.482887                      1498.075323   \n",
       "945                        -500.170904                      1501.268792   \n",
       "946                        -499.759503                      1497.744582   \n",
       "\n",
       "     rougher.state.floatbank10_c_level  rougher.state.floatbank10_d_air  \\\n",
       "516                        -398.630471                      1499.040323   \n",
       "943                        -500.950129                      1498.673085   \n",
       "944                        -499.213575                      1501.362418   \n",
       "945                        -499.772062                      1500.508380   \n",
       "946                        -500.817450                      1497.460411   \n",
       "\n",
       "     rougher.state.floatbank10_d_level  rougher.state.floatbank10_e_air  \\\n",
       "516                        -399.389036                      1501.877151   \n",
       "943                        -501.877154                      1297.623855   \n",
       "944                        -500.711943                      1300.513265   \n",
       "945                        -498.921405                      1298.806976   \n",
       "946                        -499.781484                      1299.624610   \n",
       "\n",
       "     rougher.state.floatbank10_e_level  rougher.state.floatbank10_f_air  \\\n",
       "516                        -397.227473                      1501.061312   \n",
       "943                        -501.776602                      1197.469227   \n",
       "944                        -499.835501                      1200.145997   \n",
       "945                        -501.174090                      1199.749541   \n",
       "946                        -501.187097                      1198.830483   \n",
       "\n",
       "     rougher.state.floatbank10_f_level  rougher.input.floatbank11_sulfate  \\\n",
       "516                        -400.602849                          10.259054   \n",
       "943                        -500.648180                           8.842783   \n",
       "944                        -498.002888                           8.511888   \n",
       "945                        -499.076953                           7.985276   \n",
       "946                        -500.974606                           8.022532   \n",
       "\n",
       "     rougher.input.floatbank11_xanthate  \\\n",
       "516                            6.620118   \n",
       "943                            7.269218   \n",
       "944                            6.982774   \n",
       "945                            6.547925   \n",
       "946                            6.533838   \n",
       "\n",
       "     rougher.calculation.sulfate_to_au_concentrate  \\\n",
       "516                                   45778.313924   \n",
       "943                                   32559.326343   \n",
       "944                                   32534.407535   \n",
       "945                                   32614.935512   \n",
       "946                                   32480.770879   \n",
       "\n",
       "     rougher.calculation.floatbank10_sulfate_to_au_feed  \\\n",
       "516                                        2952.203313    \n",
       "943                                        2098.775030    \n",
       "944                                        2102.119757    \n",
       "945                                        2100.138259    \n",
       "946                                        2096.866328    \n",
       "\n",
       "     rougher.calculation.floatbank11_sulfate_to_au_feed  \\\n",
       "516                                        2943.136954    \n",
       "943                                        2097.794484    \n",
       "944                                        2101.265127    \n",
       "945                                        2099.194438    \n",
       "946                                        2100.975298    \n",
       "\n",
       "     rougher.calculation.au_pb_ratio  rougher.output.concentrate_au  \\\n",
       "516                         2.894754                      15.935190   \n",
       "943                         3.007789                      18.682162   \n",
       "944                         3.079615                      18.231121   \n",
       "945                         3.104556                      18.190655   \n",
       "946                         3.099465                      18.194323   \n",
       "\n",
       "     rougher.output.concentrate_ag  rougher.output.concentrate_pb  \\\n",
       "516                      11.803589                       7.143475   \n",
       "943                      10.640168                       7.565854   \n",
       "944                      10.415491                       7.367937   \n",
       "945                      10.197899                       7.364725   \n",
       "946                       9.968103                       7.282737   \n",
       "\n",
       "     rougher.output.concentrate_sol  rougher.output.recovery  \\\n",
       "516                       21.692525                68.960993   \n",
       "943                       24.793448                82.787322   \n",
       "944                       24.200400                83.515262   \n",
       "945                       22.839147                83.702224   \n",
       "946                       22.918014                84.836821   \n",
       "\n",
       "     rougher.output.tail_au  rougher.output.tail_ag  rougher.output.tail_pb  \\\n",
       "516                2.293607                5.114923                0.925673   \n",
       "943                2.046213                6.102604                0.788412   \n",
       "944                1.883162                6.016604                0.695116   \n",
       "945                1.694374                5.716353                0.652338   \n",
       "946                1.582981                5.405111                0.636144   \n",
       "\n",
       "     rougher.output.tail_sol  primary_cleaner.input.sulfate  \\\n",
       "516                20.699912                     133.610147   \n",
       "943                21.096415                     111.502432   \n",
       "944                20.893637                     110.586754   \n",
       "945                20.221484                     104.202288   \n",
       "946                19.054158                     102.438023   \n",
       "\n",
       "     primary_cleaner.input.depressant  primary_cleaner.input.feed_size  \\\n",
       "516                         14.032789                             7.32   \n",
       "943                         11.927825                             7.79   \n",
       "944                         12.018310                             7.79   \n",
       "945                         12.009356                             7.79   \n",
       "946                         12.031551                             7.79   \n",
       "\n",
       "     primary_cleaner.input.xanthate  primary_cleaner.state.floatbank8_a_air  \\\n",
       "516                        1.550190                             1800.648807   \n",
       "943                        0.992436                             1600.246853   \n",
       "944                        1.000046                             1599.492169   \n",
       "945                        1.032094                             1598.737484   \n",
       "946                        0.955098                             1597.982799   \n",
       "\n",
       "     primary_cleaner.state.floatbank8_a_level  \\\n",
       "516                               -349.517991   \n",
       "943                               -402.167837   \n",
       "944                               -399.712307   \n",
       "945                               -400.513059   \n",
       "946                               -399.485106   \n",
       "\n",
       "     primary_cleaner.state.floatbank8_b_air  \\\n",
       "516                             1799.347332   \n",
       "943                             1601.734558   \n",
       "944                             1600.069554   \n",
       "945                             1598.779541   \n",
       "946                             1597.494612   \n",
       "\n",
       "     primary_cleaner.state.floatbank8_b_level  \\\n",
       "516                               -350.925554   \n",
       "943                               -398.906828   \n",
       "944                               -400.566751   \n",
       "945                               -399.862718   \n",
       "946                               -399.626848   \n",
       "\n",
       "     primary_cleaner.state.floatbank8_c_air  \\\n",
       "516                             1798.833149   \n",
       "943                             1595.110867   \n",
       "944                             1597.600427   \n",
       "945                             1601.842631   \n",
       "946                             1602.547360   \n",
       "\n",
       "     primary_cleaner.state.floatbank8_c_level  \\\n",
       "516                               -349.609813   \n",
       "943                               -401.693888   \n",
       "944                               -400.355176   \n",
       "945                               -400.839380   \n",
       "946                               -400.172289   \n",
       "\n",
       "     primary_cleaner.state.floatbank8_d_air  \\\n",
       "516                             1456.714168   \n",
       "943                              627.591922   \n",
       "944                              620.987030   \n",
       "945                              615.876751   \n",
       "946                              613.328125   \n",
       "\n",
       "     primary_cleaner.state.floatbank8_d_level  \\\n",
       "516                               -350.518404   \n",
       "943                               -398.868839   \n",
       "944                               -400.064647   \n",
       "945                               -399.840555   \n",
       "946                               -399.403101   \n",
       "\n",
       "     primary_cleaner.output.concentrate_au  \\\n",
       "516                              26.238846   \n",
       "943                              34.564456   \n",
       "944                              34.399450   \n",
       "945                              34.303756   \n",
       "946                              33.956378   \n",
       "\n",
       "     primary_cleaner.output.concentrate_ag  \\\n",
       "516                               8.986696   \n",
       "943                               8.701237   \n",
       "944                               8.697952   \n",
       "945                               8.921656   \n",
       "946                               9.239378   \n",
       "\n",
       "     primary_cleaner.output.concentrate_pb  \\\n",
       "516                               6.530607   \n",
       "943                               7.234158   \n",
       "944                               7.119325   \n",
       "945                               6.637383   \n",
       "946                               6.249012   \n",
       "\n",
       "     primary_cleaner.output.concentrate_sol  primary_cleaner.output.tail_au  \\\n",
       "516                               11.969464                        1.965728   \n",
       "943                               10.754321                        4.009465   \n",
       "944                               10.194141                        3.611843   \n",
       "945                               10.291689                        3.741261   \n",
       "946                               10.464946                        3.869915   \n",
       "\n",
       "     primary_cleaner.output.tail_ag  primary_cleaner.output.tail_pb  \\\n",
       "516                       13.854131                        2.156414   \n",
       "943                       13.665507                        2.569557   \n",
       "944                       13.008128                        2.295769   \n",
       "945                       13.088421                        2.320117   \n",
       "946                       12.172650                        2.040281   \n",
       "\n",
       "     primary_cleaner.output.tail_sol  \\\n",
       "516                         8.174442   \n",
       "943                         9.186415   \n",
       "944                         9.822700   \n",
       "945                         9.669966   \n",
       "946                         9.742966   \n",
       "\n",
       "     secondary_cleaner.state.floatbank2_a_air  \\\n",
       "516                                 32.054894   \n",
       "943                                 30.029055   \n",
       "944                                 29.995514   \n",
       "945                                 30.035842   \n",
       "946                                 30.038790   \n",
       "\n",
       "     secondary_cleaner.state.floatbank2_a_level  \\\n",
       "516                                 -400.832639   \n",
       "943                                 -449.465681   \n",
       "944                                 -446.314649   \n",
       "945                                 -498.964978   \n",
       "946                                 -494.944110   \n",
       "\n",
       "     secondary_cleaner.state.floatbank2_b_air  \\\n",
       "516                                 30.998499   \n",
       "943                                 28.042141   \n",
       "944                                 27.944098   \n",
       "945                                 27.997281   \n",
       "946                                 27.992440   \n",
       "\n",
       "     secondary_cleaner.state.floatbank2_b_level  \\\n",
       "516                                 -401.051170   \n",
       "943                                 -450.180346   \n",
       "944                                 -449.314545   \n",
       "945                                 -497.340734   \n",
       "946                                 -500.194801   \n",
       "\n",
       "     secondary_cleaner.state.floatbank3_a_air  \\\n",
       "516                                 30.900779   \n",
       "943                                 27.039535   \n",
       "944                                 27.022681   \n",
       "945                                 26.996184   \n",
       "946                                 26.952931   \n",
       "\n",
       "     secondary_cleaner.state.floatbank3_a_level  \\\n",
       "516                                 -400.953348   \n",
       "943                                 -449.388889   \n",
       "944                                 -412.624177   \n",
       "945                                 -400.344496   \n",
       "946                                 -499.602693   \n",
       "\n",
       "     secondary_cleaner.state.floatbank3_b_air  \\\n",
       "516                                 29.003189   \n",
       "943                                 24.884122   \n",
       "944                                 25.010402   \n",
       "945                                 25.036609   \n",
       "946                                 24.969402   \n",
       "\n",
       "     secondary_cleaner.state.floatbank3_b_level  \\\n",
       "516                                 -401.031397   \n",
       "943                                 -449.365144   \n",
       "944                                 -421.023904   \n",
       "945                                 -441.604494   \n",
       "946                                 -479.404793   \n",
       "\n",
       "     secondary_cleaner.state.floatbank4_a_air  \\\n",
       "516                                 21.991762   \n",
       "943                                 11.979352   \n",
       "944                                 12.034636   \n",
       "945                                 12.016716   \n",
       "946                                 11.993898   \n",
       "\n",
       "     secondary_cleaner.state.floatbank4_a_level  \\\n",
       "516                                 -399.587122   \n",
       "943                                 -453.431061   \n",
       "944                                 -446.590944   \n",
       "945                                 -496.613149   \n",
       "946                                 -500.427824   \n",
       "\n",
       "     secondary_cleaner.state.floatbank4_b_air  \\\n",
       "516                                 21.988937   \n",
       "943                                 12.003445   \n",
       "944                                 12.130405   \n",
       "945                                 12.055535   \n",
       "946                                 12.083824   \n",
       "\n",
       "     secondary_cleaner.state.floatbank4_b_level  \\\n",
       "516                                 -401.366408   \n",
       "943                                 -450.179844   \n",
       "944                                 -449.684812   \n",
       "945                                 -496.908551   \n",
       "946                                 -500.162537   \n",
       "\n",
       "     secondary_cleaner.state.floatbank5_a_air  \\\n",
       "516                                 22.995012   \n",
       "943                                 11.982937   \n",
       "944                                 11.844983   \n",
       "945                                 12.091144   \n",
       "946                                 12.078809   \n",
       "\n",
       "     secondary_cleaner.state.floatbank5_a_level  \\\n",
       "516                                 -399.370680   \n",
       "943                                 -449.856468   \n",
       "944                                 -450.881424   \n",
       "945                                 -496.404140   \n",
       "946                                 -499.903743   \n",
       "\n",
       "     secondary_cleaner.state.floatbank5_b_air  \\\n",
       "516                                 20.966863   \n",
       "943                                  9.927727   \n",
       "944                                  9.916784   \n",
       "945                                  9.976074   \n",
       "946                                 10.075259   \n",
       "\n",
       "     secondary_cleaner.state.floatbank5_b_level  \\\n",
       "516                                 -399.308354   \n",
       "943                                 -450.521700   \n",
       "944                                 -449.542871   \n",
       "945                                 -496.783155   \n",
       "946                                 -499.540325   \n",
       "\n",
       "     secondary_cleaner.state.floatbank6_a_air  \\\n",
       "516                                 24.987274   \n",
       "943                                 19.971682   \n",
       "944                                 20.004767   \n",
       "945                                 19.921634   \n",
       "946                                 20.039788   \n",
       "\n",
       "     secondary_cleaner.state.floatbank6_a_level  \\\n",
       "516                                 -399.619808   \n",
       "943                                 -500.685521   \n",
       "944                                 -500.137068   \n",
       "945                                 -500.769011   \n",
       "946                                 -499.932405   \n",
       "\n",
       "     secondary_cleaner.output.tail_au  secondary_cleaner.output.tail_ag  \\\n",
       "516                          2.283842                         11.838086   \n",
       "943                          3.627020                         11.644152   \n",
       "944                          3.462723                         11.344059   \n",
       "945                          3.488992                          9.964582   \n",
       "946                          3.401284                          8.665906   \n",
       "\n",
       "     secondary_cleaner.output.tail_pb  secondary_cleaner.output.tail_sol  \\\n",
       "516                          3.905472                          10.651508   \n",
       "943                          4.028016                          11.880836   \n",
       "944                          3.795803                          11.783571   \n",
       "945                          3.606678                          10.664451   \n",
       "946                          3.729378                           9.578744   \n",
       "\n",
       "     final.output.concentrate_au  final.output.concentrate_ag  \\\n",
       "516                          0.0                          0.0   \n",
       "943                          0.0                          0.0   \n",
       "944                          0.0                          0.0   \n",
       "945                          0.0                          0.0   \n",
       "946                          0.0                          0.0   \n",
       "\n",
       "     final.output.concentrate_pb  final.output.concentrate_sol  \\\n",
       "516                          0.0                           0.0   \n",
       "943                          0.0                           0.0   \n",
       "944                          0.0                           0.0   \n",
       "945                          0.0                           0.0   \n",
       "946                          0.0                           0.0   \n",
       "\n",
       "     final.output.recovery  final.output.tail_au  final.output.tail_ag  \\\n",
       "516                    0.0              1.779052              8.894029   \n",
       "943                    0.0              2.984504             10.817313   \n",
       "944                    0.0              2.747294             10.436792   \n",
       "945                    0.0              2.791440             10.637073   \n",
       "946                    0.0              2.682127             10.530320   \n",
       "\n",
       "     final.output.tail_pb  final.output.tail_sol  \n",
       "516              0.843584              15.417342  \n",
       "943              1.462800              16.407607  \n",
       "944              1.207636              17.800392  \n",
       "945              1.405778              17.195897  \n",
       "946              1.461550              17.556860  "
      ]
     },
     "metadata": {},
     "output_type": "display_data"
    }
   ],
   "source": [
    "print(data_full[data_full['final.output.recovery'] == 0].shape)\n",
    "display(data_full[data_full['final.output.recovery'] == 0].head())"
   ]
  },
  {
   "cell_type": "markdown",
   "metadata": {},
   "source": [
    "**Изучили данные:** \n",
    "1. Формат данных float64 - изменения не требует. Формат стобца date - object, но нам для исследования нам не нужен. Так что оставим, а потом удалим. \n",
    "2. Т.к. некоторые параметры недоступны, потому что замеряются или рассчитываются значительно позже, то пристуствуют пропуски. На 0 заменить не можем, поэтому стоит воспользоваться `fillna(method='ffill')`.\n",
    "3. Дубликатов нет. \n",
    "4. Так же проверили столбцы с целевми признаками, на колиечтво строк с значением 0. И так как эти строки не дадут нам информации удаляем. "
   ]
  },
  {
   "cell_type": "markdown",
   "metadata": {},
   "source": [
    "### Предобработка"
   ]
  },
  {
   "cell_type": "code",
   "execution_count": 16,
   "metadata": {},
   "outputs": [],
   "source": [
    "data_full = data_full.fillna(method='ffill')\n",
    "data_train= data_train.fillna(method='ffill') \n",
    "data_test = data_test.fillna(method='ffill')"
   ]
  },
  {
   "cell_type": "code",
   "execution_count": 18,
   "metadata": {},
   "outputs": [],
   "source": [
    "data_full = data_full[data_full['rougher.output.recovery'] > 0]\n",
    "data_full = data_full[data_full['final.output.recovery'] > 0]\n",
    "\n",
    "data_train = data_train[data_train['rougher.output.recovery'] > 0]\n",
    "data_train = data_train[data_train['final.output.recovery'] > 0]"
   ]
  },
  {
   "cell_type": "markdown",
   "metadata": {},
   "source": [
    "**Предобработка:**\n",
    "1. Заменили пропуски.\n",
    "2. Удалили строки со значением целевых признаков = 0. "
   ]
  },
  {
   "cell_type": "markdown",
   "metadata": {},
   "source": [
    "### Расчет эффективности обогащения и MAE."
   ]
  },
  {
   "cell_type": "code",
   "execution_count": 19,
   "metadata": {},
   "outputs": [],
   "source": [
    "#по формуле расчета recovery \n",
    "data_train_copy = data_train.copy()\n",
    "data_train_copy['m_recovery'] = (data_train_copy['rougher.output.concentrate_au']\\\n",
    "                           * (data_train_copy['rougher.input.feed_au'] - data_train_copy['rougher.output.tail_au']))\\\n",
    "                           / (data_train_copy['rougher.input.feed_au']\\\n",
    "                           * (data_train_copy['rougher.output.concentrate_au'] - data_train_copy['rougher.output.tail_au']))\\\n",
    "                           * 100"
   ]
  },
  {
   "cell_type": "code",
   "execution_count": 20,
   "metadata": {},
   "outputs": [
    {
     "name": "stdout",
     "output_type": "stream",
     "text": [
      "MAE: 7.17496317354171e-19\n"
     ]
    }
   ],
   "source": [
    "MAE = abs((\n",
    "    data_train_copy['m_recovery'] - data_train_copy['rougher.output.recovery'])\n",
    "    / len(data_train_copy['rougher.output.recovery'])\n",
    ")\n",
    "print('MAE:', MAE.mean())"
   ]
  },
  {
   "cell_type": "markdown",
   "metadata": {},
   "source": [
    "**МАЕ близок к нулю, следовательно расчет `recovery` проходит верно**"
   ]
  },
  {
   "cell_type": "markdown",
   "metadata": {},
   "source": [
    "### Признаки, исключеные из тестовой выборки."
   ]
  },
  {
   "cell_type": "code",
   "execution_count": 21,
   "metadata": {},
   "outputs": [
    {
     "data": {
      "text/plain": [
       "3                           final.output.concentrate_ag\n",
       "6                           final.output.concentrate_au\n",
       "4                           final.output.concentrate_pb\n",
       "20                         final.output.concentrate_sol\n",
       "19                                final.output.recovery\n",
       "32                                 final.output.tail_ag\n",
       "25                                 final.output.tail_au\n",
       "11                                 final.output.tail_pb\n",
       "0                                 final.output.tail_sol\n",
       "27                primary_cleaner.output.concentrate_ag\n",
       "12                primary_cleaner.output.concentrate_au\n",
       "22                primary_cleaner.output.concentrate_pb\n",
       "14               primary_cleaner.output.concentrate_sol\n",
       "23                       primary_cleaner.output.tail_ag\n",
       "28                       primary_cleaner.output.tail_au\n",
       "15                       primary_cleaner.output.tail_pb\n",
       "5                       primary_cleaner.output.tail_sol\n",
       "30                      rougher.calculation.au_pb_ratio\n",
       "24    rougher.calculation.floatbank10_sulfate_to_au_...\n",
       "18    rougher.calculation.floatbank11_sulfate_to_au_...\n",
       "1         rougher.calculation.sulfate_to_au_concentrate\n",
       "16                        rougher.output.concentrate_ag\n",
       "13                        rougher.output.concentrate_au\n",
       "7                         rougher.output.concentrate_pb\n",
       "9                        rougher.output.concentrate_sol\n",
       "26                              rougher.output.recovery\n",
       "10                               rougher.output.tail_ag\n",
       "17                               rougher.output.tail_au\n",
       "2                                rougher.output.tail_pb\n",
       "33                              rougher.output.tail_sol\n",
       "29                     secondary_cleaner.output.tail_ag\n",
       "31                     secondary_cleaner.output.tail_au\n",
       "21                     secondary_cleaner.output.tail_pb\n",
       "8                     secondary_cleaner.output.tail_sol\n",
       "dtype: object"
      ]
     },
     "metadata": {},
     "output_type": "display_data"
    }
   ],
   "source": [
    "data_train_col = data_train.columns\n",
    "data_test_col = data_test.columns\n",
    "param = pd.Series(list(set(data_train_col) - set(data_test_col)))\n",
    "display(param.sort_values())\n",
    "param_list = param.to_list"
   ]
  },
  {
   "cell_type": "markdown",
   "metadata": {},
   "source": [
    "Из тестовой выборки исключены выходные данные после каждого технологического этапа.  \n",
    "Целевые параметры в рамках проекта `final.output.recovery` и `rougher.output.recovery` также исключены из тестовой выборки.  \n",
    "Для дальнейшей работы с моделям их придется восстановить. "
   ]
  },
  {
   "cell_type": "markdown",
   "metadata": {},
   "source": [
    "## Анализ данных"
   ]
  },
  {
   "cell_type": "markdown",
   "metadata": {},
   "source": [
    "### Исследование концентрации металлов на каждом технологическом этапе."
   ]
  },
  {
   "cell_type": "code",
   "execution_count": 22,
   "metadata": {},
   "outputs": [
    {
     "name": "stdout",
     "output_type": "stream",
     "text": [
      "<class 'pandas.core.frame.DataFrame'>\n",
      "Int64Index: 18949 entries, 0 to 19438\n",
      "Data columns (total 13 columns):\n",
      " #   Column                                         Non-Null Count  Dtype  \n",
      "---  ------                                         --------------  -----  \n",
      " 0   rougher.calculation.sulfate_to_au_concentrate  18949 non-null  float64\n",
      " 1   rougher.output.concentrate_au                  18949 non-null  float64\n",
      " 2   rougher.output.concentrate_ag                  18949 non-null  float64\n",
      " 3   rougher.output.concentrate_pb                  18949 non-null  float64\n",
      " 4   rougher.output.concentrate_sol                 18949 non-null  float64\n",
      " 5   primary_cleaner.output.concentrate_au          18949 non-null  float64\n",
      " 6   primary_cleaner.output.concentrate_ag          18949 non-null  float64\n",
      " 7   primary_cleaner.output.concentrate_pb          18949 non-null  float64\n",
      " 8   primary_cleaner.output.concentrate_sol         18949 non-null  float64\n",
      " 9   final.output.concentrate_au                    18949 non-null  float64\n",
      " 10  final.output.concentrate_ag                    18949 non-null  float64\n",
      " 11  final.output.concentrate_pb                    18949 non-null  float64\n",
      " 12  final.output.concentrate_sol                   18949 non-null  float64\n",
      "dtypes: float64(13)\n",
      "memory usage: 2.0 MB\n",
      "<class 'pandas.core.frame.DataFrame'>\n",
      "Int64Index: 18949 entries, 0 to 19438\n",
      "Data columns (total 7 columns):\n",
      " #   Column                           Non-Null Count  Dtype  \n",
      "---  ------                           --------------  -----  \n",
      " 0   rougher.input.feed_au            18949 non-null  float64\n",
      " 1   rougher.input.feed_ag            18949 non-null  float64\n",
      " 2   rougher.input.feed_pb            18949 non-null  float64\n",
      " 3   rougher.input.feed_sol           18949 non-null  float64\n",
      " 4   rougher.input.feed_rate          18949 non-null  float64\n",
      " 5   rougher.input.feed_size          18949 non-null  float64\n",
      " 6   primary_cleaner.input.feed_size  18949 non-null  float64\n",
      "dtypes: float64(7)\n",
      "memory usage: 1.2 MB\n"
     ]
    }
   ],
   "source": [
    "#Находим интересующие нас столбцы.\n",
    "data_full.filter(regex = 'concentrate').info()\n",
    "data_full.filter(regex = 'input.feed_').info()"
   ]
  },
  {
   "cell_type": "code",
   "execution_count": 23,
   "metadata": {},
   "outputs": [],
   "source": [
    "#Убираю выбросы выбросы в меньшую сторону\n",
    "\n",
    "colm = ['rougher.input.feed_ag', 'rougher.input.feed_pb', 'rougher.input.feed_au','rougher.input.feed_sol', \n",
    "        'rougher.output.concentrate_ag', 'rougher.output.concentrate_pb', 'rougher.output.concentrate_au', \n",
    "        'rougher.output.concentrate_sol', 'primary_cleaner.output.concentrate_ag','primary_cleaner.output.concentrate_pb', \n",
    "        'primary_cleaner.output.concentrate_au', 'primary_cleaner.output.concentrate_sol','final.output.concentrate_ag', \n",
    "        'final.output.concentrate_pb', 'final.output.concentrate_au','final.output.concentrate_sol'] \n",
    "def a(x, y):\n",
    "    q1 = x[y].quantile(.25)\n",
    "    q3 = x[y].quantile(.75)\n",
    "    iqr = q3 - q1\n",
    "    a = q1 - 1.5 * iqr\n",
    "    return a \n",
    "\n",
    "for i in colm:\n",
    "    if data_full[i].min()<a(data_full, i):\n",
    "        data_full = data_full[data_full[i]>a(data_full, i)]\n",
    "\n",
    "for i in colm:\n",
    "    if data_train[i].min()<a(data_full, i):\n",
    "        data_train = data_train[data_train[i]>a(data_train, i)]"
   ]
  },
  {
   "cell_type": "code",
   "execution_count": 24,
   "metadata": {},
   "outputs": [
    {
     "data": {
      "image/png": "[encoded data removed]",
      "text/plain": [
       "<Figure size 1080x1080 with 4 Axes>"
      ]
     },
     "metadata": {
      "needs_background": "light"
     },
     "output_type": "display_data"
    }
   ],
   "source": [
    "# строим гистограммы распределения\n",
    "fig, ax = plt.subplots(4, 1, sharex='all')\n",
    "fig.set_figheight(15)\n",
    "fig.set_figwidth(15)\n",
    "fig.suptitle('Концентрация металлов на разных этапах очистки', y=0.95, size=16)\n",
    "# 1. Для сырья.\n",
    "ax[0].hist(data_full['rougher.input.feed_ag'], bins=50, alpha = 0.5, label = 'rougher.input.feed_ag', )\n",
    "ax[0].hist(data_full['rougher.input.feed_pb'], bins=50, alpha = 0.5, label = 'rougher.input.feed_pb')\n",
    "ax[0].hist(data_full['rougher.input.feed_au'], bins=50, alpha = 0.5, label = 'rougher.input.feed_au')\n",
    "ax[0].hist(data_full['rougher.input.feed_sol'], bins=50, alpha = 0.5, label = 'rougher.input.feed_sol')\n",
    "ax[0].legend()\n",
    "ax[0].set_xlabel('Концентрация')\n",
    "ax[0].set_ylabel('Кол-во')\n",
    "ax[0].set_title('Концентрация металлов в сырье')\n",
    "ax[0].grid()\n",
    "# 2. После флотации.\n",
    "ax[1].hist(data_full['rougher.output.concentrate_ag'], bins=50, alpha = 0.5, label = 'rougher.output.concentrate_ag')\n",
    "ax[1].hist(data_full['rougher.output.concentrate_pb'], bins=50, alpha = 0.5, label = 'rougher.output.concentrate_pb')\n",
    "ax[1].hist(data_full['rougher.output.concentrate_au'], bins=50, alpha = 0.5, label = 'rougher.output.concentrate_au')\n",
    "ax[1].hist(data_full['rougher.output.concentrate_sol'], bins=50, alpha = 0.5, label = 'rougher.output.concentrate_sol')\n",
    "ax[1].legend()\n",
    "ax[1].set_xlabel('Концентрация')\n",
    "ax[1].set_ylabel('Кол-во')\n",
    "ax[1].set_title('Концентрация металлов после флотации')\n",
    "ax[1].grid()\n",
    "# 3. После первой очистки. \n",
    "ax[2].hist(data_full['primary_cleaner.output.concentrate_ag'], bins=50, alpha = 0.5, label = 'primary_cleaner.output.concentrate_ag')\n",
    "ax[2].hist(data_full['primary_cleaner.output.concentrate_pb'], bins=50, alpha = 0.5, label = 'primary_cleaner.output.concentrate_pb')\n",
    "ax[2].hist(data_full['primary_cleaner.output.concentrate_au'], bins=50, alpha = 0.5, label = 'primary_cleaner.output.concentrate_au')\n",
    "ax[2].hist(data_full['primary_cleaner.output.concentrate_sol'], bins=50, alpha = 0.5, label = 'primary_cleaner.output.concentrate_sol')\n",
    "ax[2].legend()\n",
    "ax[2].set_xlabel('Концентрация')\n",
    "ax[2].set_ylabel('Кол-во')\n",
    "ax[2].set_title('Концентрация металлов после первого этапа очистки')\n",
    "ax[2].grid()\n",
    "# 4. Финал\n",
    "ax[3].hist(data_full['final.output.concentrate_ag'], bins=50, alpha = 0.5, label = 'final.output.concentrate_ag')\n",
    "ax[3].hist(data_full['final.output.concentrate_pb'], bins=50, alpha = 0.5, label = 'final.output.concentrate_pb')\n",
    "ax[3].hist(data_full['final.output.concentrate_au'], bins=50, alpha = 0.5, label = 'final.output.concentrate_au')\n",
    "ax[3].hist(data_full['final.output.concentrate_sol'], bins=50, alpha = 0.5, label = 'final.output.concentrate_au')\n",
    "ax[3].legend()\n",
    "ax[3].set_xlabel('Концентрация')\n",
    "ax[3].set_ylabel('Кол-во')\n",
    "ax[3].set_title('Концентрация металлов в финальном концентрате')\n",
    "ax[3].grid()\n",
    "\n",
    "plt.show()"
   ]
  },
  {
   "cell_type": "code",
   "execution_count": 25,
   "metadata": {},
   "outputs": [
    {
     "data": {
      "text/plain": [
       "feedstock           8.872198\n",
       "rougher            12.378280\n",
       "primary_cleaner     8.670486\n",
       "final               5.088472\n",
       "Name: mean, dtype: float64"
      ]
     },
     "metadata": {},
     "output_type": "display_data"
    }
   ],
   "source": [
    "rougher_input_feed_ag = data_full['rougher.input.feed_ag'].describe().to_frame()\n",
    "rougher_output_concentrate_ag = data_full['rougher.output.concentrate_ag'].describe().to_frame()\n",
    "primary_cleaner_output_concentrate_ag = data_full['primary_cleaner.output.concentrate_ag'].describe().to_frame()\n",
    "final_output_concentrate_ag = data_full['final.output.concentrate_ag'].describe().to_frame()\n",
    "\n",
    "\n",
    "ag = rougher_input_feed_ag.join(rougher_output_concentrate_ag, how='left').join(primary_cleaner_output_concentrate_ag, how='left')\\\n",
    ".join(final_output_concentrate_ag, how='left')\n",
    "\n",
    "ag1 = ag.rename(columns = {'rougher.input.feed_ag': 'feedstock', 'rougher.output.concentrate_ag':'rougher', 'primary_cleaner.output.concentrate_ag':'primary_cleaner', 'final.output.concentrate_ag': 'final'}, inplace = True)\n",
    "\n",
    "ag = ag.transpose()\n",
    "ag = ag['mean']\n",
    "\n",
    "display(ag)"
   ]
  },
  {
   "cell_type": "code",
   "execution_count": 26,
   "metadata": {},
   "outputs": [
    {
     "data": {
      "text/plain": [
       "feedstock           3.691644\n",
       "rougher             7.899183\n",
       "primary_cleaner    10.425947\n",
       "final              10.174426\n",
       "Name: mean, dtype: float64"
      ]
     },
     "metadata": {},
     "output_type": "display_data"
    }
   ],
   "source": [
    "rougher_input_feed_pb = data_full['rougher.input.feed_pb'].describe().to_frame()\n",
    "rougher_output_concentrate_pb = data_full['rougher.output.concentrate_pb'].describe().to_frame()\n",
    "primary_cleaner_output_concentrate_pb = data_full['primary_cleaner.output.concentrate_pb'].describe().to_frame()\n",
    "final_output_concentrate_pb = data_full['final.output.concentrate_pb'].describe().to_frame()\n",
    "\n",
    "pb = rougher_input_feed_pb.join(rougher_output_concentrate_pb, how='left').join(primary_cleaner_output_concentrate_pb, how='left')\\\n",
    ".join(final_output_concentrate_pb, how='left')\n",
    "\n",
    "pb1 = pb.rename(columns = {'rougher.input.feed_pb':'feedstock', \n",
    "                'rougher.output.concentrate_pb':'rougher', \n",
    "                'primary_cleaner.output.concentrate_pb':'primary_cleaner', \n",
    "                'final.output.concentrate_pb': 'final'}, inplace = True)\n",
    "\n",
    "pb = pb.transpose()\n",
    "pb = pb['mean']\n",
    "\n",
    "display(pb)"
   ]
  },
  {
   "cell_type": "code",
   "execution_count": 27,
   "metadata": {},
   "outputs": [
    {
     "data": {
      "text/plain": [
       "feedstock          37.479806\n",
       "rougher            30.066877\n",
       "primary_cleaner    10.761345\n",
       "final               9.792432\n",
       "Name: mean, dtype: float64"
      ]
     },
     "metadata": {},
     "output_type": "display_data"
    }
   ],
   "source": [
    "rougher_input_feed_sol = data_full['rougher.input.feed_sol'].describe().to_frame()\n",
    "rougher_output_concentrate_sol = data_full['rougher.output.concentrate_sol'].describe().to_frame()\n",
    "primary_cleaner_output_concentrate_sol = data_full['primary_cleaner.output.concentrate_sol'].describe().to_frame()\n",
    "final_output_concentrate_sol = data_full['final.output.concentrate_sol'].describe().to_frame()\n",
    "\n",
    "sol = rougher_input_feed_sol.join(rougher_output_concentrate_sol, how='left').join(primary_cleaner_output_concentrate_sol, how='left')\\\n",
    ".join(final_output_concentrate_sol, how='left')\n",
    "\n",
    "sol1 = sol.rename(columns = {'rougher.input.feed_sol': 'feedstock', 'rougher.output.concentrate_sol':'rougher', 'primary_cleaner.output.concentrate_sol':'primary_cleaner', 'final.output.concentrate_sol': 'final'}, inplace = True)\n",
    "\n",
    "sol = sol.transpose()\n",
    "sol = sol['mean']\n",
    "\n",
    "display(sol)"
   ]
  },
  {
   "cell_type": "code",
   "execution_count": 28,
   "metadata": {},
   "outputs": [
    {
     "data": {
      "text/plain": [
       "feedstock           8.445376\n",
       "rougher            20.457308\n",
       "primary_cleaner    32.905240\n",
       "final              45.068263\n",
       "Name: mean, dtype: float64"
      ]
     },
     "metadata": {},
     "output_type": "display_data"
    }
   ],
   "source": [
    "rougher_input_feed_au = data_full['rougher.input.feed_au'].describe().to_frame()\n",
    "rougher_output_concentrate_au = data_full['rougher.output.concentrate_au'].describe().to_frame()\n",
    "primary_cleaner_output_concentrate_au = data_full['primary_cleaner.output.concentrate_au'].describe().to_frame()\n",
    "final_output_concentrate_au = data_full['final.output.concentrate_au'].describe().to_frame()\n",
    "\n",
    "au = rougher_input_feed_au.join(rougher_output_concentrate_au, how='left').join(primary_cleaner_output_concentrate_au, how='left')\\\n",
    ".join(final_output_concentrate_au, how='left')\n",
    "\n",
    "au1 = au.rename(columns = {'rougher.input.feed_au': 'feedstock', 'rougher.output.concentrate_au':'rougher', 'primary_cleaner.output.concentrate_au':'primary_cleaner', 'final.output.concentrate_au': 'final'}, inplace = True)\n",
    "\n",
    "au = au.transpose()\n",
    "au = au['mean']\n",
    "\n",
    "display(au)"
   ]
  },
  {
   "cell_type": "code",
   "execution_count": 29,
   "metadata": {},
   "outputs": [],
   "source": [
    "ag = pd.DataFrame(ag)\n",
    "pb = pd.DataFrame(pb)\n",
    "sol = pd.DataFrame(sol)\n",
    "au = pd.DataFrame(au)\n",
    "\n",
    "mean_data = ag.join(pb, how='left', lsuffix='_ag', rsuffix='_pb')\n",
    "mean_data = mean_data.join(sol)\n",
    "mean_data = mean_data.join(au, how='left', lsuffix='_sol', rsuffix='_au')\n",
    "\n",
    "mean_data = mean_data.transpose()"
   ]
  },
  {
   "cell_type": "code",
   "execution_count": 30,
   "metadata": {},
   "outputs": [
    {
     "data": {
      "text/html": [
       "<div>\n",
       "<style scoped>\n",
       "    .dataframe tbody tr th:only-of-type {\n",
       "        vertical-align: middle;\n",
       "    }\n",
       "\n",
       "    .dataframe tbody tr th {\n",
       "        vertical-align: top;\n",
       "    }\n",
       "\n",
       "    .dataframe thead th {\n",
       "        text-align: right;\n",
       "    }\n",
       "</style>\n",
       "<table border=\"1\" class=\"dataframe\">\n",
       "  <thead>\n",
       "    <tr style=\"text-align: right;\">\n",
       "      <th></th>\n",
       "      <th>feedstock</th>\n",
       "      <th>rougher</th>\n",
       "      <th>primary_cleaner</th>\n",
       "      <th>final</th>\n",
       "    </tr>\n",
       "  </thead>\n",
       "  <tbody>\n",
       "    <tr>\n",
       "      <th>mean_ag</th>\n",
       "      <td>8.872198</td>\n",
       "      <td>12.378280</td>\n",
       "      <td>8.670486</td>\n",
       "      <td>5.088472</td>\n",
       "    </tr>\n",
       "    <tr>\n",
       "      <th>mean_pb</th>\n",
       "      <td>3.691644</td>\n",
       "      <td>7.899183</td>\n",
       "      <td>10.425947</td>\n",
       "      <td>10.174426</td>\n",
       "    </tr>\n",
       "    <tr>\n",
       "      <th>mean_sol</th>\n",
       "      <td>37.479806</td>\n",
       "      <td>30.066877</td>\n",
       "      <td>10.761345</td>\n",
       "      <td>9.792432</td>\n",
       "    </tr>\n",
       "    <tr>\n",
       "      <th>mean_au</th>\n",
       "      <td>8.445376</td>\n",
       "      <td>20.457308</td>\n",
       "      <td>32.905240</td>\n",
       "      <td>45.068263</td>\n",
       "    </tr>\n",
       "  </tbody>\n",
       "</table>\n",
       "</div>"
      ],
      "text/plain": [
       "          feedstock    rougher  primary_cleaner      final\n",
       "mean_ag    8.872198  12.378280         8.670486   5.088472\n",
       "mean_pb    3.691644   7.899183        10.425947  10.174426\n",
       "mean_sol  37.479806  30.066877        10.761345   9.792432\n",
       "mean_au    8.445376  20.457308        32.905240  45.068263"
      ]
     },
     "metadata": {},
     "output_type": "display_data"
    }
   ],
   "source": [
    "display(mean_data)"
   ]
  },
  {
   "cell_type": "markdown",
   "metadata": {},
   "source": [
    "### Вывод:\n",
    "Рассмотрев графики, мы можем увидеть преобладание в сырье `sol`. Которое сходидит на нет на финальном этапе.  \n",
    "Концентрация золота растет, что логично.  \n",
    "Таблица средних значений показывает:  \n",
    "Значение `ag` уменьшилось в 0.6 раз по сравнению со значением концентрации в сырье.  \n",
    "Значение `pb` увеличилось в 2.7 раз.  \n",
    "Значение `sol` уменьшилось в 0.25 раз.   \n",
    "значение `au` увеличилось в 5.4 раз.  "
   ]
  },
  {
   "cell_type": "markdown",
   "metadata": {},
   "source": [
    "### Исследования размера гранул в обучабщей и тестовых выборках."
   ]
  },
  {
   "cell_type": "code",
   "execution_count": 31,
   "metadata": {},
   "outputs": [
    {
     "name": "stdout",
     "output_type": "stream",
     "text": [
      "<class 'pandas.core.frame.DataFrame'>\n",
      "Int64Index: 11391 entries, 0 to 14577\n",
      "Data columns (total 2 columns):\n",
      " #   Column                           Non-Null Count  Dtype  \n",
      "---  ------                           --------------  -----  \n",
      " 0   rougher.input.feed_size          11391 non-null  float64\n",
      " 1   primary_cleaner.input.feed_size  11391 non-null  float64\n",
      "dtypes: float64(2)\n",
      "memory usage: 267.0 KB\n"
     ]
    }
   ],
   "source": [
    "data_train.filter(regex = 'feed_size').info()"
   ]
  },
  {
   "cell_type": "code",
   "execution_count": 32,
   "metadata": {},
   "outputs": [
    {
     "name": "stdout",
     "output_type": "stream",
     "text": [
      "<class 'pandas.core.frame.DataFrame'>\n",
      "RangeIndex: 4860 entries, 0 to 4859\n",
      "Data columns (total 2 columns):\n",
      " #   Column                           Non-Null Count  Dtype  \n",
      "---  ------                           --------------  -----  \n",
      " 0   rougher.input.feed_size          4860 non-null   float64\n",
      " 1   primary_cleaner.input.feed_size  4860 non-null   float64\n",
      "dtypes: float64(2)\n",
      "memory usage: 76.1 KB\n"
     ]
    }
   ],
   "source": [
    "data_test.filter(regex = 'feed_size').info()"
   ]
  },
  {
   "cell_type": "code",
   "execution_count": 33,
   "metadata": {},
   "outputs": [
    {
     "data": {
      "image/png": "[encoded data removed]",
      "text/plain": [
       "<Figure size 1080x360 with 1 Axes>"
      ]
     },
     "metadata": {
      "needs_background": "light"
     },
     "output_type": "display_data"
    }
   ],
   "source": [
    "plt.figure(figsize=(15, 5))\n",
    "sns.kdeplot(data_train['rougher.input.feed_size'], color = 'b', alpha=0.5, label = 'train_rougher.input.feed_size')\n",
    "sns.kdeplot(data_test['rougher.input.feed_size'], color = 'r', alpha=0.5, label = 'test_rougher.input.feed_size')\n",
    "plt.legend()\n",
    "plt.title('Размер гранул сырья на входе')\n",
    "plt.xlabel('Размер гранул')\n",
    "plt.ylabel('Плотность распределения')\n",
    "plt.grid()\n",
    "plt.show()"
   ]
  },
  {
   "cell_type": "code",
   "execution_count": 35,
   "metadata": {},
   "outputs": [
    {
     "data": {
      "text/plain": [
       "count    11391.000000\n",
       "mean        58.952958\n",
       "std         21.054508\n",
       "min          0.049194\n",
       "25%         47.531985\n",
       "50%         54.473272\n",
       "75%         64.698613\n",
       "max        484.967466\n",
       "Name: rougher.input.feed_size, dtype: float64"
      ]
     },
     "metadata": {},
     "output_type": "display_data"
    },
    {
     "data": {
      "text/plain": [
       "count    4860.000000\n",
       "mean       59.136150\n",
       "std        19.512497\n",
       "min         0.046369\n",
       "25%        47.610795\n",
       "50%        55.461058\n",
       "75%        66.538910\n",
       "max       363.989699\n",
       "Name: rougher.input.feed_size, dtype: float64"
      ]
     },
     "metadata": {},
     "output_type": "display_data"
    }
   ],
   "source": [
    "display(data_train['rougher.input.feed_size'].describe())\n",
    "display(data_test['rougher.input.feed_size'].describe())"
   ]
  },
  {
   "cell_type": "markdown",
   "metadata": {},
   "source": [
    "### Вывод:\n",
    "1. Размер гранул сырья в обучающей и тестовой выборке практически одинаковые. \n",
    "2. Разница видна только в максимальном значении, но все, что идет до 75% практически идентично.\n",
    "3. Отличий, которые могут повлиять на работу модели, нет."
   ]
  },
  {
   "cell_type": "markdown",
   "metadata": {},
   "source": [
    "### Исследование общей концентрации на разных этапах. "
   ]
  },
  {
   "cell_type": "code",
   "execution_count": 36,
   "metadata": {},
   "outputs": [],
   "source": [
    "data_full_copy = data_full.copy()"
   ]
  },
  {
   "cell_type": "code",
   "execution_count": 37,
   "metadata": {},
   "outputs": [],
   "source": [
    "data_full_copy['all_concentrate_feedstock'] = data_full_copy['rougher.input.feed_ag']\\\n",
    "+ data_full_copy['rougher.input.feed_pb']\\\n",
    "+ data_full_copy['rougher.input.feed_sol']\\\n",
    "+ data_full_copy['rougher.input.feed_au']"
   ]
  },
  {
   "cell_type": "code",
   "execution_count": 38,
   "metadata": {},
   "outputs": [],
   "source": [
    "data_full_copy['all_concentrate_rougher'] = data_full_copy['rougher.output.concentrate_ag']\\\n",
    "+ data_full_copy['rougher.output.concentrate_pb']\\\n",
    "+ data_full_copy['rougher.output.concentrate_sol']\\\n",
    "+ data_full_copy['rougher.output.concentrate_au']"
   ]
  },
  {
   "cell_type": "code",
   "execution_count": 39,
   "metadata": {},
   "outputs": [],
   "source": [
    "data_full_copy['all_concentrate_primary'] = data_full_copy['primary_cleaner.output.concentrate_ag']\\\n",
    "+ data_full_copy['primary_cleaner.output.concentrate_pb']\\\n",
    "+ data_full_copy['primary_cleaner.output.concentrate_sol']\\\n",
    "+ data_full_copy['primary_cleaner.output.concentrate_au']"
   ]
  },
  {
   "cell_type": "code",
   "execution_count": 40,
   "metadata": {},
   "outputs": [],
   "source": [
    "data_full_copy['all_concentrate_final'] = data_full_copy['final.output.concentrate_ag']\\\n",
    "+ data_full_copy['final.output.concentrate_pb']\\\n",
    "+ data_full_copy['final.output.concentrate_sol']\\\n",
    "+ data_full_copy['final.output.concentrate_au']"
   ]
  },
  {
   "cell_type": "code",
   "execution_count": 41,
   "metadata": {},
   "outputs": [
    {
     "data": {
      "image/png": "[encoded data removed]",
      "text/plain": [
       "<Figure size 1080x360 with 1 Axes>"
      ]
     },
     "metadata": {
      "needs_background": "light"
     },
     "output_type": "display_data"
    }
   ],
   "source": [
    "plt.figure(figsize=(15, 5))\n",
    "\n",
    "data_full_copy['all_concentrate_feedstock'].plot(kind = 'hist', color='orange', alpha = 0.5, label = 'all_concentrate_feedstock'\\\n",
    "                                         , bins = 100)\n",
    "data_full_copy['all_concentrate_rougher'].plot(kind = 'hist', color = 'blue', alpha = 0.5, label = 'all_concentrate_rougher' \\\n",
    "                                         , bins = 100)\n",
    "data_full_copy['all_concentrate_primary'].plot(kind = 'hist', color='red', alpha = 0.5, label = 'all_concentrate_primary'\\\n",
    "                                         , bins = 100)\n",
    "data_full_copy['all_concentrate_final'].plot(kind = 'hist', color='green', alpha = 0.5, label = 'all_concentrate_final'\\\n",
    "                                         , bins = 100)\n",
    "plt.title('Распределение данных о суммарной концентрации всех веществ на разных этапах')\n",
    "plt.grid()\n",
    "plt.legend()\n",
    "plt.show()"
   ]
  },
  {
   "cell_type": "code",
   "execution_count": 42,
   "metadata": {},
   "outputs": [
    {
     "data": {
      "text/html": [
       "<div>\n",
       "<style scoped>\n",
       "    .dataframe tbody tr th:only-of-type {\n",
       "        vertical-align: middle;\n",
       "    }\n",
       "\n",
       "    .dataframe tbody tr th {\n",
       "        vertical-align: top;\n",
       "    }\n",
       "\n",
       "    .dataframe thead th {\n",
       "        text-align: right;\n",
       "    }\n",
       "</style>\n",
       "<table border=\"1\" class=\"dataframe\">\n",
       "  <thead>\n",
       "    <tr style=\"text-align: right;\">\n",
       "      <th></th>\n",
       "      <th>date</th>\n",
       "      <th>rougher.input.feed_au</th>\n",
       "      <th>rougher.input.feed_ag</th>\n",
       "      <th>rougher.input.feed_pb</th>\n",
       "      <th>rougher.input.feed_sol</th>\n",
       "      <th>rougher.input.feed_rate</th>\n",
       "      <th>rougher.input.feed_size</th>\n",
       "      <th>rougher.input.floatbank10_sulfate</th>\n",
       "      <th>rougher.input.floatbank10_xanthate</th>\n",
       "      <th>rougher.state.floatbank10_a_air</th>\n",
       "      <th>rougher.state.floatbank10_a_level</th>\n",
       "      <th>rougher.state.floatbank10_b_air</th>\n",
       "      <th>rougher.state.floatbank10_b_level</th>\n",
       "      <th>rougher.state.floatbank10_c_air</th>\n",
       "      <th>rougher.state.floatbank10_c_level</th>\n",
       "      <th>rougher.state.floatbank10_d_air</th>\n",
       "      <th>rougher.state.floatbank10_d_level</th>\n",
       "      <th>rougher.state.floatbank10_e_air</th>\n",
       "      <th>rougher.state.floatbank10_e_level</th>\n",
       "      <th>rougher.state.floatbank10_f_air</th>\n",
       "      <th>rougher.state.floatbank10_f_level</th>\n",
       "      <th>rougher.input.floatbank11_sulfate</th>\n",
       "      <th>rougher.input.floatbank11_xanthate</th>\n",
       "      <th>rougher.calculation.sulfate_to_au_concentrate</th>\n",
       "      <th>rougher.calculation.floatbank10_sulfate_to_au_feed</th>\n",
       "      <th>rougher.calculation.floatbank11_sulfate_to_au_feed</th>\n",
       "      <th>rougher.calculation.au_pb_ratio</th>\n",
       "      <th>rougher.output.concentrate_au</th>\n",
       "      <th>rougher.output.concentrate_ag</th>\n",
       "      <th>rougher.output.concentrate_pb</th>\n",
       "      <th>rougher.output.concentrate_sol</th>\n",
       "      <th>rougher.output.recovery</th>\n",
       "      <th>rougher.output.tail_au</th>\n",
       "      <th>rougher.output.tail_ag</th>\n",
       "      <th>rougher.output.tail_pb</th>\n",
       "      <th>rougher.output.tail_sol</th>\n",
       "      <th>primary_cleaner.input.sulfate</th>\n",
       "      <th>primary_cleaner.input.depressant</th>\n",
       "      <th>primary_cleaner.input.feed_size</th>\n",
       "      <th>primary_cleaner.input.xanthate</th>\n",
       "      <th>primary_cleaner.state.floatbank8_a_air</th>\n",
       "      <th>primary_cleaner.state.floatbank8_a_level</th>\n",
       "      <th>primary_cleaner.state.floatbank8_b_air</th>\n",
       "      <th>primary_cleaner.state.floatbank8_b_level</th>\n",
       "      <th>primary_cleaner.state.floatbank8_c_air</th>\n",
       "      <th>primary_cleaner.state.floatbank8_c_level</th>\n",
       "      <th>primary_cleaner.state.floatbank8_d_air</th>\n",
       "      <th>primary_cleaner.state.floatbank8_d_level</th>\n",
       "      <th>primary_cleaner.output.concentrate_au</th>\n",
       "      <th>primary_cleaner.output.concentrate_ag</th>\n",
       "      <th>primary_cleaner.output.concentrate_pb</th>\n",
       "      <th>primary_cleaner.output.concentrate_sol</th>\n",
       "      <th>primary_cleaner.output.tail_au</th>\n",
       "      <th>primary_cleaner.output.tail_ag</th>\n",
       "      <th>primary_cleaner.output.tail_pb</th>\n",
       "      <th>primary_cleaner.output.tail_sol</th>\n",
       "      <th>secondary_cleaner.state.floatbank2_a_air</th>\n",
       "      <th>secondary_cleaner.state.floatbank2_a_level</th>\n",
       "      <th>secondary_cleaner.state.floatbank2_b_air</th>\n",
       "      <th>secondary_cleaner.state.floatbank2_b_level</th>\n",
       "      <th>secondary_cleaner.state.floatbank3_a_air</th>\n",
       "      <th>secondary_cleaner.state.floatbank3_a_level</th>\n",
       "      <th>secondary_cleaner.state.floatbank3_b_air</th>\n",
       "      <th>secondary_cleaner.state.floatbank3_b_level</th>\n",
       "      <th>secondary_cleaner.state.floatbank4_a_air</th>\n",
       "      <th>secondary_cleaner.state.floatbank4_a_level</th>\n",
       "      <th>secondary_cleaner.state.floatbank4_b_air</th>\n",
       "      <th>secondary_cleaner.state.floatbank4_b_level</th>\n",
       "      <th>secondary_cleaner.state.floatbank5_a_air</th>\n",
       "      <th>secondary_cleaner.state.floatbank5_a_level</th>\n",
       "      <th>secondary_cleaner.state.floatbank5_b_air</th>\n",
       "      <th>secondary_cleaner.state.floatbank5_b_level</th>\n",
       "      <th>secondary_cleaner.state.floatbank6_a_air</th>\n",
       "      <th>secondary_cleaner.state.floatbank6_a_level</th>\n",
       "      <th>secondary_cleaner.output.tail_au</th>\n",
       "      <th>secondary_cleaner.output.tail_ag</th>\n",
       "      <th>secondary_cleaner.output.tail_pb</th>\n",
       "      <th>secondary_cleaner.output.tail_sol</th>\n",
       "      <th>final.output.concentrate_au</th>\n",
       "      <th>final.output.concentrate_ag</th>\n",
       "      <th>final.output.concentrate_pb</th>\n",
       "      <th>final.output.concentrate_sol</th>\n",
       "      <th>final.output.recovery</th>\n",
       "      <th>final.output.tail_au</th>\n",
       "      <th>final.output.tail_ag</th>\n",
       "      <th>final.output.tail_pb</th>\n",
       "      <th>final.output.tail_sol</th>\n",
       "      <th>all_concentrate_feedstock</th>\n",
       "      <th>all_concentrate_rougher</th>\n",
       "      <th>all_concentrate_primary</th>\n",
       "      <th>all_concentrate_final</th>\n",
       "    </tr>\n",
       "  </thead>\n",
       "  <tbody>\n",
       "    <tr>\n",
       "      <th>0</th>\n",
       "      <td>2016-01-15 00:00:00</td>\n",
       "      <td>6.486150</td>\n",
       "      <td>6.100378</td>\n",
       "      <td>2.284912</td>\n",
       "      <td>36.808594</td>\n",
       "      <td>523.546326</td>\n",
       "      <td>55.486599</td>\n",
       "      <td>11.986616</td>\n",
       "      <td>6.007990</td>\n",
       "      <td>999.706909</td>\n",
       "      <td>-404.066986</td>\n",
       "      <td>1603.011353</td>\n",
       "      <td>-434.715027</td>\n",
       "      <td>1602.375000</td>\n",
       "      <td>-442.204468</td>\n",
       "      <td>1598.937256</td>\n",
       "      <td>-451.294128</td>\n",
       "      <td>1404.472046</td>\n",
       "      <td>-455.462982</td>\n",
       "      <td>1416.354980</td>\n",
       "      <td>-451.939636</td>\n",
       "      <td>11.836743</td>\n",
       "      <td>6.005818</td>\n",
       "      <td>41885.707031</td>\n",
       "      <td>3481.779053</td>\n",
       "      <td>3520.337158</td>\n",
       "      <td>2.838687</td>\n",
       "      <td>19.793808</td>\n",
       "      <td>11.500771</td>\n",
       "      <td>7.101074</td>\n",
       "      <td>28.029297</td>\n",
       "      <td>87.107763</td>\n",
       "      <td>1.170244</td>\n",
       "      <td>5.008018</td>\n",
       "      <td>0.508728</td>\n",
       "      <td>19.154297</td>\n",
       "      <td>127.092003</td>\n",
       "      <td>10.128295</td>\n",
       "      <td>7.25</td>\n",
       "      <td>0.988759</td>\n",
       "      <td>1549.775757</td>\n",
       "      <td>-498.912140</td>\n",
       "      <td>1551.434204</td>\n",
       "      <td>-516.403442</td>\n",
       "      <td>1549.873901</td>\n",
       "      <td>-498.666595</td>\n",
       "      <td>1554.367432</td>\n",
       "      <td>-493.428131</td>\n",
       "      <td>34.174427</td>\n",
       "      <td>8.547551</td>\n",
       "      <td>10.389648</td>\n",
       "      <td>19.529297</td>\n",
       "      <td>2.106679</td>\n",
       "      <td>14.936526</td>\n",
       "      <td>2.534912</td>\n",
       "      <td>7.476074</td>\n",
       "      <td>25.853109</td>\n",
       "      <td>-498.526489</td>\n",
       "      <td>23.893660</td>\n",
       "      <td>-501.406281</td>\n",
       "      <td>23.961798</td>\n",
       "      <td>-495.262817</td>\n",
       "      <td>21.940409</td>\n",
       "      <td>-499.340973</td>\n",
       "      <td>14.016835</td>\n",
       "      <td>-502.488007</td>\n",
       "      <td>12.099931</td>\n",
       "      <td>-504.715942</td>\n",
       "      <td>9.925633</td>\n",
       "      <td>-498.310211</td>\n",
       "      <td>8.079666</td>\n",
       "      <td>-500.470978</td>\n",
       "      <td>14.151341</td>\n",
       "      <td>-605.841980</td>\n",
       "      <td>2.606185</td>\n",
       "      <td>14.500184</td>\n",
       "      <td>4.694824</td>\n",
       "      <td>8.764648</td>\n",
       "      <td>42.192020</td>\n",
       "      <td>6.055403</td>\n",
       "      <td>9.889648</td>\n",
       "      <td>5.507324</td>\n",
       "      <td>70.541216</td>\n",
       "      <td>2.143149</td>\n",
       "      <td>10.411962</td>\n",
       "      <td>0.895447</td>\n",
       "      <td>16.904297</td>\n",
       "      <td>51.680034</td>\n",
       "      <td>66.424950</td>\n",
       "      <td>72.640924</td>\n",
       "      <td>63.644396</td>\n",
       "    </tr>\n",
       "    <tr>\n",
       "      <th>1</th>\n",
       "      <td>2016-01-15 01:00:00</td>\n",
       "      <td>6.478583</td>\n",
       "      <td>6.161113</td>\n",
       "      <td>2.266033</td>\n",
       "      <td>35.753385</td>\n",
       "      <td>525.290581</td>\n",
       "      <td>57.278666</td>\n",
       "      <td>11.971193</td>\n",
       "      <td>6.005766</td>\n",
       "      <td>1000.286398</td>\n",
       "      <td>-400.065196</td>\n",
       "      <td>1600.754587</td>\n",
       "      <td>-449.953435</td>\n",
       "      <td>1600.479580</td>\n",
       "      <td>-449.830646</td>\n",
       "      <td>1600.527589</td>\n",
       "      <td>-449.953649</td>\n",
       "      <td>1399.227084</td>\n",
       "      <td>-450.869848</td>\n",
       "      <td>1399.719514</td>\n",
       "      <td>-450.119001</td>\n",
       "      <td>11.996163</td>\n",
       "      <td>6.012594</td>\n",
       "      <td>42050.861809</td>\n",
       "      <td>3498.370979</td>\n",
       "      <td>3489.981857</td>\n",
       "      <td>2.858998</td>\n",
       "      <td>20.050975</td>\n",
       "      <td>11.615865</td>\n",
       "      <td>7.278807</td>\n",
       "      <td>28.067063</td>\n",
       "      <td>86.843261</td>\n",
       "      <td>1.184827</td>\n",
       "      <td>4.955378</td>\n",
       "      <td>0.536689</td>\n",
       "      <td>18.965234</td>\n",
       "      <td>125.629232</td>\n",
       "      <td>10.296251</td>\n",
       "      <td>7.25</td>\n",
       "      <td>1.002663</td>\n",
       "      <td>1576.166671</td>\n",
       "      <td>-500.904965</td>\n",
       "      <td>1575.950626</td>\n",
       "      <td>-499.865889</td>\n",
       "      <td>1575.994189</td>\n",
       "      <td>-499.315107</td>\n",
       "      <td>1574.479259</td>\n",
       "      <td>-498.931665</td>\n",
       "      <td>34.118526</td>\n",
       "      <td>8.558743</td>\n",
       "      <td>10.497069</td>\n",
       "      <td>19.369147</td>\n",
       "      <td>2.353017</td>\n",
       "      <td>16.250511</td>\n",
       "      <td>3.049646</td>\n",
       "      <td>6.733907</td>\n",
       "      <td>25.880539</td>\n",
       "      <td>-499.989656</td>\n",
       "      <td>23.889530</td>\n",
       "      <td>-500.372428</td>\n",
       "      <td>23.970550</td>\n",
       "      <td>-500.085473</td>\n",
       "      <td>22.085714</td>\n",
       "      <td>-499.446897</td>\n",
       "      <td>13.992281</td>\n",
       "      <td>-505.503262</td>\n",
       "      <td>11.950531</td>\n",
       "      <td>-501.331529</td>\n",
       "      <td>10.039245</td>\n",
       "      <td>-500.169983</td>\n",
       "      <td>7.984757</td>\n",
       "      <td>-500.582168</td>\n",
       "      <td>13.998353</td>\n",
       "      <td>-599.787184</td>\n",
       "      <td>2.488248</td>\n",
       "      <td>14.265474</td>\n",
       "      <td>4.592547</td>\n",
       "      <td>9.001494</td>\n",
       "      <td>42.701629</td>\n",
       "      <td>6.029369</td>\n",
       "      <td>9.968944</td>\n",
       "      <td>5.257781</td>\n",
       "      <td>69.266198</td>\n",
       "      <td>2.224930</td>\n",
       "      <td>10.462676</td>\n",
       "      <td>0.927452</td>\n",
       "      <td>16.634514</td>\n",
       "      <td>50.659114</td>\n",
       "      <td>67.012710</td>\n",
       "      <td>72.543485</td>\n",
       "      <td>63.957723</td>\n",
       "    </tr>\n",
       "    <tr>\n",
       "      <th>2</th>\n",
       "      <td>2016-01-15 02:00:00</td>\n",
       "      <td>6.362222</td>\n",
       "      <td>6.116455</td>\n",
       "      <td>2.159622</td>\n",
       "      <td>35.971630</td>\n",
       "      <td>530.026610</td>\n",
       "      <td>57.510649</td>\n",
       "      <td>11.920603</td>\n",
       "      <td>6.197377</td>\n",
       "      <td>999.719565</td>\n",
       "      <td>-400.074028</td>\n",
       "      <td>1599.337330</td>\n",
       "      <td>-450.008530</td>\n",
       "      <td>1599.672797</td>\n",
       "      <td>-449.954491</td>\n",
       "      <td>1599.849325</td>\n",
       "      <td>-449.954185</td>\n",
       "      <td>1399.180945</td>\n",
       "      <td>-449.937588</td>\n",
       "      <td>1400.316682</td>\n",
       "      <td>-450.527147</td>\n",
       "      <td>11.920305</td>\n",
       "      <td>6.204633</td>\n",
       "      <td>42018.101184</td>\n",
       "      <td>3495.348910</td>\n",
       "      <td>3502.359819</td>\n",
       "      <td>2.945989</td>\n",
       "      <td>19.737170</td>\n",
       "      <td>11.695753</td>\n",
       "      <td>7.216833</td>\n",
       "      <td>27.454037</td>\n",
       "      <td>86.842308</td>\n",
       "      <td>1.162562</td>\n",
       "      <td>4.843460</td>\n",
       "      <td>0.546416</td>\n",
       "      <td>18.808533</td>\n",
       "      <td>123.819808</td>\n",
       "      <td>11.316280</td>\n",
       "      <td>7.25</td>\n",
       "      <td>0.991265</td>\n",
       "      <td>1601.556163</td>\n",
       "      <td>-499.997791</td>\n",
       "      <td>1600.386685</td>\n",
       "      <td>-500.607762</td>\n",
       "      <td>1602.003542</td>\n",
       "      <td>-500.870069</td>\n",
       "      <td>1599.541515</td>\n",
       "      <td>-499.827444</td>\n",
       "      <td>33.969464</td>\n",
       "      <td>8.603505</td>\n",
       "      <td>10.354494</td>\n",
       "      <td>19.167579</td>\n",
       "      <td>2.416800</td>\n",
       "      <td>16.491823</td>\n",
       "      <td>3.124664</td>\n",
       "      <td>6.471768</td>\n",
       "      <td>26.005245</td>\n",
       "      <td>-499.929616</td>\n",
       "      <td>23.886657</td>\n",
       "      <td>-499.951928</td>\n",
       "      <td>23.913535</td>\n",
       "      <td>-499.442343</td>\n",
       "      <td>23.957717</td>\n",
       "      <td>-499.901982</td>\n",
       "      <td>14.015015</td>\n",
       "      <td>-502.520901</td>\n",
       "      <td>11.912783</td>\n",
       "      <td>-501.133383</td>\n",
       "      <td>10.070913</td>\n",
       "      <td>-500.129135</td>\n",
       "      <td>8.013877</td>\n",
       "      <td>-500.517572</td>\n",
       "      <td>14.028663</td>\n",
       "      <td>-601.427363</td>\n",
       "      <td>2.458187</td>\n",
       "      <td>14.115662</td>\n",
       "      <td>4.624775</td>\n",
       "      <td>8.842896</td>\n",
       "      <td>42.657501</td>\n",
       "      <td>6.055926</td>\n",
       "      <td>10.213995</td>\n",
       "      <td>5.383759</td>\n",
       "      <td>68.116445</td>\n",
       "      <td>2.257889</td>\n",
       "      <td>10.507046</td>\n",
       "      <td>0.953716</td>\n",
       "      <td>16.208849</td>\n",
       "      <td>50.609929</td>\n",
       "      <td>66.103793</td>\n",
       "      <td>72.095042</td>\n",
       "      <td>64.311180</td>\n",
       "    </tr>\n",
       "    <tr>\n",
       "      <th>3</th>\n",
       "      <td>2016-01-15 03:00:00</td>\n",
       "      <td>6.118189</td>\n",
       "      <td>6.043309</td>\n",
       "      <td>2.037807</td>\n",
       "      <td>36.862241</td>\n",
       "      <td>542.590390</td>\n",
       "      <td>57.792734</td>\n",
       "      <td>11.630094</td>\n",
       "      <td>6.203177</td>\n",
       "      <td>999.814770</td>\n",
       "      <td>-400.200179</td>\n",
       "      <td>1600.059442</td>\n",
       "      <td>-450.619948</td>\n",
       "      <td>1600.012842</td>\n",
       "      <td>-449.910497</td>\n",
       "      <td>1597.725177</td>\n",
       "      <td>-450.130127</td>\n",
       "      <td>1400.943157</td>\n",
       "      <td>-450.030142</td>\n",
       "      <td>1400.234743</td>\n",
       "      <td>-449.790835</td>\n",
       "      <td>11.692450</td>\n",
       "      <td>6.196578</td>\n",
       "      <td>42029.447991</td>\n",
       "      <td>3498.578313</td>\n",
       "      <td>3499.162912</td>\n",
       "      <td>3.002340</td>\n",
       "      <td>19.320810</td>\n",
       "      <td>11.915047</td>\n",
       "      <td>7.175616</td>\n",
       "      <td>27.341277</td>\n",
       "      <td>87.226430</td>\n",
       "      <td>1.079755</td>\n",
       "      <td>4.655288</td>\n",
       "      <td>0.542525</td>\n",
       "      <td>19.330200</td>\n",
       "      <td>122.270188</td>\n",
       "      <td>11.322140</td>\n",
       "      <td>7.25</td>\n",
       "      <td>0.996739</td>\n",
       "      <td>1599.968720</td>\n",
       "      <td>-500.951778</td>\n",
       "      <td>1600.659236</td>\n",
       "      <td>-499.677094</td>\n",
       "      <td>1600.304144</td>\n",
       "      <td>-500.727997</td>\n",
       "      <td>1600.449520</td>\n",
       "      <td>-500.052575</td>\n",
       "      <td>28.260743</td>\n",
       "      <td>7.221879</td>\n",
       "      <td>8.496563</td>\n",
       "      <td>15.978538</td>\n",
       "      <td>2.262051</td>\n",
       "      <td>16.024359</td>\n",
       "      <td>2.960362</td>\n",
       "      <td>6.843791</td>\n",
       "      <td>25.942508</td>\n",
       "      <td>-499.176749</td>\n",
       "      <td>23.955516</td>\n",
       "      <td>-499.848796</td>\n",
       "      <td>23.966838</td>\n",
       "      <td>-500.008812</td>\n",
       "      <td>23.954443</td>\n",
       "      <td>-499.944710</td>\n",
       "      <td>14.036510</td>\n",
       "      <td>-500.857308</td>\n",
       "      <td>11.999550</td>\n",
       "      <td>-501.193686</td>\n",
       "      <td>9.970366</td>\n",
       "      <td>-499.201640</td>\n",
       "      <td>7.977324</td>\n",
       "      <td>-500.255908</td>\n",
       "      <td>14.005551</td>\n",
       "      <td>-599.996129</td>\n",
       "      <td>2.322062</td>\n",
       "      <td>13.732071</td>\n",
       "      <td>4.482453</td>\n",
       "      <td>9.122857</td>\n",
       "      <td>42.689819</td>\n",
       "      <td>6.047977</td>\n",
       "      <td>9.977019</td>\n",
       "      <td>4.858634</td>\n",
       "      <td>68.347543</td>\n",
       "      <td>2.146849</td>\n",
       "      <td>10.422762</td>\n",
       "      <td>0.883763</td>\n",
       "      <td>16.532835</td>\n",
       "      <td>51.061546</td>\n",
       "      <td>65.752751</td>\n",
       "      <td>59.957723</td>\n",
       "      <td>63.573449</td>\n",
       "    </tr>\n",
       "    <tr>\n",
       "      <th>4</th>\n",
       "      <td>2016-01-15 04:00:00</td>\n",
       "      <td>5.663707</td>\n",
       "      <td>6.060915</td>\n",
       "      <td>1.786875</td>\n",
       "      <td>34.347666</td>\n",
       "      <td>540.531893</td>\n",
       "      <td>56.047189</td>\n",
       "      <td>10.957755</td>\n",
       "      <td>6.198826</td>\n",
       "      <td>999.678690</td>\n",
       "      <td>-399.752729</td>\n",
       "      <td>1600.208824</td>\n",
       "      <td>-449.599614</td>\n",
       "      <td>1600.357732</td>\n",
       "      <td>-450.034364</td>\n",
       "      <td>1599.759049</td>\n",
       "      <td>-449.909799</td>\n",
       "      <td>1401.560902</td>\n",
       "      <td>-448.877187</td>\n",
       "      <td>1401.160227</td>\n",
       "      <td>-450.407128</td>\n",
       "      <td>10.960521</td>\n",
       "      <td>6.194897</td>\n",
       "      <td>42125.354245</td>\n",
       "      <td>3494.800771</td>\n",
       "      <td>3506.679315</td>\n",
       "      <td>3.169615</td>\n",
       "      <td>19.216101</td>\n",
       "      <td>12.411054</td>\n",
       "      <td>7.240205</td>\n",
       "      <td>27.041023</td>\n",
       "      <td>86.688794</td>\n",
       "      <td>1.012642</td>\n",
       "      <td>4.552800</td>\n",
       "      <td>0.515438</td>\n",
       "      <td>19.267422</td>\n",
       "      <td>117.988169</td>\n",
       "      <td>11.913613</td>\n",
       "      <td>7.25</td>\n",
       "      <td>1.009869</td>\n",
       "      <td>1601.339707</td>\n",
       "      <td>-498.975456</td>\n",
       "      <td>1601.437854</td>\n",
       "      <td>-500.323246</td>\n",
       "      <td>1599.581894</td>\n",
       "      <td>-500.888152</td>\n",
       "      <td>1602.649541</td>\n",
       "      <td>-500.593010</td>\n",
       "      <td>33.044932</td>\n",
       "      <td>9.089428</td>\n",
       "      <td>9.986786</td>\n",
       "      <td>19.199864</td>\n",
       "      <td>2.277073</td>\n",
       "      <td>16.480185</td>\n",
       "      <td>3.112100</td>\n",
       "      <td>6.550154</td>\n",
       "      <td>26.024787</td>\n",
       "      <td>-500.279091</td>\n",
       "      <td>23.955345</td>\n",
       "      <td>-500.593614</td>\n",
       "      <td>23.985703</td>\n",
       "      <td>-500.083811</td>\n",
       "      <td>23.958945</td>\n",
       "      <td>-499.990309</td>\n",
       "      <td>14.027298</td>\n",
       "      <td>-499.838632</td>\n",
       "      <td>11.953070</td>\n",
       "      <td>-501.053894</td>\n",
       "      <td>9.925709</td>\n",
       "      <td>-501.686727</td>\n",
       "      <td>7.894242</td>\n",
       "      <td>-500.356035</td>\n",
       "      <td>13.996647</td>\n",
       "      <td>-601.496691</td>\n",
       "      <td>2.330448</td>\n",
       "      <td>14.079996</td>\n",
       "      <td>4.470737</td>\n",
       "      <td>8.871028</td>\n",
       "      <td>42.774141</td>\n",
       "      <td>6.148599</td>\n",
       "      <td>10.142511</td>\n",
       "      <td>4.939416</td>\n",
       "      <td>66.927016</td>\n",
       "      <td>2.055292</td>\n",
       "      <td>10.360302</td>\n",
       "      <td>0.792826</td>\n",
       "      <td>16.525686</td>\n",
       "      <td>47.859163</td>\n",
       "      <td>65.908382</td>\n",
       "      <td>71.321010</td>\n",
       "      <td>64.004667</td>\n",
       "    </tr>\n",
       "  </tbody>\n",
       "</table>\n",
       "</div>"
      ],
      "text/plain": [
       "                  date  rougher.input.feed_au  rougher.input.feed_ag  \\\n",
       "0  2016-01-15 00:00:00               6.486150               6.100378   \n",
       "1  2016-01-15 01:00:00               6.478583               6.161113   \n",
       "2  2016-01-15 02:00:00               6.362222               6.116455   \n",
       "3  2016-01-15 03:00:00               6.118189               6.043309   \n",
       "4  2016-01-15 04:00:00               5.663707               6.060915   \n",
       "\n",
       "   rougher.input.feed_pb  rougher.input.feed_sol  rougher.input.feed_rate  \\\n",
       "0               2.284912               36.808594               523.546326   \n",
       "1               2.266033               35.753385               525.290581   \n",
       "2               2.159622               35.971630               530.026610   \n",
       "3               2.037807               36.862241               542.590390   \n",
       "4               1.786875               34.347666               540.531893   \n",
       "\n",
       "   rougher.input.feed_size  rougher.input.floatbank10_sulfate  \\\n",
       "0                55.486599                          11.986616   \n",
       "1                57.278666                          11.971193   \n",
       "2                57.510649                          11.920603   \n",
       "3                57.792734                          11.630094   \n",
       "4                56.047189                          10.957755   \n",
       "\n",
       "   rougher.input.floatbank10_xanthate  rougher.state.floatbank10_a_air  \\\n",
       "0                            6.007990                       999.706909   \n",
       "1                            6.005766                      1000.286398   \n",
       "2                            6.197377                       999.719565   \n",
       "3                            6.203177                       999.814770   \n",
       "4                            6.198826                       999.678690   \n",
       "\n",
       "   rougher.state.floatbank10_a_level  rougher.state.floatbank10_b_air  \\\n",
       "0                        -404.066986                      1603.011353   \n",
       "1                        -400.065196                      1600.754587   \n",
       "2                        -400.074028                      1599.337330   \n",
       "3                        -400.200179                      1600.059442   \n",
       "4                        -399.752729                      1600.208824   \n",
       "\n",
       "   rougher.state.floatbank10_b_level  rougher.state.floatbank10_c_air  \\\n",
       "0                        -434.715027                      1602.375000   \n",
       "1                        -449.953435                      1600.479580   \n",
       "2                        -450.008530                      1599.672797   \n",
       "3                        -450.619948                      1600.012842   \n",
       "4                        -449.599614                      1600.357732   \n",
       "\n",
       "   rougher.state.floatbank10_c_level  rougher.state.floatbank10_d_air  \\\n",
       "0                        -442.204468                      1598.937256   \n",
       "1                        -449.830646                      1600.527589   \n",
       "2                        -449.954491                      1599.849325   \n",
       "3                        -449.910497                      1597.725177   \n",
       "4                        -450.034364                      1599.759049   \n",
       "\n",
       "   rougher.state.floatbank10_d_level  rougher.state.floatbank10_e_air  \\\n",
       "0                        -451.294128                      1404.472046   \n",
       "1                        -449.953649                      1399.227084   \n",
       "2                        -449.954185                      1399.180945   \n",
       "3                        -450.130127                      1400.943157   \n",
       "4                        -449.909799                      1401.560902   \n",
       "\n",
       "   rougher.state.floatbank10_e_level  rougher.state.floatbank10_f_air  \\\n",
       "0                        -455.462982                      1416.354980   \n",
       "1                        -450.869848                      1399.719514   \n",
       "2                        -449.937588                      1400.316682   \n",
       "3                        -450.030142                      1400.234743   \n",
       "4                        -448.877187                      1401.160227   \n",
       "\n",
       "   rougher.state.floatbank10_f_level  rougher.input.floatbank11_sulfate  \\\n",
       "0                        -451.939636                          11.836743   \n",
       "1                        -450.119001                          11.996163   \n",
       "2                        -450.527147                          11.920305   \n",
       "3                        -449.790835                          11.692450   \n",
       "4                        -450.407128                          10.960521   \n",
       "\n",
       "   rougher.input.floatbank11_xanthate  \\\n",
       "0                            6.005818   \n",
       "1                            6.012594   \n",
       "2                            6.204633   \n",
       "3                            6.196578   \n",
       "4                            6.194897   \n",
       "\n",
       "   rougher.calculation.sulfate_to_au_concentrate  \\\n",
       "0                                   41885.707031   \n",
       "1                                   42050.861809   \n",
       "2                                   42018.101184   \n",
       "3                                   42029.447991   \n",
       "4                                   42125.354245   \n",
       "\n",
       "   rougher.calculation.floatbank10_sulfate_to_au_feed  \\\n",
       "0                                        3481.779053    \n",
       "1                                        3498.370979    \n",
       "2                                        3495.348910    \n",
       "3                                        3498.578313    \n",
       "4                                        3494.800771    \n",
       "\n",
       "   rougher.calculation.floatbank11_sulfate_to_au_feed  \\\n",
       "0                                        3520.337158    \n",
       "1                                        3489.981857    \n",
       "2                                        3502.359819    \n",
       "3                                        3499.162912    \n",
       "4                                        3506.679315    \n",
       "\n",
       "   rougher.calculation.au_pb_ratio  rougher.output.concentrate_au  \\\n",
       "0                         2.838687                      19.793808   \n",
       "1                         2.858998                      20.050975   \n",
       "2                         2.945989                      19.737170   \n",
       "3                         3.002340                      19.320810   \n",
       "4                         3.169615                      19.216101   \n",
       "\n",
       "   rougher.output.concentrate_ag  rougher.output.concentrate_pb  \\\n",
       "0                      11.500771                       7.101074   \n",
       "1                      11.615865                       7.278807   \n",
       "2                      11.695753                       7.216833   \n",
       "3                      11.915047                       7.175616   \n",
       "4                      12.411054                       7.240205   \n",
       "\n",
       "   rougher.output.concentrate_sol  rougher.output.recovery  \\\n",
       "0                       28.029297                87.107763   \n",
       "1                       28.067063                86.843261   \n",
       "2                       27.454037                86.842308   \n",
       "3                       27.341277                87.226430   \n",
       "4                       27.041023                86.688794   \n",
       "\n",
       "   rougher.output.tail_au  rougher.output.tail_ag  rougher.output.tail_pb  \\\n",
       "0                1.170244                5.008018                0.508728   \n",
       "1                1.184827                4.955378                0.536689   \n",
       "2                1.162562                4.843460                0.546416   \n",
       "3                1.079755                4.655288                0.542525   \n",
       "4                1.012642                4.552800                0.515438   \n",
       "\n",
       "   rougher.output.tail_sol  primary_cleaner.input.sulfate  \\\n",
       "0                19.154297                     127.092003   \n",
       "1                18.965234                     125.629232   \n",
       "2                18.808533                     123.819808   \n",
       "3                19.330200                     122.270188   \n",
       "4                19.267422                     117.988169   \n",
       "\n",
       "   primary_cleaner.input.depressant  primary_cleaner.input.feed_size  \\\n",
       "0                         10.128295                             7.25   \n",
       "1                         10.296251                             7.25   \n",
       "2                         11.316280                             7.25   \n",
       "3                         11.322140                             7.25   \n",
       "4                         11.913613                             7.25   \n",
       "\n",
       "   primary_cleaner.input.xanthate  primary_cleaner.state.floatbank8_a_air  \\\n",
       "0                        0.988759                             1549.775757   \n",
       "1                        1.002663                             1576.166671   \n",
       "2                        0.991265                             1601.556163   \n",
       "3                        0.996739                             1599.968720   \n",
       "4                        1.009869                             1601.339707   \n",
       "\n",
       "   primary_cleaner.state.floatbank8_a_level  \\\n",
       "0                               -498.912140   \n",
       "1                               -500.904965   \n",
       "2                               -499.997791   \n",
       "3                               -500.951778   \n",
       "4                               -498.975456   \n",
       "\n",
       "   primary_cleaner.state.floatbank8_b_air  \\\n",
       "0                             1551.434204   \n",
       "1                             1575.950626   \n",
       "2                             1600.386685   \n",
       "3                             1600.659236   \n",
       "4                             1601.437854   \n",
       "\n",
       "   primary_cleaner.state.floatbank8_b_level  \\\n",
       "0                               -516.403442   \n",
       "1                               -499.865889   \n",
       "2                               -500.607762   \n",
       "3                               -499.677094   \n",
       "4                               -500.323246   \n",
       "\n",
       "   primary_cleaner.state.floatbank8_c_air  \\\n",
       "0                             1549.873901   \n",
       "1                             1575.994189   \n",
       "2                             1602.003542   \n",
       "3                             1600.304144   \n",
       "4                             1599.581894   \n",
       "\n",
       "   primary_cleaner.state.floatbank8_c_level  \\\n",
       "0                               -498.666595   \n",
       "1                               -499.315107   \n",
       "2                               -500.870069   \n",
       "3                               -500.727997   \n",
       "4                               -500.888152   \n",
       "\n",
       "   primary_cleaner.state.floatbank8_d_air  \\\n",
       "0                             1554.367432   \n",
       "1                             1574.479259   \n",
       "2                             1599.541515   \n",
       "3                             1600.449520   \n",
       "4                             1602.649541   \n",
       "\n",
       "   primary_cleaner.state.floatbank8_d_level  \\\n",
       "0                               -493.428131   \n",
       "1                               -498.931665   \n",
       "2                               -499.827444   \n",
       "3                               -500.052575   \n",
       "4                               -500.593010   \n",
       "\n",
       "   primary_cleaner.output.concentrate_au  \\\n",
       "0                              34.174427   \n",
       "1                              34.118526   \n",
       "2                              33.969464   \n",
       "3                              28.260743   \n",
       "4                              33.044932   \n",
       "\n",
       "   primary_cleaner.output.concentrate_ag  \\\n",
       "0                               8.547551   \n",
       "1                               8.558743   \n",
       "2                               8.603505   \n",
       "3                               7.221879   \n",
       "4                               9.089428   \n",
       "\n",
       "   primary_cleaner.output.concentrate_pb  \\\n",
       "0                              10.389648   \n",
       "1                              10.497069   \n",
       "2                              10.354494   \n",
       "3                               8.496563   \n",
       "4                               9.986786   \n",
       "\n",
       "   primary_cleaner.output.concentrate_sol  primary_cleaner.output.tail_au  \\\n",
       "0                               19.529297                        2.106679   \n",
       "1                               19.369147                        2.353017   \n",
       "2                               19.167579                        2.416800   \n",
       "3                               15.978538                        2.262051   \n",
       "4                               19.199864                        2.277073   \n",
       "\n",
       "   primary_cleaner.output.tail_ag  primary_cleaner.output.tail_pb  \\\n",
       "0                       14.936526                        2.534912   \n",
       "1                       16.250511                        3.049646   \n",
       "2                       16.491823                        3.124664   \n",
       "3                       16.024359                        2.960362   \n",
       "4                       16.480185                        3.112100   \n",
       "\n",
       "   primary_cleaner.output.tail_sol  secondary_cleaner.state.floatbank2_a_air  \\\n",
       "0                         7.476074                                 25.853109   \n",
       "1                         6.733907                                 25.880539   \n",
       "2                         6.471768                                 26.005245   \n",
       "3                         6.843791                                 25.942508   \n",
       "4                         6.550154                                 26.024787   \n",
       "\n",
       "   secondary_cleaner.state.floatbank2_a_level  \\\n",
       "0                                 -498.526489   \n",
       "1                                 -499.989656   \n",
       "2                                 -499.929616   \n",
       "3                                 -499.176749   \n",
       "4                                 -500.279091   \n",
       "\n",
       "   secondary_cleaner.state.floatbank2_b_air  \\\n",
       "0                                 23.893660   \n",
       "1                                 23.889530   \n",
       "2                                 23.886657   \n",
       "3                                 23.955516   \n",
       "4                                 23.955345   \n",
       "\n",
       "   secondary_cleaner.state.floatbank2_b_level  \\\n",
       "0                                 -501.406281   \n",
       "1                                 -500.372428   \n",
       "2                                 -499.951928   \n",
       "3                                 -499.848796   \n",
       "4                                 -500.593614   \n",
       "\n",
       "   secondary_cleaner.state.floatbank3_a_air  \\\n",
       "0                                 23.961798   \n",
       "1                                 23.970550   \n",
       "2                                 23.913535   \n",
       "3                                 23.966838   \n",
       "4                                 23.985703   \n",
       "\n",
       "   secondary_cleaner.state.floatbank3_a_level  \\\n",
       "0                                 -495.262817   \n",
       "1                                 -500.085473   \n",
       "2                                 -499.442343   \n",
       "3                                 -500.008812   \n",
       "4                                 -500.083811   \n",
       "\n",
       "   secondary_cleaner.state.floatbank3_b_air  \\\n",
       "0                                 21.940409   \n",
       "1                                 22.085714   \n",
       "2                                 23.957717   \n",
       "3                                 23.954443   \n",
       "4                                 23.958945   \n",
       "\n",
       "   secondary_cleaner.state.floatbank3_b_level  \\\n",
       "0                                 -499.340973   \n",
       "1                                 -499.446897   \n",
       "2                                 -499.901982   \n",
       "3                                 -499.944710   \n",
       "4                                 -499.990309   \n",
       "\n",
       "   secondary_cleaner.state.floatbank4_a_air  \\\n",
       "0                                 14.016835   \n",
       "1                                 13.992281   \n",
       "2                                 14.015015   \n",
       "3                                 14.036510   \n",
       "4                                 14.027298   \n",
       "\n",
       "   secondary_cleaner.state.floatbank4_a_level  \\\n",
       "0                                 -502.488007   \n",
       "1                                 -505.503262   \n",
       "2                                 -502.520901   \n",
       "3                                 -500.857308   \n",
       "4                                 -499.838632   \n",
       "\n",
       "   secondary_cleaner.state.floatbank4_b_air  \\\n",
       "0                                 12.099931   \n",
       "1                                 11.950531   \n",
       "2                                 11.912783   \n",
       "3                                 11.999550   \n",
       "4                                 11.953070   \n",
       "\n",
       "   secondary_cleaner.state.floatbank4_b_level  \\\n",
       "0                                 -504.715942   \n",
       "1                                 -501.331529   \n",
       "2                                 -501.133383   \n",
       "3                                 -501.193686   \n",
       "4                                 -501.053894   \n",
       "\n",
       "   secondary_cleaner.state.floatbank5_a_air  \\\n",
       "0                                  9.925633   \n",
       "1                                 10.039245   \n",
       "2                                 10.070913   \n",
       "3                                  9.970366   \n",
       "4                                  9.925709   \n",
       "\n",
       "   secondary_cleaner.state.floatbank5_a_level  \\\n",
       "0                                 -498.310211   \n",
       "1                                 -500.169983   \n",
       "2                                 -500.129135   \n",
       "3                                 -499.201640   \n",
       "4                                 -501.686727   \n",
       "\n",
       "   secondary_cleaner.state.floatbank5_b_air  \\\n",
       "0                                  8.079666   \n",
       "1                                  7.984757   \n",
       "2                                  8.013877   \n",
       "3                                  7.977324   \n",
       "4                                  7.894242   \n",
       "\n",
       "   secondary_cleaner.state.floatbank5_b_level  \\\n",
       "0                                 -500.470978   \n",
       "1                                 -500.582168   \n",
       "2                                 -500.517572   \n",
       "3                                 -500.255908   \n",
       "4                                 -500.356035   \n",
       "\n",
       "   secondary_cleaner.state.floatbank6_a_air  \\\n",
       "0                                 14.151341   \n",
       "1                                 13.998353   \n",
       "2                                 14.028663   \n",
       "3                                 14.005551   \n",
       "4                                 13.996647   \n",
       "\n",
       "   secondary_cleaner.state.floatbank6_a_level  \\\n",
       "0                                 -605.841980   \n",
       "1                                 -599.787184   \n",
       "2                                 -601.427363   \n",
       "3                                 -599.996129   \n",
       "4                                 -601.496691   \n",
       "\n",
       "   secondary_cleaner.output.tail_au  secondary_cleaner.output.tail_ag  \\\n",
       "0                          2.606185                         14.500184   \n",
       "1                          2.488248                         14.265474   \n",
       "2                          2.458187                         14.115662   \n",
       "3                          2.322062                         13.732071   \n",
       "4                          2.330448                         14.079996   \n",
       "\n",
       "   secondary_cleaner.output.tail_pb  secondary_cleaner.output.tail_sol  \\\n",
       "0                          4.694824                           8.764648   \n",
       "1                          4.592547                           9.001494   \n",
       "2                          4.624775                           8.842896   \n",
       "3                          4.482453                           9.122857   \n",
       "4                          4.470737                           8.871028   \n",
       "\n",
       "   final.output.concentrate_au  final.output.concentrate_ag  \\\n",
       "0                    42.192020                     6.055403   \n",
       "1                    42.701629                     6.029369   \n",
       "2                    42.657501                     6.055926   \n",
       "3                    42.689819                     6.047977   \n",
       "4                    42.774141                     6.148599   \n",
       "\n",
       "   final.output.concentrate_pb  final.output.concentrate_sol  \\\n",
       "0                     9.889648                      5.507324   \n",
       "1                     9.968944                      5.257781   \n",
       "2                    10.213995                      5.383759   \n",
       "3                     9.977019                      4.858634   \n",
       "4                    10.142511                      4.939416   \n",
       "\n",
       "   final.output.recovery  final.output.tail_au  final.output.tail_ag  \\\n",
       "0              70.541216              2.143149             10.411962   \n",
       "1              69.266198              2.224930             10.462676   \n",
       "2              68.116445              2.257889             10.507046   \n",
       "3              68.347543              2.146849             10.422762   \n",
       "4              66.927016              2.055292             10.360302   \n",
       "\n",
       "   final.output.tail_pb  final.output.tail_sol  all_concentrate_feedstock  \\\n",
       "0              0.895447              16.904297                  51.680034   \n",
       "1              0.927452              16.634514                  50.659114   \n",
       "2              0.953716              16.208849                  50.609929   \n",
       "3              0.883763              16.532835                  51.061546   \n",
       "4              0.792826              16.525686                  47.859163   \n",
       "\n",
       "   all_concentrate_rougher  all_concentrate_primary  all_concentrate_final  \n",
       "0                66.424950                72.640924              63.644396  \n",
       "1                67.012710                72.543485              63.957723  \n",
       "2                66.103793                72.095042              64.311180  \n",
       "3                65.752751                59.957723              63.573449  \n",
       "4                65.908382                71.321010              64.004667  "
      ]
     },
     "metadata": {},
     "output_type": "display_data"
    },
    {
     "data": {
      "text/html": [
       "<div>\n",
       "<style scoped>\n",
       "    .dataframe tbody tr th:only-of-type {\n",
       "        vertical-align: middle;\n",
       "    }\n",
       "\n",
       "    .dataframe tbody tr th {\n",
       "        vertical-align: top;\n",
       "    }\n",
       "\n",
       "    .dataframe thead th {\n",
       "        text-align: right;\n",
       "    }\n",
       "</style>\n",
       "<table border=\"1\" class=\"dataframe\">\n",
       "  <thead>\n",
       "    <tr style=\"text-align: right;\">\n",
       "      <th></th>\n",
       "      <th>all_concentrate_feedstock</th>\n",
       "      <th>all_concentrate_rougher</th>\n",
       "      <th>all_concentrate_primary</th>\n",
       "      <th>all_concentrate_final</th>\n",
       "    </tr>\n",
       "  </thead>\n",
       "  <tbody>\n",
       "    <tr>\n",
       "      <th>count</th>\n",
       "      <td>15440.000000</td>\n",
       "      <td>15440.000000</td>\n",
       "      <td>15440.000000</td>\n",
       "      <td>15440.000000</td>\n",
       "    </tr>\n",
       "    <tr>\n",
       "      <th>mean</th>\n",
       "      <td>58.489023</td>\n",
       "      <td>70.801647</td>\n",
       "      <td>62.763018</td>\n",
       "      <td>70.123593</td>\n",
       "    </tr>\n",
       "    <tr>\n",
       "      <th>std</th>\n",
       "      <td>5.695930</td>\n",
       "      <td>5.533146</td>\n",
       "      <td>4.812088</td>\n",
       "      <td>2.574331</td>\n",
       "    </tr>\n",
       "    <tr>\n",
       "      <th>min</th>\n",
       "      <td>37.122444</td>\n",
       "      <td>51.370032</td>\n",
       "      <td>38.918013</td>\n",
       "      <td>55.770025</td>\n",
       "    </tr>\n",
       "    <tr>\n",
       "      <th>25%</th>\n",
       "      <td>54.648772</td>\n",
       "      <td>67.319361</td>\n",
       "      <td>60.115303</td>\n",
       "      <td>68.474724</td>\n",
       "    </tr>\n",
       "    <tr>\n",
       "      <th>50%</th>\n",
       "      <td>58.230343</td>\n",
       "      <td>70.728381</td>\n",
       "      <td>63.031835</td>\n",
       "      <td>69.938803</td>\n",
       "    </tr>\n",
       "    <tr>\n",
       "      <th>75%</th>\n",
       "      <td>62.346496</td>\n",
       "      <td>74.598470</td>\n",
       "      <td>65.867284</td>\n",
       "      <td>71.636743</td>\n",
       "    </tr>\n",
       "    <tr>\n",
       "      <th>max</th>\n",
       "      <td>76.100011</td>\n",
       "      <td>86.994951</td>\n",
       "      <td>80.749343</td>\n",
       "      <td>80.210644</td>\n",
       "    </tr>\n",
       "  </tbody>\n",
       "</table>\n",
       "</div>"
      ],
      "text/plain": [
       "       all_concentrate_feedstock  all_concentrate_rougher  \\\n",
       "count               15440.000000             15440.000000   \n",
       "mean                   58.489023                70.801647   \n",
       "std                     5.695930                 5.533146   \n",
       "min                    37.122444                51.370032   \n",
       "25%                    54.648772                67.319361   \n",
       "50%                    58.230343                70.728381   \n",
       "75%                    62.346496                74.598470   \n",
       "max                    76.100011                86.994951   \n",
       "\n",
       "       all_concentrate_primary  all_concentrate_final  \n",
       "count             15440.000000           15440.000000  \n",
       "mean                 62.763018              70.123593  \n",
       "std                   4.812088               2.574331  \n",
       "min                  38.918013              55.770025  \n",
       "25%                  60.115303              68.474724  \n",
       "50%                  63.031835              69.938803  \n",
       "75%                  65.867284              71.636743  \n",
       "max                  80.749343              80.210644  "
      ]
     },
     "metadata": {},
     "output_type": "display_data"
    }
   ],
   "source": [
    "display(data_full_copy.head())\n",
    "des = (data_full_copy['all_concentrate_feedstock'].describe().to_frame()\n",
    "       .join(data_full_copy['all_concentrate_rougher'].describe().to_frame())\n",
    "       .join(data_full_copy['all_concentrate_primary'].describe().to_frame())\n",
    "       .join(data_full_copy['all_concentrate_final'].describe().to_frame())\n",
    "      )       \n",
    "display(des)"
   ]
  },
  {
   "cell_type": "markdown",
   "metadata": {},
   "source": [
    "### Вывод: \n",
    "1. По графику видно, что общая концентрация на финальном этапе возрастает. Разброс уменьшается, что значит, что все значения приближаются к моде."
   ]
  },
  {
   "cell_type": "markdown",
   "metadata": {},
   "source": [
    "## Модель"
   ]
  },
  {
   "cell_type": "markdown",
   "metadata": {},
   "source": [
    "### Подготовка выборок. "
   ]
  },
  {
   "cell_type": "code",
   "execution_count": 43,
   "metadata": {},
   "outputs": [],
   "source": [
    "columns = data_test.columns\n",
    "\n",
    "features_train = data_train[columns] "
   ]
  },
  {
   "cell_type": "code",
   "execution_count": 44,
   "metadata": {},
   "outputs": [],
   "source": [
    "features_train = features_train.drop(['date'],axis=1)\n",
    "target_train = data_train[['rougher.output.recovery','final.output.recovery']]\n",
    "\n",
    "data_test = pd.merge(data_test, data_full[['date','rougher.output.recovery','final.output.recovery']], on=\"date\")\n",
    "features_test = data_test.drop(['date','rougher.output.recovery','final.output.recovery'],axis=1)"
   ]
  },
  {
   "cell_type": "code",
   "execution_count": 45,
   "metadata": {},
   "outputs": [],
   "source": [
    "target_test = data_test[['rougher.output.recovery','final.output.recovery']] "
   ]
  },
  {
   "cell_type": "markdown",
   "metadata": {},
   "source": [
    "**В тестовую выборку добавили целевые признаки по стобцу `date`.**"
   ]
  },
  {
   "cell_type": "code",
   "execution_count": 46,
   "metadata": {},
   "outputs": [],
   "source": [
    "scaler = StandardScaler()\n",
    "scaler.fit(features_train)\n",
    "\n",
    "features_train_st = scaler.transform(features_train)\n",
    "features_test_st = scaler.transform(features_test)"
   ]
  },
  {
   "cell_type": "markdown",
   "metadata": {},
   "source": [
    "### Функция SMAPE."
   ]
  },
  {
   "cell_type": "code",
   "execution_count": 47,
   "metadata": {},
   "outputs": [],
   "source": [
    "def oSMAPE(a, b):\n",
    "    oSMAPE = (np.sum(abs(a - b) / ((abs(a) + abs(b)) / 2)))/ len(a) * 100\n",
    "    return oSMAPE\n",
    "\n",
    "def sMAPE(predict,target):\n",
    "    predict_rougher = predict[:,0]\n",
    "    target_rougher = target[:,0]\n",
    "    predict_final = predict[:,1]\n",
    "    target_final = target[:,1]\n",
    "    \n",
    "    sMAPE = 0.25 * oSMAPE(target_rougher, predict_rougher) + 0.75 * oSMAPE(target_final, predict_final)\n",
    "    \n",
    "    return sMAPE"
   ]
  },
  {
   "cell_type": "code",
   "execution_count": 48,
   "metadata": {},
   "outputs": [],
   "source": [
    "smape_scorer = make_scorer(sMAPE, greater_is_better = False)"
   ]
  },
  {
   "cell_type": "markdown",
   "metadata": {},
   "source": [
    "### Проверка различных моделей кросс-валидацией. "
   ]
  },
  {
   "cell_type": "markdown",
   "metadata": {},
   "source": [
    "#### LinearRegression"
   ]
  },
  {
   "cell_type": "code",
   "execution_count": 49,
   "metadata": {},
   "outputs": [
    {
     "name": "stdout",
     "output_type": "stream",
     "text": [
      "LinearRegression sMAPE: 8.295400449138668\n"
     ]
    }
   ],
   "source": [
    "model_lr = LinearRegression()\n",
    "score = cross_val_score(model_lr, features_train_st, np.array(target_train), scoring = smape_scorer, cv=5).mean()\n",
    "print('LinearRegression sMAPE:', abs(score))"
   ]
  },
  {
   "cell_type": "markdown",
   "metadata": {},
   "source": [
    "#### Lasso "
   ]
  },
  {
   "cell_type": "code",
   "execution_count": 50,
   "metadata": {
    "scrolled": true
   },
   "outputs": [
    {
     "name": "stdout",
     "output_type": "stream",
     "text": [
      "LASSO sMAPE: 7.390613261600612\n"
     ]
    }
   ],
   "source": [
    "model_la = Lasso(random_state = 7)\n",
    "score = cross_val_score(model_la , features_train_st, np.array(target_train), scoring = smape_scorer, cv=6).mean()\n",
    "print('LASSO sMAPE:', abs(score))"
   ]
  },
  {
   "cell_type": "markdown",
   "metadata": {},
   "source": [
    "#### DecisionTreeRegressor"
   ]
  },
  {
   "cell_type": "code",
   "execution_count": 51,
   "metadata": {},
   "outputs": [
    {
     "name": "stdout",
     "output_type": "stream",
     "text": [
      "DecisionTreeRegressor(max_depth=2, random_state=7)\n",
      "DecisionTreeRegressor sMAPE: 7.472937083594516\n"
     ]
    }
   ],
   "source": [
    "max_depth = [None] + [i for i in range(1, 11)]\n",
    "hyperparameters = dict(max_depth=max_depth)\n",
    "model_dt = DecisionTreeRegressor(random_state = 7)\n",
    "\n",
    "randomizedsearch = RandomizedSearchCV(model_dt, hyperparameters, random_state = 7 \\\n",
    "                                      , scoring = smape_scorer)\n",
    "\n",
    "dt_best = randomizedsearch.fit(features_train_st, np.array(target_train))\n",
    "print(dt_best.best_estimator_)\n",
    "print('DecisionTreeRegressor sMAPE:', abs(dt_best.best_score_))"
   ]
  },
  {
   "cell_type": "markdown",
   "metadata": {},
   "source": [
    "#### RandomForestRegressor"
   ]
  },
  {
   "cell_type": "code",
   "execution_count": 52,
   "metadata": {},
   "outputs": [],
   "source": [
    "n_estimators = [None] + [i for i in range(1, 51)]\n",
    "max_depth = [None] + [i for i in range(1, 11)]"
   ]
  },
  {
   "cell_type": "code",
   "execution_count": 53,
   "metadata": {},
   "outputs": [
    {
     "name": "stdout",
     "output_type": "stream",
     "text": [
      "RandomForestRegressor(max_depth=2, n_estimators=30, random_state=7)\n",
      "RandomForestRegresso sMAPE: 7.3874938304168625\n"
     ]
    }
   ],
   "source": [
    "hyperparameters = dict(max_depth=max_depth, n_estimators = n_estimators)\n",
    "model_rf = RandomForestRegressor(random_state = 7)\n",
    "\n",
    "randomizedsearch = RandomizedSearchCV(model_rf, hyperparameters, random_state = 7, scoring = smape_scorer)\n",
    "\n",
    "rf_best = randomizedsearch.fit(features_train_st, np.array(target_train))\n",
    "print(rf_best.best_estimator_)\n",
    "print('RandomForestRegresso sMAPE:', abs(rf_best.best_score_))"
   ]
  },
  {
   "cell_type": "markdown",
   "metadata": {},
   "source": [
    "### Вывод по выбору модели.\n",
    "Методом кросс валидации были проверенны 4 модели и полученны средние занчения SMAPE:\n",
    "1. LinearRegression sMAPE: 8.3\n",
    "2. LASSO sMAPE: 7.39\n",
    "3. DecisionTreeRegressor sMAPE: 7.5\n",
    "4. RandomForestRegressor sMAPE: 7.38\n",
    "\n",
    "Наименьшие показатели RandomForestRegressor. На ней и будем проверять тестовую выборку. "
   ]
  },
  {
   "cell_type": "markdown",
   "metadata": {},
   "source": [
    "### Проверка на тестовой выборке. "
   ]
  },
  {
   "cell_type": "code",
   "execution_count": 54,
   "metadata": {},
   "outputs": [
    {
     "name": "stdout",
     "output_type": "stream",
     "text": [
      "RandomForestRegressor sMAPE: 6.579436033454508\n"
     ]
    }
   ],
   "source": [
    "model_rf = RandomForestRegressor(random_state = 7, max_depth = 2, n_estimators = 30)\n",
    "model_rf.fit(features_train_st, np.array(target_train))\n",
    "smape = sMAPE(np.array(model_rf.predict(features_test_st)), np.array(target_test))\n",
    "print('RandomForestRegressor sMAPE:', abs(smape))"
   ]
  },
  {
   "cell_type": "code",
   "execution_count": 55,
   "metadata": {},
   "outputs": [
    {
     "name": "stdout",
     "output_type": "stream",
     "text": [
      "SMAPE DummyRegressor: 7.336626255987274\n"
     ]
    }
   ],
   "source": [
    "dummy_regr = DummyRegressor(strategy = \"median\")\n",
    "dummy_regr.fit(features_train_st, target_train)\n",
    "predict = dummy_regr.predict(features_test_st)\n",
    "\n",
    "smape = sMAPE(predict, np.array(target_test))\n",
    "print('SMAPE DummyRegressor:', smape)"
   ]
  },
  {
   "cell_type": "markdown",
   "metadata": {},
   "source": [
    "### Вывод: \n",
    "1. Методом кросс-валидации была выбранна лучшая модель для предсказания целевого признака - RandomForestRegressor, которая на обучающей выборке показала лучшее значение 7.38;\n",
    "2. Так же модель были проверенна на тестовой выборке и при помощи `DummyRegressor`. Показатели оказались даже ниже чем на обучающей выборке.\n",
    "* `RandomForestRegressor sMAPE: 6.57`  \n",
    "Это значение ниже проверочного `SMAPE DummyRegressor: 7.34`, что дает нам право полагать, что модель адекватные и подходит для предсказания значений. \n"
   ]
  }
 ],
 "metadata": {
  "ExecuteTimeLog": [
   {
    "duration": 510,
    "start_time": "2023-08-21T12:22:08.950Z"
   },
   {
    "duration": 2196,
    "start_time": "2023-08-21T12:23:37.138Z"
   },
   {
    "duration": 885,
    "start_time": "2023-08-21T12:23:43.496Z"
   },
   {
    "duration": 45,
    "start_time": "2023-08-21T12:23:57.792Z"
   },
   {
    "duration": 11,
    "start_time": "2023-08-21T12:29:08.686Z"
   },
   {
    "duration": 7,
    "start_time": "2023-08-21T12:29:13.040Z"
   },
   {
    "duration": 290,
    "start_time": "2023-08-21T12:29:23.775Z"
   },
   {
    "duration": 229,
    "start_time": "2023-08-21T12:29:29.334Z"
   },
   {
    "duration": 265,
    "start_time": "2023-08-21T12:30:53.838Z"
   },
   {
    "duration": 281,
    "start_time": "2023-08-21T12:32:32.405Z"
   },
   {
    "duration": 38,
    "start_time": "2023-08-21T12:34:12.586Z"
   },
   {
    "duration": 214,
    "start_time": "2023-08-21T13:27:57.172Z"
   },
   {
    "duration": 31,
    "start_time": "2023-08-21T13:33:58.988Z"
   },
   {
    "duration": 238,
    "start_time": "2023-08-21T13:33:59.655Z"
   },
   {
    "duration": 3,
    "start_time": "2023-08-21T13:34:03.683Z"
   },
   {
    "duration": 839,
    "start_time": "2023-08-21T13:34:04.427Z"
   },
   {
    "duration": 37191,
    "start_time": "2023-08-21T13:34:05.268Z"
   },
   {
    "duration": 477,
    "start_time": "2023-08-21T13:34:47.017Z"
   },
   {
    "duration": 794,
    "start_time": "2023-08-21T13:34:47.496Z"
   },
   {
    "duration": 126,
    "start_time": "2023-08-21T13:37:00.349Z"
   },
   {
    "duration": 141,
    "start_time": "2023-08-21T13:37:09.026Z"
   },
   {
    "duration": 251,
    "start_time": "2023-08-21T13:56:38.828Z"
   },
   {
    "duration": 235,
    "start_time": "2023-08-21T13:56:43.766Z"
   },
   {
    "duration": 51,
    "start_time": "2023-08-22T09:27:28.215Z"
   },
   {
    "duration": 604,
    "start_time": "2023-08-22T09:27:51.482Z"
   },
   {
    "duration": 4250,
    "start_time": "2023-08-22T09:27:52.089Z"
   },
   {
    "duration": 183,
    "start_time": "2023-08-22T09:27:56.342Z"
   },
   {
    "duration": 323,
    "start_time": "2023-08-22T09:27:56.527Z"
   },
   {
    "duration": 266,
    "start_time": "2023-08-22T09:27:56.857Z"
   },
   {
    "duration": 183,
    "start_time": "2023-08-22T09:27:57.124Z"
   },
   {
    "duration": 26,
    "start_time": "2023-08-22T09:28:18.381Z"
   },
   {
    "duration": 18,
    "start_time": "2023-08-22T09:28:34.520Z"
   },
   {
    "duration": 25,
    "start_time": "2023-08-22T09:28:34.860Z"
   },
   {
    "duration": 12,
    "start_time": "2023-08-22T09:30:08.328Z"
   },
   {
    "duration": 14,
    "start_time": "2023-08-22T09:30:19.229Z"
   },
   {
    "duration": 11,
    "start_time": "2023-08-22T09:30:36.032Z"
   },
   {
    "duration": 73,
    "start_time": "2023-08-22T09:30:42.702Z"
   },
   {
    "duration": 7,
    "start_time": "2023-08-22T09:30:45.833Z"
   },
   {
    "duration": 43,
    "start_time": "2023-08-22T12:05:03.411Z"
   },
   {
    "duration": 9,
    "start_time": "2023-08-22T12:05:12.567Z"
   },
   {
    "duration": 11,
    "start_time": "2023-08-22T12:05:24.012Z"
   },
   {
    "duration": 29,
    "start_time": "2023-08-22T12:07:15.699Z"
   },
   {
    "duration": 10,
    "start_time": "2023-08-22T12:07:38.695Z"
   },
   {
    "duration": 11,
    "start_time": "2023-08-22T12:07:53.656Z"
   },
   {
    "duration": 6,
    "start_time": "2023-08-22T12:07:53.953Z"
   },
   {
    "duration": 15,
    "start_time": "2023-08-22T12:08:07.125Z"
   },
   {
    "duration": 15,
    "start_time": "2023-08-22T12:08:27.104Z"
   },
   {
    "duration": 2,
    "start_time": "2023-08-22T12:08:32.993Z"
   },
   {
    "duration": 10,
    "start_time": "2023-08-22T12:10:15.129Z"
   },
   {
    "duration": 123,
    "start_time": "2023-08-22T12:10:18.739Z"
   },
   {
    "duration": 252,
    "start_time": "2023-08-22T12:10:38.768Z"
   },
   {
    "duration": 225,
    "start_time": "2023-08-22T12:10:52.874Z"
   },
   {
    "duration": 2,
    "start_time": "2023-08-22T12:10:58.380Z"
   },
   {
    "duration": 8,
    "start_time": "2023-08-22T13:17:29.285Z"
   },
   {
    "duration": 7,
    "start_time": "2023-08-22T13:17:35.674Z"
   },
   {
    "duration": 14,
    "start_time": "2023-08-22T13:17:46.247Z"
   },
   {
    "duration": 9,
    "start_time": "2023-08-22T13:17:54.285Z"
   },
   {
    "duration": 10,
    "start_time": "2023-08-22T13:18:35.874Z"
   },
   {
    "duration": 8,
    "start_time": "2023-08-22T13:18:50.355Z"
   },
   {
    "duration": 26,
    "start_time": "2023-08-22T13:19:01.252Z"
   },
   {
    "duration": 9,
    "start_time": "2023-08-22T13:31:37.188Z"
   },
   {
    "duration": 11,
    "start_time": "2023-08-22T13:31:53.576Z"
   },
   {
    "duration": 100,
    "start_time": "2023-08-22T13:32:37.134Z"
   },
   {
    "duration": 6,
    "start_time": "2023-08-22T13:32:44.574Z"
   },
   {
    "duration": 145,
    "start_time": "2023-08-22T13:33:51.228Z"
   },
   {
    "duration": 6,
    "start_time": "2023-08-22T13:33:57.382Z"
   },
   {
    "duration": 7,
    "start_time": "2023-08-22T13:34:01.974Z"
   },
   {
    "duration": 525,
    "start_time": "2023-08-22T13:35:01.649Z"
   },
   {
    "duration": 730,
    "start_time": "2023-08-22T13:35:02.176Z"
   },
   {
    "duration": 166,
    "start_time": "2023-08-22T13:35:02.908Z"
   },
   {
    "duration": 322,
    "start_time": "2023-08-22T13:35:03.077Z"
   },
   {
    "duration": 233,
    "start_time": "2023-08-22T13:35:03.401Z"
   },
   {
    "duration": 135,
    "start_time": "2023-08-22T13:35:03.636Z"
   },
   {
    "duration": 16,
    "start_time": "2023-08-22T13:35:03.772Z"
   },
   {
    "duration": 15,
    "start_time": "2023-08-22T13:35:03.790Z"
   },
   {
    "duration": 11,
    "start_time": "2023-08-22T13:35:03.807Z"
   },
   {
    "duration": 39,
    "start_time": "2023-08-22T13:35:03.820Z"
   },
   {
    "duration": 9,
    "start_time": "2023-08-22T13:35:03.860Z"
   },
   {
    "duration": 11,
    "start_time": "2023-08-22T13:35:03.871Z"
   },
   {
    "duration": 26,
    "start_time": "2023-08-22T13:35:03.884Z"
   },
   {
    "duration": 2,
    "start_time": "2023-08-22T13:35:03.912Z"
   },
   {
    "duration": 21,
    "start_time": "2023-08-22T13:35:03.916Z"
   },
   {
    "duration": 21,
    "start_time": "2023-08-22T13:35:03.939Z"
   },
   {
    "duration": 22,
    "start_time": "2023-08-22T13:35:03.962Z"
   },
   {
    "duration": 29,
    "start_time": "2023-08-22T13:35:03.986Z"
   },
   {
    "duration": 7,
    "start_time": "2023-08-22T13:35:04.017Z"
   },
   {
    "duration": 29,
    "start_time": "2023-08-22T13:35:04.026Z"
   },
   {
    "duration": 23,
    "start_time": "2023-08-22T13:40:41.573Z"
   },
   {
    "duration": 478,
    "start_time": "2023-08-22T13:40:51.465Z"
   },
   {
    "duration": 730,
    "start_time": "2023-08-22T13:40:51.945Z"
   },
   {
    "duration": 154,
    "start_time": "2023-08-22T13:40:52.676Z"
   },
   {
    "duration": 327,
    "start_time": "2023-08-22T13:40:52.832Z"
   },
   {
    "duration": 244,
    "start_time": "2023-08-22T13:40:53.161Z"
   },
   {
    "duration": 149,
    "start_time": "2023-08-22T13:40:53.407Z"
   },
   {
    "duration": 17,
    "start_time": "2023-08-22T13:40:53.558Z"
   },
   {
    "duration": 16,
    "start_time": "2023-08-22T13:40:53.576Z"
   },
   {
    "duration": 26,
    "start_time": "2023-08-22T13:40:53.594Z"
   },
   {
    "duration": 9,
    "start_time": "2023-08-22T13:40:53.622Z"
   },
   {
    "duration": 39,
    "start_time": "2023-08-22T13:40:53.633Z"
   },
   {
    "duration": 15,
    "start_time": "2023-08-22T13:40:53.673Z"
   },
   {
    "duration": 46,
    "start_time": "2023-08-22T13:40:53.689Z"
   },
   {
    "duration": 3,
    "start_time": "2023-08-22T13:40:53.737Z"
   },
   {
    "duration": 19,
    "start_time": "2023-08-22T13:40:53.742Z"
   },
   {
    "duration": 86,
    "start_time": "2023-08-22T13:40:53.763Z"
   },
   {
    "duration": 6,
    "start_time": "2023-08-22T13:40:53.851Z"
   },
   {
    "duration": 31,
    "start_time": "2023-08-22T13:40:53.859Z"
   },
   {
    "duration": 33,
    "start_time": "2023-08-22T13:40:53.892Z"
   },
   {
    "duration": 19,
    "start_time": "2023-08-22T13:40:53.928Z"
   },
   {
    "duration": 23,
    "start_time": "2023-08-22T13:41:35.989Z"
   },
   {
    "duration": 527,
    "start_time": "2023-08-22T13:41:40.593Z"
   },
   {
    "duration": 715,
    "start_time": "2023-08-22T13:41:41.122Z"
   },
   {
    "duration": 147,
    "start_time": "2023-08-22T13:41:41.839Z"
   },
   {
    "duration": 308,
    "start_time": "2023-08-22T13:41:41.989Z"
   },
   {
    "duration": 233,
    "start_time": "2023-08-22T13:41:42.299Z"
   },
   {
    "duration": 132,
    "start_time": "2023-08-22T13:41:42.534Z"
   },
   {
    "duration": 17,
    "start_time": "2023-08-22T13:41:42.668Z"
   },
   {
    "duration": 16,
    "start_time": "2023-08-22T13:41:42.687Z"
   },
   {
    "duration": 13,
    "start_time": "2023-08-22T13:41:42.705Z"
   },
   {
    "duration": 43,
    "start_time": "2023-08-22T13:41:42.720Z"
   },
   {
    "duration": 8,
    "start_time": "2023-08-22T13:41:42.765Z"
   },
   {
    "duration": 7,
    "start_time": "2023-08-22T13:41:42.774Z"
   },
   {
    "duration": 32,
    "start_time": "2023-08-22T13:41:42.782Z"
   },
   {
    "duration": 9,
    "start_time": "2023-08-22T13:41:42.816Z"
   },
   {
    "duration": 9,
    "start_time": "2023-08-22T13:41:42.826Z"
   },
   {
    "duration": 74,
    "start_time": "2023-08-22T13:41:42.837Z"
   },
   {
    "duration": 78,
    "start_time": "2023-08-22T13:41:42.913Z"
   },
   {
    "duration": 22,
    "start_time": "2023-08-22T13:41:42.993Z"
   },
   {
    "duration": 8,
    "start_time": "2023-08-22T13:41:43.018Z"
   },
   {
    "duration": 29,
    "start_time": "2023-08-22T13:41:43.027Z"
   },
   {
    "duration": 450,
    "start_time": "2023-08-22T13:44:07.618Z"
   },
   {
    "duration": 799,
    "start_time": "2023-08-22T13:44:08.071Z"
   },
   {
    "duration": 254,
    "start_time": "2023-08-22T13:44:08.873Z"
   },
   {
    "duration": 360,
    "start_time": "2023-08-22T13:44:09.130Z"
   },
   {
    "duration": 246,
    "start_time": "2023-08-22T13:44:09.493Z"
   },
   {
    "duration": 144,
    "start_time": "2023-08-22T13:44:09.741Z"
   },
   {
    "duration": 18,
    "start_time": "2023-08-22T13:44:09.887Z"
   },
   {
    "duration": 23,
    "start_time": "2023-08-22T13:44:09.907Z"
   },
   {
    "duration": 31,
    "start_time": "2023-08-22T13:44:09.932Z"
   },
   {
    "duration": 11,
    "start_time": "2023-08-22T13:44:09.966Z"
   },
   {
    "duration": 11,
    "start_time": "2023-08-22T13:44:09.979Z"
   },
   {
    "duration": 8,
    "start_time": "2023-08-22T13:44:09.992Z"
   },
   {
    "duration": 58,
    "start_time": "2023-08-22T13:44:10.002Z"
   },
   {
    "duration": 3,
    "start_time": "2023-08-22T13:44:10.062Z"
   },
   {
    "duration": 32,
    "start_time": "2023-08-22T13:44:10.066Z"
   },
   {
    "duration": 79,
    "start_time": "2023-08-22T13:44:10.099Z"
   },
   {
    "duration": 81,
    "start_time": "2023-08-22T13:44:10.180Z"
   },
   {
    "duration": 24,
    "start_time": "2023-08-22T13:44:10.262Z"
   },
   {
    "duration": 7,
    "start_time": "2023-08-22T13:44:10.288Z"
   },
   {
    "duration": 18,
    "start_time": "2023-08-22T13:44:10.297Z"
   },
   {
    "duration": 1248,
    "start_time": "2023-08-22T14:13:48.956Z"
   },
   {
    "duration": 9,
    "start_time": "2023-08-22T14:14:50.319Z"
   },
   {
    "duration": 1801,
    "start_time": "2023-08-28T10:22:43.591Z"
   },
   {
    "duration": 3080,
    "start_time": "2023-08-28T10:22:45.394Z"
   },
   {
    "duration": 155,
    "start_time": "2023-08-28T10:22:48.476Z"
   },
   {
    "duration": 271,
    "start_time": "2023-08-28T10:22:48.633Z"
   },
   {
    "duration": 233,
    "start_time": "2023-08-28T10:22:48.906Z"
   },
   {
    "duration": 132,
    "start_time": "2023-08-28T10:22:49.141Z"
   },
   {
    "duration": 18,
    "start_time": "2023-08-28T10:22:49.275Z"
   },
   {
    "duration": 21,
    "start_time": "2023-08-28T10:22:49.294Z"
   },
   {
    "duration": 11,
    "start_time": "2023-08-28T10:22:49.316Z"
   },
   {
    "duration": 9,
    "start_time": "2023-08-28T10:22:49.330Z"
   },
   {
    "duration": 9,
    "start_time": "2023-08-28T10:22:49.367Z"
   },
   {
    "duration": 7,
    "start_time": "2023-08-28T10:22:49.378Z"
   },
   {
    "duration": 27,
    "start_time": "2023-08-28T10:22:49.386Z"
   },
   {
    "duration": 2,
    "start_time": "2023-08-28T10:22:49.414Z"
   },
   {
    "duration": 17,
    "start_time": "2023-08-28T10:22:49.418Z"
   },
   {
    "duration": 87,
    "start_time": "2023-08-28T10:22:49.437Z"
   },
   {
    "duration": 66,
    "start_time": "2023-08-28T10:22:49.525Z"
   },
   {
    "duration": 21,
    "start_time": "2023-08-28T10:22:49.592Z"
   },
   {
    "duration": 7,
    "start_time": "2023-08-28T10:22:49.615Z"
   },
   {
    "duration": 5,
    "start_time": "2023-08-28T10:22:49.624Z"
   },
   {
    "duration": 11,
    "start_time": "2023-08-28T10:22:49.630Z"
   },
   {
    "duration": 18,
    "start_time": "2023-08-28T10:32:40.280Z"
   },
   {
    "duration": 1498,
    "start_time": "2023-08-28T10:36:54.935Z"
   },
   {
    "duration": 1659,
    "start_time": "2023-08-28T10:38:06.940Z"
   },
   {
    "duration": 111,
    "start_time": "2023-08-28T10:48:51.573Z"
   },
   {
    "duration": 139,
    "start_time": "2023-08-28T10:49:03.133Z"
   },
   {
    "duration": 104,
    "start_time": "2023-08-28T10:49:11.441Z"
   },
   {
    "duration": 10,
    "start_time": "2023-08-28T10:49:24.258Z"
   },
   {
    "duration": 13020,
    "start_time": "2023-08-28T10:49:29.133Z"
   },
   {
    "duration": 10,
    "start_time": "2023-08-28T10:49:55.497Z"
   },
   {
    "duration": 1621,
    "start_time": "2023-08-28T10:50:11.769Z"
   },
   {
    "duration": 840,
    "start_time": "2023-08-28T10:50:13.393Z"
   },
   {
    "duration": 155,
    "start_time": "2023-08-28T10:50:14.235Z"
   },
   {
    "duration": 267,
    "start_time": "2023-08-28T10:50:14.392Z"
   },
   {
    "duration": 252,
    "start_time": "2023-08-28T10:50:14.662Z"
   },
   {
    "duration": 141,
    "start_time": "2023-08-28T10:50:14.917Z"
   },
   {
    "duration": 26,
    "start_time": "2023-08-28T10:50:15.059Z"
   },
   {
    "duration": 53,
    "start_time": "2023-08-28T10:50:15.088Z"
   },
   {
    "duration": 42,
    "start_time": "2023-08-28T10:50:15.143Z"
   },
   {
    "duration": 30,
    "start_time": "2023-08-28T10:50:15.187Z"
   },
   {
    "duration": 20,
    "start_time": "2023-08-28T10:50:15.220Z"
   },
   {
    "duration": 13,
    "start_time": "2023-08-28T10:50:15.242Z"
   },
   {
    "duration": 35,
    "start_time": "2023-08-28T10:50:15.257Z"
   },
   {
    "duration": 3,
    "start_time": "2023-08-28T10:50:15.295Z"
   },
   {
    "duration": 27,
    "start_time": "2023-08-28T10:50:15.299Z"
   },
   {
    "duration": 94,
    "start_time": "2023-08-28T10:50:15.328Z"
   },
   {
    "duration": 66,
    "start_time": "2023-08-28T10:50:15.424Z"
   },
   {
    "duration": 23,
    "start_time": "2023-08-28T10:50:15.492Z"
   },
   {
    "duration": 8,
    "start_time": "2023-08-28T10:50:15.517Z"
   },
   {
    "duration": 11,
    "start_time": "2023-08-28T10:50:15.527Z"
   },
   {
    "duration": 28,
    "start_time": "2023-08-28T10:50:15.540Z"
   },
   {
    "duration": 28,
    "start_time": "2023-08-28T10:50:15.569Z"
   },
   {
    "duration": 1578,
    "start_time": "2023-08-28T10:50:15.599Z"
   },
   {
    "duration": 102,
    "start_time": "2023-08-28T10:50:17.179Z"
   },
   {
    "duration": 19385,
    "start_time": "2023-08-28T10:50:17.283Z"
   },
   {
    "duration": 18,
    "start_time": "2023-08-28T10:52:12.106Z"
   },
   {
    "duration": 134,
    "start_time": "2023-08-28T10:52:25.803Z"
   },
   {
    "duration": 8728,
    "start_time": "2023-08-28T10:52:32.023Z"
   },
   {
    "duration": 28,
    "start_time": "2023-08-28T11:00:52.859Z"
   },
   {
    "duration": 12,
    "start_time": "2023-08-28T11:01:22.401Z"
   },
   {
    "duration": 21,
    "start_time": "2023-08-28T11:01:35.921Z"
   },
   {
    "duration": 21,
    "start_time": "2023-08-28T11:01:43.115Z"
   },
   {
    "duration": 21,
    "start_time": "2023-08-28T11:01:52.784Z"
   },
   {
    "duration": 14,
    "start_time": "2023-08-28T11:02:02.599Z"
   },
   {
    "duration": 4,
    "start_time": "2023-08-28T11:04:32.698Z"
   },
   {
    "duration": 4,
    "start_time": "2023-08-28T11:04:38.477Z"
   },
   {
    "duration": 9,
    "start_time": "2023-08-28T11:04:39.395Z"
   },
   {
    "duration": 25,
    "start_time": "2023-08-28T11:04:44.483Z"
   },
   {
    "duration": 5,
    "start_time": "2023-08-28T11:04:44.730Z"
   },
   {
    "duration": 17,
    "start_time": "2023-08-28T11:04:45.076Z"
   },
   {
    "duration": 23,
    "start_time": "2023-08-28T11:05:12.768Z"
   },
   {
    "duration": 1789,
    "start_time": "2023-08-28T11:05:22.346Z"
   },
   {
    "duration": 882,
    "start_time": "2023-08-28T11:05:24.140Z"
   },
   {
    "duration": 180,
    "start_time": "2023-08-28T11:05:25.024Z"
   },
   {
    "duration": 328,
    "start_time": "2023-08-28T11:05:25.207Z"
   },
   {
    "duration": 290,
    "start_time": "2023-08-28T11:05:25.537Z"
   },
   {
    "duration": 172,
    "start_time": "2023-08-28T11:05:25.829Z"
   },
   {
    "duration": 18,
    "start_time": "2023-08-28T11:05:26.003Z"
   },
   {
    "duration": 16,
    "start_time": "2023-08-28T11:05:26.022Z"
   },
   {
    "duration": 42,
    "start_time": "2023-08-28T11:05:26.040Z"
   },
   {
    "duration": 12,
    "start_time": "2023-08-28T11:05:26.087Z"
   },
   {
    "duration": 14,
    "start_time": "2023-08-28T11:05:26.101Z"
   },
   {
    "duration": 9,
    "start_time": "2023-08-28T11:05:26.117Z"
   },
   {
    "duration": 65,
    "start_time": "2023-08-28T11:05:26.128Z"
   },
   {
    "duration": 3,
    "start_time": "2023-08-28T11:05:26.195Z"
   },
   {
    "duration": 15,
    "start_time": "2023-08-28T11:05:26.200Z"
   },
   {
    "duration": 97,
    "start_time": "2023-08-28T11:05:26.217Z"
   },
   {
    "duration": 95,
    "start_time": "2023-08-28T11:05:26.318Z"
   },
   {
    "duration": 24,
    "start_time": "2023-08-28T11:05:26.416Z"
   },
   {
    "duration": 6,
    "start_time": "2023-08-28T11:05:26.442Z"
   },
   {
    "duration": 6,
    "start_time": "2023-08-28T11:05:26.468Z"
   },
   {
    "duration": 10,
    "start_time": "2023-08-28T11:05:26.476Z"
   },
   {
    "duration": 13,
    "start_time": "2023-08-28T11:05:26.489Z"
   },
   {
    "duration": 1833,
    "start_time": "2023-08-28T11:05:26.504Z"
   },
   {
    "duration": 23,
    "start_time": "2023-08-28T11:05:28.340Z"
   },
   {
    "duration": 7,
    "start_time": "2023-08-28T11:05:28.365Z"
   },
   {
    "duration": 164,
    "start_time": "2023-08-28T11:05:28.374Z"
   },
   {
    "duration": 11,
    "start_time": "2023-08-28T11:05:37.712Z"
   },
   {
    "duration": 12,
    "start_time": "2023-08-28T11:05:38.997Z"
   },
   {
    "duration": 12,
    "start_time": "2023-08-28T11:07:14.201Z"
   },
   {
    "duration": 11,
    "start_time": "2023-08-28T11:07:16.101Z"
   },
   {
    "duration": 108,
    "start_time": "2023-08-28T11:08:21.623Z"
   },
   {
    "duration": 10,
    "start_time": "2023-08-28T11:08:25.723Z"
   },
   {
    "duration": 27,
    "start_time": "2023-08-28T11:08:28.955Z"
   },
   {
    "duration": 9,
    "start_time": "2023-08-28T11:08:29.027Z"
   },
   {
    "duration": 15,
    "start_time": "2023-08-28T11:08:33.264Z"
   },
   {
    "duration": 26,
    "start_time": "2023-08-28T11:08:46.178Z"
   },
   {
    "duration": 6,
    "start_time": "2023-08-28T11:08:46.464Z"
   },
   {
    "duration": 9,
    "start_time": "2023-08-28T11:08:46.748Z"
   },
   {
    "duration": 11,
    "start_time": "2023-08-28T11:08:54.497Z"
   },
   {
    "duration": 9,
    "start_time": "2023-08-28T11:08:54.905Z"
   },
   {
    "duration": 30,
    "start_time": "2023-08-28T11:08:55.962Z"
   },
   {
    "duration": 11,
    "start_time": "2023-08-28T11:08:56.205Z"
   },
   {
    "duration": 16,
    "start_time": "2023-08-28T11:08:56.484Z"
   },
   {
    "duration": 1990,
    "start_time": "2023-08-28T11:09:46.040Z"
   },
   {
    "duration": 118,
    "start_time": "2023-08-28T11:09:52.317Z"
   },
   {
    "duration": 2141,
    "start_time": "2023-08-28T11:10:10.698Z"
   },
   {
    "duration": 12,
    "start_time": "2023-08-28T11:10:22.145Z"
   },
   {
    "duration": 2052,
    "start_time": "2023-08-28T11:12:00.738Z"
   },
   {
    "duration": 1902,
    "start_time": "2023-08-28T11:12:07.089Z"
   },
   {
    "duration": 2087,
    "start_time": "2023-08-28T11:12:13.778Z"
   },
   {
    "duration": 14,
    "start_time": "2023-08-28T11:12:40.980Z"
   },
   {
    "duration": 24,
    "start_time": "2023-08-28T11:12:44.062Z"
   },
   {
    "duration": 20,
    "start_time": "2023-08-28T11:12:55.016Z"
   },
   {
    "duration": 3,
    "start_time": "2023-08-28T11:13:04.272Z"
   },
   {
    "duration": 5,
    "start_time": "2023-08-28T11:13:05.019Z"
   },
   {
    "duration": 2359,
    "start_time": "2023-08-28T11:13:21.818Z"
   },
   {
    "duration": 1641,
    "start_time": "2023-08-28T11:13:35.057Z"
   },
   {
    "duration": 852,
    "start_time": "2023-08-28T11:13:36.701Z"
   },
   {
    "duration": 155,
    "start_time": "2023-08-28T11:13:37.555Z"
   },
   {
    "duration": 298,
    "start_time": "2023-08-28T11:13:37.712Z"
   },
   {
    "duration": 268,
    "start_time": "2023-08-28T11:13:38.012Z"
   },
   {
    "duration": 141,
    "start_time": "2023-08-28T11:13:38.283Z"
   },
   {
    "duration": 19,
    "start_time": "2023-08-28T11:13:38.426Z"
   },
   {
    "duration": 33,
    "start_time": "2023-08-28T11:13:38.447Z"
   },
   {
    "duration": 16,
    "start_time": "2023-08-28T11:13:38.481Z"
   },
   {
    "duration": 11,
    "start_time": "2023-08-28T11:13:38.499Z"
   },
   {
    "duration": 16,
    "start_time": "2023-08-28T11:13:38.511Z"
   },
   {
    "duration": 22,
    "start_time": "2023-08-28T11:13:38.529Z"
   },
   {
    "duration": 46,
    "start_time": "2023-08-28T11:13:38.553Z"
   },
   {
    "duration": 2,
    "start_time": "2023-08-28T11:13:38.602Z"
   },
   {
    "duration": 29,
    "start_time": "2023-08-28T11:13:38.605Z"
   },
   {
    "duration": 92,
    "start_time": "2023-08-28T11:13:38.635Z"
   },
   {
    "duration": 78,
    "start_time": "2023-08-28T11:13:38.729Z"
   },
   {
    "duration": 24,
    "start_time": "2023-08-28T11:13:38.808Z"
   },
   {
    "duration": 9,
    "start_time": "2023-08-28T11:13:38.834Z"
   },
   {
    "duration": 8,
    "start_time": "2023-08-28T11:13:38.867Z"
   },
   {
    "duration": 17,
    "start_time": "2023-08-28T11:13:38.877Z"
   },
   {
    "duration": 18,
    "start_time": "2023-08-28T11:13:38.896Z"
   },
   {
    "duration": 1629,
    "start_time": "2023-08-28T11:13:38.916Z"
   },
   {
    "duration": 21,
    "start_time": "2023-08-28T11:13:40.547Z"
   },
   {
    "duration": 24,
    "start_time": "2023-08-28T11:13:40.570Z"
   },
   {
    "duration": 14,
    "start_time": "2023-08-28T11:13:40.597Z"
   },
   {
    "duration": 5,
    "start_time": "2023-08-28T11:13:51.837Z"
   },
   {
    "duration": 1703,
    "start_time": "2023-08-28T11:15:45.446Z"
   },
   {
    "duration": 798,
    "start_time": "2023-08-28T11:15:47.151Z"
   },
   {
    "duration": 175,
    "start_time": "2023-08-28T11:15:47.951Z"
   },
   {
    "duration": 302,
    "start_time": "2023-08-28T11:15:48.129Z"
   },
   {
    "duration": 291,
    "start_time": "2023-08-28T11:15:48.433Z"
   },
   {
    "duration": 158,
    "start_time": "2023-08-28T11:15:48.726Z"
   },
   {
    "duration": 21,
    "start_time": "2023-08-28T11:15:48.886Z"
   },
   {
    "duration": 16,
    "start_time": "2023-08-28T11:15:48.909Z"
   },
   {
    "duration": 16,
    "start_time": "2023-08-28T11:15:48.926Z"
   },
   {
    "duration": 18,
    "start_time": "2023-08-28T11:15:48.969Z"
   },
   {
    "duration": 15,
    "start_time": "2023-08-28T11:15:48.990Z"
   },
   {
    "duration": 7,
    "start_time": "2023-08-28T11:15:49.008Z"
   },
   {
    "duration": 56,
    "start_time": "2023-08-28T11:15:49.017Z"
   },
   {
    "duration": 3,
    "start_time": "2023-08-28T11:15:49.076Z"
   },
   {
    "duration": 21,
    "start_time": "2023-08-28T11:15:49.081Z"
   },
   {
    "duration": 92,
    "start_time": "2023-08-28T11:15:49.104Z"
   },
   {
    "duration": 84,
    "start_time": "2023-08-28T11:15:49.199Z"
   },
   {
    "duration": 24,
    "start_time": "2023-08-28T11:15:49.286Z"
   },
   {
    "duration": 9,
    "start_time": "2023-08-28T11:15:49.311Z"
   },
   {
    "duration": 13,
    "start_time": "2023-08-28T11:15:49.322Z"
   },
   {
    "duration": 38,
    "start_time": "2023-08-28T11:15:49.336Z"
   },
   {
    "duration": 18,
    "start_time": "2023-08-28T11:15:49.376Z"
   },
   {
    "duration": 1701,
    "start_time": "2023-08-28T11:15:49.396Z"
   },
   {
    "duration": 20,
    "start_time": "2023-08-28T11:15:51.099Z"
   },
   {
    "duration": 152,
    "start_time": "2023-08-28T11:17:08.311Z"
   },
   {
    "duration": 24,
    "start_time": "2023-08-28T11:17:23.791Z"
   },
   {
    "duration": 36,
    "start_time": "2023-08-28T11:17:30.598Z"
   },
   {
    "duration": 19,
    "start_time": "2023-08-28T11:17:37.739Z"
   },
   {
    "duration": 13,
    "start_time": "2023-08-28T11:19:38.317Z"
   },
   {
    "duration": 4,
    "start_time": "2023-08-28T11:20:14.451Z"
   },
   {
    "duration": 21,
    "start_time": "2023-08-28T11:20:46.669Z"
   },
   {
    "duration": 21,
    "start_time": "2023-08-28T11:22:42.564Z"
   },
   {
    "duration": 17,
    "start_time": "2023-08-28T11:22:55.962Z"
   },
   {
    "duration": 4,
    "start_time": "2023-08-28T11:23:44.928Z"
   },
   {
    "duration": 4,
    "start_time": "2023-08-28T11:23:48.262Z"
   },
   {
    "duration": 8,
    "start_time": "2023-08-28T11:23:56.930Z"
   },
   {
    "duration": 22,
    "start_time": "2023-08-28T11:28:07.766Z"
   },
   {
    "duration": 20,
    "start_time": "2023-08-28T11:28:50.167Z"
   },
   {
    "duration": 13,
    "start_time": "2023-08-28T11:29:30.867Z"
   },
   {
    "duration": 6,
    "start_time": "2023-08-28T11:29:38.372Z"
   },
   {
    "duration": 13,
    "start_time": "2023-08-28T11:29:49.770Z"
   },
   {
    "duration": 15,
    "start_time": "2023-08-28T11:29:54.681Z"
   },
   {
    "duration": 11,
    "start_time": "2023-08-28T11:30:00.410Z"
   },
   {
    "duration": 19,
    "start_time": "2023-08-28T11:30:16.706Z"
   },
   {
    "duration": 8,
    "start_time": "2023-08-28T11:30:29.723Z"
   },
   {
    "duration": 13,
    "start_time": "2023-08-28T11:30:37.936Z"
   },
   {
    "duration": 16,
    "start_time": "2023-08-28T11:31:28.045Z"
   },
   {
    "duration": 16,
    "start_time": "2023-08-28T11:31:49.918Z"
   },
   {
    "duration": 7,
    "start_time": "2023-08-28T11:32:01.266Z"
   },
   {
    "duration": 10,
    "start_time": "2023-08-28T11:32:16.701Z"
   },
   {
    "duration": 8,
    "start_time": "2023-08-28T11:32:53.313Z"
   },
   {
    "duration": 11,
    "start_time": "2023-08-28T11:32:53.997Z"
   },
   {
    "duration": 7,
    "start_time": "2023-08-28T11:32:57.563Z"
   },
   {
    "duration": 7,
    "start_time": "2023-08-28T11:34:08.230Z"
   },
   {
    "duration": 9,
    "start_time": "2023-08-28T11:34:09.269Z"
   },
   {
    "duration": 351,
    "start_time": "2023-08-28T11:39:26.935Z"
   },
   {
    "duration": 206,
    "start_time": "2023-08-28T11:40:14.946Z"
   },
   {
    "duration": 11,
    "start_time": "2023-08-28T12:22:21.356Z"
   },
   {
    "duration": 12,
    "start_time": "2023-08-28T12:22:31.243Z"
   },
   {
    "duration": 1146,
    "start_time": "2023-08-28T12:22:54.197Z"
   },
   {
    "duration": 932,
    "start_time": "2023-08-28T12:23:49.234Z"
   },
   {
    "duration": 11,
    "start_time": "2023-08-28T12:24:56.332Z"
   },
   {
    "duration": 181,
    "start_time": "2023-08-28T12:25:52.882Z"
   },
   {
    "duration": 14,
    "start_time": "2023-08-28T12:26:21.946Z"
   },
   {
    "duration": 14,
    "start_time": "2023-08-28T12:26:43.295Z"
   },
   {
    "duration": 2019,
    "start_time": "2023-08-28T12:29:59.114Z"
   },
   {
    "duration": 12,
    "start_time": "2023-08-28T12:30:33.685Z"
   },
   {
    "duration": 14,
    "start_time": "2023-08-28T12:30:52.850Z"
   },
   {
    "duration": 18,
    "start_time": "2023-08-28T12:31:08.578Z"
   },
   {
    "duration": 1977,
    "start_time": "2023-08-28T12:31:27.477Z"
   },
   {
    "duration": 23,
    "start_time": "2023-08-28T12:34:03.268Z"
   },
   {
    "duration": 26,
    "start_time": "2023-08-28T12:34:59.888Z"
   },
   {
    "duration": 22,
    "start_time": "2023-08-28T12:36:40.174Z"
   },
   {
    "duration": 29,
    "start_time": "2023-08-28T12:37:05.246Z"
   },
   {
    "duration": 22,
    "start_time": "2023-08-28T12:37:52.445Z"
   },
   {
    "duration": 24,
    "start_time": "2023-08-28T12:38:21.466Z"
   },
   {
    "duration": 26,
    "start_time": "2023-08-28T12:38:30.774Z"
   },
   {
    "duration": 26,
    "start_time": "2023-08-28T12:38:34.485Z"
   },
   {
    "duration": 21,
    "start_time": "2023-08-28T12:38:34.897Z"
   },
   {
    "duration": 31,
    "start_time": "2023-08-28T12:38:35.806Z"
   },
   {
    "duration": 24,
    "start_time": "2023-08-28T12:39:20.966Z"
   },
   {
    "duration": 9,
    "start_time": "2023-08-28T12:39:32.131Z"
   },
   {
    "duration": 10,
    "start_time": "2023-08-28T12:39:32.478Z"
   },
   {
    "duration": 13,
    "start_time": "2023-08-28T12:39:39.615Z"
   },
   {
    "duration": 12,
    "start_time": "2023-08-28T12:39:39.802Z"
   },
   {
    "duration": 1096,
    "start_time": "2023-08-28T12:39:40.233Z"
   },
   {
    "duration": 14,
    "start_time": "2023-08-28T12:39:41.331Z"
   },
   {
    "duration": 14,
    "start_time": "2023-08-28T12:39:42.840Z"
   },
   {
    "duration": 1701,
    "start_time": "2023-08-29T11:11:20.448Z"
   },
   {
    "duration": 2240,
    "start_time": "2023-08-29T11:11:22.152Z"
   },
   {
    "duration": 167,
    "start_time": "2023-08-29T11:11:24.394Z"
   },
   {
    "duration": 291,
    "start_time": "2023-08-29T11:11:24.564Z"
   },
   {
    "duration": 281,
    "start_time": "2023-08-29T11:11:24.856Z"
   },
   {
    "duration": 148,
    "start_time": "2023-08-29T11:11:25.139Z"
   },
   {
    "duration": 37,
    "start_time": "2023-08-29T11:11:25.289Z"
   },
   {
    "duration": 21,
    "start_time": "2023-08-29T11:11:25.329Z"
   },
   {
    "duration": 16,
    "start_time": "2023-08-29T11:11:25.352Z"
   },
   {
    "duration": 96,
    "start_time": "2023-08-29T11:11:25.371Z"
   },
   {
    "duration": 25,
    "start_time": "2023-08-29T11:11:25.469Z"
   },
   {
    "duration": 14,
    "start_time": "2023-08-29T11:11:25.496Z"
   },
   {
    "duration": 36,
    "start_time": "2023-08-29T11:11:25.512Z"
   },
   {
    "duration": 12,
    "start_time": "2023-08-29T11:11:25.549Z"
   },
   {
    "duration": 16,
    "start_time": "2023-08-29T11:11:25.563Z"
   },
   {
    "duration": 71,
    "start_time": "2023-08-29T11:11:25.581Z"
   },
   {
    "duration": 101,
    "start_time": "2023-08-29T11:11:25.653Z"
   },
   {
    "duration": 23,
    "start_time": "2023-08-29T11:11:25.756Z"
   },
   {
    "duration": 30,
    "start_time": "2023-08-29T11:11:25.780Z"
   },
   {
    "duration": 31,
    "start_time": "2023-08-29T11:11:25.813Z"
   },
   {
    "duration": 36,
    "start_time": "2023-08-29T11:11:25.846Z"
   },
   {
    "duration": 31,
    "start_time": "2023-08-29T11:11:25.884Z"
   },
   {
    "duration": 2060,
    "start_time": "2023-08-29T11:11:25.916Z"
   },
   {
    "duration": 31,
    "start_time": "2023-08-29T11:11:27.979Z"
   },
   {
    "duration": 23,
    "start_time": "2023-08-29T11:11:28.012Z"
   },
   {
    "duration": 26,
    "start_time": "2023-08-29T11:11:28.036Z"
   },
   {
    "duration": 47,
    "start_time": "2023-08-29T11:11:28.064Z"
   },
   {
    "duration": 9,
    "start_time": "2023-08-29T11:11:28.114Z"
   },
   {
    "duration": 15,
    "start_time": "2023-08-29T11:11:28.124Z"
   },
   {
    "duration": 12,
    "start_time": "2023-08-29T11:11:28.142Z"
   },
   {
    "duration": 12,
    "start_time": "2023-08-29T11:11:28.157Z"
   },
   {
    "duration": 1143,
    "start_time": "2023-08-29T11:11:28.171Z"
   },
   {
    "duration": 14,
    "start_time": "2023-08-29T11:11:29.315Z"
   },
   {
    "duration": 12,
    "start_time": "2023-08-29T11:11:29.330Z"
   },
   {
    "duration": 10,
    "start_time": "2023-08-29T16:09:53.495Z"
   },
   {
    "duration": 1407,
    "start_time": "2023-08-29T16:09:58.268Z"
   },
   {
    "duration": 765,
    "start_time": "2023-08-29T16:09:59.677Z"
   },
   {
    "duration": 179,
    "start_time": "2023-08-29T16:10:00.443Z"
   },
   {
    "duration": 279,
    "start_time": "2023-08-29T16:10:00.624Z"
   },
   {
    "duration": 259,
    "start_time": "2023-08-29T16:10:00.905Z"
   },
   {
    "duration": 146,
    "start_time": "2023-08-29T16:10:01.166Z"
   },
   {
    "duration": 18,
    "start_time": "2023-08-29T16:10:01.314Z"
   },
   {
    "duration": 35,
    "start_time": "2023-08-29T16:10:01.334Z"
   },
   {
    "duration": 33,
    "start_time": "2023-08-29T16:10:01.371Z"
   },
   {
    "duration": 37,
    "start_time": "2023-08-29T16:10:01.407Z"
   },
   {
    "duration": 76,
    "start_time": "2023-08-29T16:10:01.445Z"
   },
   {
    "duration": 90,
    "start_time": "2023-08-29T16:10:01.523Z"
   },
   {
    "duration": 86,
    "start_time": "2023-08-29T16:10:01.615Z"
   },
   {
    "duration": 56,
    "start_time": "2023-08-29T16:10:01.702Z"
   },
   {
    "duration": 61,
    "start_time": "2023-08-29T16:10:01.760Z"
   },
   {
    "duration": 113,
    "start_time": "2023-08-29T16:10:01.822Z"
   },
   {
    "duration": 72,
    "start_time": "2023-08-29T16:10:01.937Z"
   },
   {
    "duration": 21,
    "start_time": "2023-08-29T16:10:02.011Z"
   },
   {
    "duration": 22,
    "start_time": "2023-08-29T16:10:02.034Z"
   },
   {
    "duration": 29,
    "start_time": "2023-08-29T16:10:02.058Z"
   },
   {
    "duration": 32,
    "start_time": "2023-08-29T16:10:02.089Z"
   },
   {
    "duration": 43,
    "start_time": "2023-08-29T16:10:02.122Z"
   },
   {
    "duration": 2064,
    "start_time": "2023-08-29T16:10:02.166Z"
   },
   {
    "duration": 21,
    "start_time": "2023-08-29T16:10:04.232Z"
   },
   {
    "duration": 21,
    "start_time": "2023-08-29T16:10:04.255Z"
   },
   {
    "duration": 22,
    "start_time": "2023-08-29T16:10:04.277Z"
   },
   {
    "duration": 30,
    "start_time": "2023-08-29T16:10:04.300Z"
   },
   {
    "duration": 7,
    "start_time": "2023-08-29T16:10:04.335Z"
   },
   {
    "duration": 10,
    "start_time": "2023-08-29T16:10:04.345Z"
   },
   {
    "duration": 11,
    "start_time": "2023-08-29T16:10:04.357Z"
   },
   {
    "duration": 39,
    "start_time": "2023-08-29T16:10:04.371Z"
   },
   {
    "duration": 1140,
    "start_time": "2023-08-29T16:10:04.412Z"
   },
   {
    "duration": 15,
    "start_time": "2023-08-29T16:10:05.553Z"
   },
   {
    "duration": 31,
    "start_time": "2023-08-29T16:10:05.569Z"
   },
   {
    "duration": 20,
    "start_time": "2023-08-29T16:10:05.602Z"
   },
   {
    "duration": 64,
    "start_time": "2023-08-29T16:10:15.691Z"
   },
   {
    "duration": 241,
    "start_time": "2023-08-29T16:12:00.735Z"
   },
   {
    "duration": 57,
    "start_time": "2023-08-29T16:12:25.694Z"
   },
   {
    "duration": 71,
    "start_time": "2023-08-29T16:13:13.746Z"
   },
   {
    "duration": 70,
    "start_time": "2023-08-29T16:13:19.522Z"
   },
   {
    "duration": 79,
    "start_time": "2023-08-29T16:14:23.243Z"
   },
   {
    "duration": 5,
    "start_time": "2023-08-29T16:15:35.978Z"
   },
   {
    "duration": 6,
    "start_time": "2023-08-29T16:15:36.284Z"
   },
   {
    "duration": 6,
    "start_time": "2023-08-29T16:15:36.588Z"
   },
   {
    "duration": 6,
    "start_time": "2023-08-29T16:15:36.879Z"
   },
   {
    "duration": 169,
    "start_time": "2023-08-29T16:16:16.964Z"
   },
   {
    "duration": 84,
    "start_time": "2023-08-29T16:16:36.825Z"
   },
   {
    "duration": 680,
    "start_time": "2023-08-29T16:16:48.768Z"
   },
   {
    "duration": 2292,
    "start_time": "2023-08-29T16:17:24.515Z"
   },
   {
    "duration": 5,
    "start_time": "2023-08-29T16:17:30.774Z"
   },
   {
    "duration": 6,
    "start_time": "2023-08-29T16:17:30.997Z"
   },
   {
    "duration": 6,
    "start_time": "2023-08-29T16:17:31.183Z"
   },
   {
    "duration": 4,
    "start_time": "2023-08-29T16:17:31.375Z"
   },
   {
    "duration": 90,
    "start_time": "2023-08-29T16:17:31.578Z"
   },
   {
    "duration": 84,
    "start_time": "2023-08-29T16:19:15.104Z"
   },
   {
    "duration": 93,
    "start_time": "2023-08-29T16:19:57.525Z"
   },
   {
    "duration": 83,
    "start_time": "2023-08-29T16:20:07.011Z"
   },
   {
    "duration": 96,
    "start_time": "2023-08-29T16:20:47.416Z"
   },
   {
    "duration": 1520,
    "start_time": "2023-08-29T16:25:30.753Z"
   },
   {
    "duration": 930,
    "start_time": "2023-08-29T16:25:32.275Z"
   },
   {
    "duration": 166,
    "start_time": "2023-08-29T16:25:33.206Z"
   },
   {
    "duration": 295,
    "start_time": "2023-08-29T16:25:33.374Z"
   },
   {
    "duration": 278,
    "start_time": "2023-08-29T16:25:33.670Z"
   },
   {
    "duration": 145,
    "start_time": "2023-08-29T16:25:33.950Z"
   },
   {
    "duration": 22,
    "start_time": "2023-08-29T16:25:34.096Z"
   },
   {
    "duration": 17,
    "start_time": "2023-08-29T16:25:34.120Z"
   },
   {
    "duration": 17,
    "start_time": "2023-08-29T16:25:34.139Z"
   },
   {
    "duration": 16,
    "start_time": "2023-08-29T16:25:34.159Z"
   },
   {
    "duration": 33,
    "start_time": "2023-08-29T16:25:34.177Z"
   },
   {
    "duration": 8,
    "start_time": "2023-08-29T16:25:34.212Z"
   },
   {
    "duration": 24,
    "start_time": "2023-08-29T16:25:34.222Z"
   },
   {
    "duration": 3,
    "start_time": "2023-08-29T16:25:34.248Z"
   },
   {
    "duration": 14,
    "start_time": "2023-08-29T16:25:34.253Z"
   },
   {
    "duration": 89,
    "start_time": "2023-08-29T16:25:34.269Z"
   },
   {
    "duration": 77,
    "start_time": "2023-08-29T16:25:34.360Z"
   },
   {
    "duration": 22,
    "start_time": "2023-08-29T16:25:34.438Z"
   },
   {
    "duration": 7,
    "start_time": "2023-08-29T16:25:34.462Z"
   },
   {
    "duration": 18,
    "start_time": "2023-08-29T16:25:34.471Z"
   },
   {
    "duration": 23,
    "start_time": "2023-08-29T16:25:34.491Z"
   },
   {
    "duration": 20,
    "start_time": "2023-08-29T16:25:34.516Z"
   },
   {
    "duration": 2026,
    "start_time": "2023-08-29T16:25:34.537Z"
   },
   {
    "duration": 33,
    "start_time": "2023-08-29T16:25:36.565Z"
   },
   {
    "duration": 29,
    "start_time": "2023-08-29T16:25:36.600Z"
   },
   {
    "duration": 32,
    "start_time": "2023-08-29T16:25:36.631Z"
   },
   {
    "duration": 48,
    "start_time": "2023-08-29T16:25:36.665Z"
   },
   {
    "duration": 11,
    "start_time": "2023-08-29T16:25:36.718Z"
   },
   {
    "duration": 17,
    "start_time": "2023-08-29T16:25:36.731Z"
   },
   {
    "duration": 11,
    "start_time": "2023-08-29T16:25:36.750Z"
   },
   {
    "duration": 13,
    "start_time": "2023-08-29T16:25:36.762Z"
   },
   {
    "duration": 1134,
    "start_time": "2023-08-29T16:25:36.776Z"
   },
   {
    "duration": 17,
    "start_time": "2023-08-29T16:25:37.912Z"
   },
   {
    "duration": 14,
    "start_time": "2023-08-29T16:25:37.931Z"
   },
   {
    "duration": 17,
    "start_time": "2023-08-29T16:25:37.947Z"
   },
   {
    "duration": 5,
    "start_time": "2023-08-29T16:25:37.966Z"
   },
   {
    "duration": 39,
    "start_time": "2023-08-29T16:25:37.972Z"
   },
   {
    "duration": 5,
    "start_time": "2023-08-29T16:25:38.013Z"
   },
   {
    "duration": 9,
    "start_time": "2023-08-29T16:25:38.020Z"
   },
   {
    "duration": 101,
    "start_time": "2023-08-29T16:25:38.031Z"
   },
   {
    "duration": 34,
    "start_time": "2023-08-29T17:21:41.029Z"
   },
   {
    "duration": 1359,
    "start_time": "2023-08-29T17:21:50.118Z"
   },
   {
    "duration": 1661,
    "start_time": "2023-08-29T17:22:14.102Z"
   },
   {
    "duration": 26,
    "start_time": "2023-08-29T17:35:52.575Z"
   },
   {
    "duration": 9,
    "start_time": "2023-08-29T17:36:05.644Z"
   },
   {
    "duration": 11,
    "start_time": "2023-08-29T17:36:07.837Z"
   },
   {
    "duration": 270,
    "start_time": "2023-08-29T17:36:28.449Z"
   },
   {
    "duration": 25,
    "start_time": "2023-08-29T17:36:56.709Z"
   },
   {
    "duration": 16,
    "start_time": "2023-08-29T17:38:58.470Z"
   },
   {
    "duration": 94,
    "start_time": "2023-08-29T17:40:21.635Z"
   },
   {
    "duration": 124,
    "start_time": "2023-08-29T17:51:21.725Z"
   },
   {
    "duration": 26,
    "start_time": "2023-08-29T18:01:08.634Z"
   },
   {
    "duration": 5,
    "start_time": "2023-08-29T18:02:24.509Z"
   },
   {
    "duration": 59,
    "start_time": "2023-08-29T18:02:48.671Z"
   },
   {
    "duration": 30,
    "start_time": "2023-08-29T18:04:06.283Z"
   },
   {
    "duration": 1564,
    "start_time": "2023-08-29T18:04:10.821Z"
   },
   {
    "duration": 940,
    "start_time": "2023-08-29T18:04:12.387Z"
   },
   {
    "duration": 166,
    "start_time": "2023-08-29T18:04:13.328Z"
   },
   {
    "duration": 280,
    "start_time": "2023-08-29T18:04:13.496Z"
   },
   {
    "duration": 271,
    "start_time": "2023-08-29T18:04:13.778Z"
   },
   {
    "duration": 136,
    "start_time": "2023-08-29T18:04:14.051Z"
   },
   {
    "duration": 35,
    "start_time": "2023-08-29T18:04:14.188Z"
   },
   {
    "duration": 15,
    "start_time": "2023-08-29T18:04:14.234Z"
   },
   {
    "duration": 28,
    "start_time": "2023-08-29T18:04:14.251Z"
   },
   {
    "duration": 27,
    "start_time": "2023-08-29T18:04:14.280Z"
   },
   {
    "duration": 22,
    "start_time": "2023-08-29T18:04:14.308Z"
   },
   {
    "duration": 17,
    "start_time": "2023-08-29T18:04:14.335Z"
   },
   {
    "duration": 32,
    "start_time": "2023-08-29T18:04:14.354Z"
   },
   {
    "duration": 3,
    "start_time": "2023-08-29T18:04:14.389Z"
   },
   {
    "duration": 28,
    "start_time": "2023-08-29T18:04:14.394Z"
   },
   {
    "duration": 70,
    "start_time": "2023-08-29T18:04:14.426Z"
   },
   {
    "duration": 67,
    "start_time": "2023-08-29T18:04:14.498Z"
   },
   {
    "duration": 21,
    "start_time": "2023-08-29T18:04:14.567Z"
   },
   {
    "duration": 34,
    "start_time": "2023-08-29T18:04:14.590Z"
   },
   {
    "duration": 13,
    "start_time": "2023-08-29T18:04:14.634Z"
   },
   {
    "duration": 9,
    "start_time": "2023-08-29T18:04:14.655Z"
   },
   {
    "duration": 26,
    "start_time": "2023-08-29T18:04:14.666Z"
   },
   {
    "duration": 2129,
    "start_time": "2023-08-29T18:04:14.694Z"
   },
   {
    "duration": 25,
    "start_time": "2023-08-29T18:04:16.824Z"
   },
   {
    "duration": 21,
    "start_time": "2023-08-29T18:04:16.851Z"
   },
   {
    "duration": 21,
    "start_time": "2023-08-29T18:04:16.874Z"
   },
   {
    "duration": 50,
    "start_time": "2023-08-29T18:04:16.897Z"
   },
   {
    "duration": 7,
    "start_time": "2023-08-29T18:04:16.948Z"
   },
   {
    "duration": 9,
    "start_time": "2023-08-29T18:04:16.957Z"
   },
   {
    "duration": 13,
    "start_time": "2023-08-29T18:04:16.968Z"
   },
   {
    "duration": 10,
    "start_time": "2023-08-29T18:04:16.983Z"
   },
   {
    "duration": 1167,
    "start_time": "2023-08-29T18:04:16.995Z"
   },
   {
    "duration": 13,
    "start_time": "2023-08-29T18:04:18.163Z"
   },
   {
    "duration": 53,
    "start_time": "2023-08-29T18:04:18.178Z"
   },
   {
    "duration": 9,
    "start_time": "2023-08-29T18:04:18.233Z"
   },
   {
    "duration": 4,
    "start_time": "2023-08-29T18:04:18.244Z"
   },
   {
    "duration": 9,
    "start_time": "2023-08-29T18:04:18.250Z"
   },
   {
    "duration": 18,
    "start_time": "2023-08-29T18:04:18.260Z"
   },
   {
    "duration": 8,
    "start_time": "2023-08-29T18:04:18.279Z"
   },
   {
    "duration": 90,
    "start_time": "2023-08-29T18:04:18.288Z"
   },
   {
    "duration": 39,
    "start_time": "2023-08-29T18:04:18.382Z"
   },
   {
    "duration": 22,
    "start_time": "2023-08-29T18:04:48.945Z"
   },
   {
    "duration": 8,
    "start_time": "2023-08-29T18:07:05.208Z"
   },
   {
    "duration": 6,
    "start_time": "2023-08-29T18:07:20.395Z"
   },
   {
    "duration": 4,
    "start_time": "2023-08-29T18:07:59.195Z"
   },
   {
    "duration": 110,
    "start_time": "2023-08-29T18:08:56.838Z"
   },
   {
    "duration": 100,
    "start_time": "2023-08-29T18:09:13.506Z"
   },
   {
    "duration": 21,
    "start_time": "2023-08-29T18:09:18.376Z"
   },
   {
    "duration": 96,
    "start_time": "2023-08-29T18:09:18.831Z"
   },
   {
    "duration": 5,
    "start_time": "2023-08-29T18:09:39.236Z"
   },
   {
    "duration": 5,
    "start_time": "2023-08-29T18:09:46.236Z"
   },
   {
    "duration": 6,
    "start_time": "2023-08-29T18:10:07.881Z"
   },
   {
    "duration": 3,
    "start_time": "2023-08-29T18:10:23.201Z"
   },
   {
    "duration": 3096,
    "start_time": "2023-08-29T18:10:37.522Z"
   },
   {
    "duration": 150,
    "start_time": "2023-08-29T18:11:03.730Z"
   },
   {
    "duration": 33,
    "start_time": "2023-08-29T18:11:03.891Z"
   },
   {
    "duration": 5,
    "start_time": "2023-08-29T18:11:04.093Z"
   },
   {
    "duration": 3,
    "start_time": "2023-08-29T18:11:04.358Z"
   },
   {
    "duration": 1526,
    "start_time": "2023-08-29T18:11:15.531Z"
   },
   {
    "duration": 896,
    "start_time": "2023-08-29T18:11:17.059Z"
   },
   {
    "duration": 180,
    "start_time": "2023-08-29T18:11:17.957Z"
   },
   {
    "duration": 288,
    "start_time": "2023-08-29T18:11:18.139Z"
   },
   {
    "duration": 254,
    "start_time": "2023-08-29T18:11:18.434Z"
   },
   {
    "duration": 151,
    "start_time": "2023-08-29T18:11:18.689Z"
   },
   {
    "duration": 18,
    "start_time": "2023-08-29T18:11:18.841Z"
   },
   {
    "duration": 15,
    "start_time": "2023-08-29T18:11:18.861Z"
   },
   {
    "duration": 11,
    "start_time": "2023-08-29T18:11:18.878Z"
   },
   {
    "duration": 22,
    "start_time": "2023-08-29T18:11:18.911Z"
   },
   {
    "duration": 9,
    "start_time": "2023-08-29T18:11:18.935Z"
   },
   {
    "duration": 6,
    "start_time": "2023-08-29T18:11:18.946Z"
   },
   {
    "duration": 31,
    "start_time": "2023-08-29T18:11:18.954Z"
   },
   {
    "duration": 2,
    "start_time": "2023-08-29T18:11:18.988Z"
   },
   {
    "duration": 24,
    "start_time": "2023-08-29T18:11:18.992Z"
   },
   {
    "duration": 71,
    "start_time": "2023-08-29T18:11:19.022Z"
   },
   {
    "duration": 72,
    "start_time": "2023-08-29T18:11:19.094Z"
   },
   {
    "duration": 21,
    "start_time": "2023-08-29T18:11:19.167Z"
   },
   {
    "duration": 35,
    "start_time": "2023-08-29T18:11:19.190Z"
   },
   {
    "duration": 6,
    "start_time": "2023-08-29T18:11:19.231Z"
   },
   {
    "duration": 7,
    "start_time": "2023-08-29T18:11:19.238Z"
   },
   {
    "duration": 24,
    "start_time": "2023-08-29T18:11:19.246Z"
   },
   {
    "duration": 2095,
    "start_time": "2023-08-29T18:11:19.272Z"
   },
   {
    "duration": 24,
    "start_time": "2023-08-29T18:11:21.369Z"
   },
   {
    "duration": 31,
    "start_time": "2023-08-29T18:11:21.395Z"
   },
   {
    "duration": 29,
    "start_time": "2023-08-29T18:11:21.429Z"
   },
   {
    "duration": 71,
    "start_time": "2023-08-29T18:11:21.460Z"
   },
   {
    "duration": 9,
    "start_time": "2023-08-29T18:11:21.532Z"
   },
   {
    "duration": 7,
    "start_time": "2023-08-29T18:11:21.543Z"
   },
   {
    "duration": 12,
    "start_time": "2023-08-29T18:11:21.552Z"
   },
   {
    "duration": 10,
    "start_time": "2023-08-29T18:11:21.565Z"
   },
   {
    "duration": 1298,
    "start_time": "2023-08-29T18:11:21.576Z"
   },
   {
    "duration": 14,
    "start_time": "2023-08-29T18:11:22.875Z"
   },
   {
    "duration": 34,
    "start_time": "2023-08-29T18:11:22.890Z"
   },
   {
    "duration": 9,
    "start_time": "2023-08-29T18:11:22.929Z"
   },
   {
    "duration": 8,
    "start_time": "2023-08-29T18:11:22.940Z"
   },
   {
    "duration": 8,
    "start_time": "2023-08-29T18:11:22.950Z"
   },
   {
    "duration": 6,
    "start_time": "2023-08-29T18:11:22.960Z"
   },
   {
    "duration": 21,
    "start_time": "2023-08-29T18:11:22.968Z"
   },
   {
    "duration": 103,
    "start_time": "2023-08-29T18:11:22.991Z"
   },
   {
    "duration": 42,
    "start_time": "2023-08-29T18:11:23.097Z"
   },
   {
    "duration": 24,
    "start_time": "2023-08-29T18:11:23.141Z"
   },
   {
    "duration": 5,
    "start_time": "2023-08-29T18:11:23.166Z"
   },
   {
    "duration": 53,
    "start_time": "2023-08-29T18:11:23.173Z"
   },
   {
    "duration": 2195,
    "start_time": "2023-08-29T18:11:23.231Z"
   },
   {
    "duration": 1649,
    "start_time": "2023-08-29T18:12:00.792Z"
   },
   {
    "duration": 961,
    "start_time": "2023-08-29T18:12:02.444Z"
   },
   {
    "duration": 179,
    "start_time": "2023-08-29T18:12:03.406Z"
   },
   {
    "duration": 304,
    "start_time": "2023-08-29T18:12:03.587Z"
   },
   {
    "duration": 272,
    "start_time": "2023-08-29T18:12:03.893Z"
   },
   {
    "duration": 141,
    "start_time": "2023-08-29T18:12:04.167Z"
   },
   {
    "duration": 29,
    "start_time": "2023-08-29T18:12:04.317Z"
   },
   {
    "duration": 32,
    "start_time": "2023-08-29T18:12:04.348Z"
   },
   {
    "duration": 37,
    "start_time": "2023-08-29T18:12:04.382Z"
   },
   {
    "duration": 31,
    "start_time": "2023-08-29T18:12:04.421Z"
   },
   {
    "duration": 33,
    "start_time": "2023-08-29T18:12:04.454Z"
   },
   {
    "duration": 31,
    "start_time": "2023-08-29T18:12:04.489Z"
   },
   {
    "duration": 42,
    "start_time": "2023-08-29T18:12:04.522Z"
   },
   {
    "duration": 6,
    "start_time": "2023-08-29T18:12:04.568Z"
   },
   {
    "duration": 40,
    "start_time": "2023-08-29T18:12:04.575Z"
   },
   {
    "duration": 78,
    "start_time": "2023-08-29T18:12:04.617Z"
   },
   {
    "duration": 69,
    "start_time": "2023-08-29T18:12:04.697Z"
   },
   {
    "duration": 23,
    "start_time": "2023-08-29T18:12:04.767Z"
   },
   {
    "duration": 31,
    "start_time": "2023-08-29T18:12:04.791Z"
   },
   {
    "duration": 12,
    "start_time": "2023-08-29T18:12:04.829Z"
   },
   {
    "duration": 32,
    "start_time": "2023-08-29T18:12:04.843Z"
   },
   {
    "duration": 29,
    "start_time": "2023-08-29T18:12:04.877Z"
   },
   {
    "duration": 2113,
    "start_time": "2023-08-29T18:12:04.908Z"
   },
   {
    "duration": 26,
    "start_time": "2023-08-29T18:12:07.026Z"
   },
   {
    "duration": 21,
    "start_time": "2023-08-29T18:12:07.054Z"
   },
   {
    "duration": 20,
    "start_time": "2023-08-29T18:12:07.077Z"
   },
   {
    "duration": 35,
    "start_time": "2023-08-29T18:12:07.099Z"
   },
   {
    "duration": 9,
    "start_time": "2023-08-29T18:12:07.136Z"
   },
   {
    "duration": 13,
    "start_time": "2023-08-29T18:12:07.147Z"
   },
   {
    "duration": 16,
    "start_time": "2023-08-29T18:12:07.162Z"
   },
   {
    "duration": 10,
    "start_time": "2023-08-29T18:12:07.180Z"
   },
   {
    "duration": 1173,
    "start_time": "2023-08-29T18:12:07.191Z"
   },
   {
    "duration": 14,
    "start_time": "2023-08-29T18:12:08.366Z"
   },
   {
    "duration": 44,
    "start_time": "2023-08-29T18:12:08.381Z"
   },
   {
    "duration": 9,
    "start_time": "2023-08-29T18:12:08.427Z"
   },
   {
    "duration": 4,
    "start_time": "2023-08-29T18:12:08.438Z"
   },
   {
    "duration": 5,
    "start_time": "2023-08-29T18:12:08.444Z"
   },
   {
    "duration": 5,
    "start_time": "2023-08-29T18:12:08.450Z"
   },
   {
    "duration": 7,
    "start_time": "2023-08-29T18:12:08.456Z"
   },
   {
    "duration": 98,
    "start_time": "2023-08-29T18:12:08.464Z"
   },
   {
    "duration": 26,
    "start_time": "2023-08-29T18:12:08.566Z"
   },
   {
    "duration": 28,
    "start_time": "2023-08-29T18:12:08.612Z"
   },
   {
    "duration": 5,
    "start_time": "2023-08-29T18:12:08.642Z"
   },
   {
    "duration": 10,
    "start_time": "2023-08-29T18:12:08.648Z"
   },
   {
    "duration": 2985,
    "start_time": "2023-08-29T18:12:08.659Z"
   },
   {
    "duration": 8,
    "start_time": "2023-08-29T18:12:11.717Z"
   },
   {
    "duration": 5,
    "start_time": "2023-08-29T18:13:30.389Z"
   },
   {
    "duration": 7,
    "start_time": "2023-08-29T18:13:30.728Z"
   },
   {
    "duration": 3276,
    "start_time": "2023-08-29T18:13:30.942Z"
   },
   {
    "duration": 18,
    "start_time": "2023-08-29T18:13:44.408Z"
   },
   {
    "duration": 2,
    "start_time": "2023-08-29T18:13:45.538Z"
   },
   {
    "duration": 2545,
    "start_time": "2023-08-29T18:13:45.776Z"
   },
   {
    "duration": 3967,
    "start_time": "2023-08-29T18:24:47.260Z"
   },
   {
    "duration": 2831,
    "start_time": "2023-08-29T18:25:00.391Z"
   },
   {
    "duration": 4642,
    "start_time": "2023-08-29T18:25:25.403Z"
   },
   {
    "duration": 9291,
    "start_time": "2023-08-29T18:40:59.920Z"
   },
   {
    "duration": 40969,
    "start_time": "2023-08-29T18:41:16.429Z"
   },
   {
    "duration": 137,
    "start_time": "2023-08-29T18:41:57.401Z"
   },
   {
    "duration": 0,
    "start_time": "2023-08-29T18:41:57.540Z"
   },
   {
    "duration": 1688,
    "start_time": "2023-08-29T19:03:59.039Z"
   },
   {
    "duration": 7959,
    "start_time": "2023-08-29T19:04:01.450Z"
   },
   {
    "duration": 39312,
    "start_time": "2023-08-29T19:04:09.412Z"
   },
   {
    "duration": 1492,
    "start_time": "2023-08-29T19:13:48.374Z"
   },
   {
    "duration": 874,
    "start_time": "2023-08-29T19:13:49.868Z"
   },
   {
    "duration": 158,
    "start_time": "2023-08-29T19:13:50.744Z"
   },
   {
    "duration": 276,
    "start_time": "2023-08-29T19:13:50.909Z"
   },
   {
    "duration": 255,
    "start_time": "2023-08-29T19:13:51.187Z"
   },
   {
    "duration": 144,
    "start_time": "2023-08-29T19:13:51.444Z"
   },
   {
    "duration": 35,
    "start_time": "2023-08-29T19:13:51.590Z"
   },
   {
    "duration": 16,
    "start_time": "2023-08-29T19:13:51.627Z"
   },
   {
    "duration": 12,
    "start_time": "2023-08-29T19:13:51.644Z"
   },
   {
    "duration": 9,
    "start_time": "2023-08-29T19:13:51.659Z"
   },
   {
    "duration": 13,
    "start_time": "2023-08-29T19:13:51.670Z"
   },
   {
    "duration": 35,
    "start_time": "2023-08-29T19:13:51.685Z"
   },
   {
    "duration": 29,
    "start_time": "2023-08-29T19:13:51.722Z"
   },
   {
    "duration": 2,
    "start_time": "2023-08-29T19:13:51.753Z"
   },
   {
    "duration": 20,
    "start_time": "2023-08-29T19:13:51.757Z"
   },
   {
    "duration": 90,
    "start_time": "2023-08-29T19:13:51.779Z"
   },
   {
    "duration": 66,
    "start_time": "2023-08-29T19:13:51.871Z"
   },
   {
    "duration": 22,
    "start_time": "2023-08-29T19:13:51.938Z"
   },
   {
    "duration": 7,
    "start_time": "2023-08-29T19:13:51.962Z"
   },
   {
    "duration": 8,
    "start_time": "2023-08-29T19:13:51.971Z"
   },
   {
    "duration": 35,
    "start_time": "2023-08-29T19:13:51.981Z"
   },
   {
    "duration": 21,
    "start_time": "2023-08-29T19:13:52.023Z"
   },
   {
    "duration": 2146,
    "start_time": "2023-08-29T19:13:52.045Z"
   },
   {
    "duration": 29,
    "start_time": "2023-08-29T19:13:54.193Z"
   },
   {
    "duration": 33,
    "start_time": "2023-08-29T19:13:54.224Z"
   },
   {
    "duration": 27,
    "start_time": "2023-08-29T19:13:54.259Z"
   },
   {
    "duration": 52,
    "start_time": "2023-08-29T19:13:54.288Z"
   },
   {
    "duration": 11,
    "start_time": "2023-08-29T19:13:54.345Z"
   },
   {
    "duration": 11,
    "start_time": "2023-08-29T19:13:54.358Z"
   },
   {
    "duration": 12,
    "start_time": "2023-08-29T19:13:54.370Z"
   },
   {
    "duration": 45,
    "start_time": "2023-08-29T19:13:54.384Z"
   },
   {
    "duration": 1281,
    "start_time": "2023-08-29T19:13:54.430Z"
   },
   {
    "duration": 20,
    "start_time": "2023-08-29T19:13:55.713Z"
   },
   {
    "duration": 14,
    "start_time": "2023-08-29T19:13:55.735Z"
   },
   {
    "duration": 38,
    "start_time": "2023-08-29T19:13:55.751Z"
   },
   {
    "duration": 6,
    "start_time": "2023-08-29T19:13:55.791Z"
   },
   {
    "duration": 24,
    "start_time": "2023-08-29T19:13:55.799Z"
   },
   {
    "duration": 8,
    "start_time": "2023-08-29T19:13:55.824Z"
   },
   {
    "duration": 21,
    "start_time": "2023-08-29T19:13:55.833Z"
   },
   {
    "duration": 113,
    "start_time": "2023-08-29T19:13:55.856Z"
   },
   {
    "duration": 45,
    "start_time": "2023-08-29T19:13:55.971Z"
   },
   {
    "duration": 26,
    "start_time": "2023-08-29T19:13:56.018Z"
   },
   {
    "duration": 7,
    "start_time": "2023-08-29T19:13:56.046Z"
   },
   {
    "duration": 23,
    "start_time": "2023-08-29T19:13:56.055Z"
   },
   {
    "duration": 2643,
    "start_time": "2023-08-29T19:13:56.080Z"
   },
   {
    "duration": 8999,
    "start_time": "2023-08-29T19:13:58.812Z"
   },
   {
    "duration": 26964,
    "start_time": "2023-08-29T19:14:07.814Z"
   },
   {
    "duration": 0,
    "start_time": "2023-08-29T19:14:34.780Z"
   },
   {
    "duration": 0,
    "start_time": "2023-08-29T19:14:34.781Z"
   },
   {
    "duration": 1645,
    "start_time": "2023-08-29T19:14:47.679Z"
   },
   {
    "duration": 842,
    "start_time": "2023-08-29T19:14:49.326Z"
   },
   {
    "duration": 164,
    "start_time": "2023-08-29T19:14:50.170Z"
   },
   {
    "duration": 308,
    "start_time": "2023-08-29T19:14:50.336Z"
   },
   {
    "duration": 244,
    "start_time": "2023-08-29T19:14:50.645Z"
   },
   {
    "duration": 143,
    "start_time": "2023-08-29T19:14:50.891Z"
   },
   {
    "duration": 17,
    "start_time": "2023-08-29T19:14:51.036Z"
   },
   {
    "duration": 23,
    "start_time": "2023-08-29T19:14:51.055Z"
   },
   {
    "duration": 35,
    "start_time": "2023-08-29T19:14:51.080Z"
   },
   {
    "duration": 12,
    "start_time": "2023-08-29T19:14:51.123Z"
   },
   {
    "duration": 27,
    "start_time": "2023-08-29T19:14:51.137Z"
   },
   {
    "duration": 25,
    "start_time": "2023-08-29T19:14:51.165Z"
   },
   {
    "duration": 46,
    "start_time": "2023-08-29T19:14:51.191Z"
   },
   {
    "duration": 9,
    "start_time": "2023-08-29T19:14:51.239Z"
   },
   {
    "duration": 25,
    "start_time": "2023-08-29T19:14:51.250Z"
   },
   {
    "duration": 82,
    "start_time": "2023-08-29T19:14:51.276Z"
   },
   {
    "duration": 74,
    "start_time": "2023-08-29T19:14:51.360Z"
   },
   {
    "duration": 22,
    "start_time": "2023-08-29T19:14:51.436Z"
   },
   {
    "duration": 27,
    "start_time": "2023-08-29T19:14:51.460Z"
   },
   {
    "duration": 25,
    "start_time": "2023-08-29T19:14:51.489Z"
   },
   {
    "duration": 25,
    "start_time": "2023-08-29T19:14:51.516Z"
   },
   {
    "duration": 38,
    "start_time": "2023-08-29T19:14:51.543Z"
   },
   {
    "duration": 2108,
    "start_time": "2023-08-29T19:14:51.583Z"
   },
   {
    "duration": 30,
    "start_time": "2023-08-29T19:14:53.693Z"
   },
   {
    "duration": 23,
    "start_time": "2023-08-29T19:14:53.730Z"
   },
   {
    "duration": 29,
    "start_time": "2023-08-29T19:14:53.754Z"
   },
   {
    "duration": 36,
    "start_time": "2023-08-29T19:14:53.785Z"
   },
   {
    "duration": 8,
    "start_time": "2023-08-29T19:14:53.828Z"
   },
   {
    "duration": 14,
    "start_time": "2023-08-29T19:14:53.837Z"
   },
   {
    "duration": 21,
    "start_time": "2023-08-29T19:14:53.853Z"
   },
   {
    "duration": 23,
    "start_time": "2023-08-29T19:14:53.876Z"
   },
   {
    "duration": 1147,
    "start_time": "2023-08-29T19:14:53.901Z"
   },
   {
    "duration": 14,
    "start_time": "2023-08-29T19:14:55.050Z"
   },
   {
    "duration": 24,
    "start_time": "2023-08-29T19:14:55.066Z"
   },
   {
    "duration": 31,
    "start_time": "2023-08-29T19:14:55.092Z"
   },
   {
    "duration": 21,
    "start_time": "2023-08-29T19:14:55.125Z"
   },
   {
    "duration": 8,
    "start_time": "2023-08-29T19:14:55.148Z"
   },
   {
    "duration": 22,
    "start_time": "2023-08-29T19:14:55.158Z"
   },
   {
    "duration": 37,
    "start_time": "2023-08-29T19:14:55.181Z"
   },
   {
    "duration": 142,
    "start_time": "2023-08-29T19:14:55.220Z"
   },
   {
    "duration": 32,
    "start_time": "2023-08-29T19:14:55.364Z"
   },
   {
    "duration": 33,
    "start_time": "2023-08-29T19:14:55.408Z"
   },
   {
    "duration": 5,
    "start_time": "2023-08-29T19:14:55.443Z"
   },
   {
    "duration": 25,
    "start_time": "2023-08-29T19:14:55.450Z"
   },
   {
    "duration": 1838,
    "start_time": "2023-08-29T19:14:55.476Z"
   },
   {
    "duration": 9792,
    "start_time": "2023-08-29T19:14:57.333Z"
   },
   {
    "duration": 40510,
    "start_time": "2023-08-29T19:15:07.215Z"
   },
   {
    "duration": 2006,
    "start_time": "2023-08-29T19:15:47.727Z"
   },
   {
    "duration": 58,
    "start_time": "2023-08-29T19:22:49.467Z"
   },
   {
    "duration": 1609,
    "start_time": "2023-08-29T19:22:59.502Z"
   },
   {
    "duration": 832,
    "start_time": "2023-08-29T19:23:01.114Z"
   },
   {
    "duration": 182,
    "start_time": "2023-08-29T19:23:01.948Z"
   },
   {
    "duration": 332,
    "start_time": "2023-08-29T19:23:02.132Z"
   },
   {
    "duration": 371,
    "start_time": "2023-08-29T19:23:02.466Z"
   },
   {
    "duration": 160,
    "start_time": "2023-08-29T19:23:02.839Z"
   },
   {
    "duration": 29,
    "start_time": "2023-08-29T19:23:03.002Z"
   },
   {
    "duration": 16,
    "start_time": "2023-08-29T19:23:03.033Z"
   },
   {
    "duration": 13,
    "start_time": "2023-08-29T19:23:03.051Z"
   },
   {
    "duration": 11,
    "start_time": "2023-08-29T19:23:03.067Z"
   },
   {
    "duration": 15,
    "start_time": "2023-08-29T19:23:03.112Z"
   },
   {
    "duration": 11,
    "start_time": "2023-08-29T19:23:03.130Z"
   },
   {
    "duration": 22,
    "start_time": "2023-08-29T19:23:03.143Z"
   },
   {
    "duration": 3,
    "start_time": "2023-08-29T19:23:03.167Z"
   },
   {
    "duration": 7,
    "start_time": "2023-08-29T19:23:03.172Z"
   },
   {
    "duration": 104,
    "start_time": "2023-08-29T19:23:03.181Z"
   },
   {
    "duration": 74,
    "start_time": "2023-08-29T19:23:03.287Z"
   },
   {
    "duration": 28,
    "start_time": "2023-08-29T19:23:03.363Z"
   },
   {
    "duration": 22,
    "start_time": "2023-08-29T19:23:03.394Z"
   },
   {
    "duration": 14,
    "start_time": "2023-08-29T19:23:03.419Z"
   },
   {
    "duration": 13,
    "start_time": "2023-08-29T19:23:03.435Z"
   },
   {
    "duration": 22,
    "start_time": "2023-08-29T19:23:03.450Z"
   },
   {
    "duration": 2153,
    "start_time": "2023-08-29T19:23:03.474Z"
   },
   {
    "duration": 23,
    "start_time": "2023-08-29T19:23:05.629Z"
   },
   {
    "duration": 23,
    "start_time": "2023-08-29T19:23:05.654Z"
   },
   {
    "duration": 45,
    "start_time": "2023-08-29T19:23:05.679Z"
   },
   {
    "duration": 27,
    "start_time": "2023-08-29T19:23:05.726Z"
   },
   {
    "duration": 21,
    "start_time": "2023-08-29T19:23:05.757Z"
   },
   {
    "duration": 10,
    "start_time": "2023-08-29T19:23:05.780Z"
   },
   {
    "duration": 13,
    "start_time": "2023-08-29T19:23:05.791Z"
   },
   {
    "duration": 15,
    "start_time": "2023-08-29T19:23:05.806Z"
   },
   {
    "duration": 1136,
    "start_time": "2023-08-29T19:23:05.823Z"
   },
   {
    "duration": 12,
    "start_time": "2023-08-29T19:23:06.961Z"
   },
   {
    "duration": 12,
    "start_time": "2023-08-29T19:23:06.975Z"
   },
   {
    "duration": 28,
    "start_time": "2023-08-29T19:23:06.988Z"
   },
   {
    "duration": 7,
    "start_time": "2023-08-29T19:23:07.018Z"
   },
   {
    "duration": 8,
    "start_time": "2023-08-29T19:23:07.027Z"
   },
   {
    "duration": 5,
    "start_time": "2023-08-29T19:23:07.037Z"
   },
   {
    "duration": 9,
    "start_time": "2023-08-29T19:23:07.043Z"
   },
   {
    "duration": 99,
    "start_time": "2023-08-29T19:23:07.054Z"
   },
   {
    "duration": 23,
    "start_time": "2023-08-29T19:23:07.155Z"
   },
   {
    "duration": 36,
    "start_time": "2023-08-29T19:23:07.180Z"
   },
   {
    "duration": 6,
    "start_time": "2023-08-29T19:23:07.220Z"
   },
   {
    "duration": 6,
    "start_time": "2023-08-29T19:23:07.228Z"
   },
   {
    "duration": 2493,
    "start_time": "2023-08-29T19:23:07.235Z"
   },
   {
    "duration": 10698,
    "start_time": "2023-08-29T19:23:09.730Z"
   },
   {
    "duration": 40607,
    "start_time": "2023-08-29T19:23:20.435Z"
   },
   {
    "duration": 2213,
    "start_time": "2023-08-29T19:24:01.043Z"
   },
   {
    "duration": 289842,
    "start_time": "2023-08-29T19:24:03.258Z"
   },
   {
    "duration": 0,
    "start_time": "2023-08-29T19:28:53.102Z"
   },
   {
    "duration": 1564,
    "start_time": "2023-08-29T19:32:12.163Z"
   },
   {
    "duration": 906,
    "start_time": "2023-08-29T19:32:13.731Z"
   },
   {
    "duration": 170,
    "start_time": "2023-08-29T19:32:14.639Z"
   },
   {
    "duration": 293,
    "start_time": "2023-08-29T19:32:14.811Z"
   },
   {
    "duration": 311,
    "start_time": "2023-08-29T19:32:15.109Z"
   },
   {
    "duration": 143,
    "start_time": "2023-08-29T19:32:15.429Z"
   },
   {
    "duration": 18,
    "start_time": "2023-08-29T19:32:15.573Z"
   },
   {
    "duration": 54,
    "start_time": "2023-08-29T19:32:15.593Z"
   },
   {
    "duration": 12,
    "start_time": "2023-08-29T19:32:15.648Z"
   },
   {
    "duration": 10,
    "start_time": "2023-08-29T19:32:15.662Z"
   },
   {
    "duration": 10,
    "start_time": "2023-08-29T19:32:15.674Z"
   },
   {
    "duration": 6,
    "start_time": "2023-08-29T19:32:15.685Z"
   },
   {
    "duration": 27,
    "start_time": "2023-08-29T19:32:15.710Z"
   },
   {
    "duration": 3,
    "start_time": "2023-08-29T19:32:15.740Z"
   },
   {
    "duration": 7,
    "start_time": "2023-08-29T19:32:15.744Z"
   },
   {
    "duration": 88,
    "start_time": "2023-08-29T19:32:15.752Z"
   },
   {
    "duration": 81,
    "start_time": "2023-08-29T19:32:15.843Z"
   },
   {
    "duration": 30,
    "start_time": "2023-08-29T19:32:15.926Z"
   },
   {
    "duration": 16,
    "start_time": "2023-08-29T19:32:15.958Z"
   },
   {
    "duration": 20,
    "start_time": "2023-08-29T19:32:15.975Z"
   },
   {
    "duration": 20,
    "start_time": "2023-08-29T19:32:15.997Z"
   },
   {
    "duration": 26,
    "start_time": "2023-08-29T19:32:16.019Z"
   },
   {
    "duration": 2128,
    "start_time": "2023-08-29T19:32:16.047Z"
   },
   {
    "duration": 22,
    "start_time": "2023-08-29T19:32:18.177Z"
   },
   {
    "duration": 39,
    "start_time": "2023-08-29T19:32:18.201Z"
   },
   {
    "duration": 25,
    "start_time": "2023-08-29T19:32:18.241Z"
   },
   {
    "duration": 21,
    "start_time": "2023-08-29T19:32:18.268Z"
   },
   {
    "duration": 23,
    "start_time": "2023-08-29T19:32:18.291Z"
   },
   {
    "duration": 13,
    "start_time": "2023-08-29T19:32:18.321Z"
   },
   {
    "duration": 15,
    "start_time": "2023-08-29T19:32:18.335Z"
   },
   {
    "duration": 11,
    "start_time": "2023-08-29T19:32:18.353Z"
   },
   {
    "duration": 1197,
    "start_time": "2023-08-29T19:32:18.366Z"
   },
   {
    "duration": 16,
    "start_time": "2023-08-29T19:32:19.565Z"
   },
   {
    "duration": 35,
    "start_time": "2023-08-29T19:32:19.583Z"
   },
   {
    "duration": 11,
    "start_time": "2023-08-29T19:32:19.621Z"
   },
   {
    "duration": 7,
    "start_time": "2023-08-29T19:32:19.635Z"
   },
   {
    "duration": 9,
    "start_time": "2023-08-29T19:32:19.644Z"
   },
   {
    "duration": 4,
    "start_time": "2023-08-29T19:32:19.655Z"
   },
   {
    "duration": 6,
    "start_time": "2023-08-29T19:32:19.661Z"
   },
   {
    "duration": 116,
    "start_time": "2023-08-29T19:32:19.669Z"
   },
   {
    "duration": 42,
    "start_time": "2023-08-29T19:32:19.789Z"
   },
   {
    "duration": 23,
    "start_time": "2023-08-29T19:32:19.836Z"
   },
   {
    "duration": 4,
    "start_time": "2023-08-29T19:32:19.861Z"
   },
   {
    "duration": 8,
    "start_time": "2023-08-29T19:32:19.866Z"
   },
   {
    "duration": 2267,
    "start_time": "2023-08-29T19:32:19.875Z"
   },
   {
    "duration": 17708,
    "start_time": "2023-08-29T19:32:22.218Z"
   },
   {
    "duration": 40227,
    "start_time": "2023-08-29T19:32:39.929Z"
   },
   {
    "duration": 2069,
    "start_time": "2023-08-29T19:33:20.158Z"
   },
   {
    "duration": 374925,
    "start_time": "2023-08-29T19:33:22.228Z"
   },
   {
    "duration": 149,
    "start_time": "2023-08-29T19:39:37.155Z"
   },
   {
    "duration": 1716,
    "start_time": "2023-08-30T10:23:07.702Z"
   },
   {
    "duration": 2322,
    "start_time": "2023-08-30T10:23:09.423Z"
   },
   {
    "duration": 150,
    "start_time": "2023-08-30T10:23:11.747Z"
   },
   {
    "duration": 285,
    "start_time": "2023-08-30T10:23:11.899Z"
   },
   {
    "duration": 268,
    "start_time": "2023-08-30T10:23:12.186Z"
   },
   {
    "duration": 125,
    "start_time": "2023-08-30T10:23:12.456Z"
   },
   {
    "duration": 16,
    "start_time": "2023-08-30T10:23:12.582Z"
   },
   {
    "duration": 39,
    "start_time": "2023-08-30T10:23:12.599Z"
   },
   {
    "duration": 12,
    "start_time": "2023-08-30T10:23:12.640Z"
   },
   {
    "duration": 10,
    "start_time": "2023-08-30T10:23:12.654Z"
   },
   {
    "duration": 8,
    "start_time": "2023-08-30T10:23:12.665Z"
   },
   {
    "duration": 9,
    "start_time": "2023-08-30T10:23:12.675Z"
   },
   {
    "duration": 52,
    "start_time": "2023-08-30T10:23:12.686Z"
   },
   {
    "duration": 4,
    "start_time": "2023-08-30T10:23:12.740Z"
   },
   {
    "duration": 7,
    "start_time": "2023-08-30T10:23:12.745Z"
   },
   {
    "duration": 86,
    "start_time": "2023-08-30T10:23:12.754Z"
   },
   {
    "duration": 60,
    "start_time": "2023-08-30T10:23:12.842Z"
   },
   {
    "duration": 38,
    "start_time": "2023-08-30T10:23:12.903Z"
   },
   {
    "duration": 7,
    "start_time": "2023-08-30T10:23:12.943Z"
   },
   {
    "duration": 13,
    "start_time": "2023-08-30T10:23:12.951Z"
   },
   {
    "duration": 7,
    "start_time": "2023-08-30T10:23:12.966Z"
   },
   {
    "duration": 40,
    "start_time": "2023-08-30T10:23:12.975Z"
   },
   {
    "duration": 1925,
    "start_time": "2023-08-30T10:23:13.017Z"
   },
   {
    "duration": 22,
    "start_time": "2023-08-30T10:23:14.945Z"
   },
   {
    "duration": 168,
    "start_time": "2023-08-30T10:23:14.968Z"
   },
   {
    "duration": 114,
    "start_time": "2023-08-30T10:23:15.138Z"
   },
   {
    "duration": 58,
    "start_time": "2023-08-30T10:23:15.253Z"
   },
   {
    "duration": 36,
    "start_time": "2023-08-30T10:23:15.314Z"
   },
   {
    "duration": 11,
    "start_time": "2023-08-30T10:23:15.352Z"
   },
   {
    "duration": 26,
    "start_time": "2023-08-30T10:23:15.365Z"
   },
   {
    "duration": 49,
    "start_time": "2023-08-30T10:23:15.392Z"
   },
   {
    "duration": 1115,
    "start_time": "2023-08-30T10:23:15.443Z"
   },
   {
    "duration": 12,
    "start_time": "2023-08-30T10:23:16.559Z"
   },
   {
    "duration": 38,
    "start_time": "2023-08-30T10:23:16.572Z"
   },
   {
    "duration": 22,
    "start_time": "2023-08-30T10:23:16.612Z"
   },
   {
    "duration": 41,
    "start_time": "2023-08-30T10:23:16.638Z"
   },
   {
    "duration": 58,
    "start_time": "2023-08-30T10:23:16.680Z"
   },
   {
    "duration": 54,
    "start_time": "2023-08-30T10:23:16.740Z"
   },
   {
    "duration": 102,
    "start_time": "2023-08-30T10:23:16.796Z"
   },
   {
    "duration": 95,
    "start_time": "2023-08-30T10:23:16.900Z"
   },
   {
    "duration": 33,
    "start_time": "2023-08-30T10:23:16.996Z"
   },
   {
    "duration": 26,
    "start_time": "2023-08-30T10:23:17.031Z"
   },
   {
    "duration": 4,
    "start_time": "2023-08-30T10:23:17.059Z"
   },
   {
    "duration": 47,
    "start_time": "2023-08-30T10:23:17.065Z"
   },
   {
    "duration": 2331,
    "start_time": "2023-08-30T10:23:17.114Z"
   },
   {
    "duration": 6180,
    "start_time": "2023-08-30T10:23:19.448Z"
   },
   {
    "duration": 38030,
    "start_time": "2023-08-30T10:23:25.630Z"
   },
   {
    "duration": 1909,
    "start_time": "2023-08-30T10:24:03.662Z"
   },
   {
    "duration": 351058,
    "start_time": "2023-08-30T10:24:05.573Z"
   },
   {
    "duration": 124,
    "start_time": "2023-08-30T10:29:56.636Z"
   },
   {
    "duration": 1170,
    "start_time": "2023-08-30T10:30:51.539Z"
   },
   {
    "duration": 3466,
    "start_time": "2023-08-30T10:39:11.490Z"
   },
   {
    "duration": 8,
    "start_time": "2023-08-30T10:39:18.933Z"
   },
   {
    "duration": 242,
    "start_time": "2023-08-30T11:54:48.961Z"
   },
   {
    "duration": 5,
    "start_time": "2023-08-30T11:56:49.708Z"
   },
   {
    "duration": 836,
    "start_time": "2023-08-30T11:56:50.286Z"
   },
   {
    "duration": 195,
    "start_time": "2023-08-30T11:56:51.124Z"
   },
   {
    "duration": 284,
    "start_time": "2023-08-30T11:56:51.323Z"
   },
   {
    "duration": 267,
    "start_time": "2023-08-30T11:56:51.609Z"
   },
   {
    "duration": 136,
    "start_time": "2023-08-30T11:56:51.877Z"
   },
   {
    "duration": 21,
    "start_time": "2023-08-30T11:56:52.015Z"
   },
   {
    "duration": 50,
    "start_time": "2023-08-30T11:56:52.040Z"
   },
   {
    "duration": 86,
    "start_time": "2023-08-30T11:56:52.093Z"
   },
   {
    "duration": 83,
    "start_time": "2023-08-30T11:56:52.181Z"
   },
   {
    "duration": 21,
    "start_time": "2023-08-30T11:56:52.267Z"
   },
   {
    "duration": 13,
    "start_time": "2023-08-30T11:56:52.457Z"
   },
   {
    "duration": 277,
    "start_time": "2023-08-30T11:56:52.701Z"
   },
   {
    "duration": 110,
    "start_time": "2023-08-30T11:56:54.163Z"
   },
   {
    "duration": 78,
    "start_time": "2023-08-30T11:56:54.863Z"
   },
   {
    "duration": 30,
    "start_time": "2023-08-30T11:57:43.657Z"
   },
   {
    "duration": 2,
    "start_time": "2023-08-30T11:57:44.378Z"
   },
   {
    "duration": 34,
    "start_time": "2023-08-30T11:58:04.450Z"
   },
   {
    "duration": 3,
    "start_time": "2023-08-30T11:58:04.610Z"
   },
   {
    "duration": 23,
    "start_time": "2023-08-30T11:58:04.792Z"
   },
   {
    "duration": 8,
    "start_time": "2023-08-30T11:58:04.988Z"
   },
   {
    "duration": 9,
    "start_time": "2023-08-30T11:58:05.366Z"
   },
   {
    "duration": 7,
    "start_time": "2023-08-30T12:14:05.231Z"
   },
   {
    "duration": 7,
    "start_time": "2023-08-30T12:18:32.736Z"
   },
   {
    "duration": 24,
    "start_time": "2023-08-30T12:23:58.121Z"
   },
   {
    "duration": 1902,
    "start_time": "2023-08-30T12:25:19.314Z"
   },
   {
    "duration": 9,
    "start_time": "2023-08-30T12:35:35.617Z"
   },
   {
    "duration": 16,
    "start_time": "2023-08-30T12:35:35.858Z"
   },
   {
    "duration": 30,
    "start_time": "2023-08-30T12:50:24.444Z"
   },
   {
    "duration": 30,
    "start_time": "2023-08-30T12:50:31.257Z"
   },
   {
    "duration": 30,
    "start_time": "2023-08-30T12:50:37.611Z"
   },
   {
    "duration": 26,
    "start_time": "2023-08-30T12:50:42.639Z"
   },
   {
    "duration": 14,
    "start_time": "2023-08-30T12:50:43.438Z"
   },
   {
    "duration": 12,
    "start_time": "2023-08-30T12:50:43.909Z"
   },
   {
    "duration": 1870,
    "start_time": "2023-08-30T12:53:37.440Z"
   },
   {
    "duration": 976,
    "start_time": "2023-08-30T12:54:36.686Z"
   },
   {
    "duration": 924,
    "start_time": "2023-08-30T12:54:58.335Z"
   },
   {
    "duration": 1138,
    "start_time": "2023-08-30T12:55:17.080Z"
   },
   {
    "duration": 1132,
    "start_time": "2023-08-30T13:27:13.458Z"
   },
   {
    "duration": 945,
    "start_time": "2023-08-30T13:28:29.084Z"
   },
   {
    "duration": 1689,
    "start_time": "2023-08-30T13:28:39.441Z"
   },
   {
    "duration": 196,
    "start_time": "2023-08-30T13:31:16.732Z"
   },
   {
    "duration": 6,
    "start_time": "2023-08-30T13:31:19.390Z"
   },
   {
    "duration": 6,
    "start_time": "2023-08-30T13:36:21.211Z"
   },
   {
    "duration": 185,
    "start_time": "2023-08-30T13:36:22.345Z"
   },
   {
    "duration": 1468,
    "start_time": "2023-08-30T13:38:19.705Z"
   },
   {
    "duration": 694,
    "start_time": "2023-08-30T13:38:21.175Z"
   },
   {
    "duration": 158,
    "start_time": "2023-08-30T13:38:21.871Z"
   },
   {
    "duration": 259,
    "start_time": "2023-08-30T13:38:22.031Z"
   },
   {
    "duration": 230,
    "start_time": "2023-08-30T13:38:22.292Z"
   },
   {
    "duration": 122,
    "start_time": "2023-08-30T13:38:22.524Z"
   },
   {
    "duration": 15,
    "start_time": "2023-08-30T13:38:22.647Z"
   },
   {
    "duration": 21,
    "start_time": "2023-08-30T13:38:22.663Z"
   },
   {
    "duration": 10,
    "start_time": "2023-08-30T13:38:22.685Z"
   },
   {
    "duration": 33,
    "start_time": "2023-08-30T13:38:22.697Z"
   },
   {
    "duration": 8,
    "start_time": "2023-08-30T13:38:22.732Z"
   },
   {
    "duration": 6,
    "start_time": "2023-08-30T13:38:22.741Z"
   },
   {
    "duration": 229,
    "start_time": "2023-08-30T13:38:22.748Z"
   },
   {
    "duration": 67,
    "start_time": "2023-08-30T13:38:22.978Z"
   },
   {
    "duration": 58,
    "start_time": "2023-08-30T13:38:23.046Z"
   },
   {
    "duration": 33,
    "start_time": "2023-08-30T13:38:23.106Z"
   },
   {
    "duration": 2,
    "start_time": "2023-08-30T13:38:23.141Z"
   },
   {
    "duration": 22,
    "start_time": "2023-08-30T13:38:23.144Z"
   },
   {
    "duration": 7,
    "start_time": "2023-08-30T13:38:23.168Z"
   },
   {
    "duration": 4,
    "start_time": "2023-08-30T13:38:23.177Z"
   },
   {
    "duration": 7,
    "start_time": "2023-08-30T13:38:23.182Z"
   },
   {
    "duration": 46,
    "start_time": "2023-08-30T13:38:23.190Z"
   },
   {
    "duration": 1824,
    "start_time": "2023-08-30T13:38:23.238Z"
   },
   {
    "duration": 23,
    "start_time": "2023-08-30T13:38:25.064Z"
   },
   {
    "duration": 21,
    "start_time": "2023-08-30T13:38:25.090Z"
   },
   {
    "duration": 29,
    "start_time": "2023-08-30T13:38:25.113Z"
   },
   {
    "duration": 22,
    "start_time": "2023-08-30T13:38:25.144Z"
   },
   {
    "duration": 8,
    "start_time": "2023-08-30T13:38:25.170Z"
   },
   {
    "duration": 9,
    "start_time": "2023-08-30T13:38:25.180Z"
   },
   {
    "duration": 40,
    "start_time": "2023-08-30T13:38:25.190Z"
   },
   {
    "duration": 10,
    "start_time": "2023-08-30T13:38:25.232Z"
   },
   {
    "duration": 1048,
    "start_time": "2023-08-30T13:38:25.244Z"
   },
   {
    "duration": 13,
    "start_time": "2023-08-30T13:38:26.294Z"
   },
   {
    "duration": 25,
    "start_time": "2023-08-30T13:38:26.309Z"
   },
   {
    "duration": 9,
    "start_time": "2023-08-30T13:38:26.335Z"
   },
   {
    "duration": 5,
    "start_time": "2023-08-30T13:38:26.345Z"
   },
   {
    "duration": 5,
    "start_time": "2023-08-30T13:38:26.352Z"
   },
   {
    "duration": 15,
    "start_time": "2023-08-30T13:38:26.358Z"
   },
   {
    "duration": 7,
    "start_time": "2023-08-30T13:38:26.375Z"
   },
   {
    "duration": 794,
    "start_time": "2023-08-30T13:38:26.384Z"
   },
   {
    "duration": 88,
    "start_time": "2023-08-30T13:38:27.180Z"
   },
   {
    "duration": 24,
    "start_time": "2023-08-30T13:38:27.270Z"
   },
   {
    "duration": 43,
    "start_time": "2023-08-30T13:38:27.296Z"
   },
   {
    "duration": 4,
    "start_time": "2023-08-30T13:38:27.341Z"
   },
   {
    "duration": 7,
    "start_time": "2023-08-30T13:38:27.347Z"
   },
   {
    "duration": 1170,
    "start_time": "2023-08-30T13:38:27.355Z"
   },
   {
    "duration": 1603,
    "start_time": "2023-08-30T13:38:28.527Z"
   },
   {
    "duration": 36034,
    "start_time": "2023-08-30T13:38:30.135Z"
   },
   {
    "duration": 1788,
    "start_time": "2023-08-30T13:39:06.171Z"
   },
   {
    "duration": 337567,
    "start_time": "2023-08-30T13:39:07.961Z"
   },
   {
    "duration": 1182,
    "start_time": "2023-08-30T13:44:45.530Z"
   },
   {
    "duration": 615,
    "start_time": "2023-08-30T13:44:46.714Z"
   },
   {
    "duration": 8,
    "start_time": "2023-08-30T13:44:47.332Z"
   },
   {
    "duration": 58,
    "start_time": "2023-08-31T11:00:18.038Z"
   },
   {
    "duration": 1852,
    "start_time": "2023-08-31T11:00:30.722Z"
   },
   {
    "duration": 2278,
    "start_time": "2023-08-31T11:00:32.576Z"
   },
   {
    "duration": 210,
    "start_time": "2023-08-31T11:00:34.856Z"
   },
   {
    "duration": 280,
    "start_time": "2023-08-31T11:00:35.068Z"
   },
   {
    "duration": 253,
    "start_time": "2023-08-31T11:00:35.350Z"
   },
   {
    "duration": 136,
    "start_time": "2023-08-31T11:00:35.604Z"
   },
   {
    "duration": 18,
    "start_time": "2023-08-31T11:00:35.741Z"
   },
   {
    "duration": 17,
    "start_time": "2023-08-31T11:00:35.761Z"
   },
   {
    "duration": 14,
    "start_time": "2023-08-31T11:00:35.801Z"
   },
   {
    "duration": 16,
    "start_time": "2023-08-31T11:00:35.818Z"
   },
   {
    "duration": 10,
    "start_time": "2023-08-31T11:00:35.835Z"
   },
   {
    "duration": 22,
    "start_time": "2023-08-31T11:00:35.847Z"
   },
   {
    "duration": 247,
    "start_time": "2023-08-31T11:00:35.871Z"
   },
   {
    "duration": 64,
    "start_time": "2023-08-31T11:00:36.120Z"
   },
   {
    "duration": 78,
    "start_time": "2023-08-31T11:00:36.186Z"
   },
   {
    "duration": 42,
    "start_time": "2023-08-31T11:00:36.266Z"
   },
   {
    "duration": 2,
    "start_time": "2023-08-31T11:00:36.310Z"
   },
   {
    "duration": 45,
    "start_time": "2023-08-31T11:00:36.314Z"
   },
   {
    "duration": 9,
    "start_time": "2023-08-31T11:00:36.361Z"
   },
   {
    "duration": 10,
    "start_time": "2023-08-31T11:00:36.372Z"
   },
   {
    "duration": 19,
    "start_time": "2023-08-31T11:00:36.384Z"
   },
   {
    "duration": 28,
    "start_time": "2023-08-31T11:00:36.405Z"
   },
   {
    "duration": 898,
    "start_time": "2023-08-31T11:00:36.436Z"
   },
   {
    "duration": 0,
    "start_time": "2023-08-31T11:00:37.337Z"
   },
   {
    "duration": 0,
    "start_time": "2023-08-31T11:00:37.338Z"
   },
   {
    "duration": 0,
    "start_time": "2023-08-31T11:00:37.339Z"
   },
   {
    "duration": 0,
    "start_time": "2023-08-31T11:00:37.341Z"
   },
   {
    "duration": 0,
    "start_time": "2023-08-31T11:00:37.342Z"
   },
   {
    "duration": 0,
    "start_time": "2023-08-31T11:00:37.343Z"
   },
   {
    "duration": 0,
    "start_time": "2023-08-31T11:00:37.344Z"
   },
   {
    "duration": 0,
    "start_time": "2023-08-31T11:00:37.345Z"
   },
   {
    "duration": 0,
    "start_time": "2023-08-31T11:00:37.347Z"
   },
   {
    "duration": 0,
    "start_time": "2023-08-31T11:00:37.348Z"
   },
   {
    "duration": 0,
    "start_time": "2023-08-31T11:00:37.349Z"
   },
   {
    "duration": 0,
    "start_time": "2023-08-31T11:00:37.350Z"
   },
   {
    "duration": 788,
    "start_time": "2023-08-31T11:01:58.880Z"
   },
   {
    "duration": 2091,
    "start_time": "2023-08-31T11:02:45.991Z"
   },
   {
    "duration": 2267,
    "start_time": "2023-08-31T11:03:00.250Z"
   },
   {
    "duration": 2249,
    "start_time": "2023-08-31T11:06:15.417Z"
   },
   {
    "duration": 27,
    "start_time": "2023-08-31T11:06:36.515Z"
   },
   {
    "duration": 23,
    "start_time": "2023-08-31T11:06:37.111Z"
   },
   {
    "duration": 28,
    "start_time": "2023-08-31T11:06:37.794Z"
   },
   {
    "duration": 33,
    "start_time": "2023-08-31T11:06:38.776Z"
   },
   {
    "duration": 10,
    "start_time": "2023-08-31T11:06:39.749Z"
   },
   {
    "duration": 10,
    "start_time": "2023-08-31T11:06:40.126Z"
   },
   {
    "duration": 8,
    "start_time": "2023-08-31T11:09:22.829Z"
   },
   {
    "duration": 6,
    "start_time": "2023-08-31T11:09:23.046Z"
   },
   {
    "duration": 5,
    "start_time": "2023-08-31T11:09:23.245Z"
   },
   {
    "duration": 6,
    "start_time": "2023-08-31T11:09:23.487Z"
   },
   {
    "duration": 16,
    "start_time": "2023-08-31T11:09:27.294Z"
   },
   {
    "duration": 18,
    "start_time": "2023-08-31T11:09:28.356Z"
   },
   {
    "duration": 2189,
    "start_time": "2023-08-31T11:09:28.542Z"
   },
   {
    "duration": 23,
    "start_time": "2023-08-31T11:09:30.733Z"
   },
   {
    "duration": 108,
    "start_time": "2023-08-31T11:09:30.758Z"
   },
   {
    "duration": 53,
    "start_time": "2023-08-31T11:09:30.868Z"
   },
   {
    "duration": 92,
    "start_time": "2023-08-31T11:09:30.923Z"
   },
   {
    "duration": 96,
    "start_time": "2023-08-31T11:09:31.018Z"
   },
   {
    "duration": 35,
    "start_time": "2023-08-31T11:09:31.116Z"
   },
   {
    "duration": 13,
    "start_time": "2023-08-31T11:09:32.452Z"
   },
   {
    "duration": 11,
    "start_time": "2023-08-31T11:09:32.867Z"
   },
   {
    "duration": 1048,
    "start_time": "2023-08-31T11:09:33.274Z"
   },
   {
    "duration": 14,
    "start_time": "2023-08-31T11:09:34.324Z"
   },
   {
    "duration": 18,
    "start_time": "2023-08-31T11:09:34.534Z"
   },
   {
    "duration": 11,
    "start_time": "2023-08-31T11:10:43.511Z"
   },
   {
    "duration": 5,
    "start_time": "2023-08-31T11:10:51.850Z"
   },
   {
    "duration": 854,
    "start_time": "2023-08-31T11:11:01.794Z"
   },
   {
    "duration": 1216,
    "start_time": "2023-08-31T11:11:15.983Z"
   },
   {
    "duration": 289,
    "start_time": "2023-08-31T11:11:25.957Z"
   },
   {
    "duration": 862,
    "start_time": "2023-08-31T11:11:32.052Z"
   },
   {
    "duration": 283,
    "start_time": "2023-08-31T11:14:54.488Z"
   },
   {
    "duration": 231,
    "start_time": "2023-08-31T11:15:02.817Z"
   },
   {
    "duration": 1426,
    "start_time": "2023-08-31T11:16:27.917Z"
   },
   {
    "duration": 1419,
    "start_time": "2023-08-31T11:16:39.315Z"
   },
   {
    "duration": 745,
    "start_time": "2023-08-31T11:17:11.637Z"
   },
   {
    "duration": 1025,
    "start_time": "2023-08-31T11:17:32.115Z"
   },
   {
    "duration": 715,
    "start_time": "2023-08-31T11:17:59.217Z"
   },
   {
    "duration": 229,
    "start_time": "2023-08-31T11:18:21.300Z"
   },
   {
    "duration": 842,
    "start_time": "2023-08-31T11:22:46.788Z"
   },
   {
    "duration": 657,
    "start_time": "2023-08-31T11:23:02.283Z"
   },
   {
    "duration": 1034,
    "start_time": "2023-08-31T11:23:40.990Z"
   },
   {
    "duration": 904,
    "start_time": "2023-08-31T11:24:01.516Z"
   },
   {
    "duration": 1153,
    "start_time": "2023-08-31T11:24:34.324Z"
   },
   {
    "duration": 830,
    "start_time": "2023-08-31T11:24:43.336Z"
   },
   {
    "duration": 1123,
    "start_time": "2023-08-31T11:24:56.314Z"
   },
   {
    "duration": 114,
    "start_time": "2023-08-31T11:25:39.305Z"
   },
   {
    "duration": 327,
    "start_time": "2023-08-31T11:25:44.722Z"
   },
   {
    "duration": 953,
    "start_time": "2023-08-31T11:25:55.203Z"
   },
   {
    "duration": 1273,
    "start_time": "2023-08-31T11:26:04.216Z"
   },
   {
    "duration": 1097,
    "start_time": "2023-08-31T11:26:24.838Z"
   },
   {
    "duration": 912,
    "start_time": "2023-08-31T11:26:33.267Z"
   },
   {
    "duration": 1156,
    "start_time": "2023-08-31T11:29:23.275Z"
   },
   {
    "duration": 1812,
    "start_time": "2023-08-31T11:30:21.421Z"
   },
   {
    "duration": 1958,
    "start_time": "2023-08-31T11:30:59.979Z"
   },
   {
    "duration": 1914,
    "start_time": "2023-08-31T11:32:35.527Z"
   },
   {
    "duration": 1955,
    "start_time": "2023-08-31T11:33:08.915Z"
   },
   {
    "duration": 2204,
    "start_time": "2023-08-31T11:33:23.899Z"
   },
   {
    "duration": 2165,
    "start_time": "2023-08-31T11:33:33.977Z"
   },
   {
    "duration": 2104,
    "start_time": "2023-08-31T11:33:39.671Z"
   },
   {
    "duration": 2148,
    "start_time": "2023-08-31T11:35:31.194Z"
   },
   {
    "duration": 2111,
    "start_time": "2023-08-31T11:42:35.331Z"
   },
   {
    "duration": 28,
    "start_time": "2023-08-31T12:03:56.996Z"
   },
   {
    "duration": 1690,
    "start_time": "2023-08-31T12:04:01.980Z"
   },
   {
    "duration": 897,
    "start_time": "2023-08-31T12:04:03.672Z"
   },
   {
    "duration": 246,
    "start_time": "2023-08-31T12:04:04.572Z"
   },
   {
    "duration": 333,
    "start_time": "2023-08-31T12:04:04.821Z"
   },
   {
    "duration": 287,
    "start_time": "2023-08-31T12:04:05.156Z"
   },
   {
    "duration": 150,
    "start_time": "2023-08-31T12:04:05.445Z"
   },
   {
    "duration": 189,
    "start_time": "2023-08-31T12:04:05.596Z"
   },
   {
    "duration": 53,
    "start_time": "2023-08-31T12:04:05.787Z"
   },
   {
    "duration": 18,
    "start_time": "2023-08-31T12:04:05.842Z"
   },
   {
    "duration": 14,
    "start_time": "2023-08-31T12:04:05.862Z"
   },
   {
    "duration": 12,
    "start_time": "2023-08-31T12:04:05.877Z"
   },
   {
    "duration": 47,
    "start_time": "2023-08-31T12:04:05.890Z"
   },
   {
    "duration": 290,
    "start_time": "2023-08-31T12:04:05.939Z"
   },
   {
    "duration": 87,
    "start_time": "2023-08-31T12:04:06.232Z"
   },
   {
    "duration": 87,
    "start_time": "2023-08-31T12:04:06.321Z"
   },
   {
    "duration": 24,
    "start_time": "2023-08-31T12:04:06.412Z"
   },
   {
    "duration": 3,
    "start_time": "2023-08-31T12:04:06.437Z"
   },
   {
    "duration": 25,
    "start_time": "2023-08-31T12:04:06.442Z"
   },
   {
    "duration": 98,
    "start_time": "2023-08-31T12:04:06.469Z"
   },
   {
    "duration": 210,
    "start_time": "2023-08-31T12:04:06.570Z"
   },
   {
    "duration": 26,
    "start_time": "2023-08-31T12:04:06.782Z"
   },
   {
    "duration": 30,
    "start_time": "2023-08-31T12:04:06.810Z"
   },
   {
    "duration": 2296,
    "start_time": "2023-08-31T12:04:06.842Z"
   },
   {
    "duration": 27,
    "start_time": "2023-08-31T12:04:09.141Z"
   },
   {
    "duration": 90,
    "start_time": "2023-08-31T12:04:09.170Z"
   },
   {
    "duration": 27,
    "start_time": "2023-08-31T12:04:09.262Z"
   },
   {
    "duration": 28,
    "start_time": "2023-08-31T12:04:09.290Z"
   },
   {
    "duration": 19,
    "start_time": "2023-08-31T12:04:09.322Z"
   },
   {
    "duration": 43,
    "start_time": "2023-08-31T12:04:09.343Z"
   },
   {
    "duration": 27,
    "start_time": "2023-08-31T12:04:09.388Z"
   },
   {
    "duration": 20,
    "start_time": "2023-08-31T12:04:09.418Z"
   },
   {
    "duration": 1982,
    "start_time": "2023-08-31T12:04:09.440Z"
   },
   {
    "duration": 14,
    "start_time": "2023-08-31T12:04:11.424Z"
   },
   {
    "duration": 19,
    "start_time": "2023-08-31T12:04:11.440Z"
   },
   {
    "duration": 41,
    "start_time": "2023-08-31T12:04:11.461Z"
   },
   {
    "duration": 16,
    "start_time": "2023-08-31T12:04:11.505Z"
   },
   {
    "duration": 20,
    "start_time": "2023-08-31T12:04:11.522Z"
   },
   {
    "duration": 10,
    "start_time": "2023-08-31T12:04:11.544Z"
   },
   {
    "duration": 17,
    "start_time": "2023-08-31T12:04:11.556Z"
   },
   {
    "duration": 1148,
    "start_time": "2023-08-31T12:04:11.574Z"
   },
   {
    "duration": 126,
    "start_time": "2023-08-31T12:04:12.734Z"
   },
   {
    "duration": 8,
    "start_time": "2023-08-31T12:04:12.862Z"
   },
   {
    "duration": 48,
    "start_time": "2023-08-31T12:04:12.871Z"
   },
   {
    "duration": 85,
    "start_time": "2023-08-31T12:04:12.922Z"
   },
   {
    "duration": 83,
    "start_time": "2023-08-31T12:04:13.009Z"
   },
   {
    "duration": 21,
    "start_time": "2023-08-31T12:04:13.094Z"
   },
   {
    "duration": 19,
    "start_time": "2023-08-31T12:04:13.117Z"
   },
   {
    "duration": 2370,
    "start_time": "2023-08-31T12:04:13.137Z"
   },
   {
    "duration": 1513,
    "start_time": "2023-08-31T12:04:15.509Z"
   },
   {
    "duration": 0,
    "start_time": "2023-08-31T12:04:17.024Z"
   },
   {
    "duration": 0,
    "start_time": "2023-08-31T12:04:17.026Z"
   },
   {
    "duration": 0,
    "start_time": "2023-08-31T12:04:17.027Z"
   },
   {
    "duration": 0,
    "start_time": "2023-08-31T12:04:17.028Z"
   },
   {
    "duration": 0,
    "start_time": "2023-08-31T12:04:17.029Z"
   },
   {
    "duration": 0,
    "start_time": "2023-08-31T12:04:17.031Z"
   },
   {
    "duration": 0,
    "start_time": "2023-08-31T12:04:17.032Z"
   },
   {
    "duration": 28,
    "start_time": "2023-08-31T12:04:32.332Z"
   },
   {
    "duration": 21,
    "start_time": "2023-08-31T12:07:29.800Z"
   },
   {
    "duration": 398,
    "start_time": "2023-08-31T12:07:36.729Z"
   },
   {
    "duration": 331,
    "start_time": "2023-08-31T12:08:28.905Z"
   },
   {
    "duration": 447,
    "start_time": "2023-08-31T12:11:18.227Z"
   },
   {
    "duration": 813,
    "start_time": "2023-08-31T12:11:24.460Z"
   },
   {
    "duration": 2919,
    "start_time": "2023-08-31T12:12:13.749Z"
   },
   {
    "duration": 547,
    "start_time": "2023-08-31T12:12:28.638Z"
   },
   {
    "duration": 133,
    "start_time": "2023-08-31T12:18:21.657Z"
   },
   {
    "duration": 198,
    "start_time": "2023-08-31T12:18:52.679Z"
   },
   {
    "duration": 134,
    "start_time": "2023-08-31T12:19:08.987Z"
   },
   {
    "duration": 202,
    "start_time": "2023-08-31T12:20:00.290Z"
   },
   {
    "duration": 45,
    "start_time": "2023-08-31T12:20:27.000Z"
   },
   {
    "duration": 1604,
    "start_time": "2023-08-31T12:20:34.615Z"
   },
   {
    "duration": 876,
    "start_time": "2023-08-31T12:20:36.222Z"
   },
   {
    "duration": 202,
    "start_time": "2023-08-31T12:20:37.100Z"
   },
   {
    "duration": 320,
    "start_time": "2023-08-31T12:20:37.311Z"
   },
   {
    "duration": 305,
    "start_time": "2023-08-31T12:20:37.633Z"
   },
   {
    "duration": 176,
    "start_time": "2023-08-31T12:20:37.940Z"
   },
   {
    "duration": 18,
    "start_time": "2023-08-31T12:20:38.119Z"
   },
   {
    "duration": 18,
    "start_time": "2023-08-31T12:20:38.139Z"
   },
   {
    "duration": 44,
    "start_time": "2023-08-31T12:20:38.159Z"
   },
   {
    "duration": 22,
    "start_time": "2023-08-31T12:20:38.212Z"
   },
   {
    "duration": 26,
    "start_time": "2023-08-31T12:20:38.236Z"
   },
   {
    "duration": 28,
    "start_time": "2023-08-31T12:20:38.264Z"
   },
   {
    "duration": 509,
    "start_time": "2023-08-31T12:20:38.294Z"
   },
   {
    "duration": 96,
    "start_time": "2023-08-31T12:20:38.808Z"
   },
   {
    "duration": 73,
    "start_time": "2023-08-31T12:20:38.906Z"
   },
   {
    "duration": 44,
    "start_time": "2023-08-31T12:20:38.981Z"
   },
   {
    "duration": 4,
    "start_time": "2023-08-31T12:20:39.027Z"
   },
   {
    "duration": 60,
    "start_time": "2023-08-31T12:20:39.033Z"
   },
   {
    "duration": 13,
    "start_time": "2023-08-31T12:20:39.095Z"
   },
   {
    "duration": 10,
    "start_time": "2023-08-31T12:20:39.111Z"
   },
   {
    "duration": 16,
    "start_time": "2023-08-31T12:20:39.123Z"
   },
   {
    "duration": 40,
    "start_time": "2023-08-31T12:20:39.141Z"
   },
   {
    "duration": 2431,
    "start_time": "2023-08-31T12:20:39.183Z"
   },
   {
    "duration": 34,
    "start_time": "2023-08-31T12:20:41.615Z"
   },
   {
    "duration": 44,
    "start_time": "2023-08-31T12:20:41.651Z"
   },
   {
    "duration": 55,
    "start_time": "2023-08-31T12:20:41.697Z"
   },
   {
    "duration": 44,
    "start_time": "2023-08-31T12:20:41.754Z"
   },
   {
    "duration": 79,
    "start_time": "2023-08-31T12:20:41.800Z"
   },
   {
    "duration": 31,
    "start_time": "2023-08-31T12:20:41.881Z"
   },
   {
    "duration": 56,
    "start_time": "2023-08-31T12:20:41.918Z"
   },
   {
    "duration": 101,
    "start_time": "2023-08-31T12:20:41.976Z"
   },
   {
    "duration": 2067,
    "start_time": "2023-08-31T12:20:42.079Z"
   },
   {
    "duration": 16,
    "start_time": "2023-08-31T12:20:44.147Z"
   },
   {
    "duration": 49,
    "start_time": "2023-08-31T12:20:44.165Z"
   },
   {
    "duration": 9,
    "start_time": "2023-08-31T12:20:44.218Z"
   },
   {
    "duration": 25,
    "start_time": "2023-08-31T12:20:44.230Z"
   },
   {
    "duration": 11,
    "start_time": "2023-08-31T12:20:44.257Z"
   },
   {
    "duration": 12,
    "start_time": "2023-08-31T12:20:44.270Z"
   },
   {
    "duration": 5,
    "start_time": "2023-08-31T12:20:44.284Z"
   },
   {
    "duration": 1205,
    "start_time": "2023-08-31T12:20:44.292Z"
   },
   {
    "duration": 98,
    "start_time": "2023-08-31T12:20:45.511Z"
   },
   {
    "duration": 7,
    "start_time": "2023-08-31T12:20:45.616Z"
   },
   {
    "duration": 29,
    "start_time": "2023-08-31T12:20:45.625Z"
   },
   {
    "duration": 5,
    "start_time": "2023-08-31T12:20:45.656Z"
   },
   {
    "duration": 52,
    "start_time": "2023-08-31T12:20:45.663Z"
   },
   {
    "duration": 7,
    "start_time": "2023-08-31T12:20:45.717Z"
   },
   {
    "duration": 30,
    "start_time": "2023-08-31T12:20:45.727Z"
   },
   {
    "duration": 2658,
    "start_time": "2023-08-31T12:20:45.760Z"
   },
   {
    "duration": 7695,
    "start_time": "2023-08-31T12:20:48.423Z"
   },
   {
    "duration": 82,
    "start_time": "2023-08-31T12:20:56.121Z"
   },
   {
    "duration": 38560,
    "start_time": "2023-08-31T12:20:56.206Z"
   },
   {
    "duration": 1979,
    "start_time": "2023-08-31T12:21:34.768Z"
   },
   {
    "duration": 1643,
    "start_time": "2023-08-31T12:22:10.701Z"
   },
   {
    "duration": 885,
    "start_time": "2023-08-31T12:22:12.346Z"
   },
   {
    "duration": 186,
    "start_time": "2023-08-31T12:22:13.234Z"
   },
   {
    "duration": 316,
    "start_time": "2023-08-31T12:22:13.424Z"
   },
   {
    "duration": 284,
    "start_time": "2023-08-31T12:22:13.742Z"
   },
   {
    "duration": 155,
    "start_time": "2023-08-31T12:22:14.028Z"
   },
   {
    "duration": 31,
    "start_time": "2023-08-31T12:22:14.185Z"
   },
   {
    "duration": 18,
    "start_time": "2023-08-31T12:22:14.218Z"
   },
   {
    "duration": 16,
    "start_time": "2023-08-31T12:22:14.239Z"
   },
   {
    "duration": 12,
    "start_time": "2023-08-31T12:22:14.258Z"
   },
   {
    "duration": 15,
    "start_time": "2023-08-31T12:22:14.309Z"
   },
   {
    "duration": 14,
    "start_time": "2023-08-31T12:22:14.327Z"
   },
   {
    "duration": 271,
    "start_time": "2023-08-31T12:22:14.342Z"
   },
   {
    "duration": 71,
    "start_time": "2023-08-31T12:22:14.618Z"
   },
   {
    "duration": 80,
    "start_time": "2023-08-31T12:22:14.700Z"
   },
   {
    "duration": 36,
    "start_time": "2023-08-31T12:22:14.782Z"
   },
   {
    "duration": 2,
    "start_time": "2023-08-31T12:22:14.820Z"
   },
   {
    "duration": 33,
    "start_time": "2023-08-31T12:22:14.824Z"
   },
   {
    "duration": 10,
    "start_time": "2023-08-31T12:22:14.860Z"
   },
   {
    "duration": 29,
    "start_time": "2023-08-31T12:22:14.873Z"
   },
   {
    "duration": 22,
    "start_time": "2023-08-31T12:22:14.906Z"
   },
   {
    "duration": 35,
    "start_time": "2023-08-31T12:22:14.930Z"
   },
   {
    "duration": 2315,
    "start_time": "2023-08-31T12:22:14.967Z"
   },
   {
    "duration": 35,
    "start_time": "2023-08-31T12:22:17.285Z"
   },
   {
    "duration": 22,
    "start_time": "2023-08-31T12:22:17.322Z"
   },
   {
    "duration": 46,
    "start_time": "2023-08-31T12:22:17.346Z"
   },
   {
    "duration": 33,
    "start_time": "2023-08-31T12:22:17.394Z"
   },
   {
    "duration": 10,
    "start_time": "2023-08-31T12:22:17.431Z"
   },
   {
    "duration": 26,
    "start_time": "2023-08-31T12:22:17.443Z"
   },
   {
    "duration": 30,
    "start_time": "2023-08-31T12:22:17.470Z"
   },
   {
    "duration": 23,
    "start_time": "2023-08-31T12:22:17.506Z"
   },
   {
    "duration": 2042,
    "start_time": "2023-08-31T12:22:17.531Z"
   },
   {
    "duration": 36,
    "start_time": "2023-08-31T12:22:19.575Z"
   },
   {
    "duration": 51,
    "start_time": "2023-08-31T12:22:19.614Z"
   },
   {
    "duration": 55,
    "start_time": "2023-08-31T12:22:19.667Z"
   },
   {
    "duration": 18,
    "start_time": "2023-08-31T12:22:19.724Z"
   },
   {
    "duration": 26,
    "start_time": "2023-08-31T12:22:19.744Z"
   },
   {
    "duration": 43,
    "start_time": "2023-08-31T12:22:19.772Z"
   },
   {
    "duration": 27,
    "start_time": "2023-08-31T12:22:19.817Z"
   },
   {
    "duration": 1170,
    "start_time": "2023-08-31T12:22:19.847Z"
   },
   {
    "duration": 101,
    "start_time": "2023-08-31T12:22:21.018Z"
   },
   {
    "duration": 7,
    "start_time": "2023-08-31T12:22:21.121Z"
   },
   {
    "duration": 50,
    "start_time": "2023-08-31T12:22:21.130Z"
   },
   {
    "duration": 29,
    "start_time": "2023-08-31T12:22:21.182Z"
   },
   {
    "duration": 54,
    "start_time": "2023-08-31T12:22:21.220Z"
   },
   {
    "duration": 7,
    "start_time": "2023-08-31T12:22:21.276Z"
   },
   {
    "duration": 38,
    "start_time": "2023-08-31T12:22:21.284Z"
   },
   {
    "duration": 607,
    "start_time": "2023-08-31T12:22:21.324Z"
   },
   {
    "duration": 0,
    "start_time": "2023-08-31T12:22:21.933Z"
   },
   {
    "duration": 0,
    "start_time": "2023-08-31T12:22:21.935Z"
   },
   {
    "duration": 0,
    "start_time": "2023-08-31T12:22:21.936Z"
   },
   {
    "duration": 0,
    "start_time": "2023-08-31T12:22:21.941Z"
   },
   {
    "duration": 0,
    "start_time": "2023-08-31T12:22:21.943Z"
   },
   {
    "duration": 0,
    "start_time": "2023-08-31T12:22:21.944Z"
   },
   {
    "duration": 0,
    "start_time": "2023-08-31T12:22:21.945Z"
   },
   {
    "duration": 0,
    "start_time": "2023-08-31T12:22:21.946Z"
   },
   {
    "duration": 134,
    "start_time": "2023-08-31T12:27:53.123Z"
   },
   {
    "duration": 24,
    "start_time": "2023-08-31T12:28:03.765Z"
   },
   {
    "duration": 6,
    "start_time": "2023-08-31T12:29:44.709Z"
   },
   {
    "duration": 6,
    "start_time": "2023-08-31T12:32:53.768Z"
   },
   {
    "duration": 105,
    "start_time": "2023-08-31T12:33:11.526Z"
   },
   {
    "duration": 80,
    "start_time": "2023-08-31T12:33:16.447Z"
   },
   {
    "duration": 2850,
    "start_time": "2023-08-31T12:33:16.742Z"
   },
   {
    "duration": 12,
    "start_time": "2023-08-31T12:34:05.927Z"
   },
   {
    "duration": 12,
    "start_time": "2023-08-31T12:34:10.329Z"
   },
   {
    "duration": 251,
    "start_time": "2023-08-31T12:34:16.424Z"
   },
   {
    "duration": 10,
    "start_time": "2023-08-31T12:34:18.949Z"
   },
   {
    "duration": 1694,
    "start_time": "2023-08-31T12:34:43.271Z"
   },
   {
    "duration": 978,
    "start_time": "2023-08-31T12:34:44.967Z"
   },
   {
    "duration": 212,
    "start_time": "2023-08-31T12:34:45.947Z"
   },
   {
    "duration": 304,
    "start_time": "2023-08-31T12:34:46.162Z"
   },
   {
    "duration": 283,
    "start_time": "2023-08-31T12:34:46.469Z"
   },
   {
    "duration": 181,
    "start_time": "2023-08-31T12:34:46.755Z"
   },
   {
    "duration": 25,
    "start_time": "2023-08-31T12:34:46.939Z"
   },
   {
    "duration": 41,
    "start_time": "2023-08-31T12:34:46.967Z"
   },
   {
    "duration": 25,
    "start_time": "2023-08-31T12:34:47.011Z"
   },
   {
    "duration": 11,
    "start_time": "2023-08-31T12:34:47.042Z"
   },
   {
    "duration": 15,
    "start_time": "2023-08-31T12:34:47.059Z"
   },
   {
    "duration": 33,
    "start_time": "2023-08-31T12:34:47.076Z"
   },
   {
    "duration": 360,
    "start_time": "2023-08-31T12:34:47.119Z"
   },
   {
    "duration": 88,
    "start_time": "2023-08-31T12:34:47.482Z"
   },
   {
    "duration": 103,
    "start_time": "2023-08-31T12:34:47.572Z"
   },
   {
    "duration": 36,
    "start_time": "2023-08-31T12:34:47.677Z"
   },
   {
    "duration": 6,
    "start_time": "2023-08-31T12:34:47.721Z"
   },
   {
    "duration": 42,
    "start_time": "2023-08-31T12:34:47.732Z"
   },
   {
    "duration": 29,
    "start_time": "2023-08-31T12:34:47.777Z"
   },
   {
    "duration": 11,
    "start_time": "2023-08-31T12:34:47.815Z"
   },
   {
    "duration": 17,
    "start_time": "2023-08-31T12:34:47.828Z"
   },
   {
    "duration": 26,
    "start_time": "2023-08-31T12:34:47.847Z"
   },
   {
    "duration": 10,
    "start_time": "2023-08-31T12:34:47.875Z"
   },
   {
    "duration": 128,
    "start_time": "2023-08-31T12:34:47.886Z"
   },
   {
    "duration": 10,
    "start_time": "2023-08-31T12:34:48.024Z"
   },
   {
    "duration": 2530,
    "start_time": "2023-08-31T12:34:48.036Z"
   },
   {
    "duration": 25,
    "start_time": "2023-08-31T12:34:50.568Z"
   },
   {
    "duration": 55,
    "start_time": "2023-08-31T12:34:50.597Z"
   },
   {
    "duration": 42,
    "start_time": "2023-08-31T12:34:50.653Z"
   },
   {
    "duration": 35,
    "start_time": "2023-08-31T12:34:50.696Z"
   },
   {
    "duration": 11,
    "start_time": "2023-08-31T12:34:50.740Z"
   },
   {
    "duration": 43,
    "start_time": "2023-08-31T12:34:50.753Z"
   },
   {
    "duration": 59,
    "start_time": "2023-08-31T12:34:50.798Z"
   },
   {
    "duration": 126,
    "start_time": "2023-08-31T12:34:50.859Z"
   },
   {
    "duration": 1040,
    "start_time": "2023-08-31T12:34:50.987Z"
   },
   {
    "duration": 0,
    "start_time": "2023-08-31T12:34:52.029Z"
   },
   {
    "duration": 0,
    "start_time": "2023-08-31T12:34:52.030Z"
   },
   {
    "duration": 0,
    "start_time": "2023-08-31T12:34:52.031Z"
   },
   {
    "duration": 0,
    "start_time": "2023-08-31T12:34:52.034Z"
   },
   {
    "duration": 0,
    "start_time": "2023-08-31T12:34:52.035Z"
   },
   {
    "duration": 0,
    "start_time": "2023-08-31T12:34:52.037Z"
   },
   {
    "duration": 0,
    "start_time": "2023-08-31T12:34:52.038Z"
   },
   {
    "duration": 0,
    "start_time": "2023-08-31T12:34:52.040Z"
   },
   {
    "duration": 0,
    "start_time": "2023-08-31T12:34:52.041Z"
   },
   {
    "duration": 0,
    "start_time": "2023-08-31T12:34:52.043Z"
   },
   {
    "duration": 0,
    "start_time": "2023-08-31T12:34:52.044Z"
   },
   {
    "duration": 0,
    "start_time": "2023-08-31T12:34:52.045Z"
   },
   {
    "duration": 0,
    "start_time": "2023-08-31T12:34:52.046Z"
   },
   {
    "duration": 0,
    "start_time": "2023-08-31T12:34:52.048Z"
   },
   {
    "duration": 0,
    "start_time": "2023-08-31T12:34:52.049Z"
   },
   {
    "duration": 0,
    "start_time": "2023-08-31T12:34:52.051Z"
   },
   {
    "duration": 0,
    "start_time": "2023-08-31T12:34:52.052Z"
   },
   {
    "duration": 0,
    "start_time": "2023-08-31T12:34:52.053Z"
   },
   {
    "duration": 0,
    "start_time": "2023-08-31T12:34:52.055Z"
   },
   {
    "duration": 0,
    "start_time": "2023-08-31T12:34:52.056Z"
   },
   {
    "duration": 0,
    "start_time": "2023-08-31T12:34:52.057Z"
   },
   {
    "duration": 0,
    "start_time": "2023-08-31T12:34:52.058Z"
   },
   {
    "duration": 0,
    "start_time": "2023-08-31T12:34:52.060Z"
   },
   {
    "duration": 0,
    "start_time": "2023-08-31T12:34:52.061Z"
   },
   {
    "duration": 9,
    "start_time": "2023-08-31T12:36:14.483Z"
   },
   {
    "duration": 141,
    "start_time": "2023-08-31T12:36:14.934Z"
   },
   {
    "duration": 11,
    "start_time": "2023-08-31T12:36:16.825Z"
   },
   {
    "duration": 561,
    "start_time": "2023-08-31T12:36:23.991Z"
   },
   {
    "duration": 142,
    "start_time": "2023-08-31T12:37:01.534Z"
   },
   {
    "duration": 170,
    "start_time": "2023-08-31T12:39:25.370Z"
   },
   {
    "duration": 175,
    "start_time": "2023-08-31T12:39:37.563Z"
   },
   {
    "duration": 463,
    "start_time": "2023-08-31T12:40:02.535Z"
   },
   {
    "duration": 157,
    "start_time": "2023-08-31T12:42:02.630Z"
   },
   {
    "duration": 153,
    "start_time": "2023-08-31T12:42:08.773Z"
   },
   {
    "duration": 207,
    "start_time": "2023-08-31T12:42:20.022Z"
   },
   {
    "duration": 1781,
    "start_time": "2023-08-31T12:43:07.587Z"
   },
   {
    "duration": 972,
    "start_time": "2023-08-31T12:43:09.370Z"
   },
   {
    "duration": 206,
    "start_time": "2023-08-31T12:43:10.344Z"
   },
   {
    "duration": 334,
    "start_time": "2023-08-31T12:43:10.555Z"
   },
   {
    "duration": 314,
    "start_time": "2023-08-31T12:43:10.890Z"
   },
   {
    "duration": 164,
    "start_time": "2023-08-31T12:43:11.206Z"
   },
   {
    "duration": 18,
    "start_time": "2023-08-31T12:43:11.372Z"
   },
   {
    "duration": 38,
    "start_time": "2023-08-31T12:43:11.392Z"
   },
   {
    "duration": 17,
    "start_time": "2023-08-31T12:43:11.432Z"
   },
   {
    "duration": 14,
    "start_time": "2023-08-31T12:43:11.452Z"
   },
   {
    "duration": 39,
    "start_time": "2023-08-31T12:43:11.468Z"
   },
   {
    "duration": 15,
    "start_time": "2023-08-31T12:43:11.509Z"
   },
   {
    "duration": 281,
    "start_time": "2023-08-31T12:43:11.526Z"
   },
   {
    "duration": 79,
    "start_time": "2023-08-31T12:43:11.809Z"
   },
   {
    "duration": 82,
    "start_time": "2023-08-31T12:43:11.900Z"
   },
   {
    "duration": 46,
    "start_time": "2023-08-31T12:43:11.984Z"
   },
   {
    "duration": 4,
    "start_time": "2023-08-31T12:43:12.034Z"
   },
   {
    "duration": 36,
    "start_time": "2023-08-31T12:43:12.042Z"
   },
   {
    "duration": 30,
    "start_time": "2023-08-31T12:43:12.081Z"
   },
   {
    "duration": 19,
    "start_time": "2023-08-31T12:43:12.113Z"
   },
   {
    "duration": 14,
    "start_time": "2023-08-31T12:43:12.134Z"
   },
   {
    "duration": 62,
    "start_time": "2023-08-31T12:43:12.150Z"
   },
   {
    "duration": 16,
    "start_time": "2023-08-31T12:43:12.221Z"
   },
   {
    "duration": 122,
    "start_time": "2023-08-31T12:43:12.239Z"
   },
   {
    "duration": 9,
    "start_time": "2023-08-31T12:43:12.363Z"
   },
   {
    "duration": 2608,
    "start_time": "2023-08-31T12:43:12.374Z"
   },
   {
    "duration": 34,
    "start_time": "2023-08-31T12:43:14.984Z"
   },
   {
    "duration": 69,
    "start_time": "2023-08-31T12:43:15.030Z"
   },
   {
    "duration": 34,
    "start_time": "2023-08-31T12:43:15.101Z"
   },
   {
    "duration": 26,
    "start_time": "2023-08-31T12:43:15.137Z"
   },
   {
    "duration": 11,
    "start_time": "2023-08-31T12:43:15.164Z"
   },
   {
    "duration": 61,
    "start_time": "2023-08-31T12:43:15.177Z"
   },
   {
    "duration": 13,
    "start_time": "2023-08-31T12:43:15.240Z"
   },
   {
    "duration": 65,
    "start_time": "2023-08-31T12:43:15.256Z"
   },
   {
    "duration": 2242,
    "start_time": "2023-08-31T12:43:15.327Z"
   },
   {
    "duration": 15,
    "start_time": "2023-08-31T12:43:17.571Z"
   },
   {
    "duration": 34,
    "start_time": "2023-08-31T12:43:17.602Z"
   },
   {
    "duration": 6,
    "start_time": "2023-08-31T12:43:17.638Z"
   },
   {
    "duration": 13,
    "start_time": "2023-08-31T12:43:17.647Z"
   },
   {
    "duration": 7,
    "start_time": "2023-08-31T12:43:17.662Z"
   },
   {
    "duration": 12,
    "start_time": "2023-08-31T12:43:17.671Z"
   },
   {
    "duration": 6,
    "start_time": "2023-08-31T12:43:17.685Z"
   },
   {
    "duration": 1283,
    "start_time": "2023-08-31T12:43:17.701Z"
   },
   {
    "duration": 155,
    "start_time": "2023-08-31T12:43:18.986Z"
   },
   {
    "duration": 8,
    "start_time": "2023-08-31T12:43:19.145Z"
   },
   {
    "duration": 39,
    "start_time": "2023-08-31T12:43:19.156Z"
   },
   {
    "duration": 5,
    "start_time": "2023-08-31T12:43:19.197Z"
   },
   {
    "duration": 37,
    "start_time": "2023-08-31T12:43:19.203Z"
   },
   {
    "duration": 7,
    "start_time": "2023-08-31T12:43:19.243Z"
   },
   {
    "duration": 17,
    "start_time": "2023-08-31T12:43:19.252Z"
   },
   {
    "duration": 4070,
    "start_time": "2023-08-31T12:43:19.272Z"
   },
   {
    "duration": 1694,
    "start_time": "2023-08-31T12:43:56.470Z"
   },
   {
    "duration": 981,
    "start_time": "2023-08-31T12:43:58.166Z"
   },
   {
    "duration": 208,
    "start_time": "2023-08-31T12:43:59.153Z"
   },
   {
    "duration": 320,
    "start_time": "2023-08-31T12:43:59.363Z"
   },
   {
    "duration": 289,
    "start_time": "2023-08-31T12:43:59.685Z"
   },
   {
    "duration": 160,
    "start_time": "2023-08-31T12:43:59.975Z"
   },
   {
    "duration": 22,
    "start_time": "2023-08-31T12:44:00.137Z"
   },
   {
    "duration": 38,
    "start_time": "2023-08-31T12:44:00.162Z"
   },
   {
    "duration": 19,
    "start_time": "2023-08-31T12:44:00.204Z"
   },
   {
    "duration": 13,
    "start_time": "2023-08-31T12:44:00.226Z"
   },
   {
    "duration": 31,
    "start_time": "2023-08-31T12:44:00.241Z"
   },
   {
    "duration": 35,
    "start_time": "2023-08-31T12:44:00.274Z"
   },
   {
    "duration": 276,
    "start_time": "2023-08-31T12:44:00.311Z"
   },
   {
    "duration": 83,
    "start_time": "2023-08-31T12:44:00.589Z"
   },
   {
    "duration": 107,
    "start_time": "2023-08-31T12:44:00.674Z"
   },
   {
    "duration": 77,
    "start_time": "2023-08-31T12:44:00.784Z"
   },
   {
    "duration": 50,
    "start_time": "2023-08-31T12:44:00.863Z"
   },
   {
    "duration": 56,
    "start_time": "2023-08-31T12:44:00.915Z"
   },
   {
    "duration": 16,
    "start_time": "2023-08-31T12:44:00.972Z"
   },
   {
    "duration": 30,
    "start_time": "2023-08-31T12:44:00.991Z"
   },
   {
    "duration": 78,
    "start_time": "2023-08-31T12:44:01.030Z"
   },
   {
    "duration": 49,
    "start_time": "2023-08-31T12:44:01.110Z"
   },
   {
    "duration": 9,
    "start_time": "2023-08-31T12:44:01.161Z"
   },
   {
    "duration": 1528,
    "start_time": "2023-08-31T12:44:01.172Z"
   },
   {
    "duration": 0,
    "start_time": "2023-08-31T12:44:02.713Z"
   },
   {
    "duration": 0,
    "start_time": "2023-08-31T12:44:02.714Z"
   },
   {
    "duration": 0,
    "start_time": "2023-08-31T12:44:02.715Z"
   },
   {
    "duration": 0,
    "start_time": "2023-08-31T12:44:02.717Z"
   },
   {
    "duration": 0,
    "start_time": "2023-08-31T12:44:02.718Z"
   },
   {
    "duration": 0,
    "start_time": "2023-08-31T12:44:02.720Z"
   },
   {
    "duration": 0,
    "start_time": "2023-08-31T12:44:02.725Z"
   },
   {
    "duration": 0,
    "start_time": "2023-08-31T12:44:02.726Z"
   },
   {
    "duration": 0,
    "start_time": "2023-08-31T12:44:02.727Z"
   },
   {
    "duration": 0,
    "start_time": "2023-08-31T12:44:02.729Z"
   },
   {
    "duration": 0,
    "start_time": "2023-08-31T12:44:02.730Z"
   },
   {
    "duration": 0,
    "start_time": "2023-08-31T12:44:02.731Z"
   },
   {
    "duration": 1,
    "start_time": "2023-08-31T12:44:02.732Z"
   },
   {
    "duration": 0,
    "start_time": "2023-08-31T12:44:02.736Z"
   },
   {
    "duration": 0,
    "start_time": "2023-08-31T12:44:02.739Z"
   },
   {
    "duration": 0,
    "start_time": "2023-08-31T12:44:02.740Z"
   },
   {
    "duration": 0,
    "start_time": "2023-08-31T12:44:02.741Z"
   },
   {
    "duration": 0,
    "start_time": "2023-08-31T12:44:02.742Z"
   },
   {
    "duration": 0,
    "start_time": "2023-08-31T12:44:02.744Z"
   },
   {
    "duration": 0,
    "start_time": "2023-08-31T12:44:02.745Z"
   },
   {
    "duration": 0,
    "start_time": "2023-08-31T12:44:02.746Z"
   },
   {
    "duration": 0,
    "start_time": "2023-08-31T12:44:02.748Z"
   },
   {
    "duration": 0,
    "start_time": "2023-08-31T12:44:02.749Z"
   },
   {
    "duration": 0,
    "start_time": "2023-08-31T12:44:02.750Z"
   },
   {
    "duration": 0,
    "start_time": "2023-08-31T12:44:02.751Z"
   },
   {
    "duration": 0,
    "start_time": "2023-08-31T12:44:02.752Z"
   },
   {
    "duration": 0,
    "start_time": "2023-08-31T12:44:02.753Z"
   },
   {
    "duration": 0,
    "start_time": "2023-08-31T12:44:02.754Z"
   },
   {
    "duration": 0,
    "start_time": "2023-08-31T12:44:02.755Z"
   },
   {
    "duration": 0,
    "start_time": "2023-08-31T12:44:02.757Z"
   },
   {
    "duration": 0,
    "start_time": "2023-08-31T12:44:02.757Z"
   },
   {
    "duration": 0,
    "start_time": "2023-08-31T12:44:02.758Z"
   },
   {
    "duration": 0,
    "start_time": "2023-08-31T12:44:02.758Z"
   },
   {
    "duration": 0,
    "start_time": "2023-08-31T12:44:02.759Z"
   },
   {
    "duration": 0,
    "start_time": "2023-08-31T12:44:02.759Z"
   },
   {
    "duration": 28,
    "start_time": "2023-08-31T12:45:26.639Z"
   },
   {
    "duration": 2050,
    "start_time": "2023-08-31T12:45:54.239Z"
   },
   {
    "duration": 937,
    "start_time": "2023-08-31T12:45:56.292Z"
   },
   {
    "duration": 191,
    "start_time": "2023-08-31T12:45:57.231Z"
   },
   {
    "duration": 324,
    "start_time": "2023-08-31T12:45:57.425Z"
   },
   {
    "duration": 291,
    "start_time": "2023-08-31T12:45:57.751Z"
   },
   {
    "duration": 155,
    "start_time": "2023-08-31T12:45:58.044Z"
   },
   {
    "duration": 28,
    "start_time": "2023-08-31T12:45:58.209Z"
   },
   {
    "duration": 19,
    "start_time": "2023-08-31T12:45:58.239Z"
   },
   {
    "duration": 27,
    "start_time": "2023-08-31T12:45:58.261Z"
   },
   {
    "duration": 33,
    "start_time": "2023-08-31T12:45:58.290Z"
   },
   {
    "duration": 14,
    "start_time": "2023-08-31T12:45:58.328Z"
   },
   {
    "duration": 21,
    "start_time": "2023-08-31T12:45:58.344Z"
   },
   {
    "duration": 304,
    "start_time": "2023-08-31T12:45:58.368Z"
   },
   {
    "duration": 91,
    "start_time": "2023-08-31T12:45:58.675Z"
   },
   {
    "duration": 90,
    "start_time": "2023-08-31T12:45:58.768Z"
   },
   {
    "duration": 25,
    "start_time": "2023-08-31T12:45:58.860Z"
   },
   {
    "duration": 18,
    "start_time": "2023-08-31T12:45:58.887Z"
   },
   {
    "duration": 47,
    "start_time": "2023-08-31T12:45:58.912Z"
   },
   {
    "duration": 10,
    "start_time": "2023-08-31T12:45:58.961Z"
   },
   {
    "duration": 7,
    "start_time": "2023-08-31T12:45:58.973Z"
   },
   {
    "duration": 33,
    "start_time": "2023-08-31T12:45:58.982Z"
   },
   {
    "duration": 34,
    "start_time": "2023-08-31T12:45:59.019Z"
   },
   {
    "duration": 10,
    "start_time": "2023-08-31T12:45:59.056Z"
   },
   {
    "duration": 174,
    "start_time": "2023-08-31T12:45:59.068Z"
   },
   {
    "duration": 0,
    "start_time": "2023-08-31T12:45:59.245Z"
   },
   {
    "duration": 0,
    "start_time": "2023-08-31T12:45:59.246Z"
   },
   {
    "duration": 0,
    "start_time": "2023-08-31T12:45:59.247Z"
   },
   {
    "duration": 0,
    "start_time": "2023-08-31T12:45:59.248Z"
   },
   {
    "duration": 0,
    "start_time": "2023-08-31T12:45:59.250Z"
   },
   {
    "duration": 0,
    "start_time": "2023-08-31T12:45:59.251Z"
   },
   {
    "duration": 0,
    "start_time": "2023-08-31T12:45:59.253Z"
   },
   {
    "duration": 0,
    "start_time": "2023-08-31T12:45:59.254Z"
   },
   {
    "duration": 0,
    "start_time": "2023-08-31T12:45:59.256Z"
   },
   {
    "duration": 0,
    "start_time": "2023-08-31T12:45:59.257Z"
   },
   {
    "duration": 0,
    "start_time": "2023-08-31T12:45:59.258Z"
   },
   {
    "duration": 0,
    "start_time": "2023-08-31T12:45:59.259Z"
   },
   {
    "duration": 0,
    "start_time": "2023-08-31T12:45:59.261Z"
   },
   {
    "duration": 0,
    "start_time": "2023-08-31T12:45:59.262Z"
   },
   {
    "duration": 0,
    "start_time": "2023-08-31T12:45:59.263Z"
   },
   {
    "duration": 0,
    "start_time": "2023-08-31T12:45:59.268Z"
   },
   {
    "duration": 0,
    "start_time": "2023-08-31T12:45:59.269Z"
   },
   {
    "duration": 0,
    "start_time": "2023-08-31T12:45:59.303Z"
   },
   {
    "duration": 0,
    "start_time": "2023-08-31T12:45:59.304Z"
   },
   {
    "duration": 0,
    "start_time": "2023-08-31T12:45:59.307Z"
   },
   {
    "duration": 0,
    "start_time": "2023-08-31T12:45:59.309Z"
   },
   {
    "duration": 0,
    "start_time": "2023-08-31T12:45:59.310Z"
   },
   {
    "duration": 0,
    "start_time": "2023-08-31T12:45:59.311Z"
   },
   {
    "duration": 0,
    "start_time": "2023-08-31T12:45:59.312Z"
   },
   {
    "duration": 0,
    "start_time": "2023-08-31T12:45:59.312Z"
   },
   {
    "duration": 0,
    "start_time": "2023-08-31T12:45:59.313Z"
   },
   {
    "duration": 0,
    "start_time": "2023-08-31T12:45:59.314Z"
   },
   {
    "duration": 0,
    "start_time": "2023-08-31T12:45:59.315Z"
   },
   {
    "duration": 0,
    "start_time": "2023-08-31T12:45:59.318Z"
   },
   {
    "duration": 0,
    "start_time": "2023-08-31T12:45:59.321Z"
   },
   {
    "duration": 0,
    "start_time": "2023-08-31T12:45:59.323Z"
   },
   {
    "duration": 0,
    "start_time": "2023-08-31T12:45:59.324Z"
   },
   {
    "duration": 0,
    "start_time": "2023-08-31T12:45:59.326Z"
   },
   {
    "duration": 0,
    "start_time": "2023-08-31T12:45:59.328Z"
   },
   {
    "duration": 0,
    "start_time": "2023-08-31T12:45:59.329Z"
   },
   {
    "duration": 25,
    "start_time": "2023-08-31T12:46:18.034Z"
   },
   {
    "duration": 27,
    "start_time": "2023-08-31T12:46:31.552Z"
   },
   {
    "duration": 25,
    "start_time": "2023-08-31T12:46:42.138Z"
   },
   {
    "duration": 15,
    "start_time": "2023-08-31T12:47:01.358Z"
   },
   {
    "duration": 48,
    "start_time": "2023-08-31T12:47:09.071Z"
   },
   {
    "duration": 1627,
    "start_time": "2023-08-31T12:47:50.972Z"
   },
   {
    "duration": 956,
    "start_time": "2023-08-31T12:47:52.601Z"
   },
   {
    "duration": 193,
    "start_time": "2023-08-31T12:47:53.559Z"
   },
   {
    "duration": 316,
    "start_time": "2023-08-31T12:47:53.755Z"
   },
   {
    "duration": 289,
    "start_time": "2023-08-31T12:47:54.073Z"
   },
   {
    "duration": 191,
    "start_time": "2023-08-31T12:47:54.364Z"
   },
   {
    "duration": 28,
    "start_time": "2023-08-31T12:47:54.557Z"
   },
   {
    "duration": 35,
    "start_time": "2023-08-31T12:47:54.587Z"
   },
   {
    "duration": 23,
    "start_time": "2023-08-31T12:47:54.631Z"
   },
   {
    "duration": 18,
    "start_time": "2023-08-31T12:47:54.658Z"
   },
   {
    "duration": 27,
    "start_time": "2023-08-31T12:47:54.678Z"
   },
   {
    "duration": 19,
    "start_time": "2023-08-31T12:47:54.707Z"
   },
   {
    "duration": 310,
    "start_time": "2023-08-31T12:47:54.728Z"
   },
   {
    "duration": 95,
    "start_time": "2023-08-31T12:47:55.040Z"
   },
   {
    "duration": 87,
    "start_time": "2023-08-31T12:47:55.137Z"
   },
   {
    "duration": 23,
    "start_time": "2023-08-31T12:47:55.233Z"
   },
   {
    "duration": 3,
    "start_time": "2023-08-31T12:47:55.258Z"
   },
   {
    "duration": 50,
    "start_time": "2023-08-31T12:47:55.263Z"
   },
   {
    "duration": 34,
    "start_time": "2023-08-31T12:47:55.315Z"
   },
   {
    "duration": 30,
    "start_time": "2023-08-31T12:47:55.350Z"
   },
   {
    "duration": 27,
    "start_time": "2023-08-31T12:47:55.382Z"
   },
   {
    "duration": 66,
    "start_time": "2023-08-31T12:47:55.411Z"
   },
   {
    "duration": 17,
    "start_time": "2023-08-31T12:47:55.479Z"
   },
   {
    "duration": 160,
    "start_time": "2023-08-31T12:47:55.498Z"
   },
   {
    "duration": 7,
    "start_time": "2023-08-31T12:47:55.660Z"
   },
   {
    "duration": 2549,
    "start_time": "2023-08-31T12:47:55.669Z"
   },
   {
    "duration": 2543,
    "start_time": "2023-08-31T12:47:58.221Z"
   },
   {
    "duration": 0,
    "start_time": "2023-08-31T12:48:00.766Z"
   },
   {
    "duration": 0,
    "start_time": "2023-08-31T12:48:00.768Z"
   },
   {
    "duration": 0,
    "start_time": "2023-08-31T12:48:00.769Z"
   },
   {
    "duration": 0,
    "start_time": "2023-08-31T12:48:00.770Z"
   },
   {
    "duration": 0,
    "start_time": "2023-08-31T12:48:00.771Z"
   },
   {
    "duration": 0,
    "start_time": "2023-08-31T12:48:00.772Z"
   },
   {
    "duration": 0,
    "start_time": "2023-08-31T12:48:00.773Z"
   },
   {
    "duration": 0,
    "start_time": "2023-08-31T12:48:00.774Z"
   },
   {
    "duration": 0,
    "start_time": "2023-08-31T12:48:00.775Z"
   },
   {
    "duration": 0,
    "start_time": "2023-08-31T12:48:00.776Z"
   },
   {
    "duration": 0,
    "start_time": "2023-08-31T12:48:00.778Z"
   },
   {
    "duration": 0,
    "start_time": "2023-08-31T12:48:00.779Z"
   },
   {
    "duration": 0,
    "start_time": "2023-08-31T12:48:00.780Z"
   },
   {
    "duration": 0,
    "start_time": "2023-08-31T12:48:00.782Z"
   },
   {
    "duration": 0,
    "start_time": "2023-08-31T12:48:00.783Z"
   },
   {
    "duration": 0,
    "start_time": "2023-08-31T12:48:00.784Z"
   },
   {
    "duration": 0,
    "start_time": "2023-08-31T12:48:00.785Z"
   },
   {
    "duration": 1,
    "start_time": "2023-08-31T12:48:00.785Z"
   },
   {
    "duration": 0,
    "start_time": "2023-08-31T12:48:00.786Z"
   },
   {
    "duration": 0,
    "start_time": "2023-08-31T12:48:00.787Z"
   },
   {
    "duration": 0,
    "start_time": "2023-08-31T12:48:00.789Z"
   },
   {
    "duration": 0,
    "start_time": "2023-08-31T12:48:00.790Z"
   },
   {
    "duration": 0,
    "start_time": "2023-08-31T12:48:00.791Z"
   },
   {
    "duration": 0,
    "start_time": "2023-08-31T12:48:00.792Z"
   },
   {
    "duration": 0,
    "start_time": "2023-08-31T12:48:00.793Z"
   },
   {
    "duration": 0,
    "start_time": "2023-08-31T12:48:00.794Z"
   },
   {
    "duration": 0,
    "start_time": "2023-08-31T12:48:00.795Z"
   },
   {
    "duration": 0,
    "start_time": "2023-08-31T12:48:00.796Z"
   },
   {
    "duration": 0,
    "start_time": "2023-08-31T12:48:00.797Z"
   },
   {
    "duration": 0,
    "start_time": "2023-08-31T12:48:00.798Z"
   },
   {
    "duration": 0,
    "start_time": "2023-08-31T12:48:00.799Z"
   },
   {
    "duration": 0,
    "start_time": "2023-08-31T12:48:00.800Z"
   },
   {
    "duration": 1805,
    "start_time": "2023-08-31T12:48:33.452Z"
   },
   {
    "duration": 901,
    "start_time": "2023-08-31T12:48:35.259Z"
   },
   {
    "duration": 203,
    "start_time": "2023-08-31T12:48:36.162Z"
   },
   {
    "duration": 319,
    "start_time": "2023-08-31T12:48:36.369Z"
   },
   {
    "duration": 283,
    "start_time": "2023-08-31T12:48:36.690Z"
   },
   {
    "duration": 163,
    "start_time": "2023-08-31T12:48:36.975Z"
   },
   {
    "duration": 20,
    "start_time": "2023-08-31T12:48:37.140Z"
   },
   {
    "duration": 112,
    "start_time": "2023-08-31T12:48:37.162Z"
   },
   {
    "duration": 138,
    "start_time": "2023-08-31T12:48:37.276Z"
   },
   {
    "duration": 20,
    "start_time": "2023-08-31T12:48:37.418Z"
   },
   {
    "duration": 10,
    "start_time": "2023-08-31T12:48:37.440Z"
   },
   {
    "duration": 8,
    "start_time": "2023-08-31T12:48:37.452Z"
   },
   {
    "duration": 294,
    "start_time": "2023-08-31T12:48:37.461Z"
   },
   {
    "duration": 98,
    "start_time": "2023-08-31T12:48:37.757Z"
   },
   {
    "duration": 124,
    "start_time": "2023-08-31T12:48:37.857Z"
   },
   {
    "duration": 38,
    "start_time": "2023-08-31T12:48:37.983Z"
   },
   {
    "duration": 7,
    "start_time": "2023-08-31T12:48:38.028Z"
   },
   {
    "duration": 33,
    "start_time": "2023-08-31T12:48:38.038Z"
   },
   {
    "duration": 7,
    "start_time": "2023-08-31T12:48:38.073Z"
   },
   {
    "duration": 7,
    "start_time": "2023-08-31T12:48:38.082Z"
   },
   {
    "duration": 22,
    "start_time": "2023-08-31T12:48:38.091Z"
   },
   {
    "duration": 32,
    "start_time": "2023-08-31T12:48:38.114Z"
   },
   {
    "duration": 10,
    "start_time": "2023-08-31T12:48:38.148Z"
   },
   {
    "duration": 139195,
    "start_time": "2023-08-31T12:48:38.160Z"
   },
   {
    "duration": 9,
    "start_time": "2023-08-31T12:50:57.357Z"
   },
   {
    "duration": 2518,
    "start_time": "2023-08-31T12:50:57.368Z"
   },
   {
    "duration": 47,
    "start_time": "2023-08-31T12:50:59.888Z"
   },
   {
    "duration": 33,
    "start_time": "2023-08-31T12:50:59.942Z"
   },
   {
    "duration": 39,
    "start_time": "2023-08-31T12:50:59.978Z"
   },
   {
    "duration": 34,
    "start_time": "2023-08-31T12:51:00.020Z"
   },
   {
    "duration": 40,
    "start_time": "2023-08-31T12:51:00.056Z"
   },
   {
    "duration": 43,
    "start_time": "2023-08-31T12:51:00.098Z"
   },
   {
    "duration": 66,
    "start_time": "2023-08-31T12:51:00.143Z"
   },
   {
    "duration": 59,
    "start_time": "2023-08-31T12:51:00.213Z"
   },
   {
    "duration": 2048,
    "start_time": "2023-08-31T12:51:00.274Z"
   },
   {
    "duration": 18,
    "start_time": "2023-08-31T12:51:02.323Z"
   },
   {
    "duration": 59,
    "start_time": "2023-08-31T12:51:02.343Z"
   },
   {
    "duration": 40,
    "start_time": "2023-08-31T12:51:02.404Z"
   },
   {
    "duration": 60,
    "start_time": "2023-08-31T12:51:02.446Z"
   },
   {
    "duration": 33,
    "start_time": "2023-08-31T12:51:02.508Z"
   },
   {
    "duration": 45,
    "start_time": "2023-08-31T12:51:02.543Z"
   },
   {
    "duration": 48,
    "start_time": "2023-08-31T12:51:02.590Z"
   },
   {
    "duration": 1183,
    "start_time": "2023-08-31T12:51:02.640Z"
   },
   {
    "duration": 98,
    "start_time": "2023-08-31T12:51:03.825Z"
   },
   {
    "duration": 5,
    "start_time": "2023-08-31T12:51:03.925Z"
   },
   {
    "duration": 44,
    "start_time": "2023-08-31T12:51:03.932Z"
   },
   {
    "duration": 5,
    "start_time": "2023-08-31T12:51:03.978Z"
   },
   {
    "duration": 44,
    "start_time": "2023-08-31T12:51:03.984Z"
   },
   {
    "duration": 8,
    "start_time": "2023-08-31T12:51:04.030Z"
   },
   {
    "duration": 24,
    "start_time": "2023-08-31T12:51:04.040Z"
   },
   {
    "duration": 4644,
    "start_time": "2023-08-31T12:51:04.066Z"
   },
   {
    "duration": 1650,
    "start_time": "2023-08-31T12:51:12.674Z"
   },
   {
    "duration": 948,
    "start_time": "2023-08-31T12:51:14.327Z"
   },
   {
    "duration": 185,
    "start_time": "2023-08-31T12:51:15.277Z"
   },
   {
    "duration": 304,
    "start_time": "2023-08-31T12:51:15.465Z"
   },
   {
    "duration": 274,
    "start_time": "2023-08-31T12:51:15.771Z"
   },
   {
    "duration": 146,
    "start_time": "2023-08-31T12:51:16.047Z"
   },
   {
    "duration": 26,
    "start_time": "2023-08-31T12:51:16.194Z"
   },
   {
    "duration": 18,
    "start_time": "2023-08-31T12:51:16.222Z"
   },
   {
    "duration": 14,
    "start_time": "2023-08-31T12:51:16.242Z"
   },
   {
    "duration": 50,
    "start_time": "2023-08-31T12:51:16.258Z"
   },
   {
    "duration": 12,
    "start_time": "2023-08-31T12:51:16.312Z"
   },
   {
    "duration": 8,
    "start_time": "2023-08-31T12:51:16.329Z"
   },
   {
    "duration": 284,
    "start_time": "2023-08-31T12:51:16.339Z"
   },
   {
    "duration": 67,
    "start_time": "2023-08-31T12:51:16.630Z"
   },
   {
    "duration": 71,
    "start_time": "2023-08-31T12:51:16.699Z"
   },
   {
    "duration": 54,
    "start_time": "2023-08-31T12:51:16.771Z"
   },
   {
    "duration": 3,
    "start_time": "2023-08-31T12:51:16.827Z"
   },
   {
    "duration": 24,
    "start_time": "2023-08-31T12:51:16.832Z"
   },
   {
    "duration": 9,
    "start_time": "2023-08-31T12:51:16.858Z"
   },
   {
    "duration": 11,
    "start_time": "2023-08-31T12:51:16.869Z"
   },
   {
    "duration": 49,
    "start_time": "2023-08-31T12:51:16.882Z"
   },
   {
    "duration": 23,
    "start_time": "2023-08-31T12:51:16.933Z"
   },
   {
    "duration": 8,
    "start_time": "2023-08-31T12:51:16.958Z"
   },
   {
    "duration": 174564,
    "start_time": "2023-08-31T12:51:16.967Z"
   },
   {
    "duration": 12,
    "start_time": "2023-08-31T12:54:11.537Z"
   },
   {
    "duration": 0,
    "start_time": "2023-08-31T12:57:12.850Z"
   },
   {
    "duration": 4,
    "start_time": "2023-08-31T12:57:20.935Z"
   },
   {
    "duration": 32,
    "start_time": "2023-08-31T12:57:23.694Z"
   },
   {
    "duration": 10089,
    "start_time": "2023-08-31T13:00:58.656Z"
   },
   {
    "duration": 26,
    "start_time": "2023-08-31T13:01:36.608Z"
   },
   {
    "duration": 13,
    "start_time": "2023-08-31T13:01:37.418Z"
   },
   {
    "duration": 2583,
    "start_time": "2023-08-31T13:01:48.698Z"
   },
   {
    "duration": 104,
    "start_time": "2023-08-31T14:04:53.779Z"
   },
   {
    "duration": 1716,
    "start_time": "2023-08-31T14:04:59.978Z"
   },
   {
    "duration": 935,
    "start_time": "2023-08-31T14:05:01.697Z"
   },
   {
    "duration": 204,
    "start_time": "2023-08-31T14:05:02.637Z"
   },
   {
    "duration": 310,
    "start_time": "2023-08-31T14:05:02.844Z"
   },
   {
    "duration": 276,
    "start_time": "2023-08-31T14:05:03.156Z"
   },
   {
    "duration": 144,
    "start_time": "2023-08-31T14:05:03.433Z"
   },
   {
    "duration": 29,
    "start_time": "2023-08-31T14:05:03.579Z"
   },
   {
    "duration": 28,
    "start_time": "2023-08-31T14:05:03.611Z"
   },
   {
    "duration": 64,
    "start_time": "2023-08-31T14:05:03.641Z"
   },
   {
    "duration": 52,
    "start_time": "2023-08-31T14:05:03.707Z"
   },
   {
    "duration": 200,
    "start_time": "2023-08-31T14:05:03.760Z"
   },
   {
    "duration": 61,
    "start_time": "2023-08-31T14:05:03.963Z"
   },
   {
    "duration": 245,
    "start_time": "2023-08-31T14:05:04.030Z"
   },
   {
    "duration": 91,
    "start_time": "2023-08-31T14:05:04.277Z"
   },
   {
    "duration": 76,
    "start_time": "2023-08-31T14:05:04.370Z"
   },
   {
    "duration": 22,
    "start_time": "2023-08-31T14:05:04.448Z"
   },
   {
    "duration": 2,
    "start_time": "2023-08-31T14:05:04.472Z"
   },
   {
    "duration": 137,
    "start_time": "2023-08-31T14:05:04.476Z"
   },
   {
    "duration": 12,
    "start_time": "2023-08-31T14:05:04.620Z"
   },
   {
    "duration": 62,
    "start_time": "2023-08-31T14:05:04.636Z"
   },
   {
    "duration": 41,
    "start_time": "2023-08-31T14:05:04.700Z"
   },
   {
    "duration": 56,
    "start_time": "2023-08-31T14:05:04.743Z"
   },
   {
    "duration": 2284,
    "start_time": "2023-08-31T14:05:04.801Z"
   },
   {
    "duration": 44,
    "start_time": "2023-08-31T14:05:07.088Z"
   },
   {
    "duration": 24,
    "start_time": "2023-08-31T14:05:07.134Z"
   },
   {
    "duration": 53,
    "start_time": "2023-08-31T14:05:07.160Z"
   },
   {
    "duration": 28,
    "start_time": "2023-08-31T14:05:07.215Z"
   },
   {
    "duration": 9,
    "start_time": "2023-08-31T14:05:07.247Z"
   },
   {
    "duration": 69,
    "start_time": "2023-08-31T14:05:07.258Z"
   },
   {
    "duration": 32,
    "start_time": "2023-08-31T14:05:07.329Z"
   },
   {
    "duration": 45,
    "start_time": "2023-08-31T14:05:07.363Z"
   },
   {
    "duration": 2020,
    "start_time": "2023-08-31T14:05:07.410Z"
   },
   {
    "duration": 15,
    "start_time": "2023-08-31T14:05:09.432Z"
   },
   {
    "duration": 14,
    "start_time": "2023-08-31T14:05:09.449Z"
   },
   {
    "duration": 44,
    "start_time": "2023-08-31T14:05:09.465Z"
   },
   {
    "duration": 15,
    "start_time": "2023-08-31T14:05:09.514Z"
   },
   {
    "duration": 17,
    "start_time": "2023-08-31T14:05:09.535Z"
   },
   {
    "duration": 22,
    "start_time": "2023-08-31T14:05:09.554Z"
   },
   {
    "duration": 12,
    "start_time": "2023-08-31T14:05:09.578Z"
   },
   {
    "duration": 1161,
    "start_time": "2023-08-31T14:05:09.592Z"
   },
   {
    "duration": 111,
    "start_time": "2023-08-31T14:05:10.756Z"
   },
   {
    "duration": 7,
    "start_time": "2023-08-31T14:05:10.869Z"
   },
   {
    "duration": 51,
    "start_time": "2023-08-31T14:05:10.878Z"
   },
   {
    "duration": 4,
    "start_time": "2023-08-31T14:05:10.934Z"
   },
   {
    "duration": 35,
    "start_time": "2023-08-31T14:05:10.940Z"
   },
   {
    "duration": 7,
    "start_time": "2023-08-31T14:05:10.977Z"
   },
   {
    "duration": 9,
    "start_time": "2023-08-31T14:05:10.985Z"
   },
   {
    "duration": 2510,
    "start_time": "2023-08-31T14:05:10.995Z"
   },
   {
    "duration": 12840,
    "start_time": "2023-08-31T14:05:13.507Z"
   },
   {
    "duration": 0,
    "start_time": "2023-08-31T14:05:26.349Z"
   },
   {
    "duration": 0,
    "start_time": "2023-08-31T14:05:26.351Z"
   },
   {
    "duration": 0,
    "start_time": "2023-08-31T14:05:26.352Z"
   },
   {
    "duration": 0,
    "start_time": "2023-08-31T14:05:26.353Z"
   },
   {
    "duration": 0,
    "start_time": "2023-08-31T14:05:26.355Z"
   },
   {
    "duration": 0,
    "start_time": "2023-08-31T14:05:26.356Z"
   },
   {
    "duration": 0,
    "start_time": "2023-08-31T14:05:26.357Z"
   },
   {
    "duration": 109,
    "start_time": "2023-08-31T14:07:28.074Z"
   },
   {
    "duration": 103,
    "start_time": "2023-08-31T14:09:16.139Z"
   },
   {
    "duration": 116,
    "start_time": "2023-08-31T14:09:30.712Z"
   },
   {
    "duration": 114,
    "start_time": "2023-08-31T14:10:00.095Z"
   },
   {
    "duration": 213,
    "start_time": "2023-08-31T14:10:11.582Z"
   },
   {
    "duration": 200,
    "start_time": "2023-08-31T14:11:36.697Z"
   },
   {
    "duration": 36,
    "start_time": "2023-08-31T14:11:54.897Z"
   },
   {
    "duration": 167,
    "start_time": "2023-08-31T14:12:15.172Z"
   },
   {
    "duration": 131,
    "start_time": "2023-08-31T14:12:19.722Z"
   },
   {
    "duration": 120,
    "start_time": "2023-08-31T14:12:41.967Z"
   },
   {
    "duration": 145,
    "start_time": "2023-08-31T14:12:51.983Z"
   },
   {
    "duration": 12,
    "start_time": "2023-08-31T14:14:51.877Z"
   },
   {
    "duration": 31,
    "start_time": "2023-08-31T14:15:00.227Z"
   },
   {
    "duration": 42,
    "start_time": "2023-08-31T14:15:09.181Z"
   },
   {
    "duration": 56,
    "start_time": "2023-08-31T14:15:11.995Z"
   },
   {
    "duration": 253,
    "start_time": "2023-08-31T14:15:35.595Z"
   },
   {
    "duration": 31,
    "start_time": "2023-08-31T14:15:46.150Z"
   },
   {
    "duration": 35,
    "start_time": "2023-08-31T14:15:51.665Z"
   },
   {
    "duration": 45,
    "start_time": "2023-08-31T14:16:05.117Z"
   },
   {
    "duration": 36,
    "start_time": "2023-08-31T14:17:25.110Z"
   },
   {
    "duration": 29,
    "start_time": "2023-08-31T14:17:48.849Z"
   },
   {
    "duration": 43,
    "start_time": "2023-08-31T14:17:57.795Z"
   },
   {
    "duration": 61,
    "start_time": "2023-08-31T14:18:07.536Z"
   },
   {
    "duration": 129,
    "start_time": "2023-08-31T14:18:34.224Z"
   },
   {
    "duration": 161,
    "start_time": "2023-08-31T14:18:51.631Z"
   },
   {
    "duration": 143,
    "start_time": "2023-08-31T14:18:54.232Z"
   },
   {
    "duration": 148,
    "start_time": "2023-08-31T14:20:22.278Z"
   },
   {
    "duration": 145,
    "start_time": "2023-08-31T14:21:22.925Z"
   },
   {
    "duration": 130,
    "start_time": "2023-08-31T14:22:06.528Z"
   },
   {
    "duration": 52,
    "start_time": "2023-08-31T14:22:31.370Z"
   },
   {
    "duration": 162,
    "start_time": "2023-08-31T14:22:41.634Z"
   },
   {
    "duration": 162,
    "start_time": "2023-08-31T14:23:52.041Z"
   },
   {
    "duration": 160,
    "start_time": "2023-08-31T14:26:38.034Z"
   },
   {
    "duration": 138,
    "start_time": "2023-08-31T14:27:05.289Z"
   },
   {
    "duration": 1680,
    "start_time": "2023-08-31T14:33:51.087Z"
   },
   {
    "duration": 1551,
    "start_time": "2023-08-31T14:33:52.769Z"
   },
   {
    "duration": 488,
    "start_time": "2023-08-31T14:33:54.322Z"
   },
   {
    "duration": 708,
    "start_time": "2023-08-31T14:33:54.813Z"
   },
   {
    "duration": 364,
    "start_time": "2023-08-31T14:33:55.525Z"
   },
   {
    "duration": 164,
    "start_time": "2023-08-31T14:33:55.891Z"
   },
   {
    "duration": 21,
    "start_time": "2023-08-31T14:33:56.057Z"
   },
   {
    "duration": 50,
    "start_time": "2023-08-31T14:33:56.080Z"
   },
   {
    "duration": 16,
    "start_time": "2023-08-31T14:33:56.132Z"
   },
   {
    "duration": 13,
    "start_time": "2023-08-31T14:33:56.151Z"
   },
   {
    "duration": 10,
    "start_time": "2023-08-31T14:33:56.165Z"
   },
   {
    "duration": 40,
    "start_time": "2023-08-31T14:33:56.177Z"
   },
   {
    "duration": 247,
    "start_time": "2023-08-31T14:33:56.222Z"
   },
   {
    "duration": 85,
    "start_time": "2023-08-31T14:33:56.471Z"
   },
   {
    "duration": 81,
    "start_time": "2023-08-31T14:33:56.558Z"
   },
   {
    "duration": 22,
    "start_time": "2023-08-31T14:33:56.641Z"
   },
   {
    "duration": 9,
    "start_time": "2023-08-31T14:33:56.665Z"
   },
   {
    "duration": 155,
    "start_time": "2023-08-31T14:33:56.675Z"
   },
   {
    "duration": 8,
    "start_time": "2023-08-31T14:33:56.832Z"
   },
   {
    "duration": 10,
    "start_time": "2023-08-31T14:33:56.842Z"
   },
   {
    "duration": 11,
    "start_time": "2023-08-31T14:33:56.854Z"
   },
   {
    "duration": 47,
    "start_time": "2023-08-31T14:33:56.867Z"
   },
   {
    "duration": 2294,
    "start_time": "2023-08-31T14:33:56.918Z"
   },
   {
    "duration": 36,
    "start_time": "2023-08-31T14:33:59.216Z"
   },
   {
    "duration": 24,
    "start_time": "2023-08-31T14:33:59.254Z"
   },
   {
    "duration": 43,
    "start_time": "2023-08-31T14:33:59.280Z"
   },
   {
    "duration": 24,
    "start_time": "2023-08-31T14:33:59.327Z"
   },
   {
    "duration": 9,
    "start_time": "2023-08-31T14:33:59.355Z"
   },
   {
    "duration": 16,
    "start_time": "2023-08-31T14:33:59.365Z"
   },
   {
    "duration": 38,
    "start_time": "2023-08-31T14:33:59.382Z"
   },
   {
    "duration": 14,
    "start_time": "2023-08-31T14:33:59.426Z"
   },
   {
    "duration": 2080,
    "start_time": "2023-08-31T14:33:59.442Z"
   },
   {
    "duration": 15,
    "start_time": "2023-08-31T14:34:01.527Z"
   },
   {
    "duration": 88,
    "start_time": "2023-08-31T14:34:01.544Z"
   },
   {
    "duration": 41,
    "start_time": "2023-08-31T14:34:01.634Z"
   },
   {
    "duration": 345,
    "start_time": "2023-08-31T14:34:01.677Z"
   },
   {
    "duration": 490,
    "start_time": "2023-08-31T14:34:02.023Z"
   },
   {
    "duration": 41,
    "start_time": "2023-08-31T14:34:02.515Z"
   },
   {
    "duration": 29,
    "start_time": "2023-08-31T14:34:02.558Z"
   },
   {
    "duration": 627,
    "start_time": "2023-08-31T14:34:02.589Z"
   },
   {
    "duration": 0,
    "start_time": "2023-08-31T14:34:03.220Z"
   },
   {
    "duration": 0,
    "start_time": "2023-08-31T14:34:03.224Z"
   },
   {
    "duration": 0,
    "start_time": "2023-08-31T14:34:03.225Z"
   },
   {
    "duration": 0,
    "start_time": "2023-08-31T14:34:03.226Z"
   },
   {
    "duration": 0,
    "start_time": "2023-08-31T14:34:03.227Z"
   },
   {
    "duration": 0,
    "start_time": "2023-08-31T14:34:03.228Z"
   },
   {
    "duration": 0,
    "start_time": "2023-08-31T14:34:03.229Z"
   },
   {
    "duration": 0,
    "start_time": "2023-08-31T14:34:03.231Z"
   },
   {
    "duration": 0,
    "start_time": "2023-08-31T14:34:03.232Z"
   },
   {
    "duration": 0,
    "start_time": "2023-08-31T14:34:03.233Z"
   },
   {
    "duration": 0,
    "start_time": "2023-08-31T14:34:03.234Z"
   },
   {
    "duration": 0,
    "start_time": "2023-08-31T14:34:03.235Z"
   },
   {
    "duration": 0,
    "start_time": "2023-08-31T14:34:03.236Z"
   },
   {
    "duration": 0,
    "start_time": "2023-08-31T14:34:03.237Z"
   },
   {
    "duration": 0,
    "start_time": "2023-08-31T14:34:03.238Z"
   },
   {
    "duration": 0,
    "start_time": "2023-08-31T14:34:03.239Z"
   },
   {
    "duration": 38,
    "start_time": "2023-08-31T14:40:20.719Z"
   },
   {
    "duration": 167,
    "start_time": "2023-08-31T14:40:33.453Z"
   },
   {
    "duration": 23,
    "start_time": "2023-08-31T14:42:22.815Z"
   },
   {
    "duration": 240,
    "start_time": "2023-08-31T14:42:28.096Z"
   },
   {
    "duration": 1619,
    "start_time": "2023-08-31T14:42:45.487Z"
   },
   {
    "duration": 881,
    "start_time": "2023-08-31T14:42:47.112Z"
   },
   {
    "duration": 185,
    "start_time": "2023-08-31T14:42:47.995Z"
   },
   {
    "duration": 298,
    "start_time": "2023-08-31T14:42:48.182Z"
   },
   {
    "duration": 299,
    "start_time": "2023-08-31T14:42:48.482Z"
   },
   {
    "duration": 153,
    "start_time": "2023-08-31T14:42:48.783Z"
   },
   {
    "duration": 18,
    "start_time": "2023-08-31T14:42:48.937Z"
   },
   {
    "duration": 74,
    "start_time": "2023-08-31T14:42:48.957Z"
   },
   {
    "duration": 13,
    "start_time": "2023-08-31T14:42:49.033Z"
   },
   {
    "duration": 11,
    "start_time": "2023-08-31T14:42:49.049Z"
   },
   {
    "duration": 12,
    "start_time": "2023-08-31T14:42:49.062Z"
   },
   {
    "duration": 17,
    "start_time": "2023-08-31T14:42:49.076Z"
   },
   {
    "duration": 238,
    "start_time": "2023-08-31T14:42:49.106Z"
   },
   {
    "duration": 78,
    "start_time": "2023-08-31T14:42:49.346Z"
   },
   {
    "duration": 91,
    "start_time": "2023-08-31T14:42:49.426Z"
   },
   {
    "duration": 24,
    "start_time": "2023-08-31T14:42:49.518Z"
   },
   {
    "duration": 17,
    "start_time": "2023-08-31T14:42:49.544Z"
   },
   {
    "duration": 159,
    "start_time": "2023-08-31T14:42:49.563Z"
   },
   {
    "duration": 7,
    "start_time": "2023-08-31T14:42:49.724Z"
   },
   {
    "duration": 26,
    "start_time": "2023-08-31T14:42:49.732Z"
   },
   {
    "duration": 31,
    "start_time": "2023-08-31T14:42:49.760Z"
   },
   {
    "duration": 26,
    "start_time": "2023-08-31T14:42:49.793Z"
   },
   {
    "duration": 2274,
    "start_time": "2023-08-31T14:42:49.821Z"
   },
   {
    "duration": 26,
    "start_time": "2023-08-31T14:42:52.100Z"
   },
   {
    "duration": 33,
    "start_time": "2023-08-31T14:42:52.128Z"
   },
   {
    "duration": 65,
    "start_time": "2023-08-31T14:42:52.162Z"
   },
   {
    "duration": 36,
    "start_time": "2023-08-31T14:42:52.228Z"
   },
   {
    "duration": 11,
    "start_time": "2023-08-31T14:42:52.268Z"
   },
   {
    "duration": 54,
    "start_time": "2023-08-31T14:42:52.281Z"
   },
   {
    "duration": 34,
    "start_time": "2023-08-31T14:42:52.337Z"
   },
   {
    "duration": 51,
    "start_time": "2023-08-31T14:42:52.373Z"
   },
   {
    "duration": 3394,
    "start_time": "2023-08-31T14:42:52.426Z"
   },
   {
    "duration": 15,
    "start_time": "2023-08-31T14:42:55.821Z"
   },
   {
    "duration": 13,
    "start_time": "2023-08-31T14:42:55.837Z"
   },
   {
    "duration": 7,
    "start_time": "2023-08-31T14:42:55.852Z"
   },
   {
    "duration": 10,
    "start_time": "2023-08-31T14:42:55.861Z"
   },
   {
    "duration": 9,
    "start_time": "2023-08-31T14:42:55.906Z"
   },
   {
    "duration": 32,
    "start_time": "2023-08-31T14:42:55.917Z"
   },
   {
    "duration": 22,
    "start_time": "2023-08-31T14:42:55.951Z"
   },
   {
    "duration": 1318,
    "start_time": "2023-08-31T14:42:55.975Z"
   },
   {
    "duration": 122,
    "start_time": "2023-08-31T14:42:57.295Z"
   },
   {
    "duration": 8,
    "start_time": "2023-08-31T14:42:57.420Z"
   },
   {
    "duration": 40,
    "start_time": "2023-08-31T14:42:57.430Z"
   },
   {
    "duration": 61,
    "start_time": "2023-08-31T14:42:57.472Z"
   },
   {
    "duration": 69,
    "start_time": "2023-08-31T14:42:57.535Z"
   },
   {
    "duration": 6,
    "start_time": "2023-08-31T14:42:57.606Z"
   },
   {
    "duration": 34,
    "start_time": "2023-08-31T14:42:57.613Z"
   },
   {
    "duration": 1817,
    "start_time": "2023-08-31T14:42:57.649Z"
   },
   {
    "duration": 0,
    "start_time": "2023-08-31T14:42:59.468Z"
   },
   {
    "duration": 0,
    "start_time": "2023-08-31T14:42:59.470Z"
   },
   {
    "duration": 0,
    "start_time": "2023-08-31T14:42:59.471Z"
   },
   {
    "duration": 0,
    "start_time": "2023-08-31T14:42:59.473Z"
   },
   {
    "duration": 0,
    "start_time": "2023-08-31T14:42:59.475Z"
   },
   {
    "duration": 0,
    "start_time": "2023-08-31T14:42:59.477Z"
   },
   {
    "duration": 0,
    "start_time": "2023-08-31T14:42:59.478Z"
   },
   {
    "duration": 0,
    "start_time": "2023-08-31T14:42:59.480Z"
   },
   {
    "duration": 219,
    "start_time": "2023-08-31T14:44:56.342Z"
   },
   {
    "duration": 1756,
    "start_time": "2023-08-31T14:45:00.941Z"
   },
   {
    "duration": 952,
    "start_time": "2023-08-31T14:45:02.706Z"
   },
   {
    "duration": 184,
    "start_time": "2023-08-31T14:45:03.660Z"
   },
   {
    "duration": 317,
    "start_time": "2023-08-31T14:45:03.846Z"
   },
   {
    "duration": 301,
    "start_time": "2023-08-31T14:45:04.165Z"
   },
   {
    "duration": 172,
    "start_time": "2023-08-31T14:45:04.468Z"
   },
   {
    "duration": 22,
    "start_time": "2023-08-31T14:45:04.642Z"
   },
   {
    "duration": 49,
    "start_time": "2023-08-31T14:45:04.666Z"
   },
   {
    "duration": 39,
    "start_time": "2023-08-31T14:45:04.717Z"
   },
   {
    "duration": 17,
    "start_time": "2023-08-31T14:45:04.760Z"
   },
   {
    "duration": 12,
    "start_time": "2023-08-31T14:45:04.779Z"
   },
   {
    "duration": 46,
    "start_time": "2023-08-31T14:45:04.793Z"
   },
   {
    "duration": 468,
    "start_time": "2023-08-31T14:45:04.842Z"
   },
   {
    "duration": 134,
    "start_time": "2023-08-31T14:45:05.312Z"
   },
   {
    "duration": 185,
    "start_time": "2023-08-31T14:45:05.448Z"
   },
   {
    "duration": 76,
    "start_time": "2023-08-31T14:45:05.640Z"
   },
   {
    "duration": 11,
    "start_time": "2023-08-31T14:45:05.718Z"
   },
   {
    "duration": 512,
    "start_time": "2023-08-31T14:45:05.731Z"
   },
   {
    "duration": 57,
    "start_time": "2023-08-31T14:45:06.245Z"
   },
   {
    "duration": 10,
    "start_time": "2023-08-31T14:45:06.306Z"
   },
   {
    "duration": 21,
    "start_time": "2023-08-31T14:45:06.318Z"
   },
   {
    "duration": 78,
    "start_time": "2023-08-31T14:45:06.341Z"
   },
   {
    "duration": 3149,
    "start_time": "2023-08-31T14:45:06.421Z"
   },
   {
    "duration": 46,
    "start_time": "2023-08-31T14:45:09.572Z"
   },
   {
    "duration": 27,
    "start_time": "2023-08-31T14:45:09.620Z"
   },
   {
    "duration": 25,
    "start_time": "2023-08-31T14:45:09.648Z"
   },
   {
    "duration": 53,
    "start_time": "2023-08-31T14:45:09.675Z"
   },
   {
    "duration": 10,
    "start_time": "2023-08-31T14:45:09.734Z"
   },
   {
    "duration": 33,
    "start_time": "2023-08-31T14:45:09.746Z"
   },
   {
    "duration": 20,
    "start_time": "2023-08-31T14:45:09.780Z"
   },
   {
    "duration": 29,
    "start_time": "2023-08-31T14:45:09.805Z"
   },
   {
    "duration": 1797,
    "start_time": "2023-08-31T14:45:09.836Z"
   },
   {
    "duration": 17,
    "start_time": "2023-08-31T14:45:11.635Z"
   },
   {
    "duration": 27,
    "start_time": "2023-08-31T14:45:11.654Z"
   },
   {
    "duration": 7,
    "start_time": "2023-08-31T14:45:11.683Z"
   },
   {
    "duration": 26,
    "start_time": "2023-08-31T14:45:11.692Z"
   },
   {
    "duration": 39,
    "start_time": "2023-08-31T14:45:11.730Z"
   },
   {
    "duration": 12,
    "start_time": "2023-08-31T14:45:11.772Z"
   },
   {
    "duration": 48,
    "start_time": "2023-08-31T14:45:11.786Z"
   },
   {
    "duration": 1227,
    "start_time": "2023-08-31T14:45:11.836Z"
   },
   {
    "duration": 117,
    "start_time": "2023-08-31T14:45:13.065Z"
   },
   {
    "duration": 7,
    "start_time": "2023-08-31T14:45:13.183Z"
   },
   {
    "duration": 60,
    "start_time": "2023-08-31T14:45:13.192Z"
   },
   {
    "duration": 25,
    "start_time": "2023-08-31T14:45:13.254Z"
   },
   {
    "duration": 73,
    "start_time": "2023-08-31T14:45:13.281Z"
   },
   {
    "duration": 17,
    "start_time": "2023-08-31T14:45:13.356Z"
   },
   {
    "duration": 12,
    "start_time": "2023-08-31T14:45:13.375Z"
   },
   {
    "duration": 2328,
    "start_time": "2023-08-31T14:45:13.389Z"
   },
   {
    "duration": 1208,
    "start_time": "2023-08-31T14:45:15.721Z"
   },
   {
    "duration": 71,
    "start_time": "2023-08-31T14:45:16.935Z"
   },
   {
    "duration": 33721,
    "start_time": "2023-08-31T14:45:17.014Z"
   },
   {
    "duration": 1771,
    "start_time": "2023-08-31T14:45:50.737Z"
   },
   {
    "duration": 107343,
    "start_time": "2023-08-31T14:45:52.514Z"
   },
   {
    "duration": 0,
    "start_time": "2023-08-31T14:47:39.859Z"
   },
   {
    "duration": 0,
    "start_time": "2023-08-31T14:47:39.861Z"
   },
   {
    "duration": 0,
    "start_time": "2023-08-31T14:47:39.863Z"
   },
   {
    "duration": 216,
    "start_time": "2023-08-31T14:51:46.197Z"
   },
   {
    "duration": 1731,
    "start_time": "2023-08-31T14:51:53.924Z"
   },
   {
    "duration": 915,
    "start_time": "2023-08-31T14:51:55.657Z"
   },
   {
    "duration": 194,
    "start_time": "2023-08-31T14:51:56.574Z"
   },
   {
    "duration": 303,
    "start_time": "2023-08-31T14:51:56.770Z"
   },
   {
    "duration": 284,
    "start_time": "2023-08-31T14:51:57.076Z"
   },
   {
    "duration": 150,
    "start_time": "2023-08-31T14:51:57.362Z"
   },
   {
    "duration": 22,
    "start_time": "2023-08-31T14:51:57.514Z"
   },
   {
    "duration": 27,
    "start_time": "2023-08-31T14:51:57.538Z"
   },
   {
    "duration": 13,
    "start_time": "2023-08-31T14:51:57.567Z"
   },
   {
    "duration": 46,
    "start_time": "2023-08-31T14:51:57.581Z"
   },
   {
    "duration": 11,
    "start_time": "2023-08-31T14:51:57.632Z"
   },
   {
    "duration": 17,
    "start_time": "2023-08-31T14:51:57.645Z"
   },
   {
    "duration": 277,
    "start_time": "2023-08-31T14:51:57.664Z"
   },
   {
    "duration": 87,
    "start_time": "2023-08-31T14:51:57.945Z"
   },
   {
    "duration": 96,
    "start_time": "2023-08-31T14:51:58.035Z"
   },
   {
    "duration": 22,
    "start_time": "2023-08-31T14:51:58.133Z"
   },
   {
    "duration": 3,
    "start_time": "2023-08-31T14:51:58.157Z"
   },
   {
    "duration": 32,
    "start_time": "2023-08-31T14:51:58.161Z"
   },
   {
    "duration": 15,
    "start_time": "2023-08-31T14:51:58.206Z"
   },
   {
    "duration": 6,
    "start_time": "2023-08-31T14:51:58.224Z"
   },
   {
    "duration": 6,
    "start_time": "2023-08-31T14:51:58.233Z"
   },
   {
    "duration": 25,
    "start_time": "2023-08-31T14:51:58.241Z"
   },
   {
    "duration": 250,
    "start_time": "2023-08-31T14:51:58.268Z"
   },
   {
    "duration": 10,
    "start_time": "2023-08-31T14:51:58.519Z"
   },
   {
    "duration": 2364,
    "start_time": "2023-08-31T14:51:58.531Z"
   },
   {
    "duration": 29,
    "start_time": "2023-08-31T14:52:00.902Z"
   },
   {
    "duration": 87,
    "start_time": "2023-08-31T14:52:00.933Z"
   },
   {
    "duration": 211,
    "start_time": "2023-08-31T14:52:01.023Z"
   },
   {
    "duration": 56,
    "start_time": "2023-08-31T14:52:01.236Z"
   },
   {
    "duration": 54,
    "start_time": "2023-08-31T14:52:01.294Z"
   },
   {
    "duration": 33,
    "start_time": "2023-08-31T14:52:01.350Z"
   },
   {
    "duration": 214,
    "start_time": "2023-08-31T14:52:01.385Z"
   },
   {
    "duration": 445,
    "start_time": "2023-08-31T14:52:01.601Z"
   },
   {
    "duration": 1992,
    "start_time": "2023-08-31T14:52:02.048Z"
   },
   {
    "duration": 13,
    "start_time": "2023-08-31T14:52:04.042Z"
   },
   {
    "duration": 32,
    "start_time": "2023-08-31T14:52:04.057Z"
   },
   {
    "duration": 68,
    "start_time": "2023-08-31T14:52:04.090Z"
   },
   {
    "duration": 52,
    "start_time": "2023-08-31T14:52:04.159Z"
   },
   {
    "duration": 11,
    "start_time": "2023-08-31T14:52:04.213Z"
   },
   {
    "duration": 45,
    "start_time": "2023-08-31T14:52:04.229Z"
   },
   {
    "duration": 19,
    "start_time": "2023-08-31T14:52:04.278Z"
   },
   {
    "duration": 1221,
    "start_time": "2023-08-31T14:52:04.301Z"
   },
   {
    "duration": 106,
    "start_time": "2023-08-31T14:52:05.526Z"
   },
   {
    "duration": 32,
    "start_time": "2023-08-31T14:52:05.634Z"
   },
   {
    "duration": 62,
    "start_time": "2023-08-31T14:52:05.667Z"
   },
   {
    "duration": 44,
    "start_time": "2023-08-31T14:52:05.731Z"
   },
   {
    "duration": 156,
    "start_time": "2023-08-31T14:52:05.777Z"
   },
   {
    "duration": 85,
    "start_time": "2023-08-31T14:52:05.935Z"
   },
   {
    "duration": 48,
    "start_time": "2023-08-31T14:52:06.021Z"
   },
   {
    "duration": 2033,
    "start_time": "2023-08-31T14:52:06.070Z"
   },
   {
    "duration": 1304,
    "start_time": "2023-08-31T14:52:08.106Z"
   },
   {
    "duration": 4,
    "start_time": "2023-08-31T14:52:09.416Z"
   },
   {
    "duration": 33871,
    "start_time": "2023-08-31T14:52:09.426Z"
   },
   {
    "duration": 1776,
    "start_time": "2023-08-31T14:52:43.298Z"
   },
   {
    "duration": 109755,
    "start_time": "2023-08-31T14:52:45.076Z"
   },
   {
    "duration": 0,
    "start_time": "2023-08-31T14:54:34.833Z"
   },
   {
    "duration": 0,
    "start_time": "2023-08-31T14:54:34.834Z"
   },
   {
    "duration": 0,
    "start_time": "2023-08-31T14:54:34.835Z"
   },
   {
    "duration": 0,
    "start_time": "2023-08-31T14:54:34.836Z"
   },
   {
    "duration": 119,
    "start_time": "2023-08-31T14:54:36.207Z"
   },
   {
    "duration": 82,
    "start_time": "2023-08-31T14:56:57.082Z"
   },
   {
    "duration": 3,
    "start_time": "2023-08-31T14:57:00.633Z"
   },
   {
    "duration": 9225,
    "start_time": "2023-08-31T14:57:01.715Z"
   },
   {
    "duration": 3,
    "start_time": "2023-08-31T14:57:42.658Z"
   },
   {
    "duration": 13985,
    "start_time": "2023-08-31T14:57:43.586Z"
   },
   {
    "duration": 737,
    "start_time": "2023-08-31T14:58:02.887Z"
   },
   {
    "duration": 8284,
    "start_time": "2023-08-31T15:00:05.391Z"
   },
   {
    "duration": 20327,
    "start_time": "2023-08-31T15:00:18.862Z"
   },
   {
    "duration": 27436,
    "start_time": "2023-08-31T15:00:40.522Z"
   },
   {
    "duration": 25563,
    "start_time": "2023-08-31T15:02:47.782Z"
   },
   {
    "duration": 727,
    "start_time": "2023-08-31T15:03:13.347Z"
   },
   {
    "duration": 7,
    "start_time": "2023-08-31T15:08:54.628Z"
   },
   {
    "duration": 3,
    "start_time": "2023-08-31T15:08:56.730Z"
   },
   {
    "duration": 6,
    "start_time": "2023-08-31T15:09:26.045Z"
   },
   {
    "duration": 4,
    "start_time": "2023-08-31T15:09:29.851Z"
   },
   {
    "duration": 1057,
    "start_time": "2023-08-31T15:09:33.551Z"
   },
   {
    "duration": 1594,
    "start_time": "2023-08-31T15:09:42.120Z"
   },
   {
    "duration": 876,
    "start_time": "2023-08-31T15:09:43.716Z"
   },
   {
    "duration": 230,
    "start_time": "2023-08-31T15:09:44.597Z"
   },
   {
    "duration": 294,
    "start_time": "2023-08-31T15:09:44.829Z"
   },
   {
    "duration": 255,
    "start_time": "2023-08-31T15:09:45.124Z"
   },
   {
    "duration": 146,
    "start_time": "2023-08-31T15:09:45.380Z"
   },
   {
    "duration": 17,
    "start_time": "2023-08-31T15:09:45.528Z"
   },
   {
    "duration": 16,
    "start_time": "2023-08-31T15:09:45.546Z"
   },
   {
    "duration": 38,
    "start_time": "2023-08-31T15:09:45.564Z"
   },
   {
    "duration": 12,
    "start_time": "2023-08-31T15:09:45.609Z"
   },
   {
    "duration": 22,
    "start_time": "2023-08-31T15:09:45.623Z"
   },
   {
    "duration": 10,
    "start_time": "2023-08-31T15:09:45.647Z"
   },
   {
    "duration": 237,
    "start_time": "2023-08-31T15:09:45.659Z"
   },
   {
    "duration": 69,
    "start_time": "2023-08-31T15:09:45.901Z"
   },
   {
    "duration": 102,
    "start_time": "2023-08-31T15:09:45.971Z"
   },
   {
    "duration": 22,
    "start_time": "2023-08-31T15:09:46.075Z"
   },
   {
    "duration": 2,
    "start_time": "2023-08-31T15:09:46.099Z"
   },
   {
    "duration": 37,
    "start_time": "2023-08-31T15:09:46.102Z"
   },
   {
    "duration": 6,
    "start_time": "2023-08-31T15:09:46.141Z"
   },
   {
    "duration": 12,
    "start_time": "2023-08-31T15:09:46.149Z"
   },
   {
    "duration": 11,
    "start_time": "2023-08-31T15:09:46.162Z"
   },
   {
    "duration": 36,
    "start_time": "2023-08-31T15:09:46.175Z"
   },
   {
    "duration": 214,
    "start_time": "2023-08-31T15:09:46.213Z"
   },
   {
    "duration": 4,
    "start_time": "2023-08-31T15:09:46.429Z"
   },
   {
    "duration": 2295,
    "start_time": "2023-08-31T15:09:46.436Z"
   },
   {
    "duration": 23,
    "start_time": "2023-08-31T15:09:48.733Z"
   },
   {
    "duration": 57,
    "start_time": "2023-08-31T15:09:48.760Z"
   },
   {
    "duration": 22,
    "start_time": "2023-08-31T15:09:48.818Z"
   },
   {
    "duration": 23,
    "start_time": "2023-08-31T15:09:48.842Z"
   },
   {
    "duration": 16,
    "start_time": "2023-08-31T15:09:48.866Z"
   },
   {
    "duration": 36,
    "start_time": "2023-08-31T15:09:48.884Z"
   },
   {
    "duration": 17,
    "start_time": "2023-08-31T15:09:48.922Z"
   },
   {
    "duration": 11,
    "start_time": "2023-08-31T15:09:48.940Z"
   },
   {
    "duration": 1756,
    "start_time": "2023-08-31T15:09:48.953Z"
   },
   {
    "duration": 14,
    "start_time": "2023-08-31T15:09:50.715Z"
   },
   {
    "duration": 48,
    "start_time": "2023-08-31T15:09:50.731Z"
   },
   {
    "duration": 55,
    "start_time": "2023-08-31T15:09:50.780Z"
   },
   {
    "duration": 24,
    "start_time": "2023-08-31T15:09:50.837Z"
   },
   {
    "duration": 50,
    "start_time": "2023-08-31T15:09:50.863Z"
   },
   {
    "duration": 25,
    "start_time": "2023-08-31T15:09:50.915Z"
   },
   {
    "duration": 28,
    "start_time": "2023-08-31T15:09:50.942Z"
   },
   {
    "duration": 1160,
    "start_time": "2023-08-31T15:09:50.972Z"
   },
   {
    "duration": 105,
    "start_time": "2023-08-31T15:09:52.134Z"
   },
   {
    "duration": 6,
    "start_time": "2023-08-31T15:09:52.241Z"
   },
   {
    "duration": 44,
    "start_time": "2023-08-31T15:09:52.249Z"
   },
   {
    "duration": 10,
    "start_time": "2023-08-31T15:09:52.295Z"
   },
   {
    "duration": 45,
    "start_time": "2023-08-31T15:09:52.308Z"
   },
   {
    "duration": 15,
    "start_time": "2023-08-31T15:09:52.355Z"
   },
   {
    "duration": 10,
    "start_time": "2023-08-31T15:09:52.372Z"
   },
   {
    "duration": 1218,
    "start_time": "2023-08-31T15:09:52.384Z"
   },
   {
    "duration": 1604,
    "start_time": "2023-08-31T15:09:53.604Z"
   },
   {
    "duration": 4,
    "start_time": "2023-08-31T15:09:55.210Z"
   },
   {
    "duration": 1350,
    "start_time": "2023-08-31T15:09:55.217Z"
   },
   {
    "duration": 1,
    "start_time": "2023-08-31T15:09:56.569Z"
   },
   {
    "duration": 0,
    "start_time": "2023-08-31T15:09:56.571Z"
   },
   {
    "duration": 0,
    "start_time": "2023-08-31T15:09:56.573Z"
   },
   {
    "duration": 0,
    "start_time": "2023-08-31T15:09:56.574Z"
   },
   {
    "duration": 0,
    "start_time": "2023-08-31T15:09:56.575Z"
   },
   {
    "duration": 5,
    "start_time": "2023-08-31T15:10:58.478Z"
   },
   {
    "duration": 3,
    "start_time": "2023-08-31T15:10:58.980Z"
   },
   {
    "duration": 1024,
    "start_time": "2023-08-31T15:11:02.479Z"
   },
   {
    "duration": 5,
    "start_time": "2023-08-31T15:12:17.229Z"
   },
   {
    "duration": 3,
    "start_time": "2023-08-31T15:12:17.917Z"
   },
   {
    "duration": 1141,
    "start_time": "2023-08-31T15:12:19.965Z"
   },
   {
    "duration": 4,
    "start_time": "2023-08-31T15:12:36.825Z"
   },
   {
    "duration": 3,
    "start_time": "2023-08-31T15:12:37.367Z"
   },
   {
    "duration": 964,
    "start_time": "2023-08-31T15:12:39.441Z"
   },
   {
    "duration": 1553,
    "start_time": "2023-08-31T15:13:11.620Z"
   },
   {
    "duration": 817,
    "start_time": "2023-08-31T15:13:13.175Z"
   },
   {
    "duration": 170,
    "start_time": "2023-08-31T15:13:13.994Z"
   },
   {
    "duration": 311,
    "start_time": "2023-08-31T15:13:14.166Z"
   },
   {
    "duration": 318,
    "start_time": "2023-08-31T15:13:14.479Z"
   },
   {
    "duration": 162,
    "start_time": "2023-08-31T15:13:14.803Z"
   },
   {
    "duration": 17,
    "start_time": "2023-08-31T15:13:14.967Z"
   },
   {
    "duration": 35,
    "start_time": "2023-08-31T15:13:14.986Z"
   },
   {
    "duration": 70,
    "start_time": "2023-08-31T15:13:15.022Z"
   },
   {
    "duration": 51,
    "start_time": "2023-08-31T15:13:15.093Z"
   },
   {
    "duration": 10,
    "start_time": "2023-08-31T15:13:15.146Z"
   },
   {
    "duration": 29,
    "start_time": "2023-08-31T15:13:15.157Z"
   },
   {
    "duration": 528,
    "start_time": "2023-08-31T15:13:15.188Z"
   },
   {
    "duration": 200,
    "start_time": "2023-08-31T15:13:15.721Z"
   },
   {
    "duration": 183,
    "start_time": "2023-08-31T15:13:15.923Z"
   },
   {
    "duration": 24,
    "start_time": "2023-08-31T15:13:16.109Z"
   },
   {
    "duration": 3,
    "start_time": "2023-08-31T15:13:16.135Z"
   },
   {
    "duration": 79,
    "start_time": "2023-08-31T15:13:16.139Z"
   },
   {
    "duration": 8,
    "start_time": "2023-08-31T15:13:16.219Z"
   },
   {
    "duration": 10,
    "start_time": "2023-08-31T15:13:16.229Z"
   },
   {
    "duration": 9,
    "start_time": "2023-08-31T15:13:16.241Z"
   },
   {
    "duration": 26,
    "start_time": "2023-08-31T15:13:16.301Z"
   },
   {
    "duration": 494,
    "start_time": "2023-08-31T15:13:16.329Z"
   },
   {
    "duration": 3,
    "start_time": "2023-08-31T15:13:16.825Z"
   },
   {
    "duration": 2465,
    "start_time": "2023-08-31T15:13:16.829Z"
   },
   {
    "duration": 36,
    "start_time": "2023-08-31T15:13:19.296Z"
   },
   {
    "duration": 22,
    "start_time": "2023-08-31T15:13:19.333Z"
   },
   {
    "duration": 37,
    "start_time": "2023-08-31T15:13:19.357Z"
   },
   {
    "duration": 29,
    "start_time": "2023-08-31T15:13:19.396Z"
   },
   {
    "duration": 12,
    "start_time": "2023-08-31T15:13:19.427Z"
   },
   {
    "duration": 14,
    "start_time": "2023-08-31T15:13:19.440Z"
   },
   {
    "duration": 30,
    "start_time": "2023-08-31T15:13:19.456Z"
   },
   {
    "duration": 17,
    "start_time": "2023-08-31T15:13:19.488Z"
   },
   {
    "duration": 1879,
    "start_time": "2023-08-31T15:13:19.506Z"
   },
   {
    "duration": 34,
    "start_time": "2023-08-31T15:13:21.387Z"
   },
   {
    "duration": 15,
    "start_time": "2023-08-31T15:13:21.423Z"
   },
   {
    "duration": 5,
    "start_time": "2023-08-31T15:13:21.440Z"
   },
   {
    "duration": 17,
    "start_time": "2023-08-31T15:13:21.447Z"
   },
   {
    "duration": 5,
    "start_time": "2023-08-31T15:13:21.466Z"
   },
   {
    "duration": 6,
    "start_time": "2023-08-31T15:13:21.473Z"
   },
   {
    "duration": 9,
    "start_time": "2023-08-31T15:13:21.509Z"
   },
   {
    "duration": 1134,
    "start_time": "2023-08-31T15:13:21.521Z"
   },
   {
    "duration": 97,
    "start_time": "2023-08-31T15:13:22.658Z"
   },
   {
    "duration": 7,
    "start_time": "2023-08-31T15:13:22.756Z"
   },
   {
    "duration": 39,
    "start_time": "2023-08-31T15:13:22.765Z"
   },
   {
    "duration": 13,
    "start_time": "2023-08-31T15:13:22.806Z"
   },
   {
    "duration": 29,
    "start_time": "2023-08-31T15:13:22.821Z"
   },
   {
    "duration": 5,
    "start_time": "2023-08-31T15:13:22.851Z"
   },
   {
    "duration": 33,
    "start_time": "2023-08-31T15:13:22.859Z"
   },
   {
    "duration": 3054,
    "start_time": "2023-08-31T15:13:22.893Z"
   },
   {
    "duration": 0,
    "start_time": "2023-08-31T15:13:25.949Z"
   },
   {
    "duration": 0,
    "start_time": "2023-08-31T15:13:25.951Z"
   },
   {
    "duration": 0,
    "start_time": "2023-08-31T15:13:25.952Z"
   },
   {
    "duration": 0,
    "start_time": "2023-08-31T15:13:25.953Z"
   },
   {
    "duration": 0,
    "start_time": "2023-08-31T15:13:25.954Z"
   },
   {
    "duration": 0,
    "start_time": "2023-08-31T15:13:25.955Z"
   },
   {
    "duration": 0,
    "start_time": "2023-08-31T15:13:25.956Z"
   },
   {
    "duration": 0,
    "start_time": "2023-08-31T15:13:25.957Z"
   },
   {
    "duration": 5,
    "start_time": "2023-08-31T15:14:17.172Z"
   },
   {
    "duration": 3,
    "start_time": "2023-08-31T15:14:18.769Z"
   },
   {
    "duration": 1579,
    "start_time": "2023-08-31T15:14:20.546Z"
   },
   {
    "duration": 4,
    "start_time": "2023-08-31T15:14:28.507Z"
   },
   {
    "duration": 4,
    "start_time": "2023-08-31T15:14:28.715Z"
   },
   {
    "duration": 1673,
    "start_time": "2023-08-31T15:14:31.027Z"
   },
   {
    "duration": 4,
    "start_time": "2023-08-31T15:15:09.729Z"
   },
   {
    "duration": 3,
    "start_time": "2023-08-31T15:15:10.337Z"
   },
   {
    "duration": 875,
    "start_time": "2023-08-31T15:15:11.630Z"
   },
   {
    "duration": 11,
    "start_time": "2023-08-31T15:34:18.907Z"
   },
   {
    "duration": 1512,
    "start_time": "2023-08-31T15:34:24.915Z"
   },
   {
    "duration": 835,
    "start_time": "2023-08-31T15:34:26.429Z"
   },
   {
    "duration": 270,
    "start_time": "2023-08-31T15:34:27.266Z"
   },
   {
    "duration": 669,
    "start_time": "2023-08-31T15:34:27.539Z"
   },
   {
    "duration": 519,
    "start_time": "2023-08-31T15:34:28.210Z"
   },
   {
    "duration": 287,
    "start_time": "2023-08-31T15:34:28.730Z"
   },
   {
    "duration": 19,
    "start_time": "2023-08-31T15:34:29.019Z"
   },
   {
    "duration": 76,
    "start_time": "2023-08-31T15:34:29.040Z"
   },
   {
    "duration": 21,
    "start_time": "2023-08-31T15:34:29.118Z"
   },
   {
    "duration": 65,
    "start_time": "2023-08-31T15:34:29.142Z"
   },
   {
    "duration": 10,
    "start_time": "2023-08-31T15:34:29.209Z"
   },
   {
    "duration": 24,
    "start_time": "2023-08-31T15:34:29.220Z"
   },
   {
    "duration": 309,
    "start_time": "2023-08-31T15:34:29.246Z"
   },
   {
    "duration": 80,
    "start_time": "2023-08-31T15:34:29.557Z"
   },
   {
    "duration": 82,
    "start_time": "2023-08-31T15:34:29.639Z"
   },
   {
    "duration": 25,
    "start_time": "2023-08-31T15:34:29.722Z"
   },
   {
    "duration": 3,
    "start_time": "2023-08-31T15:34:29.749Z"
   },
   {
    "duration": 48,
    "start_time": "2023-08-31T15:34:29.754Z"
   },
   {
    "duration": 27,
    "start_time": "2023-08-31T15:34:29.803Z"
   },
   {
    "duration": 35,
    "start_time": "2023-08-31T15:34:29.832Z"
   },
   {
    "duration": 55,
    "start_time": "2023-08-31T15:34:29.869Z"
   },
   {
    "duration": 35,
    "start_time": "2023-08-31T15:34:29.926Z"
   },
   {
    "duration": 242,
    "start_time": "2023-08-31T15:34:29.962Z"
   },
   {
    "duration": 3,
    "start_time": "2023-08-31T15:34:30.205Z"
   },
   {
    "duration": 2407,
    "start_time": "2023-08-31T15:34:30.210Z"
   },
   {
    "duration": 25,
    "start_time": "2023-08-31T15:34:32.619Z"
   },
   {
    "duration": 40,
    "start_time": "2023-08-31T15:34:32.647Z"
   },
   {
    "duration": 51,
    "start_time": "2023-08-31T15:34:32.691Z"
   },
   {
    "duration": 23,
    "start_time": "2023-08-31T15:34:32.744Z"
   },
   {
    "duration": 13,
    "start_time": "2023-08-31T15:34:32.770Z"
   },
   {
    "duration": 18,
    "start_time": "2023-08-31T15:34:32.785Z"
   },
   {
    "duration": 12,
    "start_time": "2023-08-31T15:34:32.805Z"
   },
   {
    "duration": 10,
    "start_time": "2023-08-31T15:34:32.819Z"
   },
   {
    "duration": 1696,
    "start_time": "2023-08-31T15:34:32.831Z"
   },
   {
    "duration": 13,
    "start_time": "2023-08-31T15:34:34.528Z"
   },
   {
    "duration": 22,
    "start_time": "2023-08-31T15:34:34.543Z"
   },
   {
    "duration": 6,
    "start_time": "2023-08-31T15:34:34.568Z"
   },
   {
    "duration": 25,
    "start_time": "2023-08-31T15:34:34.576Z"
   },
   {
    "duration": 8,
    "start_time": "2023-08-31T15:34:34.604Z"
   },
   {
    "duration": 18,
    "start_time": "2023-08-31T15:34:34.614Z"
   },
   {
    "duration": 25,
    "start_time": "2023-08-31T15:34:34.634Z"
   },
   {
    "duration": 1102,
    "start_time": "2023-08-31T15:34:34.661Z"
   },
   {
    "duration": 94,
    "start_time": "2023-08-31T15:34:35.765Z"
   },
   {
    "duration": 7,
    "start_time": "2023-08-31T15:34:35.860Z"
   },
   {
    "duration": 41,
    "start_time": "2023-08-31T15:34:35.868Z"
   },
   {
    "duration": 5,
    "start_time": "2023-08-31T15:34:35.911Z"
   },
   {
    "duration": 31,
    "start_time": "2023-08-31T15:34:35.918Z"
   },
   {
    "duration": 4,
    "start_time": "2023-08-31T15:34:35.951Z"
   },
   {
    "duration": 9,
    "start_time": "2023-08-31T15:34:35.957Z"
   },
   {
    "duration": 935,
    "start_time": "2023-08-31T15:34:35.967Z"
   },
   {
    "duration": 1392,
    "start_time": "2023-08-31T15:34:36.911Z"
   },
   {
    "duration": 4,
    "start_time": "2023-08-31T15:34:38.305Z"
   },
   {
    "duration": 13754,
    "start_time": "2023-08-31T15:34:38.402Z"
   },
   {
    "duration": 727,
    "start_time": "2023-08-31T15:34:52.158Z"
   },
   {
    "duration": 291416,
    "start_time": "2023-08-31T15:34:52.887Z"
   },
   {
    "duration": 1081,
    "start_time": "2023-08-31T15:39:44.306Z"
   },
   {
    "duration": 518,
    "start_time": "2023-08-31T15:39:45.389Z"
   },
   {
    "duration": 92,
    "start_time": "2023-08-31T15:39:45.909Z"
   },
   {
    "duration": 281,
    "start_time": "2023-08-31T15:44:18.991Z"
   },
   {
    "duration": 146,
    "start_time": "2023-08-31T15:44:37.532Z"
   },
   {
    "duration": 86,
    "start_time": "2023-08-31T15:44:56.001Z"
   },
   {
    "duration": 24760,
    "start_time": "2023-08-31T15:45:01.367Z"
   },
   {
    "duration": 18488,
    "start_time": "2023-08-31T15:46:26.932Z"
   },
   {
    "duration": 0,
    "start_time": "2023-08-31T15:46:45.422Z"
   },
   {
    "duration": 22412,
    "start_time": "2023-08-31T15:46:51.472Z"
   },
   {
    "duration": 213,
    "start_time": "2023-08-31T15:47:13.886Z"
   },
   {
    "duration": 22443,
    "start_time": "2023-08-31T15:47:20.388Z"
   },
   {
    "duration": 88,
    "start_time": "2023-08-31T15:47:42.833Z"
   },
   {
    "duration": 92,
    "start_time": "2023-08-31T15:48:21.066Z"
   },
   {
    "duration": 1720,
    "start_time": "2023-08-31T15:52:29.301Z"
   },
   {
    "duration": 888,
    "start_time": "2023-08-31T15:52:31.023Z"
   },
   {
    "duration": 190,
    "start_time": "2023-08-31T15:52:31.913Z"
   },
   {
    "duration": 316,
    "start_time": "2023-08-31T15:52:32.105Z"
   },
   {
    "duration": 295,
    "start_time": "2023-08-31T15:52:32.424Z"
   },
   {
    "duration": 145,
    "start_time": "2023-08-31T15:52:32.721Z"
   },
   {
    "duration": 17,
    "start_time": "2023-08-31T15:52:32.868Z"
   },
   {
    "duration": 29,
    "start_time": "2023-08-31T15:52:32.886Z"
   },
   {
    "duration": 13,
    "start_time": "2023-08-31T15:52:32.917Z"
   },
   {
    "duration": 29,
    "start_time": "2023-08-31T15:52:32.933Z"
   },
   {
    "duration": 22,
    "start_time": "2023-08-31T15:52:32.963Z"
   },
   {
    "duration": 15,
    "start_time": "2023-08-31T15:52:32.987Z"
   },
   {
    "duration": 238,
    "start_time": "2023-08-31T15:52:33.004Z"
   },
   {
    "duration": 83,
    "start_time": "2023-08-31T15:52:33.245Z"
   },
   {
    "duration": 74,
    "start_time": "2023-08-31T15:52:33.330Z"
   },
   {
    "duration": 22,
    "start_time": "2023-08-31T15:52:33.405Z"
   },
   {
    "duration": 63,
    "start_time": "2023-08-31T15:52:33.429Z"
   },
   {
    "duration": 143,
    "start_time": "2023-08-31T15:52:33.494Z"
   },
   {
    "duration": 8,
    "start_time": "2023-08-31T15:52:33.638Z"
   },
   {
    "duration": 6,
    "start_time": "2023-08-31T15:52:33.647Z"
   },
   {
    "duration": 36,
    "start_time": "2023-08-31T15:52:33.654Z"
   },
   {
    "duration": 20,
    "start_time": "2023-08-31T15:52:33.692Z"
   },
   {
    "duration": 211,
    "start_time": "2023-08-31T15:52:33.713Z"
   },
   {
    "duration": 2,
    "start_time": "2023-08-31T15:52:33.926Z"
   },
   {
    "duration": 2182,
    "start_time": "2023-08-31T15:52:33.930Z"
   },
   {
    "duration": 23,
    "start_time": "2023-08-31T15:52:36.114Z"
   },
   {
    "duration": 22,
    "start_time": "2023-08-31T15:52:36.138Z"
   },
   {
    "duration": 47,
    "start_time": "2023-08-31T15:52:36.164Z"
   },
   {
    "duration": 23,
    "start_time": "2023-08-31T15:52:36.214Z"
   },
   {
    "duration": 9,
    "start_time": "2023-08-31T15:52:36.239Z"
   },
   {
    "duration": 10,
    "start_time": "2023-08-31T15:52:36.250Z"
   },
   {
    "duration": 17,
    "start_time": "2023-08-31T15:52:36.261Z"
   },
   {
    "duration": 12,
    "start_time": "2023-08-31T15:52:36.301Z"
   },
   {
    "duration": 1629,
    "start_time": "2023-08-31T15:52:36.314Z"
   },
   {
    "duration": 13,
    "start_time": "2023-08-31T15:52:37.945Z"
   },
   {
    "duration": 15,
    "start_time": "2023-08-31T15:52:37.960Z"
   },
   {
    "duration": 29,
    "start_time": "2023-08-31T15:52:37.976Z"
   },
   {
    "duration": 19,
    "start_time": "2023-08-31T15:52:38.007Z"
   },
   {
    "duration": 10,
    "start_time": "2023-08-31T15:52:38.028Z"
   },
   {
    "duration": 14,
    "start_time": "2023-08-31T15:52:38.039Z"
   },
   {
    "duration": 5,
    "start_time": "2023-08-31T15:52:38.054Z"
   },
   {
    "duration": 1057,
    "start_time": "2023-08-31T15:52:38.061Z"
   },
   {
    "duration": 98,
    "start_time": "2023-08-31T15:52:39.120Z"
   },
   {
    "duration": 6,
    "start_time": "2023-08-31T15:52:39.220Z"
   },
   {
    "duration": 23,
    "start_time": "2023-08-31T15:52:39.228Z"
   },
   {
    "duration": 4,
    "start_time": "2023-08-31T15:52:39.253Z"
   },
   {
    "duration": 50,
    "start_time": "2023-08-31T15:52:39.259Z"
   },
   {
    "duration": 5,
    "start_time": "2023-08-31T15:52:39.311Z"
   },
   {
    "duration": 10,
    "start_time": "2023-08-31T15:52:39.318Z"
   },
   {
    "duration": 882,
    "start_time": "2023-08-31T15:52:39.329Z"
   },
   {
    "duration": 1404,
    "start_time": "2023-08-31T15:52:40.303Z"
   },
   {
    "duration": 91,
    "start_time": "2023-08-31T15:52:41.712Z"
   },
   {
    "duration": 13695,
    "start_time": "2023-08-31T15:52:41.806Z"
   },
   {
    "duration": 74,
    "start_time": "2023-08-31T15:52:55.503Z"
   },
   {
    "duration": 33811,
    "start_time": "2023-08-31T15:52:55.579Z"
   },
   {
    "duration": 0,
    "start_time": "2023-08-31T15:53:29.392Z"
   },
   {
    "duration": 0,
    "start_time": "2023-08-31T15:53:29.393Z"
   },
   {
    "duration": 0,
    "start_time": "2023-08-31T15:53:29.394Z"
   },
   {
    "duration": 145,
    "start_time": "2023-08-31T15:53:40.411Z"
   },
   {
    "duration": 291413,
    "start_time": "2023-08-31T15:53:46.624Z"
   },
   {
    "duration": 218,
    "start_time": "2023-08-31T15:58:38.039Z"
   },
   {
    "duration": 948,
    "start_time": "2023-08-31T15:58:38.259Z"
   },
   {
    "duration": 91,
    "start_time": "2023-08-31T15:58:39.211Z"
   },
   {
    "duration": 5484,
    "start_time": "2023-08-31T15:59:03.493Z"
   },
   {
    "duration": 211,
    "start_time": "2023-08-31T15:59:26.593Z"
   },
   {
    "duration": 6,
    "start_time": "2023-08-31T15:59:27.003Z"
   },
   {
    "duration": 22030,
    "start_time": "2023-08-31T15:59:32.182Z"
   },
   {
    "duration": 10,
    "start_time": "2023-08-31T16:03:40.786Z"
   },
   {
    "duration": 3,
    "start_time": "2023-08-31T16:03:51.679Z"
   },
   {
    "duration": 8711,
    "start_time": "2023-08-31T16:03:54.864Z"
   },
   {
    "duration": 3,
    "start_time": "2023-08-31T16:04:15.754Z"
   },
   {
    "duration": 14333,
    "start_time": "2023-08-31T16:04:16.398Z"
   },
   {
    "duration": 9,
    "start_time": "2023-08-31T16:04:30.733Z"
   },
   {
    "duration": 4,
    "start_time": "2023-08-31T16:04:40.627Z"
   },
   {
    "duration": 14469,
    "start_time": "2023-08-31T16:04:42.177Z"
   },
   {
    "duration": 150,
    "start_time": "2023-08-31T16:05:02.608Z"
   },
   {
    "duration": 19652,
    "start_time": "2023-08-31T16:05:26.241Z"
   },
   {
    "duration": 0,
    "start_time": "2023-08-31T16:05:45.896Z"
   },
   {
    "duration": 1514,
    "start_time": "2023-08-31T16:05:50.329Z"
   },
   {
    "duration": 808,
    "start_time": "2023-08-31T16:05:51.846Z"
   },
   {
    "duration": 173,
    "start_time": "2023-08-31T16:05:52.656Z"
   },
   {
    "duration": 288,
    "start_time": "2023-08-31T16:05:52.831Z"
   },
   {
    "duration": 243,
    "start_time": "2023-08-31T16:05:53.121Z"
   },
   {
    "duration": 150,
    "start_time": "2023-08-31T16:05:53.366Z"
   },
   {
    "duration": 25,
    "start_time": "2023-08-31T16:05:53.518Z"
   },
   {
    "duration": 25,
    "start_time": "2023-08-31T16:05:53.545Z"
   },
   {
    "duration": 30,
    "start_time": "2023-08-31T16:05:53.572Z"
   },
   {
    "duration": 24,
    "start_time": "2023-08-31T16:05:53.606Z"
   },
   {
    "duration": 30,
    "start_time": "2023-08-31T16:05:53.632Z"
   },
   {
    "duration": 32,
    "start_time": "2023-08-31T16:05:53.664Z"
   },
   {
    "duration": 267,
    "start_time": "2023-08-31T16:05:53.699Z"
   },
   {
    "duration": 78,
    "start_time": "2023-08-31T16:05:53.968Z"
   },
   {
    "duration": 76,
    "start_time": "2023-08-31T16:05:54.049Z"
   },
   {
    "duration": 24,
    "start_time": "2023-08-31T16:05:54.127Z"
   },
   {
    "duration": 17,
    "start_time": "2023-08-31T16:05:54.153Z"
   },
   {
    "duration": 40,
    "start_time": "2023-08-31T16:05:54.172Z"
   },
   {
    "duration": 8,
    "start_time": "2023-08-31T16:05:54.214Z"
   },
   {
    "duration": 17,
    "start_time": "2023-08-31T16:05:54.224Z"
   },
   {
    "duration": 16,
    "start_time": "2023-08-31T16:05:54.243Z"
   },
   {
    "duration": 28,
    "start_time": "2023-08-31T16:05:54.260Z"
   },
   {
    "duration": 217,
    "start_time": "2023-08-31T16:05:54.290Z"
   },
   {
    "duration": 3,
    "start_time": "2023-08-31T16:05:54.509Z"
   },
   {
    "duration": 2209,
    "start_time": "2023-08-31T16:05:54.514Z"
   },
   {
    "duration": 23,
    "start_time": "2023-08-31T16:05:56.724Z"
   },
   {
    "duration": 66,
    "start_time": "2023-08-31T16:05:56.748Z"
   },
   {
    "duration": 29,
    "start_time": "2023-08-31T16:05:56.818Z"
   },
   {
    "duration": 29,
    "start_time": "2023-08-31T16:05:56.849Z"
   },
   {
    "duration": 20,
    "start_time": "2023-08-31T16:05:56.879Z"
   },
   {
    "duration": 23,
    "start_time": "2023-08-31T16:05:56.901Z"
   },
   {
    "duration": 45,
    "start_time": "2023-08-31T16:05:56.926Z"
   },
   {
    "duration": 31,
    "start_time": "2023-08-31T16:05:56.974Z"
   },
   {
    "duration": 1597,
    "start_time": "2023-08-31T16:05:57.007Z"
   },
   {
    "duration": 14,
    "start_time": "2023-08-31T16:05:58.606Z"
   },
   {
    "duration": 15,
    "start_time": "2023-08-31T16:05:58.622Z"
   },
   {
    "duration": 4,
    "start_time": "2023-08-31T16:05:58.639Z"
   },
   {
    "duration": 7,
    "start_time": "2023-08-31T16:05:58.645Z"
   },
   {
    "duration": 9,
    "start_time": "2023-08-31T16:05:58.654Z"
   },
   {
    "duration": 7,
    "start_time": "2023-08-31T16:05:58.700Z"
   },
   {
    "duration": 11,
    "start_time": "2023-08-31T16:05:58.710Z"
   },
   {
    "duration": 1058,
    "start_time": "2023-08-31T16:05:58.723Z"
   },
   {
    "duration": 94,
    "start_time": "2023-08-31T16:05:59.783Z"
   },
   {
    "duration": 22,
    "start_time": "2023-08-31T16:05:59.879Z"
   },
   {
    "duration": 24,
    "start_time": "2023-08-31T16:05:59.903Z"
   },
   {
    "duration": 16,
    "start_time": "2023-08-31T16:05:59.929Z"
   },
   {
    "duration": 35,
    "start_time": "2023-08-31T16:05:59.947Z"
   },
   {
    "duration": 18,
    "start_time": "2023-08-31T16:05:59.984Z"
   },
   {
    "duration": 51,
    "start_time": "2023-08-31T16:06:00.004Z"
   },
   {
    "duration": 854,
    "start_time": "2023-08-31T16:06:00.058Z"
   },
   {
    "duration": 1504,
    "start_time": "2023-08-31T16:06:01.003Z"
   },
   {
    "duration": 14780,
    "start_time": "2023-08-31T16:06:02.510Z"
   },
   {
    "duration": 158,
    "start_time": "2023-08-31T16:06:17.292Z"
   },
   {
    "duration": 220248,
    "start_time": "2023-08-31T16:06:17.453Z"
   },
   {
    "duration": 5619,
    "start_time": "2023-08-31T16:09:57.703Z"
   },
   {
    "duration": 388,
    "start_time": "2023-08-31T16:10:03.324Z"
   },
   {
    "duration": 88,
    "start_time": "2023-08-31T16:10:03.715Z"
   },
   {
    "duration": 2583,
    "start_time": "2023-08-31T16:13:45.656Z"
   },
   {
    "duration": 16300,
    "start_time": "2023-08-31T16:14:00.984Z"
   },
   {
    "duration": 155,
    "start_time": "2023-08-31T16:14:17.286Z"
   },
   {
    "duration": 144,
    "start_time": "2023-08-31T16:15:45.661Z"
   },
   {
    "duration": 2523,
    "start_time": "2023-08-31T16:15:46.067Z"
   },
   {
    "duration": 7,
    "start_time": "2023-08-31T16:15:50.636Z"
   },
   {
    "duration": 16388,
    "start_time": "2023-08-31T16:22:28.172Z"
   },
   {
    "duration": 221765,
    "start_time": "2023-08-31T16:22:44.562Z"
   },
   {
    "duration": 271,
    "start_time": "2023-08-31T16:26:26.329Z"
   },
   {
    "duration": 2796,
    "start_time": "2023-08-31T16:26:26.604Z"
   },
   {
    "duration": 0,
    "start_time": "2023-08-31T16:26:29.402Z"
   },
   {
    "duration": 421,
    "start_time": "2023-08-31T16:27:43.609Z"
   },
   {
    "duration": 202,
    "start_time": "2023-08-31T16:28:09.613Z"
   },
   {
    "duration": 2616,
    "start_time": "2023-08-31T16:28:31.287Z"
   },
   {
    "duration": 594,
    "start_time": "2023-08-31T16:29:50.611Z"
   },
   {
    "duration": 7,
    "start_time": "2023-08-31T16:30:08.204Z"
   },
   {
    "duration": 3440,
    "start_time": "2023-09-01T16:09:27.160Z"
   },
   {
    "duration": 2319,
    "start_time": "2023-09-01T16:09:30.603Z"
   },
   {
    "duration": 166,
    "start_time": "2023-09-01T16:09:32.924Z"
   },
   {
    "duration": 288,
    "start_time": "2023-09-01T16:09:33.102Z"
   },
   {
    "duration": 264,
    "start_time": "2023-09-01T16:09:33.392Z"
   },
   {
    "duration": 148,
    "start_time": "2023-09-01T16:09:33.658Z"
   },
   {
    "duration": 20,
    "start_time": "2023-09-01T16:09:33.807Z"
   },
   {
    "duration": 40,
    "start_time": "2023-09-01T16:09:33.828Z"
   },
   {
    "duration": 35,
    "start_time": "2023-09-01T16:09:33.869Z"
   },
   {
    "duration": 25,
    "start_time": "2023-09-01T16:09:33.907Z"
   },
   {
    "duration": 29,
    "start_time": "2023-09-01T16:09:33.934Z"
   },
   {
    "duration": 40,
    "start_time": "2023-09-01T16:09:33.965Z"
   },
   {
    "duration": 297,
    "start_time": "2023-09-01T16:09:34.007Z"
   },
   {
    "duration": 72,
    "start_time": "2023-09-01T16:09:34.306Z"
   },
   {
    "duration": 84,
    "start_time": "2023-09-01T16:09:34.380Z"
   },
   {
    "duration": 44,
    "start_time": "2023-09-01T16:09:34.466Z"
   },
   {
    "duration": 3,
    "start_time": "2023-09-01T16:09:34.512Z"
   },
   {
    "duration": 37,
    "start_time": "2023-09-01T16:09:34.516Z"
   },
   {
    "duration": 28,
    "start_time": "2023-09-01T16:09:34.555Z"
   },
   {
    "duration": 61,
    "start_time": "2023-09-01T16:09:34.585Z"
   },
   {
    "duration": 19,
    "start_time": "2023-09-01T16:09:34.648Z"
   },
   {
    "duration": 91,
    "start_time": "2023-09-01T16:09:34.670Z"
   },
   {
    "duration": 144,
    "start_time": "2023-09-01T16:09:51.691Z"
   },
   {
    "duration": 51,
    "start_time": "2023-09-01T16:33:06.833Z"
   },
   {
    "duration": 1839,
    "start_time": "2023-09-01T16:33:12.230Z"
   },
   {
    "duration": 2334,
    "start_time": "2023-09-01T16:33:14.071Z"
   },
   {
    "duration": 168,
    "start_time": "2023-09-01T16:33:16.407Z"
   },
   {
    "duration": 328,
    "start_time": "2023-09-01T16:33:16.581Z"
   },
   {
    "duration": 268,
    "start_time": "2023-09-01T16:33:16.911Z"
   },
   {
    "duration": 158,
    "start_time": "2023-09-01T16:33:17.182Z"
   },
   {
    "duration": 19,
    "start_time": "2023-09-01T16:33:17.341Z"
   },
   {
    "duration": 31,
    "start_time": "2023-09-01T16:33:17.361Z"
   },
   {
    "duration": 20,
    "start_time": "2023-09-01T16:33:17.393Z"
   },
   {
    "duration": 11,
    "start_time": "2023-09-01T16:33:17.415Z"
   },
   {
    "duration": 10,
    "start_time": "2023-09-01T16:33:17.428Z"
   },
   {
    "duration": 6,
    "start_time": "2023-09-01T16:33:17.440Z"
   },
   {
    "duration": 252,
    "start_time": "2023-09-01T16:33:17.448Z"
   },
   {
    "duration": 63,
    "start_time": "2023-09-01T16:33:17.702Z"
   },
   {
    "duration": 77,
    "start_time": "2023-09-01T16:33:17.767Z"
   },
   {
    "duration": 39,
    "start_time": "2023-09-01T16:33:17.846Z"
   },
   {
    "duration": 2,
    "start_time": "2023-09-01T16:33:17.887Z"
   },
   {
    "duration": 33,
    "start_time": "2023-09-01T16:33:17.891Z"
   },
   {
    "duration": 14,
    "start_time": "2023-09-01T16:33:17.926Z"
   },
   {
    "duration": 11,
    "start_time": "2023-09-01T16:33:17.942Z"
   },
   {
    "duration": 11,
    "start_time": "2023-09-01T16:33:17.955Z"
   },
   {
    "duration": 31,
    "start_time": "2023-09-01T16:33:17.967Z"
   },
   {
    "duration": 208,
    "start_time": "2023-09-01T16:33:17.999Z"
   },
   {
    "duration": 2124,
    "start_time": "2023-09-01T16:33:18.209Z"
   },
   {
    "duration": 24,
    "start_time": "2023-09-01T16:33:20.335Z"
   },
   {
    "duration": 22,
    "start_time": "2023-09-01T16:33:20.360Z"
   },
   {
    "duration": 22,
    "start_time": "2023-09-01T16:33:20.383Z"
   },
   {
    "duration": 22,
    "start_time": "2023-09-01T16:33:20.408Z"
   },
   {
    "duration": 9,
    "start_time": "2023-09-01T16:33:20.431Z"
   },
   {
    "duration": 24,
    "start_time": "2023-09-01T16:33:20.442Z"
   },
   {
    "duration": 28,
    "start_time": "2023-09-01T16:33:20.467Z"
   },
   {
    "duration": 10,
    "start_time": "2023-09-01T16:33:20.497Z"
   },
   {
    "duration": 1094,
    "start_time": "2023-09-01T16:33:20.509Z"
   },
   {
    "duration": 14,
    "start_time": "2023-09-01T16:33:21.605Z"
   },
   {
    "duration": 13,
    "start_time": "2023-09-01T16:33:21.620Z"
   },
   {
    "duration": 5,
    "start_time": "2023-09-01T16:33:21.634Z"
   },
   {
    "duration": 40,
    "start_time": "2023-09-01T16:33:21.641Z"
   },
   {
    "duration": 6,
    "start_time": "2023-09-01T16:33:21.683Z"
   },
   {
    "duration": 7,
    "start_time": "2023-09-01T16:33:21.691Z"
   },
   {
    "duration": 13,
    "start_time": "2023-09-01T16:33:21.700Z"
   },
   {
    "duration": 872,
    "start_time": "2023-09-01T16:33:21.714Z"
   },
   {
    "duration": 97,
    "start_time": "2023-09-01T16:33:22.588Z"
   },
   {
    "duration": 7,
    "start_time": "2023-09-01T16:33:22.687Z"
   },
   {
    "duration": 24,
    "start_time": "2023-09-01T16:33:22.696Z"
   },
   {
    "duration": 4,
    "start_time": "2023-09-01T16:33:22.722Z"
   },
   {
    "duration": 23,
    "start_time": "2023-09-01T16:33:22.728Z"
   },
   {
    "duration": 28,
    "start_time": "2023-09-01T16:33:22.753Z"
   },
   {
    "duration": 3,
    "start_time": "2023-09-01T16:33:22.783Z"
   },
   {
    "duration": 1101,
    "start_time": "2023-09-01T16:33:22.788Z"
   },
   {
    "duration": 1497,
    "start_time": "2023-09-01T16:33:23.891Z"
   },
   {
    "duration": 17356,
    "start_time": "2023-09-01T16:33:25.390Z"
   },
   {
    "duration": 3,
    "start_time": "2023-09-01T16:33:42.748Z"
   },
   {
    "duration": 50052,
    "start_time": "2023-09-01T16:33:42.753Z"
   },
   {
    "duration": 0,
    "start_time": "2023-09-01T16:34:32.807Z"
   },
   {
    "duration": 0,
    "start_time": "2023-09-01T16:34:32.808Z"
   },
   {
    "duration": 1977,
    "start_time": "2023-09-01T16:35:05.942Z"
   },
   {
    "duration": 864,
    "start_time": "2023-09-01T16:35:18.900Z"
   },
   {
    "duration": 469,
    "start_time": "2023-09-01T16:41:20.748Z"
   },
   {
    "duration": 360,
    "start_time": "2023-09-01T16:43:09.184Z"
   },
   {
    "duration": 1114,
    "start_time": "2023-09-01T16:43:22.609Z"
   },
   {
    "duration": 482,
    "start_time": "2023-09-01T16:44:42.845Z"
   },
   {
    "duration": 1250,
    "start_time": "2023-09-01T16:45:06.021Z"
   },
   {
    "duration": 15,
    "start_time": "2023-09-01T16:45:07.273Z"
   },
   {
    "duration": 3,
    "start_time": "2023-09-01T16:48:56.887Z"
   },
   {
    "duration": 1489,
    "start_time": "2023-09-01T16:49:23.143Z"
   },
   {
    "duration": 869,
    "start_time": "2023-09-01T16:49:24.634Z"
   },
   {
    "duration": 176,
    "start_time": "2023-09-01T16:49:25.505Z"
   },
   {
    "duration": 292,
    "start_time": "2023-09-01T16:49:25.684Z"
   },
   {
    "duration": 255,
    "start_time": "2023-09-01T16:49:25.978Z"
   },
   {
    "duration": 153,
    "start_time": "2023-09-01T16:49:26.235Z"
   },
   {
    "duration": 18,
    "start_time": "2023-09-01T16:49:26.390Z"
   },
   {
    "duration": 17,
    "start_time": "2023-09-01T16:49:26.409Z"
   },
   {
    "duration": 13,
    "start_time": "2023-09-01T16:49:26.427Z"
   },
   {
    "duration": 40,
    "start_time": "2023-09-01T16:49:26.442Z"
   },
   {
    "duration": 9,
    "start_time": "2023-09-01T16:49:26.484Z"
   },
   {
    "duration": 7,
    "start_time": "2023-09-01T16:49:26.494Z"
   },
   {
    "duration": 291,
    "start_time": "2023-09-01T16:49:26.502Z"
   },
   {
    "duration": 98,
    "start_time": "2023-09-01T16:49:26.795Z"
   },
   {
    "duration": 67,
    "start_time": "2023-09-01T16:49:26.895Z"
   },
   {
    "duration": 23,
    "start_time": "2023-09-01T16:49:26.981Z"
   },
   {
    "duration": 2,
    "start_time": "2023-09-01T16:49:27.006Z"
   },
   {
    "duration": 26,
    "start_time": "2023-09-01T16:49:27.010Z"
   },
   {
    "duration": 7,
    "start_time": "2023-09-01T16:49:27.038Z"
   },
   {
    "duration": 12,
    "start_time": "2023-09-01T16:49:27.047Z"
   },
   {
    "duration": 25,
    "start_time": "2023-09-01T16:49:27.061Z"
   },
   {
    "duration": 34,
    "start_time": "2023-09-01T16:49:27.088Z"
   },
   {
    "duration": 225,
    "start_time": "2023-09-01T16:49:27.124Z"
   },
   {
    "duration": 2098,
    "start_time": "2023-09-01T16:49:27.351Z"
   },
   {
    "duration": 23,
    "start_time": "2023-09-01T16:49:29.451Z"
   },
   {
    "duration": 24,
    "start_time": "2023-09-01T16:49:29.475Z"
   },
   {
    "duration": 23,
    "start_time": "2023-09-01T16:49:29.500Z"
   },
   {
    "duration": 23,
    "start_time": "2023-09-01T16:49:29.526Z"
   },
   {
    "duration": 32,
    "start_time": "2023-09-01T16:49:29.551Z"
   },
   {
    "duration": 23,
    "start_time": "2023-09-01T16:49:29.585Z"
   },
   {
    "duration": 15,
    "start_time": "2023-09-01T16:49:29.609Z"
   },
   {
    "duration": 9,
    "start_time": "2023-09-01T16:49:29.626Z"
   },
   {
    "duration": 485,
    "start_time": "2023-09-01T16:49:29.637Z"
   },
   {
    "duration": 2,
    "start_time": "2023-09-01T16:49:30.124Z"
   },
   {
    "duration": 99,
    "start_time": "2023-09-01T16:49:30.128Z"
   },
   {
    "duration": 28,
    "start_time": "2023-09-01T16:49:30.229Z"
   },
   {
    "duration": 43,
    "start_time": "2023-09-01T16:49:30.259Z"
   },
   {
    "duration": 63,
    "start_time": "2023-09-01T16:49:30.303Z"
   },
   {
    "duration": 58,
    "start_time": "2023-09-01T16:49:30.368Z"
   },
   {
    "duration": 34,
    "start_time": "2023-09-01T16:49:30.428Z"
   },
   {
    "duration": 1026,
    "start_time": "2023-09-01T16:49:30.464Z"
   },
   {
    "duration": 98,
    "start_time": "2023-09-01T16:49:31.491Z"
   },
   {
    "duration": 7,
    "start_time": "2023-09-01T16:49:31.590Z"
   },
   {
    "duration": 44,
    "start_time": "2023-09-01T16:49:31.598Z"
   },
   {
    "duration": 56,
    "start_time": "2023-09-01T16:49:31.644Z"
   },
   {
    "duration": 134,
    "start_time": "2023-09-01T16:49:31.702Z"
   },
   {
    "duration": 25,
    "start_time": "2023-09-01T16:49:31.838Z"
   },
   {
    "duration": 49,
    "start_time": "2023-09-01T16:49:31.865Z"
   },
   {
    "duration": 775,
    "start_time": "2023-09-01T16:49:31.916Z"
   },
   {
    "duration": 1399,
    "start_time": "2023-09-01T16:49:32.788Z"
   },
   {
    "duration": 17653,
    "start_time": "2023-09-01T16:49:34.192Z"
   },
   {
    "duration": 4,
    "start_time": "2023-09-01T16:49:51.847Z"
   },
   {
    "duration": 218160,
    "start_time": "2023-09-01T16:49:51.853Z"
   },
   {
    "duration": 3100,
    "start_time": "2023-09-01T16:53:30.015Z"
   },
   {
    "duration": 6,
    "start_time": "2023-09-01T16:53:33.117Z"
   }
  ],
  "kernelspec": {
   "display_name": "Python 3 (ipykernel)",
   "language": "python",
   "name": "python3"
  },
  "language_info": {
   "codemirror_mode": {
    "name": "ipython",
    "version": 3
   },
   "file_extension": ".py",
   "mimetype": "text/x-python",
   "name": "python",
   "nbconvert_exporter": "python",
   "pygments_lexer": "ipython3",
   "version": "3.9.18"
  },
  "toc": {
   "base_numbering": 1,
   "nav_menu": {},
   "number_sections": true,
   "sideBar": true,
   "skip_h1_title": true,
   "title_cell": "Содержание",
   "title_sidebar": "Contents",
   "toc_cell": true,
   "toc_position": {
    "height": "calc(100% - 180px)",
    "left": "10px",
    "top": "150px",
    "width": "361.391px"
   },
   "toc_section_display": true,
   "toc_window_display": true
  }
 },
 "nbformat": 4,
 "nbformat_minor": 4
}
