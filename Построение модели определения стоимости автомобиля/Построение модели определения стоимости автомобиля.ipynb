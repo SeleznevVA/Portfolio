{
 "cells": [
  {
   "cell_type": "markdown",
   "metadata": {},
   "source": [
    "# Определение стоимости автомобилей"
   ]
  },
  {
   "cell_type": "markdown",
   "metadata": {},
   "source": [
    "## Подготовка данных"
   ]
  },
  {
   "cell_type": "code",
   "execution_count": 1,
   "metadata": {},
   "outputs": [],
   "source": [
    "!pip install scikit-learn==1.1.3 -q\n",
    "!pip install lightgbm -q"
   ]
  },
  {
   "cell_type": "code",
   "execution_count": 2,
   "metadata": {},
   "outputs": [],
   "source": [
    "import pandas as pd \n",
    "import numpy as np\n",
    "import matplotlib.pyplot as plt\n",
    "import seaborn as sns\n",
    "from sklearn.metrics import mean_squared_error, make_scorer\n",
    "from sklearn.linear_model import LinearRegression\n",
    "from sklearn.ensemble import RandomForestRegressor\n",
    "from sklearn.model_selection import train_test_split, cross_val_score, GridSearchCV\n",
    "from sklearn.preprocessing import StandardScaler, OneHotEncoder, OrdinalEncoder\n",
    "from sklearn.model_selection import RandomizedSearchCV\n",
    "\n",
    "from lightgbm import LGBMRegressor\n",
    "from catboost import CatBoostRegressor, Pool, cv"
   ]
  },
  {
   "cell_type": "markdown",
   "metadata": {},
   "source": [
    "### Загрузка и изучение данных."
   ]
  },
  {
   "cell_type": "code",
   "execution_count": 3,
   "metadata": {},
   "outputs": [],
   "source": [
    "df = pd.read_csv('/datasets/autos.csv')"
   ]
  },
  {
   "cell_type": "code",
   "execution_count": 4,
   "metadata": {},
   "outputs": [
    {
     "data": {
      "text/html": [
       "<div>\n",
       "<style scoped>\n",
       "    .dataframe tbody tr th:only-of-type {\n",
       "        vertical-align: middle;\n",
       "    }\n",
       "\n",
       "    .dataframe tbody tr th {\n",
       "        vertical-align: top;\n",
       "    }\n",
       "\n",
       "    .dataframe thead th {\n",
       "        text-align: right;\n",
       "    }\n",
       "</style>\n",
       "<table border=\"1\" class=\"dataframe\">\n",
       "  <thead>\n",
       "    <tr style=\"text-align: right;\">\n",
       "      <th></th>\n",
       "      <th>DateCrawled</th>\n",
       "      <th>Price</th>\n",
       "      <th>VehicleType</th>\n",
       "      <th>RegistrationYear</th>\n",
       "      <th>Gearbox</th>\n",
       "      <th>Power</th>\n",
       "      <th>Model</th>\n",
       "      <th>Kilometer</th>\n",
       "      <th>RegistrationMonth</th>\n",
       "      <th>FuelType</th>\n",
       "      <th>Brand</th>\n",
       "      <th>Repaired</th>\n",
       "      <th>DateCreated</th>\n",
       "      <th>NumberOfPictures</th>\n",
       "      <th>PostalCode</th>\n",
       "      <th>LastSeen</th>\n",
       "    </tr>\n",
       "  </thead>\n",
       "  <tbody>\n",
       "    <tr>\n",
       "      <th>0</th>\n",
       "      <td>2016-03-24 11:52:17</td>\n",
       "      <td>480</td>\n",
       "      <td>NaN</td>\n",
       "      <td>1993</td>\n",
       "      <td>manual</td>\n",
       "      <td>0</td>\n",
       "      <td>golf</td>\n",
       "      <td>150000</td>\n",
       "      <td>0</td>\n",
       "      <td>petrol</td>\n",
       "      <td>volkswagen</td>\n",
       "      <td>NaN</td>\n",
       "      <td>2016-03-24 00:00:00</td>\n",
       "      <td>0</td>\n",
       "      <td>70435</td>\n",
       "      <td>2016-04-07 03:16:57</td>\n",
       "    </tr>\n",
       "    <tr>\n",
       "      <th>1</th>\n",
       "      <td>2016-03-24 10:58:45</td>\n",
       "      <td>18300</td>\n",
       "      <td>coupe</td>\n",
       "      <td>2011</td>\n",
       "      <td>manual</td>\n",
       "      <td>190</td>\n",
       "      <td>NaN</td>\n",
       "      <td>125000</td>\n",
       "      <td>5</td>\n",
       "      <td>gasoline</td>\n",
       "      <td>audi</td>\n",
       "      <td>yes</td>\n",
       "      <td>2016-03-24 00:00:00</td>\n",
       "      <td>0</td>\n",
       "      <td>66954</td>\n",
       "      <td>2016-04-07 01:46:50</td>\n",
       "    </tr>\n",
       "    <tr>\n",
       "      <th>2</th>\n",
       "      <td>2016-03-14 12:52:21</td>\n",
       "      <td>9800</td>\n",
       "      <td>suv</td>\n",
       "      <td>2004</td>\n",
       "      <td>auto</td>\n",
       "      <td>163</td>\n",
       "      <td>grand</td>\n",
       "      <td>125000</td>\n",
       "      <td>8</td>\n",
       "      <td>gasoline</td>\n",
       "      <td>jeep</td>\n",
       "      <td>NaN</td>\n",
       "      <td>2016-03-14 00:00:00</td>\n",
       "      <td>0</td>\n",
       "      <td>90480</td>\n",
       "      <td>2016-04-05 12:47:46</td>\n",
       "    </tr>\n",
       "    <tr>\n",
       "      <th>3</th>\n",
       "      <td>2016-03-17 16:54:04</td>\n",
       "      <td>1500</td>\n",
       "      <td>small</td>\n",
       "      <td>2001</td>\n",
       "      <td>manual</td>\n",
       "      <td>75</td>\n",
       "      <td>golf</td>\n",
       "      <td>150000</td>\n",
       "      <td>6</td>\n",
       "      <td>petrol</td>\n",
       "      <td>volkswagen</td>\n",
       "      <td>no</td>\n",
       "      <td>2016-03-17 00:00:00</td>\n",
       "      <td>0</td>\n",
       "      <td>91074</td>\n",
       "      <td>2016-03-17 17:40:17</td>\n",
       "    </tr>\n",
       "    <tr>\n",
       "      <th>4</th>\n",
       "      <td>2016-03-31 17:25:20</td>\n",
       "      <td>3600</td>\n",
       "      <td>small</td>\n",
       "      <td>2008</td>\n",
       "      <td>manual</td>\n",
       "      <td>69</td>\n",
       "      <td>fabia</td>\n",
       "      <td>90000</td>\n",
       "      <td>7</td>\n",
       "      <td>gasoline</td>\n",
       "      <td>skoda</td>\n",
       "      <td>no</td>\n",
       "      <td>2016-03-31 00:00:00</td>\n",
       "      <td>0</td>\n",
       "      <td>60437</td>\n",
       "      <td>2016-04-06 10:17:21</td>\n",
       "    </tr>\n",
       "    <tr>\n",
       "      <th>5</th>\n",
       "      <td>2016-04-04 17:36:23</td>\n",
       "      <td>650</td>\n",
       "      <td>sedan</td>\n",
       "      <td>1995</td>\n",
       "      <td>manual</td>\n",
       "      <td>102</td>\n",
       "      <td>3er</td>\n",
       "      <td>150000</td>\n",
       "      <td>10</td>\n",
       "      <td>petrol</td>\n",
       "      <td>bmw</td>\n",
       "      <td>yes</td>\n",
       "      <td>2016-04-04 00:00:00</td>\n",
       "      <td>0</td>\n",
       "      <td>33775</td>\n",
       "      <td>2016-04-06 19:17:07</td>\n",
       "    </tr>\n",
       "    <tr>\n",
       "      <th>6</th>\n",
       "      <td>2016-04-01 20:48:51</td>\n",
       "      <td>2200</td>\n",
       "      <td>convertible</td>\n",
       "      <td>2004</td>\n",
       "      <td>manual</td>\n",
       "      <td>109</td>\n",
       "      <td>2_reihe</td>\n",
       "      <td>150000</td>\n",
       "      <td>8</td>\n",
       "      <td>petrol</td>\n",
       "      <td>peugeot</td>\n",
       "      <td>no</td>\n",
       "      <td>2016-04-01 00:00:00</td>\n",
       "      <td>0</td>\n",
       "      <td>67112</td>\n",
       "      <td>2016-04-05 18:18:39</td>\n",
       "    </tr>\n",
       "    <tr>\n",
       "      <th>7</th>\n",
       "      <td>2016-03-21 18:54:38</td>\n",
       "      <td>0</td>\n",
       "      <td>sedan</td>\n",
       "      <td>1980</td>\n",
       "      <td>manual</td>\n",
       "      <td>50</td>\n",
       "      <td>other</td>\n",
       "      <td>40000</td>\n",
       "      <td>7</td>\n",
       "      <td>petrol</td>\n",
       "      <td>volkswagen</td>\n",
       "      <td>no</td>\n",
       "      <td>2016-03-21 00:00:00</td>\n",
       "      <td>0</td>\n",
       "      <td>19348</td>\n",
       "      <td>2016-03-25 16:47:58</td>\n",
       "    </tr>\n",
       "    <tr>\n",
       "      <th>8</th>\n",
       "      <td>2016-04-04 23:42:13</td>\n",
       "      <td>14500</td>\n",
       "      <td>bus</td>\n",
       "      <td>2014</td>\n",
       "      <td>manual</td>\n",
       "      <td>125</td>\n",
       "      <td>c_max</td>\n",
       "      <td>30000</td>\n",
       "      <td>8</td>\n",
       "      <td>petrol</td>\n",
       "      <td>ford</td>\n",
       "      <td>NaN</td>\n",
       "      <td>2016-04-04 00:00:00</td>\n",
       "      <td>0</td>\n",
       "      <td>94505</td>\n",
       "      <td>2016-04-04 23:42:13</td>\n",
       "    </tr>\n",
       "    <tr>\n",
       "      <th>9</th>\n",
       "      <td>2016-03-17 10:53:50</td>\n",
       "      <td>999</td>\n",
       "      <td>small</td>\n",
       "      <td>1998</td>\n",
       "      <td>manual</td>\n",
       "      <td>101</td>\n",
       "      <td>golf</td>\n",
       "      <td>150000</td>\n",
       "      <td>0</td>\n",
       "      <td>NaN</td>\n",
       "      <td>volkswagen</td>\n",
       "      <td>NaN</td>\n",
       "      <td>2016-03-17 00:00:00</td>\n",
       "      <td>0</td>\n",
       "      <td>27472</td>\n",
       "      <td>2016-03-31 17:17:06</td>\n",
       "    </tr>\n",
       "    <tr>\n",
       "      <th>10</th>\n",
       "      <td>2016-03-26 19:54:18</td>\n",
       "      <td>2000</td>\n",
       "      <td>sedan</td>\n",
       "      <td>2004</td>\n",
       "      <td>manual</td>\n",
       "      <td>105</td>\n",
       "      <td>3_reihe</td>\n",
       "      <td>150000</td>\n",
       "      <td>12</td>\n",
       "      <td>petrol</td>\n",
       "      <td>mazda</td>\n",
       "      <td>no</td>\n",
       "      <td>2016-03-26 00:00:00</td>\n",
       "      <td>0</td>\n",
       "      <td>96224</td>\n",
       "      <td>2016-04-06 10:45:34</td>\n",
       "    </tr>\n",
       "    <tr>\n",
       "      <th>11</th>\n",
       "      <td>2016-04-07 10:06:22</td>\n",
       "      <td>2799</td>\n",
       "      <td>wagon</td>\n",
       "      <td>2005</td>\n",
       "      <td>manual</td>\n",
       "      <td>140</td>\n",
       "      <td>passat</td>\n",
       "      <td>150000</td>\n",
       "      <td>12</td>\n",
       "      <td>gasoline</td>\n",
       "      <td>volkswagen</td>\n",
       "      <td>yes</td>\n",
       "      <td>2016-04-07 00:00:00</td>\n",
       "      <td>0</td>\n",
       "      <td>57290</td>\n",
       "      <td>2016-04-07 10:25:17</td>\n",
       "    </tr>\n",
       "    <tr>\n",
       "      <th>12</th>\n",
       "      <td>2016-03-15 22:49:09</td>\n",
       "      <td>999</td>\n",
       "      <td>wagon</td>\n",
       "      <td>1995</td>\n",
       "      <td>manual</td>\n",
       "      <td>115</td>\n",
       "      <td>passat</td>\n",
       "      <td>150000</td>\n",
       "      <td>11</td>\n",
       "      <td>petrol</td>\n",
       "      <td>volkswagen</td>\n",
       "      <td>NaN</td>\n",
       "      <td>2016-03-15 00:00:00</td>\n",
       "      <td>0</td>\n",
       "      <td>37269</td>\n",
       "      <td>2016-04-01 13:16:16</td>\n",
       "    </tr>\n",
       "    <tr>\n",
       "      <th>13</th>\n",
       "      <td>2016-03-21 21:37:40</td>\n",
       "      <td>2500</td>\n",
       "      <td>wagon</td>\n",
       "      <td>2004</td>\n",
       "      <td>manual</td>\n",
       "      <td>131</td>\n",
       "      <td>passat</td>\n",
       "      <td>150000</td>\n",
       "      <td>2</td>\n",
       "      <td>NaN</td>\n",
       "      <td>volkswagen</td>\n",
       "      <td>no</td>\n",
       "      <td>2016-03-21 00:00:00</td>\n",
       "      <td>0</td>\n",
       "      <td>90762</td>\n",
       "      <td>2016-03-23 02:50:54</td>\n",
       "    </tr>\n",
       "    <tr>\n",
       "      <th>14</th>\n",
       "      <td>2016-03-21 12:57:01</td>\n",
       "      <td>17999</td>\n",
       "      <td>suv</td>\n",
       "      <td>2011</td>\n",
       "      <td>manual</td>\n",
       "      <td>190</td>\n",
       "      <td>navara</td>\n",
       "      <td>70000</td>\n",
       "      <td>3</td>\n",
       "      <td>gasoline</td>\n",
       "      <td>nissan</td>\n",
       "      <td>no</td>\n",
       "      <td>2016-03-21 00:00:00</td>\n",
       "      <td>0</td>\n",
       "      <td>4177</td>\n",
       "      <td>2016-04-06 07:45:42</td>\n",
       "    </tr>\n",
       "    <tr>\n",
       "      <th>15</th>\n",
       "      <td>2016-03-11 21:39:15</td>\n",
       "      <td>450</td>\n",
       "      <td>small</td>\n",
       "      <td>1910</td>\n",
       "      <td>NaN</td>\n",
       "      <td>0</td>\n",
       "      <td>ka</td>\n",
       "      <td>5000</td>\n",
       "      <td>0</td>\n",
       "      <td>petrol</td>\n",
       "      <td>ford</td>\n",
       "      <td>NaN</td>\n",
       "      <td>2016-03-11 00:00:00</td>\n",
       "      <td>0</td>\n",
       "      <td>24148</td>\n",
       "      <td>2016-03-19 08:46:47</td>\n",
       "    </tr>\n",
       "    <tr>\n",
       "      <th>16</th>\n",
       "      <td>2016-04-01 12:46:46</td>\n",
       "      <td>300</td>\n",
       "      <td>NaN</td>\n",
       "      <td>2016</td>\n",
       "      <td>NaN</td>\n",
       "      <td>60</td>\n",
       "      <td>polo</td>\n",
       "      <td>150000</td>\n",
       "      <td>0</td>\n",
       "      <td>petrol</td>\n",
       "      <td>volkswagen</td>\n",
       "      <td>NaN</td>\n",
       "      <td>2016-04-01 00:00:00</td>\n",
       "      <td>0</td>\n",
       "      <td>38871</td>\n",
       "      <td>2016-04-01 12:46:46</td>\n",
       "    </tr>\n",
       "    <tr>\n",
       "      <th>17</th>\n",
       "      <td>2016-03-20 10:25:19</td>\n",
       "      <td>1750</td>\n",
       "      <td>small</td>\n",
       "      <td>2004</td>\n",
       "      <td>auto</td>\n",
       "      <td>75</td>\n",
       "      <td>twingo</td>\n",
       "      <td>150000</td>\n",
       "      <td>2</td>\n",
       "      <td>petrol</td>\n",
       "      <td>renault</td>\n",
       "      <td>no</td>\n",
       "      <td>2016-03-20 00:00:00</td>\n",
       "      <td>0</td>\n",
       "      <td>65599</td>\n",
       "      <td>2016-04-06 13:16:07</td>\n",
       "    </tr>\n",
       "    <tr>\n",
       "      <th>18</th>\n",
       "      <td>2016-03-23 15:48:05</td>\n",
       "      <td>7550</td>\n",
       "      <td>bus</td>\n",
       "      <td>2007</td>\n",
       "      <td>manual</td>\n",
       "      <td>136</td>\n",
       "      <td>c_max</td>\n",
       "      <td>150000</td>\n",
       "      <td>6</td>\n",
       "      <td>gasoline</td>\n",
       "      <td>ford</td>\n",
       "      <td>no</td>\n",
       "      <td>2016-03-23 00:00:00</td>\n",
       "      <td>0</td>\n",
       "      <td>88361</td>\n",
       "      <td>2016-04-05 18:45:11</td>\n",
       "    </tr>\n",
       "    <tr>\n",
       "      <th>19</th>\n",
       "      <td>2016-04-01 22:55:47</td>\n",
       "      <td>1850</td>\n",
       "      <td>bus</td>\n",
       "      <td>2004</td>\n",
       "      <td>manual</td>\n",
       "      <td>102</td>\n",
       "      <td>a_klasse</td>\n",
       "      <td>150000</td>\n",
       "      <td>1</td>\n",
       "      <td>petrol</td>\n",
       "      <td>mercedes_benz</td>\n",
       "      <td>no</td>\n",
       "      <td>2016-04-01 00:00:00</td>\n",
       "      <td>0</td>\n",
       "      <td>49565</td>\n",
       "      <td>2016-04-05 22:46:05</td>\n",
       "    </tr>\n",
       "  </tbody>\n",
       "</table>\n",
       "</div>"
      ],
      "text/plain": [
       "            DateCrawled  Price  VehicleType  RegistrationYear Gearbox  Power  \\\n",
       "0   2016-03-24 11:52:17    480          NaN              1993  manual      0   \n",
       "1   2016-03-24 10:58:45  18300        coupe              2011  manual    190   \n",
       "2   2016-03-14 12:52:21   9800          suv              2004    auto    163   \n",
       "3   2016-03-17 16:54:04   1500        small              2001  manual     75   \n",
       "4   2016-03-31 17:25:20   3600        small              2008  manual     69   \n",
       "5   2016-04-04 17:36:23    650        sedan              1995  manual    102   \n",
       "6   2016-04-01 20:48:51   2200  convertible              2004  manual    109   \n",
       "7   2016-03-21 18:54:38      0        sedan              1980  manual     50   \n",
       "8   2016-04-04 23:42:13  14500          bus              2014  manual    125   \n",
       "9   2016-03-17 10:53:50    999        small              1998  manual    101   \n",
       "10  2016-03-26 19:54:18   2000        sedan              2004  manual    105   \n",
       "11  2016-04-07 10:06:22   2799        wagon              2005  manual    140   \n",
       "12  2016-03-15 22:49:09    999        wagon              1995  manual    115   \n",
       "13  2016-03-21 21:37:40   2500        wagon              2004  manual    131   \n",
       "14  2016-03-21 12:57:01  17999          suv              2011  manual    190   \n",
       "15  2016-03-11 21:39:15    450        small              1910     NaN      0   \n",
       "16  2016-04-01 12:46:46    300          NaN              2016     NaN     60   \n",
       "17  2016-03-20 10:25:19   1750        small              2004    auto     75   \n",
       "18  2016-03-23 15:48:05   7550          bus              2007  manual    136   \n",
       "19  2016-04-01 22:55:47   1850          bus              2004  manual    102   \n",
       "\n",
       "       Model  Kilometer  RegistrationMonth  FuelType          Brand Repaired  \\\n",
       "0       golf     150000                  0    petrol     volkswagen      NaN   \n",
       "1        NaN     125000                  5  gasoline           audi      yes   \n",
       "2      grand     125000                  8  gasoline           jeep      NaN   \n",
       "3       golf     150000                  6    petrol     volkswagen       no   \n",
       "4      fabia      90000                  7  gasoline          skoda       no   \n",
       "5        3er     150000                 10    petrol            bmw      yes   \n",
       "6    2_reihe     150000                  8    petrol        peugeot       no   \n",
       "7      other      40000                  7    petrol     volkswagen       no   \n",
       "8      c_max      30000                  8    petrol           ford      NaN   \n",
       "9       golf     150000                  0       NaN     volkswagen      NaN   \n",
       "10   3_reihe     150000                 12    petrol          mazda       no   \n",
       "11    passat     150000                 12  gasoline     volkswagen      yes   \n",
       "12    passat     150000                 11    petrol     volkswagen      NaN   \n",
       "13    passat     150000                  2       NaN     volkswagen       no   \n",
       "14    navara      70000                  3  gasoline         nissan       no   \n",
       "15        ka       5000                  0    petrol           ford      NaN   \n",
       "16      polo     150000                  0    petrol     volkswagen      NaN   \n",
       "17    twingo     150000                  2    petrol        renault       no   \n",
       "18     c_max     150000                  6  gasoline           ford       no   \n",
       "19  a_klasse     150000                  1    petrol  mercedes_benz       no   \n",
       "\n",
       "            DateCreated  NumberOfPictures  PostalCode             LastSeen  \n",
       "0   2016-03-24 00:00:00                 0       70435  2016-04-07 03:16:57  \n",
       "1   2016-03-24 00:00:00                 0       66954  2016-04-07 01:46:50  \n",
       "2   2016-03-14 00:00:00                 0       90480  2016-04-05 12:47:46  \n",
       "3   2016-03-17 00:00:00                 0       91074  2016-03-17 17:40:17  \n",
       "4   2016-03-31 00:00:00                 0       60437  2016-04-06 10:17:21  \n",
       "5   2016-04-04 00:00:00                 0       33775  2016-04-06 19:17:07  \n",
       "6   2016-04-01 00:00:00                 0       67112  2016-04-05 18:18:39  \n",
       "7   2016-03-21 00:00:00                 0       19348  2016-03-25 16:47:58  \n",
       "8   2016-04-04 00:00:00                 0       94505  2016-04-04 23:42:13  \n",
       "9   2016-03-17 00:00:00                 0       27472  2016-03-31 17:17:06  \n",
       "10  2016-03-26 00:00:00                 0       96224  2016-04-06 10:45:34  \n",
       "11  2016-04-07 00:00:00                 0       57290  2016-04-07 10:25:17  \n",
       "12  2016-03-15 00:00:00                 0       37269  2016-04-01 13:16:16  \n",
       "13  2016-03-21 00:00:00                 0       90762  2016-03-23 02:50:54  \n",
       "14  2016-03-21 00:00:00                 0        4177  2016-04-06 07:45:42  \n",
       "15  2016-03-11 00:00:00                 0       24148  2016-03-19 08:46:47  \n",
       "16  2016-04-01 00:00:00                 0       38871  2016-04-01 12:46:46  \n",
       "17  2016-03-20 00:00:00                 0       65599  2016-04-06 13:16:07  \n",
       "18  2016-03-23 00:00:00                 0       88361  2016-04-05 18:45:11  \n",
       "19  2016-04-01 00:00:00                 0       49565  2016-04-05 22:46:05  "
      ]
     },
     "metadata": {},
     "output_type": "display_data"
    }
   ],
   "source": [
    "display(df.head(20))"
   ]
  },
  {
   "cell_type": "code",
   "execution_count": 5,
   "metadata": {},
   "outputs": [
    {
     "name": "stdout",
     "output_type": "stream",
     "text": [
      "<class 'pandas.core.frame.DataFrame'>\n",
      "RangeIndex: 354369 entries, 0 to 354368\n",
      "Data columns (total 16 columns):\n",
      " #   Column             Non-Null Count   Dtype \n",
      "---  ------             --------------   ----- \n",
      " 0   DateCrawled        354369 non-null  object\n",
      " 1   Price              354369 non-null  int64 \n",
      " 2   VehicleType        316879 non-null  object\n",
      " 3   RegistrationYear   354369 non-null  int64 \n",
      " 4   Gearbox            334536 non-null  object\n",
      " 5   Power              354369 non-null  int64 \n",
      " 6   Model              334664 non-null  object\n",
      " 7   Kilometer          354369 non-null  int64 \n",
      " 8   RegistrationMonth  354369 non-null  int64 \n",
      " 9   FuelType           321474 non-null  object\n",
      " 10  Brand              354369 non-null  object\n",
      " 11  Repaired           283215 non-null  object\n",
      " 12  DateCreated        354369 non-null  object\n",
      " 13  NumberOfPictures   354369 non-null  int64 \n",
      " 14  PostalCode         354369 non-null  int64 \n",
      " 15  LastSeen           354369 non-null  object\n",
      "dtypes: int64(7), object(9)\n",
      "memory usage: 43.3+ MB\n"
     ]
    }
   ],
   "source": [
    "df.info()"
   ]
  },
  {
   "cell_type": "code",
   "execution_count": 6,
   "metadata": {
    "scrolled": true
   },
   "outputs": [
    {
     "data": {
      "text/plain": [
       "DateCrawled              0\n",
       "Price                    0\n",
       "VehicleType          37490\n",
       "RegistrationYear         0\n",
       "Gearbox              19833\n",
       "Power                    0\n",
       "Model                19705\n",
       "Kilometer                0\n",
       "RegistrationMonth        0\n",
       "FuelType             32895\n",
       "Brand                    0\n",
       "Repaired             71154\n",
       "DateCreated              0\n",
       "NumberOfPictures         0\n",
       "PostalCode               0\n",
       "LastSeen                 0\n",
       "dtype: int64"
      ]
     },
     "execution_count": 6,
     "metadata": {},
     "output_type": "execute_result"
    }
   ],
   "source": [
    "df.isna().sum()"
   ]
  },
  {
   "cell_type": "code",
   "execution_count": 7,
   "metadata": {},
   "outputs": [
    {
     "data": {
      "text/html": [
       "<div>\n",
       "<style scoped>\n",
       "    .dataframe tbody tr th:only-of-type {\n",
       "        vertical-align: middle;\n",
       "    }\n",
       "\n",
       "    .dataframe tbody tr th {\n",
       "        vertical-align: top;\n",
       "    }\n",
       "\n",
       "    .dataframe thead th {\n",
       "        text-align: right;\n",
       "    }\n",
       "</style>\n",
       "<table border=\"1\" class=\"dataframe\">\n",
       "  <thead>\n",
       "    <tr style=\"text-align: right;\">\n",
       "      <th></th>\n",
       "      <th>Price</th>\n",
       "      <th>RegistrationYear</th>\n",
       "      <th>Power</th>\n",
       "      <th>Kilometer</th>\n",
       "      <th>RegistrationMonth</th>\n",
       "      <th>NumberOfPictures</th>\n",
       "      <th>PostalCode</th>\n",
       "    </tr>\n",
       "  </thead>\n",
       "  <tbody>\n",
       "    <tr>\n",
       "      <th>count</th>\n",
       "      <td>354369.000000</td>\n",
       "      <td>354369.000000</td>\n",
       "      <td>354369.000000</td>\n",
       "      <td>354369.000000</td>\n",
       "      <td>354369.000000</td>\n",
       "      <td>354369.0</td>\n",
       "      <td>354369.000000</td>\n",
       "    </tr>\n",
       "    <tr>\n",
       "      <th>mean</th>\n",
       "      <td>4416.656776</td>\n",
       "      <td>2004.234448</td>\n",
       "      <td>110.094337</td>\n",
       "      <td>128211.172535</td>\n",
       "      <td>5.714645</td>\n",
       "      <td>0.0</td>\n",
       "      <td>50508.689087</td>\n",
       "    </tr>\n",
       "    <tr>\n",
       "      <th>std</th>\n",
       "      <td>4514.158514</td>\n",
       "      <td>90.227958</td>\n",
       "      <td>189.850405</td>\n",
       "      <td>37905.341530</td>\n",
       "      <td>3.726421</td>\n",
       "      <td>0.0</td>\n",
       "      <td>25783.096248</td>\n",
       "    </tr>\n",
       "    <tr>\n",
       "      <th>min</th>\n",
       "      <td>0.000000</td>\n",
       "      <td>1000.000000</td>\n",
       "      <td>0.000000</td>\n",
       "      <td>5000.000000</td>\n",
       "      <td>0.000000</td>\n",
       "      <td>0.0</td>\n",
       "      <td>1067.000000</td>\n",
       "    </tr>\n",
       "    <tr>\n",
       "      <th>25%</th>\n",
       "      <td>1050.000000</td>\n",
       "      <td>1999.000000</td>\n",
       "      <td>69.000000</td>\n",
       "      <td>125000.000000</td>\n",
       "      <td>3.000000</td>\n",
       "      <td>0.0</td>\n",
       "      <td>30165.000000</td>\n",
       "    </tr>\n",
       "    <tr>\n",
       "      <th>50%</th>\n",
       "      <td>2700.000000</td>\n",
       "      <td>2003.000000</td>\n",
       "      <td>105.000000</td>\n",
       "      <td>150000.000000</td>\n",
       "      <td>6.000000</td>\n",
       "      <td>0.0</td>\n",
       "      <td>49413.000000</td>\n",
       "    </tr>\n",
       "    <tr>\n",
       "      <th>75%</th>\n",
       "      <td>6400.000000</td>\n",
       "      <td>2008.000000</td>\n",
       "      <td>143.000000</td>\n",
       "      <td>150000.000000</td>\n",
       "      <td>9.000000</td>\n",
       "      <td>0.0</td>\n",
       "      <td>71083.000000</td>\n",
       "    </tr>\n",
       "    <tr>\n",
       "      <th>max</th>\n",
       "      <td>20000.000000</td>\n",
       "      <td>9999.000000</td>\n",
       "      <td>20000.000000</td>\n",
       "      <td>150000.000000</td>\n",
       "      <td>12.000000</td>\n",
       "      <td>0.0</td>\n",
       "      <td>99998.000000</td>\n",
       "    </tr>\n",
       "  </tbody>\n",
       "</table>\n",
       "</div>"
      ],
      "text/plain": [
       "               Price  RegistrationYear          Power      Kilometer  \\\n",
       "count  354369.000000     354369.000000  354369.000000  354369.000000   \n",
       "mean     4416.656776       2004.234448     110.094337  128211.172535   \n",
       "std      4514.158514         90.227958     189.850405   37905.341530   \n",
       "min         0.000000       1000.000000       0.000000    5000.000000   \n",
       "25%      1050.000000       1999.000000      69.000000  125000.000000   \n",
       "50%      2700.000000       2003.000000     105.000000  150000.000000   \n",
       "75%      6400.000000       2008.000000     143.000000  150000.000000   \n",
       "max     20000.000000       9999.000000   20000.000000  150000.000000   \n",
       "\n",
       "       RegistrationMonth  NumberOfPictures     PostalCode  \n",
       "count      354369.000000          354369.0  354369.000000  \n",
       "mean            5.714645               0.0   50508.689087  \n",
       "std             3.726421               0.0   25783.096248  \n",
       "min             0.000000               0.0    1067.000000  \n",
       "25%             3.000000               0.0   30165.000000  \n",
       "50%             6.000000               0.0   49413.000000  \n",
       "75%             9.000000               0.0   71083.000000  \n",
       "max            12.000000               0.0   99998.000000  "
      ]
     },
     "execution_count": 7,
     "metadata": {},
     "output_type": "execute_result"
    }
   ],
   "source": [
    "df.describe()"
   ]
  },
  {
   "cell_type": "markdown",
   "metadata": {},
   "source": [
    "### Предобработка данных"
   ]
  },
  {
   "cell_type": "code",
   "execution_count": 8,
   "metadata": {},
   "outputs": [
    {
     "data": {
      "image/png": "[encoded data removed]",
      "text/plain": [
       "<Figure size 432x288 with 1 Axes>"
      ]
     },
     "metadata": {
      "needs_background": "light"
     },
     "output_type": "display_data"
    }
   ],
   "source": [
    "df.boxplot('Price');\n",
    "plt.title('boxplot Price');\n",
    "plt.show()"
   ]
  },
  {
   "cell_type": "code",
   "execution_count": 9,
   "metadata": {},
   "outputs": [
    {
     "data": {
      "text/plain": [
       "0.05      200.0\n",
       "0.95    14600.0\n",
       "Name: Price, dtype: float64"
      ]
     },
     "execution_count": 9,
     "metadata": {},
     "output_type": "execute_result"
    }
   ],
   "source": [
    "df.Price.quantile([.05, 0.95])"
   ]
  },
  {
   "cell_type": "code",
   "execution_count": 10,
   "metadata": {},
   "outputs": [
    {
     "data": {
      "text/plain": [
       "0     37352\n",
       "3     34373\n",
       "6     31508\n",
       "4     29270\n",
       "5     29153\n",
       "7     27213\n",
       "10    26099\n",
       "12    24289\n",
       "11    24186\n",
       "9     23813\n",
       "1     23219\n",
       "8     22627\n",
       "2     21267\n",
       "Name: RegistrationMonth, dtype: int64"
      ]
     },
     "execution_count": 10,
     "metadata": {},
     "output_type": "execute_result"
    }
   ],
   "source": [
    "df.RegistrationMonth.value_counts()"
   ]
  },
  {
   "cell_type": "code",
   "execution_count": 11,
   "metadata": {},
   "outputs": [
    {
     "data": {
      "text/plain": [
       "150000    238209\n",
       "125000     36454\n",
       "100000     14882\n",
       "90000      11567\n",
       "80000      10047\n",
       "70000       8593\n",
       "60000       7444\n",
       "5000        6397\n",
       "50000       6232\n",
       "40000       4911\n",
       "30000       4436\n",
       "20000       3975\n",
       "10000       1222\n",
       "Name: Kilometer, dtype: int64"
      ]
     },
     "execution_count": 11,
     "metadata": {},
     "output_type": "execute_result"
    }
   ],
   "source": [
    "df.Kilometer.value_counts()"
   ]
  },
  {
   "cell_type": "markdown",
   "metadata": {},
   "source": [
    "**Я обращал внимание на то, что в месяце регистрации есть 0. Но я не до конца понял как от него избавится. Я думал, что можно раскидать как то по остальным месяцами, но решил, что это не сыграет большой роли. В целом месяц регистрации машины не сильно важен, год - важен. Может и стоит удалить.**"
   ]
  },
  {
   "cell_type": "markdown",
   "metadata": {},
   "source": [
    "1. Удаляем столбцы `DateCrawled`, `DateCreated`, `LastSeen`, `NumberOfPictures`, `PostalCode`, `RegistrationMonth` не виляющие на исследование.\n",
    "2. Значение мощности (`Power`) рядового автомобиля не бывает ниже 25 и выше 500. Так что возьмем эти значения за границы. Значения ниже и выше наших границ - удалим.\n",
    "3. Столбец `RegistrationYear`. Объективно присутсвуют выбросы т.к. минимальный год регстирации 1000. Ценообразование на раритетные машины годом выпуска ниже 1970 другое. Так что сделаем это значение нижней границей. Врехняя - 2016 год. Остальное удалим. \n",
    "4. В столбце с целевым признаком (`Price`) присутствуют выбросы. Цена не может быть ровна нулю. Считаю 5 и 95 квантили доверительным интервалом и удаляю строки со значением ниже 200 и выше 14600.\n",
    "5. В столбцах `VehicleType`, `Model`, `FuelType`, `Gearbox`, `Repaired` большое количество пропусков. Качество модели может сильно ухудшится, если просто взять и удалить их т.к. Все эти параметры имеют большое значение для ценообразования. Значения в столбцах заменим на unknown.\n",
    "6. В стобце `Kilometer` всего 13 значений. Изменим тип на `object`, что позволит нам сделать его категориальным признаком.\n",
    "7. В столбце `Replace`  значения `petrol`, `gasoline` обзначают один тип топлива - `benzin`. Заменим.\n",
    " "
   ]
  },
  {
   "cell_type": "code",
   "execution_count": 12,
   "metadata": {},
   "outputs": [],
   "source": [
    "df = df.drop(['DateCrawled', 'DateCreated', 'LastSeen', 'NumberOfPictures', 'PostalCode', 'RegistrationMonth'], axis = 1)"
   ]
  },
  {
   "cell_type": "code",
   "execution_count": 13,
   "metadata": {},
   "outputs": [],
   "source": [
    "df = df.query('25 <= Power <= 500')\n",
    "df = df.query('1970 <= RegistrationYear <= 2016')\n",
    "df = df.query('200 <= Price <= 14600')"
   ]
  },
  {
   "cell_type": "code",
   "execution_count": 14,
   "metadata": {},
   "outputs": [],
   "source": [
    "df['VehicleType'] = df['VehicleType'].fillna('unknown')\n",
    "df['Model'] = df['Model'].fillna('unknown')\n",
    "df['FuelType'] = df['FuelType'].fillna('unknown')\n",
    "df['Gearbox'] = df['Gearbox'].fillna('unknown')\n",
    "df['Repaired'] = df['Repaired'].fillna('unknown')"
   ]
  },
  {
   "cell_type": "code",
   "execution_count": 15,
   "metadata": {},
   "outputs": [],
   "source": [
    "df = df.replace(['petrol', 'gasoline'],['benzin', 'benzin'])"
   ]
  },
  {
   "cell_type": "code",
   "execution_count": 16,
   "metadata": {},
   "outputs": [],
   "source": [
    "df['Kilometer'] = df['Kilometer'].astype('object')"
   ]
  },
  {
   "cell_type": "code",
   "execution_count": 17,
   "metadata": {},
   "outputs": [
    {
     "data": {
      "text/plain": [
       "38056"
      ]
     },
     "execution_count": 17,
     "metadata": {},
     "output_type": "execute_result"
    }
   ],
   "source": [
    "df.duplicated().sum()"
   ]
  },
  {
   "cell_type": "code",
   "execution_count": 18,
   "metadata": {},
   "outputs": [],
   "source": [
    "df = df.drop_duplicates(keep='first').reset_index(drop=True)"
   ]
  },
  {
   "cell_type": "code",
   "execution_count": 19,
   "metadata": {},
   "outputs": [
    {
     "name": "stdout",
     "output_type": "stream",
     "text": [
      "<class 'pandas.core.frame.DataFrame'>\n",
      "RangeIndex: 236848 entries, 0 to 236847\n",
      "Data columns (total 10 columns):\n",
      " #   Column            Non-Null Count   Dtype \n",
      "---  ------            --------------   ----- \n",
      " 0   Price             236848 non-null  int64 \n",
      " 1   VehicleType       236848 non-null  object\n",
      " 2   RegistrationYear  236848 non-null  int64 \n",
      " 3   Gearbox           236848 non-null  object\n",
      " 4   Power             236848 non-null  int64 \n",
      " 5   Model             236848 non-null  object\n",
      " 6   Kilometer         236848 non-null  object\n",
      " 7   FuelType          236848 non-null  object\n",
      " 8   Brand             236848 non-null  object\n",
      " 9   Repaired          236848 non-null  object\n",
      "dtypes: int64(3), object(7)\n",
      "memory usage: 18.1+ MB\n"
     ]
    }
   ],
   "source": [
    "df.info()"
   ]
  },
  {
   "cell_type": "code",
   "execution_count": 20,
   "metadata": {},
   "outputs": [
    {
     "data": {
      "text/plain": [
       "Price               0\n",
       "VehicleType         0\n",
       "RegistrationYear    0\n",
       "Gearbox             0\n",
       "Power               0\n",
       "Model               0\n",
       "Kilometer           0\n",
       "FuelType            0\n",
       "Brand               0\n",
       "Repaired            0\n",
       "dtype: int64"
      ]
     },
     "execution_count": 20,
     "metadata": {},
     "output_type": "execute_result"
    }
   ],
   "source": [
    "df.isna().sum()"
   ]
  },
  {
   "cell_type": "code",
   "execution_count": 21,
   "metadata": {},
   "outputs": [
    {
     "data": {
      "text/html": [
       "<div>\n",
       "<style scoped>\n",
       "    .dataframe tbody tr th:only-of-type {\n",
       "        vertical-align: middle;\n",
       "    }\n",
       "\n",
       "    .dataframe tbody tr th {\n",
       "        vertical-align: top;\n",
       "    }\n",
       "\n",
       "    .dataframe thead th {\n",
       "        text-align: right;\n",
       "    }\n",
       "</style>\n",
       "<table border=\"1\" class=\"dataframe\">\n",
       "  <thead>\n",
       "    <tr style=\"text-align: right;\">\n",
       "      <th></th>\n",
       "      <th>Price</th>\n",
       "      <th>RegistrationYear</th>\n",
       "      <th>Power</th>\n",
       "    </tr>\n",
       "  </thead>\n",
       "  <tbody>\n",
       "    <tr>\n",
       "      <th>count</th>\n",
       "      <td>236848.000000</td>\n",
       "      <td>236848.000000</td>\n",
       "      <td>236848.000000</td>\n",
       "    </tr>\n",
       "    <tr>\n",
       "      <th>mean</th>\n",
       "      <td>4228.521465</td>\n",
       "      <td>2002.659376</td>\n",
       "      <td>118.282156</td>\n",
       "    </tr>\n",
       "    <tr>\n",
       "      <th>std</th>\n",
       "      <td>3599.918598</td>\n",
       "      <td>6.147510</td>\n",
       "      <td>50.307474</td>\n",
       "    </tr>\n",
       "    <tr>\n",
       "      <th>min</th>\n",
       "      <td>200.000000</td>\n",
       "      <td>1970.000000</td>\n",
       "      <td>25.000000</td>\n",
       "    </tr>\n",
       "    <tr>\n",
       "      <th>25%</th>\n",
       "      <td>1350.000000</td>\n",
       "      <td>1999.000000</td>\n",
       "      <td>77.000000</td>\n",
       "    </tr>\n",
       "    <tr>\n",
       "      <th>50%</th>\n",
       "      <td>2999.000000</td>\n",
       "      <td>2003.000000</td>\n",
       "      <td>110.000000</td>\n",
       "    </tr>\n",
       "    <tr>\n",
       "      <th>75%</th>\n",
       "      <td>6300.000000</td>\n",
       "      <td>2007.000000</td>\n",
       "      <td>144.000000</td>\n",
       "    </tr>\n",
       "    <tr>\n",
       "      <th>max</th>\n",
       "      <td>14600.000000</td>\n",
       "      <td>2016.000000</td>\n",
       "      <td>500.000000</td>\n",
       "    </tr>\n",
       "  </tbody>\n",
       "</table>\n",
       "</div>"
      ],
      "text/plain": [
       "               Price  RegistrationYear          Power\n",
       "count  236848.000000     236848.000000  236848.000000\n",
       "mean     4228.521465       2002.659376     118.282156\n",
       "std      3599.918598          6.147510      50.307474\n",
       "min       200.000000       1970.000000      25.000000\n",
       "25%      1350.000000       1999.000000      77.000000\n",
       "50%      2999.000000       2003.000000     110.000000\n",
       "75%      6300.000000       2007.000000     144.000000\n",
       "max     14600.000000       2016.000000     500.000000"
      ]
     },
     "execution_count": 21,
     "metadata": {},
     "output_type": "execute_result"
    }
   ],
   "source": [
    "df.describe()"
   ]
  },
  {
   "cell_type": "code",
   "execution_count": 22,
   "metadata": {},
   "outputs": [
    {
     "data": {
      "image/png": "[encoded data removed]",
      "text/plain": [
       "<Figure size 720x720 with 2 Axes>"
      ]
     },
     "metadata": {
      "needs_background": "light"
     },
     "output_type": "display_data"
    }
   ],
   "source": [
    "plt.figure(figsize=(10,10));\n",
    "plt.title('График корреляции');\n",
    "sns.heatmap(df.corr(), annot=True);"
   ]
  },
  {
   "cell_type": "markdown",
   "metadata": {},
   "source": [
    "### Деление на выборки. Масштабирование и кодирование методом OHE признаков."
   ]
  },
  {
   "cell_type": "code",
   "execution_count": 23,
   "metadata": {},
   "outputs": [],
   "source": [
    "features = df.drop('Price', axis=1)\n",
    "target = df['Price']\n",
    "\n",
    "X_train, X_test, y_train, y_test = train_test_split(features, target, random_state = 7, test_size=0.2)\n",
    "X_train_ohe = X_train.copy()\n",
    "X_test_ohe = X_test.copy()\n",
    "y_train_ohe = y_train.copy()\n",
    "y_test_ohe = y_test.copy()\n",
    "X_train_oe = X_train.copy()\n",
    "X_test_oe = X_test.copy()\n",
    "y_train_oe = y_train.copy()\n",
    "y_test_oe = y_test.copy()\n"
   ]
  },
  {
   "cell_type": "code",
   "execution_count": 24,
   "metadata": {},
   "outputs": [],
   "source": [
    "cat_1 = ['VehicleType', 'Gearbox', 'Model', 'FuelType']\n",
    "cat_2 = ['Repaired', 'Brand', 'Kilometer']\n",
    "ohe = OneHotEncoder(drop='first', handle_unknown='ignore', sparse=False)\n",
    "ohe.fit(X_train_ohe[cat_1])\n",
    "X_train_ohe[ohe.get_feature_names_out()] = ohe.transform(X_train_ohe[cat_1])\n",
    "X_test_ohe[ohe.get_feature_names_out()] = ohe.transform(X_test_ohe[cat_1])"
   ]
  },
  {
   "cell_type": "code",
   "execution_count": 25,
   "metadata": {},
   "outputs": [],
   "source": [
    "ohe.fit(X_train_ohe[cat_2])\n",
    "X_train_ohe[ohe.get_feature_names_out()] = ohe.transform(X_train_ohe[cat_2])\n",
    "X_test_ohe[ohe.get_feature_names_out()] = ohe.transform(X_test_ohe[cat_2])"
   ]
  },
  {
   "cell_type": "code",
   "execution_count": 26,
   "metadata": {},
   "outputs": [
    {
     "name": "stdout",
     "output_type": "stream",
     "text": [
      "(189478, 327)\n",
      "(47370, 327)\n",
      "(189478,)\n",
      "(47370,)\n"
     ]
    }
   ],
   "source": [
    "print(X_train_ohe.shape)\n",
    "print(X_test_ohe.shape)\n",
    "print(y_train_ohe.shape)\n",
    "print(y_test_ohe.shape)"
   ]
  },
  {
   "cell_type": "markdown",
   "metadata": {},
   "source": [
    "**Не знаю причины, но когда я добавляю `Brand` в список `cat` и запускаю код, у меня выпадает ошибка о том, что ядро не работает. Поэтмоу пришлось вынести отдельно. Мне не очень нравится такое исполнение, но другого я не смог реализовать. Почему так может быть? И как можно сделать иначе?**"
   ]
  },
  {
   "cell_type": "code",
   "execution_count": 27,
   "metadata": {},
   "outputs": [],
   "source": [
    "cat_1 = ['VehicleType', 'Gearbox', 'Model', 'FuelType']\n",
    "cat_2 = ['Repaired', 'Brand', 'Kilometer']\n",
    "oe = OrdinalEncoder(handle_unknown='use_encoded_value', unknown_value=-1)\n",
    "oe.fit(X_train_oe[cat_1])\n",
    "X_train_oe[cat_1] = oe.transform(X_train_oe[cat_1])\n",
    "X_test_oe[cat_1] = oe.transform(X_test_oe[cat_1])"
   ]
  },
  {
   "cell_type": "code",
   "execution_count": 28,
   "metadata": {},
   "outputs": [],
   "source": [
    "oe.fit(X_train_oe[cat_2])\n",
    "X_train_oe[cat_2] = oe.transform(X_train_oe[cat_2])\n",
    "X_test_oe[cat_2] = oe.transform(X_test_oe[cat_2])"
   ]
  },
  {
   "cell_type": "code",
   "execution_count": 29,
   "metadata": {},
   "outputs": [],
   "source": [
    "num = ['RegistrationYear', 'Power']\n",
    "scaler = StandardScaler()\n",
    "scaler.fit(X_train[num])\n",
    "X_train[num] = scaler.transform(X_train[num])\n",
    "X_test[num] = scaler.transform(X_test[num])\n",
    "X_train_ohe[num] = scaler.transform(X_train_ohe[num])\n",
    "X_test_ohe[num] = scaler.transform(X_test_ohe[num])\n",
    "X_train_oe[num] = scaler.transform(X_train_oe[num])\n",
    "X_test_oe[num] = scaler.transform(X_test_oe[num])"
   ]
  },
  {
   "cell_type": "code",
   "execution_count": 30,
   "metadata": {},
   "outputs": [],
   "source": [
    "X_train_ohe = X_train_ohe.drop(cat_1, axis = 1)\n",
    "X_test_ohe = X_test_ohe.drop(cat_1, axis = 1)\n",
    "X_train_ohe = X_train_ohe.drop(cat_2, axis = 1)\n",
    "X_test_ohe = X_test_ohe.drop(cat_2, axis = 1)"
   ]
  },
  {
   "cell_type": "markdown",
   "metadata": {},
   "source": [
    "## Обучение моделей"
   ]
  },
  {
   "cell_type": "markdown",
   "metadata": {},
   "source": [
    "### Функция скоринга"
   ]
  },
  {
   "cell_type": "code",
   "execution_count": 31,
   "metadata": {},
   "outputs": [],
   "source": [
    "def rmse(target, pred):\n",
    "    return mean_squared_error(target, pred)**0.5\n",
    "\n",
    "rmse_scorer = make_scorer(rmse, greater_is_better = False)"
   ]
  },
  {
   "cell_type": "markdown",
   "metadata": {},
   "source": [
    "### Линейная модель с кросс-валидацией."
   ]
  },
  {
   "cell_type": "code",
   "execution_count": 32,
   "metadata": {},
   "outputs": [
    {
     "name": "stdout",
     "output_type": "stream",
     "text": [
      "RMSE при кросс-валидации: 2067.724809983067\n",
      "CPU times: user 1min 55s, sys: 2min 9s, total: 4min 5s\n",
      "Wall time: 4min 5s\n"
     ]
    }
   ],
   "source": [
    "%%time\n",
    "\n",
    "model_lr = LinearRegression()\n",
    "rmse = cross_val_score(model_lr, X_train_ohe, y_train_ohe, scoring = rmse_scorer, cv=4)\n",
    "rmse_cv_lr_ohe = abs(rmse.mean())\n",
    "print('RMSE при кросс-валидации:', rmse_cv_lr_ohe)"
   ]
  },
  {
   "cell_type": "code",
   "execution_count": 33,
   "metadata": {},
   "outputs": [
    {
     "name": "stdout",
     "output_type": "stream",
     "text": [
      "RMSE при кросс-валидации: 2459.6123175264484\n",
      "CPU times: user 506 ms, sys: 335 ms, total: 840 ms\n",
      "Wall time: 879 ms\n"
     ]
    }
   ],
   "source": [
    "%%time\n",
    "\n",
    "model_lr = LinearRegression()\n",
    "rmse = cross_val_score(model_lr, X_train_oe, y_train_oe, scoring = rmse_scorer, cv=4)\n",
    "rmse_cv_lr_oe = abs(rmse.mean())\n",
    "print('RMSE при кросс-валидации:', rmse_cv_lr_oe)"
   ]
  },
  {
   "cell_type": "code",
   "execution_count": 34,
   "metadata": {},
   "outputs": [
    {
     "name": "stdout",
     "output_type": "stream",
     "text": [
      "CPU times: user 36.6 s, sys: 39.6 s, total: 1min 16s\n",
      "Wall time: 1min 16s\n"
     ]
    },
    {
     "data": {
      "text/html": [
       "<style>#sk-container-id-1 {color: black;background-color: white;}#sk-container-id-1 pre{padding: 0;}#sk-container-id-1 div.sk-toggleable {background-color: white;}#sk-container-id-1 label.sk-toggleable__label {cursor: pointer;display: block;width: 100%;margin-bottom: 0;padding: 0.3em;box-sizing: border-box;text-align: center;}#sk-container-id-1 label.sk-toggleable__label-arrow:before {content: \"▸\";float: left;margin-right: 0.25em;color: #696969;}#sk-container-id-1 label.sk-toggleable__label-arrow:hover:before {color: black;}#sk-container-id-1 div.sk-estimator:hover label.sk-toggleable__label-arrow:before {color: black;}#sk-container-id-1 div.sk-toggleable__content {max-height: 0;max-width: 0;overflow: hidden;text-align: left;background-color: #f0f8ff;}#sk-container-id-1 div.sk-toggleable__content pre {margin: 0.2em;color: black;border-radius: 0.25em;background-color: #f0f8ff;}#sk-container-id-1 input.sk-toggleable__control:checked~div.sk-toggleable__content {max-height: 200px;max-width: 100%;overflow: auto;}#sk-container-id-1 input.sk-toggleable__control:checked~label.sk-toggleable__label-arrow:before {content: \"▾\";}#sk-container-id-1 div.sk-estimator input.sk-toggleable__control:checked~label.sk-toggleable__label {background-color: #d4ebff;}#sk-container-id-1 div.sk-label input.sk-toggleable__control:checked~label.sk-toggleable__label {background-color: #d4ebff;}#sk-container-id-1 input.sk-hidden--visually {border: 0;clip: rect(1px 1px 1px 1px);clip: rect(1px, 1px, 1px, 1px);height: 1px;margin: -1px;overflow: hidden;padding: 0;position: absolute;width: 1px;}#sk-container-id-1 div.sk-estimator {font-family: monospace;background-color: #f0f8ff;border: 1px dotted black;border-radius: 0.25em;box-sizing: border-box;margin-bottom: 0.5em;}#sk-container-id-1 div.sk-estimator:hover {background-color: #d4ebff;}#sk-container-id-1 div.sk-parallel-item::after {content: \"\";width: 100%;border-bottom: 1px solid gray;flex-grow: 1;}#sk-container-id-1 div.sk-label:hover label.sk-toggleable__label {background-color: #d4ebff;}#sk-container-id-1 div.sk-serial::before {content: \"\";position: absolute;border-left: 1px solid gray;box-sizing: border-box;top: 0;bottom: 0;left: 50%;z-index: 0;}#sk-container-id-1 div.sk-serial {display: flex;flex-direction: column;align-items: center;background-color: white;padding-right: 0.2em;padding-left: 0.2em;position: relative;}#sk-container-id-1 div.sk-item {position: relative;z-index: 1;}#sk-container-id-1 div.sk-parallel {display: flex;align-items: stretch;justify-content: center;background-color: white;position: relative;}#sk-container-id-1 div.sk-item::before, #sk-container-id-1 div.sk-parallel-item::before {content: \"\";position: absolute;border-left: 1px solid gray;box-sizing: border-box;top: 0;bottom: 0;left: 50%;z-index: -1;}#sk-container-id-1 div.sk-parallel-item {display: flex;flex-direction: column;z-index: 1;position: relative;background-color: white;}#sk-container-id-1 div.sk-parallel-item:first-child::after {align-self: flex-end;width: 50%;}#sk-container-id-1 div.sk-parallel-item:last-child::after {align-self: flex-start;width: 50%;}#sk-container-id-1 div.sk-parallel-item:only-child::after {width: 0;}#sk-container-id-1 div.sk-dashed-wrapped {border: 1px dashed gray;margin: 0 0.4em 0.5em 0.4em;box-sizing: border-box;padding-bottom: 0.4em;background-color: white;}#sk-container-id-1 div.sk-label label {font-family: monospace;font-weight: bold;display: inline-block;line-height: 1.2em;}#sk-container-id-1 div.sk-label-container {text-align: center;}#sk-container-id-1 div.sk-container {/* jupyter's `normalize.less` sets `[hidden] { display: none; }` but bootstrap.min.css set `[hidden] { display: none !important; }` so we also need the `!important` here to be able to override the default hidden behavior on the sphinx rendered scikit-learn.org. See: https://github.com/scikit-learn/scikit-learn/issues/21755 */display: inline-block !important;position: relative;}#sk-container-id-1 div.sk-text-repr-fallback {display: none;}</style><div id=\"sk-container-id-1\" class=\"sk-top-container\"><div class=\"sk-text-repr-fallback\"><pre>LinearRegression()</pre><b>In a Jupyter environment, please rerun this cell to show the HTML representation or trust the notebook. <br />On GitHub, the HTML representation is unable to render, please try loading this page with nbviewer.org.</b></div><div class=\"sk-container\" hidden><div class=\"sk-item\"><div class=\"sk-estimator sk-toggleable\"><input class=\"sk-toggleable__control sk-hidden--visually\" id=\"sk-estimator-id-1\" type=\"checkbox\" checked><label for=\"sk-estimator-id-1\" class=\"sk-toggleable__label sk-toggleable__label-arrow\">LinearRegression</label><div class=\"sk-toggleable__content\"><pre>LinearRegression()</pre></div></div></div></div></div>"
      ],
      "text/plain": [
       "LinearRegression()"
      ]
     },
     "execution_count": 34,
     "metadata": {},
     "output_type": "execute_result"
    }
   ],
   "source": [
    "%%time\n",
    "\n",
    "model_lr = LinearRegression()\n",
    "model_lr.fit(X_train_ohe, y_train_ohe)"
   ]
  },
  {
   "cell_type": "code",
   "execution_count": 35,
   "metadata": {},
   "outputs": [
    {
     "name": "stdout",
     "output_type": "stream",
     "text": [
      "CPU times: user 53.7 ms, sys: 27.9 ms, total: 81.6 ms\n",
      "Wall time: 90.3 ms\n"
     ]
    }
   ],
   "source": [
    "%%time\n",
    "\n",
    "pred = model_lr.predict(X_test_ohe)\n",
    "rmse_lr_ohe = mean_squared_error(y_test_ohe, pred)**0.5"
   ]
  },
  {
   "cell_type": "code",
   "execution_count": 36,
   "metadata": {},
   "outputs": [
    {
     "name": "stdout",
     "output_type": "stream",
     "text": [
      "CPU times: user 85.8 ms, sys: 46.1 ms, total: 132 ms\n",
      "Wall time: 158 ms\n"
     ]
    },
    {
     "data": {
      "text/html": [
       "<style>#sk-container-id-2 {color: black;background-color: white;}#sk-container-id-2 pre{padding: 0;}#sk-container-id-2 div.sk-toggleable {background-color: white;}#sk-container-id-2 label.sk-toggleable__label {cursor: pointer;display: block;width: 100%;margin-bottom: 0;padding: 0.3em;box-sizing: border-box;text-align: center;}#sk-container-id-2 label.sk-toggleable__label-arrow:before {content: \"▸\";float: left;margin-right: 0.25em;color: #696969;}#sk-container-id-2 label.sk-toggleable__label-arrow:hover:before {color: black;}#sk-container-id-2 div.sk-estimator:hover label.sk-toggleable__label-arrow:before {color: black;}#sk-container-id-2 div.sk-toggleable__content {max-height: 0;max-width: 0;overflow: hidden;text-align: left;background-color: #f0f8ff;}#sk-container-id-2 div.sk-toggleable__content pre {margin: 0.2em;color: black;border-radius: 0.25em;background-color: #f0f8ff;}#sk-container-id-2 input.sk-toggleable__control:checked~div.sk-toggleable__content {max-height: 200px;max-width: 100%;overflow: auto;}#sk-container-id-2 input.sk-toggleable__control:checked~label.sk-toggleable__label-arrow:before {content: \"▾\";}#sk-container-id-2 div.sk-estimator input.sk-toggleable__control:checked~label.sk-toggleable__label {background-color: #d4ebff;}#sk-container-id-2 div.sk-label input.sk-toggleable__control:checked~label.sk-toggleable__label {background-color: #d4ebff;}#sk-container-id-2 input.sk-hidden--visually {border: 0;clip: rect(1px 1px 1px 1px);clip: rect(1px, 1px, 1px, 1px);height: 1px;margin: -1px;overflow: hidden;padding: 0;position: absolute;width: 1px;}#sk-container-id-2 div.sk-estimator {font-family: monospace;background-color: #f0f8ff;border: 1px dotted black;border-radius: 0.25em;box-sizing: border-box;margin-bottom: 0.5em;}#sk-container-id-2 div.sk-estimator:hover {background-color: #d4ebff;}#sk-container-id-2 div.sk-parallel-item::after {content: \"\";width: 100%;border-bottom: 1px solid gray;flex-grow: 1;}#sk-container-id-2 div.sk-label:hover label.sk-toggleable__label {background-color: #d4ebff;}#sk-container-id-2 div.sk-serial::before {content: \"\";position: absolute;border-left: 1px solid gray;box-sizing: border-box;top: 0;bottom: 0;left: 50%;z-index: 0;}#sk-container-id-2 div.sk-serial {display: flex;flex-direction: column;align-items: center;background-color: white;padding-right: 0.2em;padding-left: 0.2em;position: relative;}#sk-container-id-2 div.sk-item {position: relative;z-index: 1;}#sk-container-id-2 div.sk-parallel {display: flex;align-items: stretch;justify-content: center;background-color: white;position: relative;}#sk-container-id-2 div.sk-item::before, #sk-container-id-2 div.sk-parallel-item::before {content: \"\";position: absolute;border-left: 1px solid gray;box-sizing: border-box;top: 0;bottom: 0;left: 50%;z-index: -1;}#sk-container-id-2 div.sk-parallel-item {display: flex;flex-direction: column;z-index: 1;position: relative;background-color: white;}#sk-container-id-2 div.sk-parallel-item:first-child::after {align-self: flex-end;width: 50%;}#sk-container-id-2 div.sk-parallel-item:last-child::after {align-self: flex-start;width: 50%;}#sk-container-id-2 div.sk-parallel-item:only-child::after {width: 0;}#sk-container-id-2 div.sk-dashed-wrapped {border: 1px dashed gray;margin: 0 0.4em 0.5em 0.4em;box-sizing: border-box;padding-bottom: 0.4em;background-color: white;}#sk-container-id-2 div.sk-label label {font-family: monospace;font-weight: bold;display: inline-block;line-height: 1.2em;}#sk-container-id-2 div.sk-label-container {text-align: center;}#sk-container-id-2 div.sk-container {/* jupyter's `normalize.less` sets `[hidden] { display: none; }` but bootstrap.min.css set `[hidden] { display: none !important; }` so we also need the `!important` here to be able to override the default hidden behavior on the sphinx rendered scikit-learn.org. See: https://github.com/scikit-learn/scikit-learn/issues/21755 */display: inline-block !important;position: relative;}#sk-container-id-2 div.sk-text-repr-fallback {display: none;}</style><div id=\"sk-container-id-2\" class=\"sk-top-container\"><div class=\"sk-text-repr-fallback\"><pre>LinearRegression()</pre><b>In a Jupyter environment, please rerun this cell to show the HTML representation or trust the notebook. <br />On GitHub, the HTML representation is unable to render, please try loading this page with nbviewer.org.</b></div><div class=\"sk-container\" hidden><div class=\"sk-item\"><div class=\"sk-estimator sk-toggleable\"><input class=\"sk-toggleable__control sk-hidden--visually\" id=\"sk-estimator-id-2\" type=\"checkbox\" checked><label for=\"sk-estimator-id-2\" class=\"sk-toggleable__label sk-toggleable__label-arrow\">LinearRegression</label><div class=\"sk-toggleable__content\"><pre>LinearRegression()</pre></div></div></div></div></div>"
      ],
      "text/plain": [
       "LinearRegression()"
      ]
     },
     "execution_count": 36,
     "metadata": {},
     "output_type": "execute_result"
    }
   ],
   "source": [
    "%%time\n",
    "\n",
    "model_lr = LinearRegression()\n",
    "model_lr.fit(X_train_oe, y_train_oe)"
   ]
  },
  {
   "cell_type": "code",
   "execution_count": 37,
   "metadata": {},
   "outputs": [
    {
     "name": "stdout",
     "output_type": "stream",
     "text": [
      "CPU times: user 24.9 ms, sys: 24.4 ms, total: 49.3 ms\n",
      "Wall time: 21.7 ms\n"
     ]
    }
   ],
   "source": [
    "%%time\n",
    "\n",
    "pred = model_lr.predict(X_test_oe)\n",
    "rmse_lr_oe = mean_squared_error(y_test_oe, pred)**0.5"
   ]
  },
  {
   "cell_type": "markdown",
   "metadata": {},
   "source": [
    "### Случайный лес"
   ]
  },
  {
   "cell_type": "code",
   "execution_count": 38,
   "metadata": {},
   "outputs": [
    {
     "name": "stdout",
     "output_type": "stream",
     "text": [
      "RandomForestRegressor(max_depth=10, n_estimators=4, random_state=7)\n",
      "CPU times: user 46.3 s, sys: 781 ms, total: 47.1 s\n",
      "Wall time: 47.2 s\n"
     ]
    }
   ],
   "source": [
    "%%time \n",
    "\n",
    "param = {'n_estimators': range(1,11),\n",
    "         'max_depth': range(1,11)}\n",
    "\n",
    "model_rf = RandomForestRegressor(random_state = 7)\n",
    "randomizedsearch = RandomizedSearchCV(model_rf, param, random_state = 7, scoring = rmse_scorer)\n",
    "\n",
    "rf_best = randomizedsearch.fit(X_train_oe, y_train_oe)\n",
    "print(rf_best.best_estimator_)"
   ]
  },
  {
   "cell_type": "code",
   "execution_count": 39,
   "metadata": {},
   "outputs": [
    {
     "name": "stdout",
     "output_type": "stream",
     "text": [
      "RMSE при кросс-валидации: 1603.2208617285376\n",
      "CPU times: user 3.79 s, sys: 49.1 ms, total: 3.84 s\n",
      "Wall time: 3.86 s\n"
     ]
    }
   ],
   "source": [
    "%%time\n",
    "\n",
    "model_rf = RandomForestRegressor(max_depth = 10, n_estimators = 4, random_state = 7)\n",
    "rmse = cross_val_score(model_rf, X_train_oe, y_train_oe, scoring = rmse_scorer, cv=4)\n",
    "rmse_cv_rf_oe = abs(rmse.mean())\n",
    "print('RMSE при кросс-валидации:', rmse_cv_rf_oe)"
   ]
  },
  {
   "cell_type": "code",
   "execution_count": 40,
   "metadata": {},
   "outputs": [
    {
     "name": "stdout",
     "output_type": "stream",
     "text": [
      "CPU times: user 1.27 s, sys: 22.3 ms, total: 1.29 s\n",
      "Wall time: 1.3 s\n"
     ]
    },
    {
     "data": {
      "text/html": [
       "<style>#sk-container-id-3 {color: black;background-color: white;}#sk-container-id-3 pre{padding: 0;}#sk-container-id-3 div.sk-toggleable {background-color: white;}#sk-container-id-3 label.sk-toggleable__label {cursor: pointer;display: block;width: 100%;margin-bottom: 0;padding: 0.3em;box-sizing: border-box;text-align: center;}#sk-container-id-3 label.sk-toggleable__label-arrow:before {content: \"▸\";float: left;margin-right: 0.25em;color: #696969;}#sk-container-id-3 label.sk-toggleable__label-arrow:hover:before {color: black;}#sk-container-id-3 div.sk-estimator:hover label.sk-toggleable__label-arrow:before {color: black;}#sk-container-id-3 div.sk-toggleable__content {max-height: 0;max-width: 0;overflow: hidden;text-align: left;background-color: #f0f8ff;}#sk-container-id-3 div.sk-toggleable__content pre {margin: 0.2em;color: black;border-radius: 0.25em;background-color: #f0f8ff;}#sk-container-id-3 input.sk-toggleable__control:checked~div.sk-toggleable__content {max-height: 200px;max-width: 100%;overflow: auto;}#sk-container-id-3 input.sk-toggleable__control:checked~label.sk-toggleable__label-arrow:before {content: \"▾\";}#sk-container-id-3 div.sk-estimator input.sk-toggleable__control:checked~label.sk-toggleable__label {background-color: #d4ebff;}#sk-container-id-3 div.sk-label input.sk-toggleable__control:checked~label.sk-toggleable__label {background-color: #d4ebff;}#sk-container-id-3 input.sk-hidden--visually {border: 0;clip: rect(1px 1px 1px 1px);clip: rect(1px, 1px, 1px, 1px);height: 1px;margin: -1px;overflow: hidden;padding: 0;position: absolute;width: 1px;}#sk-container-id-3 div.sk-estimator {font-family: monospace;background-color: #f0f8ff;border: 1px dotted black;border-radius: 0.25em;box-sizing: border-box;margin-bottom: 0.5em;}#sk-container-id-3 div.sk-estimator:hover {background-color: #d4ebff;}#sk-container-id-3 div.sk-parallel-item::after {content: \"\";width: 100%;border-bottom: 1px solid gray;flex-grow: 1;}#sk-container-id-3 div.sk-label:hover label.sk-toggleable__label {background-color: #d4ebff;}#sk-container-id-3 div.sk-serial::before {content: \"\";position: absolute;border-left: 1px solid gray;box-sizing: border-box;top: 0;bottom: 0;left: 50%;z-index: 0;}#sk-container-id-3 div.sk-serial {display: flex;flex-direction: column;align-items: center;background-color: white;padding-right: 0.2em;padding-left: 0.2em;position: relative;}#sk-container-id-3 div.sk-item {position: relative;z-index: 1;}#sk-container-id-3 div.sk-parallel {display: flex;align-items: stretch;justify-content: center;background-color: white;position: relative;}#sk-container-id-3 div.sk-item::before, #sk-container-id-3 div.sk-parallel-item::before {content: \"\";position: absolute;border-left: 1px solid gray;box-sizing: border-box;top: 0;bottom: 0;left: 50%;z-index: -1;}#sk-container-id-3 div.sk-parallel-item {display: flex;flex-direction: column;z-index: 1;position: relative;background-color: white;}#sk-container-id-3 div.sk-parallel-item:first-child::after {align-self: flex-end;width: 50%;}#sk-container-id-3 div.sk-parallel-item:last-child::after {align-self: flex-start;width: 50%;}#sk-container-id-3 div.sk-parallel-item:only-child::after {width: 0;}#sk-container-id-3 div.sk-dashed-wrapped {border: 1px dashed gray;margin: 0 0.4em 0.5em 0.4em;box-sizing: border-box;padding-bottom: 0.4em;background-color: white;}#sk-container-id-3 div.sk-label label {font-family: monospace;font-weight: bold;display: inline-block;line-height: 1.2em;}#sk-container-id-3 div.sk-label-container {text-align: center;}#sk-container-id-3 div.sk-container {/* jupyter's `normalize.less` sets `[hidden] { display: none; }` but bootstrap.min.css set `[hidden] { display: none !important; }` so we also need the `!important` here to be able to override the default hidden behavior on the sphinx rendered scikit-learn.org. See: https://github.com/scikit-learn/scikit-learn/issues/21755 */display: inline-block !important;position: relative;}#sk-container-id-3 div.sk-text-repr-fallback {display: none;}</style><div id=\"sk-container-id-3\" class=\"sk-top-container\"><div class=\"sk-text-repr-fallback\"><pre>RandomForestRegressor(max_depth=10, n_estimators=4, random_state=7)</pre><b>In a Jupyter environment, please rerun this cell to show the HTML representation or trust the notebook. <br />On GitHub, the HTML representation is unable to render, please try loading this page with nbviewer.org.</b></div><div class=\"sk-container\" hidden><div class=\"sk-item\"><div class=\"sk-estimator sk-toggleable\"><input class=\"sk-toggleable__control sk-hidden--visually\" id=\"sk-estimator-id-3\" type=\"checkbox\" checked><label for=\"sk-estimator-id-3\" class=\"sk-toggleable__label sk-toggleable__label-arrow\">RandomForestRegressor</label><div class=\"sk-toggleable__content\"><pre>RandomForestRegressor(max_depth=10, n_estimators=4, random_state=7)</pre></div></div></div></div></div>"
      ],
      "text/plain": [
       "RandomForestRegressor(max_depth=10, n_estimators=4, random_state=7)"
      ]
     },
     "execution_count": 40,
     "metadata": {},
     "output_type": "execute_result"
    }
   ],
   "source": [
    "%%time\n",
    "\n",
    "model_rf = RandomForestRegressor(max_depth = 10, n_estimators = 4, random_state = 7)\n",
    "model_rf.fit(X_train_oe, y_train_oe)"
   ]
  },
  {
   "cell_type": "code",
   "execution_count": 41,
   "metadata": {},
   "outputs": [
    {
     "name": "stdout",
     "output_type": "stream",
     "text": [
      "CPU times: user 27.9 ms, sys: 630 µs, total: 28.6 ms\n",
      "Wall time: 28.4 ms\n"
     ]
    }
   ],
   "source": [
    "%%time\n",
    "\n",
    "pred = model_rf.predict(X_test_oe)\n",
    "rmse_rf_oe = mean_squared_error(y_test_oe, pred)**0.5 "
   ]
  },
  {
   "cell_type": "markdown",
   "metadata": {},
   "source": [
    "### CatBoost"
   ]
  },
  {
   "cell_type": "code",
   "execution_count": 42,
   "metadata": {},
   "outputs": [],
   "source": [
    "cat_b = ['VehicleType', 'Gearbox', 'Model', 'FuelType', 'Brand', 'Repaired', 'Kilometer']\n",
    "X_train[cat_b] = X_train[cat_b].astype('str')\n",
    "X_test[cat_b] = X_test[cat_b].astype('str')\n"
   ]
  },
  {
   "cell_type": "code",
   "execution_count": 43,
   "metadata": {},
   "outputs": [
    {
     "name": "stdout",
     "output_type": "stream",
     "text": [
      "Training on fold [0/3]\n",
      "0:\tlearn: 5085.1391583\ttest: 5044.6258988\tbest: 5044.6258988 (0)\ttotal: 657ms\tremaining: 2m 10s\n",
      "10:\tlearn: 2430.0798878\ttest: 2419.5573141\tbest: 2419.5573141 (10)\ttotal: 5.59s\tremaining: 1m 36s\n",
      "20:\tlearn: 1713.7742673\ttest: 1718.1233666\tbest: 1718.1233666 (20)\ttotal: 10.1s\tremaining: 1m 26s\n",
      "30:\tlearn: 1522.9737138\ttest: 1535.6165412\tbest: 1535.6165412 (30)\ttotal: 14.9s\tremaining: 1m 21s\n",
      "40:\tlearn: 1463.9201305\ttest: 1483.1880955\tbest: 1483.1880955 (40)\ttotal: 19.6s\tremaining: 1m 15s\n",
      "50:\tlearn: 1432.6565817\ttest: 1457.0240990\tbest: 1457.0240990 (50)\ttotal: 24.3s\tremaining: 1m 11s\n",
      "60:\tlearn: 1413.7908107\ttest: 1442.9931531\tbest: 1442.9931531 (60)\ttotal: 29.4s\tremaining: 1m 7s\n",
      "70:\tlearn: 1395.5366431\ttest: 1429.1752347\tbest: 1429.1752347 (70)\ttotal: 34.4s\tremaining: 1m 2s\n",
      "80:\tlearn: 1381.8912627\ttest: 1419.6111305\tbest: 1419.6111305 (80)\ttotal: 39.7s\tremaining: 58.3s\n",
      "90:\tlearn: 1368.9991000\ttest: 1410.5911040\tbest: 1410.5911040 (90)\ttotal: 44.4s\tremaining: 53.1s\n",
      "100:\tlearn: 1358.4794236\ttest: 1404.6477664\tbest: 1404.6477664 (100)\ttotal: 49.9s\tremaining: 48.9s\n",
      "110:\tlearn: 1349.5547903\ttest: 1399.2901989\tbest: 1399.2901989 (110)\ttotal: 55.1s\tremaining: 44.1s\n",
      "120:\tlearn: 1341.2955467\ttest: 1394.5178781\tbest: 1394.5178781 (120)\ttotal: 1m\tremaining: 39.5s\n",
      "130:\tlearn: 1333.1918084\ttest: 1389.6588176\tbest: 1389.6588176 (130)\ttotal: 1m 5s\tremaining: 34.6s\n",
      "140:\tlearn: 1325.5458359\ttest: 1385.6834910\tbest: 1385.6834910 (140)\ttotal: 1m 10s\tremaining: 29.6s\n",
      "150:\tlearn: 1317.5715306\ttest: 1381.8474012\tbest: 1381.8474012 (150)\ttotal: 1m 16s\tremaining: 24.7s\n",
      "160:\tlearn: 1310.9713602\ttest: 1378.1236864\tbest: 1378.1236864 (160)\ttotal: 1m 21s\tremaining: 19.8s\n",
      "170:\tlearn: 1303.5993550\ttest: 1374.5003637\tbest: 1374.5003637 (170)\ttotal: 1m 27s\tremaining: 14.8s\n",
      "180:\tlearn: 1297.8574587\ttest: 1372.0959904\tbest: 1372.0959904 (180)\ttotal: 1m 32s\tremaining: 9.73s\n",
      "190:\tlearn: 1292.9812007\ttest: 1370.4731558\tbest: 1370.4731558 (190)\ttotal: 1m 37s\tremaining: 4.61s\n",
      "199:\tlearn: 1289.0937720\ttest: 1369.2116652\tbest: 1369.2116652 (199)\ttotal: 1m 42s\tremaining: 0us\n",
      "\n",
      "bestTest = 1369.211665\n",
      "bestIteration = 199\n",
      "\n",
      "Training on fold [1/3]\n",
      "0:\tlearn: 5060.5808701\ttest: 5096.2165300\tbest: 5096.2165300 (0)\ttotal: 517ms\tremaining: 1m 42s\n",
      "10:\tlearn: 2425.8988036\ttest: 2451.7972429\tbest: 2451.7972429 (10)\ttotal: 5.3s\tremaining: 1m 31s\n",
      "20:\tlearn: 1712.3539247\ttest: 1739.3738855\tbest: 1739.3738855 (20)\ttotal: 10s\tremaining: 1m 25s\n",
      "30:\tlearn: 1526.7423412\ttest: 1555.8321437\tbest: 1555.8321437 (30)\ttotal: 14.5s\tremaining: 1m 19s\n",
      "40:\tlearn: 1466.7337223\ttest: 1499.7218812\tbest: 1499.7218812 (40)\ttotal: 19s\tremaining: 1m 13s\n",
      "50:\tlearn: 1436.6750604\ttest: 1474.9356202\tbest: 1474.9356202 (50)\ttotal: 23.9s\tremaining: 1m 9s\n",
      "60:\tlearn: 1413.6656361\ttest: 1456.1867772\tbest: 1456.1867772 (60)\ttotal: 28.9s\tremaining: 1m 5s\n",
      "70:\tlearn: 1396.2390250\ttest: 1443.6070375\tbest: 1443.6070375 (70)\ttotal: 34.4s\tremaining: 1m 2s\n",
      "80:\tlearn: 1382.3824720\ttest: 1433.6683143\tbest: 1433.6683143 (80)\ttotal: 39.1s\tremaining: 57.5s\n",
      "90:\tlearn: 1368.5327697\ttest: 1425.5131475\tbest: 1425.5131475 (90)\ttotal: 44.4s\tremaining: 53.2s\n",
      "100:\tlearn: 1354.7103196\ttest: 1416.1372815\tbest: 1416.1372815 (100)\ttotal: 49.7s\tremaining: 48.7s\n",
      "110:\tlearn: 1344.0002990\ttest: 1410.3390315\tbest: 1410.3390315 (110)\ttotal: 55.4s\tremaining: 44.4s\n",
      "120:\tlearn: 1335.9287396\ttest: 1405.8586172\tbest: 1405.8586172 (120)\ttotal: 1m\tremaining: 39.5s\n",
      "130:\tlearn: 1327.3082360\ttest: 1401.7842059\tbest: 1401.7842059 (130)\ttotal: 1m 6s\tremaining: 34.9s\n",
      "140:\tlearn: 1319.9490251\ttest: 1397.7568092\tbest: 1397.7568092 (140)\ttotal: 1m 12s\tremaining: 30.2s\n",
      "150:\tlearn: 1313.0870575\ttest: 1393.8369903\tbest: 1393.8369903 (150)\ttotal: 1m 18s\tremaining: 25.3s\n",
      "160:\tlearn: 1306.6819359\ttest: 1390.8721219\tbest: 1390.8721219 (160)\ttotal: 1m 23s\tremaining: 20.3s\n",
      "170:\tlearn: 1300.5479528\ttest: 1388.1893050\tbest: 1388.1893050 (170)\ttotal: 1m 29s\tremaining: 15.2s\n",
      "180:\tlearn: 1295.6209918\ttest: 1386.5622184\tbest: 1386.5622184 (180)\ttotal: 1m 35s\tremaining: 9.97s\n",
      "190:\tlearn: 1290.1621249\ttest: 1384.5878037\tbest: 1384.5878037 (190)\ttotal: 1m 40s\tremaining: 4.73s\n",
      "199:\tlearn: 1286.6222806\ttest: 1383.4923039\tbest: 1383.4923039 (199)\ttotal: 1m 45s\tremaining: 0us\n",
      "\n",
      "bestTest = 1383.492304\n",
      "bestIteration = 199\n",
      "\n",
      "Training on fold [2/3]\n",
      "0:\tlearn: 5072.9242555\ttest: 5081.0300285\tbest: 5081.0300285 (0)\ttotal: 554ms\tremaining: 1m 50s\n",
      "10:\tlearn: 2443.5723637\ttest: 2442.8986382\tbest: 2442.8986382 (10)\ttotal: 5.28s\tremaining: 1m 30s\n",
      "20:\tlearn: 1719.0364558\ttest: 1715.2423963\tbest: 1715.2423963 (20)\ttotal: 9.88s\tremaining: 1m 24s\n",
      "30:\tlearn: 1535.6107166\ttest: 1532.8779716\tbest: 1532.8779716 (30)\ttotal: 14.7s\tremaining: 1m 20s\n",
      "40:\tlearn: 1475.1505183\ttest: 1476.5268289\tbest: 1476.5268289 (40)\ttotal: 19.7s\tremaining: 1m 16s\n",
      "50:\tlearn: 1442.0857923\ttest: 1448.2317766\tbest: 1448.2317766 (50)\ttotal: 24.8s\tremaining: 1m 12s\n",
      "60:\tlearn: 1420.1374214\ttest: 1431.4127249\tbest: 1431.4127249 (60)\ttotal: 30.2s\tremaining: 1m 8s\n",
      "70:\tlearn: 1400.2887887\ttest: 1416.1033737\tbest: 1416.1033737 (70)\ttotal: 35.8s\tremaining: 1m 4s\n",
      "80:\tlearn: 1385.8297147\ttest: 1407.0263198\tbest: 1407.0263198 (80)\ttotal: 41.3s\tremaining: 1m\n",
      "90:\tlearn: 1369.9448108\ttest: 1396.4431623\tbest: 1396.4431623 (90)\ttotal: 47.1s\tremaining: 56.4s\n",
      "100:\tlearn: 1360.2762608\ttest: 1390.2409021\tbest: 1390.2409021 (100)\ttotal: 52.5s\tremaining: 51.5s\n",
      "110:\tlearn: 1351.0535418\ttest: 1385.1789378\tbest: 1385.1789378 (110)\ttotal: 57.9s\tremaining: 46.5s\n",
      "120:\tlearn: 1341.2066612\ttest: 1380.0342533\tbest: 1380.0342533 (120)\ttotal: 1m 3s\tremaining: 41.5s\n",
      "130:\tlearn: 1333.6292142\ttest: 1376.3604310\tbest: 1376.3604310 (130)\ttotal: 1m 9s\tremaining: 36.5s\n",
      "140:\tlearn: 1326.0451809\ttest: 1372.7421500\tbest: 1372.7421500 (140)\ttotal: 1m 14s\tremaining: 31.3s\n",
      "150:\tlearn: 1318.0073186\ttest: 1368.6545372\tbest: 1368.6545372 (150)\ttotal: 1m 20s\tremaining: 26.2s\n",
      "160:\tlearn: 1312.0948403\ttest: 1366.3303622\tbest: 1366.3303622 (160)\ttotal: 1m 26s\tremaining: 21s\n",
      "170:\tlearn: 1304.6522235\ttest: 1362.5435284\tbest: 1362.5435284 (170)\ttotal: 1m 32s\tremaining: 15.7s\n",
      "180:\tlearn: 1298.9340458\ttest: 1360.4877900\tbest: 1360.4877900 (180)\ttotal: 1m 38s\tremaining: 10.4s\n",
      "190:\tlearn: 1294.5829123\ttest: 1359.0406581\tbest: 1359.0406581 (190)\ttotal: 1m 44s\tremaining: 4.93s\n",
      "199:\tlearn: 1290.8425449\ttest: 1357.6991501\tbest: 1357.6991501 (199)\ttotal: 1m 49s\tremaining: 0us\n",
      "\n",
      "bestTest = 1357.69915\n",
      "bestIteration = 199\n",
      "\n",
      "RMSE при кросс-валидации: 1288.8528658654834\n"
     ]
    }
   ],
   "source": [
    "cv_df = Pool(data=X_train,\n",
    "             label=y_train,\n",
    "             cat_features=cat_b)\n",
    "    \n",
    "    \n",
    "params = {\"loss_function\": 'RMSE', \"learning_rate\": 0.1, 'random_state': 7, 'depth': 10, 'iterations': 200, 'verbose': 10}\n",
    " \n",
    "score_cat = cv(cv_df, params, fold_count=3)\n",
    "rmse_cv_cat = score_cat['train-RMSE-mean'].min()\n",
    "print('RMSE при кросс-валидации:', rmse_cv_cat)"
   ]
  },
  {
   "cell_type": "code",
   "execution_count": 44,
   "metadata": {},
   "outputs": [
    {
     "name": "stdout",
     "output_type": "stream",
     "text": [
      "Training on fold [0/3]\n",
      "0:\tlearn: 5088.2723706\ttest: 5048.1429576\tbest: 5048.1429576 (0)\ttotal: 70.3ms\tremaining: 14s\n",
      "10:\tlearn: 2474.3256928\ttest: 2459.4410948\tbest: 2459.4410948 (10)\ttotal: 717ms\tremaining: 12.3s\n",
      "20:\tlearn: 1775.1594565\ttest: 1774.8764265\tbest: 1774.8764265 (20)\ttotal: 1.25s\tremaining: 10.6s\n",
      "30:\tlearn: 1589.4977051\ttest: 1596.8872029\tbest: 1596.8872029 (30)\ttotal: 1.84s\tremaining: 10s\n",
      "40:\tlearn: 1523.2223712\ttest: 1534.7418557\tbest: 1534.7418557 (40)\ttotal: 2.37s\tremaining: 9.19s\n",
      "50:\tlearn: 1483.7305657\ttest: 1499.5498114\tbest: 1499.5498114 (50)\ttotal: 2.94s\tremaining: 8.6s\n",
      "60:\tlearn: 1458.3693571\ttest: 1477.8171283\tbest: 1477.8171283 (60)\ttotal: 3.54s\tremaining: 8.06s\n",
      "70:\tlearn: 1435.9812937\ttest: 1459.4180931\tbest: 1459.4180931 (70)\ttotal: 4.17s\tremaining: 7.58s\n",
      "80:\tlearn: 1421.4096381\ttest: 1447.9365376\tbest: 1447.9365376 (80)\ttotal: 4.7s\tremaining: 6.9s\n",
      "90:\tlearn: 1408.1612083\ttest: 1437.6672218\tbest: 1437.6672218 (90)\ttotal: 5.24s\tremaining: 6.27s\n",
      "100:\tlearn: 1397.2895668\ttest: 1429.2755032\tbest: 1429.2755032 (100)\ttotal: 5.79s\tremaining: 5.68s\n",
      "110:\tlearn: 1386.2567953\ttest: 1421.5691594\tbest: 1421.5691594 (110)\ttotal: 6.33s\tremaining: 5.08s\n",
      "120:\tlearn: 1376.0267086\ttest: 1414.2212397\tbest: 1414.2212397 (120)\ttotal: 6.88s\tremaining: 4.49s\n",
      "130:\tlearn: 1367.5970921\ttest: 1408.4472882\tbest: 1408.4472882 (130)\ttotal: 7.48s\tremaining: 3.94s\n",
      "140:\tlearn: 1359.5886005\ttest: 1403.6480189\tbest: 1403.6480189 (140)\ttotal: 8.01s\tremaining: 3.35s\n",
      "150:\tlearn: 1351.6319871\ttest: 1398.6414502\tbest: 1398.6414502 (150)\ttotal: 8.56s\tremaining: 2.78s\n",
      "160:\tlearn: 1344.4756877\ttest: 1395.0327472\tbest: 1395.0327472 (160)\ttotal: 9.08s\tremaining: 2.2s\n",
      "170:\tlearn: 1338.1072328\ttest: 1391.9801760\tbest: 1391.9801760 (170)\ttotal: 9.64s\tremaining: 1.63s\n",
      "180:\tlearn: 1331.2952116\ttest: 1388.3898353\tbest: 1388.3898353 (180)\ttotal: 10.2s\tremaining: 1.07s\n",
      "190:\tlearn: 1326.2187299\ttest: 1386.0607995\tbest: 1386.0607995 (190)\ttotal: 10.7s\tremaining: 505ms\n",
      "199:\tlearn: 1320.7882119\ttest: 1383.3168886\tbest: 1383.3168886 (199)\ttotal: 11.3s\tremaining: 0us\n",
      "\n",
      "bestTest = 1383.316889\n",
      "bestIteration = 199\n",
      "\n",
      "Training on fold [1/3]\n",
      "0:\tlearn: 5064.7469989\ttest: 5097.9819584\tbest: 5097.9819584 (0)\ttotal: 56.1ms\tremaining: 11.2s\n",
      "10:\tlearn: 2460.9468361\ttest: 2481.9890799\tbest: 2481.9890799 (10)\ttotal: 647ms\tremaining: 11.1s\n",
      "20:\tlearn: 1772.2035716\ttest: 1797.6579879\tbest: 1797.6579879 (20)\ttotal: 1.24s\tremaining: 10.6s\n",
      "30:\tlearn: 1583.5263846\ttest: 1613.5559310\tbest: 1613.5559310 (30)\ttotal: 1.78s\tremaining: 9.73s\n",
      "40:\tlearn: 1514.9290314\ttest: 1549.3532834\tbest: 1549.3532834 (40)\ttotal: 2.31s\tremaining: 8.97s\n",
      "50:\tlearn: 1473.8740124\ttest: 1512.7325602\tbest: 1512.7325602 (50)\ttotal: 2.82s\tremaining: 8.24s\n",
      "60:\tlearn: 1445.3338169\ttest: 1486.7718951\tbest: 1486.7718951 (60)\ttotal: 3.35s\tremaining: 7.62s\n",
      "70:\tlearn: 1426.5662334\ttest: 1472.6173999\tbest: 1472.6173999 (70)\ttotal: 3.89s\tremaining: 7.07s\n",
      "80:\tlearn: 1411.1179807\ttest: 1460.3299029\tbest: 1460.3299029 (80)\ttotal: 4.45s\tremaining: 6.54s\n",
      "90:\tlearn: 1398.5775569\ttest: 1451.7187802\tbest: 1451.7187802 (90)\ttotal: 4.95s\tremaining: 5.92s\n",
      "100:\tlearn: 1385.1793864\ttest: 1442.2378407\tbest: 1442.2378407 (100)\ttotal: 5.45s\tremaining: 5.34s\n",
      "110:\tlearn: 1372.9928119\ttest: 1432.8400131\tbest: 1432.8400131 (110)\ttotal: 6.01s\tremaining: 4.82s\n",
      "120:\tlearn: 1363.5095587\ttest: 1426.4634170\tbest: 1426.4634170 (120)\ttotal: 6.58s\tremaining: 4.3s\n",
      "130:\tlearn: 1354.4935880\ttest: 1420.6135030\tbest: 1420.6135030 (130)\ttotal: 7.11s\tremaining: 3.74s\n",
      "140:\tlearn: 1346.9157990\ttest: 1415.1933483\tbest: 1415.1933483 (140)\ttotal: 7.67s\tremaining: 3.21s\n",
      "150:\tlearn: 1339.0001936\ttest: 1410.7778939\tbest: 1410.7778939 (150)\ttotal: 8.16s\tremaining: 2.65s\n",
      "160:\tlearn: 1332.2823292\ttest: 1406.9246611\tbest: 1406.9246611 (160)\ttotal: 8.75s\tremaining: 2.12s\n",
      "170:\tlearn: 1325.7033068\ttest: 1403.6734486\tbest: 1403.6734486 (170)\ttotal: 9.26s\tremaining: 1.57s\n",
      "180:\tlearn: 1319.7961368\ttest: 1400.8665563\tbest: 1400.8665563 (180)\ttotal: 9.81s\tremaining: 1.03s\n",
      "190:\tlearn: 1313.9144981\ttest: 1398.0736161\tbest: 1398.0736161 (190)\ttotal: 10.4s\tremaining: 491ms\n",
      "199:\tlearn: 1309.8447981\ttest: 1396.1551247\tbest: 1396.1551247 (199)\ttotal: 10.9s\tremaining: 0us\n",
      "\n",
      "bestTest = 1396.155125\n",
      "bestIteration = 199\n",
      "\n",
      "Training on fold [2/3]\n",
      "0:\tlearn: 5075.3484698\ttest: 5083.4749410\tbest: 5083.4749410 (0)\ttotal: 48.6ms\tremaining: 9.68s\n",
      "10:\tlearn: 2468.9239325\ttest: 2473.8442770\tbest: 2473.8442770 (10)\ttotal: 576ms\tremaining: 9.9s\n",
      "20:\tlearn: 1778.7640417\ttest: 1779.5562946\tbest: 1779.5562946 (20)\ttotal: 1.12s\tremaining: 9.52s\n",
      "30:\tlearn: 1591.8660542\ttest: 1592.0455683\tbest: 1592.0455683 (30)\ttotal: 1.62s\tremaining: 8.85s\n",
      "40:\tlearn: 1521.9083406\ttest: 1524.4559226\tbest: 1524.4559226 (40)\ttotal: 2.15s\tremaining: 8.35s\n",
      "50:\tlearn: 1483.6256432\ttest: 1489.5389962\tbest: 1489.5389962 (50)\ttotal: 2.68s\tremaining: 7.84s\n",
      "60:\tlearn: 1456.6721816\ttest: 1466.4009564\tbest: 1466.4009564 (60)\ttotal: 3.21s\tremaining: 7.31s\n",
      "70:\tlearn: 1436.9771588\ttest: 1448.9864464\tbest: 1448.9864464 (70)\ttotal: 3.74s\tremaining: 6.8s\n",
      "80:\tlearn: 1421.0937139\ttest: 1436.5466318\tbest: 1436.5466318 (80)\ttotal: 4.3s\tremaining: 6.33s\n",
      "90:\tlearn: 1408.3617711\ttest: 1426.5493672\tbest: 1426.5493672 (90)\ttotal: 4.85s\tremaining: 5.81s\n",
      "100:\tlearn: 1396.7421639\ttest: 1418.6062853\tbest: 1418.6062853 (100)\ttotal: 5.38s\tremaining: 5.28s\n",
      "110:\tlearn: 1386.5825781\ttest: 1412.0367925\tbest: 1412.0367925 (110)\ttotal: 5.89s\tremaining: 4.72s\n",
      "120:\tlearn: 1376.6817315\ttest: 1404.4973481\tbest: 1404.4973481 (120)\ttotal: 6.42s\tremaining: 4.19s\n",
      "130:\tlearn: 1368.1700976\ttest: 1399.2424254\tbest: 1399.2424254 (130)\ttotal: 6.94s\tremaining: 3.65s\n",
      "140:\tlearn: 1360.2214928\ttest: 1394.5093132\tbest: 1394.5093132 (140)\ttotal: 7.44s\tremaining: 3.11s\n",
      "150:\tlearn: 1351.8688703\ttest: 1389.5987393\tbest: 1389.5987393 (150)\ttotal: 8.03s\tremaining: 2.6s\n",
      "160:\tlearn: 1344.8005542\ttest: 1385.1219745\tbest: 1385.1219745 (160)\ttotal: 8.6s\tremaining: 2.08s\n",
      "170:\tlearn: 1338.3068147\ttest: 1381.7771487\tbest: 1381.7771487 (170)\ttotal: 9.07s\tremaining: 1.54s\n",
      "180:\tlearn: 1331.9812124\ttest: 1378.7355421\tbest: 1378.7355421 (180)\ttotal: 9.57s\tremaining: 1s\n",
      "190:\tlearn: 1326.2015200\ttest: 1375.8589246\tbest: 1375.8589246 (190)\ttotal: 10.1s\tremaining: 476ms\n",
      "199:\tlearn: 1321.5360960\ttest: 1373.5498484\tbest: 1373.5498484 (199)\ttotal: 10.6s\tremaining: 0us\n",
      "\n",
      "bestTest = 1373.549848\n",
      "bestIteration = 199\n",
      "\n",
      "RMSE при кросс-валидации: 1317.389702030012\n"
     ]
    }
   ],
   "source": [
    "cv_df = Pool(data=X_train_oe,\n",
    "             label=y_train_oe)\n",
    "    \n",
    "    \n",
    "params = {\"loss_function\": 'RMSE', \"learning_rate\": 0.1, 'random_state': 7, 'depth': 10, 'iterations': 200, 'verbose': 10}\n",
    " \n",
    "score_cat_oe = cv(cv_df, params, fold_count=3)\n",
    "rmse_cv_cat_oe = score_cat_oe['train-RMSE-mean'].min()\n",
    "print('RMSE при кросс-валидации:', rmse_cv_cat_oe)"
   ]
  },
  {
   "cell_type": "code",
   "execution_count": 45,
   "metadata": {},
   "outputs": [
    {
     "name": "stdout",
     "output_type": "stream",
     "text": [
      "0:\tlearn: 3342.8072769\ttotal: 753ms\tremaining: 2m 29s\n",
      "10:\tlearn: 1997.5378727\ttotal: 7.47s\tremaining: 2m 8s\n",
      "20:\tlearn: 1618.4715786\ttotal: 14s\tremaining: 1m 59s\n",
      "30:\tlearn: 1505.6326120\ttotal: 21s\tremaining: 1m 54s\n",
      "40:\tlearn: 1460.5779651\ttotal: 27.2s\tremaining: 1m 45s\n",
      "50:\tlearn: 1428.5186193\ttotal: 33.8s\tremaining: 1m 38s\n",
      "60:\tlearn: 1410.0845131\ttotal: 41s\tremaining: 1m 33s\n",
      "70:\tlearn: 1393.1864716\ttotal: 48.1s\tremaining: 1m 27s\n",
      "80:\tlearn: 1378.6622837\ttotal: 55.2s\tremaining: 1m 21s\n",
      "90:\tlearn: 1367.6390073\ttotal: 1m 2s\tremaining: 1m 14s\n",
      "100:\tlearn: 1357.3584128\ttotal: 1m 9s\tremaining: 1m 8s\n",
      "110:\tlearn: 1349.5630847\ttotal: 1m 15s\tremaining: 1m\n",
      "120:\tlearn: 1340.9310559\ttotal: 1m 22s\tremaining: 54s\n",
      "130:\tlearn: 1335.0951461\ttotal: 1m 29s\tremaining: 47.1s\n",
      "140:\tlearn: 1328.9846742\ttotal: 1m 36s\tremaining: 40.4s\n",
      "150:\tlearn: 1324.8504087\ttotal: 1m 43s\tremaining: 33.4s\n",
      "160:\tlearn: 1320.8099207\ttotal: 1m 50s\tremaining: 26.8s\n",
      "170:\tlearn: 1315.4275715\ttotal: 1m 57s\tremaining: 19.9s\n",
      "180:\tlearn: 1310.1495577\ttotal: 2m 4s\tremaining: 13.1s\n",
      "190:\tlearn: 1305.8283146\ttotal: 2m 12s\tremaining: 6.23s\n",
      "199:\tlearn: 1301.3996750\ttotal: 2m 18s\tremaining: 0us\n",
      "CPU times: user 2min 18s, sys: 849 ms, total: 2min 19s\n",
      "Wall time: 2min 21s\n"
     ]
    },
    {
     "data": {
      "text/plain": [
       "<catboost.core.CatBoostRegressor at 0x7ff10bd37d30>"
      ]
     },
     "execution_count": 45,
     "metadata": {},
     "output_type": "execute_result"
    }
   ],
   "source": [
    "%%time\n",
    "\n",
    "model_cat = CatBoostRegressor(loss_function = 'RMSE', learning_rate = 0.1, random_state = 7, depth = 10, iterations = 200)\n",
    "model_cat.fit(X_train, y_train, cat_features = cat_b, verbose = 10)"
   ]
  },
  {
   "cell_type": "code",
   "execution_count": 46,
   "metadata": {},
   "outputs": [
    {
     "name": "stdout",
     "output_type": "stream",
     "text": [
      "CPU times: user 288 ms, sys: 320 µs, total: 288 ms\n",
      "Wall time: 295 ms\n"
     ]
    }
   ],
   "source": [
    "%%time\n",
    "\n",
    "pred = model_cat.predict(X_test)\n",
    "rmse_cat = mean_squared_error(y_test, pred)**0.5"
   ]
  },
  {
   "cell_type": "code",
   "execution_count": 47,
   "metadata": {},
   "outputs": [
    {
     "name": "stdout",
     "output_type": "stream",
     "text": [
      "0:\tlearn: 3352.1598469\ttotal: 64.4ms\tremaining: 12.8s\n",
      "10:\tlearn: 2049.4761160\ttotal: 738ms\tremaining: 12.7s\n",
      "20:\tlearn: 1691.1330402\ttotal: 1.44s\tremaining: 12.3s\n",
      "30:\tlearn: 1570.2988611\ttotal: 2.11s\tremaining: 11.5s\n",
      "40:\tlearn: 1512.7012288\ttotal: 2.8s\tremaining: 10.9s\n",
      "50:\tlearn: 1478.8595370\ttotal: 3.46s\tremaining: 10.1s\n",
      "60:\tlearn: 1454.3133736\ttotal: 4.28s\tremaining: 9.75s\n",
      "70:\tlearn: 1435.4576513\ttotal: 5.06s\tremaining: 9.19s\n",
      "80:\tlearn: 1419.9456370\ttotal: 5.73s\tremaining: 8.42s\n",
      "90:\tlearn: 1405.7365545\ttotal: 6.42s\tremaining: 7.7s\n",
      "100:\tlearn: 1395.6611270\ttotal: 7.08s\tremaining: 6.94s\n",
      "110:\tlearn: 1386.6735509\ttotal: 7.74s\tremaining: 6.2s\n",
      "120:\tlearn: 1377.5358525\ttotal: 8.48s\tremaining: 5.54s\n",
      "130:\tlearn: 1369.1356100\ttotal: 9.16s\tremaining: 4.83s\n",
      "140:\tlearn: 1361.1714770\ttotal: 9.8s\tremaining: 4.1s\n",
      "150:\tlearn: 1354.8091975\ttotal: 10.5s\tremaining: 3.4s\n",
      "160:\tlearn: 1348.3275297\ttotal: 11.1s\tremaining: 2.7s\n",
      "170:\tlearn: 1342.3117135\ttotal: 11.8s\tremaining: 2.01s\n",
      "180:\tlearn: 1336.1718192\ttotal: 12.5s\tremaining: 1.31s\n",
      "190:\tlearn: 1330.5814839\ttotal: 13.1s\tremaining: 619ms\n",
      "199:\tlearn: 1325.7634718\ttotal: 13.7s\tremaining: 0us\n",
      "CPU times: user 13.8 s, sys: 82.5 ms, total: 13.8 s\n",
      "Wall time: 14.9 s\n"
     ]
    },
    {
     "data": {
      "text/plain": [
       "<catboost.core.CatBoostRegressor at 0x7ff10bd37610>"
      ]
     },
     "execution_count": 47,
     "metadata": {},
     "output_type": "execute_result"
    }
   ],
   "source": [
    "%%time\n",
    "\n",
    "model_cat = CatBoostRegressor(loss_function = 'RMSE', learning_rate = 0.1, random_state = 7, depth = 10, iterations = 200)\n",
    "model_cat.fit(X_train_oe, y_train_oe, verbose = 10)"
   ]
  },
  {
   "cell_type": "code",
   "execution_count": 48,
   "metadata": {},
   "outputs": [
    {
     "name": "stdout",
     "output_type": "stream",
     "text": [
      "CPU times: user 52.9 ms, sys: 6.45 ms, total: 59.3 ms\n",
      "Wall time: 56.7 ms\n"
     ]
    }
   ],
   "source": [
    "%%time\n",
    "\n",
    "pred = model_cat.predict(X_test_oe)\n",
    "rmse_cat_oe = mean_squared_error(y_test_oe, pred)**0.5"
   ]
  },
  {
   "cell_type": "markdown",
   "metadata": {},
   "source": [
    "### LightGBM Regressor"
   ]
  },
  {
   "cell_type": "markdown",
   "metadata": {},
   "source": [
    "<br/>\n",
    "<div class=\"alert alert-info\">\n",
    "ВАЖНО: \n",
    "    \n",
    "1. Дальнейший код не отрабатывает в юпитере. Поэтому я пропустил его через колаб, там он отрабатывает и достаточно быстро. \n",
    "    \n",
    "2. Все данные о времени работы ячеек и RMSE (LiqghtGBM) я перенес из колаба и сохранил в отдельные переменные. \n",
    "    \n",
    "3. Для более честного отбора модели я так же перенес время выполнения ячейки из колаба для всех моделей. Значение RMSE \n",
    "    одинаковое и в юпитере, и в колабе. \n",
    " \n",
    "</div>"
   ]
  },
  {
   "cell_type": "code",
   "execution_count": 49,
   "metadata": {},
   "outputs": [],
   "source": [
    "#%%time\n",
    "#param_grid = {'num_leaves': [50, 150, 200],\n",
    "#              'learning_rate': [0.1, 0.3],\n",
    "#              'n_estimators': [50, 100]}\n",
    "\n",
    "#estimator = LGBMRegressor(objective='RMSE', \n",
    "#                         random_state=7)\n",
    "\n",
    "\n",
    "#model_gs = GridSearchCV(estimator=estimator, param_grid=param_grid, cv=3, n_jobs = -1, scoring='neg_root_mean_squared_error')\n",
    "\n",
    "#model_gs.fit(X_train_oe, y_train_oe)\n",
    "\n",
    "#best_params = model_gs.best_estimator_\n",
    "#print(best_params)\n",
    "#best_score = model_gs.best_score_\n",
    "#print(abs(best_score))"
   ]
  },
  {
   "cell_type": "code",
   "execution_count": null,
   "metadata": {},
   "outputs": [],
   "source": [
    "#%%time\n",
    "#param_grid = {'num_leaves': [50, 150, 200],\n",
    "#              'learning_rate': [0.1, 0.3],\n",
    "#              'n_estimators': [50, 100]}\n",
    "\n",
    "#estimator = LGBMRegressor(objective='RMSE', \n",
    "#                         random_state=7)\n",
    "\n",
    "\n",
    "#model_gs = GridSearchCV(estimator=estimator, param_grid=param_grid, cv=3, n_jobs = -1, scoring='neg_root_mean_squared_error')\n",
    "\n",
    "#model_gs.fit(X_train_ohe, y_train_ohe)\n",
    "\n",
    "#best_params = model_gs.best_estimator_\n",
    "#print(best_params)\n",
    "#best_score = model_gs.best_score_\n",
    "#print(abs(best_score))"
   ]
  },
  {
   "cell_type": "markdown",
   "metadata": {},
   "source": [
    "**LGBMRegressor(num_leaves=200, objective='RMSE', random_state=7)  \n",
    "abs(best_score): 1345.9759683541195\n",
    "abs(best_score): 1347.5541957906996**"
   ]
  },
  {
   "cell_type": "code",
   "execution_count": 65,
   "metadata": {},
   "outputs": [],
   "source": [
    "rmse_cv_lgbm_oe = 1345.9759683541195\n",
    "rmse_cv_lgbm_ohe = 1347.5541957906996"
   ]
  },
  {
   "cell_type": "code",
   "execution_count": 66,
   "metadata": {},
   "outputs": [],
   "source": [
    "#%%time\n",
    "\n",
    "#model_lgbm = LGBMRegressor(num_leaves=200, objective='RMSE', random_state=7)\n",
    "#model_lgbm.fit(X_train_oe, y_train_oe)"
   ]
  },
  {
   "cell_type": "code",
   "execution_count": 67,
   "metadata": {},
   "outputs": [],
   "source": [
    "time_lgbm_oe_learn = 3.97"
   ]
  },
  {
   "cell_type": "code",
   "execution_count": 68,
   "metadata": {},
   "outputs": [],
   "source": [
    "#%%time\n",
    "\n",
    "#pred = model_lgbm.predict(X_test_oe)\n",
    "#rmse_lgbm_oe = mean_squared_error(y_test_oe, pred)**0.5"
   ]
  },
  {
   "cell_type": "code",
   "execution_count": 69,
   "metadata": {},
   "outputs": [],
   "source": [
    "rmse_lgbm_oe = 1328.8238397005882\n",
    "time_lgbm_oe_pred = 0.692"
   ]
  },
  {
   "cell_type": "code",
   "execution_count": 70,
   "metadata": {},
   "outputs": [],
   "source": [
    "#%%time\n",
    "\n",
    "#model_lgbm = LGBMRegressor(num_leaves=200, objective='RMSE', random_state=7)\n",
    "#model_lgbm.fit(X_train_ohe, y_train_ohe)"
   ]
  },
  {
   "cell_type": "code",
   "execution_count": 71,
   "metadata": {},
   "outputs": [],
   "source": [
    "time_lgbm_ohe_learn = 6.52"
   ]
  },
  {
   "cell_type": "code",
   "execution_count": 72,
   "metadata": {},
   "outputs": [],
   "source": [
    "#%%time\n",
    "\n",
    "#pred = model_lgbm.predict(X_test_ohe)\n",
    "#rmse_lgbm_ohe = mean_squared_error(y_test_ohe, pred)**0.5"
   ]
  },
  {
   "cell_type": "code",
   "execution_count": 73,
   "metadata": {},
   "outputs": [],
   "source": [
    "rmse_lgbm_ohe = 1329.5418449203298\n",
    "time_lgbm_ohe_pred = 1.32 "
   ]
  },
  {
   "cell_type": "markdown",
   "metadata": {},
   "source": [
    "## Анализ моделей"
   ]
  },
  {
   "cell_type": "code",
   "execution_count": 75,
   "metadata": {},
   "outputs": [
    {
     "data": {
      "text/html": [
       "<div>\n",
       "<style scoped>\n",
       "    .dataframe tbody tr th:only-of-type {\n",
       "        vertical-align: middle;\n",
       "    }\n",
       "\n",
       "    .dataframe tbody tr th {\n",
       "        vertical-align: top;\n",
       "    }\n",
       "\n",
       "    .dataframe thead th {\n",
       "        text-align: right;\n",
       "    }\n",
       "</style>\n",
       "<table border=\"1\" class=\"dataframe\">\n",
       "  <thead>\n",
       "    <tr style=\"text-align: right;\">\n",
       "      <th></th>\n",
       "      <th>RMSE на кросс-валидации</th>\n",
       "      <th>RMSE на тестовой выборке</th>\n",
       "      <th>Время обучения модели</th>\n",
       "      <th>Время предсказания модели</th>\n",
       "      <th>Рейтинг по кросс-валидации</th>\n",
       "      <th>Рейтинг по тестовой выборке</th>\n",
       "    </tr>\n",
       "  </thead>\n",
       "  <tbody>\n",
       "    <tr>\n",
       "      <th>CatBoostRegressor c OE</th>\n",
       "      <td>1317.39</td>\n",
       "      <td>1367.44</td>\n",
       "      <td>19.50</td>\n",
       "      <td>0.110</td>\n",
       "      <td>454.38</td>\n",
       "      <td>471.40</td>\n",
       "    </tr>\n",
       "    <tr>\n",
       "      <th>LGBMRegressor с OE</th>\n",
       "      <td>1345.98</td>\n",
       "      <td>1328.82</td>\n",
       "      <td>3.97</td>\n",
       "      <td>0.692</td>\n",
       "      <td>459.17</td>\n",
       "      <td>453.34</td>\n",
       "    </tr>\n",
       "    <tr>\n",
       "      <th>LGBMRegressor с OHE</th>\n",
       "      <td>1347.55</td>\n",
       "      <td>1329.54</td>\n",
       "      <td>6.52</td>\n",
       "      <td>1.320</td>\n",
       "      <td>460.75</td>\n",
       "      <td>454.63</td>\n",
       "    </tr>\n",
       "  </tbody>\n",
       "</table>\n",
       "</div>"
      ],
      "text/plain": [
       "                        RMSE на кросс-валидации  RMSE на тестовой выборке  \\\n",
       "CatBoostRegressor c OE                  1317.39                   1367.44   \n",
       "LGBMRegressor с OE                      1345.98                   1328.82   \n",
       "LGBMRegressor с OHE                     1347.55                   1329.54   \n",
       "\n",
       "                        Время обучения модели  Время предсказания модели  \\\n",
       "CatBoostRegressor c OE                  19.50                      0.110   \n",
       "LGBMRegressor с OE                       3.97                      0.692   \n",
       "LGBMRegressor с OHE                      6.52                      1.320   \n",
       "\n",
       "                        Рейтинг по кросс-валидации  \\\n",
       "CatBoostRegressor c OE                      454.38   \n",
       "LGBMRegressor с OE                          459.17   \n",
       "LGBMRegressor с OHE                         460.75   \n",
       "\n",
       "                        Рейтинг по тестовой выборке  \n",
       "CatBoostRegressor c OE                       471.40  \n",
       "LGBMRegressor с OE                           453.34  \n",
       "LGBMRegressor с OHE                          454.63  "
      ]
     },
     "metadata": {},
     "output_type": "display_data"
    },
    {
     "data": {
      "text/html": [
       "<div>\n",
       "<style scoped>\n",
       "    .dataframe tbody tr th:only-of-type {\n",
       "        vertical-align: middle;\n",
       "    }\n",
       "\n",
       "    .dataframe tbody tr th {\n",
       "        vertical-align: top;\n",
       "    }\n",
       "\n",
       "    .dataframe thead th {\n",
       "        text-align: right;\n",
       "    }\n",
       "</style>\n",
       "<table border=\"1\" class=\"dataframe\">\n",
       "  <thead>\n",
       "    <tr style=\"text-align: right;\">\n",
       "      <th></th>\n",
       "      <th>RMSE на кросс-валидации</th>\n",
       "      <th>RMSE на тестовой выборке</th>\n",
       "      <th>Время обучения модели</th>\n",
       "      <th>Время предсказания модели</th>\n",
       "      <th>Рейтинг по кросс-валидации</th>\n",
       "      <th>Рейтинг по тестовой выборке</th>\n",
       "    </tr>\n",
       "  </thead>\n",
       "  <tbody>\n",
       "    <tr>\n",
       "      <th>LGBMRegressor с OE</th>\n",
       "      <td>1345.98</td>\n",
       "      <td>1328.82</td>\n",
       "      <td>3.97</td>\n",
       "      <td>0.692</td>\n",
       "      <td>459.17</td>\n",
       "      <td>453.34</td>\n",
       "    </tr>\n",
       "    <tr>\n",
       "      <th>LGBMRegressor с OHE</th>\n",
       "      <td>1347.55</td>\n",
       "      <td>1329.54</td>\n",
       "      <td>6.52</td>\n",
       "      <td>1.320</td>\n",
       "      <td>460.75</td>\n",
       "      <td>454.63</td>\n",
       "    </tr>\n",
       "    <tr>\n",
       "      <th>CatBoostRegressor c OE</th>\n",
       "      <td>1317.39</td>\n",
       "      <td>1367.44</td>\n",
       "      <td>19.50</td>\n",
       "      <td>0.110</td>\n",
       "      <td>454.38</td>\n",
       "      <td>471.40</td>\n",
       "    </tr>\n",
       "  </tbody>\n",
       "</table>\n",
       "</div>"
      ],
      "text/plain": [
       "                        RMSE на кросс-валидации  RMSE на тестовой выборке  \\\n",
       "LGBMRegressor с OE                      1345.98                   1328.82   \n",
       "LGBMRegressor с OHE                     1347.55                   1329.54   \n",
       "CatBoostRegressor c OE                  1317.39                   1367.44   \n",
       "\n",
       "                        Время обучения модели  Время предсказания модели  \\\n",
       "LGBMRegressor с OE                       3.97                      0.692   \n",
       "LGBMRegressor с OHE                      6.52                      1.320   \n",
       "CatBoostRegressor c OE                  19.50                      0.110   \n",
       "\n",
       "                        Рейтинг по кросс-валидации  \\\n",
       "LGBMRegressor с OE                          459.17   \n",
       "LGBMRegressor с OHE                         460.75   \n",
       "CatBoostRegressor c OE                      454.38   \n",
       "\n",
       "                        Рейтинг по тестовой выборке  \n",
       "LGBMRegressor с OE                           453.34  \n",
       "LGBMRegressor с OHE                          454.63  \n",
       "CatBoostRegressor c OE                       471.40  "
      ]
     },
     "metadata": {},
     "output_type": "display_data"
    }
   ],
   "source": [
    "index = ['Линейная регрессия с OHE',\n",
    "         'Линейная регрессия с OE',\n",
    "         'RandomForestRegressor с OE',\n",
    "         'CatBoostRegressor без кодировки',\n",
    "         'CatBoostRegressor c OE',\n",
    "         'LGBMRegressor с OE',\n",
    "         'LGBMRegressor с OHE']\n",
    "\n",
    "data = {'RMSE на кросс-валидации':[rmse_cv_lr_ohe,\n",
    "                                   rmse_cv_lr_oe,\n",
    "                                   rmse_cv_rf_oe,\n",
    "                                   rmse_cv_cat,\n",
    "                                   rmse_cv_cat_oe,\n",
    "                                   rmse_cv_lgbm_oe,\n",
    "                                   rmse_cv_lgbm_ohe],\n",
    "    \n",
    "        'RMSE на тестовой выборке':[rmse_lr_ohe,\n",
    "                                    rmse_lr_oe,\n",
    "                                    rmse_rf_oe,\n",
    "                                    rmse_cat,\n",
    "                                    rmse_cat_oe,\n",
    "                                    rmse_lgbm_oe, \n",
    "                                    rmse_lgbm_ohe],\n",
    "        \n",
    "        'Время обучения модели':[14.1,\n",
    "                                 0.139,\n",
    "                                 1.51,\n",
    "                                 195,\n",
    "                                 19.5,\n",
    "                                 time_lgbm_oe_learn,\n",
    "                                 time_lgbm_ohe_learn],\n",
    "        \n",
    "        'Время предсказания модели':[0.123,\n",
    "                                     0.021,\n",
    "                                     0.029,\n",
    "                                     0.483,\n",
    "                                     0.110,\n",
    "                                     time_lgbm_oe_pred,\n",
    "                                     time_lgbm_ohe_pred]}\n",
    "\n",
    "df_rmse = pd.DataFrame(data=data, index = index)\n",
    "df_rmse['RMSE на кросс-валидации'] = round(df_rmse['RMSE на кросс-валидации'], 2)\n",
    "df_rmse['RMSE на тестовой выборке'] = round(df_rmse['RMSE на тестовой выборке'], 2)\n",
    "\n",
    "df_rmse['Рейтинг по кросс-валидации'] = (df_rmse['RMSE на кросс-валидации'] * .34 \\\n",
    "                       + df_rmse['Время обучения модели'] * .33 \\\n",
    "                       + df_rmse['Время предсказания модели'] * .33)\n",
    "#Умножаем каждый из показателей на 0.33, так как значимость каждого показателя одинаковая.\n",
    "df_rmse['Рейтинг по тестовой выборке'] = (df_rmse['RMSE на тестовой выборке'] * .34 \\\n",
    "                       + df_rmse['Время обучения модели'] * .33 \\\n",
    "                       + df_rmse['Время предсказания модели'] * .33)\n",
    "\n",
    "df_rmse['Рейтинг по кросс-валидации'] = round(df_rmse['Рейтинг по кросс-валидации'], 2)\n",
    "df_rmse['Рейтинг по тестовой выборке'] = round(df_rmse['Рейтинг по тестовой выборке'], 2)\n",
    "display(df_rmse.sort_values(by='Рейтинг по кросс-валидации').head(3))\n",
    "display(df_rmse.sort_values(by='Рейтинг по тестовой выборке').head(3))"
   ]
  },
  {
   "cell_type": "markdown",
   "metadata": {},
   "source": [
    "## Вывод:\n",
    "1. Исследование и предобработка данных:\n",
    "    1. Удалили столбцы `DateCrawled`, `DateCreated`, `LastSeen`, `NumberOfPictures`, `PostalCode`, `RegistrationMonth` не виляющие на исследование.\n",
    "    2. Значение мощности (`Power`) ниже 25 и выше 500 удалили.\n",
    "    3. Значение года регистрации (`RegistrationYear`) ниже 1970 и выше 2016 удалили.\n",
    "    4. Значение цены (`Price`) ниже 200 и выше 14600 удалили.\n",
    "    5. В столбцах `VehicleType`, `Model`, `FuelType`, `Gearbox`, `Repaired` большое количество пропусков. Значения в столбцах заменили на unknown.\n",
    "    6. В стобце `Kilometer` всего 13 значений. Изменили тип на `object`.\n",
    "    7. В столбце `Replace`  значения `petrol`, `gasoline` обзначают один тип топлива - `benzin`. Заменили.\n",
    "2. Подготовка выборок: \n",
    "    * Данные разделены на 2 выборки \n",
    "        * X_train, y_train - обучающая выборка без кодировки (80/20)\n",
    "        * X_test, y_test - тестовая выборка без кодировки (80/20)\n",
    "        \n",
    "        * X_train_ohe, y_train_ohe - обучающая выборка с OHE (80/20)\n",
    "        * X_test_ohe, y_test_ohe - тестовая выборка с OHE (80/20)\n",
    "        \n",
    "        * X_train_oe, y_train_oe - обучающая выборка с OE (80/20)\n",
    "        * X_test_oe, y_test_oe - тестовая выборка с OE (80/20)\n",
    "    * Так же использован метод StandardScaler()\n",
    "3. Исследованно 4 модели: \n",
    "    * `Линейная регрессия с OHE`\n",
    "    * `Линейная регрессия с OE`\n",
    "    * `RandomForestRegressor с OE`\n",
    "    * `CatBoostRegressor без кодировки`\n",
    "    * `CatBoostRegressor c OE`\n",
    "    * `LGBMRegressor с OE`\n",
    "    * `LGBMRegressor с OHE`\n",
    "\n",
    "\n",
    "**После проведенных исследований на обучающей и тестовой выборках можно придти к выводу, что лучшие показатели RMSE у моделей:\n",
    "    1. На обучающей выборке при кросс-валидации - `CatBoostRegressor c OE` - 1317.39  \n",
    "    2. На тестовой выборке - `LGBMRegressor с OE` - 1328.82**\n",
    "    \n",
    "    \n",
    "`CatBoostRegressor` имеет большее время обучения - 19.5сек. (в 5 раз), но при этом более быстрое предсказание - 0.11сек.   \n",
    "`LGBMRegressor` наоборот, имеет меньшее время обучения - 3.97сек., но при этом предсказывает дольше - 0.692сек. (в 6 раз)."
   ]
  }
 ],
 "metadata": {
  "ExecuteTimeLog": [
   {
    "duration": 485,
    "start_time": "2023-09-20T09:04:45.277Z"
   },
   {
    "duration": 57,
    "start_time": "2023-09-20T09:05:24.168Z"
   },
   {
    "duration": 2852,
    "start_time": "2023-09-20T09:05:30.074Z"
   },
   {
    "duration": 18,
    "start_time": "2023-09-20T09:05:44.472Z"
   },
   {
    "duration": 7,
    "start_time": "2023-09-20T09:06:06.675Z"
   },
   {
    "duration": 133,
    "start_time": "2023-09-20T09:06:13.264Z"
   },
   {
    "duration": 150,
    "start_time": "2023-09-20T09:06:34.761Z"
   },
   {
    "duration": 91,
    "start_time": "2023-09-20T09:34:49.214Z"
   },
   {
    "duration": 103,
    "start_time": "2023-09-20T09:34:58.986Z"
   },
   {
    "duration": 446,
    "start_time": "2023-09-20T09:36:09.198Z"
   },
   {
    "duration": 99,
    "start_time": "2023-09-20T09:36:16.281Z"
   },
   {
    "duration": 244,
    "start_time": "2023-09-20T09:37:27.068Z"
   },
   {
    "duration": 237,
    "start_time": "2023-09-20T09:37:46.667Z"
   },
   {
    "duration": 116,
    "start_time": "2023-09-20T09:38:39.287Z"
   },
   {
    "duration": 174,
    "start_time": "2023-09-20T09:40:14.538Z"
   },
   {
    "duration": 56,
    "start_time": "2023-09-20T09:40:17.906Z"
   },
   {
    "duration": 39,
    "start_time": "2023-09-20T09:42:11.950Z"
   },
   {
    "duration": 40,
    "start_time": "2023-09-20T09:42:19.489Z"
   },
   {
    "duration": 25,
    "start_time": "2023-09-20T09:42:38.873Z"
   },
   {
    "duration": 7,
    "start_time": "2023-09-20T09:44:09.951Z"
   },
   {
    "duration": 34,
    "start_time": "2023-09-20T09:44:28.434Z"
   },
   {
    "duration": 79,
    "start_time": "2023-09-20T09:45:54.497Z"
   },
   {
    "duration": 75,
    "start_time": "2023-09-20T09:46:04.594Z"
   },
   {
    "duration": 19,
    "start_time": "2023-09-20T09:46:21.680Z"
   },
   {
    "duration": 92,
    "start_time": "2023-09-20T11:00:41.844Z"
   },
   {
    "duration": 10,
    "start_time": "2023-09-20T11:01:38.145Z"
   },
   {
    "duration": 9,
    "start_time": "2023-09-20T11:02:51.685Z"
   },
   {
    "duration": 4,
    "start_time": "2023-09-20T11:03:33.383Z"
   },
   {
    "duration": 16,
    "start_time": "2023-09-20T11:03:37.494Z"
   },
   {
    "duration": 478,
    "start_time": "2023-09-20T11:03:53.360Z"
   },
   {
    "duration": 1000,
    "start_time": "2023-09-20T11:03:53.840Z"
   },
   {
    "duration": 30,
    "start_time": "2023-09-20T11:03:54.842Z"
   },
   {
    "duration": 161,
    "start_time": "2023-09-20T11:03:54.874Z"
   },
   {
    "duration": 151,
    "start_time": "2023-09-20T11:03:55.054Z"
   },
   {
    "duration": 100,
    "start_time": "2023-09-20T11:03:55.207Z"
   },
   {
    "duration": 9,
    "start_time": "2023-09-20T11:03:55.308Z"
   },
   {
    "duration": 79,
    "start_time": "2023-09-20T11:03:58.610Z"
   },
   {
    "duration": 4,
    "start_time": "2023-09-20T11:04:30.134Z"
   },
   {
    "duration": 77,
    "start_time": "2023-09-20T11:04:32.954Z"
   },
   {
    "duration": 488,
    "start_time": "2023-09-20T11:04:38.286Z"
   },
   {
    "duration": 907,
    "start_time": "2023-09-20T11:04:38.776Z"
   },
   {
    "duration": 21,
    "start_time": "2023-09-20T11:04:39.685Z"
   },
   {
    "duration": 181,
    "start_time": "2023-09-20T11:04:39.708Z"
   },
   {
    "duration": 169,
    "start_time": "2023-09-20T11:04:39.891Z"
   },
   {
    "duration": 108,
    "start_time": "2023-09-20T11:04:40.063Z"
   },
   {
    "duration": 10,
    "start_time": "2023-09-20T11:04:40.173Z"
   },
   {
    "duration": 69,
    "start_time": "2023-09-20T11:05:22.164Z"
   },
   {
    "duration": 64,
    "start_time": "2023-09-20T11:05:28.560Z"
   },
   {
    "duration": 4,
    "start_time": "2023-09-20T11:06:36.204Z"
   },
   {
    "duration": 7,
    "start_time": "2023-09-20T11:06:39.450Z"
   },
   {
    "duration": 21,
    "start_time": "2023-09-20T11:06:46.439Z"
   },
   {
    "duration": 514,
    "start_time": "2023-09-20T11:07:59.730Z"
   },
   {
    "duration": 869,
    "start_time": "2023-09-20T11:08:00.246Z"
   },
   {
    "duration": 20,
    "start_time": "2023-09-20T11:08:01.116Z"
   },
   {
    "duration": 138,
    "start_time": "2023-09-20T11:08:01.145Z"
   },
   {
    "duration": 137,
    "start_time": "2023-09-20T11:08:01.285Z"
   },
   {
    "duration": 103,
    "start_time": "2023-09-20T11:08:01.423Z"
   },
   {
    "duration": 29,
    "start_time": "2023-09-20T11:08:01.528Z"
   },
   {
    "duration": 476,
    "start_time": "2023-09-20T11:08:10.222Z"
   },
   {
    "duration": 818,
    "start_time": "2023-09-20T11:08:10.700Z"
   },
   {
    "duration": 26,
    "start_time": "2023-09-20T11:08:11.519Z"
   },
   {
    "duration": 134,
    "start_time": "2023-09-20T11:08:11.546Z"
   },
   {
    "duration": 132,
    "start_time": "2023-09-20T11:08:11.682Z"
   },
   {
    "duration": 88,
    "start_time": "2023-09-20T11:08:11.815Z"
   },
   {
    "duration": 1550,
    "start_time": "2023-09-20T11:09:09.959Z"
   },
   {
    "duration": 474,
    "start_time": "2023-09-20T11:09:40.262Z"
   },
   {
    "duration": 832,
    "start_time": "2023-09-20T11:09:40.738Z"
   },
   {
    "duration": 20,
    "start_time": "2023-09-20T11:09:41.572Z"
   },
   {
    "duration": 160,
    "start_time": "2023-09-20T11:09:41.594Z"
   },
   {
    "duration": 142,
    "start_time": "2023-09-20T11:09:41.757Z"
   },
   {
    "duration": 123,
    "start_time": "2023-09-20T11:09:41.900Z"
   },
   {
    "duration": 1091,
    "start_time": "2023-09-20T11:09:42.024Z"
   },
   {
    "duration": 12,
    "start_time": "2023-09-20T11:10:00.224Z"
   },
   {
    "duration": 492,
    "start_time": "2023-09-20T11:10:07.711Z"
   },
   {
    "duration": 806,
    "start_time": "2023-09-20T11:10:08.205Z"
   },
   {
    "duration": 30,
    "start_time": "2023-09-20T11:10:09.015Z"
   },
   {
    "duration": 139,
    "start_time": "2023-09-20T11:10:09.048Z"
   },
   {
    "duration": 135,
    "start_time": "2023-09-20T11:10:09.188Z"
   },
   {
    "duration": 92,
    "start_time": "2023-09-20T11:10:09.325Z"
   },
   {
    "duration": 75,
    "start_time": "2023-09-20T11:10:09.419Z"
   },
   {
    "duration": 5,
    "start_time": "2023-09-20T11:11:08.290Z"
   },
   {
    "duration": 20,
    "start_time": "2023-09-20T11:11:13.043Z"
   },
   {
    "duration": 464,
    "start_time": "2023-09-20T11:11:27.244Z"
   },
   {
    "duration": 803,
    "start_time": "2023-09-20T11:11:27.710Z"
   },
   {
    "duration": 18,
    "start_time": "2023-09-20T11:11:28.514Z"
   },
   {
    "duration": 149,
    "start_time": "2023-09-20T11:11:28.534Z"
   },
   {
    "duration": 133,
    "start_time": "2023-09-20T11:11:28.685Z"
   },
   {
    "duration": 93,
    "start_time": "2023-09-20T11:11:28.820Z"
   },
   {
    "duration": 67,
    "start_time": "2023-09-20T11:11:28.915Z"
   },
   {
    "duration": 21,
    "start_time": "2023-09-20T11:11:28.984Z"
   },
   {
    "duration": 97,
    "start_time": "2023-09-20T11:11:34.549Z"
   },
   {
    "duration": 7,
    "start_time": "2023-09-20T11:12:07.837Z"
   },
   {
    "duration": 66,
    "start_time": "2023-09-20T11:12:20.489Z"
   },
   {
    "duration": 162,
    "start_time": "2023-09-20T11:12:25.054Z"
   },
   {
    "duration": 7,
    "start_time": "2023-09-20T11:12:29.100Z"
   },
   {
    "duration": 11,
    "start_time": "2023-09-20T11:13:46.117Z"
   },
   {
    "duration": 47,
    "start_time": "2023-09-20T11:14:48.754Z"
   },
   {
    "duration": 112,
    "start_time": "2023-09-20T11:14:51.439Z"
   },
   {
    "duration": 472,
    "start_time": "2023-09-20T11:15:37.033Z"
   },
   {
    "duration": 829,
    "start_time": "2023-09-20T11:15:37.507Z"
   },
   {
    "duration": 22,
    "start_time": "2023-09-20T11:15:38.337Z"
   },
   {
    "duration": 141,
    "start_time": "2023-09-20T11:15:38.360Z"
   },
   {
    "duration": 142,
    "start_time": "2023-09-20T11:15:38.503Z"
   },
   {
    "duration": 99,
    "start_time": "2023-09-20T11:15:38.646Z"
   },
   {
    "duration": 57,
    "start_time": "2023-09-20T11:15:38.747Z"
   },
   {
    "duration": 82,
    "start_time": "2023-09-20T11:15:38.805Z"
   },
   {
    "duration": 81,
    "start_time": "2023-09-20T11:15:42.127Z"
   },
   {
    "duration": 482,
    "start_time": "2023-09-20T11:17:06.515Z"
   },
   {
    "duration": 831,
    "start_time": "2023-09-20T11:17:06.998Z"
   },
   {
    "duration": 22,
    "start_time": "2023-09-20T11:17:07.833Z"
   },
   {
    "duration": 138,
    "start_time": "2023-09-20T11:17:07.857Z"
   },
   {
    "duration": 149,
    "start_time": "2023-09-20T11:17:07.997Z"
   },
   {
    "duration": 81,
    "start_time": "2023-09-20T11:17:08.148Z"
   },
   {
    "duration": 70,
    "start_time": "2023-09-20T11:17:08.231Z"
   },
   {
    "duration": 68,
    "start_time": "2023-09-20T11:17:08.303Z"
   },
   {
    "duration": 52,
    "start_time": "2023-09-20T11:17:12.635Z"
   },
   {
    "duration": 436,
    "start_time": "2023-09-20T11:17:53.373Z"
   },
   {
    "duration": 881,
    "start_time": "2023-09-20T11:17:53.811Z"
   },
   {
    "duration": 19,
    "start_time": "2023-09-20T11:17:54.694Z"
   },
   {
    "duration": 144,
    "start_time": "2023-09-20T11:17:54.715Z"
   },
   {
    "duration": 135,
    "start_time": "2023-09-20T11:17:54.861Z"
   },
   {
    "duration": 99,
    "start_time": "2023-09-20T11:17:54.998Z"
   },
   {
    "duration": 66,
    "start_time": "2023-09-20T11:17:55.099Z"
   },
   {
    "duration": 40,
    "start_time": "2023-09-20T11:17:55.167Z"
   },
   {
    "duration": 26,
    "start_time": "2023-09-20T11:17:58.040Z"
   },
   {
    "duration": 418,
    "start_time": "2023-09-20T11:18:19.392Z"
   },
   {
    "duration": 808,
    "start_time": "2023-09-20T11:18:19.811Z"
   },
   {
    "duration": 24,
    "start_time": "2023-09-20T11:18:20.621Z"
   },
   {
    "duration": 135,
    "start_time": "2023-09-20T11:18:20.646Z"
   },
   {
    "duration": 138,
    "start_time": "2023-09-20T11:18:20.783Z"
   },
   {
    "duration": 86,
    "start_time": "2023-09-20T11:18:20.923Z"
   },
   {
    "duration": 71,
    "start_time": "2023-09-20T11:18:21.010Z"
   },
   {
    "duration": 65,
    "start_time": "2023-09-20T11:18:21.083Z"
   },
   {
    "duration": 77,
    "start_time": "2023-09-20T11:18:24.842Z"
   },
   {
    "duration": 483,
    "start_time": "2023-09-20T11:18:52.326Z"
   },
   {
    "duration": 820,
    "start_time": "2023-09-20T11:18:52.811Z"
   },
   {
    "duration": 18,
    "start_time": "2023-09-20T11:18:53.632Z"
   },
   {
    "duration": 145,
    "start_time": "2023-09-20T11:18:53.652Z"
   },
   {
    "duration": 128,
    "start_time": "2023-09-20T11:18:53.798Z"
   },
   {
    "duration": 97,
    "start_time": "2023-09-20T11:18:53.928Z"
   },
   {
    "duration": 76,
    "start_time": "2023-09-20T11:18:54.026Z"
   },
   {
    "duration": 111,
    "start_time": "2023-09-20T11:18:54.104Z"
   },
   {
    "duration": 58,
    "start_time": "2023-09-20T11:19:05.692Z"
   },
   {
    "duration": 76,
    "start_time": "2023-09-20T11:19:07.675Z"
   },
   {
    "duration": 50,
    "start_time": "2023-09-20T11:19:16.263Z"
   },
   {
    "duration": 66,
    "start_time": "2023-09-20T11:19:18.505Z"
   },
   {
    "duration": 435,
    "start_time": "2023-09-20T11:19:32.400Z"
   },
   {
    "duration": 834,
    "start_time": "2023-09-20T11:19:32.837Z"
   },
   {
    "duration": 20,
    "start_time": "2023-09-20T11:19:33.672Z"
   },
   {
    "duration": 154,
    "start_time": "2023-09-20T11:19:33.694Z"
   },
   {
    "duration": 143,
    "start_time": "2023-09-20T11:19:33.850Z"
   },
   {
    "duration": 116,
    "start_time": "2023-09-20T11:19:33.995Z"
   },
   {
    "duration": 81,
    "start_time": "2023-09-20T11:19:34.114Z"
   },
   {
    "duration": 77,
    "start_time": "2023-09-20T11:19:34.198Z"
   },
   {
    "duration": 81,
    "start_time": "2023-09-20T11:19:37.276Z"
   },
   {
    "duration": 431,
    "start_time": "2023-09-20T11:20:10.367Z"
   },
   {
    "duration": 792,
    "start_time": "2023-09-20T11:20:10.800Z"
   },
   {
    "duration": 17,
    "start_time": "2023-09-20T11:20:11.594Z"
   },
   {
    "duration": 140,
    "start_time": "2023-09-20T11:20:11.612Z"
   },
   {
    "duration": 125,
    "start_time": "2023-09-20T11:20:11.754Z"
   },
   {
    "duration": 87,
    "start_time": "2023-09-20T11:20:11.881Z"
   },
   {
    "duration": 57,
    "start_time": "2023-09-20T11:20:11.969Z"
   },
   {
    "duration": 760,
    "start_time": "2023-09-20T11:20:25.701Z"
   },
   {
    "duration": 3,
    "start_time": "2023-09-20T11:20:43.345Z"
   },
   {
    "duration": 64,
    "start_time": "2023-09-20T11:20:58.212Z"
   },
   {
    "duration": 9,
    "start_time": "2023-09-20T11:21:44.650Z"
   },
   {
    "duration": 475,
    "start_time": "2023-09-20T11:21:55.949Z"
   },
   {
    "duration": 800,
    "start_time": "2023-09-20T11:21:56.426Z"
   },
   {
    "duration": 22,
    "start_time": "2023-09-20T11:21:57.227Z"
   },
   {
    "duration": 138,
    "start_time": "2023-09-20T11:21:57.250Z"
   },
   {
    "duration": 134,
    "start_time": "2023-09-20T11:21:57.390Z"
   },
   {
    "duration": 97,
    "start_time": "2023-09-20T11:21:57.525Z"
   },
   {
    "duration": 62,
    "start_time": "2023-09-20T11:21:57.623Z"
   },
   {
    "duration": 61,
    "start_time": "2023-09-20T11:21:57.687Z"
   },
   {
    "duration": 7,
    "start_time": "2023-09-20T11:22:53.635Z"
   },
   {
    "duration": 7,
    "start_time": "2023-09-20T11:23:09.813Z"
   },
   {
    "duration": 171,
    "start_time": "2023-09-20T11:24:55.295Z"
   },
   {
    "duration": 13,
    "start_time": "2023-09-20T11:24:59.190Z"
   },
   {
    "duration": 118,
    "start_time": "2023-09-20T11:25:12.534Z"
   },
   {
    "duration": 6,
    "start_time": "2023-09-20T11:25:17.014Z"
   },
   {
    "duration": 389,
    "start_time": "2023-09-20T11:25:37.125Z"
   },
   {
    "duration": 55,
    "start_time": "2023-09-20T11:27:41.468Z"
   },
   {
    "duration": 73,
    "start_time": "2023-09-20T11:27:44.413Z"
   },
   {
    "duration": 47,
    "start_time": "2023-09-20T11:28:08.131Z"
   },
   {
    "duration": 73,
    "start_time": "2023-09-20T11:28:10.876Z"
   },
   {
    "duration": 10,
    "start_time": "2023-09-20T11:30:36.697Z"
   },
   {
    "duration": 71,
    "start_time": "2023-09-20T11:32:08.883Z"
   },
   {
    "duration": 71,
    "start_time": "2023-09-20T11:32:17.534Z"
   },
   {
    "duration": 72,
    "start_time": "2023-09-20T11:32:21.985Z"
   },
   {
    "duration": 9,
    "start_time": "2023-09-20T11:32:50.689Z"
   },
   {
    "duration": 85,
    "start_time": "2023-09-20T11:32:56.628Z"
   },
   {
    "duration": 12,
    "start_time": "2023-09-20T11:35:31.467Z"
   },
   {
    "duration": 218,
    "start_time": "2023-09-20T11:37:14.636Z"
   },
   {
    "duration": 229,
    "start_time": "2023-09-20T11:37:30.923Z"
   },
   {
    "duration": 39,
    "start_time": "2023-09-20T11:37:50.008Z"
   },
   {
    "duration": 144,
    "start_time": "2023-09-20T11:39:13.942Z"
   },
   {
    "duration": 3,
    "start_time": "2023-09-20T11:39:25.576Z"
   },
   {
    "duration": 4,
    "start_time": "2023-09-20T11:39:32.918Z"
   },
   {
    "duration": 172,
    "start_time": "2023-09-20T11:39:41.987Z"
   },
   {
    "duration": 120,
    "start_time": "2023-09-20T11:39:57.291Z"
   },
   {
    "duration": 129,
    "start_time": "2023-09-20T11:40:09.223Z"
   },
   {
    "duration": 608,
    "start_time": "2023-09-20T11:40:15.302Z"
   },
   {
    "duration": 846,
    "start_time": "2023-09-20T11:40:15.912Z"
   },
   {
    "duration": 15,
    "start_time": "2023-09-20T11:40:16.760Z"
   },
   {
    "duration": 147,
    "start_time": "2023-09-20T11:40:16.777Z"
   },
   {
    "duration": 140,
    "start_time": "2023-09-20T11:40:16.926Z"
   },
   {
    "duration": 94,
    "start_time": "2023-09-20T11:40:17.068Z"
   },
   {
    "duration": 56,
    "start_time": "2023-09-20T11:40:17.164Z"
   },
   {
    "duration": 370,
    "start_time": "2023-09-20T11:40:17.222Z"
   },
   {
    "duration": 120,
    "start_time": "2023-09-20T11:40:17.594Z"
   },
   {
    "duration": 69,
    "start_time": "2023-09-20T11:42:55.113Z"
   },
   {
    "duration": 77,
    "start_time": "2023-09-20T11:42:58.969Z"
   },
   {
    "duration": 47,
    "start_time": "2023-09-20T11:43:06.017Z"
   },
   {
    "duration": 374,
    "start_time": "2023-09-20T11:43:06.184Z"
   },
   {
    "duration": 74,
    "start_time": "2023-09-20T11:43:31.782Z"
   },
   {
    "duration": 35,
    "start_time": "2023-09-20T11:43:39.483Z"
   },
   {
    "duration": 91,
    "start_time": "2023-09-20T11:43:43.529Z"
   },
   {
    "duration": 47,
    "start_time": "2023-09-20T11:43:45.190Z"
   },
   {
    "duration": 350,
    "start_time": "2023-09-20T11:43:45.673Z"
   },
   {
    "duration": 41,
    "start_time": "2023-09-20T11:43:49.560Z"
   },
   {
    "duration": 131,
    "start_time": "2023-09-20T11:45:42.711Z"
   },
   {
    "duration": 51,
    "start_time": "2023-09-20T11:45:55.915Z"
   },
   {
    "duration": 49,
    "start_time": "2023-09-20T11:45:58.977Z"
   },
   {
    "duration": 134,
    "start_time": "2023-09-20T11:47:54.209Z"
   },
   {
    "duration": 45,
    "start_time": "2023-09-20T11:47:57.812Z"
   },
   {
    "duration": 42,
    "start_time": "2023-09-20T11:48:47.214Z"
   },
   {
    "duration": 74,
    "start_time": "2023-09-20T11:48:51.226Z"
   },
   {
    "duration": 652,
    "start_time": "2023-09-20T11:49:22.823Z"
   },
   {
    "duration": 893,
    "start_time": "2023-09-20T11:49:23.477Z"
   },
   {
    "duration": 16,
    "start_time": "2023-09-20T11:49:24.371Z"
   },
   {
    "duration": 144,
    "start_time": "2023-09-20T11:49:24.389Z"
   },
   {
    "duration": 134,
    "start_time": "2023-09-20T11:49:24.536Z"
   },
   {
    "duration": 91,
    "start_time": "2023-09-20T11:49:24.671Z"
   },
   {
    "duration": 117,
    "start_time": "2023-09-20T11:49:24.764Z"
   },
   {
    "duration": 78,
    "start_time": "2023-09-20T11:49:40.935Z"
   },
   {
    "duration": 108,
    "start_time": "2023-09-20T11:50:21.466Z"
   },
   {
    "duration": 129,
    "start_time": "2023-09-20T11:50:38.976Z"
   },
   {
    "duration": 51,
    "start_time": "2023-09-20T11:50:48.957Z"
   },
   {
    "duration": 37,
    "start_time": "2023-09-20T11:53:46.470Z"
   },
   {
    "duration": 85,
    "start_time": "2023-09-20T11:53:53.572Z"
   },
   {
    "duration": 18,
    "start_time": "2023-09-20T11:53:59.270Z"
   },
   {
    "duration": 82,
    "start_time": "2023-09-20T11:54:00.315Z"
   },
   {
    "duration": 56,
    "start_time": "2023-09-20T11:54:06.573Z"
   },
   {
    "duration": 69,
    "start_time": "2023-09-20T11:54:06.754Z"
   },
   {
    "duration": 7,
    "start_time": "2023-09-20T11:54:46.919Z"
   },
   {
    "duration": 8,
    "start_time": "2023-09-20T11:58:09.417Z"
   },
   {
    "duration": 3,
    "start_time": "2023-09-20T11:58:46.729Z"
   },
   {
    "duration": 8,
    "start_time": "2023-09-20T11:58:50.715Z"
   },
   {
    "duration": 18,
    "start_time": "2023-09-20T12:00:06.706Z"
   },
   {
    "duration": 16,
    "start_time": "2023-09-20T12:00:22.229Z"
   },
   {
    "duration": 8,
    "start_time": "2023-09-20T12:00:44.591Z"
   },
   {
    "duration": 9,
    "start_time": "2023-09-20T12:00:49.376Z"
   },
   {
    "duration": 8,
    "start_time": "2023-09-20T12:01:00.897Z"
   },
   {
    "duration": 8,
    "start_time": "2023-09-20T12:01:26.775Z"
   },
   {
    "duration": 55,
    "start_time": "2023-09-20T12:01:40.950Z"
   },
   {
    "duration": 23,
    "start_time": "2023-09-20T12:01:41.321Z"
   },
   {
    "duration": 648,
    "start_time": "2023-09-20T12:01:57.624Z"
   },
   {
    "duration": 830,
    "start_time": "2023-09-20T12:01:58.274Z"
   },
   {
    "duration": 17,
    "start_time": "2023-09-20T12:01:59.106Z"
   },
   {
    "duration": 167,
    "start_time": "2023-09-20T12:01:59.124Z"
   },
   {
    "duration": 135,
    "start_time": "2023-09-20T12:01:59.293Z"
   },
   {
    "duration": 55,
    "start_time": "2023-09-20T12:01:59.429Z"
   },
   {
    "duration": 101,
    "start_time": "2023-09-20T12:01:59.486Z"
   },
   {
    "duration": 90,
    "start_time": "2023-09-20T12:01:59.588Z"
   },
   {
    "duration": 74,
    "start_time": "2023-09-20T12:01:59.679Z"
   },
   {
    "duration": 4,
    "start_time": "2023-09-20T12:01:59.754Z"
   },
   {
    "duration": 69,
    "start_time": "2023-09-20T12:33:42.111Z"
   },
   {
    "duration": 18,
    "start_time": "2023-09-20T12:33:45.433Z"
   },
   {
    "duration": 44,
    "start_time": "2023-09-20T12:34:07.919Z"
   },
   {
    "duration": 51,
    "start_time": "2023-09-20T12:34:16.143Z"
   },
   {
    "duration": 50,
    "start_time": "2023-09-20T12:34:32.773Z"
   },
   {
    "duration": 169,
    "start_time": "2023-09-20T12:34:51.256Z"
   },
   {
    "duration": 31,
    "start_time": "2023-09-20T12:36:01.632Z"
   },
   {
    "duration": 32,
    "start_time": "2023-09-20T12:37:24.814Z"
   },
   {
    "duration": 3,
    "start_time": "2023-09-20T12:38:39.105Z"
   },
   {
    "duration": 857,
    "start_time": "2023-09-20T12:38:39.469Z"
   },
   {
    "duration": 16,
    "start_time": "2023-09-20T12:38:40.328Z"
   },
   {
    "duration": 7,
    "start_time": "2023-09-20T12:39:03.432Z"
   },
   {
    "duration": 29,
    "start_time": "2023-09-20T12:39:11.377Z"
   },
   {
    "duration": 17,
    "start_time": "2023-09-20T12:39:48.962Z"
   },
   {
    "duration": 37,
    "start_time": "2023-09-20T12:59:43.799Z"
   },
   {
    "duration": 44,
    "start_time": "2023-09-20T12:59:44.117Z"
   },
   {
    "duration": 37,
    "start_time": "2023-09-20T12:59:44.465Z"
   },
   {
    "duration": 36,
    "start_time": "2023-09-20T12:59:44.778Z"
   },
   {
    "duration": 37,
    "start_time": "2023-09-20T12:59:45.075Z"
   },
   {
    "duration": 149,
    "start_time": "2023-09-20T13:07:34.944Z"
   },
   {
    "duration": 1896,
    "start_time": "2023-09-20T13:07:46.924Z"
   },
   {
    "duration": 1901,
    "start_time": "2023-09-20T13:08:10.626Z"
   },
   {
    "duration": 153,
    "start_time": "2023-09-20T13:08:41.066Z"
   },
   {
    "duration": 11,
    "start_time": "2023-09-20T13:09:05.037Z"
   },
   {
    "duration": 11,
    "start_time": "2023-09-20T13:09:19.010Z"
   },
   {
    "duration": 68,
    "start_time": "2023-09-20T13:09:58.663Z"
   },
   {
    "duration": 32,
    "start_time": "2023-09-20T13:10:11.586Z"
   },
   {
    "duration": 30,
    "start_time": "2023-09-20T13:10:18.106Z"
   },
   {
    "duration": 46,
    "start_time": "2023-09-20T13:10:30.826Z"
   },
   {
    "duration": 40,
    "start_time": "2023-09-20T13:10:34.148Z"
   },
   {
    "duration": 44,
    "start_time": "2023-09-20T13:10:37.605Z"
   },
   {
    "duration": 31,
    "start_time": "2023-09-20T13:10:41.408Z"
   },
   {
    "duration": 30,
    "start_time": "2023-09-20T13:10:42.386Z"
   },
   {
    "duration": 655,
    "start_time": "2023-09-20T13:10:46.054Z"
   },
   {
    "duration": 829,
    "start_time": "2023-09-20T13:10:46.711Z"
   },
   {
    "duration": 19,
    "start_time": "2023-09-20T13:10:47.541Z"
   },
   {
    "duration": 144,
    "start_time": "2023-09-20T13:10:47.562Z"
   },
   {
    "duration": 138,
    "start_time": "2023-09-20T13:10:47.708Z"
   },
   {
    "duration": 42,
    "start_time": "2023-09-20T13:10:47.848Z"
   },
   {
    "duration": 96,
    "start_time": "2023-09-20T13:10:47.892Z"
   },
   {
    "duration": 203,
    "start_time": "2023-09-20T13:10:47.990Z"
   },
   {
    "duration": 77,
    "start_time": "2023-09-20T13:10:48.194Z"
   },
   {
    "duration": 30,
    "start_time": "2023-09-20T13:10:48.272Z"
   },
   {
    "duration": 55,
    "start_time": "2023-09-20T13:10:48.304Z"
   },
   {
    "duration": 34,
    "start_time": "2023-09-20T13:10:48.360Z"
   },
   {
    "duration": 42,
    "start_time": "2023-09-20T13:10:48.395Z"
   },
   {
    "duration": 31,
    "start_time": "2023-09-20T13:10:48.439Z"
   },
   {
    "duration": 83,
    "start_time": "2023-09-20T13:12:14.333Z"
   },
   {
    "duration": 89,
    "start_time": "2023-09-20T13:12:16.388Z"
   },
   {
    "duration": 68,
    "start_time": "2023-09-20T13:12:18.094Z"
   },
   {
    "duration": 73,
    "start_time": "2023-09-20T13:22:49.509Z"
   },
   {
    "duration": 600,
    "start_time": "2023-09-20T13:22:56.972Z"
   },
   {
    "duration": 821,
    "start_time": "2023-09-20T13:22:57.574Z"
   },
   {
    "duration": 20,
    "start_time": "2023-09-20T13:22:58.397Z"
   },
   {
    "duration": 144,
    "start_time": "2023-09-20T13:22:58.418Z"
   },
   {
    "duration": 133,
    "start_time": "2023-09-20T13:22:58.564Z"
   },
   {
    "duration": 96,
    "start_time": "2023-09-20T13:22:58.698Z"
   },
   {
    "duration": 259,
    "start_time": "2023-09-20T13:22:58.795Z"
   },
   {
    "duration": 91,
    "start_time": "2023-09-20T13:22:59.056Z"
   },
   {
    "duration": 83,
    "start_time": "2023-09-20T13:22:59.148Z"
   },
   {
    "duration": 74,
    "start_time": "2023-09-20T13:22:59.233Z"
   },
   {
    "duration": 552,
    "start_time": "2023-09-20T13:24:40.607Z"
   },
   {
    "duration": 367,
    "start_time": "2023-09-20T13:25:00.514Z"
   },
   {
    "duration": 620,
    "start_time": "2023-09-20T13:25:23.858Z"
   },
   {
    "duration": 104,
    "start_time": "2023-09-20T13:25:53.164Z"
   },
   {
    "duration": 622,
    "start_time": "2023-09-20T13:26:03.712Z"
   },
   {
    "duration": 539,
    "start_time": "2023-09-20T13:26:10.257Z"
   },
   {
    "duration": 491,
    "start_time": "2023-09-20T13:26:13.620Z"
   },
   {
    "duration": 502,
    "start_time": "2023-09-20T13:26:20.867Z"
   },
   {
    "duration": 508,
    "start_time": "2023-09-20T13:26:28.850Z"
   },
   {
    "duration": 627,
    "start_time": "2023-09-20T13:26:37.083Z"
   },
   {
    "duration": 13,
    "start_time": "2023-09-20T13:26:54.323Z"
   },
   {
    "duration": 320,
    "start_time": "2023-09-20T13:27:00.952Z"
   },
   {
    "duration": 5,
    "start_time": "2023-09-20T13:27:14.958Z"
   },
   {
    "duration": 239,
    "start_time": "2023-09-20T13:27:22.682Z"
   },
   {
    "duration": 159,
    "start_time": "2023-09-20T13:27:29.753Z"
   },
   {
    "duration": 11,
    "start_time": "2023-09-20T13:28:10.368Z"
   },
   {
    "duration": 5188,
    "start_time": "2023-09-20T13:28:14.410Z"
   },
   {
    "duration": 4639,
    "start_time": "2023-09-20T13:28:24.033Z"
   },
   {
    "duration": 329,
    "start_time": "2023-09-20T13:29:44.082Z"
   },
   {
    "duration": 557,
    "start_time": "2023-09-20T13:30:41.334Z"
   },
   {
    "duration": 511,
    "start_time": "2023-09-20T13:31:30.781Z"
   },
   {
    "duration": 540,
    "start_time": "2023-09-20T13:33:06.083Z"
   },
   {
    "duration": 46,
    "start_time": "2023-09-20T13:33:15.466Z"
   },
   {
    "duration": 276,
    "start_time": "2023-09-20T13:34:28.387Z"
   },
   {
    "duration": 10,
    "start_time": "2023-09-20T13:34:45.672Z"
   },
   {
    "duration": 4,
    "start_time": "2023-09-20T13:35:07.177Z"
   },
   {
    "duration": 46,
    "start_time": "2023-09-20T13:43:31.414Z"
   },
   {
    "duration": 2011,
    "start_time": "2023-09-21T08:16:52.447Z"
   },
   {
    "duration": 21,
    "start_time": "2023-09-21T08:17:56.992Z"
   },
   {
    "duration": 128,
    "start_time": "2023-09-21T08:21:20.846Z"
   },
   {
    "duration": 1729,
    "start_time": "2023-09-21T08:21:25.611Z"
   },
   {
    "duration": 1367,
    "start_time": "2023-09-21T08:21:27.343Z"
   },
   {
    "duration": 34,
    "start_time": "2023-09-21T08:21:28.713Z"
   },
   {
    "duration": 192,
    "start_time": "2023-09-21T08:21:28.750Z"
   },
   {
    "duration": 194,
    "start_time": "2023-09-21T08:21:28.945Z"
   },
   {
    "duration": 118,
    "start_time": "2023-09-21T08:21:29.142Z"
   },
   {
    "duration": 288,
    "start_time": "2023-09-21T08:21:29.262Z"
   },
   {
    "duration": 107,
    "start_time": "2023-09-21T08:21:29.553Z"
   },
   {
    "duration": 125,
    "start_time": "2023-09-21T08:21:29.662Z"
   },
   {
    "duration": 111,
    "start_time": "2023-09-21T08:21:29.788Z"
   },
   {
    "duration": 594,
    "start_time": "2023-09-21T08:21:29.901Z"
   },
   {
    "duration": 15,
    "start_time": "2023-09-21T08:21:30.497Z"
   },
   {
    "duration": 157,
    "start_time": "2023-09-21T08:22:34.992Z"
   },
   {
    "duration": 95,
    "start_time": "2023-09-21T08:23:20.613Z"
   },
   {
    "duration": 340,
    "start_time": "2023-09-21T08:29:50.299Z"
   },
   {
    "duration": 125,
    "start_time": "2023-09-21T08:30:43.112Z"
   },
   {
    "duration": 6,
    "start_time": "2023-09-21T08:31:32.374Z"
   },
   {
    "duration": 1891,
    "start_time": "2023-09-21T08:32:21.598Z"
   },
   {
    "duration": 1029,
    "start_time": "2023-09-21T08:32:23.491Z"
   },
   {
    "duration": 33,
    "start_time": "2023-09-21T08:32:24.523Z"
   },
   {
    "duration": 224,
    "start_time": "2023-09-21T08:32:24.558Z"
   },
   {
    "duration": 169,
    "start_time": "2023-09-21T08:32:24.785Z"
   },
   {
    "duration": 138,
    "start_time": "2023-09-21T08:32:24.956Z"
   },
   {
    "duration": 313,
    "start_time": "2023-09-21T08:32:25.096Z"
   },
   {
    "duration": 113,
    "start_time": "2023-09-21T08:32:25.411Z"
   },
   {
    "duration": 82,
    "start_time": "2023-09-21T08:32:25.526Z"
   },
   {
    "duration": 111,
    "start_time": "2023-09-21T08:32:25.610Z"
   },
   {
    "duration": 699,
    "start_time": "2023-09-21T08:32:25.729Z"
   },
   {
    "duration": 99,
    "start_time": "2023-09-21T08:32:26.431Z"
   },
   {
    "duration": 370,
    "start_time": "2023-09-21T08:32:26.533Z"
   },
   {
    "duration": 79,
    "start_time": "2023-09-21T08:34:56.643Z"
   },
   {
    "duration": 89,
    "start_time": "2023-09-21T08:35:19.093Z"
   },
   {
    "duration": 3,
    "start_time": "2023-09-21T08:35:37.171Z"
   },
   {
    "duration": 5,
    "start_time": "2023-09-21T08:36:09.507Z"
   },
   {
    "duration": 587,
    "start_time": "2023-09-21T08:45:00.727Z"
   },
   {
    "duration": 905,
    "start_time": "2023-09-21T08:45:25.226Z"
   },
   {
    "duration": 20,
    "start_time": "2023-09-21T08:45:59.957Z"
   },
   {
    "duration": 1578,
    "start_time": "2023-09-21T08:46:07.625Z"
   },
   {
    "duration": 965,
    "start_time": "2023-09-21T08:46:09.206Z"
   },
   {
    "duration": 20,
    "start_time": "2023-09-21T08:46:10.175Z"
   },
   {
    "duration": 305,
    "start_time": "2023-09-21T08:46:10.197Z"
   },
   {
    "duration": 176,
    "start_time": "2023-09-21T08:46:10.504Z"
   },
   {
    "duration": 232,
    "start_time": "2023-09-21T08:46:10.682Z"
   },
   {
    "duration": 276,
    "start_time": "2023-09-21T08:46:10.916Z"
   },
   {
    "duration": 109,
    "start_time": "2023-09-21T08:46:11.194Z"
   },
   {
    "duration": 95,
    "start_time": "2023-09-21T08:46:11.305Z"
   },
   {
    "duration": 98,
    "start_time": "2023-09-21T08:46:11.402Z"
   },
   {
    "duration": 553,
    "start_time": "2023-09-21T08:46:11.501Z"
   },
   {
    "duration": 101,
    "start_time": "2023-09-21T08:46:12.056Z"
   },
   {
    "duration": 591,
    "start_time": "2023-09-21T08:46:12.160Z"
   },
   {
    "duration": 0,
    "start_time": "2023-09-21T08:46:12.753Z"
   },
   {
    "duration": 21,
    "start_time": "2023-09-21T08:51:10.253Z"
   },
   {
    "duration": 18,
    "start_time": "2023-09-21T08:52:26.587Z"
   },
   {
    "duration": 444,
    "start_time": "2023-09-21T08:53:43.020Z"
   },
   {
    "duration": 377,
    "start_time": "2023-09-21T08:53:54.462Z"
   },
   {
    "duration": 426,
    "start_time": "2023-09-21T08:55:14.388Z"
   },
   {
    "duration": 1622,
    "start_time": "2023-09-21T08:55:21.355Z"
   },
   {
    "duration": 986,
    "start_time": "2023-09-21T08:55:22.980Z"
   },
   {
    "duration": 22,
    "start_time": "2023-09-21T08:55:23.968Z"
   },
   {
    "duration": 166,
    "start_time": "2023-09-21T08:55:23.991Z"
   },
   {
    "duration": 156,
    "start_time": "2023-09-21T08:55:24.159Z"
   },
   {
    "duration": 108,
    "start_time": "2023-09-21T08:55:24.317Z"
   },
   {
    "duration": 255,
    "start_time": "2023-09-21T08:55:24.427Z"
   },
   {
    "duration": 86,
    "start_time": "2023-09-21T08:55:24.684Z"
   },
   {
    "duration": 148,
    "start_time": "2023-09-21T08:55:24.772Z"
   },
   {
    "duration": 129,
    "start_time": "2023-09-21T08:55:24.923Z"
   },
   {
    "duration": 573,
    "start_time": "2023-09-21T08:55:25.054Z"
   },
   {
    "duration": 81,
    "start_time": "2023-09-21T08:55:25.629Z"
   },
   {
    "duration": 581,
    "start_time": "2023-09-21T08:55:25.730Z"
   },
   {
    "duration": 0,
    "start_time": "2023-09-21T08:55:26.313Z"
   },
   {
    "duration": 21,
    "start_time": "2023-09-21T08:55:56.909Z"
   },
   {
    "duration": 1095,
    "start_time": "2023-09-21T08:56:07.015Z"
   },
   {
    "duration": 1342,
    "start_time": "2023-09-21T08:57:12.607Z"
   },
   {
    "duration": 12,
    "start_time": "2023-09-21T08:57:15.567Z"
   },
   {
    "duration": 1724,
    "start_time": "2023-09-21T08:57:53.952Z"
   },
   {
    "duration": 954,
    "start_time": "2023-09-21T08:57:55.678Z"
   },
   {
    "duration": 27,
    "start_time": "2023-09-21T08:57:56.634Z"
   },
   {
    "duration": 240,
    "start_time": "2023-09-21T08:57:56.662Z"
   },
   {
    "duration": 170,
    "start_time": "2023-09-21T08:57:56.905Z"
   },
   {
    "duration": 194,
    "start_time": "2023-09-21T08:57:57.076Z"
   },
   {
    "duration": 289,
    "start_time": "2023-09-21T08:57:57.272Z"
   },
   {
    "duration": 89,
    "start_time": "2023-09-21T08:57:57.563Z"
   },
   {
    "duration": 178,
    "start_time": "2023-09-21T08:57:57.653Z"
   },
   {
    "duration": 79,
    "start_time": "2023-09-21T08:57:57.834Z"
   },
   {
    "duration": 547,
    "start_time": "2023-09-21T08:57:57.915Z"
   },
   {
    "duration": 97,
    "start_time": "2023-09-21T08:57:58.464Z"
   },
   {
    "duration": 4614,
    "start_time": "2023-09-21T08:57:58.563Z"
   },
   {
    "duration": 0,
    "start_time": "2023-09-21T08:58:03.179Z"
   },
   {
    "duration": 1497,
    "start_time": "2023-09-21T09:02:55.144Z"
   },
   {
    "duration": 1018,
    "start_time": "2023-09-21T09:03:14.589Z"
   },
   {
    "duration": 1163,
    "start_time": "2023-09-21T09:03:29.901Z"
   },
   {
    "duration": 1227,
    "start_time": "2023-09-21T09:03:35.765Z"
   },
   {
    "duration": 1024,
    "start_time": "2023-09-21T09:04:11.419Z"
   },
   {
    "duration": 1061,
    "start_time": "2023-09-21T09:04:39.251Z"
   },
   {
    "duration": 55,
    "start_time": "2023-09-21T09:05:45.976Z"
   },
   {
    "duration": 1837,
    "start_time": "2023-09-21T09:05:51.736Z"
   },
   {
    "duration": 1283,
    "start_time": "2023-09-21T09:05:53.575Z"
   },
   {
    "duration": 21,
    "start_time": "2023-09-21T09:05:54.859Z"
   },
   {
    "duration": 181,
    "start_time": "2023-09-21T09:05:54.882Z"
   },
   {
    "duration": 176,
    "start_time": "2023-09-21T09:05:55.066Z"
   },
   {
    "duration": 202,
    "start_time": "2023-09-21T09:05:55.244Z"
   },
   {
    "duration": 260,
    "start_time": "2023-09-21T09:05:55.449Z"
   },
   {
    "duration": 98,
    "start_time": "2023-09-21T09:05:55.711Z"
   },
   {
    "duration": 151,
    "start_time": "2023-09-21T09:05:55.811Z"
   },
   {
    "duration": 176,
    "start_time": "2023-09-21T09:05:55.964Z"
   },
   {
    "duration": 623,
    "start_time": "2023-09-21T09:05:56.143Z"
   },
   {
    "duration": 101,
    "start_time": "2023-09-21T09:05:56.768Z"
   },
   {
    "duration": 41303,
    "start_time": "2023-09-21T09:05:56.871Z"
   },
   {
    "duration": 0,
    "start_time": "2023-09-21T09:06:38.176Z"
   },
   {
    "duration": 8118,
    "start_time": "2023-09-21T09:07:29.235Z"
   },
   {
    "duration": 1361,
    "start_time": "2023-09-21T09:07:37.356Z"
   },
   {
    "duration": 1255,
    "start_time": "2023-09-21T09:07:38.719Z"
   },
   {
    "duration": 21,
    "start_time": "2023-09-21T09:07:39.975Z"
   },
   {
    "duration": 272,
    "start_time": "2023-09-21T09:07:39.998Z"
   },
   {
    "duration": 197,
    "start_time": "2023-09-21T09:07:40.272Z"
   },
   {
    "duration": 110,
    "start_time": "2023-09-21T09:07:40.471Z"
   },
   {
    "duration": 293,
    "start_time": "2023-09-21T09:07:40.583Z"
   },
   {
    "duration": 110,
    "start_time": "2023-09-21T09:07:40.878Z"
   },
   {
    "duration": 129,
    "start_time": "2023-09-21T09:07:40.990Z"
   },
   {
    "duration": 115,
    "start_time": "2023-09-21T09:07:41.120Z"
   },
   {
    "duration": 521,
    "start_time": "2023-09-21T09:07:41.237Z"
   },
   {
    "duration": 85,
    "start_time": "2023-09-21T09:07:41.760Z"
   },
   {
    "duration": 72732,
    "start_time": "2023-09-21T09:07:41.848Z"
   },
   {
    "duration": 846,
    "start_time": "2023-09-21T09:08:54.581Z"
   },
   {
    "duration": 17,
    "start_time": "2023-09-21T09:09:45.480Z"
   },
   {
    "duration": 17,
    "start_time": "2023-09-21T09:10:12.959Z"
   },
   {
    "duration": 54,
    "start_time": "2023-09-21T09:10:19.340Z"
   },
   {
    "duration": 2316,
    "start_time": "2023-09-21T09:11:15.309Z"
   },
   {
    "duration": 13,
    "start_time": "2023-09-21T09:11:21.461Z"
   },
   {
    "duration": 18,
    "start_time": "2023-09-21T09:11:32.064Z"
   },
   {
    "duration": 2651,
    "start_time": "2023-09-21T09:12:14.955Z"
   },
   {
    "duration": 712,
    "start_time": "2023-09-21T09:12:59.399Z"
   },
   {
    "duration": 15,
    "start_time": "2023-09-21T09:13:14.070Z"
   },
   {
    "duration": 2589,
    "start_time": "2023-09-21T09:13:18.783Z"
   },
   {
    "duration": 1379,
    "start_time": "2023-09-21T09:13:21.375Z"
   },
   {
    "duration": 1267,
    "start_time": "2023-09-21T09:13:22.758Z"
   },
   {
    "duration": 27,
    "start_time": "2023-09-21T09:13:24.028Z"
   },
   {
    "duration": 185,
    "start_time": "2023-09-21T09:13:24.057Z"
   },
   {
    "duration": 161,
    "start_time": "2023-09-21T09:13:24.245Z"
   },
   {
    "duration": 109,
    "start_time": "2023-09-21T09:13:24.408Z"
   },
   {
    "duration": 281,
    "start_time": "2023-09-21T09:13:24.524Z"
   },
   {
    "duration": 97,
    "start_time": "2023-09-21T09:13:24.807Z"
   },
   {
    "duration": 111,
    "start_time": "2023-09-21T09:13:24.906Z"
   },
   {
    "duration": 100,
    "start_time": "2023-09-21T09:13:25.019Z"
   },
   {
    "duration": 553,
    "start_time": "2023-09-21T09:13:25.120Z"
   },
   {
    "duration": 105,
    "start_time": "2023-09-21T09:13:25.675Z"
   },
   {
    "duration": 77717,
    "start_time": "2023-09-21T09:13:25.782Z"
   },
   {
    "duration": 841,
    "start_time": "2023-09-21T09:14:43.501Z"
   },
   {
    "duration": 826,
    "start_time": "2023-09-21T09:14:44.344Z"
   },
   {
    "duration": 5,
    "start_time": "2023-09-21T09:15:07.242Z"
   },
   {
    "duration": 90,
    "start_time": "2023-09-21T09:15:23.288Z"
   },
   {
    "duration": 2396,
    "start_time": "2023-09-21T09:22:31.350Z"
   },
   {
    "duration": 1750,
    "start_time": "2023-09-21T09:22:33.748Z"
   },
   {
    "duration": 980,
    "start_time": "2023-09-21T09:22:35.499Z"
   },
   {
    "duration": 21,
    "start_time": "2023-09-21T09:22:36.481Z"
   },
   {
    "duration": 269,
    "start_time": "2023-09-21T09:22:36.504Z"
   },
   {
    "duration": 173,
    "start_time": "2023-09-21T09:22:36.775Z"
   },
   {
    "duration": 104,
    "start_time": "2023-09-21T09:22:36.950Z"
   },
   {
    "duration": 258,
    "start_time": "2023-09-21T09:22:37.055Z"
   },
   {
    "duration": 92,
    "start_time": "2023-09-21T09:22:37.315Z"
   },
   {
    "duration": 108,
    "start_time": "2023-09-21T09:22:37.410Z"
   },
   {
    "duration": 77,
    "start_time": "2023-09-21T09:22:37.524Z"
   },
   {
    "duration": 546,
    "start_time": "2023-09-21T09:22:37.603Z"
   },
   {
    "duration": 92,
    "start_time": "2023-09-21T09:22:38.151Z"
   },
   {
    "duration": 2651,
    "start_time": "2023-09-21T09:22:55.695Z"
   },
   {
    "duration": 3564,
    "start_time": "2023-09-21T09:22:58.348Z"
   },
   {
    "duration": 1406,
    "start_time": "2023-09-21T09:23:01.914Z"
   },
   {
    "duration": 33,
    "start_time": "2023-09-21T09:23:03.322Z"
   },
   {
    "duration": 750,
    "start_time": "2023-09-21T09:23:03.357Z"
   },
   {
    "duration": 676,
    "start_time": "2023-09-21T09:23:04.109Z"
   },
   {
    "duration": 570,
    "start_time": "2023-09-21T09:23:04.787Z"
   },
   {
    "duration": 518,
    "start_time": "2023-09-21T09:23:05.359Z"
   },
   {
    "duration": 116,
    "start_time": "2023-09-21T09:23:05.879Z"
   },
   {
    "duration": 221,
    "start_time": "2023-09-21T09:23:05.997Z"
   },
   {
    "duration": 202,
    "start_time": "2023-09-21T09:23:06.220Z"
   },
   {
    "duration": 900,
    "start_time": "2023-09-21T09:23:06.425Z"
   },
   {
    "duration": 82,
    "start_time": "2023-09-21T09:23:07.328Z"
   },
   {
    "duration": 4,
    "start_time": "2023-09-21T09:23:45.527Z"
   },
   {
    "duration": 2315,
    "start_time": "2023-09-21T09:23:45.535Z"
   },
   {
    "duration": 1266,
    "start_time": "2023-09-21T09:23:47.852Z"
   },
   {
    "duration": 22,
    "start_time": "2023-09-21T09:23:49.120Z"
   },
   {
    "duration": 174,
    "start_time": "2023-09-21T09:23:49.145Z"
   },
   {
    "duration": 163,
    "start_time": "2023-09-21T09:23:49.323Z"
   },
   {
    "duration": 111,
    "start_time": "2023-09-21T09:23:49.488Z"
   },
   {
    "duration": 286,
    "start_time": "2023-09-21T09:23:49.601Z"
   },
   {
    "duration": 100,
    "start_time": "2023-09-21T09:23:49.888Z"
   },
   {
    "duration": 113,
    "start_time": "2023-09-21T09:23:49.989Z"
   },
   {
    "duration": 94,
    "start_time": "2023-09-21T09:23:50.103Z"
   },
   {
    "duration": 573,
    "start_time": "2023-09-21T09:23:50.198Z"
   },
   {
    "duration": 101,
    "start_time": "2023-09-21T09:23:50.773Z"
   },
   {
    "duration": 2437,
    "start_time": "2023-09-21T09:26:23.586Z"
   },
   {
    "duration": 2146,
    "start_time": "2023-09-21T09:26:26.025Z"
   },
   {
    "duration": 1309,
    "start_time": "2023-09-21T09:26:28.173Z"
   },
   {
    "duration": 21,
    "start_time": "2023-09-21T09:26:29.484Z"
   },
   {
    "duration": 204,
    "start_time": "2023-09-21T09:26:29.507Z"
   },
   {
    "duration": 179,
    "start_time": "2023-09-21T09:26:29.713Z"
   },
   {
    "duration": 114,
    "start_time": "2023-09-21T09:26:29.893Z"
   },
   {
    "duration": 305,
    "start_time": "2023-09-21T09:26:30.009Z"
   },
   {
    "duration": 128,
    "start_time": "2023-09-21T09:26:30.317Z"
   },
   {
    "duration": 169,
    "start_time": "2023-09-21T09:26:30.447Z"
   },
   {
    "duration": 121,
    "start_time": "2023-09-21T09:26:30.618Z"
   },
   {
    "duration": 620,
    "start_time": "2023-09-21T09:26:30.742Z"
   },
   {
    "duration": 103,
    "start_time": "2023-09-21T09:26:31.364Z"
   },
   {
    "duration": 2388,
    "start_time": "2023-09-21T09:27:42.187Z"
   },
   {
    "duration": 2346,
    "start_time": "2023-09-21T09:27:44.578Z"
   },
   {
    "duration": 1247,
    "start_time": "2023-09-21T09:27:46.926Z"
   },
   {
    "duration": 22,
    "start_time": "2023-09-21T09:27:48.175Z"
   },
   {
    "duration": 200,
    "start_time": "2023-09-21T09:27:48.198Z"
   },
   {
    "duration": 172,
    "start_time": "2023-09-21T09:27:48.399Z"
   },
   {
    "duration": 267,
    "start_time": "2023-09-21T09:27:48.573Z"
   },
   {
    "duration": 444,
    "start_time": "2023-09-21T09:27:48.842Z"
   },
   {
    "duration": 167,
    "start_time": "2023-09-21T09:27:49.288Z"
   },
   {
    "duration": 198,
    "start_time": "2023-09-21T09:27:49.456Z"
   },
   {
    "duration": 261,
    "start_time": "2023-09-21T09:27:49.655Z"
   },
   {
    "duration": 742,
    "start_time": "2023-09-21T09:27:49.918Z"
   },
   {
    "duration": 100,
    "start_time": "2023-09-21T09:27:50.662Z"
   },
   {
    "duration": 63,
    "start_time": "2023-09-21T09:28:22.801Z"
   },
   {
    "duration": 3737,
    "start_time": "2023-09-21T09:28:28.381Z"
   },
   {
    "duration": 2550,
    "start_time": "2023-09-21T09:28:32.121Z"
   },
   {
    "duration": 1253,
    "start_time": "2023-09-21T09:28:34.672Z"
   },
   {
    "duration": 31,
    "start_time": "2023-09-21T09:28:35.928Z"
   },
   {
    "duration": 226,
    "start_time": "2023-09-21T09:28:35.961Z"
   },
   {
    "duration": 173,
    "start_time": "2023-09-21T09:28:36.190Z"
   },
   {
    "duration": 105,
    "start_time": "2023-09-21T09:28:36.365Z"
   },
   {
    "duration": 287,
    "start_time": "2023-09-21T09:28:36.472Z"
   },
   {
    "duration": 94,
    "start_time": "2023-09-21T09:28:36.761Z"
   },
   {
    "duration": 109,
    "start_time": "2023-09-21T09:28:36.857Z"
   },
   {
    "duration": 136,
    "start_time": "2023-09-21T09:28:36.968Z"
   },
   {
    "duration": 617,
    "start_time": "2023-09-21T09:28:37.105Z"
   },
   {
    "duration": 87,
    "start_time": "2023-09-21T09:28:37.724Z"
   },
   {
    "duration": 80407,
    "start_time": "2023-09-21T09:28:37.825Z"
   },
   {
    "duration": 945,
    "start_time": "2023-09-21T09:29:58.234Z"
   },
   {
    "duration": 982,
    "start_time": "2023-09-21T09:29:59.181Z"
   },
   {
    "duration": 150,
    "start_time": "2023-09-21T09:30:03.262Z"
   },
   {
    "duration": 7,
    "start_time": "2023-09-21T09:32:29.059Z"
   },
   {
    "duration": 1504,
    "start_time": "2023-09-21T09:32:29.069Z"
   },
   {
    "duration": 1067,
    "start_time": "2023-09-21T09:32:30.575Z"
   },
   {
    "duration": 24,
    "start_time": "2023-09-21T09:32:31.644Z"
   },
   {
    "duration": 265,
    "start_time": "2023-09-21T09:32:31.670Z"
   },
   {
    "duration": 294,
    "start_time": "2023-09-21T09:32:31.937Z"
   },
   {
    "duration": 172,
    "start_time": "2023-09-21T09:32:32.233Z"
   },
   {
    "duration": 342,
    "start_time": "2023-09-21T09:32:32.408Z"
   },
   {
    "duration": 121,
    "start_time": "2023-09-21T09:32:32.752Z"
   },
   {
    "duration": 139,
    "start_time": "2023-09-21T09:32:32.875Z"
   },
   {
    "duration": 114,
    "start_time": "2023-09-21T09:32:33.016Z"
   },
   {
    "duration": 558,
    "start_time": "2023-09-21T09:32:33.133Z"
   },
   {
    "duration": 111,
    "start_time": "2023-09-21T09:32:33.693Z"
   },
   {
    "duration": 55,
    "start_time": "2023-09-21T09:33:31.439Z"
   },
   {
    "duration": 4,
    "start_time": "2023-09-21T09:33:36.887Z"
   },
   {
    "duration": 2308,
    "start_time": "2023-09-21T09:33:36.895Z"
   },
   {
    "duration": 1359,
    "start_time": "2023-09-21T09:33:39.205Z"
   },
   {
    "duration": 22,
    "start_time": "2023-09-21T09:33:40.566Z"
   },
   {
    "duration": 194,
    "start_time": "2023-09-21T09:33:40.589Z"
   },
   {
    "duration": 174,
    "start_time": "2023-09-21T09:33:40.785Z"
   },
   {
    "duration": 165,
    "start_time": "2023-09-21T09:33:40.961Z"
   },
   {
    "duration": 301,
    "start_time": "2023-09-21T09:33:41.130Z"
   },
   {
    "duration": 109,
    "start_time": "2023-09-21T09:33:41.434Z"
   },
   {
    "duration": 100,
    "start_time": "2023-09-21T09:33:41.546Z"
   },
   {
    "duration": 102,
    "start_time": "2023-09-21T09:33:41.648Z"
   },
   {
    "duration": 583,
    "start_time": "2023-09-21T09:33:41.752Z"
   },
   {
    "duration": 98,
    "start_time": "2023-09-21T09:33:42.337Z"
   },
   {
    "duration": 82332,
    "start_time": "2023-09-21T09:33:42.438Z"
   },
   {
    "duration": 0,
    "start_time": "2023-09-21T09:35:04.772Z"
   },
   {
    "duration": 0,
    "start_time": "2023-09-21T09:35:04.774Z"
   },
   {
    "duration": 3,
    "start_time": "2023-09-21T09:36:33.497Z"
   },
   {
    "duration": 1480,
    "start_time": "2023-09-21T09:36:33.502Z"
   },
   {
    "duration": 1016,
    "start_time": "2023-09-21T09:36:34.983Z"
   },
   {
    "duration": 41,
    "start_time": "2023-09-21T09:36:36.002Z"
   },
   {
    "duration": 233,
    "start_time": "2023-09-21T09:36:36.047Z"
   },
   {
    "duration": 182,
    "start_time": "2023-09-21T09:36:36.282Z"
   },
   {
    "duration": 116,
    "start_time": "2023-09-21T09:36:36.466Z"
   },
   {
    "duration": 287,
    "start_time": "2023-09-21T09:36:36.584Z"
   },
   {
    "duration": 107,
    "start_time": "2023-09-21T09:36:36.873Z"
   },
   {
    "duration": 86,
    "start_time": "2023-09-21T09:36:36.982Z"
   },
   {
    "duration": 102,
    "start_time": "2023-09-21T09:36:37.070Z"
   },
   {
    "duration": 580,
    "start_time": "2023-09-21T09:36:37.173Z"
   },
   {
    "duration": 96,
    "start_time": "2023-09-21T09:36:37.755Z"
   },
   {
    "duration": 81170,
    "start_time": "2023-09-21T09:36:37.854Z"
   },
   {
    "duration": 122,
    "start_time": "2023-09-21T09:37:59.026Z"
   },
   {
    "duration": 0,
    "start_time": "2023-09-21T09:37:59.150Z"
   },
   {
    "duration": 0,
    "start_time": "2023-09-21T09:37:59.152Z"
   },
   {
    "duration": 21,
    "start_time": "2023-09-21T09:41:14.724Z"
   },
   {
    "duration": 22,
    "start_time": "2023-09-21T09:41:26.371Z"
   },
   {
    "duration": 97,
    "start_time": "2023-09-21T09:42:34.050Z"
   },
   {
    "duration": 17,
    "start_time": "2023-09-21T09:42:37.867Z"
   },
   {
    "duration": 24,
    "start_time": "2023-09-21T09:42:57.902Z"
   },
   {
    "duration": 6273,
    "start_time": "2023-09-21T09:44:52.383Z"
   },
   {
    "duration": 6316,
    "start_time": "2023-09-21T09:45:09.533Z"
   },
   {
    "duration": 989,
    "start_time": "2023-09-21T09:46:57.296Z"
   },
   {
    "duration": 963,
    "start_time": "2023-09-21T09:46:58.287Z"
   },
   {
    "duration": 304,
    "start_time": "2023-09-21T09:47:43.509Z"
   },
   {
    "duration": 38,
    "start_time": "2023-09-21T09:47:59.450Z"
   },
   {
    "duration": 49,
    "start_time": "2023-09-21T09:48:17.914Z"
   },
   {
    "duration": 44,
    "start_time": "2023-09-21T09:48:47.460Z"
   },
   {
    "duration": 18,
    "start_time": "2023-09-21T09:49:10.124Z"
   },
   {
    "duration": 7,
    "start_time": "2023-09-21T09:49:12.534Z"
   },
   {
    "duration": 50,
    "start_time": "2023-09-21T09:49:31.104Z"
   },
   {
    "duration": 11,
    "start_time": "2023-09-21T09:49:52.192Z"
   },
   {
    "duration": 7,
    "start_time": "2023-09-21T09:49:56.222Z"
   },
   {
    "duration": 32,
    "start_time": "2023-09-21T09:50:39.513Z"
   },
   {
    "duration": 4,
    "start_time": "2023-09-21T09:51:36.113Z"
   },
   {
    "duration": 394,
    "start_time": "2023-09-21T09:51:50.850Z"
   },
   {
    "duration": 419,
    "start_time": "2023-09-21T09:52:32.958Z"
   },
   {
    "duration": 3043,
    "start_time": "2023-09-21T09:54:46.853Z"
   },
   {
    "duration": 540,
    "start_time": "2023-09-21T09:54:55.871Z"
   },
   {
    "duration": 19,
    "start_time": "2023-09-21T09:57:40.317Z"
   },
   {
    "duration": 5,
    "start_time": "2023-09-21T09:58:32.453Z"
   },
   {
    "duration": 1644,
    "start_time": "2023-09-21T09:58:32.460Z"
   },
   {
    "duration": 1160,
    "start_time": "2023-09-21T09:58:34.106Z"
   },
   {
    "duration": 22,
    "start_time": "2023-09-21T09:58:35.272Z"
   },
   {
    "duration": 231,
    "start_time": "2023-09-21T09:58:35.296Z"
   },
   {
    "duration": 213,
    "start_time": "2023-09-21T09:58:35.529Z"
   },
   {
    "duration": 126,
    "start_time": "2023-09-21T09:58:35.744Z"
   },
   {
    "duration": 362,
    "start_time": "2023-09-21T09:58:35.874Z"
   },
   {
    "duration": 149,
    "start_time": "2023-09-21T09:58:36.241Z"
   },
   {
    "duration": 118,
    "start_time": "2023-09-21T09:58:36.392Z"
   },
   {
    "duration": 102,
    "start_time": "2023-09-21T09:58:36.512Z"
   },
   {
    "duration": 573,
    "start_time": "2023-09-21T09:58:36.616Z"
   },
   {
    "duration": 108,
    "start_time": "2023-09-21T09:58:37.192Z"
   },
   {
    "duration": 93785,
    "start_time": "2023-09-21T09:58:37.302Z"
   },
   {
    "duration": 7048,
    "start_time": "2023-09-21T10:00:11.089Z"
   },
   {
    "duration": 989,
    "start_time": "2023-09-21T10:00:18.139Z"
   },
   {
    "duration": 945,
    "start_time": "2023-09-21T10:00:19.130Z"
   },
   {
    "duration": 302,
    "start_time": "2023-09-21T10:00:20.077Z"
   },
   {
    "duration": 121,
    "start_time": "2023-09-21T10:00:20.382Z"
   },
   {
    "duration": 537,
    "start_time": "2023-09-21T10:00:20.507Z"
   },
   {
    "duration": 6,
    "start_time": "2023-09-21T10:00:21.046Z"
   },
   {
    "duration": 99626,
    "start_time": "2023-09-21T10:00:57.710Z"
   },
   {
    "duration": 64203,
    "start_time": "2023-09-21T11:06:02.123Z"
   },
   {
    "duration": 688492,
    "start_time": "2023-09-21T11:10:23.934Z"
   },
   {
    "duration": 2141474,
    "start_time": "2023-09-21T11:21:52.432Z"
   },
   {
    "duration": 155,
    "start_time": "2023-09-21T12:12:48.532Z"
   },
   {
    "duration": 4,
    "start_time": "2023-09-21T12:12:55.684Z"
   },
   {
    "duration": 141,
    "start_time": "2023-09-21T12:14:42.895Z"
   },
   {
    "duration": 12,
    "start_time": "2023-09-21T12:15:21.293Z"
   },
   {
    "duration": 12,
    "start_time": "2023-09-21T12:15:26.377Z"
   },
   {
    "duration": 18989,
    "start_time": "2023-09-21T12:19:58.186Z"
   },
   {
    "duration": 18171,
    "start_time": "2023-09-21T12:21:35.824Z"
   },
   {
    "duration": 18508,
    "start_time": "2023-09-21T12:22:17.947Z"
   },
   {
    "duration": 152,
    "start_time": "2023-09-21T12:23:01.672Z"
   },
   {
    "duration": 18321,
    "start_time": "2023-09-21T12:23:07.615Z"
   },
   {
    "duration": 27210,
    "start_time": "2023-09-21T12:26:59.582Z"
   },
   {
    "duration": 284,
    "start_time": "2023-09-21T12:31:46.102Z"
   },
   {
    "duration": 6,
    "start_time": "2023-09-21T12:32:16.534Z"
   },
   {
    "duration": 7,
    "start_time": "2023-09-21T12:32:22.169Z"
   },
   {
    "duration": 107,
    "start_time": "2023-09-21T12:38:07.176Z"
   },
   {
    "duration": 109,
    "start_time": "2023-09-21T12:38:14.652Z"
   },
   {
    "duration": 165,
    "start_time": "2023-09-21T12:38:32.158Z"
   },
   {
    "duration": 103,
    "start_time": "2023-09-21T12:40:32.803Z"
   },
   {
    "duration": 206,
    "start_time": "2023-09-21T12:45:42.250Z"
   },
   {
    "duration": 8,
    "start_time": "2023-09-21T12:47:02.854Z"
   },
   {
    "duration": 3183,
    "start_time": "2023-09-21T12:47:02.865Z"
   },
   {
    "duration": 2027,
    "start_time": "2023-09-21T12:47:06.050Z"
   },
   {
    "duration": 23,
    "start_time": "2023-09-21T12:47:08.079Z"
   },
   {
    "duration": 294,
    "start_time": "2023-09-21T12:47:08.105Z"
   },
   {
    "duration": 233,
    "start_time": "2023-09-21T12:47:08.401Z"
   },
   {
    "duration": 115,
    "start_time": "2023-09-21T12:47:08.637Z"
   },
   {
    "duration": 346,
    "start_time": "2023-09-21T12:47:08.754Z"
   },
   {
    "duration": 196,
    "start_time": "2023-09-21T12:47:09.103Z"
   },
   {
    "duration": 172,
    "start_time": "2023-09-21T12:47:09.303Z"
   },
   {
    "duration": 111,
    "start_time": "2023-09-21T12:47:09.477Z"
   },
   {
    "duration": 622,
    "start_time": "2023-09-21T12:47:09.591Z"
   },
   {
    "duration": 174,
    "start_time": "2023-09-21T12:47:10.215Z"
   },
   {
    "duration": 89696,
    "start_time": "2023-09-21T12:47:10.394Z"
   },
   {
    "duration": 7610,
    "start_time": "2023-09-21T12:48:40.092Z"
   },
   {
    "duration": 971,
    "start_time": "2023-09-21T12:48:47.704Z"
   },
   {
    "duration": 1119,
    "start_time": "2023-09-21T12:48:48.677Z"
   },
   {
    "duration": 307,
    "start_time": "2023-09-21T12:48:49.798Z"
   },
   {
    "duration": 4,
    "start_time": "2023-09-21T12:48:50.107Z"
   },
   {
    "duration": 455,
    "start_time": "2023-09-21T12:48:50.124Z"
   },
   {
    "duration": 317978,
    "start_time": "2023-09-21T12:48:50.581Z"
   },
   {
    "duration": 785557,
    "start_time": "2023-09-21T12:54:08.637Z"
   },
   {
    "duration": 24461,
    "start_time": "2023-09-21T13:07:14.195Z"
   },
   {
    "duration": 338410,
    "start_time": "2023-09-21T13:07:38.658Z"
   },
   {
    "duration": 14,
    "start_time": "2023-09-21T13:13:17.071Z"
   },
   {
    "duration": 134,
    "start_time": "2023-09-21T13:16:40.310Z"
   },
   {
    "duration": 12564,
    "start_time": "2023-09-21T13:16:51.501Z"
   },
   {
    "duration": 9091,
    "start_time": "2023-09-21T13:20:40.948Z"
   },
   {
    "duration": 635,
    "start_time": "2023-09-21T13:24:39.840Z"
   },
   {
    "duration": 73160,
    "start_time": "2023-09-21T13:24:43.160Z"
   },
   {
    "duration": 314080,
    "start_time": "2023-09-21T13:26:03.214Z"
   },
   {
    "duration": 265039,
    "start_time": "2023-09-21T13:31:17.296Z"
   },
   {
    "duration": 161,
    "start_time": "2023-09-21T13:35:42.342Z"
   },
   {
    "duration": 130,
    "start_time": "2023-09-21T13:36:03.267Z"
   },
   {
    "duration": 120492,
    "start_time": "2023-09-21T13:36:17.661Z"
   },
   {
    "duration": 4,
    "start_time": "2023-09-21T13:41:28.020Z"
   },
   {
    "duration": 3,
    "start_time": "2023-09-21T13:42:23.302Z"
   },
   {
    "duration": 118,
    "start_time": "2023-09-21T13:43:08.376Z"
   },
   {
    "duration": 151,
    "start_time": "2023-09-21T13:43:12.695Z"
   },
   {
    "duration": 116052,
    "start_time": "2023-09-21T13:43:30.626Z"
   },
   {
    "duration": 64,
    "start_time": "2023-09-21T13:46:30.589Z"
   },
   {
    "duration": 511659,
    "start_time": "2023-09-21T13:46:39.931Z"
   },
   {
    "duration": 390964,
    "start_time": "2023-09-21T13:55:20.148Z"
   },
   {
    "duration": 230919,
    "start_time": "2023-09-21T14:03:20.210Z"
   },
   {
    "duration": 366643,
    "start_time": "2023-09-21T14:09:07.182Z"
   },
   {
    "duration": 13,
    "start_time": "2023-09-21T14:24:49.084Z"
   },
   {
    "duration": 4,
    "start_time": "2023-09-21T14:25:12.254Z"
   },
   {
    "duration": 12642,
    "start_time": "2023-09-21T14:25:17.508Z"
   },
   {
    "duration": 73663,
    "start_time": "2023-09-21T14:25:47.389Z"
   },
   {
    "duration": 19703,
    "start_time": "2023-09-21T14:27:54.959Z"
   },
   {
    "duration": 194,
    "start_time": "2023-09-21T14:28:26.918Z"
   },
   {
    "duration": 4,
    "start_time": "2023-09-21T14:28:35.092Z"
   },
   {
    "duration": 2418,
    "start_time": "2023-09-21T14:28:35.099Z"
   },
   {
    "duration": 1321,
    "start_time": "2023-09-21T14:28:37.519Z"
   },
   {
    "duration": 23,
    "start_time": "2023-09-21T14:28:38.844Z"
   },
   {
    "duration": 171,
    "start_time": "2023-09-21T14:28:38.869Z"
   },
   {
    "duration": 182,
    "start_time": "2023-09-21T14:28:39.042Z"
   },
   {
    "duration": 115,
    "start_time": "2023-09-21T14:28:39.226Z"
   },
   {
    "duration": 288,
    "start_time": "2023-09-21T14:28:39.343Z"
   },
   {
    "duration": 120,
    "start_time": "2023-09-21T14:28:39.634Z"
   },
   {
    "duration": 119,
    "start_time": "2023-09-21T14:28:39.756Z"
   },
   {
    "duration": 104,
    "start_time": "2023-09-21T14:28:39.876Z"
   },
   {
    "duration": 590,
    "start_time": "2023-09-21T14:28:39.981Z"
   },
   {
    "duration": 132,
    "start_time": "2023-09-21T14:28:40.573Z"
   },
   {
    "duration": 21,
    "start_time": "2023-09-21T14:28:40.707Z"
   },
   {
    "duration": 85722,
    "start_time": "2023-09-21T14:28:40.731Z"
   },
   {
    "duration": 7047,
    "start_time": "2023-09-21T14:30:06.455Z"
   },
   {
    "duration": 911,
    "start_time": "2023-09-21T14:30:13.504Z"
   },
   {
    "duration": 914,
    "start_time": "2023-09-21T14:30:14.417Z"
   },
   {
    "duration": 296,
    "start_time": "2023-09-21T14:30:15.333Z"
   },
   {
    "duration": 4,
    "start_time": "2023-09-21T14:30:15.632Z"
   },
   {
    "duration": 536,
    "start_time": "2023-09-21T14:30:15.638Z"
   },
   {
    "duration": 4,
    "start_time": "2023-09-21T14:30:16.176Z"
   },
   {
    "duration": 58321,
    "start_time": "2023-09-21T14:30:16.183Z"
   },
   {
    "duration": 4,
    "start_time": "2023-09-21T14:34:41.453Z"
   },
   {
    "duration": 1389,
    "start_time": "2023-09-21T14:34:41.459Z"
   },
   {
    "duration": 970,
    "start_time": "2023-09-21T14:34:42.849Z"
   },
   {
    "duration": 27,
    "start_time": "2023-09-21T14:34:43.823Z"
   },
   {
    "duration": 241,
    "start_time": "2023-09-21T14:34:43.852Z"
   },
   {
    "duration": 168,
    "start_time": "2023-09-21T14:34:44.095Z"
   },
   {
    "duration": 172,
    "start_time": "2023-09-21T14:34:44.264Z"
   },
   {
    "duration": 274,
    "start_time": "2023-09-21T14:34:44.438Z"
   },
   {
    "duration": 92,
    "start_time": "2023-09-21T14:34:44.715Z"
   },
   {
    "duration": 122,
    "start_time": "2023-09-21T14:34:44.808Z"
   },
   {
    "duration": 124,
    "start_time": "2023-09-21T14:34:44.932Z"
   },
   {
    "duration": 552,
    "start_time": "2023-09-21T14:34:45.058Z"
   },
   {
    "duration": 126,
    "start_time": "2023-09-21T14:34:45.612Z"
   },
   {
    "duration": 14,
    "start_time": "2023-09-21T14:34:45.740Z"
   },
   {
    "duration": 89316,
    "start_time": "2023-09-21T14:34:45.756Z"
   },
   {
    "duration": 6764,
    "start_time": "2023-09-21T14:36:15.074Z"
   },
   {
    "duration": 931,
    "start_time": "2023-09-21T14:36:21.841Z"
   },
   {
    "duration": 944,
    "start_time": "2023-09-21T14:36:22.774Z"
   },
   {
    "duration": 304,
    "start_time": "2023-09-21T14:36:23.720Z"
   },
   {
    "duration": 40,
    "start_time": "2023-09-21T14:36:24.026Z"
   },
   {
    "duration": 408,
    "start_time": "2023-09-21T14:36:24.068Z"
   },
   {
    "duration": 3,
    "start_time": "2023-09-21T14:36:24.478Z"
   },
   {
    "duration": 228444,
    "start_time": "2023-09-21T14:36:24.482Z"
   },
   {
    "duration": 497329,
    "start_time": "2023-09-21T14:40:12.930Z"
   },
   {
    "duration": 83508,
    "start_time": "2023-09-21T14:48:30.261Z"
   },
   {
    "duration": 1935591,
    "start_time": "2023-09-21T14:49:53.771Z"
   },
   {
    "duration": 857656,
    "start_time": "2023-09-21T15:22:52.327Z"
   },
   {
    "duration": 2480,
    "start_time": "2023-09-21T15:37:21.750Z"
   },
   {
    "duration": 97,
    "start_time": "2023-09-21T15:42:39.437Z"
   },
   {
    "duration": 209485,
    "start_time": "2023-09-21T15:42:47.465Z"
   },
   {
    "duration": 52,
    "start_time": "2023-09-21T15:49:34.718Z"
   },
   {
    "duration": 128,
    "start_time": "2023-09-21T15:49:43.403Z"
   },
   {
    "duration": 95,
    "start_time": "2023-09-21T15:49:55.290Z"
   },
   {
    "duration": 109,
    "start_time": "2023-09-21T15:50:32.790Z"
   },
   {
    "duration": 263566,
    "start_time": "2023-09-21T15:51:43.571Z"
   },
   {
    "duration": 3559450,
    "start_time": "2023-09-21T15:56:29.307Z"
   },
   {
    "duration": 10338,
    "start_time": "2023-09-21T16:57:15.189Z"
   },
   {
    "duration": 10468,
    "start_time": "2023-09-21T16:57:38.074Z"
   },
   {
    "duration": 11543,
    "start_time": "2023-09-21T16:58:36.808Z"
   },
   {
    "duration": 4,
    "start_time": "2023-09-21T16:59:54.773Z"
   },
   {
    "duration": 255,
    "start_time": "2023-09-21T17:00:03.499Z"
   },
   {
    "duration": 69,
    "start_time": "2023-09-21T17:00:24.349Z"
   },
   {
    "duration": 17281,
    "start_time": "2023-09-21T17:00:30.809Z"
   },
   {
    "duration": 616,
    "start_time": "2023-09-21T17:01:06.747Z"
   },
   {
    "duration": 398,
    "start_time": "2023-09-21T17:01:22.691Z"
   },
   {
    "duration": 10313,
    "start_time": "2023-09-21T17:02:09.127Z"
   },
   {
    "duration": 10782,
    "start_time": "2023-09-21T17:03:12.951Z"
   },
   {
    "duration": 63170,
    "start_time": "2023-09-21T17:04:48.670Z"
   },
   {
    "duration": 40158,
    "start_time": "2023-09-21T17:06:42.676Z"
   },
   {
    "duration": 22686,
    "start_time": "2023-09-21T17:07:32.245Z"
   },
   {
    "duration": 173036,
    "start_time": "2023-09-21T17:08:09.544Z"
   },
   {
    "duration": 61981,
    "start_time": "2023-09-21T17:11:07.215Z"
   },
   {
    "duration": 50141,
    "start_time": "2023-09-21T17:12:29.708Z"
   },
   {
    "duration": 67951,
    "start_time": "2023-09-21T17:13:22.974Z"
   },
   {
    "duration": 8270,
    "start_time": "2023-09-21T17:14:48.666Z"
   },
   {
    "duration": 5401,
    "start_time": "2023-09-21T17:14:57.479Z"
   },
   {
    "duration": 13511,
    "start_time": "2023-09-21T17:15:09.017Z"
   },
   {
    "duration": 28425,
    "start_time": "2023-09-21T17:15:27.409Z"
   },
   {
    "duration": 67312,
    "start_time": "2023-09-21T17:16:25.726Z"
   },
   {
    "duration": 125267,
    "start_time": "2023-09-21T17:18:04.473Z"
   },
   {
    "duration": 180850,
    "start_time": "2023-09-21T17:20:21.904Z"
   },
   {
    "duration": 1955,
    "start_time": "2023-09-22T09:35:23.653Z"
   },
   {
    "duration": 1210,
    "start_time": "2023-09-22T09:35:25.610Z"
   },
   {
    "duration": 23,
    "start_time": "2023-09-22T09:35:26.821Z"
   },
   {
    "duration": 169,
    "start_time": "2023-09-22T09:35:26.846Z"
   },
   {
    "duration": 161,
    "start_time": "2023-09-22T09:35:27.017Z"
   },
   {
    "duration": 108,
    "start_time": "2023-09-22T09:35:27.180Z"
   },
   {
    "duration": 263,
    "start_time": "2023-09-22T09:35:29.127Z"
   },
   {
    "duration": 39,
    "start_time": "2023-09-22T09:35:31.228Z"
   },
   {
    "duration": 93,
    "start_time": "2023-09-22T09:35:36.766Z"
   },
   {
    "duration": 87,
    "start_time": "2023-09-22T09:35:37.595Z"
   },
   {
    "duration": 66,
    "start_time": "2023-09-22T09:35:38.155Z"
   },
   {
    "duration": 496,
    "start_time": "2023-09-22T09:35:38.719Z"
   },
   {
    "duration": 130,
    "start_time": "2023-09-22T09:35:40.309Z"
   },
   {
    "duration": 13,
    "start_time": "2023-09-22T09:35:41.311Z"
   },
   {
    "duration": 1391,
    "start_time": "2023-09-22T09:35:42.385Z"
   },
   {
    "duration": 10414,
    "start_time": "2023-09-22T09:35:54.869Z"
   },
   {
    "duration": 1291,
    "start_time": "2023-09-22T09:36:12.254Z"
   },
   {
    "duration": 5052,
    "start_time": "2023-09-22T09:36:43.527Z"
   },
   {
    "duration": 1276,
    "start_time": "2023-09-22T09:36:56.289Z"
   },
   {
    "duration": 2386,
    "start_time": "2023-09-22T09:37:11.885Z"
   },
   {
    "duration": 1309,
    "start_time": "2023-09-22T09:37:19.934Z"
   },
   {
    "duration": 6588,
    "start_time": "2023-09-22T09:38:30.620Z"
   },
   {
    "duration": 1350,
    "start_time": "2023-09-22T09:38:44.676Z"
   },
   {
    "duration": 3407,
    "start_time": "2023-09-22T09:40:12.722Z"
   },
   {
    "duration": 1452,
    "start_time": "2023-09-22T09:40:16.132Z"
   },
   {
    "duration": 963,
    "start_time": "2023-09-22T09:40:17.588Z"
   },
   {
    "duration": 22,
    "start_time": "2023-09-22T09:40:18.553Z"
   },
   {
    "duration": 170,
    "start_time": "2023-09-22T09:40:18.577Z"
   },
   {
    "duration": 155,
    "start_time": "2023-09-22T09:40:18.749Z"
   },
   {
    "duration": 163,
    "start_time": "2023-09-22T09:40:18.905Z"
   },
   {
    "duration": 283,
    "start_time": "2023-09-22T09:40:19.072Z"
   },
   {
    "duration": 37,
    "start_time": "2023-09-22T09:40:19.358Z"
   },
   {
    "duration": 118,
    "start_time": "2023-09-22T09:40:19.397Z"
   },
   {
    "duration": 107,
    "start_time": "2023-09-22T09:40:19.516Z"
   },
   {
    "duration": 76,
    "start_time": "2023-09-22T09:40:19.625Z"
   },
   {
    "duration": 467,
    "start_time": "2023-09-22T09:40:19.703Z"
   },
   {
    "duration": 127,
    "start_time": "2023-09-22T09:40:20.172Z"
   },
   {
    "duration": 14,
    "start_time": "2023-09-22T09:40:20.301Z"
   },
   {
    "duration": 55,
    "start_time": "2023-09-22T09:40:48.702Z"
   },
   {
    "duration": 3088,
    "start_time": "2023-09-22T09:41:00.101Z"
   },
   {
    "duration": 2593,
    "start_time": "2023-09-22T09:41:03.191Z"
   },
   {
    "duration": 1292,
    "start_time": "2023-09-22T09:41:05.786Z"
   },
   {
    "duration": 24,
    "start_time": "2023-09-22T09:41:07.081Z"
   },
   {
    "duration": 163,
    "start_time": "2023-09-22T09:41:07.106Z"
   },
   {
    "duration": 162,
    "start_time": "2023-09-22T09:41:07.271Z"
   },
   {
    "duration": 108,
    "start_time": "2023-09-22T09:41:07.434Z"
   },
   {
    "duration": 280,
    "start_time": "2023-09-22T09:41:07.546Z"
   },
   {
    "duration": 39,
    "start_time": "2023-09-22T09:41:07.828Z"
   },
   {
    "duration": 110,
    "start_time": "2023-09-22T09:41:07.870Z"
   },
   {
    "duration": 90,
    "start_time": "2023-09-22T09:41:07.982Z"
   },
   {
    "duration": 92,
    "start_time": "2023-09-22T09:41:08.075Z"
   },
   {
    "duration": 472,
    "start_time": "2023-09-22T09:41:08.169Z"
   },
   {
    "duration": 130,
    "start_time": "2023-09-22T09:41:08.643Z"
   },
   {
    "duration": 16,
    "start_time": "2023-09-22T09:41:08.775Z"
   },
   {
    "duration": 3231,
    "start_time": "2023-09-22T09:43:54.772Z"
   },
   {
    "duration": 2177,
    "start_time": "2023-09-22T09:43:58.006Z"
   },
   {
    "duration": 1293,
    "start_time": "2023-09-22T09:44:00.185Z"
   },
   {
    "duration": 24,
    "start_time": "2023-09-22T09:44:01.480Z"
   },
   {
    "duration": 296,
    "start_time": "2023-09-22T09:44:01.508Z"
   },
   {
    "duration": 451,
    "start_time": "2023-09-22T09:44:01.806Z"
   },
   {
    "duration": 209,
    "start_time": "2023-09-22T09:44:02.259Z"
   },
   {
    "duration": 456,
    "start_time": "2023-09-22T09:44:02.470Z"
   },
   {
    "duration": 43,
    "start_time": "2023-09-22T09:44:02.927Z"
   },
   {
    "duration": 175,
    "start_time": "2023-09-22T09:44:02.972Z"
   },
   {
    "duration": 102,
    "start_time": "2023-09-22T09:44:03.148Z"
   },
   {
    "duration": 79,
    "start_time": "2023-09-22T09:44:03.251Z"
   },
   {
    "duration": 446,
    "start_time": "2023-09-22T09:44:03.332Z"
   },
   {
    "duration": 117,
    "start_time": "2023-09-22T09:44:03.781Z"
   },
   {
    "duration": 13,
    "start_time": "2023-09-22T09:44:03.900Z"
   },
   {
    "duration": 6440,
    "start_time": "2023-09-22T09:47:18.951Z"
   },
   {
    "duration": 1509,
    "start_time": "2023-09-22T09:47:25.394Z"
   },
   {
    "duration": 1228,
    "start_time": "2023-09-22T09:47:26.905Z"
   },
   {
    "duration": 24,
    "start_time": "2023-09-22T09:47:28.135Z"
   },
   {
    "duration": 168,
    "start_time": "2023-09-22T09:47:28.161Z"
   },
   {
    "duration": 198,
    "start_time": "2023-09-22T09:47:28.331Z"
   },
   {
    "duration": 95,
    "start_time": "2023-09-22T09:47:28.531Z"
   },
   {
    "duration": 278,
    "start_time": "2023-09-22T09:47:28.628Z"
   },
   {
    "duration": 41,
    "start_time": "2023-09-22T09:47:28.907Z"
   },
   {
    "duration": 110,
    "start_time": "2023-09-22T09:47:28.949Z"
   },
   {
    "duration": 109,
    "start_time": "2023-09-22T09:47:29.062Z"
   },
   {
    "duration": 82,
    "start_time": "2023-09-22T09:47:29.173Z"
   },
   {
    "duration": 431,
    "start_time": "2023-09-22T09:47:29.257Z"
   },
   {
    "duration": 126,
    "start_time": "2023-09-22T09:47:29.691Z"
   },
   {
    "duration": 13,
    "start_time": "2023-09-22T09:47:29.819Z"
   },
   {
    "duration": 2559,
    "start_time": "2023-09-22T09:47:58.949Z"
   },
   {
    "duration": 3001,
    "start_time": "2023-09-22T09:48:01.511Z"
   },
   {
    "duration": 1347,
    "start_time": "2023-09-22T09:48:04.514Z"
   },
   {
    "duration": 23,
    "start_time": "2023-09-22T09:48:05.863Z"
   },
   {
    "duration": 186,
    "start_time": "2023-09-22T09:48:05.887Z"
   },
   {
    "duration": 225,
    "start_time": "2023-09-22T09:48:06.075Z"
   },
   {
    "duration": 110,
    "start_time": "2023-09-22T09:48:06.303Z"
   },
   {
    "duration": 273,
    "start_time": "2023-09-22T09:48:06.415Z"
   },
   {
    "duration": 36,
    "start_time": "2023-09-22T09:48:06.689Z"
   },
   {
    "duration": 109,
    "start_time": "2023-09-22T09:48:06.728Z"
   },
   {
    "duration": 110,
    "start_time": "2023-09-22T09:48:06.839Z"
   },
   {
    "duration": 67,
    "start_time": "2023-09-22T09:48:06.951Z"
   },
   {
    "duration": 431,
    "start_time": "2023-09-22T09:48:07.020Z"
   },
   {
    "duration": 124,
    "start_time": "2023-09-22T09:48:07.453Z"
   },
   {
    "duration": 12,
    "start_time": "2023-09-22T09:48:07.579Z"
   },
   {
    "duration": 73100,
    "start_time": "2023-09-22T09:48:07.593Z"
   },
   {
    "duration": 5796,
    "start_time": "2023-09-22T09:49:20.695Z"
   },
   {
    "duration": 139,
    "start_time": "2023-09-22T09:49:26.493Z"
   },
   {
    "duration": 0,
    "start_time": "2023-09-22T09:49:26.634Z"
   },
   {
    "duration": 0,
    "start_time": "2023-09-22T09:49:26.635Z"
   },
   {
    "duration": 0,
    "start_time": "2023-09-22T09:49:26.637Z"
   },
   {
    "duration": 0,
    "start_time": "2023-09-22T09:49:26.638Z"
   },
   {
    "duration": 0,
    "start_time": "2023-09-22T09:49:26.646Z"
   },
   {
    "duration": 0,
    "start_time": "2023-09-22T09:49:26.647Z"
   },
   {
    "duration": 0,
    "start_time": "2023-09-22T09:49:26.648Z"
   },
   {
    "duration": 841,
    "start_time": "2023-09-22T09:49:42.079Z"
   },
   {
    "duration": 909,
    "start_time": "2023-09-22T09:49:43.590Z"
   },
   {
    "duration": 292,
    "start_time": "2023-09-22T09:49:44.501Z"
   },
   {
    "duration": 4,
    "start_time": "2023-09-22T10:02:10.623Z"
   },
   {
    "duration": 122982,
    "start_time": "2023-09-22T10:02:11.066Z"
   },
   {
    "duration": 31434,
    "start_time": "2023-09-22T10:04:14.051Z"
   },
   {
    "duration": 163,
    "start_time": "2023-09-22T10:04:45.487Z"
   },
   {
    "duration": 478033,
    "start_time": "2023-09-22T10:04:45.653Z"
   },
   {
    "duration": 13065,
    "start_time": "2023-09-22T10:37:46.199Z"
   },
   {
    "duration": 101,
    "start_time": "2023-09-22T10:37:59.266Z"
   },
   {
    "duration": 81458,
    "start_time": "2023-09-22T10:37:59.369Z"
   },
   {
    "duration": 194,
    "start_time": "2023-09-22T10:39:20.830Z"
   },
   {
    "duration": 4910,
    "start_time": "2023-09-22T11:05:27.660Z"
   },
   {
    "duration": 1376,
    "start_time": "2023-09-22T11:05:32.573Z"
   },
   {
    "duration": 1105,
    "start_time": "2023-09-22T11:05:33.951Z"
   },
   {
    "duration": 24,
    "start_time": "2023-09-22T11:05:35.058Z"
   },
   {
    "duration": 255,
    "start_time": "2023-09-22T11:05:35.084Z"
   },
   {
    "duration": 250,
    "start_time": "2023-09-22T11:05:35.346Z"
   },
   {
    "duration": 122,
    "start_time": "2023-09-22T11:05:35.598Z"
   },
   {
    "duration": 290,
    "start_time": "2023-09-22T11:05:35.722Z"
   },
   {
    "duration": 38,
    "start_time": "2023-09-22T11:05:36.014Z"
   },
   {
    "duration": 110,
    "start_time": "2023-09-22T11:05:36.055Z"
   },
   {
    "duration": 139,
    "start_time": "2023-09-22T11:05:36.167Z"
   },
   {
    "duration": 71,
    "start_time": "2023-09-22T11:05:36.308Z"
   },
   {
    "duration": 461,
    "start_time": "2023-09-22T11:05:36.382Z"
   },
   {
    "duration": 121,
    "start_time": "2023-09-22T11:05:36.847Z"
   },
   {
    "duration": 12,
    "start_time": "2023-09-22T11:05:36.970Z"
   },
   {
    "duration": 4657,
    "start_time": "2023-09-22T11:05:36.984Z"
   },
   {
    "duration": 0,
    "start_time": "2023-09-22T11:05:41.643Z"
   },
   {
    "duration": 0,
    "start_time": "2023-09-22T11:05:41.647Z"
   },
   {
    "duration": 0,
    "start_time": "2023-09-22T11:05:41.648Z"
   },
   {
    "duration": 0,
    "start_time": "2023-09-22T11:05:41.649Z"
   },
   {
    "duration": 0,
    "start_time": "2023-09-22T11:05:41.650Z"
   },
   {
    "duration": 0,
    "start_time": "2023-09-22T11:05:41.651Z"
   },
   {
    "duration": 0,
    "start_time": "2023-09-22T11:05:41.652Z"
   },
   {
    "duration": 0,
    "start_time": "2023-09-22T11:05:41.654Z"
   },
   {
    "duration": 0,
    "start_time": "2023-09-22T11:05:41.655Z"
   },
   {
    "duration": 0,
    "start_time": "2023-09-22T11:05:41.656Z"
   },
   {
    "duration": 0,
    "start_time": "2023-09-22T11:05:41.658Z"
   },
   {
    "duration": 0,
    "start_time": "2023-09-22T11:05:41.659Z"
   },
   {
    "duration": 0,
    "start_time": "2023-09-22T11:05:41.660Z"
   },
   {
    "duration": 0,
    "start_time": "2023-09-22T11:05:41.661Z"
   },
   {
    "duration": 0,
    "start_time": "2023-09-22T11:05:41.663Z"
   },
   {
    "duration": 4877,
    "start_time": "2023-09-22T11:08:50.235Z"
   },
   {
    "duration": 1414,
    "start_time": "2023-09-22T11:08:55.114Z"
   },
   {
    "duration": 960,
    "start_time": "2023-09-22T11:08:56.530Z"
   },
   {
    "duration": 24,
    "start_time": "2023-09-22T11:08:57.492Z"
   },
   {
    "duration": 175,
    "start_time": "2023-09-22T11:08:57.518Z"
   },
   {
    "duration": 158,
    "start_time": "2023-09-22T11:08:57.695Z"
   },
   {
    "duration": 116,
    "start_time": "2023-09-22T11:08:57.855Z"
   },
   {
    "duration": 293,
    "start_time": "2023-09-22T11:08:57.973Z"
   },
   {
    "duration": 36,
    "start_time": "2023-09-22T11:08:58.268Z"
   },
   {
    "duration": 105,
    "start_time": "2023-09-22T11:08:58.308Z"
   },
   {
    "duration": 97,
    "start_time": "2023-09-22T11:08:58.415Z"
   },
   {
    "duration": 81,
    "start_time": "2023-09-22T11:08:58.514Z"
   },
   {
    "duration": 467,
    "start_time": "2023-09-22T11:08:58.597Z"
   },
   {
    "duration": 135,
    "start_time": "2023-09-22T11:08:59.066Z"
   },
   {
    "duration": 12,
    "start_time": "2023-09-22T11:08:59.203Z"
   },
   {
    "duration": 80519,
    "start_time": "2023-09-22T11:08:59.217Z"
   },
   {
    "duration": 6661,
    "start_time": "2023-09-22T11:10:19.738Z"
   },
   {
    "duration": 861,
    "start_time": "2023-09-22T11:10:26.401Z"
   },
   {
    "duration": 920,
    "start_time": "2023-09-22T11:10:27.265Z"
   },
   {
    "duration": 299,
    "start_time": "2023-09-22T11:10:28.186Z"
   },
   {
    "duration": 25,
    "start_time": "2023-09-22T11:10:28.487Z"
   },
   {
    "duration": 109842,
    "start_time": "2023-09-22T11:10:28.514Z"
   },
   {
    "duration": 33647,
    "start_time": "2023-09-22T11:12:18.448Z"
   },
   {
    "duration": 151,
    "start_time": "2023-09-22T11:12:52.097Z"
   },
   {
    "duration": 476535,
    "start_time": "2023-09-22T11:12:52.251Z"
   },
   {
    "duration": 13361,
    "start_time": "2023-09-22T11:20:48.787Z"
   },
   {
    "duration": 100,
    "start_time": "2023-09-22T11:21:02.153Z"
   },
   {
    "duration": 82727,
    "start_time": "2023-09-22T11:21:02.257Z"
   },
   {
    "duration": 308,
    "start_time": "2023-09-22T11:22:24.987Z"
   },
   {
    "duration": 1747751,
    "start_time": "2023-09-22T11:22:25.298Z"
   },
   {
    "duration": 1305,
    "start_time": "2023-09-22T11:51:33.052Z"
   },
   {
    "duration": 123,
    "start_time": "2023-09-22T12:07:34.650Z"
   },
   {
    "duration": 100,
    "start_time": "2023-09-22T12:07:42.896Z"
   },
   {
    "duration": 91,
    "start_time": "2023-09-22T12:07:47.136Z"
   },
   {
    "duration": 89,
    "start_time": "2023-09-22T12:08:25.969Z"
   },
   {
    "duration": 140,
    "start_time": "2023-09-22T12:10:47.771Z"
   },
   {
    "duration": 18,
    "start_time": "2023-09-22T12:11:01.361Z"
   },
   {
    "duration": 18,
    "start_time": "2023-09-22T12:11:34.104Z"
   },
   {
    "duration": 95,
    "start_time": "2023-09-22T12:12:18.977Z"
   },
   {
    "duration": 24,
    "start_time": "2023-09-22T12:12:26.750Z"
   },
   {
    "duration": 18,
    "start_time": "2023-09-22T12:13:42.405Z"
   },
   {
    "duration": 21,
    "start_time": "2023-09-22T12:15:32.197Z"
   },
   {
    "duration": 21,
    "start_time": "2023-09-22T12:15:50.510Z"
   },
   {
    "duration": 19,
    "start_time": "2023-09-22T12:15:55.711Z"
   },
   {
    "duration": 19,
    "start_time": "2023-09-22T12:16:01.744Z"
   },
   {
    "duration": 19,
    "start_time": "2023-09-22T12:16:51.943Z"
   },
   {
    "duration": 9,
    "start_time": "2023-09-22T12:17:22.168Z"
   },
   {
    "duration": 17,
    "start_time": "2023-09-22T12:17:45.766Z"
   },
   {
    "duration": 8,
    "start_time": "2023-09-22T12:19:24.611Z"
   },
   {
    "duration": 11,
    "start_time": "2023-09-22T12:19:40.713Z"
   },
   {
    "duration": 20,
    "start_time": "2023-09-22T12:20:15.834Z"
   },
   {
    "duration": 13,
    "start_time": "2023-09-22T12:22:06.473Z"
   },
   {
    "duration": 16,
    "start_time": "2023-09-22T12:22:37.274Z"
   },
   {
    "duration": 31,
    "start_time": "2023-09-22T12:22:45.806Z"
   },
   {
    "duration": 26,
    "start_time": "2023-09-22T12:26:07.164Z"
   },
   {
    "duration": 28,
    "start_time": "2023-09-22T12:27:17.623Z"
   },
   {
    "duration": 11,
    "start_time": "2023-09-22T12:28:16.362Z"
   },
   {
    "duration": 4760,
    "start_time": "2023-09-22T12:49:09.599Z"
   },
   {
    "duration": 1402,
    "start_time": "2023-09-22T12:49:14.361Z"
   },
   {
    "duration": 958,
    "start_time": "2023-09-22T12:49:15.765Z"
   },
   {
    "duration": 28,
    "start_time": "2023-09-22T12:49:16.725Z"
   },
   {
    "duration": 162,
    "start_time": "2023-09-22T12:49:16.755Z"
   },
   {
    "duration": 170,
    "start_time": "2023-09-22T12:49:16.919Z"
   },
   {
    "duration": 102,
    "start_time": "2023-09-22T12:49:17.091Z"
   },
   {
    "duration": 276,
    "start_time": "2023-09-22T12:49:17.194Z"
   },
   {
    "duration": 39,
    "start_time": "2023-09-22T12:49:17.472Z"
   },
   {
    "duration": 108,
    "start_time": "2023-09-22T12:49:17.513Z"
   },
   {
    "duration": 88,
    "start_time": "2023-09-22T12:49:17.623Z"
   },
   {
    "duration": 82,
    "start_time": "2023-09-22T12:49:17.712Z"
   },
   {
    "duration": 466,
    "start_time": "2023-09-22T12:49:17.795Z"
   },
   {
    "duration": 119,
    "start_time": "2023-09-22T12:49:18.263Z"
   },
   {
    "duration": 13,
    "start_time": "2023-09-22T12:49:18.384Z"
   },
   {
    "duration": 71263,
    "start_time": "2023-09-22T12:49:18.399Z"
   },
   {
    "duration": 6555,
    "start_time": "2023-09-22T12:50:29.664Z"
   },
   {
    "duration": 1031,
    "start_time": "2023-09-22T12:50:36.221Z"
   },
   {
    "duration": 914,
    "start_time": "2023-09-22T12:50:37.254Z"
   },
   {
    "duration": 294,
    "start_time": "2023-09-22T12:50:38.169Z"
   },
   {
    "duration": 12,
    "start_time": "2023-09-22T12:50:38.465Z"
   },
   {
    "duration": 81568,
    "start_time": "2023-09-22T12:50:38.479Z"
   },
   {
    "duration": 26937,
    "start_time": "2023-09-22T12:52:00.050Z"
   },
   {
    "duration": 74,
    "start_time": "2023-09-22T12:52:26.989Z"
   },
   {
    "duration": 469576,
    "start_time": "2023-09-22T12:52:27.065Z"
   },
   {
    "duration": 13169,
    "start_time": "2023-09-22T13:00:16.646Z"
   },
   {
    "duration": 99,
    "start_time": "2023-09-22T13:00:29.817Z"
   },
   {
    "duration": 80360,
    "start_time": "2023-09-22T13:00:29.919Z"
   },
   {
    "duration": 197,
    "start_time": "2023-09-22T13:01:50.281Z"
   },
   {
    "duration": 20082,
    "start_time": "2023-09-22T13:01:50.480Z"
   },
   {
    "duration": 1289,
    "start_time": "2023-09-22T13:02:10.564Z"
   },
   {
    "duration": 11,
    "start_time": "2023-09-22T13:02:11.855Z"
   },
   {
    "duration": 11,
    "start_time": "2023-09-22T13:07:09.830Z"
   },
   {
    "duration": 10,
    "start_time": "2023-09-22T13:16:33.441Z"
   },
   {
    "duration": 125,
    "start_time": "2023-09-22T13:16:49.221Z"
   },
   {
    "duration": 12,
    "start_time": "2023-09-22T13:16:58.324Z"
   },
   {
    "duration": 15,
    "start_time": "2023-09-22T13:17:41.498Z"
   },
   {
    "duration": 18,
    "start_time": "2023-09-22T13:19:15.530Z"
   },
   {
    "duration": 16,
    "start_time": "2023-09-22T13:20:29.342Z"
   },
   {
    "duration": 9692,
    "start_time": "2023-09-22T13:41:35.550Z"
   },
   {
    "duration": 1458,
    "start_time": "2023-09-22T13:41:45.245Z"
   },
   {
    "duration": 1023,
    "start_time": "2023-09-22T13:41:46.704Z"
   },
   {
    "duration": 30,
    "start_time": "2023-09-22T13:41:47.730Z"
   },
   {
    "duration": 199,
    "start_time": "2023-09-22T13:41:47.762Z"
   },
   {
    "duration": 172,
    "start_time": "2023-09-22T13:41:47.963Z"
   },
   {
    "duration": 114,
    "start_time": "2023-09-22T13:41:48.137Z"
   },
   {
    "duration": 283,
    "start_time": "2023-09-22T13:41:48.253Z"
   },
   {
    "duration": 36,
    "start_time": "2023-09-22T13:41:48.538Z"
   },
   {
    "duration": 115,
    "start_time": "2023-09-22T13:41:48.577Z"
   },
   {
    "duration": 90,
    "start_time": "2023-09-22T13:41:48.694Z"
   },
   {
    "duration": 85,
    "start_time": "2023-09-22T13:41:48.785Z"
   },
   {
    "duration": 446,
    "start_time": "2023-09-22T13:41:48.872Z"
   },
   {
    "duration": 139,
    "start_time": "2023-09-22T13:41:49.320Z"
   },
   {
    "duration": 12,
    "start_time": "2023-09-22T13:41:49.461Z"
   },
   {
    "duration": 5818,
    "start_time": "2023-09-22T14:11:41.343Z"
   },
   {
    "duration": 2513,
    "start_time": "2023-09-22T14:11:47.163Z"
   },
   {
    "duration": 1701,
    "start_time": "2023-09-22T14:11:49.678Z"
   },
   {
    "duration": 22,
    "start_time": "2023-09-22T14:11:51.382Z"
   },
   {
    "duration": 217,
    "start_time": "2023-09-22T14:11:51.406Z"
   },
   {
    "duration": 197,
    "start_time": "2023-09-22T14:11:51.631Z"
   },
   {
    "duration": 117,
    "start_time": "2023-09-22T14:11:51.836Z"
   },
   {
    "duration": 318,
    "start_time": "2023-09-22T14:11:51.955Z"
   },
   {
    "duration": 39,
    "start_time": "2023-09-22T14:11:52.275Z"
   },
   {
    "duration": 138,
    "start_time": "2023-09-22T14:11:52.318Z"
   },
   {
    "duration": 127,
    "start_time": "2023-09-22T14:11:52.459Z"
   },
   {
    "duration": 134,
    "start_time": "2023-09-22T14:11:52.590Z"
   },
   {
    "duration": 535,
    "start_time": "2023-09-22T14:11:52.730Z"
   },
   {
    "duration": 167,
    "start_time": "2023-09-22T14:11:53.269Z"
   },
   {
    "duration": 17,
    "start_time": "2023-09-22T14:11:53.438Z"
   },
   {
    "duration": 7975,
    "start_time": "2023-09-22T14:12:21.189Z"
   },
   {
    "duration": 7602,
    "start_time": "2023-09-22T14:12:29.166Z"
   },
   {
    "duration": 1625,
    "start_time": "2023-09-22T14:12:36.770Z"
   },
   {
    "duration": 46,
    "start_time": "2023-09-22T14:12:38.398Z"
   },
   {
    "duration": 192,
    "start_time": "2023-09-22T14:12:38.447Z"
   },
   {
    "duration": 174,
    "start_time": "2023-09-22T14:12:38.642Z"
   },
   {
    "duration": 124,
    "start_time": "2023-09-22T14:12:38.817Z"
   },
   {
    "duration": 311,
    "start_time": "2023-09-22T14:12:38.943Z"
   },
   {
    "duration": 37,
    "start_time": "2023-09-22T14:12:39.256Z"
   },
   {
    "duration": 111,
    "start_time": "2023-09-22T14:12:39.308Z"
   },
   {
    "duration": 105,
    "start_time": "2023-09-22T14:12:39.427Z"
   },
   {
    "duration": 85,
    "start_time": "2023-09-22T14:12:39.537Z"
   },
   {
    "duration": 508,
    "start_time": "2023-09-22T14:12:39.624Z"
   },
   {
    "duration": 137,
    "start_time": "2023-09-22T14:12:40.134Z"
   },
   {
    "duration": 13,
    "start_time": "2023-09-22T14:12:40.273Z"
   },
   {
    "duration": 6513,
    "start_time": "2023-09-22T14:17:33.343Z"
   },
   {
    "duration": 2441,
    "start_time": "2023-09-22T14:17:39.859Z"
   },
   {
    "duration": 1454,
    "start_time": "2023-09-22T14:17:42.304Z"
   },
   {
    "duration": 24,
    "start_time": "2023-09-22T14:17:43.759Z"
   },
   {
    "duration": 194,
    "start_time": "2023-09-22T14:17:43.785Z"
   },
   {
    "duration": 191,
    "start_time": "2023-09-22T14:17:43.980Z"
   },
   {
    "duration": 112,
    "start_time": "2023-09-22T14:17:44.173Z"
   },
   {
    "duration": 318,
    "start_time": "2023-09-22T14:17:44.287Z"
   },
   {
    "duration": 40,
    "start_time": "2023-09-22T14:17:44.611Z"
   },
   {
    "duration": 140,
    "start_time": "2023-09-22T14:17:44.654Z"
   },
   {
    "duration": 129,
    "start_time": "2023-09-22T14:17:44.796Z"
   },
   {
    "duration": 91,
    "start_time": "2023-09-22T14:17:44.927Z"
   },
   {
    "duration": 469,
    "start_time": "2023-09-22T14:17:45.020Z"
   },
   {
    "duration": 131,
    "start_time": "2023-09-22T14:17:45.491Z"
   },
   {
    "duration": 13,
    "start_time": "2023-09-22T14:17:45.624Z"
   },
   {
    "duration": 711,
    "start_time": "2023-09-22T14:17:45.640Z"
   },
   {
    "duration": 0,
    "start_time": "2023-09-22T14:17:46.353Z"
   },
   {
    "duration": 0,
    "start_time": "2023-09-22T14:17:46.355Z"
   },
   {
    "duration": 0,
    "start_time": "2023-09-22T14:17:46.357Z"
   },
   {
    "duration": 0,
    "start_time": "2023-09-22T14:17:46.359Z"
   },
   {
    "duration": 0,
    "start_time": "2023-09-22T14:17:46.361Z"
   },
   {
    "duration": 0,
    "start_time": "2023-09-22T14:17:46.363Z"
   },
   {
    "duration": 0,
    "start_time": "2023-09-22T14:17:46.365Z"
   },
   {
    "duration": 0,
    "start_time": "2023-09-22T14:17:46.367Z"
   },
   {
    "duration": 0,
    "start_time": "2023-09-22T14:17:46.368Z"
   },
   {
    "duration": 0,
    "start_time": "2023-09-22T14:17:46.370Z"
   },
   {
    "duration": 0,
    "start_time": "2023-09-22T14:17:46.371Z"
   },
   {
    "duration": 0,
    "start_time": "2023-09-22T14:17:46.373Z"
   },
   {
    "duration": 0,
    "start_time": "2023-09-22T14:17:46.375Z"
   },
   {
    "duration": 0,
    "start_time": "2023-09-22T14:17:46.377Z"
   },
   {
    "duration": 0,
    "start_time": "2023-09-22T14:17:46.411Z"
   },
   {
    "duration": 0,
    "start_time": "2023-09-22T14:17:46.413Z"
   },
   {
    "duration": 92,
    "start_time": "2023-09-22T14:19:18.902Z"
   },
   {
    "duration": 1476,
    "start_time": "2023-09-22T14:19:28.134Z"
   },
   {
    "duration": 10718,
    "start_time": "2023-09-22T16:58:25.430Z"
   },
   {
    "duration": 1682,
    "start_time": "2023-09-22T16:58:36.151Z"
   },
   {
    "duration": 1479,
    "start_time": "2023-09-22T16:58:37.835Z"
   },
   {
    "duration": 25,
    "start_time": "2023-09-22T16:58:39.317Z"
   },
   {
    "duration": 198,
    "start_time": "2023-09-22T16:58:39.344Z"
   },
   {
    "duration": 185,
    "start_time": "2023-09-22T16:58:39.544Z"
   },
   {
    "duration": 124,
    "start_time": "2023-09-22T16:58:39.730Z"
   },
   {
    "duration": 223,
    "start_time": "2023-09-22T16:58:50.935Z"
   },
   {
    "duration": 152,
    "start_time": "2023-09-22T16:58:58.715Z"
   },
   {
    "duration": 151,
    "start_time": "2023-09-22T16:59:06.342Z"
   },
   {
    "duration": 145,
    "start_time": "2023-09-22T16:59:12.025Z"
   },
   {
    "duration": 95,
    "start_time": "2023-09-22T16:59:26.640Z"
   },
   {
    "duration": 161,
    "start_time": "2023-09-22T16:59:30.057Z"
   },
   {
    "duration": 116,
    "start_time": "2023-09-22T17:00:25.239Z"
   },
   {
    "duration": 152,
    "start_time": "2023-09-22T17:00:33.390Z"
   },
   {
    "duration": 147,
    "start_time": "2023-09-22T17:01:01.824Z"
   },
   {
    "duration": 26,
    "start_time": "2023-09-22T17:01:08.195Z"
   },
   {
    "duration": 117,
    "start_time": "2023-09-22T17:01:42.465Z"
   },
   {
    "duration": 20,
    "start_time": "2023-09-22T17:01:53.392Z"
   },
   {
    "duration": 158,
    "start_time": "2023-09-22T17:02:08.167Z"
   },
   {
    "duration": 23,
    "start_time": "2023-09-22T17:08:19.894Z"
   },
   {
    "duration": 205,
    "start_time": "2023-09-22T17:08:33.187Z"
   },
   {
    "duration": 231,
    "start_time": "2023-09-22T17:09:07.901Z"
   },
   {
    "duration": 211,
    "start_time": "2023-09-22T17:09:16.915Z"
   },
   {
    "duration": 102,
    "start_time": "2023-09-22T17:09:18.451Z"
   },
   {
    "duration": 199,
    "start_time": "2023-09-22T17:09:30.735Z"
   },
   {
    "duration": 99,
    "start_time": "2023-09-22T17:09:31.385Z"
   },
   {
    "duration": 85,
    "start_time": "2023-09-22T17:09:37.525Z"
   },
   {
    "duration": 5510,
    "start_time": "2023-09-22T17:10:26.977Z"
   },
   {
    "duration": 1484,
    "start_time": "2023-09-22T17:10:32.490Z"
   },
   {
    "duration": 1160,
    "start_time": "2023-09-22T17:10:33.976Z"
   },
   {
    "duration": 22,
    "start_time": "2023-09-22T17:10:35.139Z"
   },
   {
    "duration": 308,
    "start_time": "2023-09-22T17:10:35.163Z"
   },
   {
    "duration": 218,
    "start_time": "2023-09-22T17:10:35.473Z"
   },
   {
    "duration": 168,
    "start_time": "2023-09-22T17:10:35.694Z"
   },
   {
    "duration": 254,
    "start_time": "2023-09-22T17:10:35.864Z"
   },
   {
    "duration": 220,
    "start_time": "2023-09-22T17:10:36.128Z"
   },
   {
    "duration": 209,
    "start_time": "2023-09-22T17:10:36.351Z"
   },
   {
    "duration": 105,
    "start_time": "2023-09-22T17:10:36.562Z"
   },
   {
    "duration": 165,
    "start_time": "2023-09-22T17:10:36.668Z"
   },
   {
    "duration": 71,
    "start_time": "2023-09-22T17:10:37.800Z"
   },
   {
    "duration": 460,
    "start_time": "2023-09-22T17:10:38.826Z"
   },
   {
    "duration": 5,
    "start_time": "2023-09-22T17:11:25.473Z"
   },
   {
    "duration": 55,
    "start_time": "2023-09-22T17:11:43.328Z"
   },
   {
    "duration": 36,
    "start_time": "2023-09-22T17:12:29.320Z"
   },
   {
    "duration": 34,
    "start_time": "2023-09-22T17:12:29.761Z"
   },
   {
    "duration": 15,
    "start_time": "2023-09-22T17:12:30.197Z"
   },
   {
    "duration": 9,
    "start_time": "2023-09-22T17:12:30.673Z"
   },
   {
    "duration": 34,
    "start_time": "2023-09-22T17:12:31.155Z"
   },
   {
    "duration": 61,
    "start_time": "2023-09-22T17:12:31.721Z"
   },
   {
    "duration": 64,
    "start_time": "2023-09-22T17:12:32.259Z"
   },
   {
    "duration": 10,
    "start_time": "2023-09-22T17:25:20.194Z"
   },
   {
    "duration": 164,
    "start_time": "2023-09-22T17:26:57.095Z"
   },
   {
    "duration": 4,
    "start_time": "2023-09-22T17:27:16.154Z"
   },
   {
    "duration": 1028,
    "start_time": "2023-09-22T17:27:16.975Z"
   },
   {
    "duration": 22,
    "start_time": "2023-09-22T17:27:18.006Z"
   },
   {
    "duration": 183,
    "start_time": "2023-09-22T17:27:18.031Z"
   },
   {
    "duration": 220,
    "start_time": "2023-09-22T17:27:18.216Z"
   },
   {
    "duration": 120,
    "start_time": "2023-09-22T17:27:18.805Z"
   },
   {
    "duration": 216,
    "start_time": "2023-09-22T17:27:20.124Z"
   },
   {
    "duration": 170,
    "start_time": "2023-09-22T17:27:23.356Z"
   },
   {
    "duration": 252,
    "start_time": "2023-09-22T17:27:23.785Z"
   },
   {
    "duration": 101,
    "start_time": "2023-09-22T17:27:29.290Z"
   },
   {
    "duration": 128,
    "start_time": "2023-09-22T17:27:51.590Z"
   },
   {
    "duration": 60,
    "start_time": "2023-09-22T17:27:52.795Z"
   },
   {
    "duration": 389,
    "start_time": "2023-09-22T17:28:13.265Z"
   },
   {
    "duration": 4,
    "start_time": "2023-09-22T17:28:19.645Z"
   },
   {
    "duration": 41,
    "start_time": "2023-09-22T17:28:22.952Z"
   },
   {
    "duration": 43,
    "start_time": "2023-09-22T17:28:27.028Z"
   },
   {
    "duration": 50,
    "start_time": "2023-09-22T17:28:39.950Z"
   },
   {
    "duration": 42,
    "start_time": "2023-09-22T17:29:01.485Z"
   },
   {
    "duration": 43,
    "start_time": "2023-09-22T17:29:02.197Z"
   },
   {
    "duration": 20,
    "start_time": "2023-09-22T17:32:01.629Z"
   },
   {
    "duration": 401,
    "start_time": "2023-09-22T17:32:13.744Z"
   },
   {
    "duration": 45,
    "start_time": "2023-09-22T17:32:17.259Z"
   },
   {
    "duration": 12,
    "start_time": "2023-09-22T17:33:24.602Z"
   },
   {
    "duration": 1414,
    "start_time": "2023-09-22T17:33:25.137Z"
   },
   {
    "duration": 56,
    "start_time": "2023-09-22T17:33:26.555Z"
   },
   {
    "duration": 329,
    "start_time": "2023-09-22T17:33:26.623Z"
   },
   {
    "duration": 269,
    "start_time": "2023-09-22T17:33:26.954Z"
   },
   {
    "duration": 133,
    "start_time": "2023-09-22T17:33:27.464Z"
   },
   {
    "duration": 887,
    "start_time": "2023-09-22T17:33:29.195Z"
   },
   {
    "duration": 222,
    "start_time": "2023-09-22T17:33:31.863Z"
   },
   {
    "duration": 273,
    "start_time": "2023-09-22T17:33:32.274Z"
   },
   {
    "duration": 152,
    "start_time": "2023-09-22T17:33:33.782Z"
   },
   {
    "duration": 156,
    "start_time": "2023-09-22T17:33:35.116Z"
   },
   {
    "duration": 67,
    "start_time": "2023-09-22T17:33:35.930Z"
   },
   {
    "duration": 482,
    "start_time": "2023-09-22T17:33:36.998Z"
   },
   {
    "duration": 56,
    "start_time": "2023-09-22T17:34:14.622Z"
   },
   {
    "duration": 6979,
    "start_time": "2023-09-22T17:34:33.829Z"
   },
   {
    "duration": 1916,
    "start_time": "2023-09-22T17:34:40.817Z"
   },
   {
    "duration": 1361,
    "start_time": "2023-09-22T17:34:42.738Z"
   },
   {
    "duration": 57,
    "start_time": "2023-09-22T17:34:44.101Z"
   },
   {
    "duration": 304,
    "start_time": "2023-09-22T17:34:44.163Z"
   },
   {
    "duration": 376,
    "start_time": "2023-09-22T17:34:44.473Z"
   },
   {
    "duration": 167,
    "start_time": "2023-09-22T17:34:44.851Z"
   },
   {
    "duration": 974,
    "start_time": "2023-09-22T17:34:45.021Z"
   },
   {
    "duration": 224,
    "start_time": "2023-09-22T17:34:45.997Z"
   },
   {
    "duration": 254,
    "start_time": "2023-09-22T17:34:46.226Z"
   },
   {
    "duration": 169,
    "start_time": "2023-09-22T17:34:46.493Z"
   },
   {
    "duration": 157,
    "start_time": "2023-09-22T17:34:46.664Z"
   },
   {
    "duration": 136,
    "start_time": "2023-09-22T17:34:46.825Z"
   },
   {
    "duration": 573,
    "start_time": "2023-09-22T17:34:46.968Z"
   },
   {
    "duration": 134,
    "start_time": "2023-09-22T17:34:47.547Z"
   },
   {
    "duration": 32,
    "start_time": "2023-09-22T17:34:47.684Z"
   },
   {
    "duration": 10720,
    "start_time": "2023-09-22T17:34:47.721Z"
   },
   {
    "duration": 0,
    "start_time": "2023-09-22T17:34:58.444Z"
   },
   {
    "duration": 0,
    "start_time": "2023-09-22T17:34:58.445Z"
   },
   {
    "duration": 0,
    "start_time": "2023-09-22T17:34:58.446Z"
   },
   {
    "duration": 0,
    "start_time": "2023-09-22T17:34:58.447Z"
   },
   {
    "duration": 0,
    "start_time": "2023-09-22T17:34:58.448Z"
   },
   {
    "duration": 0,
    "start_time": "2023-09-22T17:34:58.449Z"
   },
   {
    "duration": 0,
    "start_time": "2023-09-22T17:34:58.451Z"
   },
   {
    "duration": 0,
    "start_time": "2023-09-22T17:34:58.452Z"
   },
   {
    "duration": 0,
    "start_time": "2023-09-22T17:34:58.453Z"
   },
   {
    "duration": 0,
    "start_time": "2023-09-22T17:34:58.454Z"
   },
   {
    "duration": 0,
    "start_time": "2023-09-22T17:34:58.455Z"
   },
   {
    "duration": 0,
    "start_time": "2023-09-22T17:34:58.456Z"
   },
   {
    "duration": 0,
    "start_time": "2023-09-22T17:34:58.466Z"
   },
   {
    "duration": 0,
    "start_time": "2023-09-22T17:34:58.467Z"
   },
   {
    "duration": 0,
    "start_time": "2023-09-22T17:34:58.468Z"
   },
   {
    "duration": 0,
    "start_time": "2023-09-22T17:34:58.470Z"
   },
   {
    "duration": 23,
    "start_time": "2023-09-22T17:35:23.784Z"
   },
   {
    "duration": 205,
    "start_time": "2023-09-22T17:35:27.893Z"
   },
   {
    "duration": 258,
    "start_time": "2023-09-22T17:35:30.621Z"
   },
   {
    "duration": 106,
    "start_time": "2023-09-22T17:35:31.288Z"
   },
   {
    "duration": 129,
    "start_time": "2023-09-22T17:35:36.544Z"
   },
   {
    "duration": 51,
    "start_time": "2023-09-22T17:35:37.148Z"
   },
   {
    "duration": 471,
    "start_time": "2023-09-22T17:35:41.728Z"
   },
   {
    "duration": 7,
    "start_time": "2023-09-22T17:35:49.529Z"
   },
   {
    "duration": 1181,
    "start_time": "2023-09-22T17:35:50.333Z"
   },
   {
    "duration": 31,
    "start_time": "2023-09-22T17:35:51.517Z"
   },
   {
    "duration": 227,
    "start_time": "2023-09-22T17:35:51.561Z"
   },
   {
    "duration": 235,
    "start_time": "2023-09-22T17:35:51.802Z"
   },
   {
    "duration": 133,
    "start_time": "2023-09-22T17:35:52.040Z"
   },
   {
    "duration": 560,
    "start_time": "2023-09-22T17:35:52.944Z"
   },
   {
    "duration": 39,
    "start_time": "2023-09-22T17:35:53.512Z"
   },
   {
    "duration": 224,
    "start_time": "2023-09-22T17:35:55.346Z"
   },
   {
    "duration": 261,
    "start_time": "2023-09-22T17:35:56.238Z"
   },
   {
    "duration": 128,
    "start_time": "2023-09-22T17:35:56.783Z"
   },
   {
    "duration": 132,
    "start_time": "2023-09-22T17:35:58.346Z"
   },
   {
    "duration": 42,
    "start_time": "2023-09-22T17:36:00.153Z"
   },
   {
    "duration": 408,
    "start_time": "2023-09-22T17:36:03.864Z"
   },
   {
    "duration": 104,
    "start_time": "2023-09-22T17:44:48.745Z"
   },
   {
    "duration": 5707,
    "start_time": "2023-09-22T17:47:26.530Z"
   },
   {
    "duration": 5,
    "start_time": "2023-09-22T17:47:32.241Z"
   },
   {
    "duration": 1201,
    "start_time": "2023-09-22T17:47:32.248Z"
   },
   {
    "duration": 18,
    "start_time": "2023-09-22T17:47:33.452Z"
   },
   {
    "duration": 212,
    "start_time": "2023-09-22T17:47:33.472Z"
   },
   {
    "duration": 200,
    "start_time": "2023-09-22T17:47:33.686Z"
   },
   {
    "duration": 127,
    "start_time": "2023-09-22T17:47:33.888Z"
   },
   {
    "duration": 493,
    "start_time": "2023-09-22T17:47:34.029Z"
   },
   {
    "duration": 26,
    "start_time": "2023-09-22T17:47:34.525Z"
   },
   {
    "duration": 171,
    "start_time": "2023-09-22T17:47:37.626Z"
   },
   {
    "duration": 264,
    "start_time": "2023-09-22T17:47:38.440Z"
   },
   {
    "duration": 115,
    "start_time": "2023-09-22T17:47:39.146Z"
   },
   {
    "duration": 100,
    "start_time": "2023-09-22T17:47:40.578Z"
   },
   {
    "duration": 52,
    "start_time": "2023-09-22T17:47:41.299Z"
   },
   {
    "duration": 394,
    "start_time": "2023-09-22T17:47:43.728Z"
   },
   {
    "duration": 106,
    "start_time": "2023-09-22T17:47:51.243Z"
   },
   {
    "duration": 78,
    "start_time": "2023-09-22T17:51:30.874Z"
   },
   {
    "duration": 6181,
    "start_time": "2023-09-22T17:51:49.837Z"
   },
   {
    "duration": 2409,
    "start_time": "2023-09-22T17:51:56.021Z"
   },
   {
    "duration": 1907,
    "start_time": "2023-09-22T17:51:58.432Z"
   },
   {
    "duration": 34,
    "start_time": "2023-09-22T17:52:00.341Z"
   },
   {
    "duration": 362,
    "start_time": "2023-09-22T17:52:00.378Z"
   },
   {
    "duration": 249,
    "start_time": "2023-09-22T17:52:00.742Z"
   },
   {
    "duration": 326,
    "start_time": "2023-09-22T17:52:00.993Z"
   },
   {
    "duration": 620,
    "start_time": "2023-09-22T17:52:01.322Z"
   },
   {
    "duration": 21,
    "start_time": "2023-09-22T17:52:01.944Z"
   },
   {
    "duration": 248,
    "start_time": "2023-09-22T17:52:01.967Z"
   },
   {
    "duration": 307,
    "start_time": "2023-09-22T17:52:02.217Z"
   },
   {
    "duration": 145,
    "start_time": "2023-09-22T17:52:02.527Z"
   },
   {
    "duration": 316,
    "start_time": "2023-09-22T17:52:02.674Z"
   },
   {
    "duration": 668,
    "start_time": "2023-09-22T17:52:03.001Z"
   },
   {
    "duration": 481,
    "start_time": "2023-09-22T17:52:03.671Z"
   },
   {
    "duration": 275,
    "start_time": "2023-09-22T17:52:04.154Z"
   },
   {
    "duration": 0,
    "start_time": "2023-09-22T17:52:04.432Z"
   },
   {
    "duration": 0,
    "start_time": "2023-09-22T17:52:04.437Z"
   },
   {
    "duration": 0,
    "start_time": "2023-09-22T17:52:04.439Z"
   },
   {
    "duration": 0,
    "start_time": "2023-09-22T17:52:04.441Z"
   },
   {
    "duration": 0,
    "start_time": "2023-09-22T17:52:04.442Z"
   },
   {
    "duration": 0,
    "start_time": "2023-09-22T17:52:04.443Z"
   },
   {
    "duration": 0,
    "start_time": "2023-09-22T17:52:04.445Z"
   },
   {
    "duration": 0,
    "start_time": "2023-09-22T17:52:04.447Z"
   },
   {
    "duration": 0,
    "start_time": "2023-09-22T17:52:04.448Z"
   },
   {
    "duration": 0,
    "start_time": "2023-09-22T17:52:04.449Z"
   },
   {
    "duration": 0,
    "start_time": "2023-09-22T17:52:04.450Z"
   },
   {
    "duration": 0,
    "start_time": "2023-09-22T17:52:04.451Z"
   },
   {
    "duration": 0,
    "start_time": "2023-09-22T17:52:04.452Z"
   },
   {
    "duration": 0,
    "start_time": "2023-09-22T17:52:04.453Z"
   },
   {
    "duration": 0,
    "start_time": "2023-09-22T17:52:04.455Z"
   },
   {
    "duration": 0,
    "start_time": "2023-09-22T17:52:04.456Z"
   },
   {
    "duration": 0,
    "start_time": "2023-09-22T17:52:04.457Z"
   },
   {
    "duration": 115,
    "start_time": "2023-09-22T17:52:15.126Z"
   },
   {
    "duration": 986,
    "start_time": "2023-09-22T17:52:15.745Z"
   },
   {
    "duration": 152,
    "start_time": "2023-09-22T17:52:43.249Z"
   },
   {
    "duration": 6354,
    "start_time": "2023-09-22T17:52:44.126Z"
   },
   {
    "duration": 5662,
    "start_time": "2023-09-22T17:53:28.029Z"
   },
   {
    "duration": 2652,
    "start_time": "2023-09-22T17:53:33.694Z"
   },
   {
    "duration": 1509,
    "start_time": "2023-09-22T17:53:36.348Z"
   },
   {
    "duration": 25,
    "start_time": "2023-09-22T17:53:37.860Z"
   },
   {
    "duration": 189,
    "start_time": "2023-09-22T17:53:37.887Z"
   },
   {
    "duration": 243,
    "start_time": "2023-09-22T17:53:38.078Z"
   },
   {
    "duration": 180,
    "start_time": "2023-09-22T17:53:38.323Z"
   },
   {
    "duration": 539,
    "start_time": "2023-09-22T17:53:38.505Z"
   },
   {
    "duration": 20,
    "start_time": "2023-09-22T17:53:39.046Z"
   },
   {
    "duration": 209,
    "start_time": "2023-09-22T17:53:39.069Z"
   },
   {
    "duration": 287,
    "start_time": "2023-09-22T17:53:39.280Z"
   },
   {
    "duration": 105,
    "start_time": "2023-09-22T17:53:39.568Z"
   },
   {
    "duration": 140,
    "start_time": "2023-09-22T17:53:39.675Z"
   },
   {
    "duration": 56,
    "start_time": "2023-09-22T17:53:39.817Z"
   },
   {
    "duration": 400,
    "start_time": "2023-09-22T17:53:39.876Z"
   },
   {
    "duration": 145,
    "start_time": "2023-09-22T17:53:40.278Z"
   },
   {
    "duration": 70609,
    "start_time": "2023-09-22T17:53:40.425Z"
   },
   {
    "duration": 9305,
    "start_time": "2023-09-22T17:54:51.038Z"
   },
   {
    "duration": 153,
    "start_time": "2023-09-22T17:55:00.346Z"
   },
   {
    "duration": 0,
    "start_time": "2023-09-22T17:55:00.503Z"
   },
   {
    "duration": 0,
    "start_time": "2023-09-22T17:55:00.505Z"
   },
   {
    "duration": 0,
    "start_time": "2023-09-22T17:55:00.507Z"
   },
   {
    "duration": 0,
    "start_time": "2023-09-22T17:55:00.508Z"
   },
   {
    "duration": 0,
    "start_time": "2023-09-22T17:55:00.511Z"
   },
   {
    "duration": 0,
    "start_time": "2023-09-22T17:55:00.512Z"
   },
   {
    "duration": 0,
    "start_time": "2023-09-22T17:55:00.514Z"
   },
   {
    "duration": 0,
    "start_time": "2023-09-22T17:55:00.516Z"
   },
   {
    "duration": 0,
    "start_time": "2023-09-22T17:55:00.522Z"
   },
   {
    "duration": 0,
    "start_time": "2023-09-22T17:55:00.524Z"
   },
   {
    "duration": 0,
    "start_time": "2023-09-22T17:55:00.525Z"
   },
   {
    "duration": 0,
    "start_time": "2023-09-22T17:55:00.527Z"
   },
   {
    "duration": 0,
    "start_time": "2023-09-22T17:55:00.529Z"
   },
   {
    "duration": 0,
    "start_time": "2023-09-22T17:55:00.530Z"
   },
   {
    "duration": 29,
    "start_time": "2023-09-22T17:56:50.234Z"
   },
   {
    "duration": 5,
    "start_time": "2023-09-22T17:59:14.086Z"
   },
   {
    "duration": 599,
    "start_time": "2023-09-22T18:01:36.190Z"
   },
   {
    "duration": 18,
    "start_time": "2023-09-22T18:03:58.886Z"
   },
   {
    "duration": 19,
    "start_time": "2023-09-22T18:05:25.002Z"
   },
   {
    "duration": 265,
    "start_time": "2023-09-22T18:05:35.683Z"
   },
   {
    "duration": 284,
    "start_time": "2023-09-22T18:06:20.303Z"
   },
   {
    "duration": 460,
    "start_time": "2023-09-22T18:07:08.384Z"
   },
   {
    "duration": 7866,
    "start_time": "2023-09-22T18:07:13.278Z"
   },
   {
    "duration": 466,
    "start_time": "2023-09-22T18:08:25.735Z"
   },
   {
    "duration": 314,
    "start_time": "2023-09-22T18:08:55.789Z"
   },
   {
    "duration": 555,
    "start_time": "2023-09-22T18:09:15.636Z"
   },
   {
    "duration": 175,
    "start_time": "2023-09-22T18:10:20.277Z"
   },
   {
    "duration": 1174,
    "start_time": "2023-09-22T18:10:29.570Z"
   },
   {
    "duration": 10,
    "start_time": "2023-09-22T18:10:43.619Z"
   },
   {
    "duration": 1026,
    "start_time": "2023-09-22T18:11:10.652Z"
   },
   {
    "duration": 5646,
    "start_time": "2023-09-22T19:18:36.726Z"
   },
   {
    "duration": 1530,
    "start_time": "2023-09-22T19:18:42.375Z"
   },
   {
    "duration": 1203,
    "start_time": "2023-09-22T19:18:43.909Z"
   },
   {
    "duration": 36,
    "start_time": "2023-09-22T19:18:45.117Z"
   },
   {
    "duration": 215,
    "start_time": "2023-09-22T19:18:45.156Z"
   },
   {
    "duration": 251,
    "start_time": "2023-09-22T19:18:45.373Z"
   },
   {
    "duration": 176,
    "start_time": "2023-09-22T19:18:45.627Z"
   },
   {
    "duration": 518,
    "start_time": "2023-09-22T19:18:45.805Z"
   },
   {
    "duration": 23,
    "start_time": "2023-09-22T19:18:46.327Z"
   },
   {
    "duration": 187,
    "start_time": "2023-09-22T19:18:46.352Z"
   },
   {
    "duration": 253,
    "start_time": "2023-09-22T19:18:46.540Z"
   },
   {
    "duration": 123,
    "start_time": "2023-09-22T19:18:46.795Z"
   },
   {
    "duration": 87,
    "start_time": "2023-09-22T19:18:46.926Z"
   },
   {
    "duration": 51,
    "start_time": "2023-09-22T19:18:47.018Z"
   },
   {
    "duration": 405,
    "start_time": "2023-09-22T19:18:47.071Z"
   },
   {
    "duration": 172,
    "start_time": "2023-09-22T19:18:47.478Z"
   },
   {
    "duration": 81351,
    "start_time": "2023-09-22T19:18:47.652Z"
   },
   {
    "duration": 9343,
    "start_time": "2023-09-22T19:20:09.007Z"
   },
   {
    "duration": 657,
    "start_time": "2023-09-22T19:20:18.352Z"
   },
   {
    "duration": 528,
    "start_time": "2023-09-22T19:20:19.012Z"
   },
   {
    "duration": 1450,
    "start_time": "2023-09-22T19:20:19.542Z"
   },
   {
    "duration": 1060,
    "start_time": "2023-09-22T19:20:20.994Z"
   },
   {
    "duration": 3,
    "start_time": "2023-09-22T19:20:22.057Z"
   },
   {
    "duration": 125855,
    "start_time": "2023-09-22T19:20:22.062Z"
   },
   {
    "duration": 887,
    "start_time": "2023-09-22T19:22:27.919Z"
   },
   {
    "duration": 39254,
    "start_time": "2023-09-22T19:22:28.808Z"
   },
   {
    "duration": 106,
    "start_time": "2023-09-22T19:23:08.064Z"
   },
   {
    "duration": 305,
    "start_time": "2023-09-22T19:23:08.201Z"
   },
   {
    "duration": 121,
    "start_time": "2023-09-22T19:23:08.508Z"
   },
   {
    "duration": 45462,
    "start_time": "2023-09-22T19:23:08.637Z"
   },
   {
    "duration": 19,
    "start_time": "2023-09-22T19:23:54.101Z"
   },
   {
    "duration": 0,
    "start_time": "2023-09-22T19:23:54.122Z"
   },
   {
    "duration": 0,
    "start_time": "2023-09-22T19:23:54.128Z"
   },
   {
    "duration": 0,
    "start_time": "2023-09-22T19:23:54.134Z"
   },
   {
    "duration": 0,
    "start_time": "2023-09-22T19:23:54.136Z"
   },
   {
    "duration": 0,
    "start_time": "2023-09-22T19:23:54.138Z"
   },
   {
    "duration": 0,
    "start_time": "2023-09-22T19:23:54.139Z"
   },
   {
    "duration": 0,
    "start_time": "2023-09-22T19:23:54.141Z"
   },
   {
    "duration": 0,
    "start_time": "2023-09-22T19:23:54.142Z"
   },
   {
    "duration": 0,
    "start_time": "2023-09-22T19:23:54.144Z"
   },
   {
    "duration": 782,
    "start_time": "2023-09-22T19:26:54.047Z"
   },
   {
    "duration": 40560,
    "start_time": "2023-09-22T19:26:54.905Z"
   },
   {
    "duration": 257,
    "start_time": "2023-09-22T19:27:35.467Z"
   },
   {
    "duration": 93,
    "start_time": "2023-09-22T19:27:35.726Z"
   },
   {
    "duration": 22,
    "start_time": "2023-09-22T19:27:35.821Z"
   },
   {
    "duration": 191,
    "start_time": "2023-09-22T19:27:54.582Z"
   },
   {
    "duration": 148,
    "start_time": "2023-09-22T19:28:28.186Z"
   },
   {
    "duration": 73,
    "start_time": "2023-09-22T19:28:43.067Z"
   },
   {
    "duration": 13,
    "start_time": "2023-09-22T19:28:43.346Z"
   },
   {
    "duration": 30,
    "start_time": "2023-09-22T19:31:31.202Z"
   },
   {
    "duration": 38967,
    "start_time": "2023-09-22T19:32:21.933Z"
   },
   {
    "duration": 109,
    "start_time": "2023-09-22T19:33:00.903Z"
   },
   {
    "duration": 4,
    "start_time": "2023-09-22T19:33:07.626Z"
   },
   {
    "duration": 11,
    "start_time": "2023-09-22T19:33:23.196Z"
   },
   {
    "duration": 5196,
    "start_time": "2023-09-22T19:34:16.987Z"
   },
   {
    "duration": 1485,
    "start_time": "2023-09-22T19:34:22.185Z"
   },
   {
    "duration": 1097,
    "start_time": "2023-09-22T19:34:23.671Z"
   },
   {
    "duration": 45,
    "start_time": "2023-09-22T19:34:24.770Z"
   },
   {
    "duration": 211,
    "start_time": "2023-09-22T19:34:24.817Z"
   },
   {
    "duration": 160,
    "start_time": "2023-09-22T19:34:25.034Z"
   },
   {
    "duration": 169,
    "start_time": "2023-09-22T19:34:25.196Z"
   },
   {
    "duration": 501,
    "start_time": "2023-09-22T19:34:25.367Z"
   },
   {
    "duration": 19,
    "start_time": "2023-09-22T19:34:25.870Z"
   },
   {
    "duration": 211,
    "start_time": "2023-09-22T19:34:25.893Z"
   },
   {
    "duration": 224,
    "start_time": "2023-09-22T19:34:26.112Z"
   },
   {
    "duration": 107,
    "start_time": "2023-09-22T19:34:26.338Z"
   },
   {
    "duration": 280,
    "start_time": "2023-09-22T19:34:26.447Z"
   },
   {
    "duration": 43,
    "start_time": "2023-09-22T19:34:26.730Z"
   },
   {
    "duration": 406,
    "start_time": "2023-09-22T19:34:26.774Z"
   },
   {
    "duration": 146,
    "start_time": "2023-09-22T19:34:27.182Z"
   },
   {
    "duration": 79164,
    "start_time": "2023-09-22T19:34:27.334Z"
   },
   {
    "duration": 8914,
    "start_time": "2023-09-22T19:35:46.507Z"
   },
   {
    "duration": 5,
    "start_time": "2023-09-22T19:35:55.422Z"
   },
   {
    "duration": 606,
    "start_time": "2023-09-22T19:35:55.429Z"
   },
   {
    "duration": 481,
    "start_time": "2023-09-22T19:35:56.038Z"
   },
   {
    "duration": 1306,
    "start_time": "2023-09-22T19:35:56.522Z"
   },
   {
    "duration": 1021,
    "start_time": "2023-09-22T19:35:57.830Z"
   },
   {
    "duration": 4,
    "start_time": "2023-09-22T19:35:58.852Z"
   },
   {
    "duration": 141665,
    "start_time": "2023-09-22T19:35:58.858Z"
   },
   {
    "duration": 792,
    "start_time": "2023-09-22T19:38:20.525Z"
   },
   {
    "duration": 49392,
    "start_time": "2023-09-22T19:38:21.319Z"
   },
   {
    "duration": 100,
    "start_time": "2023-09-22T19:39:10.720Z"
   },
   {
    "duration": 178,
    "start_time": "2023-09-22T19:39:10.827Z"
   },
   {
    "duration": 100,
    "start_time": "2023-09-22T19:39:11.008Z"
   },
   {
    "duration": 43390,
    "start_time": "2023-09-22T19:39:11.204Z"
   },
   {
    "duration": 3764,
    "start_time": "2023-09-22T19:39:54.596Z"
   },
   {
    "duration": 1304,
    "start_time": "2023-09-22T19:39:58.362Z"
   },
   {
    "duration": 42,
    "start_time": "2023-09-22T19:39:59.668Z"
   },
   {
    "duration": 42252,
    "start_time": "2023-09-22T19:39:59.718Z"
   },
   {
    "duration": 2889,
    "start_time": "2023-09-22T19:40:41.972Z"
   },
   {
    "duration": 100,
    "start_time": "2023-09-22T19:40:44.863Z"
   },
   {
    "duration": 161370,
    "start_time": "2023-09-22T19:40:44.965Z"
   },
   {
    "duration": 49568,
    "start_time": "2023-09-22T19:43:26.337Z"
   },
   {
    "duration": 113,
    "start_time": "2023-09-22T19:44:15.907Z"
   },
   {
    "duration": 2697,
    "start_time": "2023-09-22T19:44:16.028Z"
   },
   {
    "duration": 3943,
    "start_time": "2023-09-22T19:44:18.727Z"
   },
   {
    "duration": 148,
    "start_time": "2023-09-22T19:44:22.672Z"
   },
   {
    "duration": 2208,
    "start_time": "2023-09-22T19:44:45.118Z"
   },
   {
    "duration": 2147,
    "start_time": "2023-09-22T19:44:51.935Z"
   },
   {
    "duration": 29,
    "start_time": "2023-09-22T19:45:44.421Z"
   },
   {
    "duration": 26,
    "start_time": "2023-09-22T19:46:51.050Z"
   },
   {
    "duration": 1861,
    "start_time": "2023-09-22T19:46:56.117Z"
   },
   {
    "duration": 4969,
    "start_time": "2023-09-22T19:49:04.374Z"
   },
   {
    "duration": 1349,
    "start_time": "2023-09-22T19:49:09.346Z"
   },
   {
    "duration": 1009,
    "start_time": "2023-09-22T19:49:10.696Z"
   },
   {
    "duration": 24,
    "start_time": "2023-09-22T19:49:11.707Z"
   },
   {
    "duration": 189,
    "start_time": "2023-09-22T19:49:11.733Z"
   },
   {
    "duration": 168,
    "start_time": "2023-09-22T19:49:11.924Z"
   },
   {
    "duration": 112,
    "start_time": "2023-09-22T19:49:12.103Z"
   },
   {
    "duration": 458,
    "start_time": "2023-09-22T19:49:12.218Z"
   },
   {
    "duration": 31,
    "start_time": "2023-09-22T19:49:12.678Z"
   },
   {
    "duration": 156,
    "start_time": "2023-09-22T19:49:12.712Z"
   },
   {
    "duration": 219,
    "start_time": "2023-09-22T19:49:12.870Z"
   },
   {
    "duration": 93,
    "start_time": "2023-09-22T19:49:13.090Z"
   },
   {
    "duration": 107,
    "start_time": "2023-09-22T19:49:13.185Z"
   },
   {
    "duration": 70,
    "start_time": "2023-09-22T19:49:13.293Z"
   },
   {
    "duration": 385,
    "start_time": "2023-09-22T19:49:13.365Z"
   },
   {
    "duration": 132,
    "start_time": "2023-09-22T19:49:13.752Z"
   },
   {
    "duration": 73598,
    "start_time": "2023-09-22T19:49:13.886Z"
   },
   {
    "duration": 8440,
    "start_time": "2023-09-22T19:50:27.486Z"
   },
   {
    "duration": 4,
    "start_time": "2023-09-22T19:50:35.928Z"
   },
   {
    "duration": 630,
    "start_time": "2023-09-22T19:50:35.934Z"
   },
   {
    "duration": 525,
    "start_time": "2023-09-22T19:50:36.566Z"
   },
   {
    "duration": 1411,
    "start_time": "2023-09-22T19:50:37.093Z"
   },
   {
    "duration": 1031,
    "start_time": "2023-09-22T19:50:38.506Z"
   },
   {
    "duration": 4,
    "start_time": "2023-09-22T19:50:39.539Z"
   },
   {
    "duration": 153971,
    "start_time": "2023-09-22T19:50:39.544Z"
   },
   {
    "duration": 897,
    "start_time": "2023-09-22T19:53:13.519Z"
   },
   {
    "duration": 57603,
    "start_time": "2023-09-22T19:53:14.420Z"
   },
   {
    "duration": 93,
    "start_time": "2023-09-22T19:54:12.031Z"
   },
   {
    "duration": 234,
    "start_time": "2023-09-22T19:54:12.126Z"
   },
   {
    "duration": 55,
    "start_time": "2023-09-22T19:54:12.362Z"
   },
   {
    "duration": 43853,
    "start_time": "2023-09-22T19:54:12.420Z"
   },
   {
    "duration": 3516,
    "start_time": "2023-09-22T19:54:56.275Z"
   },
   {
    "duration": 1263,
    "start_time": "2023-09-22T19:54:59.792Z"
   },
   {
    "duration": 52,
    "start_time": "2023-09-22T19:55:01.057Z"
   },
   {
    "duration": 3734,
    "start_time": "2023-09-22T19:55:01.114Z"
   },
   {
    "duration": 3915,
    "start_time": "2023-09-22T19:55:04.851Z"
   },
   {
    "duration": 129,
    "start_time": "2023-09-22T19:55:08.768Z"
   },
   {
    "duration": 420065,
    "start_time": "2023-09-22T19:55:08.899Z"
   },
   {
    "duration": 31459,
    "start_time": "2023-09-22T20:02:08.966Z"
   },
   {
    "duration": 110,
    "start_time": "2023-09-22T20:02:40.427Z"
   },
   {
    "duration": 3285,
    "start_time": "2023-09-22T20:03:36.935Z"
   },
   {
    "duration": 22379,
    "start_time": "2023-09-22T20:04:26.461Z"
   },
   {
    "duration": 209,
    "start_time": "2023-09-22T20:05:27.285Z"
   },
   {
    "duration": 126815,
    "start_time": "2023-09-22T20:05:46.218Z"
   },
   {
    "duration": 262,
    "start_time": "2023-09-22T20:07:53.035Z"
   },
   {
    "duration": 14245,
    "start_time": "2023-09-22T20:07:53.299Z"
   },
   {
    "duration": 45,
    "start_time": "2023-09-22T20:08:07.546Z"
   },
   {
    "duration": 651037,
    "start_time": "2023-09-22T20:09:38.018Z"
   },
   {
    "duration": 101,
    "start_time": "2023-09-22T20:20:29.058Z"
   },
   {
    "duration": 409,
    "start_time": "2023-09-22T20:23:38.056Z"
   },
   {
    "duration": 378,
    "start_time": "2023-09-22T20:23:50.841Z"
   },
   {
    "duration": 4852,
    "start_time": "2023-09-22T20:24:03.176Z"
   },
   {
    "duration": 1333,
    "start_time": "2023-09-22T20:24:08.032Z"
   },
   {
    "duration": 954,
    "start_time": "2023-09-22T20:24:09.367Z"
   },
   {
    "duration": 24,
    "start_time": "2023-09-22T20:24:10.324Z"
   },
   {
    "duration": 427,
    "start_time": "2023-09-22T20:24:10.350Z"
   },
   {
    "duration": 161,
    "start_time": "2023-09-22T20:24:10.778Z"
   },
   {
    "duration": 169,
    "start_time": "2023-09-22T20:24:10.941Z"
   },
   {
    "duration": 13,
    "start_time": "2023-09-22T20:24:11.118Z"
   },
   {
    "duration": 99,
    "start_time": "2023-09-22T20:24:11.134Z"
   },
   {
    "duration": 0,
    "start_time": "2023-09-22T20:24:11.235Z"
   },
   {
    "duration": 0,
    "start_time": "2023-09-22T20:24:11.237Z"
   },
   {
    "duration": 0,
    "start_time": "2023-09-22T20:24:11.238Z"
   },
   {
    "duration": 0,
    "start_time": "2023-09-22T20:24:11.239Z"
   },
   {
    "duration": 0,
    "start_time": "2023-09-22T20:24:11.240Z"
   },
   {
    "duration": 0,
    "start_time": "2023-09-22T20:24:11.241Z"
   },
   {
    "duration": 0,
    "start_time": "2023-09-22T20:24:11.242Z"
   },
   {
    "duration": 0,
    "start_time": "2023-09-22T20:24:11.244Z"
   },
   {
    "duration": 0,
    "start_time": "2023-09-22T20:24:11.245Z"
   },
   {
    "duration": 0,
    "start_time": "2023-09-22T20:24:11.246Z"
   },
   {
    "duration": 0,
    "start_time": "2023-09-22T20:24:11.247Z"
   },
   {
    "duration": 0,
    "start_time": "2023-09-22T20:24:11.248Z"
   },
   {
    "duration": 0,
    "start_time": "2023-09-22T20:24:11.250Z"
   },
   {
    "duration": 0,
    "start_time": "2023-09-22T20:24:11.252Z"
   },
   {
    "duration": 0,
    "start_time": "2023-09-22T20:24:11.253Z"
   },
   {
    "duration": 0,
    "start_time": "2023-09-22T20:24:11.254Z"
   },
   {
    "duration": 0,
    "start_time": "2023-09-22T20:24:11.255Z"
   },
   {
    "duration": 1,
    "start_time": "2023-09-22T20:24:11.256Z"
   },
   {
    "duration": 0,
    "start_time": "2023-09-22T20:24:11.258Z"
   },
   {
    "duration": 0,
    "start_time": "2023-09-22T20:24:11.259Z"
   },
   {
    "duration": 0,
    "start_time": "2023-09-22T20:24:11.260Z"
   },
   {
    "duration": 0,
    "start_time": "2023-09-22T20:24:11.261Z"
   },
   {
    "duration": 0,
    "start_time": "2023-09-22T20:24:11.262Z"
   },
   {
    "duration": 0,
    "start_time": "2023-09-22T20:24:11.263Z"
   },
   {
    "duration": 0,
    "start_time": "2023-09-22T20:24:11.264Z"
   },
   {
    "duration": 0,
    "start_time": "2023-09-22T20:24:11.265Z"
   },
   {
    "duration": 0,
    "start_time": "2023-09-22T20:24:11.266Z"
   },
   {
    "duration": 0,
    "start_time": "2023-09-22T20:24:11.267Z"
   },
   {
    "duration": 0,
    "start_time": "2023-09-22T20:24:11.268Z"
   },
   {
    "duration": 0,
    "start_time": "2023-09-22T20:24:11.269Z"
   },
   {
    "duration": 0,
    "start_time": "2023-09-22T20:24:11.270Z"
   },
   {
    "duration": 0,
    "start_time": "2023-09-22T20:24:11.271Z"
   },
   {
    "duration": 0,
    "start_time": "2023-09-22T20:24:11.272Z"
   },
   {
    "duration": 473,
    "start_time": "2023-09-22T20:24:38.156Z"
   },
   {
    "duration": 4867,
    "start_time": "2023-09-22T20:24:44.731Z"
   },
   {
    "duration": 1404,
    "start_time": "2023-09-22T20:24:49.600Z"
   },
   {
    "duration": 1021,
    "start_time": "2023-09-22T20:24:51.006Z"
   },
   {
    "duration": 24,
    "start_time": "2023-09-22T20:24:52.029Z"
   },
   {
    "duration": 275,
    "start_time": "2023-09-22T20:24:52.055Z"
   },
   {
    "duration": 175,
    "start_time": "2023-09-22T20:24:52.333Z"
   },
   {
    "duration": 215,
    "start_time": "2023-09-22T20:24:52.512Z"
   },
   {
    "duration": 16,
    "start_time": "2023-09-22T20:24:52.729Z"
   },
   {
    "duration": 576,
    "start_time": "2023-09-22T20:24:52.746Z"
   },
   {
    "duration": 19,
    "start_time": "2023-09-22T20:24:53.324Z"
   },
   {
    "duration": 173,
    "start_time": "2023-09-22T20:24:53.345Z"
   },
   {
    "duration": 197,
    "start_time": "2023-09-22T20:24:53.521Z"
   },
   {
    "duration": 86,
    "start_time": "2023-09-22T20:24:53.720Z"
   },
   {
    "duration": 70,
    "start_time": "2023-09-22T20:24:53.818Z"
   },
   {
    "duration": 55,
    "start_time": "2023-09-22T20:24:53.890Z"
   },
   {
    "duration": 415,
    "start_time": "2023-09-22T20:24:53.947Z"
   },
   {
    "duration": 128,
    "start_time": "2023-09-22T20:24:54.364Z"
   },
   {
    "duration": 68232,
    "start_time": "2023-09-22T20:24:54.493Z"
   },
   {
    "duration": 7762,
    "start_time": "2023-09-22T20:26:02.726Z"
   },
   {
    "duration": 3,
    "start_time": "2023-09-22T20:26:10.491Z"
   },
   {
    "duration": 833,
    "start_time": "2023-09-22T20:26:10.501Z"
   },
   {
    "duration": 423,
    "start_time": "2023-09-22T20:26:11.335Z"
   },
   {
    "duration": 1231,
    "start_time": "2023-09-22T20:26:11.760Z"
   },
   {
    "duration": 958,
    "start_time": "2023-09-22T20:26:12.993Z"
   },
   {
    "duration": 3,
    "start_time": "2023-09-22T20:26:13.953Z"
   },
   {
    "duration": 127652,
    "start_time": "2023-09-22T20:26:13.958Z"
   },
   {
    "duration": 730,
    "start_time": "2023-09-22T20:28:21.613Z"
   },
   {
    "duration": 41723,
    "start_time": "2023-09-22T20:28:22.404Z"
   },
   {
    "duration": 192,
    "start_time": "2023-09-22T20:29:04.129Z"
   },
   {
    "duration": 98,
    "start_time": "2023-09-22T20:29:04.324Z"
   },
   {
    "duration": 87,
    "start_time": "2023-09-22T20:29:04.425Z"
   },
   {
    "duration": 39446,
    "start_time": "2023-09-22T20:29:04.514Z"
   },
   {
    "duration": 3155,
    "start_time": "2023-09-22T20:29:43.962Z"
   },
   {
    "duration": 1034,
    "start_time": "2023-09-22T20:29:47.119Z"
   },
   {
    "duration": 25,
    "start_time": "2023-09-22T20:29:48.154Z"
   },
   {
    "duration": 286,
    "start_time": "2023-09-22T20:29:48.182Z"
   },
   {
    "duration": 115670,
    "start_time": "2023-09-22T20:29:48.470Z"
   },
   {
    "duration": 261,
    "start_time": "2023-09-22T20:31:44.142Z"
   },
   {
    "duration": 12819,
    "start_time": "2023-09-22T20:31:44.407Z"
   },
   {
    "duration": 40,
    "start_time": "2023-09-22T20:31:57.228Z"
   },
   {
    "duration": 4767,
    "start_time": "2023-09-22T20:51:52.300Z"
   },
   {
    "duration": 1362,
    "start_time": "2023-09-22T20:51:57.070Z"
   },
   {
    "duration": 1006,
    "start_time": "2023-09-22T20:51:58.433Z"
   },
   {
    "duration": 21,
    "start_time": "2023-09-22T20:51:59.441Z"
   },
   {
    "duration": 254,
    "start_time": "2023-09-22T20:51:59.464Z"
   },
   {
    "duration": 198,
    "start_time": "2023-09-22T20:51:59.720Z"
   },
   {
    "duration": 113,
    "start_time": "2023-09-22T20:51:59.921Z"
   },
   {
    "duration": 12,
    "start_time": "2023-09-22T20:52:00.036Z"
   },
   {
    "duration": 451,
    "start_time": "2023-09-22T20:52:00.050Z"
   },
   {
    "duration": 24,
    "start_time": "2023-09-22T20:52:00.504Z"
   },
   {
    "duration": 262,
    "start_time": "2023-09-22T20:52:00.529Z"
   },
   {
    "duration": 311,
    "start_time": "2023-09-22T20:52:00.793Z"
   },
   {
    "duration": 135,
    "start_time": "2023-09-22T20:52:01.112Z"
   },
   {
    "duration": 134,
    "start_time": "2023-09-22T20:52:01.249Z"
   },
   {
    "duration": 65,
    "start_time": "2023-09-22T20:52:01.385Z"
   },
   {
    "duration": 369,
    "start_time": "2023-09-22T20:52:01.452Z"
   },
   {
    "duration": 127,
    "start_time": "2023-09-22T20:52:01.823Z"
   },
   {
    "duration": 60368,
    "start_time": "2023-09-22T20:52:01.951Z"
   },
   {
    "duration": 7793,
    "start_time": "2023-09-22T20:53:02.322Z"
   },
   {
    "duration": 5,
    "start_time": "2023-09-22T20:53:10.120Z"
   },
   {
    "duration": 523,
    "start_time": "2023-09-22T20:53:10.127Z"
   },
   {
    "duration": 440,
    "start_time": "2023-09-22T20:53:10.652Z"
   },
   {
    "duration": 1201,
    "start_time": "2023-09-22T20:53:11.094Z"
   },
   {
    "duration": 949,
    "start_time": "2023-09-22T20:53:12.297Z"
   },
   {
    "duration": 4,
    "start_time": "2023-09-22T20:53:13.248Z"
   },
   {
    "duration": 131070,
    "start_time": "2023-09-22T20:53:13.253Z"
   },
   {
    "duration": 881,
    "start_time": "2023-09-22T20:55:24.326Z"
   },
   {
    "duration": 45435,
    "start_time": "2023-09-22T20:55:25.220Z"
   },
   {
    "duration": 203,
    "start_time": "2023-09-22T20:56:10.702Z"
   },
   {
    "duration": 107,
    "start_time": "2023-09-22T20:56:10.907Z"
   },
   {
    "duration": 21,
    "start_time": "2023-09-22T20:56:11.015Z"
   },
   {
    "duration": 38573,
    "start_time": "2023-09-22T20:56:11.038Z"
   },
   {
    "duration": 3229,
    "start_time": "2023-09-22T20:56:49.613Z"
   },
   {
    "duration": 1101,
    "start_time": "2023-09-22T20:56:52.844Z"
   },
   {
    "duration": 25,
    "start_time": "2023-09-22T20:56:53.947Z"
   },
   {
    "duration": 304,
    "start_time": "2023-09-22T20:56:53.975Z"
   },
   {
    "duration": 110493,
    "start_time": "2023-09-22T20:56:54.281Z"
   },
   {
    "duration": 265,
    "start_time": "2023-09-22T20:58:44.776Z"
   },
   {
    "duration": 12072,
    "start_time": "2023-09-22T20:58:45.042Z"
   },
   {
    "duration": 39,
    "start_time": "2023-09-22T20:58:57.116Z"
   },
   {
    "duration": 768851,
    "start_time": "2023-09-22T20:58:57.157Z"
   },
   {
    "duration": 601,
    "start_time": "2023-09-22T21:11:46.009Z"
   },
   {
    "duration": 1907907,
    "start_time": "2023-09-22T21:11:46.621Z"
   },
   {
    "duration": 974,
    "start_time": "2023-09-22T21:43:34.531Z"
   },
   {
    "duration": 3304,
    "start_time": "2023-09-22T21:43:35.512Z"
   },
   {
    "duration": 126,
    "start_time": "2023-09-22T21:45:52.117Z"
   },
   {
    "duration": 103,
    "start_time": "2023-09-22T21:46:16.586Z"
   },
   {
    "duration": 13,
    "start_time": "2023-09-22T21:46:25.556Z"
   },
   {
    "duration": 3437,
    "start_time": "2023-09-22T21:46:41.782Z"
   },
   {
    "duration": 106687,
    "start_time": "2023-09-22T21:47:14.074Z"
   },
   {
    "duration": 222,
    "start_time": "2023-09-22T21:49:02.611Z"
   },
   {
    "duration": 27,
    "start_time": "2023-09-22T21:49:07.295Z"
   },
   {
    "duration": 6,
    "start_time": "2023-09-22T21:49:22.651Z"
   },
   {
    "duration": 15,
    "start_time": "2023-09-22T21:49:38.067Z"
   },
   {
    "duration": 27,
    "start_time": "2023-09-22T21:56:04.636Z"
   },
   {
    "duration": 1282,
    "start_time": "2023-09-22T21:56:54.527Z"
   },
   {
    "duration": 22,
    "start_time": "2023-09-22T21:57:13.177Z"
   },
   {
    "duration": 18,
    "start_time": "2023-09-22T21:58:33.306Z"
   },
   {
    "duration": 10525,
    "start_time": "2023-09-23T08:28:52.250Z"
   },
   {
    "duration": 1651,
    "start_time": "2023-09-23T08:29:02.778Z"
   },
   {
    "duration": 3187,
    "start_time": "2023-09-23T08:29:04.431Z"
   },
   {
    "duration": 24,
    "start_time": "2023-09-23T08:29:07.622Z"
   },
   {
    "duration": 158,
    "start_time": "2023-09-23T08:29:07.649Z"
   },
   {
    "duration": 410,
    "start_time": "2023-09-23T08:29:07.809Z"
   },
   {
    "duration": 162,
    "start_time": "2023-09-23T08:29:08.222Z"
   },
   {
    "duration": 16,
    "start_time": "2023-09-23T08:29:08.386Z"
   },
   {
    "duration": 496,
    "start_time": "2023-09-23T08:29:08.404Z"
   },
   {
    "duration": 21,
    "start_time": "2023-09-23T08:29:08.903Z"
   },
   {
    "duration": 186,
    "start_time": "2023-09-23T08:29:08.927Z"
   },
   {
    "duration": 224,
    "start_time": "2023-09-23T08:29:09.116Z"
   },
   {
    "duration": 90,
    "start_time": "2023-09-23T08:29:09.343Z"
   },
   {
    "duration": 92,
    "start_time": "2023-09-23T08:29:09.435Z"
   },
   {
    "duration": 52,
    "start_time": "2023-09-23T08:29:09.529Z"
   },
   {
    "duration": 436,
    "start_time": "2023-09-23T08:29:09.583Z"
   },
   {
    "duration": 128,
    "start_time": "2023-09-23T08:29:10.021Z"
   },
   {
    "duration": 64205,
    "start_time": "2023-09-23T08:29:10.151Z"
   },
   {
    "duration": 6301,
    "start_time": "2023-09-23T08:30:14.359Z"
   },
   {
    "duration": 0,
    "start_time": "2023-09-23T08:30:20.664Z"
   },
   {
    "duration": 0,
    "start_time": "2023-09-23T08:30:20.665Z"
   },
   {
    "duration": 0,
    "start_time": "2023-09-23T08:30:20.667Z"
   },
   {
    "duration": 0,
    "start_time": "2023-09-23T08:30:20.669Z"
   },
   {
    "duration": 0,
    "start_time": "2023-09-23T08:30:20.670Z"
   },
   {
    "duration": 0,
    "start_time": "2023-09-23T08:30:20.671Z"
   },
   {
    "duration": 0,
    "start_time": "2023-09-23T08:30:20.673Z"
   },
   {
    "duration": 0,
    "start_time": "2023-09-23T08:30:20.675Z"
   },
   {
    "duration": 0,
    "start_time": "2023-09-23T08:30:20.676Z"
   },
   {
    "duration": 0,
    "start_time": "2023-09-23T08:30:20.679Z"
   },
   {
    "duration": 0,
    "start_time": "2023-09-23T08:30:20.680Z"
   },
   {
    "duration": 0,
    "start_time": "2023-09-23T08:30:20.682Z"
   },
   {
    "duration": 0,
    "start_time": "2023-09-23T08:30:20.683Z"
   },
   {
    "duration": 0,
    "start_time": "2023-09-23T08:30:20.685Z"
   },
   {
    "duration": 0,
    "start_time": "2023-09-23T08:30:20.686Z"
   },
   {
    "duration": 0,
    "start_time": "2023-09-23T08:30:20.688Z"
   },
   {
    "duration": 1,
    "start_time": "2023-09-23T08:30:20.689Z"
   },
   {
    "duration": 0,
    "start_time": "2023-09-23T08:30:20.691Z"
   },
   {
    "duration": 0,
    "start_time": "2023-09-23T08:30:20.693Z"
   },
   {
    "duration": 0,
    "start_time": "2023-09-23T08:30:20.694Z"
   },
   {
    "duration": 0,
    "start_time": "2023-09-23T08:30:20.695Z"
   },
   {
    "duration": 0,
    "start_time": "2023-09-23T08:30:20.696Z"
   },
   {
    "duration": 0,
    "start_time": "2023-09-23T08:30:20.698Z"
   },
   {
    "duration": 0,
    "start_time": "2023-09-23T08:30:20.699Z"
   },
   {
    "duration": 0,
    "start_time": "2023-09-23T08:30:20.757Z"
   },
   {
    "duration": 0,
    "start_time": "2023-09-23T08:30:20.759Z"
   },
   {
    "duration": 5287,
    "start_time": "2023-09-23T08:31:14.085Z"
   },
   {
    "duration": 1501,
    "start_time": "2023-09-23T08:31:19.375Z"
   },
   {
    "duration": 1036,
    "start_time": "2023-09-23T08:31:20.879Z"
   },
   {
    "duration": 69,
    "start_time": "2023-09-23T08:31:21.918Z"
   },
   {
    "duration": 193,
    "start_time": "2023-09-23T08:31:21.990Z"
   },
   {
    "duration": 173,
    "start_time": "2023-09-23T08:31:22.185Z"
   },
   {
    "duration": 298,
    "start_time": "2023-09-23T08:31:22.360Z"
   },
   {
    "duration": 16,
    "start_time": "2023-09-23T08:31:22.661Z"
   },
   {
    "duration": 467,
    "start_time": "2023-09-23T08:31:22.679Z"
   },
   {
    "duration": 28,
    "start_time": "2023-09-23T08:31:23.150Z"
   },
   {
    "duration": 223,
    "start_time": "2023-09-23T08:31:23.180Z"
   },
   {
    "duration": 207,
    "start_time": "2023-09-23T08:31:23.405Z"
   },
   {
    "duration": 102,
    "start_time": "2023-09-23T08:31:23.615Z"
   },
   {
    "duration": 91,
    "start_time": "2023-09-23T08:31:23.720Z"
   },
   {
    "duration": 54,
    "start_time": "2023-09-23T08:31:23.813Z"
   },
   {
    "duration": 360,
    "start_time": "2023-09-23T08:31:23.870Z"
   },
   {
    "duration": 131,
    "start_time": "2023-09-23T08:31:24.233Z"
   },
   {
    "duration": 62554,
    "start_time": "2023-09-23T08:31:24.366Z"
   },
   {
    "duration": 8344,
    "start_time": "2023-09-23T08:32:26.922Z"
   },
   {
    "duration": 4,
    "start_time": "2023-09-23T08:32:35.269Z"
   },
   {
    "duration": 533,
    "start_time": "2023-09-23T08:32:35.276Z"
   },
   {
    "duration": 504,
    "start_time": "2023-09-23T08:32:35.812Z"
   },
   {
    "duration": 908,
    "start_time": "2023-09-23T08:32:36.318Z"
   },
   {
    "duration": 1059,
    "start_time": "2023-09-23T08:32:37.228Z"
   },
   {
    "duration": 4,
    "start_time": "2023-09-23T08:32:38.288Z"
   },
   {
    "duration": 98864,
    "start_time": "2023-09-23T08:32:38.294Z"
   },
   {
    "duration": 815,
    "start_time": "2023-09-23T08:34:17.161Z"
   },
   {
    "duration": 30934,
    "start_time": "2023-09-23T08:34:18.062Z"
   },
   {
    "duration": 158,
    "start_time": "2023-09-23T08:34:48.998Z"
   },
   {
    "duration": 195,
    "start_time": "2023-09-23T08:34:49.162Z"
   },
   {
    "duration": 11,
    "start_time": "2023-09-23T08:34:49.359Z"
   },
   {
    "duration": 40862,
    "start_time": "2023-09-23T08:34:49.373Z"
   },
   {
    "duration": 3410,
    "start_time": "2023-09-23T08:35:30.238Z"
   },
   {
    "duration": 1087,
    "start_time": "2023-09-23T08:35:33.656Z"
   },
   {
    "duration": 40,
    "start_time": "2023-09-23T08:35:34.745Z"
   },
   {
    "duration": 195,
    "start_time": "2023-09-23T08:35:34.787Z"
   },
   {
    "duration": 112400,
    "start_time": "2023-09-23T08:35:34.984Z"
   },
   {
    "duration": 242,
    "start_time": "2023-09-23T08:37:27.386Z"
   },
   {
    "duration": 12049,
    "start_time": "2023-09-23T08:37:27.630Z"
   },
   {
    "duration": 43,
    "start_time": "2023-09-23T08:37:39.681Z"
   },
   {
    "duration": 903398,
    "start_time": "2023-09-23T08:37:39.726Z"
   },
   {
    "duration": 237,
    "start_time": "2023-09-23T08:52:43.126Z"
   },
   {
    "duration": 0,
    "start_time": "2023-09-23T08:52:43.366Z"
   },
   {
    "duration": 0,
    "start_time": "2023-09-23T08:52:43.368Z"
   },
   {
    "duration": 0,
    "start_time": "2023-09-23T08:52:43.370Z"
   },
   {
    "duration": 23068,
    "start_time": "2023-09-23T09:43:51.611Z"
   },
   {
    "duration": 115804,
    "start_time": "2023-09-23T09:44:48.973Z"
   },
   {
    "duration": 265737,
    "start_time": "2023-09-23T09:48:08.054Z"
   },
   {
    "duration": 10,
    "start_time": "2023-09-23T09:53:10.661Z"
   },
   {
    "duration": 16,
    "start_time": "2023-09-23T09:54:48.212Z"
   },
   {
    "duration": 4,
    "start_time": "2023-09-23T09:55:07.325Z"
   },
   {
    "duration": 28533,
    "start_time": "2023-09-23T09:57:08.867Z"
   },
   {
    "duration": 2669,
    "start_time": "2023-09-23T10:18:07.771Z"
   },
   {
    "duration": 1123520,
    "start_time": "2023-09-23T10:18:34.310Z"
   },
   {
    "duration": 13,
    "start_time": "2023-09-23T10:37:17.833Z"
   },
   {
    "duration": 618369,
    "start_time": "2023-09-23T10:39:09.087Z"
   },
   {
    "duration": 15,
    "start_time": "2023-09-23T10:49:27.459Z"
   },
   {
    "duration": 80582,
    "start_time": "2023-09-23T11:35:43.820Z"
   },
   {
    "duration": 251035,
    "start_time": "2023-09-23T11:39:32.540Z"
   },
   {
    "duration": 422595,
    "start_time": "2023-09-23T11:43:43.578Z"
   },
   {
    "duration": 428,
    "start_time": "2023-09-23T11:50:46.175Z"
   },
   {
    "duration": 112099,
    "start_time": "2023-09-23T11:50:46.657Z"
   },
   {
    "duration": 98,
    "start_time": "2023-09-23T11:52:38.759Z"
   },
   {
    "duration": 4,
    "start_time": "2023-09-23T11:58:59.019Z"
   },
   {
    "duration": 8,
    "start_time": "2023-09-23T11:58:59.026Z"
   },
   {
    "duration": 173339,
    "start_time": "2023-09-23T11:58:59.036Z"
   },
   {
    "duration": 97,
    "start_time": "2023-09-23T12:01:52.378Z"
   },
   {
    "duration": 4103,
    "start_time": "2023-09-23T12:01:52.477Z"
   },
   {
    "duration": 94,
    "start_time": "2023-09-23T12:01:56.582Z"
   },
   {
    "duration": 5348,
    "start_time": "2023-09-23T12:22:47.579Z"
   },
   {
    "duration": 1500,
    "start_time": "2023-09-23T12:22:52.929Z"
   },
   {
    "duration": 1060,
    "start_time": "2023-09-23T12:22:54.431Z"
   },
   {
    "duration": 24,
    "start_time": "2023-09-23T12:22:55.493Z"
   },
   {
    "duration": 221,
    "start_time": "2023-09-23T12:22:55.519Z"
   },
   {
    "duration": 177,
    "start_time": "2023-09-23T12:22:55.741Z"
   },
   {
    "duration": 124,
    "start_time": "2023-09-23T12:22:55.920Z"
   },
   {
    "duration": 30,
    "start_time": "2023-09-23T12:22:56.045Z"
   },
   {
    "duration": 462,
    "start_time": "2023-09-23T12:22:56.077Z"
   },
   {
    "duration": 32,
    "start_time": "2023-09-23T12:22:56.543Z"
   },
   {
    "duration": 154,
    "start_time": "2023-09-23T12:22:56.578Z"
   },
   {
    "duration": 237,
    "start_time": "2023-09-23T12:22:56.734Z"
   },
   {
    "duration": 115,
    "start_time": "2023-09-23T12:22:56.976Z"
   },
   {
    "duration": 90,
    "start_time": "2023-09-23T12:22:57.093Z"
   },
   {
    "duration": 50,
    "start_time": "2023-09-23T12:22:57.185Z"
   },
   {
    "duration": 368,
    "start_time": "2023-09-23T12:22:57.236Z"
   },
   {
    "duration": 142,
    "start_time": "2023-09-23T12:22:57.606Z"
   },
   {
    "duration": 74530,
    "start_time": "2023-09-23T12:22:57.750Z"
   },
   {
    "duration": 9333,
    "start_time": "2023-09-23T12:24:12.282Z"
   },
   {
    "duration": 5,
    "start_time": "2023-09-23T12:24:21.618Z"
   },
   {
    "duration": 705,
    "start_time": "2023-09-23T12:24:21.625Z"
   },
   {
    "duration": 615,
    "start_time": "2023-09-23T12:24:22.332Z"
   },
   {
    "duration": 905,
    "start_time": "2023-09-23T12:24:22.949Z"
   },
   {
    "duration": 1081,
    "start_time": "2023-09-23T12:24:23.858Z"
   },
   {
    "duration": 4,
    "start_time": "2023-09-23T12:24:24.942Z"
   },
   {
    "duration": 153609,
    "start_time": "2023-09-23T12:24:24.958Z"
   },
   {
    "duration": 1097,
    "start_time": "2023-09-23T12:26:58.570Z"
   },
   {
    "duration": 45707,
    "start_time": "2023-09-23T12:26:59.677Z"
   },
   {
    "duration": 94,
    "start_time": "2023-09-23T12:27:45.386Z"
   },
   {
    "duration": 232,
    "start_time": "2023-09-23T12:27:45.484Z"
   },
   {
    "duration": 65,
    "start_time": "2023-09-23T12:27:45.718Z"
   },
   {
    "duration": 43910,
    "start_time": "2023-09-23T12:27:45.786Z"
   },
   {
    "duration": 3646,
    "start_time": "2023-09-23T12:28:29.698Z"
   },
   {
    "duration": 1150,
    "start_time": "2023-09-23T12:28:33.346Z"
   },
   {
    "duration": 24,
    "start_time": "2023-09-23T12:28:34.499Z"
   },
   {
    "duration": 200,
    "start_time": "2023-09-23T12:28:34.526Z"
   },
   {
    "duration": 290935,
    "start_time": "2023-09-23T12:28:34.728Z"
   },
   {
    "duration": 0,
    "start_time": "2023-09-23T12:33:25.668Z"
   },
   {
    "duration": 0,
    "start_time": "2023-09-23T12:33:25.671Z"
   },
   {
    "duration": 1,
    "start_time": "2023-09-23T12:33:25.673Z"
   },
   {
    "duration": 0,
    "start_time": "2023-09-23T12:33:25.677Z"
   },
   {
    "duration": 0,
    "start_time": "2023-09-23T12:33:25.679Z"
   },
   {
    "duration": 0,
    "start_time": "2023-09-23T12:33:25.681Z"
   },
   {
    "duration": 0,
    "start_time": "2023-09-23T12:33:25.683Z"
   },
   {
    "duration": 0,
    "start_time": "2023-09-23T12:33:25.684Z"
   },
   {
    "duration": 0,
    "start_time": "2023-09-23T12:33:25.686Z"
   },
   {
    "duration": 0,
    "start_time": "2023-09-23T12:33:25.687Z"
   },
   {
    "duration": 0,
    "start_time": "2023-09-23T12:33:25.689Z"
   },
   {
    "duration": 0,
    "start_time": "2023-09-23T12:33:25.691Z"
   },
   {
    "duration": 300740,
    "start_time": "2023-09-23T12:34:12.981Z"
   },
   {
    "duration": 31917,
    "start_time": "2023-09-23T12:39:13.723Z"
   },
   {
    "duration": 134432,
    "start_time": "2023-09-23T12:39:45.642Z"
   },
   {
    "duration": 340,
    "start_time": "2023-09-23T12:42:00.077Z"
   },
   {
    "duration": 14018,
    "start_time": "2023-09-23T12:42:00.419Z"
   },
   {
    "duration": 50,
    "start_time": "2023-09-23T12:42:14.439Z"
   },
   {
    "duration": 3,
    "start_time": "2023-09-23T12:42:14.491Z"
   },
   {
    "duration": 17,
    "start_time": "2023-09-23T12:42:14.496Z"
   },
   {
    "duration": 1059808,
    "start_time": "2023-09-23T12:42:14.514Z"
   },
   {
    "duration": 90,
    "start_time": "2023-09-23T12:59:54.324Z"
   },
   {
    "duration": 29,
    "start_time": "2023-09-23T13:08:26.317Z"
   },
   {
    "duration": 26,
    "start_time": "2023-09-23T13:08:26.348Z"
   },
   {
    "duration": 31,
    "start_time": "2023-09-23T13:08:26.376Z"
   },
   {
    "duration": 17,
    "start_time": "2023-09-23T13:08:26.409Z"
   },
   {
    "duration": 34,
    "start_time": "2023-09-23T13:08:26.428Z"
   },
   {
    "duration": 12,
    "start_time": "2023-09-23T13:08:26.463Z"
   },
   {
    "duration": 20,
    "start_time": "2023-09-23T13:08:31.213Z"
   },
   {
    "duration": 12,
    "start_time": "2023-09-23T13:27:27.788Z"
   },
   {
    "duration": 23,
    "start_time": "2023-09-23T13:27:39.189Z"
   },
   {
    "duration": 18,
    "start_time": "2023-09-23T13:28:00.170Z"
   },
   {
    "duration": 398,
    "start_time": "2023-09-23T13:28:12.052Z"
   },
   {
    "duration": 11,
    "start_time": "2023-09-23T13:28:44.538Z"
   },
   {
    "duration": 12,
    "start_time": "2023-09-23T13:28:53.691Z"
   },
   {
    "duration": 410,
    "start_time": "2023-09-23T13:28:54.125Z"
   },
   {
    "duration": 5636,
    "start_time": "2023-09-23T13:29:29.149Z"
   },
   {
    "duration": 5,
    "start_time": "2023-09-23T13:29:34.789Z"
   },
   {
    "duration": 1006,
    "start_time": "2023-09-23T13:29:34.796Z"
   },
   {
    "duration": 20,
    "start_time": "2023-09-23T13:29:35.804Z"
   },
   {
    "duration": 202,
    "start_time": "2023-09-23T13:29:35.827Z"
   },
   {
    "duration": 188,
    "start_time": "2023-09-23T13:29:36.031Z"
   },
   {
    "duration": 241,
    "start_time": "2023-09-23T13:29:36.221Z"
   },
   {
    "duration": 650,
    "start_time": "2023-09-23T13:29:36.463Z"
   },
   {
    "duration": 17,
    "start_time": "2023-09-23T13:29:37.114Z"
   },
   {
    "duration": 663,
    "start_time": "2023-09-23T13:30:49.924Z"
   },
   {
    "duration": 651,
    "start_time": "2023-09-23T13:31:08.217Z"
   },
   {
    "duration": 196,
    "start_time": "2023-09-23T13:31:21.649Z"
   },
   {
    "duration": 121,
    "start_time": "2023-09-23T13:31:39.777Z"
   },
   {
    "duration": 261,
    "start_time": "2023-09-23T13:31:55.429Z"
   },
   {
    "duration": 1715,
    "start_time": "2023-09-23T13:32:00.992Z"
   },
   {
    "duration": 458,
    "start_time": "2023-09-23T13:32:30.787Z"
   },
   {
    "duration": 9,
    "start_time": "2023-09-23T13:35:39.496Z"
   },
   {
    "duration": 12,
    "start_time": "2023-09-23T13:40:38.919Z"
   },
   {
    "duration": 15,
    "start_time": "2023-09-23T13:43:33.776Z"
   },
   {
    "duration": 25,
    "start_time": "2023-09-23T13:43:39.247Z"
   },
   {
    "duration": 14,
    "start_time": "2023-09-23T13:43:44.983Z"
   },
   {
    "duration": 1032,
    "start_time": "2023-09-23T13:43:55.109Z"
   },
   {
    "duration": 30,
    "start_time": "2023-09-23T13:43:56.144Z"
   },
   {
    "duration": 454,
    "start_time": "2023-09-23T13:43:56.178Z"
   },
   {
    "duration": 295,
    "start_time": "2023-09-23T13:43:56.634Z"
   },
   {
    "duration": 124,
    "start_time": "2023-09-23T13:43:56.931Z"
   },
   {
    "duration": 713,
    "start_time": "2023-09-23T13:43:57.057Z"
   },
   {
    "duration": 16,
    "start_time": "2023-09-23T13:43:58.019Z"
   },
   {
    "duration": 12,
    "start_time": "2023-09-23T13:44:10.907Z"
   },
   {
    "duration": 16,
    "start_time": "2023-09-23T13:44:22.398Z"
   },
   {
    "duration": 13,
    "start_time": "2023-09-23T13:44:28.234Z"
   },
   {
    "duration": 197,
    "start_time": "2023-09-23T13:44:36.782Z"
   },
   {
    "duration": 496,
    "start_time": "2023-09-23T13:44:44.496Z"
   },
   {
    "duration": 1747,
    "start_time": "2023-09-23T13:44:53.486Z"
   },
   {
    "duration": 142,
    "start_time": "2023-09-23T13:45:09.784Z"
   },
   {
    "duration": 1744,
    "start_time": "2023-09-23T13:45:13.357Z"
   },
   {
    "duration": 197,
    "start_time": "2023-09-23T13:46:00.905Z"
   },
   {
    "duration": 108,
    "start_time": "2023-09-23T13:46:01.685Z"
   },
   {
    "duration": 676,
    "start_time": "2023-09-23T13:46:02.630Z"
   },
   {
    "duration": 13,
    "start_time": "2023-09-23T13:46:03.309Z"
   },
   {
    "duration": 9,
    "start_time": "2023-09-23T13:46:03.795Z"
   },
   {
    "duration": 20,
    "start_time": "2023-09-23T13:46:04.558Z"
   },
   {
    "duration": 39,
    "start_time": "2023-09-23T13:46:06.112Z"
   },
   {
    "duration": 79,
    "start_time": "2023-09-23T13:46:06.540Z"
   },
   {
    "duration": 121,
    "start_time": "2023-09-23T13:46:06.973Z"
   },
   {
    "duration": 216,
    "start_time": "2023-09-23T13:46:07.384Z"
   },
   {
    "duration": 20,
    "start_time": "2023-09-23T13:46:08.128Z"
   },
   {
    "duration": 163,
    "start_time": "2023-09-23T13:46:09.697Z"
   },
   {
    "duration": 228,
    "start_time": "2023-09-23T13:46:13.089Z"
   },
   {
    "duration": 115,
    "start_time": "2023-09-23T13:46:13.497Z"
   },
   {
    "duration": 99,
    "start_time": "2023-09-23T13:46:13.985Z"
   },
   {
    "duration": 54,
    "start_time": "2023-09-23T13:46:14.575Z"
   },
   {
    "duration": 395,
    "start_time": "2023-09-23T13:46:15.286Z"
   },
   {
    "duration": 138,
    "start_time": "2023-09-23T13:46:27.687Z"
   },
   {
    "duration": 5578,
    "start_time": "2023-09-23T13:46:37.875Z"
   },
   {
    "duration": 1593,
    "start_time": "2023-09-23T13:46:43.456Z"
   },
   {
    "duration": 1146,
    "start_time": "2023-09-23T13:46:45.057Z"
   },
   {
    "duration": 23,
    "start_time": "2023-09-23T13:46:46.204Z"
   },
   {
    "duration": 203,
    "start_time": "2023-09-23T13:46:46.230Z"
   },
   {
    "duration": 184,
    "start_time": "2023-09-23T13:46:46.435Z"
   },
   {
    "duration": 131,
    "start_time": "2023-09-23T13:46:46.621Z"
   },
   {
    "duration": 690,
    "start_time": "2023-09-23T13:46:46.756Z"
   },
   {
    "duration": 20,
    "start_time": "2023-09-23T13:46:47.448Z"
   },
   {
    "duration": 13,
    "start_time": "2023-09-23T13:46:47.469Z"
   },
   {
    "duration": 11,
    "start_time": "2023-09-23T13:46:47.483Z"
   },
   {
    "duration": 87,
    "start_time": "2023-09-23T13:46:47.496Z"
   },
   {
    "duration": 130,
    "start_time": "2023-09-23T13:46:47.585Z"
   },
   {
    "duration": 126,
    "start_time": "2023-09-23T13:46:47.719Z"
   },
   {
    "duration": 273,
    "start_time": "2023-09-23T13:46:47.846Z"
   },
   {
    "duration": 20,
    "start_time": "2023-09-23T13:46:48.122Z"
   },
   {
    "duration": 183,
    "start_time": "2023-09-23T13:46:48.156Z"
   },
   {
    "duration": 247,
    "start_time": "2023-09-23T13:46:48.341Z"
   },
   {
    "duration": 101,
    "start_time": "2023-09-23T13:46:48.590Z"
   },
   {
    "duration": 100,
    "start_time": "2023-09-23T13:46:48.694Z"
   },
   {
    "duration": 72,
    "start_time": "2023-09-23T13:46:48.796Z"
   },
   {
    "duration": 400,
    "start_time": "2023-09-23T13:46:48.870Z"
   },
   {
    "duration": 161,
    "start_time": "2023-09-23T13:46:49.272Z"
   },
   {
    "duration": 72715,
    "start_time": "2023-09-23T13:46:49.435Z"
   },
   {
    "duration": 9460,
    "start_time": "2023-09-23T13:48:02.152Z"
   },
   {
    "duration": 4,
    "start_time": "2023-09-23T13:48:11.614Z"
   },
   {
    "duration": 609,
    "start_time": "2023-09-23T13:48:11.620Z"
   },
   {
    "duration": 535,
    "start_time": "2023-09-23T13:48:12.231Z"
   },
   {
    "duration": 930,
    "start_time": "2023-09-23T13:48:12.775Z"
   },
   {
    "duration": 1081,
    "start_time": "2023-09-23T13:48:13.708Z"
   },
   {
    "duration": 3,
    "start_time": "2023-09-23T13:48:14.791Z"
   },
   {
    "duration": 245674,
    "start_time": "2023-09-23T13:48:14.797Z"
   },
   {
    "duration": 887,
    "start_time": "2023-09-23T13:52:20.474Z"
   },
   {
    "duration": 76498,
    "start_time": "2023-09-23T13:52:21.366Z"
   },
   {
    "duration": 103,
    "start_time": "2023-09-23T13:53:37.868Z"
   },
   {
    "duration": 169,
    "start_time": "2023-09-23T13:53:37.974Z"
   },
   {
    "duration": 34,
    "start_time": "2023-09-23T13:53:38.157Z"
   },
   {
    "duration": 47211,
    "start_time": "2023-09-23T13:53:38.255Z"
   },
   {
    "duration": 3861,
    "start_time": "2023-09-23T13:54:25.470Z"
   },
   {
    "duration": 1306,
    "start_time": "2023-09-23T13:54:29.334Z"
   },
   {
    "duration": 45,
    "start_time": "2023-09-23T13:54:30.644Z"
   },
   {
    "duration": 212,
    "start_time": "2023-09-23T13:54:30.691Z"
   },
   {
    "duration": 323739,
    "start_time": "2023-09-23T13:54:30.905Z"
   },
   {
    "duration": 37450,
    "start_time": "2023-09-23T13:59:54.646Z"
   },
   {
    "duration": 141359,
    "start_time": "2023-09-23T14:00:32.098Z"
   },
   {
    "duration": 305,
    "start_time": "2023-09-23T14:02:53.460Z"
   },
   {
    "duration": 14875,
    "start_time": "2023-09-23T14:02:53.767Z"
   },
   {
    "duration": 61,
    "start_time": "2023-09-23T14:03:08.644Z"
   },
   {
    "duration": 3,
    "start_time": "2023-09-23T14:03:08.708Z"
   },
   {
    "duration": 13,
    "start_time": "2023-09-23T14:03:08.713Z"
   },
   {
    "duration": 6,
    "start_time": "2023-09-23T14:03:08.728Z"
   },
   {
    "duration": 16,
    "start_time": "2023-09-23T14:03:08.736Z"
   },
   {
    "duration": 22,
    "start_time": "2023-09-23T14:03:08.754Z"
   },
   {
    "duration": 4,
    "start_time": "2023-09-23T14:03:08.784Z"
   },
   {
    "duration": 32,
    "start_time": "2023-09-23T14:03:08.790Z"
   },
   {
    "duration": 16,
    "start_time": "2023-09-23T14:03:08.825Z"
   },
   {
    "duration": 22,
    "start_time": "2023-09-23T14:03:08.843Z"
   },
   {
    "duration": 5,
    "start_time": "2023-09-23T14:03:08.868Z"
   },
   {
    "duration": 31,
    "start_time": "2023-09-23T14:03:08.875Z"
   },
   {
    "duration": 2397,
    "start_time": "2023-09-23T14:10:03.044Z"
   },
   {
    "duration": 60,
    "start_time": "2023-09-23T14:10:30.420Z"
   },
   {
    "duration": 26,
    "start_time": "2023-09-23T14:11:13.326Z"
   },
   {
    "duration": 51,
    "start_time": "2023-09-23T14:11:16.799Z"
   },
   {
    "duration": 38,
    "start_time": "2023-09-23T14:12:09.732Z"
   },
   {
    "duration": 3,
    "start_time": "2023-09-23T14:26:11.098Z"
   },
   {
    "duration": 4,
    "start_time": "2023-09-23T14:26:11.897Z"
   },
   {
    "duration": 4,
    "start_time": "2023-09-23T14:26:12.200Z"
   },
   {
    "duration": 3,
    "start_time": "2023-09-23T14:26:12.540Z"
   },
   {
    "duration": 9,
    "start_time": "2023-09-23T14:26:12.854Z"
   },
   {
    "duration": 5,
    "start_time": "2023-09-23T14:26:13.180Z"
   },
   {
    "duration": 4,
    "start_time": "2023-09-23T14:26:13.483Z"
   },
   {
    "duration": 4,
    "start_time": "2023-09-23T14:26:13.793Z"
   },
   {
    "duration": 3,
    "start_time": "2023-09-23T14:26:14.108Z"
   },
   {
    "duration": 58,
    "start_time": "2023-09-23T14:26:16.147Z"
   },
   {
    "duration": 42,
    "start_time": "2023-09-23T14:27:59.789Z"
   }
  ],
  "kernelspec": {
   "display_name": "Python 3 (ipykernel)",
   "language": "python",
   "name": "python3"
  },
  "language_info": {
   "codemirror_mode": {
    "name": "ipython",
    "version": 3
   },
   "file_extension": ".py",
   "mimetype": "text/x-python",
   "name": "python",
   "nbconvert_exporter": "python",
   "pygments_lexer": "ipython3",
   "version": "3.9.18"
  },
  "toc": {
   "base_numbering": 1,
   "nav_menu": {},
   "number_sections": true,
   "sideBar": true,
   "skip_h1_title": true,
   "title_cell": "Table of Contents",
   "title_sidebar": "Contents",
   "toc_cell": false,
   "toc_position": {},
   "toc_section_display": true,
   "toc_window_display": false
  }
 },
 "nbformat": 4,
 "nbformat_minor": 4
}
