{
 "cells": [
  {
   "cell_type": "markdown",
   "metadata": {
    "toc": true
   },
   "source": [
    "<h1>Содержание<span class=\"tocSkip\"></span></h1>\n",
    "<div class=\"toc\"><ul class=\"toc-item\"><li><span><a href=\"#Подготовка-данных\" data-toc-modified-id=\"Подготовка-данных-1\"><span class=\"toc-item-num\">1&nbsp;&nbsp;</span>Подготовка данных</a></span><ul class=\"toc-item\"><li><span><a href=\"#Вывод:\" data-toc-modified-id=\"Вывод:-1.1\"><span class=\"toc-item-num\">1.1&nbsp;&nbsp;</span>Вывод:</a></span></li></ul></li><li><span><a href=\"#Исследование-задачи\" data-toc-modified-id=\"Исследование-задачи-2\"><span class=\"toc-item-num\">2&nbsp;&nbsp;</span>Исследование задачи</a></span><ul class=\"toc-item\"><li><span><a href=\"#Random-Forest\" data-toc-modified-id=\"Random-Forest-2.1\"><span class=\"toc-item-num\">2.1&nbsp;&nbsp;</span>Random Forest</a></span></li><li><span><a href=\"#Logistic-Regression\" data-toc-modified-id=\"Logistic-Regression-2.2\"><span class=\"toc-item-num\">2.2&nbsp;&nbsp;</span>Logistic Regression</a></span></li><li><span><a href=\"#Decision-Tree\" data-toc-modified-id=\"Decision-Tree-2.3\"><span class=\"toc-item-num\">2.3&nbsp;&nbsp;</span>Decision Tree</a></span></li><li><span><a href=\"#Вывод:\" data-toc-modified-id=\"Вывод:-2.4\"><span class=\"toc-item-num\">2.4&nbsp;&nbsp;</span>Вывод:</a></span></li></ul></li><li><span><a href=\"#Борьба-с-дисбалансом\" data-toc-modified-id=\"Борьба-с-дисбалансом-3\"><span class=\"toc-item-num\">3&nbsp;&nbsp;</span>Борьба с дисбалансом</a></span><ul class=\"toc-item\"><li><span><a href=\"#Взвешивание-классов.-(Random-Forest)\" data-toc-modified-id=\"Взвешивание-классов.-(Random-Forest)-3.1\"><span class=\"toc-item-num\">3.1&nbsp;&nbsp;</span>Взвешивание классов. (Random Forest)</a></span></li><li><span><a href=\"#Взвешивание-классов-(Logistic-Regression)\" data-toc-modified-id=\"Взвешивание-классов-(Logistic-Regression)-3.2\"><span class=\"toc-item-num\">3.2&nbsp;&nbsp;</span>Взвешивание классов (Logistic Regression)</a></span></li><li><span><a href=\"#Взвешивание-классов-(Decision-Tree)\" data-toc-modified-id=\"Взвешивание-классов-(Decision-Tree)-3.3\"><span class=\"toc-item-num\">3.3&nbsp;&nbsp;</span>Взвешивание классов (Decision Tree)</a></span></li><li><span><a href=\"#Вывод:\" data-toc-modified-id=\"Вывод:-3.4\"><span class=\"toc-item-num\">3.4&nbsp;&nbsp;</span>Вывод:</a></span></li><li><span><a href=\"#Увеличение-выборки-(Random-Forest)\" data-toc-modified-id=\"Увеличение-выборки-(Random-Forest)-3.5\"><span class=\"toc-item-num\">3.5&nbsp;&nbsp;</span>Увеличение выборки (Random Forest)</a></span></li><li><span><a href=\"#Увеличение-выборки-(Logistic-Regression)\" data-toc-modified-id=\"Увеличение-выборки-(Logistic-Regression)-3.6\"><span class=\"toc-item-num\">3.6&nbsp;&nbsp;</span>Увеличение выборки (Logistic Regression)</a></span></li><li><span><a href=\"#Увеличение-выборки-(Decision-Tree)\" data-toc-modified-id=\"Увеличение-выборки-(Decision-Tree)-3.7\"><span class=\"toc-item-num\">3.7&nbsp;&nbsp;</span>Увеличение выборки (Decision Tree)</a></span></li><li><span><a href=\"#Уменьшение-выборки-(Random-Forest)\" data-toc-modified-id=\"Уменьшение-выборки-(Random-Forest)-3.8\"><span class=\"toc-item-num\">3.8&nbsp;&nbsp;</span>Уменьшение выборки (Random Forest)</a></span></li><li><span><a href=\"#Уменьшение-выборки-(Logistic-Regression)\" data-toc-modified-id=\"Уменьшение-выборки-(Logistic-Regression)-3.9\"><span class=\"toc-item-num\">3.9&nbsp;&nbsp;</span>Уменьшение выборки (Logistic Regression)</a></span></li><li><span><a href=\"#Уменьшение-выборки-(Decision-Tree)\" data-toc-modified-id=\"Уменьшение-выборки-(Decision-Tree)-3.10\"><span class=\"toc-item-num\">3.10&nbsp;&nbsp;</span>Уменьшение выборки (Decision Tree)</a></span></li><li><span><a href=\"#Вывод:\" data-toc-modified-id=\"Вывод:-3.11\"><span class=\"toc-item-num\">3.11&nbsp;&nbsp;</span>Вывод:</a></span></li></ul></li><li><span><a href=\"#Тестирование-лучшей-модели\" data-toc-modified-id=\"Тестирование-лучшей-модели-4\"><span class=\"toc-item-num\">4&nbsp;&nbsp;</span>Тестирование лучшей модели</a></span><ul class=\"toc-item\"><li><span><a href=\"#Вывод:\" data-toc-modified-id=\"Вывод:-4.1\"><span class=\"toc-item-num\">4.1&nbsp;&nbsp;</span>Вывод:</a></span></li></ul></li><li><span><a href=\"#Общий-вывод:\" data-toc-modified-id=\"Общий-вывод:-5\"><span class=\"toc-item-num\">5&nbsp;&nbsp;</span>Общий вывод:</a></span></li></ul></div>"
   ]
  },
  {
   "cell_type": "code",
   "execution_count": 1,
   "metadata": {},
   "outputs": [
    {
     "name": "stdout",
     "output_type": "stream",
     "text": [
      "Requirement already satisfied: scikit-learn==1.1.3 in /opt/conda/lib/python3.9/site-packages (1.1.3)\n",
      "Requirement already satisfied: numpy>=1.17.3 in /opt/conda/lib/python3.9/site-packages (from scikit-learn==1.1.3) (1.21.1)\n",
      "Requirement already satisfied: joblib>=1.0.0 in /opt/conda/lib/python3.9/site-packages (from scikit-learn==1.1.3) (1.1.0)\n",
      "Requirement already satisfied: threadpoolctl>=2.0.0 in /opt/conda/lib/python3.9/site-packages (from scikit-learn==1.1.3) (3.1.0)\n",
      "Requirement already satisfied: scipy>=1.3.2 in /opt/conda/lib/python3.9/site-packages (from scikit-learn==1.1.3) (1.9.1)\n"
     ]
    }
   ],
   "source": [
    "!pip install scikit-learn==1.1.3"
   ]
  },
  {
   "cell_type": "code",
   "execution_count": 2,
   "metadata": {},
   "outputs": [],
   "source": [
    "import pandas as pd \n",
    "from sklearn.model_selection import train_test_split\n",
    "from sklearn.linear_model import LogisticRegression\n",
    "from sklearn.tree import DecisionTreeClassifier\n",
    "from sklearn.ensemble import RandomForestClassifier\n",
    "from sklearn.preprocessing import StandardScaler \n",
    "from sklearn.metrics import (\n",
    "    f1_score, accuracy_score, recall_score, precision_score,\n",
    "    precision_recall_curve, roc_curve, roc_auc_score, confusion_matrix)\n",
    "from sklearn.utils import shuffle\n",
    "import matplotlib.pyplot as plt\n",
    "from sklearn.preprocessing import OneHotEncoder"
   ]
  },
  {
   "cell_type": "markdown",
   "metadata": {},
   "source": [
    "## Подготовка данных"
   ]
  },
  {
   "cell_type": "code",
   "execution_count": 3,
   "metadata": {},
   "outputs": [],
   "source": [
    "df = pd.read_csv('/datasets/Churn.csv')"
   ]
  },
  {
   "cell_type": "code",
   "execution_count": 4,
   "metadata": {},
   "outputs": [
    {
     "name": "stdout",
     "output_type": "stream",
     "text": [
      "<class 'pandas.core.frame.DataFrame'>\n",
      "RangeIndex: 10000 entries, 0 to 9999\n",
      "Data columns (total 14 columns):\n",
      " #   Column           Non-Null Count  Dtype  \n",
      "---  ------           --------------  -----  \n",
      " 0   RowNumber        10000 non-null  int64  \n",
      " 1   CustomerId       10000 non-null  int64  \n",
      " 2   Surname          10000 non-null  object \n",
      " 3   CreditScore      10000 non-null  int64  \n",
      " 4   Geography        10000 non-null  object \n",
      " 5   Gender           10000 non-null  object \n",
      " 6   Age              10000 non-null  int64  \n",
      " 7   Tenure           9091 non-null   float64\n",
      " 8   Balance          10000 non-null  float64\n",
      " 9   NumOfProducts    10000 non-null  int64  \n",
      " 10  HasCrCard        10000 non-null  int64  \n",
      " 11  IsActiveMember   10000 non-null  int64  \n",
      " 12  EstimatedSalary  10000 non-null  float64\n",
      " 13  Exited           10000 non-null  int64  \n",
      "dtypes: float64(3), int64(8), object(3)\n",
      "memory usage: 1.1+ MB\n"
     ]
    },
    {
     "data": {
      "text/html": [
       "<div>\n",
       "<style scoped>\n",
       "    .dataframe tbody tr th:only-of-type {\n",
       "        vertical-align: middle;\n",
       "    }\n",
       "\n",
       "    .dataframe tbody tr th {\n",
       "        vertical-align: top;\n",
       "    }\n",
       "\n",
       "    .dataframe thead th {\n",
       "        text-align: right;\n",
       "    }\n",
       "</style>\n",
       "<table border=\"1\" class=\"dataframe\">\n",
       "  <thead>\n",
       "    <tr style=\"text-align: right;\">\n",
       "      <th></th>\n",
       "      <th>RowNumber</th>\n",
       "      <th>CustomerId</th>\n",
       "      <th>Surname</th>\n",
       "      <th>CreditScore</th>\n",
       "      <th>Geography</th>\n",
       "      <th>Gender</th>\n",
       "      <th>Age</th>\n",
       "      <th>Tenure</th>\n",
       "      <th>Balance</th>\n",
       "      <th>NumOfProducts</th>\n",
       "      <th>HasCrCard</th>\n",
       "      <th>IsActiveMember</th>\n",
       "      <th>EstimatedSalary</th>\n",
       "      <th>Exited</th>\n",
       "    </tr>\n",
       "  </thead>\n",
       "  <tbody>\n",
       "    <tr>\n",
       "      <th>0</th>\n",
       "      <td>1</td>\n",
       "      <td>15634602</td>\n",
       "      <td>Hargrave</td>\n",
       "      <td>619</td>\n",
       "      <td>France</td>\n",
       "      <td>Female</td>\n",
       "      <td>42</td>\n",
       "      <td>2.0</td>\n",
       "      <td>0.00</td>\n",
       "      <td>1</td>\n",
       "      <td>1</td>\n",
       "      <td>1</td>\n",
       "      <td>101348.88</td>\n",
       "      <td>1</td>\n",
       "    </tr>\n",
       "    <tr>\n",
       "      <th>1</th>\n",
       "      <td>2</td>\n",
       "      <td>15647311</td>\n",
       "      <td>Hill</td>\n",
       "      <td>608</td>\n",
       "      <td>Spain</td>\n",
       "      <td>Female</td>\n",
       "      <td>41</td>\n",
       "      <td>1.0</td>\n",
       "      <td>83807.86</td>\n",
       "      <td>1</td>\n",
       "      <td>0</td>\n",
       "      <td>1</td>\n",
       "      <td>112542.58</td>\n",
       "      <td>0</td>\n",
       "    </tr>\n",
       "    <tr>\n",
       "      <th>2</th>\n",
       "      <td>3</td>\n",
       "      <td>15619304</td>\n",
       "      <td>Onio</td>\n",
       "      <td>502</td>\n",
       "      <td>France</td>\n",
       "      <td>Female</td>\n",
       "      <td>42</td>\n",
       "      <td>8.0</td>\n",
       "      <td>159660.80</td>\n",
       "      <td>3</td>\n",
       "      <td>1</td>\n",
       "      <td>0</td>\n",
       "      <td>113931.57</td>\n",
       "      <td>1</td>\n",
       "    </tr>\n",
       "    <tr>\n",
       "      <th>3</th>\n",
       "      <td>4</td>\n",
       "      <td>15701354</td>\n",
       "      <td>Boni</td>\n",
       "      <td>699</td>\n",
       "      <td>France</td>\n",
       "      <td>Female</td>\n",
       "      <td>39</td>\n",
       "      <td>1.0</td>\n",
       "      <td>0.00</td>\n",
       "      <td>2</td>\n",
       "      <td>0</td>\n",
       "      <td>0</td>\n",
       "      <td>93826.63</td>\n",
       "      <td>0</td>\n",
       "    </tr>\n",
       "    <tr>\n",
       "      <th>4</th>\n",
       "      <td>5</td>\n",
       "      <td>15737888</td>\n",
       "      <td>Mitchell</td>\n",
       "      <td>850</td>\n",
       "      <td>Spain</td>\n",
       "      <td>Female</td>\n",
       "      <td>43</td>\n",
       "      <td>2.0</td>\n",
       "      <td>125510.82</td>\n",
       "      <td>1</td>\n",
       "      <td>1</td>\n",
       "      <td>1</td>\n",
       "      <td>79084.10</td>\n",
       "      <td>0</td>\n",
       "    </tr>\n",
       "    <tr>\n",
       "      <th>...</th>\n",
       "      <td>...</td>\n",
       "      <td>...</td>\n",
       "      <td>...</td>\n",
       "      <td>...</td>\n",
       "      <td>...</td>\n",
       "      <td>...</td>\n",
       "      <td>...</td>\n",
       "      <td>...</td>\n",
       "      <td>...</td>\n",
       "      <td>...</td>\n",
       "      <td>...</td>\n",
       "      <td>...</td>\n",
       "      <td>...</td>\n",
       "      <td>...</td>\n",
       "    </tr>\n",
       "    <tr>\n",
       "      <th>9995</th>\n",
       "      <td>9996</td>\n",
       "      <td>15606229</td>\n",
       "      <td>Obijiaku</td>\n",
       "      <td>771</td>\n",
       "      <td>France</td>\n",
       "      <td>Male</td>\n",
       "      <td>39</td>\n",
       "      <td>5.0</td>\n",
       "      <td>0.00</td>\n",
       "      <td>2</td>\n",
       "      <td>1</td>\n",
       "      <td>0</td>\n",
       "      <td>96270.64</td>\n",
       "      <td>0</td>\n",
       "    </tr>\n",
       "    <tr>\n",
       "      <th>9996</th>\n",
       "      <td>9997</td>\n",
       "      <td>15569892</td>\n",
       "      <td>Johnstone</td>\n",
       "      <td>516</td>\n",
       "      <td>France</td>\n",
       "      <td>Male</td>\n",
       "      <td>35</td>\n",
       "      <td>10.0</td>\n",
       "      <td>57369.61</td>\n",
       "      <td>1</td>\n",
       "      <td>1</td>\n",
       "      <td>1</td>\n",
       "      <td>101699.77</td>\n",
       "      <td>0</td>\n",
       "    </tr>\n",
       "    <tr>\n",
       "      <th>9997</th>\n",
       "      <td>9998</td>\n",
       "      <td>15584532</td>\n",
       "      <td>Liu</td>\n",
       "      <td>709</td>\n",
       "      <td>France</td>\n",
       "      <td>Female</td>\n",
       "      <td>36</td>\n",
       "      <td>7.0</td>\n",
       "      <td>0.00</td>\n",
       "      <td>1</td>\n",
       "      <td>0</td>\n",
       "      <td>1</td>\n",
       "      <td>42085.58</td>\n",
       "      <td>1</td>\n",
       "    </tr>\n",
       "    <tr>\n",
       "      <th>9998</th>\n",
       "      <td>9999</td>\n",
       "      <td>15682355</td>\n",
       "      <td>Sabbatini</td>\n",
       "      <td>772</td>\n",
       "      <td>Germany</td>\n",
       "      <td>Male</td>\n",
       "      <td>42</td>\n",
       "      <td>3.0</td>\n",
       "      <td>75075.31</td>\n",
       "      <td>2</td>\n",
       "      <td>1</td>\n",
       "      <td>0</td>\n",
       "      <td>92888.52</td>\n",
       "      <td>1</td>\n",
       "    </tr>\n",
       "    <tr>\n",
       "      <th>9999</th>\n",
       "      <td>10000</td>\n",
       "      <td>15628319</td>\n",
       "      <td>Walker</td>\n",
       "      <td>792</td>\n",
       "      <td>France</td>\n",
       "      <td>Female</td>\n",
       "      <td>28</td>\n",
       "      <td>NaN</td>\n",
       "      <td>130142.79</td>\n",
       "      <td>1</td>\n",
       "      <td>1</td>\n",
       "      <td>0</td>\n",
       "      <td>38190.78</td>\n",
       "      <td>0</td>\n",
       "    </tr>\n",
       "  </tbody>\n",
       "</table>\n",
       "<p>10000 rows × 14 columns</p>\n",
       "</div>"
      ],
      "text/plain": [
       "      RowNumber  CustomerId    Surname  CreditScore Geography  Gender  Age  \\\n",
       "0             1    15634602   Hargrave          619    France  Female   42   \n",
       "1             2    15647311       Hill          608     Spain  Female   41   \n",
       "2             3    15619304       Onio          502    France  Female   42   \n",
       "3             4    15701354       Boni          699    France  Female   39   \n",
       "4             5    15737888   Mitchell          850     Spain  Female   43   \n",
       "...         ...         ...        ...          ...       ...     ...  ...   \n",
       "9995       9996    15606229   Obijiaku          771    France    Male   39   \n",
       "9996       9997    15569892  Johnstone          516    France    Male   35   \n",
       "9997       9998    15584532        Liu          709    France  Female   36   \n",
       "9998       9999    15682355  Sabbatini          772   Germany    Male   42   \n",
       "9999      10000    15628319     Walker          792    France  Female   28   \n",
       "\n",
       "      Tenure    Balance  NumOfProducts  HasCrCard  IsActiveMember  \\\n",
       "0        2.0       0.00              1          1               1   \n",
       "1        1.0   83807.86              1          0               1   \n",
       "2        8.0  159660.80              3          1               0   \n",
       "3        1.0       0.00              2          0               0   \n",
       "4        2.0  125510.82              1          1               1   \n",
       "...      ...        ...            ...        ...             ...   \n",
       "9995     5.0       0.00              2          1               0   \n",
       "9996    10.0   57369.61              1          1               1   \n",
       "9997     7.0       0.00              1          0               1   \n",
       "9998     3.0   75075.31              2          1               0   \n",
       "9999     NaN  130142.79              1          1               0   \n",
       "\n",
       "      EstimatedSalary  Exited  \n",
       "0           101348.88       1  \n",
       "1           112542.58       0  \n",
       "2           113931.57       1  \n",
       "3            93826.63       0  \n",
       "4            79084.10       0  \n",
       "...               ...     ...  \n",
       "9995         96270.64       0  \n",
       "9996        101699.77       0  \n",
       "9997         42085.58       1  \n",
       "9998         92888.52       1  \n",
       "9999         38190.78       0  \n",
       "\n",
       "[10000 rows x 14 columns]"
      ]
     },
     "metadata": {},
     "output_type": "display_data"
    }
   ],
   "source": [
    "df.info()\n",
    "display(df)"
   ]
  },
  {
   "cell_type": "code",
   "execution_count": 5,
   "metadata": {},
   "outputs": [],
   "source": [
    "df['Tenure'] = df['Tenure'].fillna(df['Tenure'].median())"
   ]
  },
  {
   "cell_type": "code",
   "execution_count": 6,
   "metadata": {},
   "outputs": [
    {
     "name": "stdout",
     "output_type": "stream",
     "text": [
      "<class 'pandas.core.frame.DataFrame'>\n",
      "RangeIndex: 10000 entries, 0 to 9999\n",
      "Data columns (total 14 columns):\n",
      " #   Column           Non-Null Count  Dtype  \n",
      "---  ------           --------------  -----  \n",
      " 0   RowNumber        10000 non-null  int64  \n",
      " 1   CustomerId       10000 non-null  int64  \n",
      " 2   Surname          10000 non-null  object \n",
      " 3   CreditScore      10000 non-null  int64  \n",
      " 4   Geography        10000 non-null  object \n",
      " 5   Gender           10000 non-null  object \n",
      " 6   Age              10000 non-null  int64  \n",
      " 7   Tenure           10000 non-null  float64\n",
      " 8   Balance          10000 non-null  float64\n",
      " 9   NumOfProducts    10000 non-null  int64  \n",
      " 10  HasCrCard        10000 non-null  int64  \n",
      " 11  IsActiveMember   10000 non-null  int64  \n",
      " 12  EstimatedSalary  10000 non-null  float64\n",
      " 13  Exited           10000 non-null  int64  \n",
      "dtypes: float64(3), int64(8), object(3)\n",
      "memory usage: 1.1+ MB\n"
     ]
    },
    {
     "data": {
      "text/html": [
       "<div>\n",
       "<style scoped>\n",
       "    .dataframe tbody tr th:only-of-type {\n",
       "        vertical-align: middle;\n",
       "    }\n",
       "\n",
       "    .dataframe tbody tr th {\n",
       "        vertical-align: top;\n",
       "    }\n",
       "\n",
       "    .dataframe thead th {\n",
       "        text-align: right;\n",
       "    }\n",
       "</style>\n",
       "<table border=\"1\" class=\"dataframe\">\n",
       "  <thead>\n",
       "    <tr style=\"text-align: right;\">\n",
       "      <th></th>\n",
       "      <th>RowNumber</th>\n",
       "      <th>CustomerId</th>\n",
       "      <th>Surname</th>\n",
       "      <th>CreditScore</th>\n",
       "      <th>Geography</th>\n",
       "      <th>Gender</th>\n",
       "      <th>Age</th>\n",
       "      <th>Tenure</th>\n",
       "      <th>Balance</th>\n",
       "      <th>NumOfProducts</th>\n",
       "      <th>HasCrCard</th>\n",
       "      <th>IsActiveMember</th>\n",
       "      <th>EstimatedSalary</th>\n",
       "      <th>Exited</th>\n",
       "    </tr>\n",
       "  </thead>\n",
       "  <tbody>\n",
       "    <tr>\n",
       "      <th>0</th>\n",
       "      <td>1</td>\n",
       "      <td>15634602</td>\n",
       "      <td>Hargrave</td>\n",
       "      <td>619</td>\n",
       "      <td>France</td>\n",
       "      <td>Female</td>\n",
       "      <td>42</td>\n",
       "      <td>2.0</td>\n",
       "      <td>0.00</td>\n",
       "      <td>1</td>\n",
       "      <td>1</td>\n",
       "      <td>1</td>\n",
       "      <td>101348.88</td>\n",
       "      <td>1</td>\n",
       "    </tr>\n",
       "    <tr>\n",
       "      <th>1</th>\n",
       "      <td>2</td>\n",
       "      <td>15647311</td>\n",
       "      <td>Hill</td>\n",
       "      <td>608</td>\n",
       "      <td>Spain</td>\n",
       "      <td>Female</td>\n",
       "      <td>41</td>\n",
       "      <td>1.0</td>\n",
       "      <td>83807.86</td>\n",
       "      <td>1</td>\n",
       "      <td>0</td>\n",
       "      <td>1</td>\n",
       "      <td>112542.58</td>\n",
       "      <td>0</td>\n",
       "    </tr>\n",
       "    <tr>\n",
       "      <th>2</th>\n",
       "      <td>3</td>\n",
       "      <td>15619304</td>\n",
       "      <td>Onio</td>\n",
       "      <td>502</td>\n",
       "      <td>France</td>\n",
       "      <td>Female</td>\n",
       "      <td>42</td>\n",
       "      <td>8.0</td>\n",
       "      <td>159660.80</td>\n",
       "      <td>3</td>\n",
       "      <td>1</td>\n",
       "      <td>0</td>\n",
       "      <td>113931.57</td>\n",
       "      <td>1</td>\n",
       "    </tr>\n",
       "    <tr>\n",
       "      <th>3</th>\n",
       "      <td>4</td>\n",
       "      <td>15701354</td>\n",
       "      <td>Boni</td>\n",
       "      <td>699</td>\n",
       "      <td>France</td>\n",
       "      <td>Female</td>\n",
       "      <td>39</td>\n",
       "      <td>1.0</td>\n",
       "      <td>0.00</td>\n",
       "      <td>2</td>\n",
       "      <td>0</td>\n",
       "      <td>0</td>\n",
       "      <td>93826.63</td>\n",
       "      <td>0</td>\n",
       "    </tr>\n",
       "    <tr>\n",
       "      <th>4</th>\n",
       "      <td>5</td>\n",
       "      <td>15737888</td>\n",
       "      <td>Mitchell</td>\n",
       "      <td>850</td>\n",
       "      <td>Spain</td>\n",
       "      <td>Female</td>\n",
       "      <td>43</td>\n",
       "      <td>2.0</td>\n",
       "      <td>125510.82</td>\n",
       "      <td>1</td>\n",
       "      <td>1</td>\n",
       "      <td>1</td>\n",
       "      <td>79084.10</td>\n",
       "      <td>0</td>\n",
       "    </tr>\n",
       "    <tr>\n",
       "      <th>...</th>\n",
       "      <td>...</td>\n",
       "      <td>...</td>\n",
       "      <td>...</td>\n",
       "      <td>...</td>\n",
       "      <td>...</td>\n",
       "      <td>...</td>\n",
       "      <td>...</td>\n",
       "      <td>...</td>\n",
       "      <td>...</td>\n",
       "      <td>...</td>\n",
       "      <td>...</td>\n",
       "      <td>...</td>\n",
       "      <td>...</td>\n",
       "      <td>...</td>\n",
       "    </tr>\n",
       "    <tr>\n",
       "      <th>9995</th>\n",
       "      <td>9996</td>\n",
       "      <td>15606229</td>\n",
       "      <td>Obijiaku</td>\n",
       "      <td>771</td>\n",
       "      <td>France</td>\n",
       "      <td>Male</td>\n",
       "      <td>39</td>\n",
       "      <td>5.0</td>\n",
       "      <td>0.00</td>\n",
       "      <td>2</td>\n",
       "      <td>1</td>\n",
       "      <td>0</td>\n",
       "      <td>96270.64</td>\n",
       "      <td>0</td>\n",
       "    </tr>\n",
       "    <tr>\n",
       "      <th>9996</th>\n",
       "      <td>9997</td>\n",
       "      <td>15569892</td>\n",
       "      <td>Johnstone</td>\n",
       "      <td>516</td>\n",
       "      <td>France</td>\n",
       "      <td>Male</td>\n",
       "      <td>35</td>\n",
       "      <td>10.0</td>\n",
       "      <td>57369.61</td>\n",
       "      <td>1</td>\n",
       "      <td>1</td>\n",
       "      <td>1</td>\n",
       "      <td>101699.77</td>\n",
       "      <td>0</td>\n",
       "    </tr>\n",
       "    <tr>\n",
       "      <th>9997</th>\n",
       "      <td>9998</td>\n",
       "      <td>15584532</td>\n",
       "      <td>Liu</td>\n",
       "      <td>709</td>\n",
       "      <td>France</td>\n",
       "      <td>Female</td>\n",
       "      <td>36</td>\n",
       "      <td>7.0</td>\n",
       "      <td>0.00</td>\n",
       "      <td>1</td>\n",
       "      <td>0</td>\n",
       "      <td>1</td>\n",
       "      <td>42085.58</td>\n",
       "      <td>1</td>\n",
       "    </tr>\n",
       "    <tr>\n",
       "      <th>9998</th>\n",
       "      <td>9999</td>\n",
       "      <td>15682355</td>\n",
       "      <td>Sabbatini</td>\n",
       "      <td>772</td>\n",
       "      <td>Germany</td>\n",
       "      <td>Male</td>\n",
       "      <td>42</td>\n",
       "      <td>3.0</td>\n",
       "      <td>75075.31</td>\n",
       "      <td>2</td>\n",
       "      <td>1</td>\n",
       "      <td>0</td>\n",
       "      <td>92888.52</td>\n",
       "      <td>1</td>\n",
       "    </tr>\n",
       "    <tr>\n",
       "      <th>9999</th>\n",
       "      <td>10000</td>\n",
       "      <td>15628319</td>\n",
       "      <td>Walker</td>\n",
       "      <td>792</td>\n",
       "      <td>France</td>\n",
       "      <td>Female</td>\n",
       "      <td>28</td>\n",
       "      <td>5.0</td>\n",
       "      <td>130142.79</td>\n",
       "      <td>1</td>\n",
       "      <td>1</td>\n",
       "      <td>0</td>\n",
       "      <td>38190.78</td>\n",
       "      <td>0</td>\n",
       "    </tr>\n",
       "  </tbody>\n",
       "</table>\n",
       "<p>10000 rows × 14 columns</p>\n",
       "</div>"
      ],
      "text/plain": [
       "      RowNumber  CustomerId    Surname  CreditScore Geography  Gender  Age  \\\n",
       "0             1    15634602   Hargrave          619    France  Female   42   \n",
       "1             2    15647311       Hill          608     Spain  Female   41   \n",
       "2             3    15619304       Onio          502    France  Female   42   \n",
       "3             4    15701354       Boni          699    France  Female   39   \n",
       "4             5    15737888   Mitchell          850     Spain  Female   43   \n",
       "...         ...         ...        ...          ...       ...     ...  ...   \n",
       "9995       9996    15606229   Obijiaku          771    France    Male   39   \n",
       "9996       9997    15569892  Johnstone          516    France    Male   35   \n",
       "9997       9998    15584532        Liu          709    France  Female   36   \n",
       "9998       9999    15682355  Sabbatini          772   Germany    Male   42   \n",
       "9999      10000    15628319     Walker          792    France  Female   28   \n",
       "\n",
       "      Tenure    Balance  NumOfProducts  HasCrCard  IsActiveMember  \\\n",
       "0        2.0       0.00              1          1               1   \n",
       "1        1.0   83807.86              1          0               1   \n",
       "2        8.0  159660.80              3          1               0   \n",
       "3        1.0       0.00              2          0               0   \n",
       "4        2.0  125510.82              1          1               1   \n",
       "...      ...        ...            ...        ...             ...   \n",
       "9995     5.0       0.00              2          1               0   \n",
       "9996    10.0   57369.61              1          1               1   \n",
       "9997     7.0       0.00              1          0               1   \n",
       "9998     3.0   75075.31              2          1               0   \n",
       "9999     5.0  130142.79              1          1               0   \n",
       "\n",
       "      EstimatedSalary  Exited  \n",
       "0           101348.88       1  \n",
       "1           112542.58       0  \n",
       "2           113931.57       1  \n",
       "3            93826.63       0  \n",
       "4            79084.10       0  \n",
       "...               ...     ...  \n",
       "9995         96270.64       0  \n",
       "9996        101699.77       0  \n",
       "9997         42085.58       1  \n",
       "9998         92888.52       1  \n",
       "9999         38190.78       0  \n",
       "\n",
       "[10000 rows x 14 columns]"
      ]
     },
     "metadata": {},
     "output_type": "display_data"
    }
   ],
   "source": [
    "df.info()\n",
    "display(df)"
   ]
  },
  {
   "cell_type": "code",
   "execution_count": 7,
   "metadata": {},
   "outputs": [],
   "source": [
    "df = df.drop(['RowNumber', 'CustomerId', 'Surname'], axis=1)"
   ]
  },
  {
   "cell_type": "code",
   "execution_count": 8,
   "metadata": {},
   "outputs": [
    {
     "data": {
      "text/html": [
       "<div>\n",
       "<style scoped>\n",
       "    .dataframe tbody tr th:only-of-type {\n",
       "        vertical-align: middle;\n",
       "    }\n",
       "\n",
       "    .dataframe tbody tr th {\n",
       "        vertical-align: top;\n",
       "    }\n",
       "\n",
       "    .dataframe thead th {\n",
       "        text-align: right;\n",
       "    }\n",
       "</style>\n",
       "<table border=\"1\" class=\"dataframe\">\n",
       "  <thead>\n",
       "    <tr style=\"text-align: right;\">\n",
       "      <th></th>\n",
       "      <th>CreditScore</th>\n",
       "      <th>Geography</th>\n",
       "      <th>Gender</th>\n",
       "      <th>Age</th>\n",
       "      <th>Tenure</th>\n",
       "      <th>Balance</th>\n",
       "      <th>NumOfProducts</th>\n",
       "      <th>HasCrCard</th>\n",
       "      <th>IsActiveMember</th>\n",
       "      <th>EstimatedSalary</th>\n",
       "      <th>Exited</th>\n",
       "    </tr>\n",
       "  </thead>\n",
       "  <tbody>\n",
       "    <tr>\n",
       "      <th>0</th>\n",
       "      <td>619</td>\n",
       "      <td>France</td>\n",
       "      <td>Female</td>\n",
       "      <td>42</td>\n",
       "      <td>2.0</td>\n",
       "      <td>0.00</td>\n",
       "      <td>1</td>\n",
       "      <td>1</td>\n",
       "      <td>1</td>\n",
       "      <td>101348.88</td>\n",
       "      <td>1</td>\n",
       "    </tr>\n",
       "    <tr>\n",
       "      <th>1</th>\n",
       "      <td>608</td>\n",
       "      <td>Spain</td>\n",
       "      <td>Female</td>\n",
       "      <td>41</td>\n",
       "      <td>1.0</td>\n",
       "      <td>83807.86</td>\n",
       "      <td>1</td>\n",
       "      <td>0</td>\n",
       "      <td>1</td>\n",
       "      <td>112542.58</td>\n",
       "      <td>0</td>\n",
       "    </tr>\n",
       "    <tr>\n",
       "      <th>2</th>\n",
       "      <td>502</td>\n",
       "      <td>France</td>\n",
       "      <td>Female</td>\n",
       "      <td>42</td>\n",
       "      <td>8.0</td>\n",
       "      <td>159660.80</td>\n",
       "      <td>3</td>\n",
       "      <td>1</td>\n",
       "      <td>0</td>\n",
       "      <td>113931.57</td>\n",
       "      <td>1</td>\n",
       "    </tr>\n",
       "    <tr>\n",
       "      <th>3</th>\n",
       "      <td>699</td>\n",
       "      <td>France</td>\n",
       "      <td>Female</td>\n",
       "      <td>39</td>\n",
       "      <td>1.0</td>\n",
       "      <td>0.00</td>\n",
       "      <td>2</td>\n",
       "      <td>0</td>\n",
       "      <td>0</td>\n",
       "      <td>93826.63</td>\n",
       "      <td>0</td>\n",
       "    </tr>\n",
       "    <tr>\n",
       "      <th>4</th>\n",
       "      <td>850</td>\n",
       "      <td>Spain</td>\n",
       "      <td>Female</td>\n",
       "      <td>43</td>\n",
       "      <td>2.0</td>\n",
       "      <td>125510.82</td>\n",
       "      <td>1</td>\n",
       "      <td>1</td>\n",
       "      <td>1</td>\n",
       "      <td>79084.10</td>\n",
       "      <td>0</td>\n",
       "    </tr>\n",
       "    <tr>\n",
       "      <th>...</th>\n",
       "      <td>...</td>\n",
       "      <td>...</td>\n",
       "      <td>...</td>\n",
       "      <td>...</td>\n",
       "      <td>...</td>\n",
       "      <td>...</td>\n",
       "      <td>...</td>\n",
       "      <td>...</td>\n",
       "      <td>...</td>\n",
       "      <td>...</td>\n",
       "      <td>...</td>\n",
       "    </tr>\n",
       "    <tr>\n",
       "      <th>9995</th>\n",
       "      <td>771</td>\n",
       "      <td>France</td>\n",
       "      <td>Male</td>\n",
       "      <td>39</td>\n",
       "      <td>5.0</td>\n",
       "      <td>0.00</td>\n",
       "      <td>2</td>\n",
       "      <td>1</td>\n",
       "      <td>0</td>\n",
       "      <td>96270.64</td>\n",
       "      <td>0</td>\n",
       "    </tr>\n",
       "    <tr>\n",
       "      <th>9996</th>\n",
       "      <td>516</td>\n",
       "      <td>France</td>\n",
       "      <td>Male</td>\n",
       "      <td>35</td>\n",
       "      <td>10.0</td>\n",
       "      <td>57369.61</td>\n",
       "      <td>1</td>\n",
       "      <td>1</td>\n",
       "      <td>1</td>\n",
       "      <td>101699.77</td>\n",
       "      <td>0</td>\n",
       "    </tr>\n",
       "    <tr>\n",
       "      <th>9997</th>\n",
       "      <td>709</td>\n",
       "      <td>France</td>\n",
       "      <td>Female</td>\n",
       "      <td>36</td>\n",
       "      <td>7.0</td>\n",
       "      <td>0.00</td>\n",
       "      <td>1</td>\n",
       "      <td>0</td>\n",
       "      <td>1</td>\n",
       "      <td>42085.58</td>\n",
       "      <td>1</td>\n",
       "    </tr>\n",
       "    <tr>\n",
       "      <th>9998</th>\n",
       "      <td>772</td>\n",
       "      <td>Germany</td>\n",
       "      <td>Male</td>\n",
       "      <td>42</td>\n",
       "      <td>3.0</td>\n",
       "      <td>75075.31</td>\n",
       "      <td>2</td>\n",
       "      <td>1</td>\n",
       "      <td>0</td>\n",
       "      <td>92888.52</td>\n",
       "      <td>1</td>\n",
       "    </tr>\n",
       "    <tr>\n",
       "      <th>9999</th>\n",
       "      <td>792</td>\n",
       "      <td>France</td>\n",
       "      <td>Female</td>\n",
       "      <td>28</td>\n",
       "      <td>5.0</td>\n",
       "      <td>130142.79</td>\n",
       "      <td>1</td>\n",
       "      <td>1</td>\n",
       "      <td>0</td>\n",
       "      <td>38190.78</td>\n",
       "      <td>0</td>\n",
       "    </tr>\n",
       "  </tbody>\n",
       "</table>\n",
       "<p>10000 rows × 11 columns</p>\n",
       "</div>"
      ],
      "text/plain": [
       "      CreditScore Geography  Gender  Age  Tenure    Balance  NumOfProducts  \\\n",
       "0             619    France  Female   42     2.0       0.00              1   \n",
       "1             608     Spain  Female   41     1.0   83807.86              1   \n",
       "2             502    France  Female   42     8.0  159660.80              3   \n",
       "3             699    France  Female   39     1.0       0.00              2   \n",
       "4             850     Spain  Female   43     2.0  125510.82              1   \n",
       "...           ...       ...     ...  ...     ...        ...            ...   \n",
       "9995          771    France    Male   39     5.0       0.00              2   \n",
       "9996          516    France    Male   35    10.0   57369.61              1   \n",
       "9997          709    France  Female   36     7.0       0.00              1   \n",
       "9998          772   Germany    Male   42     3.0   75075.31              2   \n",
       "9999          792    France  Female   28     5.0  130142.79              1   \n",
       "\n",
       "      HasCrCard  IsActiveMember  EstimatedSalary  Exited  \n",
       "0             1               1        101348.88       1  \n",
       "1             0               1        112542.58       0  \n",
       "2             1               0        113931.57       1  \n",
       "3             0               0         93826.63       0  \n",
       "4             1               1         79084.10       0  \n",
       "...         ...             ...              ...     ...  \n",
       "9995          1               0         96270.64       0  \n",
       "9996          1               1        101699.77       0  \n",
       "9997          0               1         42085.58       1  \n",
       "9998          1               0         92888.52       1  \n",
       "9999          1               0         38190.78       0  \n",
       "\n",
       "[10000 rows x 11 columns]"
      ]
     },
     "metadata": {},
     "output_type": "display_data"
    }
   ],
   "source": [
    "display(df)"
   ]
  },
  {
   "cell_type": "code",
   "execution_count": 9,
   "metadata": {},
   "outputs": [
    {
     "data": {
      "text/html": [
       "<div>\n",
       "<style scoped>\n",
       "    .dataframe tbody tr th:only-of-type {\n",
       "        vertical-align: middle;\n",
       "    }\n",
       "\n",
       "    .dataframe tbody tr th {\n",
       "        vertical-align: top;\n",
       "    }\n",
       "\n",
       "    .dataframe thead th {\n",
       "        text-align: right;\n",
       "    }\n",
       "</style>\n",
       "<table border=\"1\" class=\"dataframe\">\n",
       "  <thead>\n",
       "    <tr style=\"text-align: right;\">\n",
       "      <th></th>\n",
       "      <th>CreditScore</th>\n",
       "      <th>Geography</th>\n",
       "      <th>Gender</th>\n",
       "      <th>Age</th>\n",
       "      <th>Tenure</th>\n",
       "      <th>Balance</th>\n",
       "      <th>NumOfProducts</th>\n",
       "      <th>HasCrCard</th>\n",
       "      <th>IsActiveMember</th>\n",
       "      <th>EstimatedSalary</th>\n",
       "      <th>Exited</th>\n",
       "    </tr>\n",
       "  </thead>\n",
       "  <tbody>\n",
       "    <tr>\n",
       "      <th>0</th>\n",
       "      <td>619</td>\n",
       "      <td>France</td>\n",
       "      <td>Female</td>\n",
       "      <td>42</td>\n",
       "      <td>2.0</td>\n",
       "      <td>0.00</td>\n",
       "      <td>1</td>\n",
       "      <td>1</td>\n",
       "      <td>1</td>\n",
       "      <td>101348.88</td>\n",
       "      <td>1</td>\n",
       "    </tr>\n",
       "    <tr>\n",
       "      <th>1</th>\n",
       "      <td>608</td>\n",
       "      <td>Spain</td>\n",
       "      <td>Female</td>\n",
       "      <td>41</td>\n",
       "      <td>1.0</td>\n",
       "      <td>83807.86</td>\n",
       "      <td>1</td>\n",
       "      <td>0</td>\n",
       "      <td>1</td>\n",
       "      <td>112542.58</td>\n",
       "      <td>0</td>\n",
       "    </tr>\n",
       "    <tr>\n",
       "      <th>2</th>\n",
       "      <td>502</td>\n",
       "      <td>France</td>\n",
       "      <td>Female</td>\n",
       "      <td>42</td>\n",
       "      <td>8.0</td>\n",
       "      <td>159660.80</td>\n",
       "      <td>3</td>\n",
       "      <td>1</td>\n",
       "      <td>0</td>\n",
       "      <td>113931.57</td>\n",
       "      <td>1</td>\n",
       "    </tr>\n",
       "    <tr>\n",
       "      <th>3</th>\n",
       "      <td>699</td>\n",
       "      <td>France</td>\n",
       "      <td>Female</td>\n",
       "      <td>39</td>\n",
       "      <td>1.0</td>\n",
       "      <td>0.00</td>\n",
       "      <td>2</td>\n",
       "      <td>0</td>\n",
       "      <td>0</td>\n",
       "      <td>93826.63</td>\n",
       "      <td>0</td>\n",
       "    </tr>\n",
       "    <tr>\n",
       "      <th>4</th>\n",
       "      <td>850</td>\n",
       "      <td>Spain</td>\n",
       "      <td>Female</td>\n",
       "      <td>43</td>\n",
       "      <td>2.0</td>\n",
       "      <td>125510.82</td>\n",
       "      <td>1</td>\n",
       "      <td>1</td>\n",
       "      <td>1</td>\n",
       "      <td>79084.10</td>\n",
       "      <td>0</td>\n",
       "    </tr>\n",
       "    <tr>\n",
       "      <th>...</th>\n",
       "      <td>...</td>\n",
       "      <td>...</td>\n",
       "      <td>...</td>\n",
       "      <td>...</td>\n",
       "      <td>...</td>\n",
       "      <td>...</td>\n",
       "      <td>...</td>\n",
       "      <td>...</td>\n",
       "      <td>...</td>\n",
       "      <td>...</td>\n",
       "      <td>...</td>\n",
       "    </tr>\n",
       "    <tr>\n",
       "      <th>9995</th>\n",
       "      <td>771</td>\n",
       "      <td>France</td>\n",
       "      <td>Male</td>\n",
       "      <td>39</td>\n",
       "      <td>5.0</td>\n",
       "      <td>0.00</td>\n",
       "      <td>2</td>\n",
       "      <td>1</td>\n",
       "      <td>0</td>\n",
       "      <td>96270.64</td>\n",
       "      <td>0</td>\n",
       "    </tr>\n",
       "    <tr>\n",
       "      <th>9996</th>\n",
       "      <td>516</td>\n",
       "      <td>France</td>\n",
       "      <td>Male</td>\n",
       "      <td>35</td>\n",
       "      <td>10.0</td>\n",
       "      <td>57369.61</td>\n",
       "      <td>1</td>\n",
       "      <td>1</td>\n",
       "      <td>1</td>\n",
       "      <td>101699.77</td>\n",
       "      <td>0</td>\n",
       "    </tr>\n",
       "    <tr>\n",
       "      <th>9997</th>\n",
       "      <td>709</td>\n",
       "      <td>France</td>\n",
       "      <td>Female</td>\n",
       "      <td>36</td>\n",
       "      <td>7.0</td>\n",
       "      <td>0.00</td>\n",
       "      <td>1</td>\n",
       "      <td>0</td>\n",
       "      <td>1</td>\n",
       "      <td>42085.58</td>\n",
       "      <td>1</td>\n",
       "    </tr>\n",
       "    <tr>\n",
       "      <th>9998</th>\n",
       "      <td>772</td>\n",
       "      <td>Germany</td>\n",
       "      <td>Male</td>\n",
       "      <td>42</td>\n",
       "      <td>3.0</td>\n",
       "      <td>75075.31</td>\n",
       "      <td>2</td>\n",
       "      <td>1</td>\n",
       "      <td>0</td>\n",
       "      <td>92888.52</td>\n",
       "      <td>1</td>\n",
       "    </tr>\n",
       "    <tr>\n",
       "      <th>9999</th>\n",
       "      <td>792</td>\n",
       "      <td>France</td>\n",
       "      <td>Female</td>\n",
       "      <td>28</td>\n",
       "      <td>5.0</td>\n",
       "      <td>130142.79</td>\n",
       "      <td>1</td>\n",
       "      <td>1</td>\n",
       "      <td>0</td>\n",
       "      <td>38190.78</td>\n",
       "      <td>0</td>\n",
       "    </tr>\n",
       "  </tbody>\n",
       "</table>\n",
       "<p>10000 rows × 11 columns</p>\n",
       "</div>"
      ],
      "text/plain": [
       "      CreditScore Geography  Gender  Age  Tenure    Balance  NumOfProducts  \\\n",
       "0             619    France  Female   42     2.0       0.00              1   \n",
       "1             608     Spain  Female   41     1.0   83807.86              1   \n",
       "2             502    France  Female   42     8.0  159660.80              3   \n",
       "3             699    France  Female   39     1.0       0.00              2   \n",
       "4             850     Spain  Female   43     2.0  125510.82              1   \n",
       "...           ...       ...     ...  ...     ...        ...            ...   \n",
       "9995          771    France    Male   39     5.0       0.00              2   \n",
       "9996          516    France    Male   35    10.0   57369.61              1   \n",
       "9997          709    France  Female   36     7.0       0.00              1   \n",
       "9998          772   Germany    Male   42     3.0   75075.31              2   \n",
       "9999          792    France  Female   28     5.0  130142.79              1   \n",
       "\n",
       "      HasCrCard  IsActiveMember  EstimatedSalary  Exited  \n",
       "0             1               1        101348.88       1  \n",
       "1             0               1        112542.58       0  \n",
       "2             1               0        113931.57       1  \n",
       "3             0               0         93826.63       0  \n",
       "4             1               1         79084.10       0  \n",
       "...         ...             ...              ...     ...  \n",
       "9995          1               0         96270.64       0  \n",
       "9996          1               1        101699.77       0  \n",
       "9997          0               1         42085.58       1  \n",
       "9998          1               0         92888.52       1  \n",
       "9999          1               0         38190.78       0  \n",
       "\n",
       "[10000 rows x 11 columns]"
      ]
     },
     "execution_count": 9,
     "metadata": {},
     "output_type": "execute_result"
    }
   ],
   "source": [
    "df"
   ]
  },
  {
   "cell_type": "code",
   "execution_count": 10,
   "metadata": {},
   "outputs": [],
   "source": [
    "target = df['Exited']\n",
    "features = df.drop(['Exited'], axis=1)"
   ]
  },
  {
   "cell_type": "code",
   "execution_count": 11,
   "metadata": {},
   "outputs": [],
   "source": [
    "X_train, X_s, y_train, y_s = train_test_split(features, target, test_size=0.4, random_state=7)\n",
    "X_valid, X_test, y_valid, y_test = train_test_split(X_s, y_s, test_size=0.5, random_state=7)"
   ]
  },
  {
   "cell_type": "code",
   "execution_count": 12,
   "metadata": {},
   "outputs": [
    {
     "data": {
      "text/plain": [
       "(6000, 10)"
      ]
     },
     "execution_count": 12,
     "metadata": {},
     "output_type": "execute_result"
    }
   ],
   "source": [
    "X_train.shape"
   ]
  },
  {
   "cell_type": "code",
   "execution_count": 13,
   "metadata": {},
   "outputs": [
    {
     "data": {
      "text/plain": [
       "(2000, 10)"
      ]
     },
     "execution_count": 13,
     "metadata": {},
     "output_type": "execute_result"
    }
   ],
   "source": [
    "X_valid.shape"
   ]
  },
  {
   "cell_type": "code",
   "execution_count": 14,
   "metadata": {},
   "outputs": [
    {
     "data": {
      "text/plain": [
       "(2000, 10)"
      ]
     },
     "execution_count": 14,
     "metadata": {},
     "output_type": "execute_result"
    }
   ],
   "source": [
    "X_test.shape"
   ]
  },
  {
   "cell_type": "code",
   "execution_count": 15,
   "metadata": {},
   "outputs": [
    {
     "data": {
      "text/plain": [
       "(6000,)"
      ]
     },
     "execution_count": 15,
     "metadata": {},
     "output_type": "execute_result"
    }
   ],
   "source": [
    "y_train.shape"
   ]
  },
  {
   "cell_type": "code",
   "execution_count": 16,
   "metadata": {},
   "outputs": [
    {
     "data": {
      "text/plain": [
       "(2000,)"
      ]
     },
     "execution_count": 16,
     "metadata": {},
     "output_type": "execute_result"
    }
   ],
   "source": [
    "y_valid.shape"
   ]
  },
  {
   "cell_type": "code",
   "execution_count": 17,
   "metadata": {},
   "outputs": [
    {
     "data": {
      "text/plain": [
       "(2000,)"
      ]
     },
     "execution_count": 17,
     "metadata": {},
     "output_type": "execute_result"
    }
   ],
   "source": [
    "y_test.shape"
   ]
  },
  {
   "cell_type": "code",
   "execution_count": 18,
   "metadata": {},
   "outputs": [],
   "source": [
    "num=['CreditScore', 'Age', 'Balance', 'EstimatedSalary', 'Tenure']\n",
    "scaler = StandardScaler()\n",
    "scaler.fit(X_train[num])\n",
    "X_train[num] = scaler.transform(X_train[num])\n",
    "X_valid[num] = scaler.transform(X_valid[num])\n",
    "X_test[num] = scaler.transform(X_test[num])"
   ]
  },
  {
   "cell_type": "code",
   "execution_count": 19,
   "metadata": {},
   "outputs": [],
   "source": [
    "name = ['Geography', 'Gender']\n",
    "encoder_ohe = OneHotEncoder(drop='first', handle_unknown='ignore', sparse=False)\n",
    "\n",
    "encoder_ohe.fit(X_train[name])\n",
    "\n",
    "X_train[encoder_ohe.get_feature_names_out()] = encoder_ohe.transform(X_train[name])\n",
    "X_valid[encoder_ohe.get_feature_names_out()] = encoder_ohe.transform(X_valid[name])\n",
    "X_test[encoder_ohe.get_feature_names_out()] = encoder_ohe.transform(X_test[name])\n",
    "\n",
    "X_train = X_train.drop(name, axis=1)\n",
    "X_valid = X_valid.drop(name, axis=1)\n",
    "X_test = X_test.drop(name, axis=1)\n"
   ]
  },
  {
   "cell_type": "code",
   "execution_count": 20,
   "metadata": {},
   "outputs": [
    {
     "data": {
      "text/html": [
       "<div>\n",
       "<style scoped>\n",
       "    .dataframe tbody tr th:only-of-type {\n",
       "        vertical-align: middle;\n",
       "    }\n",
       "\n",
       "    .dataframe tbody tr th {\n",
       "        vertical-align: top;\n",
       "    }\n",
       "\n",
       "    .dataframe thead th {\n",
       "        text-align: right;\n",
       "    }\n",
       "</style>\n",
       "<table border=\"1\" class=\"dataframe\">\n",
       "  <thead>\n",
       "    <tr style=\"text-align: right;\">\n",
       "      <th></th>\n",
       "      <th>CreditScore</th>\n",
       "      <th>Age</th>\n",
       "      <th>Tenure</th>\n",
       "      <th>Balance</th>\n",
       "      <th>NumOfProducts</th>\n",
       "      <th>HasCrCard</th>\n",
       "      <th>IsActiveMember</th>\n",
       "      <th>EstimatedSalary</th>\n",
       "      <th>Geography_Germany</th>\n",
       "      <th>Geography_Spain</th>\n",
       "      <th>Gender_Male</th>\n",
       "    </tr>\n",
       "  </thead>\n",
       "  <tbody>\n",
       "    <tr>\n",
       "      <th>8050</th>\n",
       "      <td>0.584215</td>\n",
       "      <td>-0.562414</td>\n",
       "      <td>-1.089514</td>\n",
       "      <td>-1.242622</td>\n",
       "      <td>2</td>\n",
       "      <td>0</td>\n",
       "      <td>0</td>\n",
       "      <td>0.532607</td>\n",
       "      <td>0.0</td>\n",
       "      <td>0.0</td>\n",
       "      <td>1.0</td>\n",
       "    </tr>\n",
       "    <tr>\n",
       "      <th>1265</th>\n",
       "      <td>-1.217221</td>\n",
       "      <td>1.533243</td>\n",
       "      <td>-0.009659</td>\n",
       "      <td>0.633982</td>\n",
       "      <td>3</td>\n",
       "      <td>1</td>\n",
       "      <td>0</td>\n",
       "      <td>0.380518</td>\n",
       "      <td>0.0</td>\n",
       "      <td>0.0</td>\n",
       "      <td>0.0</td>\n",
       "    </tr>\n",
       "    <tr>\n",
       "      <th>961</th>\n",
       "      <td>0.355131</td>\n",
       "      <td>-0.371900</td>\n",
       "      <td>-0.009659</td>\n",
       "      <td>0.970488</td>\n",
       "      <td>1</td>\n",
       "      <td>1</td>\n",
       "      <td>0</td>\n",
       "      <td>0.234886</td>\n",
       "      <td>0.0</td>\n",
       "      <td>1.0</td>\n",
       "      <td>1.0</td>\n",
       "    </tr>\n",
       "    <tr>\n",
       "      <th>2510</th>\n",
       "      <td>-0.269644</td>\n",
       "      <td>1.247471</td>\n",
       "      <td>-1.089514</td>\n",
       "      <td>0.032300</td>\n",
       "      <td>1</td>\n",
       "      <td>1</td>\n",
       "      <td>1</td>\n",
       "      <td>-0.266872</td>\n",
       "      <td>0.0</td>\n",
       "      <td>0.0</td>\n",
       "      <td>0.0</td>\n",
       "    </tr>\n",
       "    <tr>\n",
       "      <th>8628</th>\n",
       "      <td>0.552977</td>\n",
       "      <td>0.485414</td>\n",
       "      <td>-0.729562</td>\n",
       "      <td>-1.242622</td>\n",
       "      <td>2</td>\n",
       "      <td>0</td>\n",
       "      <td>1</td>\n",
       "      <td>0.913119</td>\n",
       "      <td>0.0</td>\n",
       "      <td>0.0</td>\n",
       "      <td>1.0</td>\n",
       "    </tr>\n",
       "    <tr>\n",
       "      <th>...</th>\n",
       "      <td>...</td>\n",
       "      <td>...</td>\n",
       "      <td>...</td>\n",
       "      <td>...</td>\n",
       "      <td>...</td>\n",
       "      <td>...</td>\n",
       "      <td>...</td>\n",
       "      <td>...</td>\n",
       "      <td>...</td>\n",
       "      <td>...</td>\n",
       "      <td>...</td>\n",
       "    </tr>\n",
       "    <tr>\n",
       "      <th>919</th>\n",
       "      <td>-1.029788</td>\n",
       "      <td>0.580671</td>\n",
       "      <td>1.430149</td>\n",
       "      <td>-1.242622</td>\n",
       "      <td>2</td>\n",
       "      <td>1</td>\n",
       "      <td>0</td>\n",
       "      <td>-1.266692</td>\n",
       "      <td>0.0</td>\n",
       "      <td>1.0</td>\n",
       "      <td>1.0</td>\n",
       "    </tr>\n",
       "    <tr>\n",
       "      <th>4307</th>\n",
       "      <td>1.240230</td>\n",
       "      <td>0.675929</td>\n",
       "      <td>1.430149</td>\n",
       "      <td>1.816428</td>\n",
       "      <td>1</td>\n",
       "      <td>1</td>\n",
       "      <td>1</td>\n",
       "      <td>-1.474546</td>\n",
       "      <td>0.0</td>\n",
       "      <td>1.0</td>\n",
       "      <td>1.0</td>\n",
       "    </tr>\n",
       "    <tr>\n",
       "      <th>5699</th>\n",
       "      <td>0.344718</td>\n",
       "      <td>-0.371900</td>\n",
       "      <td>0.350293</td>\n",
       "      <td>0.937167</td>\n",
       "      <td>1</td>\n",
       "      <td>1</td>\n",
       "      <td>1</td>\n",
       "      <td>-0.221707</td>\n",
       "      <td>0.0</td>\n",
       "      <td>0.0</td>\n",
       "      <td>1.0</td>\n",
       "    </tr>\n",
       "    <tr>\n",
       "      <th>537</th>\n",
       "      <td>0.365544</td>\n",
       "      <td>-0.467157</td>\n",
       "      <td>1.430149</td>\n",
       "      <td>-1.242622</td>\n",
       "      <td>2</td>\n",
       "      <td>1</td>\n",
       "      <td>0</td>\n",
       "      <td>0.475626</td>\n",
       "      <td>0.0</td>\n",
       "      <td>1.0</td>\n",
       "      <td>1.0</td>\n",
       "    </tr>\n",
       "    <tr>\n",
       "      <th>9412</th>\n",
       "      <td>0.771648</td>\n",
       "      <td>-1.229214</td>\n",
       "      <td>0.350293</td>\n",
       "      <td>0.340569</td>\n",
       "      <td>1</td>\n",
       "      <td>0</td>\n",
       "      <td>0</td>\n",
       "      <td>0.581923</td>\n",
       "      <td>0.0</td>\n",
       "      <td>0.0</td>\n",
       "      <td>1.0</td>\n",
       "    </tr>\n",
       "  </tbody>\n",
       "</table>\n",
       "<p>6000 rows × 11 columns</p>\n",
       "</div>"
      ],
      "text/plain": [
       "      CreditScore       Age    Tenure   Balance  NumOfProducts  HasCrCard  \\\n",
       "8050     0.584215 -0.562414 -1.089514 -1.242622              2          0   \n",
       "1265    -1.217221  1.533243 -0.009659  0.633982              3          1   \n",
       "961      0.355131 -0.371900 -0.009659  0.970488              1          1   \n",
       "2510    -0.269644  1.247471 -1.089514  0.032300              1          1   \n",
       "8628     0.552977  0.485414 -0.729562 -1.242622              2          0   \n",
       "...           ...       ...       ...       ...            ...        ...   \n",
       "919     -1.029788  0.580671  1.430149 -1.242622              2          1   \n",
       "4307     1.240230  0.675929  1.430149  1.816428              1          1   \n",
       "5699     0.344718 -0.371900  0.350293  0.937167              1          1   \n",
       "537      0.365544 -0.467157  1.430149 -1.242622              2          1   \n",
       "9412     0.771648 -1.229214  0.350293  0.340569              1          0   \n",
       "\n",
       "      IsActiveMember  EstimatedSalary  Geography_Germany  Geography_Spain  \\\n",
       "8050               0         0.532607                0.0              0.0   \n",
       "1265               0         0.380518                0.0              0.0   \n",
       "961                0         0.234886                0.0              1.0   \n",
       "2510               1        -0.266872                0.0              0.0   \n",
       "8628               1         0.913119                0.0              0.0   \n",
       "...              ...              ...                ...              ...   \n",
       "919                0        -1.266692                0.0              1.0   \n",
       "4307               1        -1.474546                0.0              1.0   \n",
       "5699               1        -0.221707                0.0              0.0   \n",
       "537                0         0.475626                0.0              1.0   \n",
       "9412               0         0.581923                0.0              0.0   \n",
       "\n",
       "      Gender_Male  \n",
       "8050          1.0  \n",
       "1265          0.0  \n",
       "961           1.0  \n",
       "2510          0.0  \n",
       "8628          1.0  \n",
       "...           ...  \n",
       "919           1.0  \n",
       "4307          1.0  \n",
       "5699          1.0  \n",
       "537           1.0  \n",
       "9412          1.0  \n",
       "\n",
       "[6000 rows x 11 columns]"
      ]
     },
     "execution_count": 20,
     "metadata": {},
     "output_type": "execute_result"
    }
   ],
   "source": [
    "X_train"
   ]
  },
  {
   "cell_type": "code",
   "execution_count": 21,
   "metadata": {},
   "outputs": [
    {
     "data": {
      "text/plain": [
       "0    7963\n",
       "1    2037\n",
       "Name: Exited, dtype: int64"
      ]
     },
     "execution_count": 21,
     "metadata": {},
     "output_type": "execute_result"
    }
   ],
   "source": [
    "df['Exited'].value_counts()"
   ]
  },
  {
   "cell_type": "code",
   "execution_count": 22,
   "metadata": {},
   "outputs": [
    {
     "data": {
      "image/png": "[encoded data removed]",
      "text/plain": [
       "<Figure size 432x288 with 1 Axes>"
      ]
     },
     "metadata": {
      "needs_background": "light"
     },
     "output_type": "display_data"
    }
   ],
   "source": [
    "df['Exited'].value_counts().plot(kind='bar');"
   ]
  },
  {
   "cell_type": "markdown",
   "metadata": {},
   "source": [
    "### Вывод:\n",
    "1. **Загрузили и изучили данные:**\n",
    "   * Заметили пропуски в столбце `Tenure`, заменили на медиану.\n",
    "   * Удалили столбцы `RowNumber`, `CustomerId`, `Surname`, т.к. они не дают никакой информации для нашего исследования.\n",
    "   * Методом OHE преобразовали столбцы `Geography`, `Gender`.\n",
    "   * Стандартизировали столбцы `CreditScore`, `Age`, `Balance`, `EstimatedSalary`, `Tenure`.  \n",
    "2. **После изучения данных сформировали три выборки для проведения исследований.**\n",
    "   * X_train, y_train - Обучающаяя выборка (60%)\n",
    "   * X_valoid, y_valid - Валидационная выборка (20%)\n",
    "   * X_test, y_test - Тестовая выборка (20%)\n",
    "3. **Так же изучили дисбаланс классов**\n",
    "   * 0 - 7963  \n",
    "     1 - 2037  \n",
    "     Соотношение 4:1 (запомним для борьбы с дисбалансом)"
   ]
  },
  {
   "cell_type": "markdown",
   "metadata": {},
   "source": [
    "## Исследование задачи"
   ]
  },
  {
   "cell_type": "markdown",
   "metadata": {},
   "source": [
    "Строим модели не избавившись от дисбаланса.   \n",
    "Используем три модели:\n",
    "1. Случайный лес.\n",
    "2. Логистическая регрессия. \n",
    "3. Дерево решений. "
   ]
  },
  {
   "cell_type": "markdown",
   "metadata": {},
   "source": [
    "### Random Forest"
   ]
  },
  {
   "cell_type": "code",
   "execution_count": 23,
   "metadata": {},
   "outputs": [
    {
     "name": "stdout",
     "output_type": "stream",
     "text": [
      "Случайные лес, лучшие показатели:\n",
      "Число деревьев: 91\n",
      "Глубина древа: 50\n"
     ]
    }
   ],
   "source": [
    "F1_best = 0\n",
    "for depth in range(1, 51):\n",
    "    for est in range(1, 101, 10):\n",
    "        model = RandomForestClassifier(n_estimators = est, max_depth = depth, random_state=7)\n",
    "        model.fit(X_train, y_train)\n",
    "        z_valid = model.predict(X_valid)\n",
    "        f1 = f1_score(y_valid, z_valid)\n",
    "        if f1 > F1_best:\n",
    "            best_depth = depth\n",
    "            best_est = est\n",
    "            F1_best = f1\n",
    "                \n",
    "print('Случайные лес, лучшие показатели:')\n",
    "print('Число деревьев:', est)\n",
    "print('Глубина древа:', depth)"
   ]
  },
  {
   "cell_type": "code",
   "execution_count": 24,
   "metadata": {},
   "outputs": [
    {
     "name": "stdout",
     "output_type": "stream",
     "text": [
      "Accuracy_random: 0.8655\n",
      "Recall_random: 0.4609571788413098\n",
      "Precision_random: 0.7689075630252101\n",
      "F1_random: 0.5763779527559055\n"
     ]
    }
   ],
   "source": [
    "model_random = RandomForestClassifier(n_estimators = 91, max_depth = 50, random_state=7)\n",
    "model_random.fit(X_train, y_train)\n",
    "z_valid_random = model_random.predict(X_valid)\n",
    "print(\"Accuracy_random:\", accuracy_score(y_valid, z_valid_random))\n",
    "print(\"Recall_random:\", recall_score(y_valid, z_valid_random))\n",
    "print(\"Precision_random:\", precision_score(y_valid, z_valid_random))\n",
    "print(\"F1_random:\", f1_score(y_valid, z_valid_random))"
   ]
  },
  {
   "cell_type": "code",
   "execution_count": 25,
   "metadata": {},
   "outputs": [
    {
     "data": {
      "text/plain": [
       "array([[1548,   55],\n",
       "       [ 214,  183]])"
      ]
     },
     "metadata": {},
     "output_type": "display_data"
    }
   ],
   "source": [
    "display(confusion_matrix(y_valid, z_valid_random))"
   ]
  },
  {
   "cell_type": "markdown",
   "metadata": {},
   "source": [
    "### Logistic Regression"
   ]
  },
  {
   "cell_type": "code",
   "execution_count": 26,
   "metadata": {},
   "outputs": [
    {
     "name": "stdout",
     "output_type": "stream",
     "text": [
      "Accuracy_log: 0.814\n",
      "Recall_log: 0.20906801007556675\n",
      "Precision_log: 0.5886524822695035\n",
      "F1_log: 0.30855018587360594\n"
     ]
    }
   ],
   "source": [
    "model_log = LogisticRegression(random_state = 7, solver = 'liblinear')\n",
    "model_log.fit(X_train, y_train)\n",
    "z_valid_log = model_log.predict(X_valid)\n",
    "print(\"Accuracy_log:\", accuracy_score(y_valid, z_valid_log))\n",
    "print(\"Recall_log:\", recall_score(y_valid, z_valid_log))\n",
    "print(\"Precision_log:\", precision_score(y_valid, z_valid_log))\n",
    "print(\"F1_log:\", f1_score(y_valid, z_valid_log))"
   ]
  },
  {
   "cell_type": "code",
   "execution_count": 27,
   "metadata": {},
   "outputs": [
    {
     "data": {
      "text/plain": [
       "array([[1545,   58],\n",
       "       [ 314,   83]])"
      ]
     },
     "metadata": {},
     "output_type": "display_data"
    }
   ],
   "source": [
    "display(confusion_matrix(y_valid, z_valid_log))"
   ]
  },
  {
   "cell_type": "markdown",
   "metadata": {},
   "source": [
    "### Decision Tree"
   ]
  },
  {
   "cell_type": "code",
   "execution_count": 28,
   "metadata": {},
   "outputs": [
    {
     "name": "stdout",
     "output_type": "stream",
     "text": [
      "Древо решений, лучшие показатели:\n",
      "Глубина древа: 50\n"
     ]
    }
   ],
   "source": [
    "F1_best = 0\n",
    "for depth in range(1, 51):\n",
    "    model = DecisionTreeClassifier(max_depth = depth, random_state = 7)\n",
    "    model.fit(X_train, y_train)\n",
    "    z_valid = model.predict(X_valid)\n",
    "    f1 = f1_score(y_valid, z_valid)\n",
    "    if f1 > F1_best:\n",
    "        model_dec = model\n",
    "        best_depth = depth\n",
    "        F1_best = f1\n",
    "\n",
    "print('Древо решений, лучшие показатели:')\n",
    "print('Глубина древа:', depth)"
   ]
  },
  {
   "cell_type": "code",
   "execution_count": 29,
   "metadata": {},
   "outputs": [
    {
     "name": "stdout",
     "output_type": "stream",
     "text": [
      "Accuracy_dec: 0.792\n",
      "Recall_dec: 0.5289672544080605\n",
      "Precision_dec: 0.4783599088838269\n",
      "F1_dec: 0.5023923444976077\n"
     ]
    }
   ],
   "source": [
    "model_dec =  DecisionTreeClassifier(max_depth = 50, random_state = 7)\n",
    "model_dec.fit(X_train, y_train)\n",
    "z_valid_dec = model_dec.predict(X_valid)\n",
    "print(\"Accuracy_dec:\", accuracy_score(y_valid, z_valid_dec))\n",
    "print(\"Recall_dec:\", recall_score(y_valid, z_valid_dec))\n",
    "print(\"Precision_dec:\", precision_score(y_valid, z_valid_dec))\n",
    "print(\"F1_dec:\", f1_score(y_valid, z_valid_dec))"
   ]
  },
  {
   "cell_type": "code",
   "execution_count": 30,
   "metadata": {},
   "outputs": [
    {
     "data": {
      "text/plain": [
       "array([[1374,  229],\n",
       "       [ 187,  210]])"
      ]
     },
     "metadata": {},
     "output_type": "display_data"
    }
   ],
   "source": [
    "display(confusion_matrix(y_valid, z_valid_dec))"
   ]
  },
  {
   "cell_type": "markdown",
   "metadata": {},
   "source": [
    "### Вывод: \n",
    "Лучший показатель F1 Показала модель случайного леса: **0.57**  \n",
    "Затем идем модель древа решений: **0.48**  \n",
    "Худший показатель у логичстической регрессии: **0.30**. \n",
    "    \n",
    "Даже с дисбалансом мы имеем высокий Accuracy от 0.78 до 0.86.  "
   ]
  },
  {
   "cell_type": "markdown",
   "metadata": {},
   "source": [
    "## Борьба с дисбалансом "
   ]
  },
  {
   "cell_type": "markdown",
   "metadata": {},
   "source": [
    "Бороться с дисбалансом будем 3 способами:\n",
    "1. Взвешивание классов. \n",
    "2. Увеличение выборки (в 4 раза).\n",
    "3. Уменьшение выборки (в 4 раза)."
   ]
  },
  {
   "cell_type": "markdown",
   "metadata": {},
   "source": [
    "### Взвешивание классов. (Random Forest)"
   ]
  },
  {
   "cell_type": "code",
   "execution_count": 49,
   "metadata": {},
   "outputs": [
    {
     "name": "stdout",
     "output_type": "stream",
     "text": [
      "Случайные лес, лучшие показатели:\n",
      "Число деревьев: 91\n",
      "Глубина древа: 50\n"
     ]
    }
   ],
   "source": [
    "F1_best = 0\n",
    "for depth in range(1, 51):\n",
    "    for est in range(1, 101, 10):\n",
    "        model = RandomForestClassifier(n_estimators = est, max_depth = depth, random_state=7, class_weight='balanced')\n",
    "        model.fit(X_train, y_train)\n",
    "        z_valid = model.predict(X_valid)\n",
    "        f1 = f1_score(y_valid, z_valid)\n",
    "        if f1 > F1_best:\n",
    "            best_depth = depth\n",
    "            best_est = est\n",
    "            F1_best = f1\n",
    "                \n",
    "print('Случайные лес, лучшие показатели:')\n",
    "print('Число деревьев:', est)\n",
    "print('Глубина древа:', depth)"
   ]
  },
  {
   "cell_type": "code",
   "execution_count": 31,
   "metadata": {},
   "outputs": [
    {
     "name": "stdout",
     "output_type": "stream",
     "text": [
      "Accuracy_random: 0.865\n",
      "Recall_random: 0.44836272040302266\n",
      "Precision_random: 0.777292576419214\n",
      "F1_random: 0.5686900958466453\n",
      "AUC-ROC: 0.8540174201080781\n"
     ]
    }
   ],
   "source": [
    "model_random = RandomForestClassifier(n_estimators = 91, max_depth = 50, random_state=7, class_weight='balanced')\n",
    "model_random.fit(X_train, y_train)\n",
    "z_valid_random = model_random.predict(X_valid)\n",
    "probabilities_valid = model_random.predict_proba(X_valid)\n",
    "probabilities_one_valid = probabilities_valid[:, 1]\n",
    "print(\"Accuracy_random:\", accuracy_score(y_valid, z_valid_random))\n",
    "print(\"Recall_random:\", recall_score(y_valid, z_valid_random))\n",
    "print(\"Precision_random:\", precision_score(y_valid, z_valid_random))\n",
    "print(\"F1_random:\", f1_score(y_valid, z_valid_random))\n",
    "print('AUC-ROC:', roc_auc_score(y_valid, probabilities_one_valid))"
   ]
  },
  {
   "cell_type": "markdown",
   "metadata": {},
   "source": [
    "### Взвешивание классов (Logistic Regression)"
   ]
  },
  {
   "cell_type": "code",
   "execution_count": 32,
   "metadata": {},
   "outputs": [
    {
     "name": "stdout",
     "output_type": "stream",
     "text": [
      "Accuracy_log: 0.724\n",
      "Recall_log: 0.7027707808564232\n",
      "Precision_log: 0.391304347826087\n",
      "F1_log: 0.5027027027027028\n",
      "AUC-ROC: 0.7817740979995003\n"
     ]
    }
   ],
   "source": [
    "model_log = LogisticRegression(random_state = 7, solver = 'liblinear', class_weight='balanced')\n",
    "model_log.fit(X_train, y_train)\n",
    "z_valid_log = model_log.predict(X_valid)\n",
    "probabilities_valid = model_log.predict_proba(X_valid)\n",
    "probabilities_one_valid = probabilities_valid[:, 1]\n",
    "print(\"Accuracy_log:\", accuracy_score(y_valid, z_valid_log))\n",
    "print(\"Recall_log:\", recall_score(y_valid, z_valid_log))\n",
    "print(\"Precision_log:\", precision_score(y_valid, z_valid_log))\n",
    "print(\"F1_log:\", f1_score(y_valid, z_valid_log))\n",
    "print('AUC-ROC:', roc_auc_score(y_valid, probabilities_one_valid))"
   ]
  },
  {
   "cell_type": "markdown",
   "metadata": {},
   "source": [
    "### Взвешивание классов (Decision Tree)"
   ]
  },
  {
   "cell_type": "code",
   "execution_count": 50,
   "metadata": {},
   "outputs": [
    {
     "name": "stdout",
     "output_type": "stream",
     "text": [
      "Древо решений, лучшие показатели:\n",
      "Глубина древа: 50\n"
     ]
    }
   ],
   "source": [
    "F1_best = 0\n",
    "for depth in range(1, 51):\n",
    "    model = DecisionTreeClassifier(max_depth = depth, random_state = 7, class_weight='balanced')\n",
    "    model.fit(X_train, y_train)\n",
    "    z_valid = model.predict(X_valid)\n",
    "    f1 = f1_score(y_valid, z_valid)\n",
    "    if f1 > F1_best:\n",
    "        model_dec = model\n",
    "        best_depth = depth\n",
    "        F1_best = f1\n",
    "\n",
    "print('Древо решений, лучшие показатели:')\n",
    "print('Глубина древа:', depth)"
   ]
  },
  {
   "cell_type": "code",
   "execution_count": 33,
   "metadata": {},
   "outputs": [
    {
     "name": "stdout",
     "output_type": "stream",
     "text": [
      "Accuracy_dec: 0.793\n",
      "Recall_dec: 0.5138539042821159\n",
      "Precision_dec: 0.48\n",
      "F1_dec: 0.49635036496350365\n",
      "AUC-ROC: 0.6879937019851003\n"
     ]
    }
   ],
   "source": [
    "model_dec =  DecisionTreeClassifier(max_depth = 50, random_state = 7, class_weight='balanced')\n",
    "model_dec.fit(X_train, y_train)\n",
    "z_valid_dec = model_dec.predict(X_valid)\n",
    "probabilities_valid = model_dec.predict_proba(X_valid)\n",
    "probabilities_one_valid = probabilities_valid[:, 1]\n",
    "print(\"Accuracy_dec:\", accuracy_score(y_valid, z_valid_dec))\n",
    "print(\"Recall_dec:\", recall_score(y_valid, z_valid_dec))\n",
    "print(\"Precision_dec:\", precision_score(y_valid, z_valid_dec))\n",
    "print(\"F1_dec:\", f1_score(y_valid, z_valid_dec))\n",
    "print('AUC-ROC:', roc_auc_score(y_valid, probabilities_one_valid))"
   ]
  },
  {
   "cell_type": "markdown",
   "metadata": {},
   "source": [
    "### Вывод:\n",
    "Взвешивание классов дало увеличение показателя F1 у модели логистической регрессии.  \n",
    "Было **0.30**. Стало **0.50**."
   ]
  },
  {
   "cell_type": "markdown",
   "metadata": {},
   "source": [
    "Пишем функцию для преобразование выборки. "
   ]
  },
  {
   "cell_type": "code",
   "execution_count": 52,
   "metadata": {},
   "outputs": [],
   "source": [
    "def upsample(features, target, repeat):\n",
    "    features_zeros = features[target == 0]\n",
    "    features_ones = features[target == 1]\n",
    "    target_zeros = target[target == 0]\n",
    "    target_ones = target[target == 1]\n",
    "    \n",
    "    X_train_new_up = pd.concat([features_zeros] + [features_ones] * repeat)\n",
    "    y_train_new_up = pd.concat([target_zeros] + [target_ones] * repeat)\n",
    "    \n",
    "        \n",
    "    X_train_up, y_train_up = shuffle(X_train_new_up, y_train_new_up, random_state=7)\n",
    "    \n",
    "    return X_train_up, y_train_up\n",
    "    "
   ]
  },
  {
   "cell_type": "code",
   "execution_count": 54,
   "metadata": {},
   "outputs": [],
   "source": [
    "X_train_up, y_train_up = upsample(X_train, y_train, 4)\n",
    "# При изучении баланса классов, мы выяснили, что отношение классов 4 к 1\n",
    "# Поэтому наш показатель repeat = 4"
   ]
  },
  {
   "cell_type": "markdown",
   "metadata": {},
   "source": [
    "### Увеличение выборки (Random Forest)"
   ]
  },
  {
   "cell_type": "code",
   "execution_count": 55,
   "metadata": {},
   "outputs": [
    {
     "name": "stdout",
     "output_type": "stream",
     "text": [
      "Случайные лес, лучшие показатели:\n",
      "Число деревьев: 91\n",
      "Глубина древа: 50\n"
     ]
    }
   ],
   "source": [
    "F1_best = 0\n",
    "for depth in range(1, 51):\n",
    "    for est in range(1, 101, 10):\n",
    "        model = RandomForestClassifier(n_estimators = est, max_depth = depth, random_state=7)\n",
    "        model.fit(X_train_up, y_train_up)\n",
    "        z_valid = model.predict(X_valid)\n",
    "        f1 = f1_score(y_valid, z_valid)\n",
    "        if f1 > F1_best:\n",
    "            best_depth = depth\n",
    "            best_est = est\n",
    "            F1_best = f1\n",
    "                \n",
    "print('Случайные лес, лучшие показатели:')\n",
    "print('Число деревьев:', est)\n",
    "print('Глубина древа:', depth)"
   ]
  },
  {
   "cell_type": "code",
   "execution_count": 56,
   "metadata": {},
   "outputs": [
    {
     "name": "stdout",
     "output_type": "stream",
     "text": [
      "Accuracy_random: 0.857\n",
      "Recall_random: 0.5541561712846348\n",
      "Precision_random: 0.668693009118541\n",
      "F1_random: 0.6060606060606061\n",
      "AUC-ROC: 0.8542696235490446\n"
     ]
    }
   ],
   "source": [
    "model_random = RandomForestClassifier(n_estimators = 91, max_depth = 50, random_state=7)\n",
    "model_random.fit(X_train_up, y_train_up)\n",
    "z_valid_random = model_random.predict(X_valid)\n",
    "probabilities_valid = model_random.predict_proba(X_valid)\n",
    "probabilities_one_valid = probabilities_valid[:, 1]\n",
    "print(\"Accuracy_random:\", accuracy_score(y_valid, z_valid_random))\n",
    "print(\"Recall_random:\", recall_score(y_valid, z_valid_random))\n",
    "print(\"Precision_random:\", precision_score(y_valid, z_valid_random))\n",
    "print(\"F1_random:\", f1_score(y_valid, z_valid_random))\n",
    "print('AUC-ROC:', roc_auc_score(y_valid, probabilities_one_valid))"
   ]
  },
  {
   "cell_type": "markdown",
   "metadata": {},
   "source": [
    "Первая модель, которая дает нам показатель F1 = 0.60.  \n",
    "При этом показатель AUC-ROC достаточно высок.   \n",
    "Это дает нам основания полагать, что модель является неплохой. "
   ]
  },
  {
   "cell_type": "markdown",
   "metadata": {},
   "source": [
    "### Увеличение выборки (Logistic Regression)"
   ]
  },
  {
   "cell_type": "code",
   "execution_count": 57,
   "metadata": {},
   "outputs": [
    {
     "name": "stdout",
     "output_type": "stream",
     "text": [
      "Accuracy_log: 0.7145\n",
      "Recall_log: 0.7178841309823678\n",
      "Precision_log: 0.38306451612903225\n",
      "F1_log: 0.4995617879053462\n",
      "AUC-ROC: 0.7818008111365498\n"
     ]
    }
   ],
   "source": [
    "model_log = LogisticRegression(random_state = 7, solver = 'liblinear')\n",
    "model_log.fit(X_train_up, y_train_up)\n",
    "z_valid_log = model_log.predict(X_valid)\n",
    "probabilities_valid = model_log.predict_proba(X_valid)\n",
    "probabilities_one_valid = probabilities_valid[:, 1]\n",
    "print(\"Accuracy_log:\", accuracy_score(y_valid, z_valid_log))\n",
    "print(\"Recall_log:\", recall_score(y_valid, z_valid_log))\n",
    "print(\"Precision_log:\", precision_score(y_valid, z_valid_log))\n",
    "print(\"F1_log:\", f1_score(y_valid, z_valid_log))\n",
    "print('AUC-ROC:', roc_auc_score(y_valid, probabilities_one_valid))"
   ]
  },
  {
   "cell_type": "markdown",
   "metadata": {},
   "source": [
    "### Увеличение выборки (Decision Tree)"
   ]
  },
  {
   "cell_type": "code",
   "execution_count": 58,
   "metadata": {},
   "outputs": [
    {
     "name": "stdout",
     "output_type": "stream",
     "text": [
      "Древо решений, лучшие показатели:\n",
      "Глубина древа: 50\n"
     ]
    }
   ],
   "source": [
    "F1_best = 0\n",
    "for depth in range(1, 51):\n",
    "    model = DecisionTreeClassifier(max_depth = depth, random_state = 7)\n",
    "    model.fit(X_train_up, y_train_up)\n",
    "    z_valid = model.predict(X_valid)\n",
    "    f1 = f1_score(y_valid, z_valid)\n",
    "    if f1 > F1_best:\n",
    "        model_dec = model\n",
    "        best_depth = depth\n",
    "        F1_best = f1\n",
    "\n",
    "print('Древо решений, лучшие показатели:')\n",
    "print('Глубина древа:', depth)"
   ]
  },
  {
   "cell_type": "code",
   "execution_count": 59,
   "metadata": {},
   "outputs": [
    {
     "name": "stdout",
     "output_type": "stream",
     "text": [
      "Accuracy_dec: 0.795\n",
      "Recall_dec: 0.5239294710327456\n",
      "Precision_dec: 0.48484848484848486\n",
      "F1_dec: 0.5036319612590799\n",
      "AUC-ROC: 0.6930314853604151\n"
     ]
    }
   ],
   "source": [
    "model_dec =  DecisionTreeClassifier(max_depth = 50, random_state = 7)\n",
    "model_dec.fit(X_train_up, y_train_up)\n",
    "z_valid_dec = model_dec.predict(X_valid)\n",
    "probabilities_valid = model_dec.predict_proba(X_valid)\n",
    "probabilities_one_valid = probabilities_valid[:, 1]\n",
    "print(\"Accuracy_dec:\", accuracy_score(y_valid, z_valid_dec))\n",
    "print(\"Recall_dec:\", recall_score(y_valid, z_valid_dec))\n",
    "print(\"Precision_dec:\", precision_score(y_valid, z_valid_dec))\n",
    "print(\"F1_dec:\", f1_score(y_valid, z_valid_dec))\n",
    "print('AUC-ROC:', roc_auc_score(y_valid, probabilities_one_valid))"
   ]
  },
  {
   "cell_type": "markdown",
   "metadata": {},
   "source": [
    "Пишем функцию для преобразование выборки. "
   ]
  },
  {
   "cell_type": "code",
   "execution_count": 60,
   "metadata": {},
   "outputs": [],
   "source": [
    "def downsample(features, target, fraction):\n",
    "    features_zeros = features[target == 0]\n",
    "    features_ones = features[target == 1]\n",
    "    target_zeros = target[target == 0]\n",
    "    target_ones = target[target == 1]\n",
    "    \n",
    "    X_train_new_down = pd.concat(\n",
    "        [features_zeros.sample(frac=fraction, random_state=12345)] + [features_ones])\n",
    "    y_train_new_down = pd.concat(\n",
    "        [target_zeros.sample(frac=fraction, random_state=12345)] + [target_ones])\n",
    "    \n",
    "        \n",
    "    X_train_down, y_train_down = shuffle(X_train_new_down, y_train_new_down, random_state=12345)\n",
    "    \n",
    "    return X_train_down, y_train_down"
   ]
  },
  {
   "cell_type": "code",
   "execution_count": 61,
   "metadata": {},
   "outputs": [],
   "source": [
    "X_train_down, y_train_down = downsample(X_train, y_train, 0.25)\n",
    "# При изучении баланса классов, мы выяснили, что отношение классов 4 к 1\n",
    "# Поэтому наш показатель repeat = 0.25"
   ]
  },
  {
   "cell_type": "markdown",
   "metadata": {},
   "source": [
    "### Уменьшение выборки (Random Forest)"
   ]
  },
  {
   "cell_type": "code",
   "execution_count": 62,
   "metadata": {},
   "outputs": [
    {
     "name": "stdout",
     "output_type": "stream",
     "text": [
      "Случайные лес, лучшие показатели:\n",
      "Число деревьев: 91\n",
      "Глубина древа: 50\n"
     ]
    }
   ],
   "source": [
    "F1_best = 0\n",
    "for depth in range(1, 51):\n",
    "    for est in range(1, 101, 10):\n",
    "        model = RandomForestClassifier(n_estimators = est, max_depth = depth, random_state=7)\n",
    "        model.fit(X_train_down, y_train_down)\n",
    "        z_valid = model.predict(X_valid)\n",
    "        f1 = f1_score(y_valid, z_valid)\n",
    "        if f1 > F1_best:\n",
    "            best_depth = depth\n",
    "            best_est = est\n",
    "            F1_best = f1\n",
    "                \n",
    "print('Случайные лес, лучшие показатели:')\n",
    "print('Число деревьев:', est)\n",
    "print('Глубина древа:', depth)"
   ]
  },
  {
   "cell_type": "code",
   "execution_count": 63,
   "metadata": {},
   "outputs": [
    {
     "name": "stdout",
     "output_type": "stream",
     "text": [
      "Accuracy_random: 0.777\n",
      "Recall_random: 0.7581863979848866\n",
      "Precision_random: 0.46236559139784944\n",
      "F1_random: 0.5744274809160305\n",
      "AUC-ROC: 0.8540787031871915\n"
     ]
    }
   ],
   "source": [
    "model_random = RandomForestClassifier(n_estimators = 91, max_depth = 50, random_state=7)\n",
    "model_random.fit(X_train_down, y_train_down)\n",
    "z_valid_random = model_random.predict(X_valid)\n",
    "probabilities_valid = model_random.predict_proba(X_valid)\n",
    "probabilities_one_valid = probabilities_valid[:, 1]\n",
    "print(\"Accuracy_random:\", accuracy_score(y_valid, z_valid_random))\n",
    "print(\"Recall_random:\", recall_score(y_valid, z_valid_random))\n",
    "print(\"Precision_random:\", precision_score(y_valid, z_valid_random))\n",
    "print(\"F1_random:\", f1_score(y_valid, z_valid_random))\n",
    "print('AUC-ROC:', roc_auc_score(y_valid, probabilities_one_valid))"
   ]
  },
  {
   "cell_type": "markdown",
   "metadata": {},
   "source": [
    "### Уменьшение выборки (Logistic Regression)"
   ]
  },
  {
   "cell_type": "code",
   "execution_count": 64,
   "metadata": {},
   "outputs": [
    {
     "name": "stdout",
     "output_type": "stream",
     "text": [
      "Accuracy_log: 0.7155\n",
      "Recall_log: 0.7229219143576826\n",
      "Precision_log: 0.3847184986595174\n",
      "F1_log: 0.5021872265966755\n",
      "AUC-ROC: 0.7824639254797758\n"
     ]
    }
   ],
   "source": [
    "model_log = LogisticRegression(random_state = 7, solver = 'liblinear')\n",
    "model_log.fit(X_train_down, y_train_down)\n",
    "z_valid_log = model_log.predict(X_valid)\n",
    "probabilities_valid = model_log.predict_proba(X_valid)\n",
    "probabilities_one_valid = probabilities_valid[:, 1]\n",
    "print(\"Accuracy_log:\", accuracy_score(y_valid, z_valid_log))\n",
    "print(\"Recall_log:\", recall_score(y_valid, z_valid_log))\n",
    "print(\"Precision_log:\", precision_score(y_valid, z_valid_log))\n",
    "print(\"F1_log:\", f1_score(y_valid, z_valid_log))\n",
    "print('AUC-ROC:', roc_auc_score(y_valid, probabilities_one_valid))"
   ]
  },
  {
   "cell_type": "markdown",
   "metadata": {},
   "source": [
    "### Уменьшение выборки (Decision Tree)"
   ]
  },
  {
   "cell_type": "code",
   "execution_count": 65,
   "metadata": {},
   "outputs": [
    {
     "name": "stdout",
     "output_type": "stream",
     "text": [
      "Древо решений, лучшие показатели:\n",
      "Глубина древа: 50\n"
     ]
    }
   ],
   "source": [
    "F1_best = 0\n",
    "for depth in range(1, 51):\n",
    "    model = DecisionTreeClassifier(max_depth = depth, random_state = 7)\n",
    "    model.fit(X_train_down, y_train_down)\n",
    "    z_valid = model.predict(X_valid)\n",
    "    f1 = f1_score(y_valid, z_valid)\n",
    "    if f1 > F1_best:\n",
    "        model_dec = model\n",
    "        best_depth = depth\n",
    "        F1_best = f1\n",
    "\n",
    "print('Древо решений, лучшие показатели:')\n",
    "print('Глубина древа:', depth)"
   ]
  },
  {
   "cell_type": "code",
   "execution_count": 66,
   "metadata": {},
   "outputs": [
    {
     "name": "stdout",
     "output_type": "stream",
     "text": [
      "Accuracy_dec: 0.68\n",
      "Recall_dec: 0.6750629722921915\n",
      "Precision_dec: 0.34403080872913994\n",
      "F1_dec: 0.4557823129251701\n",
      "AUC-ROC: 0.6781428398578861\n"
     ]
    }
   ],
   "source": [
    "model_dec =  DecisionTreeClassifier(max_depth = 50, random_state = 7)\n",
    "model_dec.fit(X_train_down, y_train_down)\n",
    "z_valid_dec = model_dec.predict(X_valid)\n",
    "probabilities_valid = model_dec.predict_proba(X_valid)\n",
    "probabilities_one_valid = probabilities_valid[:, 1]\n",
    "print(\"Accuracy_dec:\", accuracy_score(y_valid, z_valid_dec))\n",
    "print(\"Recall_dec:\", recall_score(y_valid, z_valid_dec))\n",
    "print(\"Precision_dec:\", precision_score(y_valid, z_valid_dec))\n",
    "print(\"F1_dec:\", f1_score(y_valid, z_valid_dec))\n",
    "print('AUC-ROC:', roc_auc_score(y_valid, probabilities_one_valid))"
   ]
  },
  {
   "cell_type": "markdown",
   "metadata": {},
   "source": [
    "### Вывод: \n",
    "Проведены исследования после балансирования классов.   \n",
    "Были использованны 3 метода:\n",
    "1. Взвешивание классов\n",
    "2. Увеличение выборки\n",
    "3. Уменьшение выборки \n",
    "\n",
    "После балансирования классов разными методами была найдена лучшая модель Random Forest. С показателями:  \n",
    "Число деревьев: 91  \n",
    "Глубина древа: 50  \n",
    "Лучшего баланса удалось добиться увеличением классов.   \n",
    "\n",
    "F1 модели 0.60.   \n",
    "AUC-ROC модели 0.85.\n",
    "\n",
    "Тестировать будем именно эту модель."
   ]
  },
  {
   "cell_type": "markdown",
   "metadata": {},
   "source": [
    "## Тестирование лучшей модели "
   ]
  },
  {
   "cell_type": "markdown",
   "metadata": {},
   "source": [
    "Тест будем проводить на заранее подготовленной выборке.  \n",
    "Для начала объединим обучающую выборку с валидационной.  \n",
    "Проведем получившуюся выборку через функцию для баланса классов (увеличение).  \n",
    "И на лучшей модели Random Forest проведем тестирование.   "
   ]
  },
  {
   "cell_type": "code",
   "execution_count": 67,
   "metadata": {},
   "outputs": [],
   "source": [
    "X_train_new = pd.concat([X_train, X_valid], axis=0, ignore_index=True)\n",
    "y_train_new = pd.concat([y_train, y_valid], axis=0, ignore_index=True)\n"
   ]
  },
  {
   "cell_type": "code",
   "execution_count": 68,
   "metadata": {},
   "outputs": [
    {
     "name": "stdout",
     "output_type": "stream",
     "text": [
      "(8000, 11)\n",
      "(8000,)\n"
     ]
    }
   ],
   "source": [
    "print(X_train_new.shape)\n",
    "print(y_train_new.shape)"
   ]
  },
  {
   "cell_type": "code",
   "execution_count": 69,
   "metadata": {},
   "outputs": [],
   "source": [
    "X_train_up, y_train_up = upsample(X_train_new, y_train_new, 4)"
   ]
  },
  {
   "cell_type": "code",
   "execution_count": 70,
   "metadata": {},
   "outputs": [
    {
     "name": "stdout",
     "output_type": "stream",
     "text": [
      "Accuracy_random: 0.8505\n",
      "Recall_random: 0.5454545454545454\n",
      "Precision_random: 0.6607142857142857\n",
      "F1_random: 0.5975773889636609\n",
      "AUC-ROC: 0.8592953508207745\n"
     ]
    }
   ],
   "source": [
    "model_random = RandomForestClassifier(n_estimators = 91, max_depth = 50, random_state=7)\n",
    "model_random.fit(X_train_up, y_train_up)\n",
    "z_test_random = model_random.predict(X_test)\n",
    "probabilities_test = model_random.predict_proba(X_test)\n",
    "probabilities_one_test = probabilities_test[:, 1]\n",
    "print(\"Accuracy_random:\", accuracy_score(y_test, z_test_random))\n",
    "print(\"Recall_random:\", recall_score(y_test, z_test_random))\n",
    "print(\"Precision_random:\", precision_score(y_test, z_test_random))\n",
    "print(\"F1_random:\", f1_score(y_test, z_test_random))\n",
    "print('AUC-ROC:', roc_auc_score(y_test, probabilities_one_test))"
   ]
  },
  {
   "cell_type": "markdown",
   "metadata": {},
   "source": [
    "Модель после изменения обучающих данных и тестовой выборки имеют такой же высокий показатель  F1 и AUC-ROC как и при выборе наилучшей модели."
   ]
  },
  {
   "cell_type": "code",
   "execution_count": 71,
   "metadata": {},
   "outputs": [
    {
     "data": {
      "image/png": "[encoded data removed]",
      "text/plain": [
       "<Figure size 432x288 with 1 Axes>"
      ]
     },
     "metadata": {
      "needs_background": "light"
     },
     "output_type": "display_data"
    }
   ],
   "source": [
    "fpr, tpr, thresholds = roc_curve(y_test, probabilities_one_test) \n",
    "\n",
    "plt.figure()\n",
    "plt.plot(fpr, tpr, linestyle='solid')\n",
    "plt.plot([0, 1], [0, 1], linestyle='--')\n",
    "plt.xlim([0.0, 1.0])\n",
    "plt.ylim([0.0, 1.0])\n",
    "plt.xlabel('False Positive Rate')\n",
    "plt.ylabel('True Positive Rate')\n",
    "plt.title('ROC-кривая')\n",
    "plt.show()"
   ]
  },
  {
   "cell_type": "markdown",
   "metadata": {},
   "source": [
    "### Вывод: \n",
    "Была протестированная модель с лучшими показателями на валидационной выборке.  \n",
    "Модель прошла тест, т.к. на новых данных выдала показатели как и на валидационной выборке.  "
   ]
  },
  {
   "cell_type": "markdown",
   "metadata": {},
   "source": [
    "## Общий вывод:\n",
    "1. **Загрузили и изучили данные:**\n",
    "   * Заметили пропуски в столбце `Tenure`, заменили на медиану.\n",
    "   * Удалили столбцы `RowNumber`, `CustomerId`, `Surname`, т.к. они не дают никакой информации для нашего исследования.\n",
    "   * Методом OHE преобразовали столбцы `Geography`, `Gender`.\n",
    "   * Стандартизировали столбцы `CreditScore`, `Age`, `Balance`, `EstimatedSalary`, `Tenure`. \n",
    "   \n",
    "2. **После изучения данных сформировали три выборки для проведения исследований.**\n",
    "   * X_train, y_train - Обучающаяя выборка (60%)\n",
    "   * X_valoid, y_valid - Валидационная выборка (20%)\n",
    "   * X_test, y_test - Тестовая выборка (20%)\n",
    "   \n",
    "3. **Так же изучили дисбаланс классов**\n",
    "   * 0 - 7963  \n",
    "     1 - 2037  \n",
    "     Соотношение 4:1 (запомним для борьбы с дисбалансом)\n",
    "     \n",
    "4. **Исследование моделей**\n",
    "   * Лучший показатель F1 Показала модель случайного леса: **0.57**  \n",
    "   * Затем идем модель древа решений: **0.50**  \n",
    "   * Худший показатель у логичстической регрессии: **0.30**. \n",
    "   * Даже с дисбалансом мы имеем высокий Accuracy от 0.78 до 0.86. \n",
    "   \n",
    "5. **Проведены исследования после балансирования классов.**   \n",
    "Были использованны 3 метода:\n",
    "   1. Взвешивание классов\n",
    "   2. Увеличение выборки\n",
    "   3. Уменьшение выборки \n",
    "\n",
    "После балансирования классов разными методами была найдена лучшая модель Random Forest. С показателями:  \n",
    "Число деревьев: 91  \n",
    "Глубина древа: 50  \n",
    "Лучшего баланса удалось добиться увеличением классов.   \n",
    "\n",
    "F1 модели 0.60.   \n",
    "AUC-ROC модели 0.85.  \n",
    "\n",
    "6. **Тестирование лучшей модели.**  \n",
    "\n",
    "Была протестированная модель с лучшими показателями на валидационной выборке.  \n",
    "Модель прошла тест, т.к. на новых данных выдала показатели как и на валидационной выборке. "
   ]
  }
 ],
 "metadata": {
  "ExecuteTimeLog": [
   {
    "duration": 49,
    "start_time": "2023-07-31T13:49:26.956Z"
   },
   {
    "duration": 211,
    "start_time": "2023-07-31T13:49:29.449Z"
   },
   {
    "duration": 352,
    "start_time": "2023-07-31T13:49:33.864Z"
   },
   {
    "duration": 31,
    "start_time": "2023-07-31T13:49:35.047Z"
   },
   {
    "duration": 11,
    "start_time": "2023-07-31T13:49:45.951Z"
   },
   {
    "duration": 82,
    "start_time": "2023-07-31T13:49:56.209Z"
   },
   {
    "duration": 13,
    "start_time": "2023-07-31T13:50:05.548Z"
   },
   {
    "duration": 35,
    "start_time": "2023-07-31T13:50:18.488Z"
   },
   {
    "duration": 1737,
    "start_time": "2023-07-31T13:55:31.548Z"
   },
   {
    "duration": 42,
    "start_time": "2023-07-31T13:55:35.469Z"
   },
   {
    "duration": 40,
    "start_time": "2023-07-31T13:55:35.718Z"
   },
   {
    "duration": 4,
    "start_time": "2023-07-31T13:56:10.573Z"
   },
   {
    "duration": 13,
    "start_time": "2023-07-31T13:56:21.519Z"
   },
   {
    "duration": 49,
    "start_time": "2023-08-02T09:05:14.794Z"
   },
   {
    "duration": 1333,
    "start_time": "2023-08-02T09:05:26.456Z"
   },
   {
    "duration": 84,
    "start_time": "2023-08-02T09:05:27.791Z"
   },
   {
    "duration": 39,
    "start_time": "2023-08-02T09:05:27.877Z"
   },
   {
    "duration": 3,
    "start_time": "2023-08-02T09:05:27.918Z"
   },
   {
    "duration": 131,
    "start_time": "2023-08-02T09:05:27.923Z"
   },
   {
    "duration": 6,
    "start_time": "2023-08-02T09:06:37.492Z"
   },
   {
    "duration": 23,
    "start_time": "2023-08-02T09:06:48.181Z"
   },
   {
    "duration": 6,
    "start_time": "2023-08-02T09:14:04.050Z"
   },
   {
    "duration": 9,
    "start_time": "2023-08-02T09:14:11.860Z"
   },
   {
    "duration": 20,
    "start_time": "2023-08-02T09:14:31.394Z"
   },
   {
    "duration": 5102,
    "start_time": "2023-08-02T09:14:31.417Z"
   },
   {
    "duration": 0,
    "start_time": "2023-08-02T09:14:36.522Z"
   },
   {
    "duration": 1,
    "start_time": "2023-08-02T09:14:36.523Z"
   },
   {
    "duration": 0,
    "start_time": "2023-08-02T09:14:36.525Z"
   },
   {
    "duration": 5,
    "start_time": "2023-08-02T09:14:37.205Z"
   },
   {
    "duration": 47,
    "start_time": "2023-08-02T09:14:37.820Z"
   },
   {
    "duration": 44,
    "start_time": "2023-08-02T09:14:38.325Z"
   },
   {
    "duration": 5,
    "start_time": "2023-08-02T09:14:39.750Z"
   },
   {
    "duration": 6,
    "start_time": "2023-08-02T09:14:40.951Z"
   },
   {
    "duration": 30,
    "start_time": "2023-08-02T09:14:41.945Z"
   },
   {
    "duration": 15,
    "start_time": "2023-08-02T09:14:51.573Z"
   },
   {
    "duration": 28,
    "start_time": "2023-08-02T09:14:52.130Z"
   },
   {
    "duration": 4,
    "start_time": "2023-08-02T09:15:46.148Z"
   },
   {
    "duration": 11,
    "start_time": "2023-08-02T09:18:26.239Z"
   },
   {
    "duration": 17,
    "start_time": "2023-08-02T09:18:33.839Z"
   },
   {
    "duration": 21,
    "start_time": "2023-08-02T09:18:38.526Z"
   },
   {
    "duration": 1361,
    "start_time": "2023-08-02T09:19:07.690Z"
   },
   {
    "duration": 43,
    "start_time": "2023-08-02T09:19:09.053Z"
   },
   {
    "duration": 42,
    "start_time": "2023-08-02T09:19:09.098Z"
   },
   {
    "duration": 4,
    "start_time": "2023-08-02T09:19:09.141Z"
   },
   {
    "duration": 21,
    "start_time": "2023-08-02T09:19:09.147Z"
   },
   {
    "duration": 33,
    "start_time": "2023-08-02T09:19:09.170Z"
   },
   {
    "duration": 45,
    "start_time": "2023-08-02T09:19:09.204Z"
   },
   {
    "duration": 50,
    "start_time": "2023-08-02T09:19:09.251Z"
   },
   {
    "duration": 54,
    "start_time": "2023-08-02T09:19:09.303Z"
   },
   {
    "duration": 24,
    "start_time": "2023-08-02T09:19:09.359Z"
   },
   {
    "duration": 114,
    "start_time": "2023-08-02T10:27:26.685Z"
   },
   {
    "duration": 21,
    "start_time": "2023-08-02T10:27:34.828Z"
   },
   {
    "duration": 5,
    "start_time": "2023-08-02T10:27:44.200Z"
   },
   {
    "duration": 6,
    "start_time": "2023-08-02T10:28:02.496Z"
   },
   {
    "duration": 16,
    "start_time": "2023-08-02T10:28:12.555Z"
   },
   {
    "duration": 12,
    "start_time": "2023-08-02T10:30:49.137Z"
   },
   {
    "duration": 5,
    "start_time": "2023-08-02T10:36:23.796Z"
   },
   {
    "duration": 11,
    "start_time": "2023-08-02T10:41:31.283Z"
   },
   {
    "duration": 8,
    "start_time": "2023-08-02T10:41:59.773Z"
   },
   {
    "duration": 8,
    "start_time": "2023-08-02T10:43:07.295Z"
   },
   {
    "duration": 9,
    "start_time": "2023-08-02T10:43:54.968Z"
   },
   {
    "duration": 13,
    "start_time": "2023-08-02T10:44:06.073Z"
   },
   {
    "duration": 4,
    "start_time": "2023-08-02T10:44:26.566Z"
   },
   {
    "duration": 13,
    "start_time": "2023-08-02T10:44:40.309Z"
   },
   {
    "duration": 3,
    "start_time": "2023-08-02T10:45:18.378Z"
   },
   {
    "duration": 4,
    "start_time": "2023-08-02T10:45:26.797Z"
   },
   {
    "duration": 5,
    "start_time": "2023-08-02T10:45:27.183Z"
   },
   {
    "duration": 5,
    "start_time": "2023-08-02T10:45:27.474Z"
   },
   {
    "duration": 5,
    "start_time": "2023-08-02T10:45:27.678Z"
   },
   {
    "duration": 7,
    "start_time": "2023-08-02T10:45:27.906Z"
   },
   {
    "duration": 7,
    "start_time": "2023-08-02T10:45:28.134Z"
   },
   {
    "duration": 1284,
    "start_time": "2023-08-02T10:45:41.441Z"
   },
   {
    "duration": 50,
    "start_time": "2023-08-02T10:45:42.728Z"
   },
   {
    "duration": 42,
    "start_time": "2023-08-02T10:45:42.780Z"
   },
   {
    "duration": 23,
    "start_time": "2023-08-02T10:45:42.824Z"
   },
   {
    "duration": 20,
    "start_time": "2023-08-02T10:45:42.850Z"
   },
   {
    "duration": 49,
    "start_time": "2023-08-02T10:45:42.871Z"
   },
   {
    "duration": 57,
    "start_time": "2023-08-02T10:45:42.922Z"
   },
   {
    "duration": 39,
    "start_time": "2023-08-02T10:45:42.981Z"
   },
   {
    "duration": 52,
    "start_time": "2023-08-02T10:45:43.022Z"
   },
   {
    "duration": 22,
    "start_time": "2023-08-02T10:45:43.076Z"
   },
   {
    "duration": 58,
    "start_time": "2023-08-02T10:45:43.100Z"
   },
   {
    "duration": 34,
    "start_time": "2023-08-02T10:45:43.160Z"
   },
   {
    "duration": 50,
    "start_time": "2023-08-02T10:45:43.196Z"
   },
   {
    "duration": 23,
    "start_time": "2023-08-02T10:45:43.248Z"
   },
   {
    "duration": 39,
    "start_time": "2023-08-02T10:45:43.272Z"
   },
   {
    "duration": 47,
    "start_time": "2023-08-02T10:45:43.316Z"
   },
   {
    "duration": 33,
    "start_time": "2023-08-02T10:45:43.364Z"
   },
   {
    "duration": 40,
    "start_time": "2023-08-02T10:45:43.399Z"
   },
   {
    "duration": 7,
    "start_time": "2023-08-02T10:47:56.355Z"
   },
   {
    "duration": 613,
    "start_time": "2023-08-02T10:48:35.248Z"
   },
   {
    "duration": 133,
    "start_time": "2023-08-02T10:48:56.630Z"
   },
   {
    "duration": 141,
    "start_time": "2023-08-02T10:49:08.404Z"
   },
   {
    "duration": 131,
    "start_time": "2023-08-02T10:49:16.532Z"
   },
   {
    "duration": 10,
    "start_time": "2023-08-02T10:49:28.014Z"
   },
   {
    "duration": 113,
    "start_time": "2023-08-02T10:49:28.460Z"
   },
   {
    "duration": 124,
    "start_time": "2023-08-02T12:40:56.230Z"
   },
   {
    "duration": 23,
    "start_time": "2023-08-02T12:41:04.784Z"
   },
   {
    "duration": 5,
    "start_time": "2023-08-02T12:42:17.445Z"
   },
   {
    "duration": 50223,
    "start_time": "2023-08-02T12:42:21.401Z"
   },
   {
    "duration": 264603,
    "start_time": "2023-08-02T12:45:08.207Z"
   },
   {
    "duration": 13097,
    "start_time": "2023-08-02T12:49:46.925Z"
   },
   {
    "duration": 1530,
    "start_time": "2023-08-02T12:51:23.058Z"
   },
   {
    "duration": 65,
    "start_time": "2023-08-02T12:51:24.590Z"
   },
   {
    "duration": 34,
    "start_time": "2023-08-02T12:51:24.657Z"
   },
   {
    "duration": 4,
    "start_time": "2023-08-02T12:51:24.692Z"
   },
   {
    "duration": 40,
    "start_time": "2023-08-02T12:51:24.698Z"
   },
   {
    "duration": 33,
    "start_time": "2023-08-02T12:51:24.740Z"
   },
   {
    "duration": 23,
    "start_time": "2023-08-02T12:51:24.775Z"
   },
   {
    "duration": 30,
    "start_time": "2023-08-02T12:51:24.800Z"
   },
   {
    "duration": 40,
    "start_time": "2023-08-02T12:51:24.832Z"
   },
   {
    "duration": 34,
    "start_time": "2023-08-02T12:51:24.874Z"
   },
   {
    "duration": 17,
    "start_time": "2023-08-02T12:51:24.910Z"
   },
   {
    "duration": 10,
    "start_time": "2023-08-02T12:51:24.928Z"
   },
   {
    "duration": 20,
    "start_time": "2023-08-02T12:51:24.939Z"
   },
   {
    "duration": 13,
    "start_time": "2023-08-02T12:51:24.962Z"
   },
   {
    "duration": 10,
    "start_time": "2023-08-02T12:51:24.977Z"
   },
   {
    "duration": 13,
    "start_time": "2023-08-02T12:51:24.989Z"
   },
   {
    "duration": 14,
    "start_time": "2023-08-02T12:51:25.004Z"
   },
   {
    "duration": 34,
    "start_time": "2023-08-02T12:51:25.020Z"
   },
   {
    "duration": 23,
    "start_time": "2023-08-02T12:51:25.056Z"
   },
   {
    "duration": 137,
    "start_time": "2023-08-02T12:51:25.081Z"
   },
   {
    "duration": 232325,
    "start_time": "2023-08-02T12:51:25.219Z"
   },
   {
    "duration": 49138,
    "start_time": "2023-08-02T12:55:33.131Z"
   },
   {
    "duration": 21312,
    "start_time": "2023-08-02T12:57:00.344Z"
   },
   {
    "duration": 1513,
    "start_time": "2023-08-02T12:57:24.645Z"
   },
   {
    "duration": 43,
    "start_time": "2023-08-02T12:57:26.160Z"
   },
   {
    "duration": 50,
    "start_time": "2023-08-02T12:57:26.205Z"
   },
   {
    "duration": 5,
    "start_time": "2023-08-02T12:57:26.256Z"
   },
   {
    "duration": 8,
    "start_time": "2023-08-02T12:57:26.264Z"
   },
   {
    "duration": 44,
    "start_time": "2023-08-02T12:57:26.275Z"
   },
   {
    "duration": 22,
    "start_time": "2023-08-02T12:57:26.321Z"
   },
   {
    "duration": 20,
    "start_time": "2023-08-02T12:57:26.345Z"
   },
   {
    "duration": 21,
    "start_time": "2023-08-02T12:57:26.367Z"
   },
   {
    "duration": 35,
    "start_time": "2023-08-02T12:57:26.390Z"
   },
   {
    "duration": 13,
    "start_time": "2023-08-02T12:57:26.427Z"
   },
   {
    "duration": 33,
    "start_time": "2023-08-02T12:57:26.442Z"
   },
   {
    "duration": 10,
    "start_time": "2023-08-02T12:57:26.477Z"
   },
   {
    "duration": 11,
    "start_time": "2023-08-02T12:57:26.490Z"
   },
   {
    "duration": 13,
    "start_time": "2023-08-02T12:57:26.503Z"
   },
   {
    "duration": 7,
    "start_time": "2023-08-02T12:57:26.518Z"
   },
   {
    "duration": 31,
    "start_time": "2023-08-02T12:57:26.526Z"
   },
   {
    "duration": 22,
    "start_time": "2023-08-02T12:57:26.559Z"
   },
   {
    "duration": 25,
    "start_time": "2023-08-02T12:57:26.583Z"
   },
   {
    "duration": 190,
    "start_time": "2023-08-02T12:57:26.611Z"
   },
   {
    "duration": 1498,
    "start_time": "2023-08-02T12:58:42.390Z"
   },
   {
    "duration": 50,
    "start_time": "2023-08-02T12:58:43.890Z"
   },
   {
    "duration": 36,
    "start_time": "2023-08-02T12:58:43.943Z"
   },
   {
    "duration": 4,
    "start_time": "2023-08-02T12:58:43.981Z"
   },
   {
    "duration": 24,
    "start_time": "2023-08-02T12:58:43.988Z"
   },
   {
    "duration": 28,
    "start_time": "2023-08-02T12:58:44.014Z"
   },
   {
    "duration": 13,
    "start_time": "2023-08-02T12:58:44.043Z"
   },
   {
    "duration": 59,
    "start_time": "2023-08-02T12:58:44.057Z"
   },
   {
    "duration": 20,
    "start_time": "2023-08-02T12:58:44.117Z"
   },
   {
    "duration": 19,
    "start_time": "2023-08-02T12:58:44.139Z"
   },
   {
    "duration": 50,
    "start_time": "2023-08-02T12:58:44.159Z"
   },
   {
    "duration": 11,
    "start_time": "2023-08-02T12:58:44.211Z"
   },
   {
    "duration": 20,
    "start_time": "2023-08-02T12:58:44.224Z"
   },
   {
    "duration": 12,
    "start_time": "2023-08-02T12:58:44.248Z"
   },
   {
    "duration": 20,
    "start_time": "2023-08-02T12:58:44.262Z"
   },
   {
    "duration": 13,
    "start_time": "2023-08-02T12:58:44.284Z"
   },
   {
    "duration": 28,
    "start_time": "2023-08-02T12:58:44.299Z"
   },
   {
    "duration": 9,
    "start_time": "2023-08-02T12:58:44.329Z"
   },
   {
    "duration": 14,
    "start_time": "2023-08-02T12:58:44.340Z"
   },
   {
    "duration": 149,
    "start_time": "2023-08-02T12:58:44.356Z"
   },
   {
    "duration": 1527,
    "start_time": "2023-08-02T12:59:19.982Z"
   },
   {
    "duration": 43,
    "start_time": "2023-08-02T12:59:21.512Z"
   },
   {
    "duration": 40,
    "start_time": "2023-08-02T12:59:21.557Z"
   },
   {
    "duration": 16,
    "start_time": "2023-08-02T12:59:21.599Z"
   },
   {
    "duration": 28,
    "start_time": "2023-08-02T12:59:21.618Z"
   },
   {
    "duration": 49,
    "start_time": "2023-08-02T12:59:21.648Z"
   },
   {
    "duration": 30,
    "start_time": "2023-08-02T12:59:21.699Z"
   },
   {
    "duration": 40,
    "start_time": "2023-08-02T12:59:21.731Z"
   },
   {
    "duration": 33,
    "start_time": "2023-08-02T12:59:21.774Z"
   },
   {
    "duration": 20,
    "start_time": "2023-08-02T12:59:21.809Z"
   },
   {
    "duration": 37,
    "start_time": "2023-08-02T12:59:21.831Z"
   },
   {
    "duration": 60,
    "start_time": "2023-08-02T12:59:21.870Z"
   },
   {
    "duration": 38,
    "start_time": "2023-08-02T12:59:21.933Z"
   },
   {
    "duration": 48,
    "start_time": "2023-08-02T12:59:21.975Z"
   },
   {
    "duration": 28,
    "start_time": "2023-08-02T12:59:22.025Z"
   },
   {
    "duration": 30,
    "start_time": "2023-08-02T12:59:22.055Z"
   },
   {
    "duration": 32,
    "start_time": "2023-08-02T12:59:22.087Z"
   },
   {
    "duration": 12,
    "start_time": "2023-08-02T12:59:22.121Z"
   },
   {
    "duration": 43,
    "start_time": "2023-08-02T12:59:22.135Z"
   },
   {
    "duration": 151,
    "start_time": "2023-08-02T12:59:22.180Z"
   },
   {
    "duration": 154234,
    "start_time": "2023-08-02T13:01:57.898Z"
   },
   {
    "duration": 70,
    "start_time": "2023-08-02T13:06:35.070Z"
   },
   {
    "duration": 1393,
    "start_time": "2023-08-02T13:21:22.143Z"
   },
   {
    "duration": 86,
    "start_time": "2023-08-02T13:28:57.074Z"
   },
   {
    "duration": 667,
    "start_time": "2023-08-02T13:30:15.683Z"
   },
   {
    "duration": 1650,
    "start_time": "2023-08-02T13:32:27.528Z"
   },
   {
    "duration": 43,
    "start_time": "2023-08-02T13:32:29.180Z"
   },
   {
    "duration": 36,
    "start_time": "2023-08-02T13:32:29.225Z"
   },
   {
    "duration": 4,
    "start_time": "2023-08-02T13:32:29.262Z"
   },
   {
    "duration": 15,
    "start_time": "2023-08-02T13:32:29.268Z"
   },
   {
    "duration": 37,
    "start_time": "2023-08-02T13:32:29.285Z"
   },
   {
    "duration": 24,
    "start_time": "2023-08-02T13:32:29.323Z"
   },
   {
    "duration": 42,
    "start_time": "2023-08-02T13:32:29.349Z"
   },
   {
    "duration": 23,
    "start_time": "2023-08-02T13:32:29.393Z"
   },
   {
    "duration": 25,
    "start_time": "2023-08-02T13:32:29.419Z"
   },
   {
    "duration": 5,
    "start_time": "2023-08-02T13:32:29.447Z"
   },
   {
    "duration": 21,
    "start_time": "2023-08-02T13:32:29.454Z"
   },
   {
    "duration": 10,
    "start_time": "2023-08-02T13:32:29.477Z"
   },
   {
    "duration": 29,
    "start_time": "2023-08-02T13:32:29.490Z"
   },
   {
    "duration": 18,
    "start_time": "2023-08-02T13:32:29.521Z"
   },
   {
    "duration": 13,
    "start_time": "2023-08-02T13:32:29.541Z"
   },
   {
    "duration": 12,
    "start_time": "2023-08-02T13:32:29.555Z"
   },
   {
    "duration": 28,
    "start_time": "2023-08-02T13:32:29.569Z"
   },
   {
    "duration": 26,
    "start_time": "2023-08-02T13:32:29.599Z"
   },
   {
    "duration": 144,
    "start_time": "2023-08-02T13:32:29.626Z"
   },
   {
    "duration": 148269,
    "start_time": "2023-08-02T13:32:29.772Z"
   },
   {
    "duration": 75,
    "start_time": "2023-08-02T13:34:58.042Z"
   },
   {
    "duration": 1377,
    "start_time": "2023-08-02T13:34:58.119Z"
   },
   {
    "duration": 636,
    "start_time": "2023-08-02T13:34:59.498Z"
   },
   {
    "duration": 25,
    "start_time": "2023-08-02T13:43:33.244Z"
   },
   {
    "duration": 137,
    "start_time": "2023-08-02T13:43:33.622Z"
   },
   {
    "duration": 41,
    "start_time": "2023-08-02T13:43:41.465Z"
   },
   {
    "duration": 752,
    "start_time": "2023-08-02T13:44:25.701Z"
   },
   {
    "duration": 54,
    "start_time": "2023-08-02T13:44:27.254Z"
   },
   {
    "duration": 127,
    "start_time": "2023-08-02T13:44:27.312Z"
   },
   {
    "duration": 103,
    "start_time": "2023-08-02T13:49:11.511Z"
   },
   {
    "duration": 11,
    "start_time": "2023-08-02T13:52:29.041Z"
   },
   {
    "duration": 5,
    "start_time": "2023-08-02T13:52:33.811Z"
   },
   {
    "duration": 8,
    "start_time": "2023-08-02T13:52:40.845Z"
   },
   {
    "duration": 7,
    "start_time": "2023-08-02T13:53:00.880Z"
   },
   {
    "duration": 6,
    "start_time": "2023-08-02T13:53:21.103Z"
   },
   {
    "duration": 43,
    "start_time": "2023-08-02T14:05:52.010Z"
   },
   {
    "duration": 6,
    "start_time": "2023-08-02T14:05:52.273Z"
   },
   {
    "duration": 149780,
    "start_time": "2023-08-02T14:06:58.531Z"
   },
   {
    "duration": 114,
    "start_time": "2023-08-02T14:12:33.100Z"
   },
   {
    "duration": 1472,
    "start_time": "2023-08-02T14:12:35.376Z"
   },
   {
    "duration": 642,
    "start_time": "2023-08-02T14:13:12.332Z"
   },
   {
    "duration": 42,
    "start_time": "2023-08-02T14:13:59.091Z"
   },
   {
    "duration": 1769,
    "start_time": "2023-08-02T14:14:14.701Z"
   },
   {
    "duration": 43,
    "start_time": "2023-08-02T14:14:16.475Z"
   },
   {
    "duration": 34,
    "start_time": "2023-08-02T14:14:16.520Z"
   },
   {
    "duration": 4,
    "start_time": "2023-08-02T14:14:16.556Z"
   },
   {
    "duration": 13,
    "start_time": "2023-08-02T14:14:16.562Z"
   },
   {
    "duration": 54,
    "start_time": "2023-08-02T14:14:16.576Z"
   },
   {
    "duration": 24,
    "start_time": "2023-08-02T14:14:16.632Z"
   },
   {
    "duration": 32,
    "start_time": "2023-08-02T14:14:16.658Z"
   },
   {
    "duration": 36,
    "start_time": "2023-08-02T14:14:16.692Z"
   },
   {
    "duration": 26,
    "start_time": "2023-08-02T14:14:16.730Z"
   },
   {
    "duration": 26,
    "start_time": "2023-08-02T14:14:16.757Z"
   },
   {
    "duration": 24,
    "start_time": "2023-08-02T14:14:16.785Z"
   },
   {
    "duration": 23,
    "start_time": "2023-08-02T14:14:16.811Z"
   },
   {
    "duration": 11,
    "start_time": "2023-08-02T14:14:16.837Z"
   },
   {
    "duration": 13,
    "start_time": "2023-08-02T14:14:16.850Z"
   },
   {
    "duration": 13,
    "start_time": "2023-08-02T14:14:16.865Z"
   },
   {
    "duration": 31,
    "start_time": "2023-08-02T14:14:16.879Z"
   },
   {
    "duration": 30,
    "start_time": "2023-08-02T14:14:16.912Z"
   },
   {
    "duration": 22,
    "start_time": "2023-08-02T14:14:16.944Z"
   },
   {
    "duration": 151,
    "start_time": "2023-08-02T14:14:16.968Z"
   },
   {
    "duration": 150198,
    "start_time": "2023-08-02T14:14:17.121Z"
   },
   {
    "duration": 665,
    "start_time": "2023-08-02T14:16:47.321Z"
   },
   {
    "duration": 9,
    "start_time": "2023-08-02T14:16:47.988Z"
   },
   {
    "duration": 29,
    "start_time": "2023-08-02T14:16:48.009Z"
   },
   {
    "duration": 75,
    "start_time": "2023-08-02T14:16:48.039Z"
   },
   {
    "duration": 1470,
    "start_time": "2023-08-02T14:16:48.116Z"
   },
   {
    "duration": 46,
    "start_time": "2023-08-02T14:16:49.588Z"
   },
   {
    "duration": 7,
    "start_time": "2023-08-02T14:16:49.636Z"
   },
   {
    "duration": 144966,
    "start_time": "2023-08-02T14:16:49.645Z"
   },
   {
    "duration": 665,
    "start_time": "2023-08-02T14:19:14.613Z"
   },
   {
    "duration": 41,
    "start_time": "2023-08-02T14:19:15.279Z"
   },
   {
    "duration": 1593,
    "start_time": "2023-08-02T14:19:15.409Z"
   },
   {
    "duration": 44,
    "start_time": "2023-08-02T14:19:17.004Z"
   },
   {
    "duration": 1471,
    "start_time": "2023-08-02T14:31:03.326Z"
   },
   {
    "duration": 43,
    "start_time": "2023-08-02T14:31:04.799Z"
   },
   {
    "duration": 36,
    "start_time": "2023-08-02T14:31:04.844Z"
   },
   {
    "duration": 5,
    "start_time": "2023-08-02T14:31:04.882Z"
   },
   {
    "duration": 27,
    "start_time": "2023-08-02T14:31:04.888Z"
   },
   {
    "duration": 23,
    "start_time": "2023-08-02T14:31:04.917Z"
   },
   {
    "duration": 21,
    "start_time": "2023-08-02T14:31:04.941Z"
   },
   {
    "duration": 31,
    "start_time": "2023-08-02T14:31:04.964Z"
   },
   {
    "duration": 24,
    "start_time": "2023-08-02T14:31:04.997Z"
   },
   {
    "duration": 38,
    "start_time": "2023-08-02T14:31:05.024Z"
   },
   {
    "duration": 22,
    "start_time": "2023-08-02T14:31:05.064Z"
   },
   {
    "duration": 16,
    "start_time": "2023-08-02T14:31:05.088Z"
   },
   {
    "duration": 12,
    "start_time": "2023-08-02T14:31:05.106Z"
   },
   {
    "duration": 9,
    "start_time": "2023-08-02T14:31:05.119Z"
   },
   {
    "duration": 10,
    "start_time": "2023-08-02T14:31:05.130Z"
   },
   {
    "duration": 12,
    "start_time": "2023-08-02T14:31:05.141Z"
   },
   {
    "duration": 12,
    "start_time": "2023-08-02T14:31:05.155Z"
   },
   {
    "duration": 14,
    "start_time": "2023-08-02T14:31:05.168Z"
   },
   {
    "duration": 15,
    "start_time": "2023-08-02T14:31:05.184Z"
   },
   {
    "duration": 124,
    "start_time": "2023-08-02T14:31:05.201Z"
   },
   {
    "duration": 143958,
    "start_time": "2023-08-02T14:31:05.327Z"
   },
   {
    "duration": 661,
    "start_time": "2023-08-02T14:33:29.287Z"
   },
   {
    "duration": 6,
    "start_time": "2023-08-02T14:33:29.950Z"
   },
   {
    "duration": 64,
    "start_time": "2023-08-02T14:33:29.957Z"
   },
   {
    "duration": 93,
    "start_time": "2023-08-02T14:33:30.023Z"
   },
   {
    "duration": 1403,
    "start_time": "2023-08-02T14:33:30.118Z"
   },
   {
    "duration": 39,
    "start_time": "2023-08-02T14:33:31.523Z"
   },
   {
    "duration": 79,
    "start_time": "2023-08-02T14:33:31.565Z"
   },
   {
    "duration": 142433,
    "start_time": "2023-08-02T14:33:31.646Z"
   },
   {
    "duration": 603,
    "start_time": "2023-08-02T14:35:54.081Z"
   },
   {
    "duration": 36,
    "start_time": "2023-08-02T14:35:54.685Z"
   },
   {
    "duration": 1480,
    "start_time": "2023-08-02T14:35:54.811Z"
   },
   {
    "duration": 51,
    "start_time": "2023-08-02T14:35:56.293Z"
   },
   {
    "duration": 687,
    "start_time": "2023-08-02T15:22:01.160Z"
   },
   {
    "duration": 65,
    "start_time": "2023-08-02T15:22:35.844Z"
   },
   {
    "duration": 42,
    "start_time": "2023-08-02T15:23:01.302Z"
   },
   {
    "duration": 5,
    "start_time": "2023-08-02T15:30:01.031Z"
   },
   {
    "duration": 5,
    "start_time": "2023-08-02T15:49:25.824Z"
   },
   {
    "duration": 50,
    "start_time": "2023-08-02T15:50:13.402Z"
   },
   {
    "duration": 10,
    "start_time": "2023-08-02T15:50:38.371Z"
   },
   {
    "duration": 4,
    "start_time": "2023-08-02T16:26:48.145Z"
   },
   {
    "duration": 115,
    "start_time": "2023-08-02T16:26:48.594Z"
   },
   {
    "duration": 11607,
    "start_time": "2023-08-02T16:27:00.863Z"
   },
   {
    "duration": 5,
    "start_time": "2023-08-02T16:27:43.334Z"
   },
   {
    "duration": 15,
    "start_time": "2023-08-02T16:27:44.068Z"
   },
   {
    "duration": 199603,
    "start_time": "2023-08-02T16:27:46.874Z"
   },
   {
    "duration": 942,
    "start_time": "2023-08-02T16:36:44.371Z"
   },
   {
    "duration": 198,
    "start_time": "2023-08-02T16:37:07.214Z"
   },
   {
    "duration": 1826,
    "start_time": "2023-08-02T16:37:50.291Z"
   },
   {
    "duration": 56,
    "start_time": "2023-08-02T16:38:10.830Z"
   },
   {
    "duration": 1349,
    "start_time": "2023-08-02T16:52:13.032Z"
   },
   {
    "duration": 49,
    "start_time": "2023-08-02T16:52:14.383Z"
   },
   {
    "duration": 35,
    "start_time": "2023-08-02T16:52:14.434Z"
   },
   {
    "duration": 4,
    "start_time": "2023-08-02T16:52:14.471Z"
   },
   {
    "duration": 15,
    "start_time": "2023-08-02T16:52:14.477Z"
   },
   {
    "duration": 45,
    "start_time": "2023-08-02T16:52:14.493Z"
   },
   {
    "duration": 11,
    "start_time": "2023-08-02T16:52:14.540Z"
   },
   {
    "duration": 20,
    "start_time": "2023-08-02T16:52:14.552Z"
   },
   {
    "duration": 25,
    "start_time": "2023-08-02T16:52:14.573Z"
   },
   {
    "duration": 19,
    "start_time": "2023-08-02T16:52:14.599Z"
   },
   {
    "duration": 5,
    "start_time": "2023-08-02T16:52:14.619Z"
   },
   {
    "duration": 14,
    "start_time": "2023-08-02T16:52:14.625Z"
   },
   {
    "duration": 5,
    "start_time": "2023-08-02T16:52:14.640Z"
   },
   {
    "duration": 6,
    "start_time": "2023-08-02T16:52:14.647Z"
   },
   {
    "duration": 9,
    "start_time": "2023-08-02T16:52:14.655Z"
   },
   {
    "duration": 6,
    "start_time": "2023-08-02T16:52:14.665Z"
   },
   {
    "duration": 8,
    "start_time": "2023-08-02T16:52:14.672Z"
   },
   {
    "duration": 30,
    "start_time": "2023-08-02T16:52:14.681Z"
   },
   {
    "duration": 22,
    "start_time": "2023-08-02T16:52:14.713Z"
   },
   {
    "duration": 118,
    "start_time": "2023-08-02T16:52:14.736Z"
   },
   {
    "duration": 144249,
    "start_time": "2023-08-02T16:52:14.856Z"
   },
   {
    "duration": 723,
    "start_time": "2023-08-02T16:54:39.110Z"
   },
   {
    "duration": 7,
    "start_time": "2023-08-02T16:54:39.835Z"
   },
   {
    "duration": 168,
    "start_time": "2023-08-02T16:54:39.843Z"
   },
   {
    "duration": 9,
    "start_time": "2023-08-02T16:54:40.013Z"
   },
   {
    "duration": 1466,
    "start_time": "2023-08-02T16:54:40.023Z"
   },
   {
    "duration": 48,
    "start_time": "2023-08-02T16:54:41.491Z"
   },
   {
    "duration": 6,
    "start_time": "2023-08-02T16:54:41.540Z"
   },
   {
    "duration": 139897,
    "start_time": "2023-08-02T16:54:41.547Z"
   },
   {
    "duration": 673,
    "start_time": "2023-08-02T16:57:01.446Z"
   },
   {
    "duration": 98,
    "start_time": "2023-08-02T16:57:02.121Z"
   },
   {
    "duration": 1453,
    "start_time": "2023-08-02T16:57:02.308Z"
   },
   {
    "duration": 52,
    "start_time": "2023-08-02T16:57:03.762Z"
   },
   {
    "duration": 4,
    "start_time": "2023-08-02T16:57:03.815Z"
   },
   {
    "duration": 51,
    "start_time": "2023-08-02T16:57:03.820Z"
   },
   {
    "duration": 196795,
    "start_time": "2023-08-02T16:57:03.873Z"
   },
   {
    "duration": 900,
    "start_time": "2023-08-02T17:00:20.669Z"
   },
   {
    "duration": 142,
    "start_time": "2023-08-02T17:00:21.571Z"
   },
   {
    "duration": 1818,
    "start_time": "2023-08-02T17:00:21.715Z"
   },
   {
    "duration": 49,
    "start_time": "2023-08-02T17:00:23.535Z"
   },
   {
    "duration": 105,
    "start_time": "2023-08-02T17:10:58.082Z"
   },
   {
    "duration": 5,
    "start_time": "2023-08-02T17:11:00.876Z"
   },
   {
    "duration": 19,
    "start_time": "2023-08-02T17:11:01.257Z"
   },
   {
    "duration": 4,
    "start_time": "2023-08-02T17:11:24.074Z"
   },
   {
    "duration": 9,
    "start_time": "2023-08-02T17:11:24.626Z"
   },
   {
    "duration": 10,
    "start_time": "2023-08-02T17:11:47.198Z"
   },
   {
    "duration": 11,
    "start_time": "2023-08-02T17:11:55.397Z"
   },
   {
    "duration": 10,
    "start_time": "2023-08-02T17:13:20.872Z"
   },
   {
    "duration": 77288,
    "start_time": "2023-08-02T17:14:07.793Z"
   },
   {
    "duration": 373,
    "start_time": "2023-08-02T17:15:25.084Z"
   },
   {
    "duration": 24,
    "start_time": "2023-08-02T17:16:49.892Z"
   },
   {
    "duration": 660,
    "start_time": "2023-08-02T17:17:20.377Z"
   },
   {
    "duration": 28,
    "start_time": "2023-08-02T17:17:37.103Z"
   },
   {
    "duration": 13,
    "start_time": "2023-08-02T17:24:34.888Z"
   },
   {
    "duration": 9,
    "start_time": "2023-08-02T17:24:51.803Z"
   },
   {
    "duration": 5,
    "start_time": "2023-08-02T17:25:15.817Z"
   },
   {
    "duration": 12,
    "start_time": "2023-08-02T17:25:42.773Z"
   },
   {
    "duration": 17660,
    "start_time": "2023-08-02T17:26:05.926Z"
   },
   {
    "duration": 266689,
    "start_time": "2023-08-02T17:27:00.379Z"
   },
   {
    "duration": 1287,
    "start_time": "2023-08-02T17:31:40.206Z"
   },
   {
    "duration": 10,
    "start_time": "2023-08-02T17:36:17.120Z"
   },
   {
    "duration": 886,
    "start_time": "2023-08-02T17:36:36.186Z"
   },
   {
    "duration": 5,
    "start_time": "2023-08-02T17:36:41.252Z"
   },
   {
    "duration": 952,
    "start_time": "2023-08-02T17:36:42.137Z"
   },
   {
    "duration": 7,
    "start_time": "2023-08-02T17:37:13.729Z"
   },
   {
    "duration": 7,
    "start_time": "2023-08-02T17:37:18.033Z"
   },
   {
    "duration": 3,
    "start_time": "2023-08-02T17:38:01.834Z"
   },
   {
    "duration": 6,
    "start_time": "2023-08-02T17:38:05.132Z"
   },
   {
    "duration": 3,
    "start_time": "2023-08-02T17:38:05.392Z"
   },
   {
    "duration": 1420,
    "start_time": "2023-08-02T17:39:01.982Z"
   },
   {
    "duration": 43,
    "start_time": "2023-08-02T17:39:03.404Z"
   },
   {
    "duration": 56,
    "start_time": "2023-08-02T17:39:03.448Z"
   },
   {
    "duration": 52,
    "start_time": "2023-08-02T17:39:03.506Z"
   },
   {
    "duration": 44,
    "start_time": "2023-08-02T17:39:03.561Z"
   },
   {
    "duration": 119,
    "start_time": "2023-08-02T17:39:03.607Z"
   },
   {
    "duration": 60,
    "start_time": "2023-08-02T17:39:03.728Z"
   },
   {
    "duration": 27,
    "start_time": "2023-08-02T17:39:03.790Z"
   },
   {
    "duration": 27,
    "start_time": "2023-08-02T17:39:03.818Z"
   },
   {
    "duration": 22,
    "start_time": "2023-08-02T17:39:03.847Z"
   },
   {
    "duration": 23,
    "start_time": "2023-08-02T17:39:03.871Z"
   },
   {
    "duration": 26,
    "start_time": "2023-08-02T17:39:03.896Z"
   },
   {
    "duration": 17,
    "start_time": "2023-08-02T17:39:03.923Z"
   },
   {
    "duration": 10,
    "start_time": "2023-08-02T17:39:03.943Z"
   },
   {
    "duration": 13,
    "start_time": "2023-08-02T17:39:03.954Z"
   },
   {
    "duration": 28,
    "start_time": "2023-08-02T17:39:03.969Z"
   },
   {
    "duration": 45,
    "start_time": "2023-08-02T17:39:03.999Z"
   },
   {
    "duration": 45,
    "start_time": "2023-08-02T17:39:04.046Z"
   },
   {
    "duration": 61,
    "start_time": "2023-08-02T17:39:04.093Z"
   },
   {
    "duration": 132,
    "start_time": "2023-08-02T17:39:04.156Z"
   },
   {
    "duration": 145128,
    "start_time": "2023-08-02T17:39:04.290Z"
   },
   {
    "duration": 677,
    "start_time": "2023-08-02T17:41:29.420Z"
   },
   {
    "duration": 11,
    "start_time": "2023-08-02T17:41:30.098Z"
   },
   {
    "duration": 98,
    "start_time": "2023-08-02T17:41:30.111Z"
   },
   {
    "duration": 102,
    "start_time": "2023-08-02T17:41:30.211Z"
   },
   {
    "duration": 1385,
    "start_time": "2023-08-02T17:41:30.316Z"
   },
   {
    "duration": 43,
    "start_time": "2023-08-02T17:41:31.703Z"
   },
   {
    "duration": 6,
    "start_time": "2023-08-02T17:41:31.748Z"
   },
   {
    "duration": 721,
    "start_time": "2023-08-02T17:41:31.756Z"
   },
   {
    "duration": 130,
    "start_time": "2023-08-02T17:41:32.479Z"
   },
   {
    "duration": 137,
    "start_time": "2023-08-02T17:41:32.612Z"
   },
   {
    "duration": 5,
    "start_time": "2023-08-02T17:41:32.751Z"
   },
   {
    "duration": 37,
    "start_time": "2023-08-02T17:41:32.759Z"
   },
   {
    "duration": 905,
    "start_time": "2023-08-02T17:41:32.798Z"
   },
   {
    "duration": 105,
    "start_time": "2023-08-02T17:41:33.709Z"
   },
   {
    "duration": 135,
    "start_time": "2023-08-02T17:41:33.817Z"
   },
   {
    "duration": 5,
    "start_time": "2023-08-02T17:41:33.954Z"
   },
   {
    "duration": 23,
    "start_time": "2023-08-02T17:41:33.961Z"
   },
   {
    "duration": 387,
    "start_time": "2023-08-02T17:41:33.987Z"
   },
   {
    "duration": 146,
    "start_time": "2023-08-02T17:41:34.376Z"
   },
   {
    "duration": 29,
    "start_time": "2023-08-02T17:41:34.611Z"
   },
   {
    "duration": 6,
    "start_time": "2023-08-02T17:41:34.642Z"
   },
   {
    "duration": 6,
    "start_time": "2023-08-02T17:41:34.650Z"
   },
   {
    "duration": 15,
    "start_time": "2023-08-02T17:41:34.657Z"
   },
   {
    "duration": 1081,
    "start_time": "2023-08-02T17:41:34.673Z"
   },
   {
    "duration": 957,
    "start_time": "2023-08-02T17:47:02.410Z"
   },
   {
    "duration": 10,
    "start_time": "2023-08-02T17:47:47.543Z"
   },
   {
    "duration": 6,
    "start_time": "2023-08-02T17:47:49.528Z"
   },
   {
    "duration": 9,
    "start_time": "2023-08-02T17:47:49.836Z"
   },
   {
    "duration": 12,
    "start_time": "2023-08-02T17:47:53.589Z"
   },
   {
    "duration": 4,
    "start_time": "2023-08-02T17:48:05.321Z"
   },
   {
    "duration": 12,
    "start_time": "2023-08-02T17:48:27.555Z"
   },
   {
    "duration": 1230,
    "start_time": "2023-08-02T17:48:38.497Z"
   },
   {
    "duration": 1902,
    "start_time": "2023-08-02T17:49:10.801Z"
   },
   {
    "duration": 42,
    "start_time": "2023-08-02T17:49:12.705Z"
   },
   {
    "duration": 43,
    "start_time": "2023-08-02T17:49:12.749Z"
   },
   {
    "duration": 36,
    "start_time": "2023-08-02T17:49:12.793Z"
   },
   {
    "duration": 49,
    "start_time": "2023-08-02T17:49:12.831Z"
   },
   {
    "duration": 53,
    "start_time": "2023-08-02T17:49:12.882Z"
   },
   {
    "duration": 50,
    "start_time": "2023-08-02T17:49:12.937Z"
   },
   {
    "duration": 53,
    "start_time": "2023-08-02T17:49:12.989Z"
   },
   {
    "duration": 48,
    "start_time": "2023-08-02T17:49:13.044Z"
   },
   {
    "duration": 35,
    "start_time": "2023-08-02T17:49:13.094Z"
   },
   {
    "duration": 74,
    "start_time": "2023-08-02T17:49:13.130Z"
   },
   {
    "duration": 101,
    "start_time": "2023-08-02T17:49:13.206Z"
   },
   {
    "duration": 52,
    "start_time": "2023-08-02T17:49:13.308Z"
   },
   {
    "duration": 41,
    "start_time": "2023-08-02T17:49:13.363Z"
   },
   {
    "duration": 35,
    "start_time": "2023-08-02T17:49:13.406Z"
   },
   {
    "duration": 40,
    "start_time": "2023-08-02T17:49:13.442Z"
   },
   {
    "duration": 31,
    "start_time": "2023-08-02T17:49:13.484Z"
   },
   {
    "duration": 42,
    "start_time": "2023-08-02T17:49:13.516Z"
   },
   {
    "duration": 45,
    "start_time": "2023-08-02T17:49:13.560Z"
   },
   {
    "duration": 189,
    "start_time": "2023-08-02T17:49:13.607Z"
   },
   {
    "duration": 140759,
    "start_time": "2023-08-02T17:49:13.798Z"
   },
   {
    "duration": 596,
    "start_time": "2023-08-02T17:51:34.558Z"
   },
   {
    "duration": 6,
    "start_time": "2023-08-02T17:51:35.155Z"
   },
   {
    "duration": 82,
    "start_time": "2023-08-02T17:51:35.162Z"
   },
   {
    "duration": 71,
    "start_time": "2023-08-02T17:51:35.245Z"
   },
   {
    "duration": 1409,
    "start_time": "2023-08-02T17:51:35.318Z"
   },
   {
    "duration": 37,
    "start_time": "2023-08-02T17:51:36.729Z"
   },
   {
    "duration": 15,
    "start_time": "2023-08-02T17:51:36.768Z"
   },
   {
    "duration": 633,
    "start_time": "2023-08-02T17:51:36.784Z"
   },
   {
    "duration": 96,
    "start_time": "2023-08-02T17:51:37.419Z"
   },
   {
    "duration": 132,
    "start_time": "2023-08-02T17:51:37.517Z"
   },
   {
    "duration": 3,
    "start_time": "2023-08-02T17:51:37.651Z"
   },
   {
    "duration": 44,
    "start_time": "2023-08-02T17:51:37.656Z"
   },
   {
    "duration": 835,
    "start_time": "2023-08-02T17:51:37.701Z"
   },
   {
    "duration": 76,
    "start_time": "2023-08-02T17:51:38.538Z"
   },
   {
    "duration": 139,
    "start_time": "2023-08-02T17:51:38.615Z"
   },
   {
    "duration": 4,
    "start_time": "2023-08-02T17:51:38.756Z"
   },
   {
    "duration": 30,
    "start_time": "2023-08-02T17:51:38.761Z"
   },
   {
    "duration": 368,
    "start_time": "2023-08-02T17:51:38.792Z"
   },
   {
    "duration": 147,
    "start_time": "2023-08-02T17:51:39.162Z"
   },
   {
    "duration": 99,
    "start_time": "2023-08-02T17:51:39.314Z"
   },
   {
    "duration": 6,
    "start_time": "2023-08-02T17:51:39.414Z"
   },
   {
    "duration": 29,
    "start_time": "2023-08-02T17:51:39.422Z"
   },
   {
    "duration": 24,
    "start_time": "2023-08-02T17:51:39.453Z"
   },
   {
    "duration": 1097,
    "start_time": "2023-08-02T17:51:39.479Z"
   },
   {
    "duration": 136,
    "start_time": "2023-08-02T17:53:06.696Z"
   },
   {
    "duration": 1211,
    "start_time": "2023-08-02T17:56:49.927Z"
   },
   {
    "duration": 1147,
    "start_time": "2023-08-02T17:56:56.034Z"
   },
   {
    "duration": 1247,
    "start_time": "2023-08-02T17:57:00.056Z"
   },
   {
    "duration": 1221,
    "start_time": "2023-08-02T17:57:09.683Z"
   },
   {
    "duration": 1278,
    "start_time": "2023-08-02T17:57:14.808Z"
   },
   {
    "duration": 38,
    "start_time": "2023-08-02T17:57:27.414Z"
   },
   {
    "duration": 1344,
    "start_time": "2023-08-02T17:58:30.438Z"
   },
   {
    "duration": 40,
    "start_time": "2023-08-02T17:58:31.784Z"
   },
   {
    "duration": 31,
    "start_time": "2023-08-02T17:58:31.826Z"
   },
   {
    "duration": 24,
    "start_time": "2023-08-02T17:58:31.859Z"
   },
   {
    "duration": 50,
    "start_time": "2023-08-02T17:58:31.885Z"
   },
   {
    "duration": 55,
    "start_time": "2023-08-02T17:58:31.937Z"
   },
   {
    "duration": 69,
    "start_time": "2023-08-02T17:58:31.994Z"
   },
   {
    "duration": 56,
    "start_time": "2023-08-02T17:58:32.065Z"
   },
   {
    "duration": 36,
    "start_time": "2023-08-02T17:58:32.122Z"
   },
   {
    "duration": 23,
    "start_time": "2023-08-02T17:58:32.161Z"
   },
   {
    "duration": 61,
    "start_time": "2023-08-02T17:58:32.186Z"
   },
   {
    "duration": 75,
    "start_time": "2023-08-02T17:58:32.249Z"
   },
   {
    "duration": 32,
    "start_time": "2023-08-02T17:58:32.326Z"
   },
   {
    "duration": 79,
    "start_time": "2023-08-02T17:58:32.360Z"
   },
   {
    "duration": 28,
    "start_time": "2023-08-02T17:58:32.441Z"
   },
   {
    "duration": 22,
    "start_time": "2023-08-02T17:58:32.470Z"
   },
   {
    "duration": 9,
    "start_time": "2023-08-02T17:58:32.494Z"
   },
   {
    "duration": 14,
    "start_time": "2023-08-02T17:58:32.504Z"
   },
   {
    "duration": 45,
    "start_time": "2023-08-02T17:58:32.520Z"
   },
   {
    "duration": 125,
    "start_time": "2023-08-02T17:58:32.567Z"
   },
   {
    "duration": 140216,
    "start_time": "2023-08-02T17:58:32.693Z"
   },
   {
    "duration": 639,
    "start_time": "2023-08-02T18:00:52.911Z"
   },
   {
    "duration": 7,
    "start_time": "2023-08-02T18:00:53.552Z"
   },
   {
    "duration": 66,
    "start_time": "2023-08-02T18:00:53.560Z"
   },
   {
    "duration": 105,
    "start_time": "2023-08-02T18:00:53.708Z"
   },
   {
    "duration": 1333,
    "start_time": "2023-08-02T18:00:53.815Z"
   },
   {
    "duration": 38,
    "start_time": "2023-08-02T18:00:55.150Z"
   },
   {
    "duration": 19,
    "start_time": "2023-08-02T18:00:55.191Z"
   },
   {
    "duration": 677,
    "start_time": "2023-08-02T18:00:55.211Z"
   },
   {
    "duration": 127,
    "start_time": "2023-08-02T18:00:55.890Z"
   },
   {
    "duration": 129,
    "start_time": "2023-08-02T18:00:56.019Z"
   },
   {
    "duration": 4,
    "start_time": "2023-08-02T18:00:56.149Z"
   },
   {
    "duration": 25,
    "start_time": "2023-08-02T18:00:56.155Z"
   },
   {
    "duration": 871,
    "start_time": "2023-08-02T18:00:56.181Z"
   },
   {
    "duration": 159,
    "start_time": "2023-08-02T18:00:57.054Z"
   },
   {
    "duration": 140,
    "start_time": "2023-08-02T18:00:57.214Z"
   },
   {
    "duration": 5,
    "start_time": "2023-08-02T18:00:57.356Z"
   },
   {
    "duration": 13,
    "start_time": "2023-08-02T18:00:57.362Z"
   },
   {
    "duration": 374,
    "start_time": "2023-08-02T18:00:57.377Z"
   },
   {
    "duration": 65,
    "start_time": "2023-08-02T18:00:57.753Z"
   },
   {
    "duration": 116,
    "start_time": "2023-08-02T18:00:57.819Z"
   },
   {
    "duration": 5,
    "start_time": "2023-08-02T18:00:57.937Z"
   },
   {
    "duration": 7,
    "start_time": "2023-08-02T18:00:57.943Z"
   },
   {
    "duration": 14,
    "start_time": "2023-08-02T18:00:57.952Z"
   },
   {
    "duration": 1147,
    "start_time": "2023-08-02T18:00:57.967Z"
   },
   {
    "duration": 119,
    "start_time": "2023-08-02T18:00:59.116Z"
   },
   {
    "duration": 51,
    "start_time": "2023-08-04T12:30:46.492Z"
   },
   {
    "duration": 148,
    "start_time": "2023-08-04T12:34:54.436Z"
   },
   {
    "duration": 6,
    "start_time": "2023-08-04T12:47:27.725Z"
   },
   {
    "duration": 164,
    "start_time": "2023-08-04T12:50:35.091Z"
   },
   {
    "duration": 3,
    "start_time": "2023-08-04T12:51:33.869Z"
   },
   {
    "duration": 1841,
    "start_time": "2023-08-04T13:16:39.178Z"
   },
   {
    "duration": 194,
    "start_time": "2023-08-04T13:16:41.022Z"
   },
   {
    "duration": 35,
    "start_time": "2023-08-04T13:16:41.218Z"
   },
   {
    "duration": 5,
    "start_time": "2023-08-04T13:16:41.256Z"
   },
   {
    "duration": 11,
    "start_time": "2023-08-04T13:16:41.263Z"
   },
   {
    "duration": 31,
    "start_time": "2023-08-04T13:16:41.278Z"
   },
   {
    "duration": 29,
    "start_time": "2023-08-04T13:16:41.310Z"
   },
   {
    "duration": 29,
    "start_time": "2023-08-04T13:16:41.340Z"
   },
   {
    "duration": 37,
    "start_time": "2023-08-04T13:16:41.371Z"
   },
   {
    "duration": 25,
    "start_time": "2023-08-04T13:16:41.411Z"
   },
   {
    "duration": 6,
    "start_time": "2023-08-04T13:16:41.438Z"
   },
   {
    "duration": 13,
    "start_time": "2023-08-04T13:16:41.446Z"
   },
   {
    "duration": 20,
    "start_time": "2023-08-04T13:16:41.463Z"
   },
   {
    "duration": 42,
    "start_time": "2023-08-04T13:16:41.486Z"
   },
   {
    "duration": 41,
    "start_time": "2023-08-04T13:16:41.530Z"
   },
   {
    "duration": 4,
    "start_time": "2023-08-04T13:16:41.573Z"
   },
   {
    "duration": 18,
    "start_time": "2023-08-04T13:16:41.580Z"
   },
   {
    "duration": 6,
    "start_time": "2023-08-04T13:16:41.600Z"
   },
   {
    "duration": 11,
    "start_time": "2023-08-04T13:16:41.607Z"
   },
   {
    "duration": 139,
    "start_time": "2023-08-04T13:16:41.619Z"
   },
   {
    "duration": 173643,
    "start_time": "2023-08-04T13:16:41.764Z"
   },
   {
    "duration": 743,
    "start_time": "2023-08-04T13:19:35.410Z"
   },
   {
    "duration": 20,
    "start_time": "2023-08-04T13:19:36.154Z"
   },
   {
    "duration": 188,
    "start_time": "2023-08-04T13:19:36.178Z"
   },
   {
    "duration": 17,
    "start_time": "2023-08-04T13:19:36.368Z"
   },
   {
    "duration": 1467,
    "start_time": "2023-08-04T13:19:36.394Z"
   },
   {
    "duration": 53,
    "start_time": "2023-08-04T13:19:37.864Z"
   },
   {
    "duration": 7,
    "start_time": "2023-08-04T13:19:37.923Z"
   },
   {
    "duration": 801,
    "start_time": "2023-08-04T13:19:37.933Z"
   },
   {
    "duration": 62,
    "start_time": "2023-08-04T13:19:38.736Z"
   },
   {
    "duration": 132,
    "start_time": "2023-08-04T13:19:38.864Z"
   },
   {
    "duration": 6,
    "start_time": "2023-08-04T13:19:38.998Z"
   },
   {
    "duration": 13,
    "start_time": "2023-08-04T13:19:39.008Z"
   },
   {
    "duration": 986,
    "start_time": "2023-08-04T13:19:39.022Z"
   },
   {
    "duration": 164,
    "start_time": "2023-08-04T13:19:40.010Z"
   },
   {
    "duration": 149,
    "start_time": "2023-08-04T13:19:40.176Z"
   },
   {
    "duration": 5,
    "start_time": "2023-08-04T13:19:40.327Z"
   },
   {
    "duration": 35,
    "start_time": "2023-08-04T13:19:40.334Z"
   },
   {
    "duration": 409,
    "start_time": "2023-08-04T13:19:40.374Z"
   },
   {
    "duration": 95,
    "start_time": "2023-08-04T13:19:40.784Z"
   },
   {
    "duration": 108,
    "start_time": "2023-08-04T13:19:40.881Z"
   },
   {
    "duration": 6,
    "start_time": "2023-08-04T13:19:40.990Z"
   },
   {
    "duration": 15,
    "start_time": "2023-08-04T13:19:40.997Z"
   },
   {
    "duration": 13,
    "start_time": "2023-08-04T13:19:41.013Z"
   },
   {
    "duration": 1261,
    "start_time": "2023-08-04T13:19:41.027Z"
   },
   {
    "duration": 131,
    "start_time": "2023-08-04T13:19:42.290Z"
   },
   {
    "duration": 2198,
    "start_time": "2023-08-04T13:31:42.383Z"
   },
   {
    "duration": 80,
    "start_time": "2023-08-04T13:31:44.584Z"
   },
   {
    "duration": 38,
    "start_time": "2023-08-04T13:31:44.666Z"
   },
   {
    "duration": 4,
    "start_time": "2023-08-04T13:31:44.705Z"
   },
   {
    "duration": 41,
    "start_time": "2023-08-04T13:31:44.711Z"
   },
   {
    "duration": 35,
    "start_time": "2023-08-04T13:31:44.753Z"
   },
   {
    "duration": 44,
    "start_time": "2023-08-04T13:31:44.790Z"
   },
   {
    "duration": 43,
    "start_time": "2023-08-04T13:31:44.835Z"
   },
   {
    "duration": 32,
    "start_time": "2023-08-04T13:31:44.880Z"
   },
   {
    "duration": 35,
    "start_time": "2023-08-04T13:31:44.913Z"
   },
   {
    "duration": 32,
    "start_time": "2023-08-04T13:31:44.949Z"
   },
   {
    "duration": 49,
    "start_time": "2023-08-04T13:31:44.983Z"
   },
   {
    "duration": 73,
    "start_time": "2023-08-04T13:31:45.034Z"
   },
   {
    "duration": 69,
    "start_time": "2023-08-04T13:31:45.110Z"
   },
   {
    "duration": 55,
    "start_time": "2023-08-04T13:31:45.182Z"
   },
   {
    "duration": 47,
    "start_time": "2023-08-04T13:31:45.239Z"
   },
   {
    "duration": 28,
    "start_time": "2023-08-04T13:31:45.288Z"
   },
   {
    "duration": 30,
    "start_time": "2023-08-04T13:31:45.318Z"
   },
   {
    "duration": 50,
    "start_time": "2023-08-04T13:31:45.350Z"
   },
   {
    "duration": 138,
    "start_time": "2023-08-04T13:31:45.402Z"
   },
   {
    "duration": 136417,
    "start_time": "2023-08-04T13:31:45.541Z"
   },
   {
    "duration": 629,
    "start_time": "2023-08-04T13:34:01.959Z"
   },
   {
    "duration": 5,
    "start_time": "2023-08-04T13:34:02.590Z"
   },
   {
    "duration": 92,
    "start_time": "2023-08-04T13:34:02.596Z"
   },
   {
    "duration": 98,
    "start_time": "2023-08-04T13:34:02.690Z"
   },
   {
    "duration": 1257,
    "start_time": "2023-08-04T13:34:02.790Z"
   },
   {
    "duration": 41,
    "start_time": "2023-08-04T13:34:04.049Z"
   },
   {
    "duration": 5,
    "start_time": "2023-08-04T13:34:04.092Z"
   },
   {
    "duration": 637,
    "start_time": "2023-08-04T13:34:04.099Z"
   },
   {
    "duration": 152,
    "start_time": "2023-08-04T13:34:04.737Z"
   },
   {
    "duration": 128,
    "start_time": "2023-08-04T13:34:04.892Z"
   },
   {
    "duration": 4,
    "start_time": "2023-08-04T13:34:05.022Z"
   },
   {
    "duration": 27,
    "start_time": "2023-08-04T13:34:05.028Z"
   },
   {
    "duration": 874,
    "start_time": "2023-08-04T13:34:05.057Z"
   },
   {
    "duration": 162,
    "start_time": "2023-08-04T13:34:05.933Z"
   },
   {
    "duration": 145,
    "start_time": "2023-08-04T13:34:06.099Z"
   },
   {
    "duration": 5,
    "start_time": "2023-08-04T13:34:06.245Z"
   },
   {
    "duration": 46,
    "start_time": "2023-08-04T13:34:06.252Z"
   },
   {
    "duration": 464,
    "start_time": "2023-08-04T13:34:06.300Z"
   },
   {
    "duration": 125,
    "start_time": "2023-08-04T13:34:06.766Z"
   },
   {
    "duration": 134,
    "start_time": "2023-08-04T13:34:06.896Z"
   },
   {
    "duration": 7,
    "start_time": "2023-08-04T13:34:07.032Z"
   },
   {
    "duration": 36,
    "start_time": "2023-08-04T13:34:07.040Z"
   },
   {
    "duration": 70,
    "start_time": "2023-08-04T13:34:07.077Z"
   },
   {
    "duration": 1163,
    "start_time": "2023-08-04T13:34:07.148Z"
   },
   {
    "duration": 119,
    "start_time": "2023-08-04T13:34:08.313Z"
   },
   {
    "duration": 3,
    "start_time": "2023-08-04T14:02:41.606Z"
   },
   {
    "duration": 154,
    "start_time": "2023-08-04T14:05:37.653Z"
   },
   {
    "duration": 4,
    "start_time": "2023-08-04T14:05:42.096Z"
   },
   {
    "duration": 40,
    "start_time": "2023-08-04T14:05:43.400Z"
   },
   {
    "duration": 31,
    "start_time": "2023-08-04T14:05:43.782Z"
   },
   {
    "duration": 15,
    "start_time": "2023-08-04T14:05:44.144Z"
   },
   {
    "duration": 9,
    "start_time": "2023-08-04T14:06:08.484Z"
   },
   {
    "duration": 28,
    "start_time": "2023-08-04T14:06:23.313Z"
   },
   {
    "duration": 8225,
    "start_time": "2023-08-04T14:41:52.864Z"
   },
   {
    "duration": 2225,
    "start_time": "2023-08-04T14:42:24.295Z"
   },
   {
    "duration": 1224,
    "start_time": "2023-08-04T14:42:26.522Z"
   },
   {
    "duration": 55,
    "start_time": "2023-08-04T14:42:27.748Z"
   },
   {
    "duration": 45,
    "start_time": "2023-08-04T14:42:27.807Z"
   },
   {
    "duration": 7,
    "start_time": "2023-08-04T14:42:27.853Z"
   },
   {
    "duration": 52,
    "start_time": "2023-08-04T14:42:27.861Z"
   },
   {
    "duration": 5,
    "start_time": "2023-08-04T14:42:27.916Z"
   },
   {
    "duration": 45,
    "start_time": "2023-08-04T14:42:27.923Z"
   },
   {
    "duration": 27,
    "start_time": "2023-08-04T14:42:27.970Z"
   },
   {
    "duration": 27,
    "start_time": "2023-08-04T14:42:28.001Z"
   },
   {
    "duration": 60,
    "start_time": "2023-08-04T14:42:28.030Z"
   },
   {
    "duration": 22,
    "start_time": "2023-08-04T14:42:28.092Z"
   },
   {
    "duration": 33,
    "start_time": "2023-08-04T14:42:28.116Z"
   },
   {
    "duration": 22,
    "start_time": "2023-08-04T14:42:28.152Z"
   },
   {
    "duration": 33,
    "start_time": "2023-08-04T14:42:28.176Z"
   },
   {
    "duration": 16,
    "start_time": "2023-08-04T14:42:28.211Z"
   },
   {
    "duration": 22,
    "start_time": "2023-08-04T14:42:28.229Z"
   },
   {
    "duration": 16,
    "start_time": "2023-08-04T14:42:28.253Z"
   },
   {
    "duration": 25,
    "start_time": "2023-08-04T14:42:28.271Z"
   },
   {
    "duration": 21,
    "start_time": "2023-08-04T14:42:28.299Z"
   },
   {
    "duration": 150,
    "start_time": "2023-08-04T14:42:28.322Z"
   },
   {
    "duration": 154,
    "start_time": "2023-08-04T14:42:28.473Z"
   },
   {
    "duration": 0,
    "start_time": "2023-08-04T14:42:28.629Z"
   },
   {
    "duration": 0,
    "start_time": "2023-08-04T14:42:28.631Z"
   },
   {
    "duration": 1,
    "start_time": "2023-08-04T14:42:28.632Z"
   },
   {
    "duration": 0,
    "start_time": "2023-08-04T14:42:28.634Z"
   },
   {
    "duration": 0,
    "start_time": "2023-08-04T14:42:28.634Z"
   },
   {
    "duration": 0,
    "start_time": "2023-08-04T14:42:28.636Z"
   },
   {
    "duration": 0,
    "start_time": "2023-08-04T14:42:28.637Z"
   },
   {
    "duration": 0,
    "start_time": "2023-08-04T14:42:28.638Z"
   },
   {
    "duration": 0,
    "start_time": "2023-08-04T14:42:28.640Z"
   },
   {
    "duration": 0,
    "start_time": "2023-08-04T14:42:28.660Z"
   },
   {
    "duration": 0,
    "start_time": "2023-08-04T14:42:28.661Z"
   },
   {
    "duration": 0,
    "start_time": "2023-08-04T14:42:28.662Z"
   },
   {
    "duration": 0,
    "start_time": "2023-08-04T14:42:28.663Z"
   },
   {
    "duration": 0,
    "start_time": "2023-08-04T14:42:28.664Z"
   },
   {
    "duration": 0,
    "start_time": "2023-08-04T14:42:28.664Z"
   },
   {
    "duration": 0,
    "start_time": "2023-08-04T14:42:28.665Z"
   },
   {
    "duration": 0,
    "start_time": "2023-08-04T14:42:28.666Z"
   },
   {
    "duration": 0,
    "start_time": "2023-08-04T14:42:28.667Z"
   },
   {
    "duration": 0,
    "start_time": "2023-08-04T14:42:28.667Z"
   },
   {
    "duration": 0,
    "start_time": "2023-08-04T14:42:28.668Z"
   },
   {
    "duration": 0,
    "start_time": "2023-08-04T14:42:28.669Z"
   },
   {
    "duration": 0,
    "start_time": "2023-08-04T14:42:28.670Z"
   },
   {
    "duration": 0,
    "start_time": "2023-08-04T14:42:28.671Z"
   },
   {
    "duration": 0,
    "start_time": "2023-08-04T14:42:28.672Z"
   },
   {
    "duration": 0,
    "start_time": "2023-08-04T14:42:28.673Z"
   },
   {
    "duration": 28,
    "start_time": "2023-08-04T14:44:28.868Z"
   },
   {
    "duration": 10,
    "start_time": "2023-08-04T14:48:03.142Z"
   },
   {
    "duration": 113,
    "start_time": "2023-08-04T14:48:35.274Z"
   },
   {
    "duration": 5,
    "start_time": "2023-08-04T14:48:41.371Z"
   },
   {
    "duration": 25,
    "start_time": "2023-08-04T14:48:47.417Z"
   },
   {
    "duration": 19,
    "start_time": "2023-08-04T14:51:18.669Z"
   },
   {
    "duration": 26,
    "start_time": "2023-08-04T14:51:55.287Z"
   },
   {
    "duration": 28,
    "start_time": "2023-08-04T14:52:03.290Z"
   },
   {
    "duration": 26,
    "start_time": "2023-08-04T14:52:06.374Z"
   },
   {
    "duration": 24,
    "start_time": "2023-08-04T14:52:24.888Z"
   },
   {
    "duration": 19,
    "start_time": "2023-08-04T14:52:41.595Z"
   },
   {
    "duration": 35,
    "start_time": "2023-08-04T14:52:46.241Z"
   },
   {
    "duration": 26,
    "start_time": "2023-08-04T14:52:56.145Z"
   },
   {
    "duration": 2353,
    "start_time": "2023-08-04T14:56:00.810Z"
   },
   {
    "duration": 1348,
    "start_time": "2023-08-04T14:56:03.165Z"
   },
   {
    "duration": 43,
    "start_time": "2023-08-04T14:56:04.515Z"
   },
   {
    "duration": 43,
    "start_time": "2023-08-04T14:56:04.571Z"
   },
   {
    "duration": 6,
    "start_time": "2023-08-04T14:56:04.616Z"
   },
   {
    "duration": 46,
    "start_time": "2023-08-04T14:56:04.624Z"
   },
   {
    "duration": 5,
    "start_time": "2023-08-04T14:56:04.672Z"
   },
   {
    "duration": 28,
    "start_time": "2023-08-04T14:56:04.678Z"
   },
   {
    "duration": 18,
    "start_time": "2023-08-04T14:56:04.708Z"
   },
   {
    "duration": 39,
    "start_time": "2023-08-04T14:56:04.728Z"
   },
   {
    "duration": 16,
    "start_time": "2023-08-04T14:56:04.769Z"
   },
   {
    "duration": 10,
    "start_time": "2023-08-04T14:56:04.786Z"
   },
   {
    "duration": 8,
    "start_time": "2023-08-04T14:56:04.798Z"
   },
   {
    "duration": 8,
    "start_time": "2023-08-04T14:56:04.808Z"
   },
   {
    "duration": 5,
    "start_time": "2023-08-04T14:56:04.818Z"
   },
   {
    "duration": 5,
    "start_time": "2023-08-04T14:56:04.824Z"
   },
   {
    "duration": 5,
    "start_time": "2023-08-04T14:56:04.831Z"
   },
   {
    "duration": 34,
    "start_time": "2023-08-04T14:56:04.837Z"
   },
   {
    "duration": 36,
    "start_time": "2023-08-04T14:56:04.880Z"
   },
   {
    "duration": 17,
    "start_time": "2023-08-04T14:56:04.918Z"
   },
   {
    "duration": 16,
    "start_time": "2023-08-04T14:56:04.937Z"
   },
   {
    "duration": 142,
    "start_time": "2023-08-04T14:56:04.955Z"
   },
   {
    "duration": 158070,
    "start_time": "2023-08-04T14:56:05.099Z"
   },
   {
    "duration": 698,
    "start_time": "2023-08-04T14:58:43.171Z"
   },
   {
    "duration": 14,
    "start_time": "2023-08-04T14:58:43.880Z"
   },
   {
    "duration": 61,
    "start_time": "2023-08-04T14:58:43.899Z"
   },
   {
    "duration": 15,
    "start_time": "2023-08-04T14:58:43.964Z"
   },
   {
    "duration": 1529,
    "start_time": "2023-08-04T14:58:43.989Z"
   },
   {
    "duration": 58,
    "start_time": "2023-08-04T14:58:45.520Z"
   },
   {
    "duration": 10,
    "start_time": "2023-08-04T14:58:45.579Z"
   },
   {
    "duration": 713,
    "start_time": "2023-08-04T14:58:45.592Z"
   },
   {
    "duration": 82,
    "start_time": "2023-08-04T14:58:46.307Z"
   },
   {
    "duration": 144,
    "start_time": "2023-08-04T14:58:46.390Z"
   },
   {
    "duration": 4,
    "start_time": "2023-08-04T14:58:46.536Z"
   },
   {
    "duration": 67,
    "start_time": "2023-08-04T14:58:46.542Z"
   },
   {
    "duration": 970,
    "start_time": "2023-08-04T14:58:46.611Z"
   },
   {
    "duration": 87,
    "start_time": "2023-08-04T14:58:47.585Z"
   },
   {
    "duration": 142,
    "start_time": "2023-08-04T14:58:47.677Z"
   },
   {
    "duration": 4,
    "start_time": "2023-08-04T14:58:47.821Z"
   },
   {
    "duration": 14,
    "start_time": "2023-08-04T14:58:47.827Z"
   },
   {
    "duration": 438,
    "start_time": "2023-08-04T14:58:47.842Z"
   },
   {
    "duration": 85,
    "start_time": "2023-08-04T14:58:48.287Z"
   },
   {
    "duration": 126,
    "start_time": "2023-08-04T14:58:48.373Z"
   },
   {
    "duration": 5,
    "start_time": "2023-08-04T14:58:48.501Z"
   },
   {
    "duration": 5,
    "start_time": "2023-08-04T14:58:48.508Z"
   },
   {
    "duration": 12,
    "start_time": "2023-08-04T14:58:48.514Z"
   },
   {
    "duration": 1311,
    "start_time": "2023-08-04T14:58:48.528Z"
   },
   {
    "duration": 155,
    "start_time": "2023-08-04T14:58:49.841Z"
   },
   {
    "duration": 158899,
    "start_time": "2023-08-04T15:02:38.975Z"
   },
   {
    "duration": 1493,
    "start_time": "2023-08-04T15:07:58.727Z"
   },
   {
    "duration": 123675,
    "start_time": "2023-08-04T15:11:24.217Z"
   },
   {
    "duration": 5,
    "start_time": "2023-08-04T15:13:32.193Z"
   },
   {
    "duration": 13,
    "start_time": "2023-08-04T15:13:33.024Z"
   },
   {
    "duration": 14,
    "start_time": "2023-08-04T15:13:46.044Z"
   },
   {
    "duration": 210832,
    "start_time": "2023-08-04T15:13:48.276Z"
   },
   {
    "duration": 998,
    "start_time": "2023-08-04T15:17:19.111Z"
   },
   {
    "duration": 156,
    "start_time": "2023-08-04T15:17:20.111Z"
   },
   {
    "duration": 1821,
    "start_time": "2023-08-04T15:17:20.273Z"
   },
   {
    "duration": 51,
    "start_time": "2023-08-04T15:17:22.097Z"
   },
   {
    "duration": 5,
    "start_time": "2023-08-04T15:19:36.494Z"
   },
   {
    "duration": 20,
    "start_time": "2023-08-04T15:19:36.857Z"
   },
   {
    "duration": 81716,
    "start_time": "2023-08-04T15:19:38.222Z"
   },
   {
    "duration": 435,
    "start_time": "2023-08-04T15:20:59.940Z"
   },
   {
    "duration": 89,
    "start_time": "2023-08-04T15:21:00.377Z"
   },
   {
    "duration": 811,
    "start_time": "2023-08-04T15:21:00.471Z"
   },
   {
    "duration": 29,
    "start_time": "2023-08-04T15:21:01.289Z"
   },
   {
    "duration": 5,
    "start_time": "2023-08-04T15:23:07.076Z"
   },
   {
    "duration": 4,
    "start_time": "2023-08-04T15:23:07.748Z"
   },
   {
    "duration": 14,
    "start_time": "2023-08-04T15:23:08.203Z"
   },
   {
    "duration": 1164,
    "start_time": "2023-08-04T15:23:09.008Z"
   },
   {
    "duration": 122,
    "start_time": "2023-08-04T15:23:16.713Z"
   }
  ],
  "kernelspec": {
   "display_name": "Python 3 (ipykernel)",
   "language": "python",
   "name": "python3"
  },
  "language_info": {
   "codemirror_mode": {
    "name": "ipython",
    "version": 3
   },
   "file_extension": ".py",
   "mimetype": "text/x-python",
   "name": "python",
   "nbconvert_exporter": "python",
   "pygments_lexer": "ipython3",
   "version": "3.9.18"
  },
  "toc": {
   "base_numbering": 1,
   "nav_menu": {},
   "number_sections": true,
   "sideBar": true,
   "skip_h1_title": true,
   "title_cell": "Содержание",
   "title_sidebar": "Contents",
   "toc_cell": true,
   "toc_position": {
    "height": "calc(100% - 180px)",
    "left": "10px",
    "top": "150px",
    "width": "165px"
   },
   "toc_section_display": true,
   "toc_window_display": false
  }
 },
 "nbformat": 4,
 "nbformat_minor": 4
}
